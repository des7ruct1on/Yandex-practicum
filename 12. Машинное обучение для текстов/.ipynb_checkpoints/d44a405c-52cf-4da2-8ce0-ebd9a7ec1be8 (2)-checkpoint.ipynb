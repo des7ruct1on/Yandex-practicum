{
 "cells": [
  {
   "cell_type": "markdown",
   "metadata": {},
   "source": [
    "<img src=\"http://s3.amazonaws.com/pix.iemoji.com/images/emoji/apple/ios-12/256/waving-hand.png\" align=left width=44, heigth=44>\n",
    "<div class=\"alert alert-info\">\n",
    "<b> Комментарий ревьюера</b>\n",
    "\n",
    "\n",
    "Привет, Иван! Давай знакомиться! Меня зовут Дмитрий Махортов, и я буду проверять твой проект. Сразу предлагаю общение на «ты» 🙂, но если тебе это не комфортно, то дай знать, и мы перейдем на «вы». \n",
    "\n",
    "Моя основная цель — не указать на совершенные тобою ошибки, а поделиться своим опытом и помочь тебе погрузиться в увлекательный мир работы с данными и вырасти в крепкого профи. Это отдаленная цель. А ближайшая - сделать твою работу еще лучше )).\n",
    "   \n",
    "    \n",
    "Все ключевые этапы в работе выполнены, и я вижу что с проектом ты справшяешься. Есть моменты, которые нужно доработать, но я уверен, у тебя все получится.\n",
    "        \n",
    "Расскажу как обычно проходит проверка:    \n",
    "Бывают моменты, которые требуют пристального внимания. Комментарии по ним выделены <span style='background-color:#F7B3A4'> красным цветом </span> и обозначены значком 🛑. После их доработки проект будет принят.  🙂\n",
    " \n",
    "<span style='background-color:#B7EBA7'> Зеленым цветом </span> и значком ✅ отмечены удачные и элегантные решения, на которые можно опираться в будущих проектах. Или советы «со звездочкой», которые помогут тебе в будущем.\n",
    "\n",
    "<span style='background-color:#F9EDA6'>Жёлтым цветом </span> и значком ⚠️ выделено то, что в следующий раз можно сделать по-другому. Ты можешь учесть эти комментарии при выполнении будущих заданий или доработать проект сейчас (однако это не обязательно).\n",
    "\n",
    "Давай работать над проектом в диалоге: **если ты что-то меняешь в проекте по моим рекомендациям — пиши об этом**. Выбери для своих комментариев какой-то заметный цвет, так мне будет легче отследить изменения. Пожалуйста, **не перемещай, не изменяй и не удаляй мои комментарии**. Всё это поможет выполнить повторную проверку твоего проекта оперативнее. \n",
    "</div>"
   ]
  },
  {
   "cell_type": "markdown",
   "metadata": {},
   "source": [
    "<div class=\"alert\" style=\"background-color:#ead7f7;color:#8737bf\">\n",
    "    <font size=\"3\"><b>образец комментария студента</b></font>\n",
    "   \n",
    "Можешь использовать этот комментарий. Просто удали этот текст и вместо него напиши свой 🙂\n",
    "\n",
    "</div>"
   ]
  },
  {
   "cell_type": "markdown",
   "metadata": {
    "toc": true
   },
   "source": [
    "<h1>Содержание<span class=\"tocSkip\"></span></h1>\n",
    "<div class=\"toc\"><ul class=\"toc-item\"><li><span><a href=\"#Подготовка\" data-toc-modified-id=\"Подготовка-1\"><span class=\"toc-item-num\">1&nbsp;&nbsp;</span>Подготовка</a></span><ul class=\"toc-item\"><li><span><a href=\"#Вывод-по-подготовке\" data-toc-modified-id=\"Вывод-по-подготовке-1.1\"><span class=\"toc-item-num\">1.1&nbsp;&nbsp;</span>Вывод по подготовке</a></span></li></ul></li><li><span><a href=\"#Обучение\" data-toc-modified-id=\"Обучение-2\"><span class=\"toc-item-num\">2&nbsp;&nbsp;</span>Обучение</a></span></li><li><span><a href=\"#Выводы\" data-toc-modified-id=\"Выводы-3\"><span class=\"toc-item-num\">3&nbsp;&nbsp;</span>Выводы</a></span><ul class=\"toc-item\"><li><span><a href=\"#Вывод-по-подготовке\" data-toc-modified-id=\"Вывод-по-подготовке-3.1\"><span class=\"toc-item-num\">3.1&nbsp;&nbsp;</span>Вывод по подготовке</a></span></li></ul></li><li><span><a href=\"#Чек-лист-проверки\" data-toc-modified-id=\"Чек-лист-проверки-4\"><span class=\"toc-item-num\">4&nbsp;&nbsp;</span>Чек-лист проверки</a></span></li></ul></div>"
   ]
  },
  {
   "cell_type": "markdown",
   "metadata": {},
   "source": [
    "# Проект для «Викишоп»"
   ]
  },
  {
   "cell_type": "markdown",
   "metadata": {},
   "source": [
    "Интернет-магазин «Викишоп» запускает новый сервис. Теперь пользователи могут редактировать и дополнять описания товаров, как в вики-сообществах. То есть клиенты предлагают свои правки и комментируют изменения других. Магазину нужен инструмент, который будет искать токсичные комментарии и отправлять их на модерацию. \n",
    "\n",
    "Обучите модель классифицировать комментарии на позитивные и негативные. В вашем распоряжении набор данных с разметкой о токсичности правок.\n",
    "\n",
    "Постройте модель со значением метрики качества *F1* не меньше 0.75. \n",
    "\n",
    "**Инструкция по выполнению проекта**\n",
    "\n",
    "1. Загрузите и подготовьте данные.\n",
    "2. Обучите разные модели. \n",
    "3. Сделайте выводы.\n",
    "\n",
    "Для выполнения проекта применять *BERT* необязательно, но вы можете попробовать.\n",
    "\n",
    "**Описание данных**\n",
    "\n",
    "Данные находятся в файле `toxic_comments.csv`. Столбец *text* в нём содержит текст комментария, а *toxic* — целевой признак."
   ]
  },
  {
   "cell_type": "code",
   "execution_count": 1,
   "metadata": {},
   "outputs": [],
   "source": [
    "import pandas as pd\n",
    "from sklearn.metrics import f1_score\n",
    "from sklearn.model_selection import train_test_split, GridSearchCV\n",
    "from sklearn.feature_extraction.text import TfidfVectorizer\n",
    "from sklearn.linear_model import LogisticRegression\n",
    "from sklearn.tree import DecisionTreeClassifier\n",
    "from nltk.corpus import stopwords\n",
    "from nltk.stem import WordNetLemmatizer\n",
    "from nltk.tokenize import word_tokenize\n",
    "from nltk.corpus import wordnet\n",
    "from nltk import pos_tag\n",
    "from tqdm.notebook import tqdm\n",
    "import numpy as np\n",
    "import nltk\n",
    "import re\n",
    "RANDOM_STATE = 42"
   ]
  },
  {
   "cell_type": "markdown",
   "metadata": {},
   "source": [
    "<img src=\"https://emojigraph.org/media/apple/check-mark-button_2705.png\" align=left width=33, heigth=33>\n",
    "<div class=\"alert alert-success\">\n",
    "Отлично, все нужные библиотеки импортированы в начале ноутбука.Это хорошая практика.</div>"
   ]
  },
  {
   "cell_type": "markdown",
   "metadata": {},
   "source": [
    "<img src=\"https://upload.wikimedia.org/wikipedia/commons/b/ba/Warning_sign_4.0.png\" align=left width=44, heigth=33>\n",
    "<div class=\"alert alert-warning\">\n",
    "Но вот лишние импоры лучше убрать, поберечь ресурсы</div>"
   ]
  },
  {
   "cell_type": "markdown",
   "metadata": {},
   "source": [
    "## Подготовка"
   ]
  },
  {
   "cell_type": "code",
   "execution_count": 2,
   "metadata": {},
   "outputs": [],
   "source": [
    "try:\n",
    "    data = pd.read_csv('toxic_comments.csv')\n",
    "except:\n",
    "    data = pd.read_csv('/datasets/toxic_comments.csv')"
   ]
  },
  {
   "cell_type": "code",
   "execution_count": 3,
   "metadata": {},
   "outputs": [
    {
     "data": {
      "text/html": [
       "<div>\n",
       "<style scoped>\n",
       "    .dataframe tbody tr th:only-of-type {\n",
       "        vertical-align: middle;\n",
       "    }\n",
       "\n",
       "    .dataframe tbody tr th {\n",
       "        vertical-align: top;\n",
       "    }\n",
       "\n",
       "    .dataframe thead th {\n",
       "        text-align: right;\n",
       "    }\n",
       "</style>\n",
       "<table border=\"1\" class=\"dataframe\">\n",
       "  <thead>\n",
       "    <tr style=\"text-align: right;\">\n",
       "      <th></th>\n",
       "      <th>Unnamed: 0</th>\n",
       "      <th>text</th>\n",
       "      <th>toxic</th>\n",
       "    </tr>\n",
       "  </thead>\n",
       "  <tbody>\n",
       "    <tr>\n",
       "      <th>0</th>\n",
       "      <td>0</td>\n",
       "      <td>Explanation\\nWhy the edits made under my usern...</td>\n",
       "      <td>0</td>\n",
       "    </tr>\n",
       "    <tr>\n",
       "      <th>1</th>\n",
       "      <td>1</td>\n",
       "      <td>D'aww! He matches this background colour I'm s...</td>\n",
       "      <td>0</td>\n",
       "    </tr>\n",
       "    <tr>\n",
       "      <th>2</th>\n",
       "      <td>2</td>\n",
       "      <td>Hey man, I'm really not trying to edit war. It...</td>\n",
       "      <td>0</td>\n",
       "    </tr>\n",
       "    <tr>\n",
       "      <th>3</th>\n",
       "      <td>3</td>\n",
       "      <td>\"\\nMore\\nI can't make any real suggestions on ...</td>\n",
       "      <td>0</td>\n",
       "    </tr>\n",
       "    <tr>\n",
       "      <th>4</th>\n",
       "      <td>4</td>\n",
       "      <td>You, sir, are my hero. Any chance you remember...</td>\n",
       "      <td>0</td>\n",
       "    </tr>\n",
       "  </tbody>\n",
       "</table>\n",
       "</div>"
      ],
      "text/plain": [
       "   Unnamed: 0                                               text  toxic\n",
       "0           0  Explanation\\nWhy the edits made under my usern...      0\n",
       "1           1  D'aww! He matches this background colour I'm s...      0\n",
       "2           2  Hey man, I'm really not trying to edit war. It...      0\n",
       "3           3  \"\\nMore\\nI can't make any real suggestions on ...      0\n",
       "4           4  You, sir, are my hero. Any chance you remember...      0"
      ]
     },
     "execution_count": 3,
     "metadata": {},
     "output_type": "execute_result"
    }
   ],
   "source": [
    "data.head(5)"
   ]
  },
  {
   "cell_type": "markdown",
   "metadata": {},
   "source": [
    "После загрузки мы видим 3 столбца: неизвестный, текст, показатель токсичности"
   ]
  },
  {
   "cell_type": "code",
   "execution_count": 4,
   "metadata": {},
   "outputs": [
    {
     "data": {
      "text/plain": [
       "Unnamed: 0    0\n",
       "text          0\n",
       "toxic         0\n",
       "dtype: int64"
      ]
     },
     "execution_count": 4,
     "metadata": {},
     "output_type": "execute_result"
    }
   ],
   "source": [
    "data.isna().sum()"
   ]
  },
  {
   "cell_type": "markdown",
   "metadata": {},
   "source": [
    "Пропусков в данных не обнаружено"
   ]
  },
  {
   "cell_type": "code",
   "execution_count": 5,
   "metadata": {},
   "outputs": [
    {
     "data": {
      "text/plain": [
       "0"
      ]
     },
     "execution_count": 5,
     "metadata": {},
     "output_type": "execute_result"
    }
   ],
   "source": [
    "data.duplicated().sum()"
   ]
  },
  {
   "cell_type": "markdown",
   "metadata": {},
   "source": [
    "Дубликатов в данных не обнаружено"
   ]
  },
  {
   "cell_type": "markdown",
   "metadata": {},
   "source": [
    "<img src=\"https://emojigraph.org/media/apple/check-mark-button_2705.png\" align=left width=33, heigth=33>\n",
    "<div class=\"alert alert-success\">\n",
    "Данные загружены и исследованы.</div>"
   ]
  },
  {
   "cell_type": "code",
   "execution_count": 7,
   "metadata": {},
   "outputs": [
    {
     "data": {
      "text/html": [
       "<div>\n",
       "<style scoped>\n",
       "    .dataframe tbody tr th:only-of-type {\n",
       "        vertical-align: middle;\n",
       "    }\n",
       "\n",
       "    .dataframe tbody tr th {\n",
       "        vertical-align: top;\n",
       "    }\n",
       "\n",
       "    .dataframe thead th {\n",
       "        text-align: right;\n",
       "    }\n",
       "</style>\n",
       "<table border=\"1\" class=\"dataframe\">\n",
       "  <thead>\n",
       "    <tr style=\"text-align: right;\">\n",
       "      <th></th>\n",
       "      <th>text</th>\n",
       "      <th>toxic</th>\n",
       "    </tr>\n",
       "  </thead>\n",
       "  <tbody>\n",
       "    <tr>\n",
       "      <th>0</th>\n",
       "      <td>Explanation\\nWhy the edits made under my usern...</td>\n",
       "      <td>0</td>\n",
       "    </tr>\n",
       "    <tr>\n",
       "      <th>1</th>\n",
       "      <td>D'aww! He matches this background colour I'm s...</td>\n",
       "      <td>0</td>\n",
       "    </tr>\n",
       "    <tr>\n",
       "      <th>2</th>\n",
       "      <td>Hey man, I'm really not trying to edit war. It...</td>\n",
       "      <td>0</td>\n",
       "    </tr>\n",
       "    <tr>\n",
       "      <th>3</th>\n",
       "      <td>\"\\nMore\\nI can't make any real suggestions on ...</td>\n",
       "      <td>0</td>\n",
       "    </tr>\n",
       "    <tr>\n",
       "      <th>4</th>\n",
       "      <td>You, sir, are my hero. Any chance you remember...</td>\n",
       "      <td>0</td>\n",
       "    </tr>\n",
       "  </tbody>\n",
       "</table>\n",
       "</div>"
      ],
      "text/plain": [
       "                                                text  toxic\n",
       "0  Explanation\\nWhy the edits made under my usern...      0\n",
       "1  D'aww! He matches this background colour I'm s...      0\n",
       "2  Hey man, I'm really not trying to edit war. It...      0\n",
       "3  \"\\nMore\\nI can't make any real suggestions on ...      0\n",
       "4  You, sir, are my hero. Any chance you remember...      0"
      ]
     },
     "execution_count": 7,
     "metadata": {},
     "output_type": "execute_result"
    }
   ],
   "source": [
    "data = data.drop(\"Unnamed: 0\", axis = 1)\n",
    "data.head(5)"
   ]
  },
  {
   "cell_type": "markdown",
   "metadata": {},
   "source": [
    "Выполним лемматизацию текста и удаление ненужных символов"
   ]
  },
  {
   "cell_type": "markdown",
   "metadata": {},
   "source": [
    "<img src=\"https://emojigraph.org/media/apple/check-mark-button_2705.png\" align=left width=33, heigth=33>\n",
    "<div class=\"alert alert-success\">\n",
    "    \n",
    "Да, все верно, столбец `'Unnamed: 0'` можно безболезненно удалить. Это \"старый\" индекс, который похоже забыли при пересохранении датасета.</div>"
   ]
  },
  {
   "cell_type": "code",
   "execution_count": 8,
   "metadata": {},
   "outputs": [],
   "source": [
    "corpus = data['text'].values"
   ]
  },
  {
   "cell_type": "markdown",
   "metadata": {},
   "source": [
    "\n",
    "<img src=\"https://upload.wikimedia.org/wikipedia/commons/thumb/8/81/Stop_sign.png/240px-Stop_sign.png\" align=left width=35, heigth=35>\n",
    "<div class=\"alert alert-danger\">\n",
    "В нашем проекте не нужно (и даже вредно) менять кодировку на unicode. Изменение кодировки увеличивает количество оперативной памяти, необходимой для хранения текстов и может привсти к падению ядра. \n",
    "    \n",
    "В теоретической части мы работали с русскоязычными текстами, поэтому изменение кодировки было обосновано. Но тексты в проекте  написаны латиницей, поэтому вполне достаточно кодировки по умолчанию.</div>\n"
   ]
  },
  {
   "cell_type": "markdown",
   "metadata": {},
   "source": [
    "<img src=\"https://emojigraph.org/media/apple/check-mark-button_2705.png\" align=left width=33, heigth=33>\n",
    "<div class=\"alert alert-success\">\n",
    "    <b>v2</b> исправлено 👍 </div>"
   ]
  },
  {
   "cell_type": "code",
   "execution_count": 9,
   "metadata": {},
   "outputs": [
    {
     "name": "stderr",
     "output_type": "stream",
     "text": [
      "[nltk_data] Downloading package punkt to /home/jovyan/nltk_data...\n",
      "[nltk_data]   Package punkt is already up-to-date!\n",
      "[nltk_data] Downloading package wordnet to /home/jovyan/nltk_data...\n",
      "[nltk_data]   Package wordnet is already up-to-date!\n",
      "[nltk_data] Downloading package averaged_perceptron_tagger to\n",
      "[nltk_data]     /home/jovyan/nltk_data...\n",
      "[nltk_data]   Package averaged_perceptron_tagger is already up-to-\n",
      "[nltk_data]       date!\n"
     ]
    },
    {
     "data": {
      "text/plain": [
       "True"
      ]
     },
     "execution_count": 9,
     "metadata": {},
     "output_type": "execute_result"
    }
   ],
   "source": [
    "nltk.download('punkt')\n",
    "nltk.download('wordnet')\n",
    "nltk.download('averaged_perceptron_tagger')"
   ]
  },
  {
   "cell_type": "code",
   "execution_count": 10,
   "metadata": {},
   "outputs": [],
   "source": [
    "lemmatizer = WordNetLemmatizer()\n",
    "\n",
    "def get_wordnet_pos(tag):\n",
    "    if tag.startswith('J'):\n",
    "        return wordnet.ADJ\n",
    "    elif tag.startswith('V'):\n",
    "        return wordnet.VERB\n",
    "    elif tag.startswith('N'):\n",
    "        return wordnet.NOUN\n",
    "    elif tag.startswith('R'):\n",
    "        return wordnet.ADV\n",
    "    else:\n",
    "        return wordnet.NOUN\n",
    "\n",
    "def lemm_and_clear(text):\n",
    "    tokens = word_tokenize(text)\n",
    "    tagged_tokens = pos_tag(tokens)\n",
    "    lemmas = [lemmatizer.lemmatize(token, get_wordnet_pos(tag)) for token, tag in tagged_tokens]\n",
    "    lemmatized_text = ' '.join(lemmas)\n",
    "    cleaned_text = re.sub(r'[^a-zA-Z\\' ]', '', lemmatized_text)\n",
    "    cleaned_text = cleaned_text.replace('\\n', '')\n",
    "    \n",
    "    return cleaned_text\n",
    "\n",
    "corpus = [lemm_and_clear(text) for text in corpus]"
   ]
  },
  {
   "cell_type": "markdown",
   "metadata": {},
   "source": [
    "<img src=\"https://emojigraph.org/media/apple/check-mark-button_2705.png\" align=left width=33, heigth=33>\n",
    "<div class=\"alert alert-success\">\n",
    "Верно использован WordNetLemmatizer</div>"
   ]
  },
  {
   "cell_type": "markdown",
   "metadata": {},
   "source": [
    "<img src=\"https://upload.wikimedia.org/wikipedia/commons/b/ba/Warning_sign_4.0.png\" align=left width=44, heigth=33>\n",
    "<div class=\"alert alert-warning\">\n",
    "\n",
    "Молодец, что умеешь list comprehatnion, но в нашем случае лучше отказаться от циклов, даже в такой форме.\n",
    "    \n",
    "Гораздо более читаемым выглядит использование apply, и хоть \"под капотом\" там тоже циклы, насколько я понимаю там ищется возможность для оптимизации через векторизацию (используется numba).\n",
    "    \n",
    "    \n",
    "---------------------------------\n",
    "    \n",
    "Правильная лемматизация длится долго... Минут 20-30, в зависимости от мощности компьютера. Гораздо комфортнее видеть прогресс выполнения этой длительной операции, чем сидеть и гадать \"а не зависла ли она\", \"закончит только к утру или через 30 секунд\"? Можно воспользоваться прогресс -баром от tqdm.\n",
    "    \n",
    "     \n",
    "    from tqdm.notebook import tqdm\n",
    "    tqdm.pandas()\n",
    "\n",
    "    data['lemm_text'] = data['text'].progress_apply(lemmafunction)\n",
    "        \n",
    "    \n",
    "    \n",
    "</div>\n",
    "\n"
   ]
  },
  {
   "cell_type": "markdown",
   "metadata": {},
   "source": [
    "После длительной лемматизации текста получаем необходимый набор текстов"
   ]
  },
  {
   "cell_type": "code",
   "execution_count": 11,
   "metadata": {},
   "outputs": [],
   "source": [
    "data['text'] = corpus"
   ]
  },
  {
   "cell_type": "markdown",
   "metadata": {},
   "source": [
    "После лемматизации могли появиться дубликаты, потому удаляем их"
   ]
  },
  {
   "cell_type": "code",
   "execution_count": 12,
   "metadata": {},
   "outputs": [],
   "source": [
    "data = data.drop_duplicates(subset='text')"
   ]
  },
  {
   "cell_type": "code",
   "execution_count": 13,
   "metadata": {},
   "outputs": [],
   "source": [
    "stop_words = set(stopwords.words('english'))"
   ]
  },
  {
   "cell_type": "markdown",
   "metadata": {},
   "source": [
    "Выполним разбивку текста на тренировочную и тестовую выборки"
   ]
  },
  {
   "cell_type": "code",
   "execution_count": 14,
   "metadata": {
    "scrolled": true
   },
   "outputs": [
    {
     "data": {
      "text/html": [
       "<div>\n",
       "<style scoped>\n",
       "    .dataframe tbody tr th:only-of-type {\n",
       "        vertical-align: middle;\n",
       "    }\n",
       "\n",
       "    .dataframe tbody tr th {\n",
       "        vertical-align: top;\n",
       "    }\n",
       "\n",
       "    .dataframe thead th {\n",
       "        text-align: right;\n",
       "    }\n",
       "</style>\n",
       "<table border=\"1\" class=\"dataframe\">\n",
       "  <thead>\n",
       "    <tr style=\"text-align: right;\">\n",
       "      <th></th>\n",
       "      <th>text</th>\n",
       "    </tr>\n",
       "  </thead>\n",
       "  <tbody>\n",
       "    <tr>\n",
       "      <th>46180</th>\n",
       "      <td>I be give advice   '' You may wish to conside...</td>\n",
       "    </tr>\n",
       "    <tr>\n",
       "      <th>115283</th>\n",
       "      <td>photo in  Baghdad Church Attack article Lihaa...</td>\n",
       "    </tr>\n",
       "    <tr>\n",
       "      <th>60948</th>\n",
       "      <td>No problem  Ylee  happen to me all the time  I...</td>\n",
       "    </tr>\n",
       "    <tr>\n",
       "      <th>67085</th>\n",
       "      <td>Wow  way to keep pull StrawMen out o...</td>\n",
       "    </tr>\n",
       "    <tr>\n",
       "      <th>7934</th>\n",
       "      <td>Please do not vandalize page  a you do with t...</td>\n",
       "    </tr>\n",
       "  </tbody>\n",
       "</table>\n",
       "</div>"
      ],
      "text/plain": [
       "                                                     text\n",
       "46180    I be give advice   '' You may wish to conside...\n",
       "115283   photo in  Baghdad Church Attack article Lihaa...\n",
       "60948   No problem  Ylee  happen to me all the time  I...\n",
       "67085             Wow  way to keep pull StrawMen out o...\n",
       "7934     Please do not vandalize page  a you do with t..."
      ]
     },
     "execution_count": 14,
     "metadata": {},
     "output_type": "execute_result"
    }
   ],
   "source": [
    "X = data.drop(\"toxic\", axis = 1)\n",
    "Y = data['toxic']\n",
    "X_train, X_test, y_train, y_test = train_test_split(X, Y, test_size = 0.4, random_state = RANDOM_STATE)\n",
    "X_train.head(5)"
   ]
  },
  {
   "cell_type": "markdown",
   "metadata": {},
   "source": [
    "<img src=\"https://emojigraph.org/media/apple/check-mark-button_2705.png\" align=left width=33, heigth=33>\n",
    "<div class=\"alert alert-success\">\n",
    "    \n",
    "Данные разделены на выборки. Но я бы посоветовал тебе изменить пропорции и выделить на тест 10%. Причина простая - модели, которые мы обучаем чувствительны к объему обучающих данных. Чем больше слов они увидят в процессе обучения, и оценят их вклад в \"токсичность\", тем лучше будут модели. А для корректного тестирования и 10% данных вполне достаточно, учитывая немаленький размер датасета.\n",
    "\n",
    "</div>"
   ]
  },
  {
   "cell_type": "code",
   "execution_count": 16,
   "metadata": {},
   "outputs": [
    {
     "data": {
      "text/html": [
       "<div>\n",
       "<style scoped>\n",
       "    .dataframe tbody tr th:only-of-type {\n",
       "        vertical-align: middle;\n",
       "    }\n",
       "\n",
       "    .dataframe tbody tr th {\n",
       "        vertical-align: top;\n",
       "    }\n",
       "\n",
       "    .dataframe thead th {\n",
       "        text-align: right;\n",
       "    }\n",
       "</style>\n",
       "<table border=\"1\" class=\"dataframe\">\n",
       "  <thead>\n",
       "    <tr style=\"text-align: right;\">\n",
       "      <th></th>\n",
       "      <th>text</th>\n",
       "    </tr>\n",
       "  </thead>\n",
       "  <tbody>\n",
       "    <tr>\n",
       "      <th>46180</th>\n",
       "      <td>I be give advice   '' You may wish to conside...</td>\n",
       "    </tr>\n",
       "    <tr>\n",
       "      <th>115283</th>\n",
       "      <td>photo in  Baghdad Church Attack article Lihaa...</td>\n",
       "    </tr>\n",
       "    <tr>\n",
       "      <th>60948</th>\n",
       "      <td>No problem  Ylee  happen to me all the time  I...</td>\n",
       "    </tr>\n",
       "    <tr>\n",
       "      <th>67085</th>\n",
       "      <td>Wow  way to keep pull StrawMen out o...</td>\n",
       "    </tr>\n",
       "    <tr>\n",
       "      <th>7934</th>\n",
       "      <td>Please do not vandalize page  a you do with t...</td>\n",
       "    </tr>\n",
       "    <tr>\n",
       "      <th>...</th>\n",
       "      <td>...</td>\n",
       "    </tr>\n",
       "    <tr>\n",
       "      <th>120229</th>\n",
       "      <td>I HAVE TO WAIT  MORE FUCKING DAYS  I 'm sick ...</td>\n",
       "    </tr>\n",
       "    <tr>\n",
       "      <th>103971</th>\n",
       "      <td>Actually you know what  I 'm not use this acco...</td>\n",
       "    </tr>\n",
       "    <tr>\n",
       "      <th>132350</th>\n",
       "      <td>Welcome  Hello   and welcome to Wikipedia  Tha...</td>\n",
       "    </tr>\n",
       "    <tr>\n",
       "      <th>147362</th>\n",
       "      <td>DYK nomination of LASNEX Hello  Your submissio...</td>\n",
       "    </tr>\n",
       "    <tr>\n",
       "      <th>122316</th>\n",
       "      <td>what be the specific problem here  and how c...</td>\n",
       "    </tr>\n",
       "  </tbody>\n",
       "</table>\n",
       "<p>95239 rows × 1 columns</p>\n",
       "</div>"
      ],
      "text/plain": [
       "                                                     text\n",
       "46180    I be give advice   '' You may wish to conside...\n",
       "115283   photo in  Baghdad Church Attack article Lihaa...\n",
       "60948   No problem  Ylee  happen to me all the time  I...\n",
       "67085             Wow  way to keep pull StrawMen out o...\n",
       "7934     Please do not vandalize page  a you do with t...\n",
       "...                                                   ...\n",
       "120229   I HAVE TO WAIT  MORE FUCKING DAYS  I 'm sick ...\n",
       "103971  Actually you know what  I 'm not use this acco...\n",
       "132350  Welcome  Hello   and welcome to Wikipedia  Tha...\n",
       "147362  DYK nomination of LASNEX Hello  Your submissio...\n",
       "122316    what be the specific problem here  and how c...\n",
       "\n",
       "[95239 rows x 1 columns]"
      ]
     },
     "execution_count": 16,
     "metadata": {},
     "output_type": "execute_result"
    }
   ],
   "source": [
    "X_train"
   ]
  },
  {
   "cell_type": "code",
   "execution_count": 17,
   "metadata": {},
   "outputs": [],
   "source": [
    "X_tr_l = list(X_train['text'])\n",
    "X_te_l = list(X_test['text'])"
   ]
  },
  {
   "cell_type": "markdown",
   "metadata": {},
   "source": [
    "Выполним трансформацию текстов в векторы при попомщи tf-idf"
   ]
  },
  {
   "cell_type": "code",
   "execution_count": 18,
   "metadata": {},
   "outputs": [],
   "source": [
    "count = TfidfVectorizer(stop_words = stop_words)\n",
    "tf_idf_tr = count.fit_transform(X_tr_l)\n",
    "tf_idf_te = count.transform(X_te_l)"
   ]
  },
  {
   "cell_type": "markdown",
   "metadata": {},
   "source": [
    "<img src=\"https://emojigraph.org/media/apple/check-mark-button_2705.png\" align=left width=33, heigth=33>\n",
    "<div class=\"alert alert-success\">\n",
    "👍 Молодец, получены признаки из текстов с помощью TF-IDF. И совершенно верно векторайзер вначале обучен на обучающем наборе и затем применен к тестовому</div>"
   ]
  },
  {
   "cell_type": "markdown",
   "metadata": {},
   "source": [
    "### Вывод по подготовке\n",
    "- Не выявлено дубликатов и пропущенных значений перед лемматизацией\n",
    "- Выполнена лемматизация\n",
    "- Устранены дубликаты, возникшие после лемматизации"
   ]
  },
  {
   "cell_type": "markdown",
   "metadata": {},
   "source": [
    "## Обучение"
   ]
  },
  {
   "cell_type": "markdown",
   "metadata": {},
   "source": [
    "Обучим 2 модели с перебором гиперапараметров, а именно:\n",
    "- Логистическую регрессию с l1, l2 регуляризациями\n",
    "- Дерево решений со значением глубины"
   ]
  },
  {
   "cell_type": "code",
   "execution_count": 19,
   "metadata": {
    "scrolled": true
   },
   "outputs": [
    {
     "name": "stdout",
     "output_type": "stream",
     "text": [
      "Best parameters: {'C': 4, 'penalty': 'l1'}\n",
      "Best F1 score: 0.7656120123750203\n"
     ]
    }
   ],
   "source": [
    "model_log_reg = LogisticRegression(solver='liblinear', random_state = RANDOM_STATE)\n",
    "\n",
    "param_grid = {\n",
    "    'penalty': ['l1', 'l2'],\n",
    "    'C': list(range(1, 15, 3))\n",
    "}\n",
    "\n",
    "grid_search_lr = GridSearchCV(\n",
    "    model_log_reg, \n",
    "    param_grid, \n",
    "    cv=5, \n",
    "    scoring='f1'\n",
    ")\n",
    "\n",
    "grid_search_lr.fit(tf_idf_tr, y_train)\n",
    "\n",
    "print(\"Best parameters:\", grid_search_lr.best_params_)\n",
    "print(\"Best F1 score:\", grid_search_lr.best_score_)"
   ]
  },
  {
   "cell_type": "markdown",
   "metadata": {},
   "source": [
    "<img src=\"https://upload.wikimedia.org/wikipedia/commons/b/ba/Warning_sign_4.0.png\" align=left width=44, heigth=33>\n",
    "<div class=\"alert alert-warning\">\n",
    "Поиск по сетке использует крос-валидацию.  А кросс-валидация одновремено с извлечением признаков из текстов требует особого подхода. Ты помнишь, что векторайзер мы обучали на обучающей выборке а применяли к тестовой. Что происходит при кросс-валидации? Ты разбиваешь большую обучающую выборку на несколько фолдов, из них выделяешь часть на обучение, часть на валидацию.  Но признаки (TF-IDF) уже обучены на всем наборе (обучающий + валидационный). Получается утечка данных. Чтобы избежать её нужно использовать pipeline из векторайзера и модели.\n",
    "    \n",
    "Пример такого пайплайна можно посмотреть в официальной документации\n",
    "    \n",
    "  https://scikit-learn.org/stable/auto_examples/model_selection/plot_grid_search_text_feature_extraction.html\n",
    "    \n",
    "И еще полезные материалы:\n",
    "    \n",
    "  https://newtechaudit.ru/pipeline-v-rabote-s-dannymi/      \n",
    "</div>"
   ]
  },
  {
   "cell_type": "markdown",
   "metadata": {},
   "source": [
    "<img src=\"https://emojigraph.org/media/apple/check-mark-button_2705.png\" align=left width=33, heigth=33>\n",
    "<div class=\"alert alert-success\">\n",
    "А вот подбор гиперпараметра С и работа с регуляризацией это очень правильное решение. Линейные модели очень хорошо работают с признаками, полученными из текстов. С помощью TF-IDF мы получили очень длинные разряженные вектора. И действительно, они очень длинные (длина около 140 000), при этом очень мало значений отличаются от нуля. Так вот, линейные модели гораздо лучше деревьев справляются с такими признаками. Но им нужно помочь - и ослабить регуляризацию, т.к. она заметно вырастает из за большого количества признаков. И делаем мы это как раз подбирая гиперпараметр С.\n",
    "    \n",
    "\n",
    "</div>"
   ]
  },
  {
   "cell_type": "markdown",
   "metadata": {},
   "source": [
    "На тренировочной выборке получена лучшая модель с l1 регуляризацией и коэффициентом C = 4, f1 = 0.766"
   ]
  },
  {
   "cell_type": "code",
   "execution_count": 23,
   "metadata": {},
   "outputs": [
    {
     "name": "stdout",
     "output_type": "stream",
     "text": [
      "Best parameters: {'max_depth': 8}\n",
      "Best F1 score: 0.5613298417159022\n"
     ]
    }
   ],
   "source": [
    "model_dt = DecisionTreeClassifier(random_state=RANDOM_STATE)\n",
    "\n",
    "param_grid = {\n",
    "    'max_depth': [4, 6, 8]\n",
    "}\n",
    "\n",
    "grid_search_dt = GridSearchCV(\n",
    "    model_dt, \n",
    "    param_grid, \n",
    "    cv=5, \n",
    "    scoring='f1'\n",
    ")\n",
    "\n",
    "grid_search_dt.fit(tf_idf_tr, y_train)\n",
    "\n",
    "print(\"Best parameters:\", grid_search_dt.best_params_)\n",
    "print(\"Best F1 score:\", grid_search_dt.best_score_)"
   ]
  },
  {
   "cell_type": "markdown",
   "metadata": {},
   "source": [
    "На тренировочной выборке получена лучшая модель с глубиной = 8, f1 = 0.56"
   ]
  },
  {
   "cell_type": "markdown",
   "metadata": {},
   "source": [
    "Дерево решений показало себя значительно хуже чем Лог регрессия, потому предикт будем делать именно на ней"
   ]
  },
  {
   "cell_type": "code",
   "execution_count": 24,
   "metadata": {},
   "outputs": [
    {
     "name": "stdout",
     "output_type": "stream",
     "text": [
      "0.7756209205730271\n"
     ]
    }
   ],
   "source": [
    "preds = grid_search_lr.predict(tf_idf_te)\n",
    "print(f1_score(y_test, preds))"
   ]
  },
  {
   "cell_type": "markdown",
   "metadata": {},
   "source": [
    "<img src=\"https://emojigraph.org/media/apple/check-mark-button_2705.png\" align=left width=33, heigth=33>\n",
    "<div class=\"alert alert-success\">\n",
    "Молодец: \n",
    "    \n",
    "  - выбрана лучшая модель\n",
    "  - тестирование произведено корректно \n",
    "  - достигнута метрика f1 выше 0,75 на тестовой выборке\n",
    "</div>\n"
   ]
  },
  {
   "cell_type": "markdown",
   "metadata": {},
   "source": [
    "Значение F1-метрики превышает пороговое значение заказчика, потому мы подобрали хорошую модель, удовлетворяющую требованиям, а именно:\n",
    "- LogisticRegression {'C': 4, 'penalty': 'l1'}"
   ]
  },
  {
   "cell_type": "markdown",
   "metadata": {},
   "source": [
    "## Выводы"
   ]
  },
  {
   "cell_type": "markdown",
   "metadata": {},
   "source": [
    "В данном проекте я работал сервисом, подобным википедии, где мне пришлось разработать модель, классифицирующую правки пользователей на токсичность. Итоговая модель (LogisticRegression {'C': 4, 'penalty': 'l1'}) имеет значение F1-метрики, превышающее пороговое значение заказчика (F1 = 0.7756), а значит данную модель можно использовать заказчику.\n",
    "А также перед обучением была выполнена предобработка данных:\n",
    "\n",
    "### Вывод по подготовке\n",
    "- Не выявлено дубликатов и пропущенных значений перед лемматизацией\n",
    "- Выполнена лемматизация\n",
    "- Устранены дубликаты, возникшие после лемматизации"
   ]
  },
  {
   "cell_type": "markdown",
   "metadata": {},
   "source": [
    "## Чек-лист проверки"
   ]
  },
  {
   "cell_type": "markdown",
   "metadata": {},
   "source": [
    "- [x]  Jupyter Notebook открыт\n",
    "- [x]  Весь код выполняется без ошибок\n",
    "- [x]  Ячейки с кодом расположены в порядке исполнения\n",
    "- [x]  Данные загружены и подготовлены\n",
    "- [x]  Модели обучены\n",
    "- [x]  Значение метрики *F1* не меньше 0.75\n",
    "- [x]  Выводы написаны"
   ]
  },
  {
   "cell_type": "markdown",
   "metadata": {},
   "source": [
    "<img src=\"http://s3.amazonaws.com/pix.iemoji.com/images/emoji/apple/ios-12/256/waving-hand.png\" align=left width=44, heigth=44>\n",
    "<div class=\"alert alert-info\">\n",
    "<b> Заключительный комментарий v2</b>\n",
    "\n",
    "Проект принят. Поздравляю и желаю дальнейших успехов!\n",
    "</div>"
   ]
  },
  {
   "cell_type": "markdown",
   "metadata": {},
   "source": [
    "<img src=\"http://s3.amazonaws.com/pix.iemoji.com/images/emoji/apple/ios-12/256/waving-hand.png\" align=left width=44, heigth=44>\n",
    "<div class=\"alert alert-info\">\n",
    "<b> Заключительный комментарий</b>\n",
    "Давай подведем итоги. В целом с проектом ты справляешься - текст предобработан, извлечены признаки и обучены классификаторы. Достигнуто требуемое значение метрики f1.\n",
    "    \n",
    "Единственный красный комментарий связан с кодировками: Не стоит перекодировать английский текст в Юникод. Уверен, исправления будут легкими и быстрыми ))\n",
    " \n",
    "     \n",
    "Жду твоих исправлений :)\n",
    "</div>"
   ]
  },
  {
   "cell_type": "markdown",
   "metadata": {},
   "source": [
    "<img src=\"http://s3.amazonaws.com/pix.iemoji.com/images/emoji/apple/ios-12/256/waving-hand.png\" align=left width=44, heigth=44>\n",
    "<div class=\"alert alert-info\">\n",
    "<b> рекомендации по доп. материалам</b>\n",
    "Если решишь погрузиться в область работы с текстами, очень советую несколько продвинутых бесплатных курсов.\n",
    "    \n",
    "   - Отличный бесплатный курс от Школы глубокого обучения МФТИ (https://stepik.org/org/dlschool), старт курса каждые пол года. Два семестра, один по основам и компьютерному зрению, второй по обработке естественного языка. Проходить нужно именно в таком порядке,т.к. почти весь современный NLP построен на нейронках.\n",
    "    \n",
    "   - \"Нейронные сети и компьютерное зрение\" от Samsung Research Russia (https://stepik.org/course/50352/syllabus). Есть также продолжение по NLP.  \n",
    "   - Трек NLP от сообщества ODS https://ods.ai/tracks/nlp-course-autumn-22\n",
    "    \n",
    "    \n",
    "А если на тебя произвели впечатление возможности ChatGPT и хочешь попробовать использовать возможности больших языковых моделей для решения своих задач, могу порекомендовать следующие курсы (но к сожалению все на английском).\n",
    "    \n",
    "  - https://www.coursera.org/learn/generative-ai-with-llms  (можно прослужать бесплатно)\n",
    "  - Короткие курсы на сайте https://www.deeplearning.ai/short-courses/  Самый свежак - как писать промпты, как использовать LLM для создания собственных приложений (например как создать бота на основе ChatGPT, который будет отвечать на вопросы по внутренней документации компании).  \n",
    "  - https://www.promptingguide.ai/introduction/settings\n",
    "    \n",
    "    \n",
    "Также можно обратиться к туториалу по использованию языковых моделей на HugingFace. Обрати внимание, для больше чем половины материалов доступен перевод на русский, хотя можно читать и на языке оригинала. \n",
    "    \n",
    "  https://huggingface.co/learn/nlp-course   \n",
    " \n",
    "</div>"
   ]
  },
  {
   "cell_type": "markdown",
   "metadata": {},
   "source": []
  }
 ],
 "metadata": {
  "ExecuteTimeLog": [
   {
    "duration": 1432,
    "start_time": "2024-05-18T10:10:52.725Z"
   },
   {
    "duration": 2525,
    "start_time": "2024-05-18T10:11:32.824Z"
   },
   {
    "duration": 19,
    "start_time": "2024-05-18T10:11:41.952Z"
   },
   {
    "duration": 26,
    "start_time": "2024-05-18T10:15:07.011Z"
   },
   {
    "duration": 260,
    "start_time": "2024-05-18T10:15:29.772Z"
   },
   {
    "duration": 5,
    "start_time": "2024-05-18T10:15:41.099Z"
   },
   {
    "duration": 6,
    "start_time": "2024-05-18T10:15:50.960Z"
   },
   {
    "duration": 22,
    "start_time": "2024-05-18T10:16:13.791Z"
   },
   {
    "duration": 8,
    "start_time": "2024-05-18T10:17:21.497Z"
   },
   {
    "duration": 11,
    "start_time": "2024-05-18T10:17:26.388Z"
   },
   {
    "duration": 132,
    "start_time": "2024-05-18T10:32:00.428Z"
   },
   {
    "duration": 16,
    "start_time": "2024-05-18T10:32:11.597Z"
   },
   {
    "duration": 3,
    "start_time": "2024-05-18T10:33:09.776Z"
   },
   {
    "duration": 5,
    "start_time": "2024-05-18T10:34:03.368Z"
   },
   {
    "duration": 49,
    "start_time": "2024-05-18T10:36:39.614Z"
   },
   {
    "duration": 16,
    "start_time": "2024-05-18T10:37:01.532Z"
   },
   {
    "duration": 10,
    "start_time": "2024-05-18T10:37:17.294Z"
   },
   {
    "duration": 20,
    "start_time": "2024-05-18T10:39:42.506Z"
   },
   {
    "duration": 108494,
    "start_time": "2024-05-18T10:40:01.976Z"
   },
   {
    "duration": 3179,
    "start_time": "2024-05-18T10:43:15.463Z"
   },
   {
    "duration": 4,
    "start_time": "2024-05-18T10:44:06.103Z"
   },
   {
    "duration": 19,
    "start_time": "2024-05-18T10:44:18.283Z"
   },
   {
    "duration": 5,
    "start_time": "2024-05-18T10:44:28.328Z"
   },
   {
    "duration": 25,
    "start_time": "2024-05-18T10:46:40.532Z"
   },
   {
    "duration": 1968,
    "start_time": "2024-05-18T10:49:02.542Z"
   },
   {
    "duration": 3,
    "start_time": "2024-05-18T10:49:06.533Z"
   },
   {
    "duration": 1288,
    "start_time": "2024-05-18T10:49:06.538Z"
   },
   {
    "duration": 8,
    "start_time": "2024-05-18T10:49:07.828Z"
   },
   {
    "duration": 38,
    "start_time": "2024-05-18T10:49:07.837Z"
   },
   {
    "duration": 258,
    "start_time": "2024-05-18T10:49:07.877Z"
   },
   {
    "duration": 51,
    "start_time": "2024-05-18T10:49:08.136Z"
   },
   {
    "duration": 0,
    "start_time": "2024-05-18T10:49:08.190Z"
   },
   {
    "duration": 0,
    "start_time": "2024-05-18T10:49:08.191Z"
   },
   {
    "duration": 1,
    "start_time": "2024-05-18T10:49:08.198Z"
   },
   {
    "duration": 0,
    "start_time": "2024-05-18T10:49:08.200Z"
   },
   {
    "duration": 7,
    "start_time": "2024-05-18T10:50:00.943Z"
   },
   {
    "duration": 17,
    "start_time": "2024-05-18T10:50:02.742Z"
   },
   {
    "duration": 56,
    "start_time": "2024-05-18T10:50:12.142Z"
   },
   {
    "duration": 1699,
    "start_time": "2024-05-18T10:50:16.853Z"
   },
   {
    "duration": 2651,
    "start_time": "2024-05-18T10:50:18.554Z"
   },
   {
    "duration": 15,
    "start_time": "2024-05-18T10:50:21.209Z"
   },
   {
    "duration": 28,
    "start_time": "2024-05-18T10:50:21.226Z"
   },
   {
    "duration": 268,
    "start_time": "2024-05-18T10:50:21.256Z"
   },
   {
    "duration": 7,
    "start_time": "2024-05-18T10:50:21.526Z"
   },
   {
    "duration": 15,
    "start_time": "2024-05-18T10:50:21.534Z"
   },
   {
    "duration": 2599,
    "start_time": "2024-05-18T10:50:21.550Z"
   },
   {
    "duration": 29855,
    "start_time": "2024-05-18T10:50:24.151Z"
   },
   {
    "duration": 4,
    "start_time": "2024-05-18T10:53:33.189Z"
   },
   {
    "duration": 1005,
    "start_time": "2024-05-18T10:53:33.196Z"
   },
   {
    "duration": 7,
    "start_time": "2024-05-18T10:53:34.203Z"
   },
   {
    "duration": 25,
    "start_time": "2024-05-18T10:53:34.212Z"
   },
   {
    "duration": 269,
    "start_time": "2024-05-18T10:53:34.239Z"
   },
   {
    "duration": 6,
    "start_time": "2024-05-18T10:53:34.510Z"
   },
   {
    "duration": 15,
    "start_time": "2024-05-18T10:53:34.518Z"
   },
   {
    "duration": 1738,
    "start_time": "2024-05-18T10:53:42.945Z"
   },
   {
    "duration": 2572,
    "start_time": "2024-05-18T10:53:44.686Z"
   },
   {
    "duration": 14,
    "start_time": "2024-05-18T10:53:47.260Z"
   },
   {
    "duration": 49,
    "start_time": "2024-05-18T10:53:47.276Z"
   },
   {
    "duration": 258,
    "start_time": "2024-05-18T10:53:47.327Z"
   },
   {
    "duration": 7,
    "start_time": "2024-05-18T10:53:47.593Z"
   },
   {
    "duration": 22,
    "start_time": "2024-05-18T10:53:47.602Z"
   },
   {
    "duration": 2402,
    "start_time": "2024-05-18T10:53:47.626Z"
   },
   {
    "duration": 113439,
    "start_time": "2024-05-18T10:53:50.029Z"
   },
   {
    "duration": 6,
    "start_time": "2024-05-18T10:55:51.231Z"
   },
   {
    "duration": 57,
    "start_time": "2024-05-18T10:56:12.592Z"
   },
   {
    "duration": 1413,
    "start_time": "2024-05-18T10:58:04.224Z"
   },
   {
    "duration": 1170,
    "start_time": "2024-05-18T10:58:05.639Z"
   },
   {
    "duration": 14,
    "start_time": "2024-05-18T10:58:06.810Z"
   },
   {
    "duration": 69,
    "start_time": "2024-05-18T10:58:06.826Z"
   },
   {
    "duration": 258,
    "start_time": "2024-05-18T10:58:06.896Z"
   },
   {
    "duration": 7,
    "start_time": "2024-05-18T10:58:07.155Z"
   },
   {
    "duration": 35,
    "start_time": "2024-05-18T10:58:07.163Z"
   },
   {
    "duration": 2393,
    "start_time": "2024-05-18T10:58:07.200Z"
   },
   {
    "duration": 1729118,
    "start_time": "2024-05-18T10:58:09.596Z"
   },
   {
    "duration": 0,
    "start_time": "2024-05-18T11:26:58.716Z"
   },
   {
    "duration": 5,
    "start_time": "2024-05-18T11:27:06.530Z"
   },
   {
    "duration": 14071,
    "start_time": "2024-05-18T11:27:22.730Z"
   },
   {
    "duration": 930,
    "start_time": "2024-05-18T11:27:57.131Z"
   },
   {
    "duration": 5,
    "start_time": "2024-05-18T11:29:24.276Z"
   },
   {
    "duration": 287,
    "start_time": "2024-05-18T11:30:58.993Z"
   },
   {
    "duration": 1368,
    "start_time": "2024-05-18T11:31:02.985Z"
   },
   {
    "duration": 10,
    "start_time": "2024-05-18T11:31:39.915Z"
   },
   {
    "duration": 9,
    "start_time": "2024-05-18T11:31:47.763Z"
   },
   {
    "duration": 8,
    "start_time": "2024-05-18T11:31:54.255Z"
   },
   {
    "duration": 22,
    "start_time": "2024-05-18T11:33:30.956Z"
   },
   {
    "duration": 604,
    "start_time": "2024-05-18T11:33:56.203Z"
   },
   {
    "duration": 17,
    "start_time": "2024-05-18T11:35:05.851Z"
   },
   {
    "duration": 4,
    "start_time": "2024-05-18T11:35:10.239Z"
   },
   {
    "duration": 997,
    "start_time": "2024-05-18T11:35:10.245Z"
   },
   {
    "duration": 7,
    "start_time": "2024-05-18T11:35:11.244Z"
   },
   {
    "duration": 38,
    "start_time": "2024-05-18T11:35:11.253Z"
   },
   {
    "duration": 255,
    "start_time": "2024-05-18T11:35:11.292Z"
   },
   {
    "duration": 7,
    "start_time": "2024-05-18T11:35:11.548Z"
   },
   {
    "duration": 34,
    "start_time": "2024-05-18T11:35:11.557Z"
   },
   {
    "duration": 1511,
    "start_time": "2024-05-18T11:35:20.163Z"
   },
   {
    "duration": 2624,
    "start_time": "2024-05-18T11:35:21.677Z"
   },
   {
    "duration": 17,
    "start_time": "2024-05-18T11:35:24.303Z"
   },
   {
    "duration": 34,
    "start_time": "2024-05-18T11:35:24.322Z"
   },
   {
    "duration": 277,
    "start_time": "2024-05-18T11:35:24.359Z"
   },
   {
    "duration": 6,
    "start_time": "2024-05-18T11:35:24.638Z"
   },
   {
    "duration": 19,
    "start_time": "2024-05-18T11:35:24.646Z"
   },
   {
    "duration": 2900,
    "start_time": "2024-05-18T11:35:24.666Z"
   },
   {
    "duration": 27,
    "start_time": "2024-05-18T11:35:27.568Z"
   },
   {
    "duration": 184,
    "start_time": "2024-05-18T11:35:27.596Z"
   },
   {
    "duration": 1796,
    "start_time": "2024-05-18T11:35:27.781Z"
   },
   {
    "duration": 6,
    "start_time": "2024-05-18T11:35:29.582Z"
   },
   {
    "duration": 8,
    "start_time": "2024-05-18T11:35:52.048Z"
   },
   {
    "duration": 12,
    "start_time": "2024-05-18T11:35:59.538Z"
   },
   {
    "duration": 14,
    "start_time": "2024-05-18T11:36:25.997Z"
   },
   {
    "duration": 1490,
    "start_time": "2024-05-18T11:40:25.358Z"
   },
   {
    "duration": 1204,
    "start_time": "2024-05-18T11:40:26.850Z"
   },
   {
    "duration": 14,
    "start_time": "2024-05-18T11:40:28.056Z"
   },
   {
    "duration": 37,
    "start_time": "2024-05-18T11:40:28.072Z"
   },
   {
    "duration": 284,
    "start_time": "2024-05-18T11:40:28.111Z"
   },
   {
    "duration": 8,
    "start_time": "2024-05-18T11:40:28.401Z"
   },
   {
    "duration": 15,
    "start_time": "2024-05-18T11:40:28.410Z"
   },
   {
    "duration": 2449,
    "start_time": "2024-05-18T11:40:28.427Z"
   },
   {
    "duration": 70,
    "start_time": "2024-05-18T11:40:30.878Z"
   },
   {
    "duration": 310,
    "start_time": "2024-05-18T11:40:30.951Z"
   },
   {
    "duration": 692448,
    "start_time": "2024-05-18T11:40:31.263Z"
   },
   {
    "duration": 35,
    "start_time": "2024-05-18T11:52:03.713Z"
   },
   {
    "duration": 54,
    "start_time": "2024-05-18T11:52:03.750Z"
   },
   {
    "duration": 4,
    "start_time": "2024-05-18T11:55:43.208Z"
   },
   {
    "duration": 13,
    "start_time": "2024-05-18T11:56:00.092Z"
   },
   {
    "duration": 79,
    "start_time": "2024-05-18T11:56:26.689Z"
   },
   {
    "duration": 42,
    "start_time": "2024-05-18T11:56:46.398Z"
   },
   {
    "duration": 228,
    "start_time": "2024-05-18T11:57:20.242Z"
   },
   {
    "duration": 33,
    "start_time": "2024-05-18T11:57:29.496Z"
   },
   {
    "duration": 232,
    "start_time": "2024-05-18T11:57:33.960Z"
   },
   {
    "duration": 237,
    "start_time": "2024-05-18T11:59:45.166Z"
   },
   {
    "duration": 167,
    "start_time": "2024-05-18T12:02:38.605Z"
   },
   {
    "duration": 16,
    "start_time": "2024-05-18T12:02:51.069Z"
   },
   {
    "duration": 22,
    "start_time": "2024-05-18T12:03:16.607Z"
   },
   {
    "duration": 4,
    "start_time": "2024-05-18T12:03:50.270Z"
   },
   {
    "duration": 55,
    "start_time": "2024-05-18T12:03:54.779Z"
   },
   {
    "duration": 49,
    "start_time": "2024-05-18T12:04:01.380Z"
   },
   {
    "duration": 6,
    "start_time": "2024-05-18T12:04:04.863Z"
   },
   {
    "duration": 4,
    "start_time": "2024-05-18T12:04:12.413Z"
   },
   {
    "duration": 40,
    "start_time": "2024-05-18T12:04:21.134Z"
   },
   {
    "duration": 6,
    "start_time": "2024-05-18T12:06:23.803Z"
   },
   {
    "duration": 7,
    "start_time": "2024-05-18T12:08:20.011Z"
   },
   {
    "duration": 4,
    "start_time": "2024-05-18T12:08:25.776Z"
   },
   {
    "duration": 19,
    "start_time": "2024-05-18T12:10:47.197Z"
   },
   {
    "duration": 6,
    "start_time": "2024-05-18T12:15:32.923Z"
   },
   {
    "duration": 5,
    "start_time": "2024-05-18T12:15:44.708Z"
   },
   {
    "duration": 21,
    "start_time": "2024-05-18T12:15:50.554Z"
   },
   {
    "duration": 15,
    "start_time": "2024-05-18T12:15:57.757Z"
   },
   {
    "duration": 5,
    "start_time": "2024-05-18T12:16:28.745Z"
   },
   {
    "duration": 4,
    "start_time": "2024-05-18T12:16:36.626Z"
   },
   {
    "duration": 12,
    "start_time": "2024-05-18T12:17:47.422Z"
   },
   {
    "duration": 5,
    "start_time": "2024-05-18T12:17:59.451Z"
   },
   {
    "duration": 9,
    "start_time": "2024-05-18T12:18:06.300Z"
   },
   {
    "duration": 49,
    "start_time": "2024-05-18T12:18:14.091Z"
   },
   {
    "duration": 36,
    "start_time": "2024-05-18T12:18:52.198Z"
   },
   {
    "duration": 8378,
    "start_time": "2024-05-18T12:19:00.378Z"
   },
   {
    "duration": 47276,
    "start_time": "2024-05-18T12:19:13.025Z"
   },
   {
    "duration": 48055,
    "start_time": "2024-05-18T12:20:13.764Z"
   },
   {
    "duration": 49531,
    "start_time": "2024-05-18T12:21:44.778Z"
   },
   {
    "duration": 48132,
    "start_time": "2024-05-18T12:27:02.677Z"
   },
   {
    "duration": 1509,
    "start_time": "2024-05-18T12:35:18.108Z"
   },
   {
    "duration": 1255,
    "start_time": "2024-05-18T12:35:19.619Z"
   },
   {
    "duration": 15,
    "start_time": "2024-05-18T12:35:20.877Z"
   },
   {
    "duration": 36,
    "start_time": "2024-05-18T12:35:20.893Z"
   },
   {
    "duration": 275,
    "start_time": "2024-05-18T12:35:20.932Z"
   },
   {
    "duration": 8,
    "start_time": "2024-05-18T12:35:21.210Z"
   },
   {
    "duration": 43,
    "start_time": "2024-05-18T12:35:21.219Z"
   },
   {
    "duration": 3086,
    "start_time": "2024-05-18T12:35:21.263Z"
   },
   {
    "duration": 14,
    "start_time": "2024-05-18T12:35:24.351Z"
   },
   {
    "duration": 226,
    "start_time": "2024-05-18T12:35:24.366Z"
   },
   {
    "duration": 537668,
    "start_time": "2024-05-18T12:35:24.593Z"
   },
   {
    "duration": 0,
    "start_time": "2024-05-18T12:44:22.263Z"
   },
   {
    "duration": 0,
    "start_time": "2024-05-18T12:44:22.264Z"
   },
   {
    "duration": 0,
    "start_time": "2024-05-18T12:44:22.265Z"
   },
   {
    "duration": 0,
    "start_time": "2024-05-18T12:44:22.266Z"
   },
   {
    "duration": 0,
    "start_time": "2024-05-18T12:44:22.283Z"
   },
   {
    "duration": 0,
    "start_time": "2024-05-18T12:44:22.284Z"
   },
   {
    "duration": 0,
    "start_time": "2024-05-18T12:44:22.285Z"
   },
   {
    "duration": 0,
    "start_time": "2024-05-18T12:44:22.287Z"
   },
   {
    "duration": 0,
    "start_time": "2024-05-18T12:44:22.288Z"
   },
   {
    "duration": 0,
    "start_time": "2024-05-18T12:44:22.289Z"
   },
   {
    "duration": 0,
    "start_time": "2024-05-18T12:44:22.290Z"
   },
   {
    "duration": 4,
    "start_time": "2024-05-18T12:44:32.956Z"
   },
   {
    "duration": 1451,
    "start_time": "2024-05-18T12:51:36.021Z"
   },
   {
    "duration": 1163,
    "start_time": "2024-05-18T12:51:37.474Z"
   },
   {
    "duration": 14,
    "start_time": "2024-05-18T12:51:38.639Z"
   },
   {
    "duration": 46,
    "start_time": "2024-05-18T12:51:38.655Z"
   },
   {
    "duration": 293,
    "start_time": "2024-05-18T12:51:38.703Z"
   },
   {
    "duration": 12,
    "start_time": "2024-05-18T12:51:38.999Z"
   },
   {
    "duration": 16,
    "start_time": "2024-05-18T12:51:39.013Z"
   },
   {
    "duration": 2889,
    "start_time": "2024-05-18T12:51:39.031Z"
   },
   {
    "duration": 257,
    "start_time": "2024-05-18T12:51:41.922Z"
   },
   {
    "duration": 705228,
    "start_time": "2024-05-18T12:51:42.182Z"
   },
   {
    "duration": 38,
    "start_time": "2024-05-18T13:03:27.412Z"
   },
   {
    "duration": 246,
    "start_time": "2024-05-18T13:03:27.452Z"
   },
   {
    "duration": 4,
    "start_time": "2024-05-18T13:03:27.699Z"
   },
   {
    "duration": 37,
    "start_time": "2024-05-18T13:03:27.704Z"
   },
   {
    "duration": 5,
    "start_time": "2024-05-18T13:03:27.743Z"
   },
   {
    "duration": 13,
    "start_time": "2024-05-18T13:03:27.749Z"
   },
   {
    "duration": 60,
    "start_time": "2024-05-18T13:03:27.764Z"
   },
   {
    "duration": 8610,
    "start_time": "2024-05-18T13:03:27.826Z"
   },
   {
    "duration": 46471,
    "start_time": "2024-05-18T13:03:36.438Z"
   },
   {
    "duration": 1523,
    "start_time": "2024-05-18T13:29:52.401Z"
   },
   {
    "duration": 1150,
    "start_time": "2024-05-18T13:29:53.926Z"
   },
   {
    "duration": 26,
    "start_time": "2024-05-18T13:29:55.078Z"
   },
   {
    "duration": 32,
    "start_time": "2024-05-18T13:29:55.105Z"
   },
   {
    "duration": 267,
    "start_time": "2024-05-18T13:29:55.140Z"
   },
   {
    "duration": 7,
    "start_time": "2024-05-18T13:29:55.408Z"
   },
   {
    "duration": 22,
    "start_time": "2024-05-18T13:29:55.417Z"
   },
   {
    "duration": 2612,
    "start_time": "2024-05-18T13:29:55.441Z"
   },
   {
    "duration": 1069,
    "start_time": "2024-05-18T13:29:58.056Z"
   },
   {
    "duration": 730443,
    "start_time": "2024-05-18T13:29:59.126Z"
   },
   {
    "duration": 43,
    "start_time": "2024-05-18T13:42:09.570Z"
   },
   {
    "duration": 255,
    "start_time": "2024-05-18T13:42:09.616Z"
   },
   {
    "duration": 12,
    "start_time": "2024-05-18T13:42:09.873Z"
   },
   {
    "duration": 51,
    "start_time": "2024-05-18T13:42:09.889Z"
   },
   {
    "duration": 5,
    "start_time": "2024-05-18T13:42:09.942Z"
   },
   {
    "duration": 36,
    "start_time": "2024-05-18T13:42:09.949Z"
   },
   {
    "duration": 51,
    "start_time": "2024-05-18T13:42:09.987Z"
   },
   {
    "duration": 8442,
    "start_time": "2024-05-18T13:42:10.041Z"
   },
   {
    "duration": 356455,
    "start_time": "2024-05-18T13:42:18.486Z"
   },
   {
    "duration": 155,
    "start_time": "2024-05-18T13:48:14.943Z"
   },
   {
    "duration": 1608,
    "start_time": "2024-05-18T14:51:48.100Z"
   },
   {
    "duration": 1236,
    "start_time": "2024-05-18T14:51:49.711Z"
   },
   {
    "duration": 14,
    "start_time": "2024-05-18T14:51:50.949Z"
   },
   {
    "duration": 58,
    "start_time": "2024-05-18T14:51:50.965Z"
   },
   {
    "duration": 278,
    "start_time": "2024-05-18T14:51:51.026Z"
   },
   {
    "duration": 7,
    "start_time": "2024-05-18T14:51:51.306Z"
   },
   {
    "duration": 16,
    "start_time": "2024-05-18T14:51:51.314Z"
   },
   {
    "duration": 2589,
    "start_time": "2024-05-18T14:51:51.331Z"
   },
   {
    "duration": 280,
    "start_time": "2024-05-18T14:51:53.921Z"
   },
   {
    "duration": 725812,
    "start_time": "2024-05-18T14:51:54.202Z"
   },
   {
    "duration": 35,
    "start_time": "2024-05-18T15:04:00.016Z"
   },
   {
    "duration": 288,
    "start_time": "2024-05-18T15:04:00.053Z"
   },
   {
    "duration": 4,
    "start_time": "2024-05-18T15:04:00.344Z"
   },
   {
    "duration": 127,
    "start_time": "2024-05-18T15:04:00.352Z"
   },
   {
    "duration": 24,
    "start_time": "2024-05-18T15:04:00.481Z"
   },
   {
    "duration": 65,
    "start_time": "2024-05-18T15:04:00.506Z"
   },
   {
    "duration": 86,
    "start_time": "2024-05-18T15:04:00.573Z"
   },
   {
    "duration": 8491,
    "start_time": "2024-05-18T15:04:00.660Z"
   },
   {
    "duration": 358504,
    "start_time": "2024-05-18T15:04:09.153Z"
   },
   {
    "duration": 1014019,
    "start_time": "2024-05-18T15:10:07.658Z"
   },
   {
    "duration": 0,
    "start_time": "2024-05-18T15:27:01.679Z"
   },
   {
    "duration": 11,
    "start_time": "2024-05-18T15:32:16.822Z"
   },
   {
    "duration": 11358,
    "start_time": "2024-05-18T15:32:45.713Z"
   },
   {
    "duration": 181545,
    "start_time": "2024-05-18T15:32:57.257Z"
   },
   {
    "duration": 37,
    "start_time": "2024-05-18T15:37:39.364Z"
   }
  ],
  "kernelspec": {
   "display_name": "Python 3 (ipykernel)",
   "language": "python",
   "name": "python3"
  },
  "language_info": {
   "codemirror_mode": {
    "name": "ipython",
    "version": 3
   },
   "file_extension": ".py",
   "mimetype": "text/x-python",
   "name": "python",
   "nbconvert_exporter": "python",
   "pygments_lexer": "ipython3",
   "version": "3.9.5"
  },
  "toc": {
   "base_numbering": 1,
   "nav_menu": {},
   "number_sections": true,
   "sideBar": true,
   "skip_h1_title": true,
   "title_cell": "Содержание",
   "title_sidebar": "Contents",
   "toc_cell": true,
   "toc_position": {
    "height": "calc(100% - 180px)",
    "left": "10px",
    "top": "150px",
    "width": "302.391px"
   },
   "toc_section_display": true,
   "toc_window_display": false
  }
 },
 "nbformat": 4,
 "nbformat_minor": 2
}
