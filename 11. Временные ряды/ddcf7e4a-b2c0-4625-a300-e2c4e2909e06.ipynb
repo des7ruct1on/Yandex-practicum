{
 "cells": [
  {
   "cell_type": "markdown",
   "metadata": {},
   "source": [
    "<div style=\"border:solid Chocolate 2px; padding: 40px\">\n",
    "\n",
    "<b> Иван, привет!👋</b>\n",
    "\n",
    "Меня зовут Алексей Гриб, и я буду ревьюером твоего проекта. \n",
    "\n",
    "Сразу хочу предложить в дальнейшем общаться на \"ты\" - надеюсь, так будет комфортнее:) Но если это неудобно, обязательно дай знать, и мы придумаем что-нибудь ещё!\n",
    "    \n",
    "Цель ревью - не искать ошибки в твоём проекте, а помочь тебе сделать твою работу ещё лучше, устранив недочёты и приблизив её к реальным задачам специалиста по работе с данными. Поэтому не расстраивайся, если что-то не получилось с первого раза - это нормально, и это поможет тебе вырасти!\n",
    "    \n",
    "Ты можешь найти мои комментарии, обозначенные <font color='green'>зеленым</font>, <font color='gold'>желтым</font> и <font color='red'>красным</font> цветами, например:\n",
    "\n",
    "<br/>\n",
    "\n",
    "<div class=\"alert alert-success\">\n",
    "<h2> Комментарий ревьюера <a class=\"tocSkip\"> </h2>\n",
    "\n",
    "<b>Все отлично!👍:</b> похвала, рекомендации «со звёздочкой», полезные лайфхаки, которые сделают и без того красивое решение ещё более элегантным.\n",
    "</div>\n",
    "\n",
    "<br/>\n",
    "\n",
    "<div class=\"alert alert-warning\">\n",
    "    <h2> Комментарий ревьюера <a class=\"tocSkip\"> </h2>\n",
    "    \n",
    "<b>Некоторые замечания и рекомендации⚠️:</b> некритичные ошибки или развивающие рекомендации на будущее. \n",
    "</div>\n",
    "\n",
    "\n",
    "<br/>\n",
    "<div class=\"alert alert-block alert-danger\">\n",
    "<h2> Комментарий ревьюера <a class=\"tocSkip\"></h2>\n",
    "\n",
    "    \n",
    "<b>На доработку❌:</b>\n",
    "Критичные ошибки, которые обязательно нужно исправить.\n",
    "</div>\n",
    "\n",
    "    \n",
    "Пожалуйста, не удаляй мои комментарии, они будут особенно полезны для нашей работы в случае повторной проверки проекта. \n",
    "    \n",
    "Ты также можешь задавать свои вопросы, реагировать на мои комментарии, делать пометки и пояснения - полная творческая свобода! Но маленькая просьба - пускай они будут отличаться от моих комментариев, это поможет избежать путаницы в нашем общении:)\n",
    "Например, вот так:\n",
    "    \n",
    "<div class=\"alert alert-info\">\n",
    "<h2> Комментарий студента <a class=\"tocSkip\"> </h2>\n",
    "\n",
    "*твой текст*\n",
    "</div>\n",
    "    \n",
    "Давай посмотрим на твой проект!"
   ]
  },
  {
   "cell_type": "markdown",
   "metadata": {
    "toc": true
   },
   "source": [
    "<h1>Содержание<span class=\"tocSkip\"></span></h1>\n",
    "<div class=\"toc\"><ul class=\"toc-item\"><li><span><a href=\"#Подготовка\" data-toc-modified-id=\"Подготовка-1\"><span class=\"toc-item-num\">1&nbsp;&nbsp;</span>Подготовка</a></span><ul class=\"toc-item\"><li><span><a href=\"#Вывод-по-подготовке-данных:\" data-toc-modified-id=\"Вывод-по-подготовке-данных:-1.1\"><span class=\"toc-item-num\">1.1&nbsp;&nbsp;</span>Вывод по подготовке данных:</a></span></li></ul></li><li><span><a href=\"#Анализ\" data-toc-modified-id=\"Анализ-2\"><span class=\"toc-item-num\">2&nbsp;&nbsp;</span>Анализ</a></span><ul class=\"toc-item\"><li><span><a href=\"#Вывод-по-анализу:\" data-toc-modified-id=\"Вывод-по-анализу:-2.1\"><span class=\"toc-item-num\">2.1&nbsp;&nbsp;</span>Вывод по анализу:</a></span></li></ul></li><li><span><a href=\"#Обучение\" data-toc-modified-id=\"Обучение-3\"><span class=\"toc-item-num\">3&nbsp;&nbsp;</span>Обучение</a></span><ul class=\"toc-item\"><li><span><a href=\"#Вывод-по-обучению-моделей\" data-toc-modified-id=\"Вывод-по-обучению-моделей-3.1\"><span class=\"toc-item-num\">3.1&nbsp;&nbsp;</span>Вывод по обучению моделей</a></span></li></ul></li><li><span><a href=\"#Тестирование\" data-toc-modified-id=\"Тестирование-4\"><span class=\"toc-item-num\">4&nbsp;&nbsp;</span>Тестирование</a></span><ul class=\"toc-item\"><li><span><a href=\"#Вывод-по-тестированию-моделей\" data-toc-modified-id=\"Вывод-по-тестированию-моделей-4.1\"><span class=\"toc-item-num\">4.1&nbsp;&nbsp;</span>Вывод по тестированию моделей</a></span></li></ul></li><li><span><a href=\"#Общий-вывод\" data-toc-modified-id=\"Общий-вывод-5\"><span class=\"toc-item-num\">5&nbsp;&nbsp;</span>Общий вывод</a></span><ul class=\"toc-item\"><li><span><a href=\"#Вывод-по-подготовке-данных:\" data-toc-modified-id=\"Вывод-по-подготовке-данных:-5.1\"><span class=\"toc-item-num\">5.1&nbsp;&nbsp;</span>Вывод по подготовке данных:</a></span></li><li><span><a href=\"#Вывод-по-анализу:\" data-toc-modified-id=\"Вывод-по-анализу:-5.2\"><span class=\"toc-item-num\">5.2&nbsp;&nbsp;</span>Вывод по анализу:</a></span></li><li><span><a href=\"#Вывод-по-обучению-моделей\" data-toc-modified-id=\"Вывод-по-обучению-моделей-5.3\"><span class=\"toc-item-num\">5.3&nbsp;&nbsp;</span>Вывод по обучению моделей</a></span></li><li><span><a href=\"#Вывод-по-тестированию-моделей\" data-toc-modified-id=\"Вывод-по-тестированию-моделей-5.4\"><span class=\"toc-item-num\">5.4&nbsp;&nbsp;</span>Вывод по тестированию моделей</a></span></li></ul></li></ul></div>"
   ]
  },
  {
   "cell_type": "markdown",
   "metadata": {},
   "source": [
    "#  Прогнозирование заказов такси"
   ]
  },
  {
   "cell_type": "markdown",
   "metadata": {},
   "source": [
    "Компания «Чётенькое такси» собрала исторические данные о заказах такси в аэропортах. Чтобы привлекать больше водителей в период пиковой нагрузки, нужно спрогнозировать количество заказов такси на следующий час. Постройте модель для такого предсказания.\n",
    "\n",
    "Значение метрики *RMSE* на тестовой выборке должно быть не больше 48.\n",
    "\n",
    "Вам нужно:\n",
    "\n",
    "1. Загрузить данные и выполнить их ресемплирование по одному часу.\n",
    "2. Проанализировать данные.\n",
    "3. Обучить разные модели с различными гиперпараметрами. Сделать тестовую выборку размером 10% от исходных данных.\n",
    "4. Проверить данные на тестовой выборке и сделать выводы.\n",
    "\n",
    "\n",
    "Данные лежат в файле `taxi.csv`. Количество заказов находится в столбце `num_orders` (от англ. *number of orders*, «число заказов»)."
   ]
  },
  {
   "cell_type": "markdown",
   "metadata": {},
   "source": [
    "<div class=\"alert alert-success\">\n",
    "<h2> Комментарий ревьюера <a class=\"tocSkip\"> </h2>\n",
    "\n",
    "<b>Все отлично!👍:</b> Хорошее вступление!\n",
    "    \n",
    "В нём есть всё, что необходимо, чтобы понять суть проекта с первых строк отчёта!"
   ]
  },
  {
   "cell_type": "markdown",
   "metadata": {},
   "source": [
    "## Подготовка"
   ]
  },
  {
   "cell_type": "code",
   "execution_count": 1,
   "metadata": {},
   "outputs": [
    {
     "name": "stdout",
     "output_type": "stream",
     "text": [
      "Collecting phik\n",
      "  Downloading phik-0.12.4-cp39-cp39-manylinux_2_17_x86_64.manylinux2014_x86_64.whl (686 kB)\n",
      "\u001b[K     |████████████████████████████████| 686 kB 1.1 MB/s eta 0:00:01\n",
      "\u001b[?25hRequirement already satisfied: numpy>=1.18.0 in /opt/conda/lib/python3.9/site-packages (from phik) (1.21.1)\n",
      "Requirement already satisfied: joblib>=0.14.1 in /opt/conda/lib/python3.9/site-packages (from phik) (1.1.0)\n",
      "Requirement already satisfied: pandas>=0.25.1 in /opt/conda/lib/python3.9/site-packages (from phik) (1.2.4)\n",
      "Requirement already satisfied: matplotlib>=2.2.3 in /opt/conda/lib/python3.9/site-packages (from phik) (3.3.4)\n",
      "Requirement already satisfied: scipy>=1.5.2 in /opt/conda/lib/python3.9/site-packages (from phik) (1.9.1)\n",
      "Requirement already satisfied: cycler>=0.10 in /opt/conda/lib/python3.9/site-packages (from matplotlib>=2.2.3->phik) (0.11.0)\n",
      "Requirement already satisfied: pillow>=6.2.0 in /opt/conda/lib/python3.9/site-packages (from matplotlib>=2.2.3->phik) (8.4.0)\n",
      "Requirement already satisfied: kiwisolver>=1.0.1 in /opt/conda/lib/python3.9/site-packages (from matplotlib>=2.2.3->phik) (1.4.4)\n",
      "Requirement already satisfied: python-dateutil>=2.1 in /opt/conda/lib/python3.9/site-packages (from matplotlib>=2.2.3->phik) (2.8.1)\n",
      "Requirement already satisfied: pyparsing!=2.0.4,!=2.1.2,!=2.1.6,>=2.0.3 in /opt/conda/lib/python3.9/site-packages (from matplotlib>=2.2.3->phik) (2.4.7)\n",
      "Requirement already satisfied: pytz>=2017.3 in /opt/conda/lib/python3.9/site-packages (from pandas>=0.25.1->phik) (2021.1)\n",
      "Requirement already satisfied: six>=1.5 in /opt/conda/lib/python3.9/site-packages (from python-dateutil>=2.1->matplotlib>=2.2.3->phik) (1.16.0)\n",
      "Installing collected packages: phik\n",
      "Successfully installed phik-0.12.4\n"
     ]
    }
   ],
   "source": [
    "import pandas as pd\n",
    "import numpy as np\n",
    "import matplotlib.pyplot as plt\n",
    "import seaborn as sns\n",
    "import math\n",
    "\n",
    "try:\n",
    "    import phik\n",
    "except ImportError:\n",
    "    !pip install phik\n",
    "    import phik\n",
    "\n",
    "from scipy import stats\n",
    "from statsmodels.tsa.seasonal import seasonal_decompose\n",
    "from sklearn.model_selection import train_test_split, GridSearchCV, TimeSeriesSplit\n",
    "from sklearn.linear_model import LinearRegression, Lasso, Ridge\n",
    "from sklearn.svm import SVR\n",
    "from sklearn.tree import DecisionTreeRegressor\n",
    "from sklearn.metrics import (\n",
    "    accuracy_score, mean_absolute_error, mean_squared_error,\n",
    "    r2_score, confusion_matrix, precision_score, recall_score,\n",
    "    f1_score, roc_auc_score, roc_curve, make_scorer\n",
    ")\n",
    "\n",
    "from lightgbm import LGBMRegressor\n",
    "from catboost import CatBoostRegressor\n",
    "\n",
    "sns.set(rc={'figure.figsize':(15, 6)})"
   ]
  },
  {
   "cell_type": "markdown",
   "metadata": {},
   "source": [
    "<div class=\"alert alert-success\">\n",
    "<h2> Комментарий ревьюера <a class=\"tocSkip\"> </h2>\n",
    "\n",
    "<b>Все отлично!👍:</b> Библиотеки импортировали - отлично!"
   ]
  },
  {
   "cell_type": "code",
   "execution_count": 2,
   "metadata": {},
   "outputs": [],
   "source": [
    "RANDOM_STATE = 17"
   ]
  },
  {
   "cell_type": "code",
   "execution_count": 3,
   "metadata": {},
   "outputs": [],
   "source": [
    "try:\n",
    "    data = pd.read_csv('taxi.csv', parse_dates = ['datetime'], index_col = ['datetime'])\n",
    "except:\n",
    "    data = pd.read_csv('/datasets/taxi.csv', parse_dates = ['datetime'], index_col = ['datetime'])"
   ]
  },
  {
   "cell_type": "markdown",
   "metadata": {},
   "source": [
    "<div class=\"alert alert-success\">\n",
    "<h2> Комментарий ревьюера <a class=\"tocSkip\"> </h2>\n",
    "\n",
    "<b>Все отлично!👍:</b>\n",
    "    \n",
    "Данные загрузили - отлично! Круто, что сразу парсишь дату и делаешь её индексом:)\n",
    "    \n",
    "Здорово, что ты используешь конструкцию ``try-except`` для путей файлов. Но еще лучше использовать библиотеку `os` - её использование позволит тебе проверять существование указанных директорий (что может быть актуально при одновременной работа на локальном и сетевом окружении) и загружать данные из существующей директории, избегая ошибок. Как пример:\n",
    " \n",
    "    import os\n",
    "\n",
    "    pth1 = '/folder_1/data.csv'\n",
    "    pth2 = '/folder_2/data.csv'\n",
    "    \n",
    "    if os.path.exists(pth1):\n",
    "        query_1 = pd.read_csv(pth1)\n",
    "    elif os.path.exists(pth2):\n",
    "        query_1 = pd.read_csv(pth2)\n",
    "    else:\n",
    "        print('Something is wrong')"
   ]
  },
  {
   "cell_type": "code",
   "execution_count": 4,
   "metadata": {},
   "outputs": [],
   "source": [
    "data.sort_index(inplace=True)"
   ]
  },
  {
   "cell_type": "code",
   "execution_count": 5,
   "metadata": {},
   "outputs": [
    {
     "data": {
      "text/html": [
       "<div>\n",
       "<style scoped>\n",
       "    .dataframe tbody tr th:only-of-type {\n",
       "        vertical-align: middle;\n",
       "    }\n",
       "\n",
       "    .dataframe tbody tr th {\n",
       "        vertical-align: top;\n",
       "    }\n",
       "\n",
       "    .dataframe thead th {\n",
       "        text-align: right;\n",
       "    }\n",
       "</style>\n",
       "<table border=\"1\" class=\"dataframe\">\n",
       "  <thead>\n",
       "    <tr style=\"text-align: right;\">\n",
       "      <th></th>\n",
       "      <th>num_orders</th>\n",
       "    </tr>\n",
       "    <tr>\n",
       "      <th>datetime</th>\n",
       "      <th></th>\n",
       "    </tr>\n",
       "  </thead>\n",
       "  <tbody>\n",
       "    <tr>\n",
       "      <th>2018-03-01 00:00:00</th>\n",
       "      <td>9</td>\n",
       "    </tr>\n",
       "    <tr>\n",
       "      <th>2018-03-01 00:10:00</th>\n",
       "      <td>14</td>\n",
       "    </tr>\n",
       "    <tr>\n",
       "      <th>2018-03-01 00:20:00</th>\n",
       "      <td>28</td>\n",
       "    </tr>\n",
       "    <tr>\n",
       "      <th>2018-03-01 00:30:00</th>\n",
       "      <td>20</td>\n",
       "    </tr>\n",
       "    <tr>\n",
       "      <th>2018-03-01 00:40:00</th>\n",
       "      <td>32</td>\n",
       "    </tr>\n",
       "  </tbody>\n",
       "</table>\n",
       "</div>"
      ],
      "text/plain": [
       "                     num_orders\n",
       "datetime                       \n",
       "2018-03-01 00:00:00           9\n",
       "2018-03-01 00:10:00          14\n",
       "2018-03-01 00:20:00          28\n",
       "2018-03-01 00:30:00          20\n",
       "2018-03-01 00:40:00          32"
      ]
     },
     "execution_count": 5,
     "metadata": {},
     "output_type": "execute_result"
    }
   ],
   "source": [
    "data.head(5)"
   ]
  },
  {
   "cell_type": "markdown",
   "metadata": {},
   "source": [
    "Данные представляет из себя таблицу кол-ва заказов такси за указанный промежуток времени из столбца `datetime`"
   ]
  },
  {
   "cell_type": "code",
   "execution_count": 6,
   "metadata": {},
   "outputs": [
    {
     "data": {
      "text/html": [
       "<div>\n",
       "<style scoped>\n",
       "    .dataframe tbody tr th:only-of-type {\n",
       "        vertical-align: middle;\n",
       "    }\n",
       "\n",
       "    .dataframe tbody tr th {\n",
       "        vertical-align: top;\n",
       "    }\n",
       "\n",
       "    .dataframe thead th {\n",
       "        text-align: right;\n",
       "    }\n",
       "</style>\n",
       "<table border=\"1\" class=\"dataframe\">\n",
       "  <thead>\n",
       "    <tr style=\"text-align: right;\">\n",
       "      <th></th>\n",
       "      <th>num_orders</th>\n",
       "    </tr>\n",
       "  </thead>\n",
       "  <tbody>\n",
       "    <tr>\n",
       "      <th>count</th>\n",
       "      <td>26496.000000</td>\n",
       "    </tr>\n",
       "    <tr>\n",
       "      <th>mean</th>\n",
       "      <td>14.070463</td>\n",
       "    </tr>\n",
       "    <tr>\n",
       "      <th>std</th>\n",
       "      <td>9.211330</td>\n",
       "    </tr>\n",
       "    <tr>\n",
       "      <th>min</th>\n",
       "      <td>0.000000</td>\n",
       "    </tr>\n",
       "    <tr>\n",
       "      <th>25%</th>\n",
       "      <td>8.000000</td>\n",
       "    </tr>\n",
       "    <tr>\n",
       "      <th>50%</th>\n",
       "      <td>13.000000</td>\n",
       "    </tr>\n",
       "    <tr>\n",
       "      <th>75%</th>\n",
       "      <td>19.000000</td>\n",
       "    </tr>\n",
       "    <tr>\n",
       "      <th>max</th>\n",
       "      <td>119.000000</td>\n",
       "    </tr>\n",
       "  </tbody>\n",
       "</table>\n",
       "</div>"
      ],
      "text/plain": [
       "         num_orders\n",
       "count  26496.000000\n",
       "mean      14.070463\n",
       "std        9.211330\n",
       "min        0.000000\n",
       "25%        8.000000\n",
       "50%       13.000000\n",
       "75%       19.000000\n",
       "max      119.000000"
      ]
     },
     "execution_count": 6,
     "metadata": {},
     "output_type": "execute_result"
    }
   ],
   "source": [
    "data.describe()"
   ]
  },
  {
   "cell_type": "markdown",
   "metadata": {},
   "source": [
    "Учитывая данные по промежуткам по 10 минут, минимальное значение = 0, медиана  = 13, максимальное значение = 119"
   ]
  },
  {
   "cell_type": "code",
   "execution_count": 7,
   "metadata": {},
   "outputs": [
    {
     "name": "stdout",
     "output_type": "stream",
     "text": [
      "<class 'pandas.core.frame.DataFrame'>\n",
      "DatetimeIndex: 26496 entries, 2018-03-01 00:00:00 to 2018-08-31 23:50:00\n",
      "Data columns (total 1 columns):\n",
      " #   Column      Non-Null Count  Dtype\n",
      "---  ------      --------------  -----\n",
      " 0   num_orders  26496 non-null  int64\n",
      "dtypes: int64(1)\n",
      "memory usage: 414.0 KB\n"
     ]
    }
   ],
   "source": [
    "data.info()"
   ]
  },
  {
   "cell_type": "code",
   "execution_count": 8,
   "metadata": {},
   "outputs": [
    {
     "data": {
      "text/plain": [
       "num_orders    0\n",
       "dtype: int64"
      ]
     },
     "execution_count": 8,
     "metadata": {},
     "output_type": "execute_result"
    }
   ],
   "source": [
    "data.isna().sum()"
   ]
  },
  {
   "cell_type": "markdown",
   "metadata": {},
   "source": [
    "Пропуски в данных не обнаружены"
   ]
  },
  {
   "cell_type": "code",
   "execution_count": 9,
   "metadata": {},
   "outputs": [
    {
     "data": {
      "text/plain": [
       "True"
      ]
     },
     "execution_count": 9,
     "metadata": {},
     "output_type": "execute_result"
    }
   ],
   "source": [
    "data.index.is_monotonic"
   ]
  },
  {
   "cell_type": "markdown",
   "metadata": {},
   "source": [
    "Данные монотонны по индексу(то есть по времени)\\\n",
    "Выполним ресемплирование по одному часу"
   ]
  },
  {
   "cell_type": "code",
   "execution_count": 10,
   "metadata": {},
   "outputs": [
    {
     "data": {
      "text/html": [
       "<div>\n",
       "<style scoped>\n",
       "    .dataframe tbody tr th:only-of-type {\n",
       "        vertical-align: middle;\n",
       "    }\n",
       "\n",
       "    .dataframe tbody tr th {\n",
       "        vertical-align: top;\n",
       "    }\n",
       "\n",
       "    .dataframe thead th {\n",
       "        text-align: right;\n",
       "    }\n",
       "</style>\n",
       "<table border=\"1\" class=\"dataframe\">\n",
       "  <thead>\n",
       "    <tr style=\"text-align: right;\">\n",
       "      <th></th>\n",
       "      <th>num_orders</th>\n",
       "    </tr>\n",
       "    <tr>\n",
       "      <th>datetime</th>\n",
       "      <th></th>\n",
       "    </tr>\n",
       "  </thead>\n",
       "  <tbody>\n",
       "    <tr>\n",
       "      <th>2018-03-01 00:00:00</th>\n",
       "      <td>124</td>\n",
       "    </tr>\n",
       "    <tr>\n",
       "      <th>2018-03-01 01:00:00</th>\n",
       "      <td>85</td>\n",
       "    </tr>\n",
       "    <tr>\n",
       "      <th>2018-03-01 02:00:00</th>\n",
       "      <td>71</td>\n",
       "    </tr>\n",
       "    <tr>\n",
       "      <th>2018-03-01 03:00:00</th>\n",
       "      <td>66</td>\n",
       "    </tr>\n",
       "    <tr>\n",
       "      <th>2018-03-01 04:00:00</th>\n",
       "      <td>43</td>\n",
       "    </tr>\n",
       "  </tbody>\n",
       "</table>\n",
       "</div>"
      ],
      "text/plain": [
       "                     num_orders\n",
       "datetime                       \n",
       "2018-03-01 00:00:00         124\n",
       "2018-03-01 01:00:00          85\n",
       "2018-03-01 02:00:00          71\n",
       "2018-03-01 03:00:00          66\n",
       "2018-03-01 04:00:00          43"
      ]
     },
     "execution_count": 10,
     "metadata": {},
     "output_type": "execute_result"
    }
   ],
   "source": [
    "data = data.resample('1H').sum()\n",
    "data.dropna(inplace=True)\n",
    "data.head(5)"
   ]
  },
  {
   "cell_type": "markdown",
   "metadata": {},
   "source": [
    "Наблюдаем, что в период с 12 по 1 ночи было больше всего заказов - 124, в то время как в период с 4 утра по 5 утра было меньше всего заказов - 43"
   ]
  },
  {
   "cell_type": "markdown",
   "metadata": {},
   "source": [
    "<div class=\"alert alert-success\">\n",
    "<h2> Комментарий ревьюера <a class=\"tocSkip\"> </h2>\n",
    "\n",
    "<b>Все отлично!👍</b> \n",
    "    \n",
    "Выполнили ресэмплирование данных с градацией по часу с применением функции суммирования - отличное и наиболее логичное решение для этой задачи!\n",
    "</div>"
   ]
  },
  {
   "cell_type": "markdown",
   "metadata": {},
   "source": [
    "### Вывод по подготовке данных:\n",
    "- Данные представляет из себя таблицу кол-ва заказов такси за указанный промежуток времени из столбца datetime\n",
    "- Учитывая данные по промежуткам по 10 минут, минимальное значение = 0, медиана = 13, максимальное значение = 119\n",
    "- Пропуски в данных не обнаружены\n",
    "- Наблюдаем, что в период с 12 по 1 ночи было больше всего заказов - 124, в то время как в период с 4 утра по 5 утра было меньше всего заказов - 43"
   ]
  },
  {
   "cell_type": "markdown",
   "metadata": {},
   "source": [
    "## Анализ"
   ]
  },
  {
   "cell_type": "code",
   "execution_count": 11,
   "metadata": {},
   "outputs": [
    {
     "data": {
      "image/png": "[encoded data removed]",
      "text/plain": [
       "<Figure size 1080x432 with 1 Axes>"
      ]
     },
     "metadata": {},
     "output_type": "display_data"
    },
    {
     "name": "stdout",
     "output_type": "stream",
     "text": [
      "Среднее значение до Июня: 65.18055555555556\n",
      "Среднее значение после Июня: 103.84239130434783\n"
     ]
    }
   ],
   "source": [
    "data.plot()\n",
    "plt.title('Заказы за весь период времени')\n",
    "plt.xlabel('Дата')\n",
    "plt.ylabel('Количество заказов')\n",
    "plt.show()\n",
    "\n",
    "print(f'Среднее значение до Июня: {data[: \"2018-06-01\"][\"num_orders\"].mean()}')\n",
    "print(f'Среднее значение после Июня: {data[\"2018-06-01\":][\"num_orders\"].mean()}')\n"
   ]
  },
  {
   "cell_type": "markdown",
   "metadata": {},
   "source": [
    "<div class=\"alert alert-success\">\n",
    "<h2> Комментарий ревьюера v.2 <a class=\"tocSkip\"> </h2>\n",
    "\n",
    "<b>Все отлично!👍:</b> Учтено."
   ]
  },
  {
   "cell_type": "markdown",
   "metadata": {},
   "source": [
    "По графику виден тренд роста заказов к августу"
   ]
  },
  {
   "cell_type": "markdown",
   "metadata": {},
   "source": [
    "А также ряд нельзя очень стационарным, так как с ростом тренда меняется среднее значение, что вполне логично"
   ]
  },
  {
   "cell_type": "markdown",
   "metadata": {},
   "source": [
    "<div class=\"alert alert-success\">\n",
    "<h2> Комментарий ревьюера <a class=\"tocSkip\"> </h2>\n",
    "\n",
    "<b>Все отлично!👍</b> \n",
    "    \n",
    "Верно, ряд нестационарен."
   ]
  },
  {
   "cell_type": "markdown",
   "metadata": {},
   "source": [
    "<div class=\"alert alert-warning\">\n",
    "    <h2> Комментарий ревьюера <a class=\"tocSkip\"> </h2>\n",
    "    \n",
    "<b>Некоторые замечания и рекомендации⚠️:</b> Дополнительно стационарность ряда ползено оценивать с помощью теста Дики-Фуллера: в реальных задачах с временными рядами, в особенности - с финансовыми данными или биржевыми котировками, график не всегда поможет достоверно оценить стационарность ряда, поэтому для оценки стационарности ряда лучше использовать тест Дики — Фуллера (подробнее о нём можно глянуть тут: https://www.statsmodels.org/dev/generated/statsmodels.tsa.stattools.adfuller.html, а вот тут можно глянуть пример реализации: https://www.codecamp.ru/blog/dickey-fuller-test-python/) - он даст наиболее точный результат. Результат нужно проверить на уровнях значимости 1% и 5%, чтобы быть уверенным в выводах. Не забудь при применении теста сформулировать гипотезы - нулевая формулируется как гипотеза о нестацинарности ряда, а альтернативная - как гипотеза о стационарности ряда. Также при проведении теста не забывай, что мы сравниваем `p-value` с уровнем значимости `alpha`."
   ]
  },
  {
   "cell_type": "markdown",
   "metadata": {},
   "source": [
    "Выполним декомпозицию на тренд, сезонность и остатки.\\\n",
    "Затем построим графики"
   ]
  },
  {
   "cell_type": "code",
   "execution_count": 12,
   "metadata": {},
   "outputs": [],
   "source": [
    "decomposed = seasonal_decompose(data)"
   ]
  },
  {
   "cell_type": "code",
   "execution_count": 13,
   "metadata": {},
   "outputs": [
    {
     "data": {
      "image/png": "[encoded data removed]",
      "text/plain": [
       "<Figure size 1080x432 with 1 Axes>"
      ]
     },
     "metadata": {},
     "output_type": "display_data"
    },
    {
     "data": {
      "image/png": "[encoded data removed]",
      "text/plain": [
       "<Figure size 1080x432 with 1 Axes>"
      ]
     },
     "metadata": {},
     "output_type": "display_data"
    },
    {
     "data": {
      "image/png": "[encoded data removed]",
      "text/plain": [
       "<Figure size 1080x432 with 1 Axes>"
      ]
     },
     "metadata": {},
     "output_type": "display_data"
    }
   ],
   "source": [
    "decomposed.trend.plot(ax = plt.gca())\n",
    "plt.title('Тренд')\n",
    "plt.xlabel('Дата')\n",
    "plt.ylabel('Количество заказов')\n",
    "plt.show()\n",
    "\n",
    "decomposed.resid.plot(ax = plt.gca())\n",
    "plt.title('Остатки')\n",
    "plt.xlabel('Дата')\n",
    "plt.ylabel('разница')\n",
    "plt.show()\n",
    "\n",
    "decomposed.seasonal.plot(ax = plt.gca())\n",
    "plt.title('Сезонность')\n",
    "plt.xlabel('Дата')\n",
    "plt.ylabel('Количество заказов')\n",
    "\n",
    "plt.show()"
   ]
  },
  {
   "cell_type": "markdown",
   "metadata": {},
   "source": [
    "Тренд вполне ожидаем, так как это заказы такси около аэропорта, то можно установить некоторую связь между ростом продаж авиабилетов и ростом заказов такси летом"
   ]
  },
  {
   "cell_type": "code",
   "execution_count": 14,
   "metadata": {},
   "outputs": [
    {
     "data": {
      "image/png": "[encoded data removed]",
      "text/plain": [
       "<Figure size 1080x432 with 1 Axes>"
      ]
     },
     "metadata": {},
     "output_type": "display_data"
    }
   ],
   "source": [
    "decomposed.seasonal['2018-03-01':'2018-03-05'].plot(ax = plt.gca())\n",
    "plt.title('Сезонность')\n",
    "plt.xlabel('Дата')\n",
    "plt.ylabel('Количество заказов');\n"
   ]
  },
  {
   "cell_type": "markdown",
   "metadata": {},
   "source": [
    "По графику видно, что сезонность представляет из себя колебания с периодом в один день"
   ]
  },
  {
   "cell_type": "code",
   "execution_count": 15,
   "metadata": {},
   "outputs": [
    {
     "data": {
      "image/png": "[encoded data removed]",
      "text/plain": [
       "<Figure size 1080x432 with 1 Axes>"
      ]
     },
     "metadata": {},
     "output_type": "display_data"
    }
   ],
   "source": [
    "decomposed.seasonal['2018-03-01'].plot(ax = plt.gca())\n",
    "plt.title('Сезонность')\n",
    "plt.xlabel('Дата')\n",
    "plt.ylabel('Количество заказов');\n"
   ]
  },
  {
   "cell_type": "markdown",
   "metadata": {},
   "source": [
    "Заметим пик заказов около 12 ночи, а также минимум в 6 утра. А также наблюдается локальный максимум около 3-ёх часов дня, после чего идет рост заказов вплоть до 12 ночи"
   ]
  },
  {
   "cell_type": "markdown",
   "metadata": {},
   "source": [
    "Эти наблюдения можно объяснить, так как скорее всего мало рейсов назначены в 6 утра, вто время как ночью и днем вылетает значительное количество самолетов"
   ]
  },
  {
   "cell_type": "markdown",
   "metadata": {},
   "source": [
    "<div class=\"alert alert-success\">\n",
    "<h2> Комментарий ревьюера v.2 <a class=\"tocSkip\"> </h2>\n",
    "\n",
    "<b>Все отлично!👍:</b> Учтено."
   ]
  },
  {
   "cell_type": "markdown",
   "metadata": {},
   "source": [
    "По графику остатков можно отметить характерный паттерн на протяжении всего промежутка, однако после августа наблюдаются какие-то шумы, скорее это вызвано трендом"
   ]
  },
  {
   "cell_type": "markdown",
   "metadata": {},
   "source": [
    "<div class=\"alert alert-success\">\n",
    "<h2> Комментарий ревьюера v.2 <a class=\"tocSkip\"> </h2>\n",
    "\n",
    "<b>Все отлично!👍:</b> Учтено."
   ]
  },
  {
   "cell_type": "code",
   "execution_count": 16,
   "metadata": {},
   "outputs": [
    {
     "name": "stderr",
     "output_type": "stream",
     "text": [
      "/tmp/ipykernel_138/1348899404.py:2: SettingWithCopyWarning: \n",
      "A value is trying to be set on a copy of a slice from a DataFrame.\n",
      "Try using .loc[row_indexer,col_indexer] = value instead\n",
      "\n",
      "See the caveats in the documentation: https://pandas.pydata.org/pandas-docs/stable/user_guide/indexing.html#returning-a-view-versus-a-copy\n",
      "  data_aug['rolling_mean'] = data_aug.shift().rolling(5).mean()\n"
     ]
    }
   ],
   "source": [
    "data_aug = data['2018-08-01':]\n",
    "data_aug['rolling_mean'] = data_aug.shift().rolling(5).mean()"
   ]
  },
  {
   "cell_type": "markdown",
   "metadata": {},
   "source": [
    "<div class=\"alert alert-success\">\n",
    "<h2> Комментарий ревьюера v.2 <a class=\"tocSkip\"> </h2>\n",
    "\n",
    "<b>Все отлично!👍:</b> Учтено."
   ]
  },
  {
   "cell_type": "code",
   "execution_count": 17,
   "metadata": {},
   "outputs": [
    {
     "data": {
      "image/png": "[encoded data removed]",
      "text/plain": [
       "<Figure size 1080x432 with 1 Axes>"
      ]
     },
     "metadata": {},
     "output_type": "display_data"
    }
   ],
   "source": [
    "data_aug.plot()\n",
    "plt.title('Заказы за Август');\n",
    "plt.xlabel('Дата')\n",
    "plt.ylabel('Количество заказов')\n",
    "plt.show()"
   ]
  },
  {
   "cell_type": "markdown",
   "metadata": {},
   "source": [
    "По графику видно, что 13, 20 и 27 августа наблюдаются пики по количеству заказов"
   ]
  },
  {
   "cell_type": "markdown",
   "metadata": {},
   "source": [
    "### Вывод по анализу:\n",
    "- По графику виден тренд роста заказов к августу. Тренд вполне ожидаем, так как это заказы такси около аэропорта, то можно установить некоторую связь между ростом продаж авиабилетов и ростом заказов такси летом\n",
    "- Ряд нельзя очень стационарным, так как с ростом тренда меняется среднее значение, что вполне логично\n",
    "- По графику остатков можно отметить характерный паттерн на протяжении всего промежутка, однако после августа наблюдаются какие-то шумы, скорее это вызвано трендом\n",
    "- По графику видно, что 13, 20 и 27 августа наблюдаются пики по количеству заказов\n",
    "- Заметим пик заказов около 12 ночи, а также минимум в 6 утра. А также наблюдается локальный максимум около 3-ёх часов дня, после чего идет рост заказов вплоть до 12 ночи. Эти наблюдения можно объяснить, так как скорее всего мало рейсов назначены в 6 утра, вто время как ночью и днем вылетает значительное количество самолетов"
   ]
  },
  {
   "cell_type": "markdown",
   "metadata": {},
   "source": [
    "<div class=\"alert alert-success\">\n",
    "<h2> Комментарий ревьюера <a class=\"tocSkip\"> </h2>\n",
    "\n",
    "<b>Все отлично!👍</b> \n",
    "    \n",
    "Выполнен EDA ряда - отлично!"
   ]
  },
  {
   "cell_type": "markdown",
   "metadata": {},
   "source": [
    "## Обучение"
   ]
  },
  {
   "cell_type": "markdown",
   "metadata": {},
   "source": [
    "<div class=\"alert alert-success\">\n",
    "<h2> Комментарий ревьюера v.2 <a class=\"tocSkip\"> </h2>\n",
    "\n",
    "<b>Все отлично!👍:</b> Учтено.\n",
    "    "
   ]
  },
  {
   "cell_type": "markdown",
   "metadata": {},
   "source": [
    "Напишем функцию добавления признаков по параметрам"
   ]
  },
  {
   "cell_type": "code",
   "execution_count": 18,
   "metadata": {},
   "outputs": [],
   "source": [
    "def make_features(d, max_lag, rol_size):\n",
    "    d_new = d.copy()\n",
    "    d_new['day'] = d_new.index.day\n",
    "    d_new['dayofweek'] = d_new.index.dayofweek\n",
    "    \n",
    "    for i in range(1, max_lag + 1):\n",
    "        col = \"lag_\" + str(i)\n",
    "        d_new[col] = d_new['num_orders'].shift(i)\n",
    "    d_new['rolling_mean'] = d_new['num_orders'].shift().rolling(rol_size).mean()\n",
    "    \n",
    "    return d_new.dropna()"
   ]
  },
  {
   "cell_type": "markdown",
   "metadata": {},
   "source": [
    "<div class=\"alert alert-success\">\n",
    "<h2> Комментарий ревьюера <a class=\"tocSkip\"> </h2>\n",
    "\n",
    "<b>Все отлично!👍</b> \n",
    "    \n",
    "Есть функция для новых признаков - отлично!"
   ]
  },
  {
   "cell_type": "markdown",
   "metadata": {},
   "source": [
    "<div class=\"alert alert-warning\">\n",
    "    <h2> Комментарий ревьюера <a class=\"tocSkip\"> </h2>\n",
    "    \n",
    "<b>Некоторые замечания и рекомендации⚠️:</b> \n",
    "Организация работы функции таким образом, чтобы она работала с глобальной переменной - не самая хорошая практика: если что-то пойдёт не так, придётся заново запускать весь процесс предобработки данных. \n",
    "        \n",
    "Лучше организовывать функцию так, чтобы она принимала на вход набор данных и возвращала результат работы, чтобы его можно было сохранить в новой переменной. Концепт:\n",
    "        \n",
    "    def foo(df):\n",
    "        df.dropna(inplace=True)\n",
    "    \n",
    "    foo(df)\n",
    "\n",
    "В этом случае изменения необратимы, так как мы модифицировали глобальную переменную `df` - эту переменную придётся загружать в память заново и заново её обрабатывать.\n",
    "        \n",
    "\n",
    "    def foo(df):\n",
    "        return df.dropna()\n",
    "    \n",
    "    foo(df)        \n",
    "Изменения будут необратимы и в таком случае, даже несмотря на на наличие `return`: несмотря на то, что работаем мы с локальной переменной, функция всё равно работает с объектом в памяти, связанным с глобальной переменной, пусть и через алиас.\n",
    "        \n",
    "    def foo(df):\n",
    "        df_foo = df.copy()\n",
    "        return df_foo.dropna()\n",
    "    \n",
    "    df_new = foo(df)\n",
    "Здесь внутри функции исходный объект копируется, и работа уже происходит с новым объектом. В этом случае результат работы функции с исходными данными мы складываем в новую переменную - таким образом исходная глобальная переменная не подвергается вмешательству и сохранятся на случай, если функция сработала неправильно.\n",
    "        \n",
    "</div>"
   ]
  },
  {
   "cell_type": "markdown",
   "metadata": {},
   "source": [
    "<div class=\"alert alert-success\">\n",
    "<h2> Комментарий ревьюера v.2 <a class=\"tocSkip\"> </h2>\n",
    "\n",
    "<b>Все отлично!👍:</b> Учтено."
   ]
  },
  {
   "cell_type": "markdown",
   "metadata": {},
   "source": [
    "<div class=\"alert alert-success\">\n",
    "<h2> Комментарий ревьюера v.2 <a class=\"tocSkip\"> </h2>\n",
    "\n",
    "<b>Все отлично!👍:</b> Учтено."
   ]
  },
  {
   "cell_type": "code",
   "execution_count": 19,
   "metadata": {},
   "outputs": [],
   "source": [
    "new_data = make_features(data, 25, 25)\n",
    "\n",
    "X = new_data.drop('num_orders', axis = 1)\n",
    "Y = new_data['num_orders']\n",
    "X_train, X_test, y_train, y_test = train_test_split(\n",
    "    X,\n",
    "    Y,\n",
    "    shuffle = False,\n",
    "    test_size = 0.1,\n",
    "    random_state = 17\n",
    ")"
   ]
  },
  {
   "cell_type": "markdown",
   "metadata": {},
   "source": [
    "<div class=\"alert alert-success\">\n",
    "<h2> Комментарий ревьюера <a class=\"tocSkip\"> </h2>\n",
    "\n",
    "<b>Все отлично!👍:</b>\n",
    "Сплитование выполнено корректно как с точки зрения учёта специфики временного ряда (отключено перемешивание), так и размера тестовой выборки. Также выделили признаки для обучения и целевой признак - хорошо!\n",
    "</div>"
   ]
  },
  {
   "cell_type": "markdown",
   "metadata": {},
   "source": [
    "Опробуем модели CatBoostRegressor, Ridge, LGBMRegressor с различными гиперпараметрами"
   ]
  },
  {
   "cell_type": "code",
   "execution_count": 20,
   "metadata": {},
   "outputs": [],
   "source": [
    "param_grid = {\n",
    "    'depth': [4, 6],\n",
    "    'learning_rate': np.arange(0.1, 0.2),\n",
    "}\n",
    "\n",
    "model_cat = CatBoostRegressor(l2_leaf_reg = 0.5,\n",
    "                              verbose = 0,\n",
    "                              random_state = RANDOM_STATE)"
   ]
  },
  {
   "cell_type": "markdown",
   "metadata": {},
   "source": [
    "<div class=\"alert alert-success\">\n",
    "<h2> Комментарий ревьюера v.2 <a class=\"tocSkip\"> </h2>\n",
    "\n",
    "<b>Все отлично!👍:</b> Учтено."
   ]
  },
  {
   "cell_type": "code",
   "execution_count": 21,
   "metadata": {},
   "outputs": [],
   "source": [
    "tscv = TimeSeriesSplit(n_splits = 5)"
   ]
  },
  {
   "cell_type": "markdown",
   "metadata": {},
   "source": [
    "<div class=\"alert alert-success\">\n",
    "<h2> Комментарий ревьюера <a class=\"tocSkip\"> </h2>\n",
    "\n",
    "<b>Все отлично!👍:</b>\n",
    "Молодец, что учитываешь специфику задачи временного ряда при выборе стратегии кросс-валидации: `TimeSeriesSplit` - отличное решение!"
   ]
  },
  {
   "cell_type": "code",
   "execution_count": 22,
   "metadata": {},
   "outputs": [
    {
     "name": "stdout",
     "output_type": "stream",
     "text": [
      "Best parameters: {'depth': 6, 'learning_rate': 0.1}\n",
      "Best RMSE: 25.085022076223847\n"
     ]
    }
   ],
   "source": [
    "grid_search_cat = GridSearchCV(\n",
    "    model_cat, \n",
    "    param_grid, \n",
    "    cv = tscv, \n",
    "    scoring = 'neg_root_mean_squared_error'\n",
    ")\n",
    "grid_search_cat.fit(X_train, y_train)\n",
    "\n",
    "best_model_cat = grid_search_cat.best_estimator_\n",
    "\n",
    "\n",
    "print(\"Best parameters:\", grid_search_cat.best_params_)\n",
    "print(\"Best RMSE:\", -grid_search_cat.best_score_)"
   ]
  },
  {
   "cell_type": "code",
   "execution_count": 23,
   "metadata": {},
   "outputs": [],
   "source": [
    "param_grid = {\n",
    "    'alpha': [0.1, 0.3, 0.5, 1, 10],  \n",
    "}\n",
    "\n",
    "model_ridge = Ridge(random_state = RANDOM_STATE)"
   ]
  },
  {
   "cell_type": "markdown",
   "metadata": {},
   "source": [
    "<div class=\"alert alert-success\">\n",
    "<h2> Комментарий ревьюера v.2 <a class=\"tocSkip\"> </h2>\n",
    "\n",
    "<b>Все отлично!👍:</b> Учтено."
   ]
  },
  {
   "cell_type": "code",
   "execution_count": 24,
   "metadata": {},
   "outputs": [
    {
     "name": "stdout",
     "output_type": "stream",
     "text": [
      "Best parameters: {'alpha': 10}\n",
      "Best RMSE: 27.234681799052062\n"
     ]
    }
   ],
   "source": [
    "grid_search_ridge = GridSearchCV(\n",
    "    model_ridge, \n",
    "    param_grid, \n",
    "    cv=tscv, \n",
    "    scoring='neg_root_mean_squared_error', \n",
    "    verbose=0\n",
    ")\n",
    "\n",
    "grid_search_ridge.fit(X_train, y_train)\n",
    "\n",
    "best_model_ridge = grid_search_ridge.best_estimator_\n",
    "\n",
    "print(\"Best parameters:\", grid_search_ridge.best_params_)\n",
    "print(\"Best RMSE:\", -grid_search_ridge.best_score_)"
   ]
  },
  {
   "cell_type": "code",
   "execution_count": 25,
   "metadata": {},
   "outputs": [
    {
     "name": "stdout",
     "output_type": "stream",
     "text": [
      "Лучшие параметры:  {'learning_rate': 0.1, 'max_depth': 6}\n",
      "Среднее значение RMSE на кросс-валидации: 25.593430054601026\n"
     ]
    }
   ],
   "source": [
    "lgbm_model = LGBMRegressor(objective='root_mean_squared_error', \n",
    "                           verbose= -1, \n",
    "                           random_state = RANDOM_STATE)\n",
    "\n",
    "param_grid = {\n",
    "    'learning_rate': [0.1, 0.3, 0.5],  \n",
    "    'max_depth': [1, 2, 6, 8]\n",
    "}\n",
    "\n",
    "grid_search_lgbm = GridSearchCV(\n",
    "    lgbm_model, \n",
    "    param_grid, \n",
    "    cv = tscv, \n",
    "    scoring='neg_root_mean_squared_error'\n",
    ")\n",
    "\n",
    "\n",
    "grid_search_lgbm.fit(X_train, y_train)\n",
    "\n",
    "best_lgbm_model = grid_search_lgbm.best_estimator_\n",
    "\n",
    "print(\"Лучшие параметры: \", grid_search_lgbm.best_params_)\n",
    "print(\"Среднее значение RMSE на кросс-валидации:\", -grid_search_lgbm.best_score_)\n"
   ]
  },
  {
   "cell_type": "markdown",
   "metadata": {},
   "source": [
    "Лучшей моделью на кросс-валидации считается CatBoostRegressor, именно ее мы и будем использовать для прогнозирования\\\n",
    "RMSE на кросс-валидации = 25.085"
   ]
  },
  {
   "cell_type": "markdown",
   "metadata": {},
   "source": [
    "### Вывод по обучению моделей\n",
    "Модели обучены, лучшими являются:\n",
    "- `CatBoost` {'depth': 6, 'learning_rate': 0.1} и l2_leaf_reg = 0.5\n",
    "- `Ridge` {'alpha': 10}\n",
    "- `LGBM` {'learning_rate': 0.1, 'max_depth': 6}\n",
    "\n",
    "Лучшей моделью на кросс-валидации считается CatBoostRegressor, именно ее мы и будем использовать для прогнозирования\\\n",
    "RMSE на кросс-валидации = 25.085"
   ]
  },
  {
   "cell_type": "markdown",
   "metadata": {},
   "source": [
    "<div class=\"alert alert-success\">\n",
    "<h2> Комментарий ревьюера <a class=\"tocSkip\"> </h2>\n",
    "\n",
    "<b>Все отлично!👍:</b>\n",
    "Исследовано несколько моделей."
   ]
  },
  {
   "cell_type": "markdown",
   "metadata": {},
   "source": [
    "<div class=\"alert alert-success\">\n",
    "<h2> Комментарий ревьюера v.2 <a class=\"tocSkip\"> </h2>\n",
    "\n",
    "<b>Все отлично!👍:</b> Учтено."
   ]
  },
  {
   "cell_type": "markdown",
   "metadata": {},
   "source": [
    "## Тестирование"
   ]
  },
  {
   "cell_type": "markdown",
   "metadata": {},
   "source": [
    "Проведем тестирование на лучшей модели"
   ]
  },
  {
   "cell_type": "code",
   "execution_count": 26,
   "metadata": {},
   "outputs": [
    {
     "name": "stdout",
     "output_type": "stream",
     "text": [
      "CatBoost RMSE = 40.58512674913216\n"
     ]
    }
   ],
   "source": [
    "preds_cat = best_model_cat.predict(X_test)\n",
    "\n",
    "print(\"CatBoost RMSE =\", mean_squared_error(y_test, preds_cat, squared=False))"
   ]
  },
  {
   "cell_type": "code",
   "execution_count": 27,
   "metadata": {},
   "outputs": [
    {
     "data": {
      "image/png": "[encoded data removed]",
      "text/plain": [
       "<Figure size 1080x432 with 1 Axes>"
      ]
     },
     "metadata": {},
     "output_type": "display_data"
    }
   ],
   "source": [
    "df_preds = pd.DataFrame(preds_cat, columns=['Predicted'])\n",
    "df_actual = pd.DataFrame(y_test.values, columns=['Actual'])\n",
    "df_check_preds = pd.concat([df_preds, df_actual], axis=1)\n",
    "df_check_preds.index = y_test.index\n",
    "df_check_preds.plot()\n",
    "plt.title('График предсказаний и действительный значений')\n",
    "plt.xlabel('Дата')\n",
    "plt.ylabel('Количество заказов');"
   ]
  },
  {
   "cell_type": "markdown",
   "metadata": {},
   "source": [
    "### Вывод по тестированию моделей\n",
    "Результат модели весьма хороший, RMSE = 40.6, что меньше порога заказчика.\\\n",
    "Значит именно эту модель следует использовать для прогнозирования количества заказов"
   ]
  },
  {
   "cell_type": "markdown",
   "metadata": {},
   "source": [
    "<div class=\"alert alert-success\">\n",
    "<h2> Комментарий ревьюера v.2 <a class=\"tocSkip\"> </h2>\n",
    "\n",
    "<b>Все отлично!👍:</b> Учтено."
   ]
  },
  {
   "cell_type": "markdown",
   "metadata": {},
   "source": [
    "<div class=\"alert alert-warning\">\n",
    "    <h2> Комментарий ревьюера <a class=\"tocSkip\"> </h2>\n",
    "    \n",
    "<b>Некоторые замечания и рекомендации⚠️:</b>\n",
    "Очень важно также проверить лучшую модель на адекватность, сравнив качество её предсказаний с качеством модели, которая предсказывала бы константу - вдруг окажется, что не было бы большого смысла заниматься созданием новых признаков, тюнингом и кросс-валидацией моделей, если можно было бы просто предсказывать среднее значение тренировочной выборки? \n",
    "    \n",
    "В качестве константной модели можно использовать `DummyRegressor` (https://scikit-learn.org/stable/modules/generated/sklearn.dummy.DummyRegressor.html) -  эта модель как раз создана для генерирования константных предсказаний.\n",
    "    \n",
    "Важно, чтобы результат тестирования нашей модели на тествой выборке был лучше, чем результат константной модели - в противном случае наша модель является бесполезной, так как все наши усилия над проектом не принесли результата, а можель, просто предсказывющая среднее на `train`, делает нашу работу лучше."
   ]
  },
  {
   "cell_type": "markdown",
   "metadata": {},
   "source": [
    "<div class=\"alert alert-warning\">\n",
    "    <h2> Комментарий ревьюера <a class=\"tocSkip\"> </h2>\n",
    "    \n",
    "<b>Некоторые замечания и рекомендации⚠️:</b> \n",
    "\n",
    "Здесь также было бы очень полезно визуализировать предсказания твоей лучшей модели и сравнить их с правильными ответами в формате линейного графика - так мы сможем более наглядно понять, в каких местах твоя модель делает хорошие предсказания, а в каких ошибается.\n",
    "        \n",
    "По графику обязательно нужно сделать вывод: стоит отметить, в каких участках ряда модель сильнее ошибается, а какие участки ряда предсказывает хорошо.\n",
    "\n",
    "</div>"
   ]
  },
  {
   "cell_type": "markdown",
   "metadata": {},
   "source": [
    "<div class=\"alert alert-success\">\n",
    "<h2> Комментарий ревьюера v.2 <a class=\"tocSkip\"> </h2>\n",
    "\n",
    "<b>Все отлично!👍:</b> Учтено."
   ]
  },
  {
   "cell_type": "markdown",
   "metadata": {},
   "source": [
    "## Общий вывод\n",
    "В данном проекте я работал с данными от сервиса \"четенькое такси\" для прогнозирования заказов такси. Во время выполнения удалось сделать несколько следующих выводов\n",
    "\n",
    "### Вывод по подготовке данных:\n",
    "- Данные представляет из себя таблицу кол-ва заказов такси за указанный промежуток времени из столбца datetime\n",
    "- Учитывая данные по промежуткам по 10 минут, минимальное значение = 0, медиана = 13, максимальное значение = 119\n",
    "- Пропуски в данных не обнаружены\n",
    "- Наблюдаем, что в период с 12 по 1 ночи было больше всего заказов - 124, в то время как в период с 4 утра по 5 утра было меньше всего заказов - 43\n",
    "\n",
    "### Вывод по анализу:\n",
    "- По графику виден тренд роста заказов к августу. Тренд вполне ожидаем, так как это заказы такси около аэропорта, то можно установить некоторую связь между ростом продаж авиабилетов и ростом заказов такси летом\n",
    "- Ряд нельзя очень стационарным, так как с ростом тренда меняется среднее значение, что вполне логично\n",
    "- По графику остатков можно отметить характерный паттерн на протяжении всего промежутка, однако после августа наблюдаются какие-то шумы, скорее это вызвано трендом\n",
    "- По графику видно, что 13, 20 и 27 августа наблюдаются пики по количеству заказов\n",
    "- Заметим пик заказов около 12 ночи, а также минимум в 6 утра. А также наблюдается локальный максимум около 3-ёх часов дня, после чего идет рост заказов вплоть до 12 ночи. Эти наблюдения можно объяснить, так как скорее всего мало рейсов назначены в 6 утра, вто время как ночью и днем вылетает значительное количество самолетов\n",
    "\n",
    "### Вывод по обучению моделей\n",
    "Модели обучены, лучшими являются:\n",
    "- `CatBoost` {'depth': 6, 'learning_rate': 0.1} и l2_leaf_reg = 0.5\n",
    "- `Ridge` {'alpha': 10}\n",
    "- `LGBM` {'learning_rate': 0.1, 'max_depth': 6}\n",
    "\n",
    "Лучшей моделью на кросс-валидации считается CatBoostRegressor, именно ее мы и будем использовать для прогнозирования\\\n",
    "RMSE на кросс-валидации = 25.085\n",
    "\n",
    "### Вывод по тестированию моделей\n",
    "Результат модели весьма хороший, RMSE = 40.6, что меньше порога заказчика.\\\n",
    "Значит именно эту модель следует использовать для прогнозирования количества заказов"
   ]
  },
  {
   "cell_type": "markdown",
   "metadata": {},
   "source": [
    "<div style=\"border:solid Chocolate 2px; padding: 40px\">\n",
    "\n",
    "# Комментарий ревьюера: общий вывод по проекту.\n",
    "\n",
    "Иван, проект получился на довольно хорошем уровне - отличная работа над проектом, молодец!\n",
    "\n",
    "Мне нравится твой аналитический подход к выполнению проекта, ты соблюдаешь структуру работы, выполняешь её последовательно - это очень хорошо! Шаги проекта выполнены по порядку согласно плану проекта, нет смысловых и структурных ям. Важно, что не забываешь про выводы.\n",
    "\n",
    "Работа с моделями также выполнена отлично: исследовано несколько алгоритмов, проведён подбор гиперпараметров с помощью `GridSearchCV`, выполнена промежуточная оценка моделей на кросс-валидации - молодец! Здорово, что учитываешь специфику задачи временного ряда при выборе стратегии кросс-валидации: `TimeSeriesSplit` - отличное решение!\n",
    "    \n",
    "Над проектом ещё стоит поработать - есть рекомендации по дополнению некоторых твоих шагов проекта. Такие рекомендации я отметил жёлтыми комментариями. Будет здорово, если ты учтёшь их - так проект станет структурно и содержательно более совершенным.\n",
    "    \n",
    "Также в работе есть критические замечания. К этим замечаниям я оставил пояснительные комментарии красного цвета, в которых перечислил возможные варианты дальнейших действий. Уверен, ты быстро с этим управишься:)\n",
    "    \n",
    "Если о том, что нужно сделать в рамках комментариев, будут возникать вопросы - оставь их, пожалуйста, в комментариях, и я отвечу на них во время следующего ревью.\n",
    "    \n",
    "Также буду рад ответить на любые твои вопросы по проекту или на какие-либо другие, если они у тебя имеются - оставь их в комментариях, и я постараюсь ответить:)\n",
    "    \n",
    "Жду твой проект на повторном ревью. До встречи:)"
   ]
  },
  {
   "cell_type": "markdown",
   "metadata": {},
   "source": [
    "<div style=\"border:solid Chocolate 2px; padding: 40px\">\n",
    "\n",
    "# Комментарий ревьюера: итоговый вывод по проекту.\n",
    "\n",
    "Иван, все замечания учтены - проект принят!\n",
    "    \n",
    "Спасибо за хорошую работу над проектом, желаю успехов в дальнейшем обучении:)"
   ]
  }
 ],
 "metadata": {
  "ExecuteTimeLog": [
   {
    "duration": 5448,
    "start_time": "2024-05-01T20:36:50.401Z"
   },
   {
    "duration": 194,
    "start_time": "2024-05-01T20:37:33.641Z"
   },
   {
    "duration": 113,
    "start_time": "2024-05-01T20:37:46.564Z"
   },
   {
    "duration": 14,
    "start_time": "2024-05-01T20:37:50.383Z"
   },
   {
    "duration": 66,
    "start_time": "2024-05-01T20:39:51.760Z"
   },
   {
    "duration": 10,
    "start_time": "2024-05-01T20:39:52.944Z"
   },
   {
    "duration": 6,
    "start_time": "2024-05-01T20:40:01.595Z"
   },
   {
    "duration": 14,
    "start_time": "2024-05-01T20:41:32.535Z"
   },
   {
    "duration": 12,
    "start_time": "2024-05-01T20:42:47.628Z"
   },
   {
    "duration": 7,
    "start_time": "2024-05-01T20:43:01.902Z"
   },
   {
    "duration": 8,
    "start_time": "2024-05-01T20:43:32.282Z"
   },
   {
    "duration": 4,
    "start_time": "2024-05-01T20:44:03.035Z"
   },
   {
    "duration": 66,
    "start_time": "2024-05-01T20:44:10.618Z"
   },
   {
    "duration": 7,
    "start_time": "2024-05-01T20:44:11.798Z"
   },
   {
    "duration": 14,
    "start_time": "2024-05-01T20:44:13.565Z"
   },
   {
    "duration": 13,
    "start_time": "2024-05-01T20:44:14.995Z"
   },
   {
    "duration": 8,
    "start_time": "2024-05-01T20:44:16.387Z"
   },
   {
    "duration": 4,
    "start_time": "2024-05-01T20:44:18.607Z"
   },
   {
    "duration": 18,
    "start_time": "2024-05-01T20:45:47.846Z"
   },
   {
    "duration": 20,
    "start_time": "2024-05-01T20:47:03.553Z"
   },
   {
    "duration": 7,
    "start_time": "2024-05-01T20:47:54.923Z"
   },
   {
    "duration": 86,
    "start_time": "2024-05-01T20:47:54.933Z"
   },
   {
    "duration": 0,
    "start_time": "2024-05-01T20:47:55.021Z"
   },
   {
    "duration": 0,
    "start_time": "2024-05-01T20:47:55.023Z"
   },
   {
    "duration": 0,
    "start_time": "2024-05-01T20:47:55.024Z"
   },
   {
    "duration": 0,
    "start_time": "2024-05-01T20:47:55.025Z"
   },
   {
    "duration": 0,
    "start_time": "2024-05-01T20:47:55.026Z"
   },
   {
    "duration": 0,
    "start_time": "2024-05-01T20:47:55.028Z"
   },
   {
    "duration": 8,
    "start_time": "2024-05-01T20:48:34.678Z"
   },
   {
    "duration": 72,
    "start_time": "2024-05-01T20:48:34.688Z"
   },
   {
    "duration": 8,
    "start_time": "2024-05-01T20:48:34.761Z"
   },
   {
    "duration": 13,
    "start_time": "2024-05-01T20:48:34.770Z"
   },
   {
    "duration": 13,
    "start_time": "2024-05-01T20:48:34.784Z"
   },
   {
    "duration": 5,
    "start_time": "2024-05-01T20:48:34.799Z"
   },
   {
    "duration": 4,
    "start_time": "2024-05-01T20:48:34.805Z"
   },
   {
    "duration": 10,
    "start_time": "2024-05-01T20:48:34.811Z"
   },
   {
    "duration": 10,
    "start_time": "2024-05-01T20:48:52.940Z"
   },
   {
    "duration": 10,
    "start_time": "2024-05-01T20:51:57.699Z"
   },
   {
    "duration": 7,
    "start_time": "2024-05-01T20:52:31.176Z"
   },
   {
    "duration": 115,
    "start_time": "2024-05-01T20:52:31.184Z"
   },
   {
    "duration": 8,
    "start_time": "2024-05-01T20:52:31.302Z"
   },
   {
    "duration": 35,
    "start_time": "2024-05-01T20:52:31.312Z"
   },
   {
    "duration": 22,
    "start_time": "2024-05-01T20:52:31.350Z"
   },
   {
    "duration": 20,
    "start_time": "2024-05-01T20:52:31.374Z"
   },
   {
    "duration": 33,
    "start_time": "2024-05-01T20:52:31.396Z"
   },
   {
    "duration": 31,
    "start_time": "2024-05-01T20:52:31.430Z"
   },
   {
    "duration": 31,
    "start_time": "2024-05-01T20:52:31.463Z"
   },
   {
    "duration": 8,
    "start_time": "2024-05-01T20:54:15.827Z"
   },
   {
    "duration": 11,
    "start_time": "2024-05-01T20:56:18.222Z"
   },
   {
    "duration": 332,
    "start_time": "2024-05-01T20:57:30.024Z"
   },
   {
    "duration": 221,
    "start_time": "2024-05-01T20:57:47.698Z"
   },
   {
    "duration": 8,
    "start_time": "2024-05-01T20:58:48.469Z"
   },
   {
    "duration": 69,
    "start_time": "2024-05-01T20:58:48.479Z"
   },
   {
    "duration": 4,
    "start_time": "2024-05-01T20:58:48.550Z"
   },
   {
    "duration": 17,
    "start_time": "2024-05-01T20:58:48.555Z"
   },
   {
    "duration": 13,
    "start_time": "2024-05-01T20:58:48.574Z"
   },
   {
    "duration": 11,
    "start_time": "2024-05-01T20:58:48.588Z"
   },
   {
    "duration": 5,
    "start_time": "2024-05-01T20:58:48.601Z"
   },
   {
    "duration": 6,
    "start_time": "2024-05-01T20:58:48.608Z"
   },
   {
    "duration": 21,
    "start_time": "2024-05-01T20:58:48.615Z"
   },
   {
    "duration": 11,
    "start_time": "2024-05-01T20:58:48.638Z"
   },
   {
    "duration": 262,
    "start_time": "2024-05-01T20:58:48.651Z"
   },
   {
    "duration": 11,
    "start_time": "2024-05-01T20:58:48.915Z"
   },
   {
    "duration": 16,
    "start_time": "2024-05-01T20:58:48.928Z"
   },
   {
    "duration": 6,
    "start_time": "2024-05-01T21:00:33.967Z"
   },
   {
    "duration": 251,
    "start_time": "2024-05-01T21:00:35.295Z"
   },
   {
    "duration": 761,
    "start_time": "2024-05-01T21:51:16.965Z"
   },
   {
    "duration": 13,
    "start_time": "2024-05-01T21:51:27.609Z"
   },
   {
    "duration": 13,
    "start_time": "2024-05-01T21:51:53.354Z"
   },
   {
    "duration": 829,
    "start_time": "2024-05-01T21:52:14.702Z"
   },
   {
    "duration": 240,
    "start_time": "2024-05-01T21:56:09.306Z"
   },
   {
    "duration": 12,
    "start_time": "2024-05-01T21:56:37.295Z"
   },
   {
    "duration": 320,
    "start_time": "2024-05-01T21:56:42.283Z"
   },
   {
    "duration": 8,
    "start_time": "2024-05-01T22:00:06.025Z"
   },
   {
    "duration": 137,
    "start_time": "2024-05-01T22:00:06.035Z"
   },
   {
    "duration": 2,
    "start_time": "2024-05-01T22:00:06.174Z"
   },
   {
    "duration": 26,
    "start_time": "2024-05-01T22:00:06.178Z"
   },
   {
    "duration": 14,
    "start_time": "2024-05-01T22:00:06.206Z"
   },
   {
    "duration": 9,
    "start_time": "2024-05-01T22:00:06.221Z"
   },
   {
    "duration": 5,
    "start_time": "2024-05-01T22:00:06.232Z"
   },
   {
    "duration": 12,
    "start_time": "2024-05-01T22:00:06.239Z"
   },
   {
    "duration": 29,
    "start_time": "2024-05-01T22:00:06.252Z"
   },
   {
    "duration": 13,
    "start_time": "2024-05-01T22:00:06.283Z"
   },
   {
    "duration": 12,
    "start_time": "2024-05-01T22:00:06.298Z"
   },
   {
    "duration": 257,
    "start_time": "2024-05-01T22:00:06.312Z"
   },
   {
    "duration": 16,
    "start_time": "2024-05-01T22:00:06.570Z"
   },
   {
    "duration": 0,
    "start_time": "2024-05-01T22:00:06.587Z"
   },
   {
    "duration": 11,
    "start_time": "2024-05-01T22:00:18.005Z"
   },
   {
    "duration": 353,
    "start_time": "2024-05-01T22:00:28.460Z"
   },
   {
    "duration": 12,
    "start_time": "2024-05-01T22:00:31.342Z"
   },
   {
    "duration": 7,
    "start_time": "2024-05-01T22:00:35.709Z"
   },
   {
    "duration": 89,
    "start_time": "2024-05-01T22:00:35.718Z"
   },
   {
    "duration": 2,
    "start_time": "2024-05-01T22:00:35.809Z"
   },
   {
    "duration": 9,
    "start_time": "2024-05-01T22:00:35.813Z"
   },
   {
    "duration": 15,
    "start_time": "2024-05-01T22:00:35.825Z"
   },
   {
    "duration": 11,
    "start_time": "2024-05-01T22:00:35.842Z"
   },
   {
    "duration": 6,
    "start_time": "2024-05-01T22:00:35.855Z"
   },
   {
    "duration": 5,
    "start_time": "2024-05-01T22:00:35.882Z"
   },
   {
    "duration": 14,
    "start_time": "2024-05-01T22:00:35.888Z"
   },
   {
    "duration": 16,
    "start_time": "2024-05-01T22:00:35.903Z"
   },
   {
    "duration": 6,
    "start_time": "2024-05-01T22:00:35.921Z"
   },
   {
    "duration": 267,
    "start_time": "2024-05-01T22:00:35.928Z"
   },
   {
    "duration": 11,
    "start_time": "2024-05-01T22:00:36.196Z"
   },
   {
    "duration": 0,
    "start_time": "2024-05-01T22:00:36.208Z"
   },
   {
    "duration": 14,
    "start_time": "2024-05-01T22:01:14.362Z"
   },
   {
    "duration": 5,
    "start_time": "2024-05-01T22:01:16.498Z"
   },
   {
    "duration": 248,
    "start_time": "2024-05-01T22:01:17.651Z"
   },
   {
    "duration": 10,
    "start_time": "2024-05-01T22:01:22.727Z"
   },
   {
    "duration": 7,
    "start_time": "2024-05-01T22:01:28.138Z"
   },
   {
    "duration": 68,
    "start_time": "2024-05-01T22:01:28.148Z"
   },
   {
    "duration": 3,
    "start_time": "2024-05-01T22:01:28.218Z"
   },
   {
    "duration": 18,
    "start_time": "2024-05-01T22:01:28.223Z"
   },
   {
    "duration": 19,
    "start_time": "2024-05-01T22:01:28.244Z"
   },
   {
    "duration": 9,
    "start_time": "2024-05-01T22:01:28.265Z"
   },
   {
    "duration": 7,
    "start_time": "2024-05-01T22:01:28.275Z"
   },
   {
    "duration": 3,
    "start_time": "2024-05-01T22:01:28.284Z"
   },
   {
    "duration": 10,
    "start_time": "2024-05-01T22:01:28.288Z"
   },
   {
    "duration": 13,
    "start_time": "2024-05-01T22:01:28.299Z"
   },
   {
    "duration": 5,
    "start_time": "2024-05-01T22:01:28.314Z"
   },
   {
    "duration": 299,
    "start_time": "2024-05-01T22:01:28.320Z"
   },
   {
    "duration": 11,
    "start_time": "2024-05-01T22:01:28.621Z"
   },
   {
    "duration": 0,
    "start_time": "2024-05-01T22:01:28.634Z"
   },
   {
    "duration": 5,
    "start_time": "2024-05-01T22:01:50.929Z"
   },
   {
    "duration": 259,
    "start_time": "2024-05-01T22:01:52.304Z"
   },
   {
    "duration": 11,
    "start_time": "2024-05-01T22:01:57.860Z"
   },
   {
    "duration": 7,
    "start_time": "2024-05-01T22:02:17.128Z"
   },
   {
    "duration": 252,
    "start_time": "2024-05-01T22:02:45.861Z"
   },
   {
    "duration": 352,
    "start_time": "2024-05-01T22:02:58.618Z"
   },
   {
    "duration": 7,
    "start_time": "2024-05-01T22:03:04.213Z"
   },
   {
    "duration": 78,
    "start_time": "2024-05-01T22:03:04.222Z"
   },
   {
    "duration": 3,
    "start_time": "2024-05-01T22:03:04.301Z"
   },
   {
    "duration": 8,
    "start_time": "2024-05-01T22:03:04.306Z"
   },
   {
    "duration": 13,
    "start_time": "2024-05-01T22:03:04.316Z"
   },
   {
    "duration": 10,
    "start_time": "2024-05-01T22:03:04.330Z"
   },
   {
    "duration": 5,
    "start_time": "2024-05-01T22:03:04.341Z"
   },
   {
    "duration": 3,
    "start_time": "2024-05-01T22:03:04.348Z"
   },
   {
    "duration": 40,
    "start_time": "2024-05-01T22:03:04.353Z"
   },
   {
    "duration": 235,
    "start_time": "2024-05-01T22:03:04.394Z"
   },
   {
    "duration": 6,
    "start_time": "2024-05-01T22:03:04.631Z"
   },
   {
    "duration": 12,
    "start_time": "2024-05-01T22:03:04.638Z"
   },
   {
    "duration": 728,
    "start_time": "2024-05-01T22:03:04.652Z"
   },
   {
    "duration": 205,
    "start_time": "2024-05-01T22:03:55.531Z"
   },
   {
    "duration": 229,
    "start_time": "2024-05-01T22:04:46.232Z"
   },
   {
    "duration": 238,
    "start_time": "2024-05-01T22:06:08.376Z"
   },
   {
    "duration": 355,
    "start_time": "2024-05-01T22:06:29.292Z"
   },
   {
    "duration": 224,
    "start_time": "2024-05-01T22:06:33.520Z"
   },
   {
    "duration": 243,
    "start_time": "2024-05-01T22:06:55.796Z"
   },
   {
    "duration": 254,
    "start_time": "2024-05-01T22:07:03.561Z"
   },
   {
    "duration": 238,
    "start_time": "2024-05-01T22:07:07.760Z"
   },
   {
    "duration": 243,
    "start_time": "2024-05-01T22:07:34.132Z"
   },
   {
    "duration": 232,
    "start_time": "2024-05-01T22:07:49.229Z"
   },
   {
    "duration": 332,
    "start_time": "2024-05-01T22:10:56.122Z"
   },
   {
    "duration": 242,
    "start_time": "2024-05-01T22:11:18.908Z"
   },
   {
    "duration": 247,
    "start_time": "2024-05-01T22:11:31.216Z"
   },
   {
    "duration": 53,
    "start_time": "2024-05-01T22:12:21.679Z"
   },
   {
    "duration": 249,
    "start_time": "2024-05-01T22:13:00.156Z"
   },
   {
    "duration": 240,
    "start_time": "2024-05-01T22:13:12.143Z"
   },
   {
    "duration": 225,
    "start_time": "2024-05-01T22:13:30.227Z"
   },
   {
    "duration": 72,
    "start_time": "2024-05-01T22:13:49.830Z"
   },
   {
    "duration": 228,
    "start_time": "2024-05-01T22:13:59.950Z"
   },
   {
    "duration": 3,
    "start_time": "2024-05-01T22:15:21.459Z"
   },
   {
    "duration": 351,
    "start_time": "2024-05-01T22:18:08.984Z"
   },
   {
    "duration": 4,
    "start_time": "2024-05-01T22:21:59.563Z"
   },
   {
    "duration": 4,
    "start_time": "2024-05-01T22:33:58.649Z"
   },
   {
    "duration": 14,
    "start_time": "2024-05-01T22:34:26.110Z"
   },
   {
    "duration": 12,
    "start_time": "2024-05-01T22:35:44.058Z"
   },
   {
    "duration": 5,
    "start_time": "2024-05-01T22:35:57.595Z"
   },
   {
    "duration": 22,
    "start_time": "2024-05-01T22:36:04.056Z"
   },
   {
    "duration": 11,
    "start_time": "2024-05-01T22:36:30.373Z"
   },
   {
    "duration": 20,
    "start_time": "2024-05-01T22:36:33.020Z"
   },
   {
    "duration": 16,
    "start_time": "2024-05-01T22:39:01.237Z"
   },
   {
    "duration": 8,
    "start_time": "2024-05-01T22:44:36.295Z"
   },
   {
    "duration": 22237,
    "start_time": "2024-05-01T22:46:47.515Z"
   },
   {
    "duration": 20588,
    "start_time": "2024-05-01T22:48:41.715Z"
   },
   {
    "duration": 15,
    "start_time": "2024-05-01T22:50:01.062Z"
   },
   {
    "duration": 6,
    "start_time": "2024-05-01T22:50:16.996Z"
   },
   {
    "duration": 4,
    "start_time": "2024-05-01T22:51:25.225Z"
   },
   {
    "duration": 11,
    "start_time": "2024-05-01T22:51:26.200Z"
   },
   {
    "duration": 21,
    "start_time": "2024-05-01T22:51:27.927Z"
   },
   {
    "duration": 21228,
    "start_time": "2024-05-01T22:51:31.165Z"
   },
   {
    "duration": 8,
    "start_time": "2024-05-01T22:51:55.072Z"
   },
   {
    "duration": 4,
    "start_time": "2024-05-01T22:52:04.688Z"
   },
   {
    "duration": 14,
    "start_time": "2024-05-01T22:52:12.890Z"
   },
   {
    "duration": 20,
    "start_time": "2024-05-01T22:52:14.399Z"
   },
   {
    "duration": 23941,
    "start_time": "2024-05-01T22:52:16.892Z"
   },
   {
    "duration": 6,
    "start_time": "2024-05-01T22:52:44.437Z"
   },
   {
    "duration": 5,
    "start_time": "2024-05-01T22:54:36.512Z"
   },
   {
    "duration": 11,
    "start_time": "2024-05-01T22:54:37.711Z"
   },
   {
    "duration": 17,
    "start_time": "2024-05-01T22:54:39.721Z"
   },
   {
    "duration": 23854,
    "start_time": "2024-05-01T22:54:42.154Z"
   },
   {
    "duration": 7,
    "start_time": "2024-05-01T22:55:08.448Z"
   },
   {
    "duration": 4,
    "start_time": "2024-05-01T22:55:14.751Z"
   },
   {
    "duration": 10,
    "start_time": "2024-05-01T22:55:17.974Z"
   },
   {
    "duration": 19,
    "start_time": "2024-05-01T22:55:20.673Z"
   },
   {
    "duration": 9,
    "start_time": "2024-05-01T22:55:26.764Z"
   },
   {
    "duration": 71,
    "start_time": "2024-05-01T22:55:26.775Z"
   },
   {
    "duration": 2,
    "start_time": "2024-05-01T22:55:26.848Z"
   },
   {
    "duration": 8,
    "start_time": "2024-05-01T22:55:26.852Z"
   },
   {
    "duration": 12,
    "start_time": "2024-05-01T22:55:26.862Z"
   },
   {
    "duration": 15,
    "start_time": "2024-05-01T22:55:26.875Z"
   },
   {
    "duration": 5,
    "start_time": "2024-05-01T22:55:26.892Z"
   },
   {
    "duration": 8,
    "start_time": "2024-05-01T22:55:26.898Z"
   },
   {
    "duration": 15,
    "start_time": "2024-05-01T22:55:26.907Z"
   },
   {
    "duration": 264,
    "start_time": "2024-05-01T22:55:26.924Z"
   },
   {
    "duration": 7,
    "start_time": "2024-05-01T22:55:27.190Z"
   },
   {
    "duration": 701,
    "start_time": "2024-05-01T22:55:27.198Z"
   },
   {
    "duration": 249,
    "start_time": "2024-05-01T22:55:27.901Z"
   },
   {
    "duration": 245,
    "start_time": "2024-05-01T22:55:28.153Z"
   },
   {
    "duration": 4,
    "start_time": "2024-05-01T22:55:28.400Z"
   },
   {
    "duration": 17,
    "start_time": "2024-05-01T22:55:28.405Z"
   },
   {
    "duration": 16,
    "start_time": "2024-05-01T22:55:28.424Z"
   },
   {
    "duration": 23126,
    "start_time": "2024-05-01T22:55:28.442Z"
   },
   {
    "duration": 6,
    "start_time": "2024-05-01T22:55:51.569Z"
   },
   {
    "duration": 149,
    "start_time": "2024-05-01T22:57:58.745Z"
   },
   {
    "duration": 6,
    "start_time": "2024-05-01T23:05:51.181Z"
   },
   {
    "duration": 16,
    "start_time": "2024-05-01T23:05:51.189Z"
   },
   {
    "duration": 72,
    "start_time": "2024-05-01T23:05:51.206Z"
   },
   {
    "duration": 3,
    "start_time": "2024-05-01T23:05:51.279Z"
   },
   {
    "duration": 10,
    "start_time": "2024-05-01T23:05:51.284Z"
   },
   {
    "duration": 20,
    "start_time": "2024-05-01T23:05:51.295Z"
   },
   {
    "duration": 15,
    "start_time": "2024-05-01T23:05:51.316Z"
   },
   {
    "duration": 6,
    "start_time": "2024-05-01T23:05:51.332Z"
   },
   {
    "duration": 4,
    "start_time": "2024-05-01T23:05:51.339Z"
   },
   {
    "duration": 12,
    "start_time": "2024-05-01T23:05:51.345Z"
   },
   {
    "duration": 256,
    "start_time": "2024-05-01T23:05:51.358Z"
   },
   {
    "duration": 7,
    "start_time": "2024-05-01T23:05:51.615Z"
   },
   {
    "duration": 859,
    "start_time": "2024-05-01T23:05:51.623Z"
   },
   {
    "duration": 245,
    "start_time": "2024-05-01T23:05:52.485Z"
   },
   {
    "duration": 242,
    "start_time": "2024-05-01T23:05:52.732Z"
   },
   {
    "duration": 7,
    "start_time": "2024-05-01T23:05:52.976Z"
   },
   {
    "duration": 26,
    "start_time": "2024-05-01T23:05:52.984Z"
   },
   {
    "duration": 17,
    "start_time": "2024-05-01T23:05:53.012Z"
   },
   {
    "duration": 24325,
    "start_time": "2024-05-01T23:05:53.030Z"
   },
   {
    "duration": 148,
    "start_time": "2024-05-01T23:06:17.357Z"
   },
   {
    "duration": 81,
    "start_time": "2024-05-01T23:06:17.507Z"
   },
   {
    "duration": 0,
    "start_time": "2024-05-01T23:06:17.590Z"
   },
   {
    "duration": 1947,
    "start_time": "2024-05-01T23:06:48.239Z"
   },
   {
    "duration": 27166,
    "start_time": "2024-05-01T23:07:58.421Z"
   },
   {
    "duration": 28695,
    "start_time": "2024-05-01T23:08:49.394Z"
   },
   {
    "duration": 15,
    "start_time": "2024-05-01T23:09:30.140Z"
   },
   {
    "duration": 12,
    "start_time": "2024-05-01T23:09:42.724Z"
   },
   {
    "duration": 6,
    "start_time": "2024-05-01T23:10:39.559Z"
   },
   {
    "duration": 22,
    "start_time": "2024-05-01T23:10:39.567Z"
   },
   {
    "duration": 80,
    "start_time": "2024-05-01T23:10:39.591Z"
   },
   {
    "duration": 3,
    "start_time": "2024-05-01T23:10:39.672Z"
   },
   {
    "duration": 16,
    "start_time": "2024-05-01T23:10:39.677Z"
   },
   {
    "duration": 24,
    "start_time": "2024-05-01T23:10:39.695Z"
   },
   {
    "duration": 20,
    "start_time": "2024-05-01T23:10:39.721Z"
   },
   {
    "duration": 6,
    "start_time": "2024-05-01T23:10:39.743Z"
   },
   {
    "duration": 23,
    "start_time": "2024-05-01T23:10:39.750Z"
   },
   {
    "duration": 33,
    "start_time": "2024-05-01T23:10:39.774Z"
   },
   {
    "duration": 236,
    "start_time": "2024-05-01T23:10:39.809Z"
   },
   {
    "duration": 7,
    "start_time": "2024-05-01T23:10:40.047Z"
   },
   {
    "duration": 713,
    "start_time": "2024-05-01T23:10:40.055Z"
   },
   {
    "duration": 364,
    "start_time": "2024-05-01T23:10:40.771Z"
   },
   {
    "duration": 246,
    "start_time": "2024-05-01T23:10:41.136Z"
   },
   {
    "duration": 4,
    "start_time": "2024-05-01T23:10:41.383Z"
   },
   {
    "duration": 19,
    "start_time": "2024-05-01T23:10:41.389Z"
   },
   {
    "duration": 17,
    "start_time": "2024-05-01T23:10:41.409Z"
   },
   {
    "duration": 23663,
    "start_time": "2024-05-01T23:10:41.427Z"
   },
   {
    "duration": 208,
    "start_time": "2024-05-01T23:11:05.092Z"
   },
   {
    "duration": 19288,
    "start_time": "2024-05-01T23:11:05.302Z"
   },
   {
    "duration": 93,
    "start_time": "2024-05-01T23:11:24.591Z"
   },
   {
    "duration": 7,
    "start_time": "2024-05-01T23:11:35.942Z"
   },
   {
    "duration": 20,
    "start_time": "2024-05-01T23:11:35.950Z"
   },
   {
    "duration": 75,
    "start_time": "2024-05-01T23:11:35.971Z"
   },
   {
    "duration": 2,
    "start_time": "2024-05-01T23:11:36.048Z"
   },
   {
    "duration": 9,
    "start_time": "2024-05-01T23:11:36.053Z"
   },
   {
    "duration": 13,
    "start_time": "2024-05-01T23:11:36.064Z"
   },
   {
    "duration": 9,
    "start_time": "2024-05-01T23:11:36.079Z"
   },
   {
    "duration": 5,
    "start_time": "2024-05-01T23:11:36.089Z"
   },
   {
    "duration": 5,
    "start_time": "2024-05-01T23:11:36.095Z"
   },
   {
    "duration": 16,
    "start_time": "2024-05-01T23:11:36.101Z"
   },
   {
    "duration": 278,
    "start_time": "2024-05-01T23:11:36.119Z"
   },
   {
    "duration": 8,
    "start_time": "2024-05-01T23:11:36.398Z"
   },
   {
    "duration": 724,
    "start_time": "2024-05-01T23:11:36.408Z"
   },
   {
    "duration": 236,
    "start_time": "2024-05-01T23:11:37.135Z"
   },
   {
    "duration": 229,
    "start_time": "2024-05-01T23:11:37.381Z"
   },
   {
    "duration": 12,
    "start_time": "2024-05-01T23:11:37.612Z"
   },
   {
    "duration": 24,
    "start_time": "2024-05-01T23:11:37.625Z"
   },
   {
    "duration": 17,
    "start_time": "2024-05-01T23:11:37.651Z"
   },
   {
    "duration": 24386,
    "start_time": "2024-05-01T23:11:37.669Z"
   },
   {
    "duration": 147,
    "start_time": "2024-05-01T23:12:02.057Z"
   },
   {
    "duration": 20583,
    "start_time": "2024-05-01T23:12:02.205Z"
   },
   {
    "duration": 17,
    "start_time": "2024-05-01T23:12:22.790Z"
   },
   {
    "duration": 6,
    "start_time": "2024-05-01T23:13:04.593Z"
   },
   {
    "duration": 10,
    "start_time": "2024-05-01T23:13:04.601Z"
   },
   {
    "duration": 69,
    "start_time": "2024-05-01T23:13:04.613Z"
   },
   {
    "duration": 3,
    "start_time": "2024-05-01T23:13:04.684Z"
   },
   {
    "duration": 9,
    "start_time": "2024-05-01T23:13:04.688Z"
   },
   {
    "duration": 13,
    "start_time": "2024-05-01T23:13:04.698Z"
   },
   {
    "duration": 10,
    "start_time": "2024-05-01T23:13:04.712Z"
   },
   {
    "duration": 5,
    "start_time": "2024-05-01T23:13:04.724Z"
   },
   {
    "duration": 5,
    "start_time": "2024-05-01T23:13:04.731Z"
   },
   {
    "duration": 46,
    "start_time": "2024-05-01T23:13:04.738Z"
   },
   {
    "duration": 376,
    "start_time": "2024-05-01T23:13:04.786Z"
   },
   {
    "duration": 7,
    "start_time": "2024-05-01T23:13:05.163Z"
   },
   {
    "duration": 719,
    "start_time": "2024-05-01T23:13:05.181Z"
   },
   {
    "duration": 264,
    "start_time": "2024-05-01T23:13:05.905Z"
   },
   {
    "duration": 253,
    "start_time": "2024-05-01T23:13:06.171Z"
   },
   {
    "duration": 5,
    "start_time": "2024-05-01T23:13:06.426Z"
   },
   {
    "duration": 15,
    "start_time": "2024-05-01T23:13:06.433Z"
   },
   {
    "duration": 33,
    "start_time": "2024-05-01T23:13:06.449Z"
   },
   {
    "duration": 19934,
    "start_time": "2024-05-01T23:13:06.484Z"
   },
   {
    "duration": 98,
    "start_time": "2024-05-01T23:13:26.420Z"
   },
   {
    "duration": 18172,
    "start_time": "2024-05-01T23:13:26.519Z"
   },
   {
    "duration": 91,
    "start_time": "2024-05-01T23:13:44.693Z"
   },
   {
    "duration": 6,
    "start_time": "2024-05-01T23:13:59.635Z"
   },
   {
    "duration": 10,
    "start_time": "2024-05-01T23:13:59.643Z"
   },
   {
    "duration": 69,
    "start_time": "2024-05-01T23:13:59.654Z"
   },
   {
    "duration": 3,
    "start_time": "2024-05-01T23:13:59.724Z"
   },
   {
    "duration": 7,
    "start_time": "2024-05-01T23:13:59.729Z"
   },
   {
    "duration": 12,
    "start_time": "2024-05-01T23:13:59.737Z"
   },
   {
    "duration": 9,
    "start_time": "2024-05-01T23:13:59.751Z"
   },
   {
    "duration": 7,
    "start_time": "2024-05-01T23:13:59.761Z"
   },
   {
    "duration": 13,
    "start_time": "2024-05-01T23:13:59.770Z"
   },
   {
    "duration": 12,
    "start_time": "2024-05-01T23:13:59.784Z"
   },
   {
    "duration": 248,
    "start_time": "2024-05-01T23:13:59.797Z"
   },
   {
    "duration": 8,
    "start_time": "2024-05-01T23:14:00.046Z"
   },
   {
    "duration": 837,
    "start_time": "2024-05-01T23:14:00.055Z"
   },
   {
    "duration": 250,
    "start_time": "2024-05-01T23:14:00.896Z"
   },
   {
    "duration": 247,
    "start_time": "2024-05-01T23:14:01.148Z"
   },
   {
    "duration": 4,
    "start_time": "2024-05-01T23:14:01.397Z"
   },
   {
    "duration": 34,
    "start_time": "2024-05-01T23:14:01.402Z"
   },
   {
    "duration": 24,
    "start_time": "2024-05-01T23:14:01.437Z"
   },
   {
    "duration": 25413,
    "start_time": "2024-05-01T23:14:01.463Z"
   },
   {
    "duration": 223,
    "start_time": "2024-05-01T23:14:26.878Z"
   },
   {
    "duration": 22094,
    "start_time": "2024-05-01T23:14:27.102Z"
   },
   {
    "duration": 92,
    "start_time": "2024-05-01T23:14:49.198Z"
   },
   {
    "duration": 6,
    "start_time": "2024-05-01T23:15:31.357Z"
   },
   {
    "duration": 33,
    "start_time": "2024-05-01T23:15:31.365Z"
   },
   {
    "duration": 105,
    "start_time": "2024-05-01T23:15:31.400Z"
   },
   {
    "duration": 2,
    "start_time": "2024-05-01T23:15:31.507Z"
   },
   {
    "duration": 50,
    "start_time": "2024-05-01T23:15:31.511Z"
   },
   {
    "duration": 33,
    "start_time": "2024-05-01T23:15:31.562Z"
   },
   {
    "duration": 25,
    "start_time": "2024-05-01T23:15:31.597Z"
   },
   {
    "duration": 16,
    "start_time": "2024-05-01T23:15:31.624Z"
   },
   {
    "duration": 34,
    "start_time": "2024-05-01T23:15:31.642Z"
   },
   {
    "duration": 28,
    "start_time": "2024-05-01T23:15:31.678Z"
   },
   {
    "duration": 248,
    "start_time": "2024-05-01T23:15:31.708Z"
   },
   {
    "duration": 7,
    "start_time": "2024-05-01T23:15:31.957Z"
   },
   {
    "duration": 734,
    "start_time": "2024-05-01T23:15:31.965Z"
   },
   {
    "duration": 244,
    "start_time": "2024-05-01T23:15:32.702Z"
   },
   {
    "duration": 374,
    "start_time": "2024-05-01T23:15:32.948Z"
   },
   {
    "duration": 4,
    "start_time": "2024-05-01T23:15:33.324Z"
   },
   {
    "duration": 19,
    "start_time": "2024-05-01T23:15:33.329Z"
   },
   {
    "duration": 14,
    "start_time": "2024-05-01T23:15:33.350Z"
   },
   {
    "duration": 36842,
    "start_time": "2024-05-01T23:15:33.366Z"
   },
   {
    "duration": 209,
    "start_time": "2024-05-01T23:16:10.209Z"
   },
   {
    "duration": 32765,
    "start_time": "2024-05-01T23:16:10.419Z"
   },
   {
    "duration": 12,
    "start_time": "2024-05-01T23:16:43.186Z"
   },
   {
    "duration": 6,
    "start_time": "2024-05-01T23:17:10.767Z"
   },
   {
    "duration": 26,
    "start_time": "2024-05-01T23:17:10.775Z"
   },
   {
    "duration": 71,
    "start_time": "2024-05-01T23:17:10.803Z"
   },
   {
    "duration": 2,
    "start_time": "2024-05-01T23:17:10.876Z"
   },
   {
    "duration": 25,
    "start_time": "2024-05-01T23:17:10.880Z"
   },
   {
    "duration": 27,
    "start_time": "2024-05-01T23:17:10.907Z"
   },
   {
    "duration": 9,
    "start_time": "2024-05-01T23:17:10.936Z"
   },
   {
    "duration": 5,
    "start_time": "2024-05-01T23:17:10.947Z"
   },
   {
    "duration": 17,
    "start_time": "2024-05-01T23:17:10.953Z"
   },
   {
    "duration": 19,
    "start_time": "2024-05-01T23:17:10.971Z"
   },
   {
    "duration": 238,
    "start_time": "2024-05-01T23:17:10.991Z"
   },
   {
    "duration": 9,
    "start_time": "2024-05-01T23:17:11.230Z"
   },
   {
    "duration": 741,
    "start_time": "2024-05-01T23:17:11.241Z"
   },
   {
    "duration": 235,
    "start_time": "2024-05-01T23:17:11.984Z"
   },
   {
    "duration": 238,
    "start_time": "2024-05-01T23:17:12.221Z"
   },
   {
    "duration": 4,
    "start_time": "2024-05-01T23:17:12.460Z"
   },
   {
    "duration": 27,
    "start_time": "2024-05-01T23:17:12.466Z"
   },
   {
    "duration": 18,
    "start_time": "2024-05-01T23:17:12.495Z"
   },
   {
    "duration": 43951,
    "start_time": "2024-05-01T23:17:12.514Z"
   },
   {
    "duration": 428,
    "start_time": "2024-05-01T23:17:56.467Z"
   },
   {
    "duration": 33692,
    "start_time": "2024-05-01T23:17:56.897Z"
   },
   {
    "duration": 14,
    "start_time": "2024-05-01T23:18:30.590Z"
   },
   {
    "duration": 6,
    "start_time": "2024-05-01T23:19:13.768Z"
   },
   {
    "duration": 9,
    "start_time": "2024-05-01T23:19:13.775Z"
   },
   {
    "duration": 77,
    "start_time": "2024-05-01T23:19:13.786Z"
   },
   {
    "duration": 3,
    "start_time": "2024-05-01T23:19:13.865Z"
   },
   {
    "duration": 8,
    "start_time": "2024-05-01T23:19:13.871Z"
   },
   {
    "duration": 34,
    "start_time": "2024-05-01T23:19:13.880Z"
   },
   {
    "duration": 12,
    "start_time": "2024-05-01T23:19:13.916Z"
   },
   {
    "duration": 6,
    "start_time": "2024-05-01T23:19:13.930Z"
   },
   {
    "duration": 5,
    "start_time": "2024-05-01T23:19:13.937Z"
   },
   {
    "duration": 12,
    "start_time": "2024-05-01T23:19:13.944Z"
   },
   {
    "duration": 258,
    "start_time": "2024-05-01T23:19:13.958Z"
   },
   {
    "duration": 9,
    "start_time": "2024-05-01T23:19:14.218Z"
   },
   {
    "duration": 847,
    "start_time": "2024-05-01T23:19:14.229Z"
   },
   {
    "duration": 240,
    "start_time": "2024-05-01T23:19:15.078Z"
   },
   {
    "duration": 251,
    "start_time": "2024-05-01T23:19:15.320Z"
   },
   {
    "duration": 11,
    "start_time": "2024-05-01T23:19:15.573Z"
   },
   {
    "duration": 28,
    "start_time": "2024-05-01T23:19:15.585Z"
   },
   {
    "duration": 16,
    "start_time": "2024-05-01T23:19:15.614Z"
   },
   {
    "duration": 23347,
    "start_time": "2024-05-01T23:19:15.632Z"
   },
   {
    "duration": 401,
    "start_time": "2024-05-01T23:19:38.981Z"
   },
   {
    "duration": 36515,
    "start_time": "2024-05-01T23:19:39.383Z"
   },
   {
    "duration": 95,
    "start_time": "2024-05-01T23:20:15.900Z"
   },
   {
    "duration": 6,
    "start_time": "2024-05-01T23:20:26.652Z"
   },
   {
    "duration": 5,
    "start_time": "2024-05-01T23:20:26.661Z"
   },
   {
    "duration": 70,
    "start_time": "2024-05-01T23:20:26.667Z"
   },
   {
    "duration": 4,
    "start_time": "2024-05-01T23:20:26.738Z"
   },
   {
    "duration": 14,
    "start_time": "2024-05-01T23:20:26.744Z"
   },
   {
    "duration": 13,
    "start_time": "2024-05-01T23:20:26.759Z"
   },
   {
    "duration": 10,
    "start_time": "2024-05-01T23:20:26.774Z"
   },
   {
    "duration": 8,
    "start_time": "2024-05-01T23:20:26.785Z"
   },
   {
    "duration": 4,
    "start_time": "2024-05-01T23:20:26.795Z"
   },
   {
    "duration": 14,
    "start_time": "2024-05-01T23:20:26.800Z"
   },
   {
    "duration": 244,
    "start_time": "2024-05-01T23:20:26.815Z"
   },
   {
    "duration": 21,
    "start_time": "2024-05-01T23:20:27.061Z"
   },
   {
    "duration": 711,
    "start_time": "2024-05-01T23:20:27.084Z"
   },
   {
    "duration": 363,
    "start_time": "2024-05-01T23:20:27.798Z"
   },
   {
    "duration": 237,
    "start_time": "2024-05-01T23:20:28.163Z"
   },
   {
    "duration": 4,
    "start_time": "2024-05-01T23:20:28.402Z"
   },
   {
    "duration": 15,
    "start_time": "2024-05-01T23:20:28.408Z"
   },
   {
    "duration": 17,
    "start_time": "2024-05-01T23:20:28.424Z"
   },
   {
    "duration": 23513,
    "start_time": "2024-05-01T23:20:28.443Z"
   },
   {
    "duration": 332,
    "start_time": "2024-05-01T23:20:51.958Z"
   },
   {
    "duration": 41299,
    "start_time": "2024-05-01T23:20:52.292Z"
   },
   {
    "duration": 90,
    "start_time": "2024-05-01T23:21:33.593Z"
   },
   {
    "duration": 10,
    "start_time": "2024-05-01T23:22:42.522Z"
   },
   {
    "duration": 17,
    "start_time": "2024-05-01T23:22:42.534Z"
   },
   {
    "duration": 73,
    "start_time": "2024-05-01T23:22:42.553Z"
   },
   {
    "duration": 2,
    "start_time": "2024-05-01T23:22:42.628Z"
   },
   {
    "duration": 6,
    "start_time": "2024-05-01T23:22:42.633Z"
   },
   {
    "duration": 14,
    "start_time": "2024-05-01T23:22:42.641Z"
   },
   {
    "duration": 10,
    "start_time": "2024-05-01T23:22:42.657Z"
   },
   {
    "duration": 5,
    "start_time": "2024-05-01T23:22:42.669Z"
   },
   {
    "duration": 9,
    "start_time": "2024-05-01T23:22:42.676Z"
   },
   {
    "duration": 16,
    "start_time": "2024-05-01T23:22:42.686Z"
   },
   {
    "duration": 250,
    "start_time": "2024-05-01T23:22:42.704Z"
   },
   {
    "duration": 8,
    "start_time": "2024-05-01T23:22:42.956Z"
   },
   {
    "duration": 740,
    "start_time": "2024-05-01T23:22:42.965Z"
   },
   {
    "duration": 276,
    "start_time": "2024-05-01T23:22:43.708Z"
   },
   {
    "duration": 253,
    "start_time": "2024-05-01T23:22:43.986Z"
   },
   {
    "duration": 4,
    "start_time": "2024-05-01T23:22:44.241Z"
   },
   {
    "duration": 16,
    "start_time": "2024-05-01T23:22:44.246Z"
   },
   {
    "duration": 31,
    "start_time": "2024-05-01T23:22:44.264Z"
   },
   {
    "duration": 23096,
    "start_time": "2024-05-01T23:22:44.297Z"
   },
   {
    "duration": 314,
    "start_time": "2024-05-01T23:23:07.395Z"
   },
   {
    "duration": 36184,
    "start_time": "2024-05-01T23:23:07.710Z"
   },
   {
    "duration": 100,
    "start_time": "2024-05-01T23:23:43.896Z"
   },
   {
    "duration": 7,
    "start_time": "2024-05-01T23:24:23.713Z"
   },
   {
    "duration": 8,
    "start_time": "2024-05-01T23:24:23.721Z"
   },
   {
    "duration": 71,
    "start_time": "2024-05-01T23:24:23.730Z"
   },
   {
    "duration": 3,
    "start_time": "2024-05-01T23:24:23.802Z"
   },
   {
    "duration": 8,
    "start_time": "2024-05-01T23:24:23.807Z"
   },
   {
    "duration": 13,
    "start_time": "2024-05-01T23:24:23.817Z"
   },
   {
    "duration": 11,
    "start_time": "2024-05-01T23:24:23.832Z"
   },
   {
    "duration": 6,
    "start_time": "2024-05-01T23:24:23.845Z"
   },
   {
    "duration": 4,
    "start_time": "2024-05-01T23:24:23.882Z"
   },
   {
    "duration": 16,
    "start_time": "2024-05-01T23:24:23.888Z"
   },
   {
    "duration": 376,
    "start_time": "2024-05-01T23:24:23.906Z"
   },
   {
    "duration": 7,
    "start_time": "2024-05-01T23:24:24.284Z"
   },
   {
    "duration": 728,
    "start_time": "2024-05-01T23:24:24.293Z"
   },
   {
    "duration": 252,
    "start_time": "2024-05-01T23:24:25.024Z"
   },
   {
    "duration": 237,
    "start_time": "2024-05-01T23:24:25.281Z"
   },
   {
    "duration": 3,
    "start_time": "2024-05-01T23:24:25.520Z"
   },
   {
    "duration": 16,
    "start_time": "2024-05-01T23:24:25.525Z"
   },
   {
    "duration": 15,
    "start_time": "2024-05-01T23:24:25.543Z"
   },
   {
    "duration": 20847,
    "start_time": "2024-05-01T23:24:25.581Z"
   },
   {
    "duration": 187,
    "start_time": "2024-05-01T23:24:46.430Z"
   },
   {
    "duration": 31068,
    "start_time": "2024-05-01T23:24:46.619Z"
   },
   {
    "duration": 12,
    "start_time": "2024-05-01T23:25:17.689Z"
   },
   {
    "duration": 6,
    "start_time": "2024-05-01T23:26:15.108Z"
   },
   {
    "duration": 42,
    "start_time": "2024-05-01T23:26:15.116Z"
   },
   {
    "duration": 103,
    "start_time": "2024-05-01T23:26:15.160Z"
   },
   {
    "duration": 3,
    "start_time": "2024-05-01T23:26:15.264Z"
   },
   {
    "duration": 29,
    "start_time": "2024-05-01T23:26:15.270Z"
   },
   {
    "duration": 19,
    "start_time": "2024-05-01T23:26:15.300Z"
   },
   {
    "duration": 17,
    "start_time": "2024-05-01T23:26:15.320Z"
   },
   {
    "duration": 18,
    "start_time": "2024-05-01T23:26:15.339Z"
   },
   {
    "duration": 15,
    "start_time": "2024-05-01T23:26:15.358Z"
   },
   {
    "duration": 14,
    "start_time": "2024-05-01T23:26:15.375Z"
   },
   {
    "duration": 239,
    "start_time": "2024-05-01T23:26:15.391Z"
   },
   {
    "duration": 6,
    "start_time": "2024-05-01T23:26:15.632Z"
   },
   {
    "duration": 869,
    "start_time": "2024-05-01T23:26:15.639Z"
   },
   {
    "duration": 237,
    "start_time": "2024-05-01T23:26:16.511Z"
   },
   {
    "duration": 235,
    "start_time": "2024-05-01T23:26:16.749Z"
   },
   {
    "duration": 4,
    "start_time": "2024-05-01T23:26:16.985Z"
   },
   {
    "duration": 14,
    "start_time": "2024-05-01T23:26:16.990Z"
   },
   {
    "duration": 15,
    "start_time": "2024-05-01T23:26:17.005Z"
   },
   {
    "duration": 21651,
    "start_time": "2024-05-01T23:26:17.021Z"
   },
   {
    "duration": 330,
    "start_time": "2024-05-01T23:26:38.674Z"
   },
   {
    "duration": 36784,
    "start_time": "2024-05-01T23:26:39.006Z"
   },
   {
    "duration": 94,
    "start_time": "2024-05-01T23:27:15.792Z"
   },
   {
    "duration": 9,
    "start_time": "2024-05-01T23:31:44.563Z"
   },
   {
    "duration": 9,
    "start_time": "2024-05-01T23:31:44.575Z"
   },
   {
    "duration": 75,
    "start_time": "2024-05-01T23:31:44.586Z"
   },
   {
    "duration": 3,
    "start_time": "2024-05-01T23:31:44.663Z"
   },
   {
    "duration": 10,
    "start_time": "2024-05-01T23:31:44.669Z"
   },
   {
    "duration": 13,
    "start_time": "2024-05-01T23:31:44.681Z"
   },
   {
    "duration": 11,
    "start_time": "2024-05-01T23:31:44.696Z"
   },
   {
    "duration": 7,
    "start_time": "2024-05-01T23:31:44.708Z"
   },
   {
    "duration": 6,
    "start_time": "2024-05-01T23:31:44.716Z"
   },
   {
    "duration": 28,
    "start_time": "2024-05-01T23:31:44.723Z"
   },
   {
    "duration": 270,
    "start_time": "2024-05-01T23:31:44.753Z"
   },
   {
    "duration": 6,
    "start_time": "2024-05-01T23:31:45.025Z"
   },
   {
    "duration": 734,
    "start_time": "2024-05-01T23:31:45.033Z"
   },
   {
    "duration": 238,
    "start_time": "2024-05-01T23:31:45.770Z"
   },
   {
    "duration": 373,
    "start_time": "2024-05-01T23:31:46.009Z"
   },
   {
    "duration": 4,
    "start_time": "2024-05-01T23:31:46.384Z"
   },
   {
    "duration": 19,
    "start_time": "2024-05-01T23:31:46.390Z"
   },
   {
    "duration": 17,
    "start_time": "2024-05-01T23:31:46.410Z"
   },
   {
    "duration": 23270,
    "start_time": "2024-05-01T23:31:46.428Z"
   },
   {
    "duration": 499,
    "start_time": "2024-05-01T23:32:09.700Z"
   },
   {
    "duration": 35991,
    "start_time": "2024-05-01T23:32:10.201Z"
   },
   {
    "duration": 96,
    "start_time": "2024-05-01T23:32:46.194Z"
   },
   {
    "duration": 6,
    "start_time": "2024-05-01T23:33:13.555Z"
   },
   {
    "duration": 10,
    "start_time": "2024-05-01T23:33:13.563Z"
   },
   {
    "duration": 86,
    "start_time": "2024-05-01T23:33:13.574Z"
   },
   {
    "duration": 3,
    "start_time": "2024-05-01T23:33:13.662Z"
   },
   {
    "duration": 10,
    "start_time": "2024-05-01T23:33:13.668Z"
   },
   {
    "duration": 16,
    "start_time": "2024-05-01T23:33:13.680Z"
   },
   {
    "duration": 10,
    "start_time": "2024-05-01T23:33:13.697Z"
   },
   {
    "duration": 9,
    "start_time": "2024-05-01T23:33:13.708Z"
   },
   {
    "duration": 9,
    "start_time": "2024-05-01T23:33:13.718Z"
   },
   {
    "duration": 14,
    "start_time": "2024-05-01T23:33:13.728Z"
   },
   {
    "duration": 252,
    "start_time": "2024-05-01T23:33:13.744Z"
   },
   {
    "duration": 7,
    "start_time": "2024-05-01T23:33:13.997Z"
   },
   {
    "duration": 713,
    "start_time": "2024-05-01T23:33:14.006Z"
   },
   {
    "duration": 242,
    "start_time": "2024-05-01T23:33:14.721Z"
   },
   {
    "duration": 255,
    "start_time": "2024-05-01T23:33:14.965Z"
   },
   {
    "duration": 4,
    "start_time": "2024-05-01T23:33:15.222Z"
   },
   {
    "duration": 28,
    "start_time": "2024-05-01T23:33:15.227Z"
   },
   {
    "duration": 15,
    "start_time": "2024-05-01T23:33:15.256Z"
   },
   {
    "duration": 20854,
    "start_time": "2024-05-01T23:33:15.282Z"
   },
   {
    "duration": 178,
    "start_time": "2024-05-01T23:33:36.138Z"
   },
   {
    "duration": 32573,
    "start_time": "2024-05-01T23:33:36.318Z"
   },
   {
    "duration": 90,
    "start_time": "2024-05-01T23:34:08.893Z"
   },
   {
    "duration": 6,
    "start_time": "2024-05-01T23:36:08.424Z"
   },
   {
    "duration": 13,
    "start_time": "2024-05-01T23:36:08.432Z"
   },
   {
    "duration": 85,
    "start_time": "2024-05-01T23:36:08.446Z"
   },
   {
    "duration": 3,
    "start_time": "2024-05-01T23:36:08.533Z"
   },
   {
    "duration": 20,
    "start_time": "2024-05-01T23:36:08.538Z"
   },
   {
    "duration": 28,
    "start_time": "2024-05-01T23:36:08.560Z"
   },
   {
    "duration": 10,
    "start_time": "2024-05-01T23:36:08.589Z"
   },
   {
    "duration": 6,
    "start_time": "2024-05-01T23:36:08.600Z"
   },
   {
    "duration": 10,
    "start_time": "2024-05-01T23:36:08.607Z"
   },
   {
    "duration": 23,
    "start_time": "2024-05-01T23:36:08.618Z"
   },
   {
    "duration": 255,
    "start_time": "2024-05-01T23:36:08.643Z"
   },
   {
    "duration": 7,
    "start_time": "2024-05-01T23:36:08.900Z"
   },
   {
    "duration": 866,
    "start_time": "2024-05-01T23:36:08.908Z"
   },
   {
    "duration": 253,
    "start_time": "2024-05-01T23:36:09.781Z"
   },
   {
    "duration": 239,
    "start_time": "2024-05-01T23:36:10.035Z"
   },
   {
    "duration": 4,
    "start_time": "2024-05-01T23:36:10.281Z"
   },
   {
    "duration": 16,
    "start_time": "2024-05-01T23:36:10.286Z"
   },
   {
    "duration": 15,
    "start_time": "2024-05-01T23:36:10.304Z"
   },
   {
    "duration": 20289,
    "start_time": "2024-05-01T23:36:10.320Z"
   },
   {
    "duration": 371,
    "start_time": "2024-05-01T23:36:30.611Z"
   },
   {
    "duration": 35705,
    "start_time": "2024-05-01T23:36:30.984Z"
   },
   {
    "duration": 12,
    "start_time": "2024-05-01T23:37:06.691Z"
   },
   {
    "duration": 9,
    "start_time": "2024-05-01T23:37:21.858Z"
   },
   {
    "duration": 34,
    "start_time": "2024-05-01T23:37:21.870Z"
   },
   {
    "duration": 80,
    "start_time": "2024-05-01T23:37:21.906Z"
   },
   {
    "duration": 3,
    "start_time": "2024-05-01T23:37:21.987Z"
   },
   {
    "duration": 8,
    "start_time": "2024-05-01T23:37:21.992Z"
   },
   {
    "duration": 17,
    "start_time": "2024-05-01T23:37:22.001Z"
   },
   {
    "duration": 13,
    "start_time": "2024-05-01T23:37:22.020Z"
   },
   {
    "duration": 20,
    "start_time": "2024-05-01T23:37:22.034Z"
   },
   {
    "duration": 7,
    "start_time": "2024-05-01T23:37:22.055Z"
   },
   {
    "duration": 27,
    "start_time": "2024-05-01T23:37:22.064Z"
   },
   {
    "duration": 258,
    "start_time": "2024-05-01T23:37:22.093Z"
   },
   {
    "duration": 7,
    "start_time": "2024-05-01T23:37:22.354Z"
   },
   {
    "duration": 724,
    "start_time": "2024-05-01T23:37:22.363Z"
   },
   {
    "duration": 367,
    "start_time": "2024-05-01T23:37:23.090Z"
   },
   {
    "duration": 241,
    "start_time": "2024-05-01T23:37:23.458Z"
   },
   {
    "duration": 4,
    "start_time": "2024-05-01T23:37:23.701Z"
   },
   {
    "duration": 16,
    "start_time": "2024-05-01T23:37:23.706Z"
   },
   {
    "duration": 24,
    "start_time": "2024-05-01T23:37:23.724Z"
   },
   {
    "duration": 23594,
    "start_time": "2024-05-01T23:37:23.751Z"
   },
   {
    "duration": 437,
    "start_time": "2024-05-01T23:37:47.346Z"
   },
   {
    "duration": 36899,
    "start_time": "2024-05-01T23:37:47.785Z"
   },
   {
    "duration": 12,
    "start_time": "2024-05-01T23:38:24.686Z"
   },
   {
    "duration": 9,
    "start_time": "2024-05-01T23:38:51.845Z"
   },
   {
    "duration": 12,
    "start_time": "2024-05-01T23:38:51.857Z"
   },
   {
    "duration": 78,
    "start_time": "2024-05-01T23:38:51.871Z"
   },
   {
    "duration": 3,
    "start_time": "2024-05-01T23:38:51.951Z"
   },
   {
    "duration": 7,
    "start_time": "2024-05-01T23:38:51.956Z"
   },
   {
    "duration": 13,
    "start_time": "2024-05-01T23:38:51.965Z"
   },
   {
    "duration": 9,
    "start_time": "2024-05-01T23:38:51.979Z"
   },
   {
    "duration": 11,
    "start_time": "2024-05-01T23:38:51.989Z"
   },
   {
    "duration": 5,
    "start_time": "2024-05-01T23:38:52.001Z"
   },
   {
    "duration": 18,
    "start_time": "2024-05-01T23:38:52.007Z"
   },
   {
    "duration": 244,
    "start_time": "2024-05-01T23:38:52.027Z"
   },
   {
    "duration": 10,
    "start_time": "2024-05-01T23:38:52.273Z"
   },
   {
    "duration": 749,
    "start_time": "2024-05-01T23:38:52.284Z"
   },
   {
    "duration": 284,
    "start_time": "2024-05-01T23:38:53.036Z"
   },
   {
    "duration": 240,
    "start_time": "2024-05-01T23:38:53.322Z"
   },
   {
    "duration": 4,
    "start_time": "2024-05-01T23:38:53.563Z"
   },
   {
    "duration": 24,
    "start_time": "2024-05-01T23:38:53.568Z"
   },
   {
    "duration": 16,
    "start_time": "2024-05-01T23:38:53.593Z"
   },
   {
    "duration": 23355,
    "start_time": "2024-05-01T23:38:53.611Z"
   },
   {
    "duration": 332,
    "start_time": "2024-05-01T23:39:16.968Z"
   },
   {
    "duration": 37288,
    "start_time": "2024-05-01T23:39:17.302Z"
   },
   {
    "duration": 92,
    "start_time": "2024-05-01T23:39:54.591Z"
   },
   {
    "duration": 6,
    "start_time": "2024-05-01T23:40:31.239Z"
   },
   {
    "duration": 49,
    "start_time": "2024-05-01T23:40:31.247Z"
   },
   {
    "duration": 93,
    "start_time": "2024-05-01T23:40:31.298Z"
   },
   {
    "duration": 3,
    "start_time": "2024-05-01T23:40:31.393Z"
   },
   {
    "duration": 33,
    "start_time": "2024-05-01T23:40:31.397Z"
   },
   {
    "duration": 13,
    "start_time": "2024-05-01T23:40:31.432Z"
   },
   {
    "duration": 20,
    "start_time": "2024-05-01T23:40:31.446Z"
   },
   {
    "duration": 13,
    "start_time": "2024-05-01T23:40:31.467Z"
   },
   {
    "duration": 55,
    "start_time": "2024-05-01T23:40:31.482Z"
   },
   {
    "duration": 31,
    "start_time": "2024-05-01T23:40:31.538Z"
   },
   {
    "duration": 383,
    "start_time": "2024-05-01T23:40:31.571Z"
   },
   {
    "duration": 8,
    "start_time": "2024-05-01T23:40:31.956Z"
   },
   {
    "duration": 773,
    "start_time": "2024-05-01T23:40:31.965Z"
   },
   {
    "duration": 250,
    "start_time": "2024-05-01T23:40:32.740Z"
   },
   {
    "duration": 250,
    "start_time": "2024-05-01T23:40:32.992Z"
   },
   {
    "duration": 3,
    "start_time": "2024-05-01T23:40:33.244Z"
   },
   {
    "duration": 14,
    "start_time": "2024-05-01T23:40:33.249Z"
   },
   {
    "duration": 31,
    "start_time": "2024-05-01T23:40:33.265Z"
   },
   {
    "duration": 23766,
    "start_time": "2024-05-01T23:40:33.297Z"
   },
   {
    "duration": 336,
    "start_time": "2024-05-01T23:40:57.065Z"
   },
   {
    "duration": 36391,
    "start_time": "2024-05-01T23:40:57.404Z"
   },
   {
    "duration": 95,
    "start_time": "2024-05-01T23:41:33.797Z"
   },
   {
    "duration": 6,
    "start_time": "2024-05-01T23:45:16.091Z"
   },
   {
    "duration": 13,
    "start_time": "2024-05-01T23:45:16.099Z"
   },
   {
    "duration": 87,
    "start_time": "2024-05-01T23:45:16.114Z"
   },
   {
    "duration": 3,
    "start_time": "2024-05-01T23:45:16.202Z"
   },
   {
    "duration": 10,
    "start_time": "2024-05-01T23:45:16.207Z"
   },
   {
    "duration": 13,
    "start_time": "2024-05-01T23:45:16.219Z"
   },
   {
    "duration": 9,
    "start_time": "2024-05-01T23:45:16.233Z"
   },
   {
    "duration": 5,
    "start_time": "2024-05-01T23:45:16.244Z"
   },
   {
    "duration": 33,
    "start_time": "2024-05-01T23:45:16.250Z"
   },
   {
    "duration": 15,
    "start_time": "2024-05-01T23:45:16.285Z"
   },
   {
    "duration": 281,
    "start_time": "2024-05-01T23:45:16.302Z"
   },
   {
    "duration": 9,
    "start_time": "2024-05-01T23:45:16.584Z"
   },
   {
    "duration": 854,
    "start_time": "2024-05-01T23:45:16.595Z"
   },
   {
    "duration": 244,
    "start_time": "2024-05-01T23:45:17.452Z"
   },
   {
    "duration": 262,
    "start_time": "2024-05-01T23:45:17.697Z"
   },
   {
    "duration": 4,
    "start_time": "2024-05-01T23:45:17.962Z"
   },
   {
    "duration": 24,
    "start_time": "2024-05-01T23:45:17.967Z"
   },
   {
    "duration": 19,
    "start_time": "2024-05-01T23:45:17.992Z"
   },
   {
    "duration": 19923,
    "start_time": "2024-05-01T23:45:18.013Z"
   },
   {
    "duration": 348,
    "start_time": "2024-05-01T23:45:37.937Z"
   },
   {
    "duration": 36304,
    "start_time": "2024-05-01T23:45:38.287Z"
   },
   {
    "duration": 92,
    "start_time": "2024-05-01T23:46:14.592Z"
   },
   {
    "duration": 6,
    "start_time": "2024-05-01T23:48:49.779Z"
   },
   {
    "duration": 8,
    "start_time": "2024-05-01T23:48:49.787Z"
   },
   {
    "duration": 109,
    "start_time": "2024-05-01T23:48:49.797Z"
   },
   {
    "duration": 4,
    "start_time": "2024-05-01T23:48:49.907Z"
   },
   {
    "duration": 11,
    "start_time": "2024-05-01T23:48:49.913Z"
   },
   {
    "duration": 16,
    "start_time": "2024-05-01T23:48:49.926Z"
   },
   {
    "duration": 44,
    "start_time": "2024-05-01T23:48:49.943Z"
   },
   {
    "duration": 7,
    "start_time": "2024-05-01T23:48:49.989Z"
   },
   {
    "duration": 7,
    "start_time": "2024-05-01T23:48:49.998Z"
   },
   {
    "duration": 24,
    "start_time": "2024-05-01T23:48:50.006Z"
   },
   {
    "duration": 250,
    "start_time": "2024-05-01T23:48:50.032Z"
   },
   {
    "duration": 7,
    "start_time": "2024-05-01T23:48:50.283Z"
   },
   {
    "duration": 694,
    "start_time": "2024-05-01T23:48:50.291Z"
   },
   {
    "duration": 245,
    "start_time": "2024-05-01T23:48:50.988Z"
   },
   {
    "duration": 384,
    "start_time": "2024-05-01T23:48:51.235Z"
   },
   {
    "duration": 4,
    "start_time": "2024-05-01T23:48:51.621Z"
   },
   {
    "duration": 19,
    "start_time": "2024-05-01T23:48:51.626Z"
   },
   {
    "duration": 15,
    "start_time": "2024-05-01T23:48:51.647Z"
   },
   {
    "duration": 71911,
    "start_time": "2024-05-01T23:48:51.664Z"
   },
   {
    "duration": 328,
    "start_time": "2024-05-01T23:50:03.577Z"
   },
   {
    "duration": 33782,
    "start_time": "2024-05-01T23:50:03.907Z"
   },
   {
    "duration": 95,
    "start_time": "2024-05-01T23:50:37.691Z"
   },
   {
    "duration": 6,
    "start_time": "2024-05-01T23:51:36.520Z"
   },
   {
    "duration": 16,
    "start_time": "2024-05-01T23:51:36.528Z"
   },
   {
    "duration": 78,
    "start_time": "2024-05-01T23:51:36.545Z"
   },
   {
    "duration": 3,
    "start_time": "2024-05-01T23:51:36.624Z"
   },
   {
    "duration": 8,
    "start_time": "2024-05-01T23:51:36.629Z"
   },
   {
    "duration": 12,
    "start_time": "2024-05-01T23:51:36.638Z"
   },
   {
    "duration": 9,
    "start_time": "2024-05-01T23:51:36.652Z"
   },
   {
    "duration": 5,
    "start_time": "2024-05-01T23:51:36.662Z"
   },
   {
    "duration": 15,
    "start_time": "2024-05-01T23:51:36.668Z"
   },
   {
    "duration": 11,
    "start_time": "2024-05-01T23:51:36.684Z"
   },
   {
    "duration": 244,
    "start_time": "2024-05-01T23:51:36.697Z"
   },
   {
    "duration": 7,
    "start_time": "2024-05-01T23:51:36.942Z"
   },
   {
    "duration": 736,
    "start_time": "2024-05-01T23:51:36.951Z"
   },
   {
    "duration": 237,
    "start_time": "2024-05-01T23:51:37.690Z"
   },
   {
    "duration": 245,
    "start_time": "2024-05-01T23:51:37.928Z"
   },
   {
    "duration": 3,
    "start_time": "2024-05-01T23:51:38.182Z"
   },
   {
    "duration": 19,
    "start_time": "2024-05-01T23:51:38.187Z"
   },
   {
    "duration": 15,
    "start_time": "2024-05-01T23:51:38.207Z"
   },
   {
    "duration": 170821,
    "start_time": "2024-05-01T23:51:38.224Z"
   },
   {
    "duration": 0,
    "start_time": "2024-05-01T23:54:29.048Z"
   },
   {
    "duration": 0,
    "start_time": "2024-05-01T23:54:29.049Z"
   },
   {
    "duration": 0,
    "start_time": "2024-05-01T23:54:29.050Z"
   },
   {
    "duration": 7,
    "start_time": "2024-05-01T23:54:36.589Z"
   },
   {
    "duration": 10,
    "start_time": "2024-05-01T23:54:36.598Z"
   },
   {
    "duration": 71,
    "start_time": "2024-05-01T23:54:36.610Z"
   },
   {
    "duration": 3,
    "start_time": "2024-05-01T23:54:36.683Z"
   },
   {
    "duration": 7,
    "start_time": "2024-05-01T23:54:36.688Z"
   },
   {
    "duration": 18,
    "start_time": "2024-05-01T23:54:36.697Z"
   },
   {
    "duration": 10,
    "start_time": "2024-05-01T23:54:36.717Z"
   },
   {
    "duration": 5,
    "start_time": "2024-05-01T23:54:36.729Z"
   },
   {
    "duration": 15,
    "start_time": "2024-05-01T23:54:36.735Z"
   },
   {
    "duration": 32,
    "start_time": "2024-05-01T23:54:36.751Z"
   },
   {
    "duration": 248,
    "start_time": "2024-05-01T23:54:36.785Z"
   },
   {
    "duration": 6,
    "start_time": "2024-05-01T23:54:37.035Z"
   },
   {
    "duration": 885,
    "start_time": "2024-05-01T23:54:37.042Z"
   },
   {
    "duration": 297,
    "start_time": "2024-05-01T23:54:37.929Z"
   },
   {
    "duration": 241,
    "start_time": "2024-05-01T23:54:38.229Z"
   },
   {
    "duration": 11,
    "start_time": "2024-05-01T23:54:38.472Z"
   },
   {
    "duration": 15,
    "start_time": "2024-05-01T23:54:38.485Z"
   },
   {
    "duration": 17,
    "start_time": "2024-05-01T23:54:38.502Z"
   },
   {
    "duration": 175708,
    "start_time": "2024-05-01T23:54:38.521Z"
   },
   {
    "duration": 0,
    "start_time": "2024-05-01T23:57:34.231Z"
   },
   {
    "duration": 0,
    "start_time": "2024-05-01T23:57:34.232Z"
   },
   {
    "duration": 0,
    "start_time": "2024-05-01T23:57:34.234Z"
   },
   {
    "duration": 7,
    "start_time": "2024-05-01T23:58:02.885Z"
   },
   {
    "duration": 37,
    "start_time": "2024-05-01T23:58:02.894Z"
   },
   {
    "duration": 88,
    "start_time": "2024-05-01T23:58:02.933Z"
   },
   {
    "duration": 3,
    "start_time": "2024-05-01T23:58:03.023Z"
   },
   {
    "duration": 15,
    "start_time": "2024-05-01T23:58:03.029Z"
   },
   {
    "duration": 13,
    "start_time": "2024-05-01T23:58:03.045Z"
   },
   {
    "duration": 11,
    "start_time": "2024-05-01T23:58:03.060Z"
   },
   {
    "duration": 11,
    "start_time": "2024-05-01T23:58:03.072Z"
   },
   {
    "duration": 5,
    "start_time": "2024-05-01T23:58:03.084Z"
   },
   {
    "duration": 16,
    "start_time": "2024-05-01T23:58:03.090Z"
   },
   {
    "duration": 268,
    "start_time": "2024-05-01T23:58:03.108Z"
   },
   {
    "duration": 7,
    "start_time": "2024-05-01T23:58:03.382Z"
   },
   {
    "duration": 710,
    "start_time": "2024-05-01T23:58:03.390Z"
   },
   {
    "duration": 369,
    "start_time": "2024-05-01T23:58:04.103Z"
   },
   {
    "duration": 277,
    "start_time": "2024-05-01T23:58:04.474Z"
   },
   {
    "duration": 5,
    "start_time": "2024-05-01T23:58:04.754Z"
   },
   {
    "duration": 32,
    "start_time": "2024-05-01T23:58:04.761Z"
   },
   {
    "duration": 21,
    "start_time": "2024-05-01T23:58:04.795Z"
   },
   {
    "duration": 70405,
    "start_time": "2024-05-01T23:58:04.817Z"
   },
   {
    "duration": 476,
    "start_time": "2024-05-01T23:59:15.224Z"
   },
   {
    "duration": 34397,
    "start_time": "2024-05-01T23:59:15.702Z"
   },
   {
    "duration": 89,
    "start_time": "2024-05-01T23:59:50.100Z"
   },
   {
    "duration": 7,
    "start_time": "2024-05-02T00:01:32.905Z"
   },
   {
    "duration": 10,
    "start_time": "2024-05-02T00:01:32.913Z"
   },
   {
    "duration": 69,
    "start_time": "2024-05-02T00:01:32.924Z"
   },
   {
    "duration": 2,
    "start_time": "2024-05-02T00:01:32.995Z"
   },
   {
    "duration": 7,
    "start_time": "2024-05-02T00:01:33.000Z"
   },
   {
    "duration": 12,
    "start_time": "2024-05-02T00:01:33.008Z"
   },
   {
    "duration": 12,
    "start_time": "2024-05-02T00:01:33.022Z"
   },
   {
    "duration": 5,
    "start_time": "2024-05-02T00:01:33.036Z"
   },
   {
    "duration": 5,
    "start_time": "2024-05-02T00:01:33.043Z"
   },
   {
    "duration": 41,
    "start_time": "2024-05-02T00:01:33.050Z"
   },
   {
    "duration": 245,
    "start_time": "2024-05-02T00:01:33.093Z"
   },
   {
    "duration": 7,
    "start_time": "2024-05-02T00:01:33.340Z"
   },
   {
    "duration": 735,
    "start_time": "2024-05-02T00:01:33.348Z"
   },
   {
    "duration": 266,
    "start_time": "2024-05-02T00:01:34.086Z"
   },
   {
    "duration": 247,
    "start_time": "2024-05-02T00:01:34.353Z"
   },
   {
    "duration": 4,
    "start_time": "2024-05-02T00:01:34.601Z"
   },
   {
    "duration": 19,
    "start_time": "2024-05-02T00:01:34.607Z"
   },
   {
    "duration": 16,
    "start_time": "2024-05-02T00:01:34.627Z"
   },
   {
    "duration": 73016,
    "start_time": "2024-05-02T00:01:34.645Z"
   },
   {
    "duration": 433,
    "start_time": "2024-05-02T00:02:47.663Z"
   },
   {
    "duration": 36994,
    "start_time": "2024-05-02T00:02:48.098Z"
   },
   {
    "duration": 97,
    "start_time": "2024-05-02T00:03:25.094Z"
   },
   {
    "duration": 10,
    "start_time": "2024-05-02T00:08:06.043Z"
   },
   {
    "duration": 7,
    "start_time": "2024-05-02T00:08:06.055Z"
   },
   {
    "duration": 100,
    "start_time": "2024-05-02T00:08:06.063Z"
   },
   {
    "duration": 3,
    "start_time": "2024-05-02T00:08:06.164Z"
   },
   {
    "duration": 10,
    "start_time": "2024-05-02T00:08:06.169Z"
   },
   {
    "duration": 15,
    "start_time": "2024-05-02T00:08:06.180Z"
   },
   {
    "duration": 9,
    "start_time": "2024-05-02T00:08:06.197Z"
   },
   {
    "duration": 5,
    "start_time": "2024-05-02T00:08:06.208Z"
   },
   {
    "duration": 4,
    "start_time": "2024-05-02T00:08:06.215Z"
   },
   {
    "duration": 18,
    "start_time": "2024-05-02T00:08:06.220Z"
   },
   {
    "duration": 392,
    "start_time": "2024-05-02T00:08:06.239Z"
   },
   {
    "duration": 7,
    "start_time": "2024-05-02T00:08:06.633Z"
   },
   {
    "duration": 699,
    "start_time": "2024-05-02T00:08:06.641Z"
   },
   {
    "duration": 244,
    "start_time": "2024-05-02T00:08:07.343Z"
   },
   {
    "duration": 245,
    "start_time": "2024-05-02T00:08:07.588Z"
   },
   {
    "duration": 4,
    "start_time": "2024-05-02T00:08:07.835Z"
   },
   {
    "duration": 217048,
    "start_time": "2024-05-02T00:08:07.841Z"
   },
   {
    "duration": 23,
    "start_time": "2024-05-02T00:14:08.770Z"
   },
   {
    "duration": 6,
    "start_time": "2024-05-02T00:14:22.158Z"
   },
   {
    "duration": 7,
    "start_time": "2024-05-02T00:14:22.166Z"
   },
   {
    "duration": 83,
    "start_time": "2024-05-02T00:14:22.175Z"
   },
   {
    "duration": 3,
    "start_time": "2024-05-02T00:14:22.259Z"
   },
   {
    "duration": 9,
    "start_time": "2024-05-02T00:14:22.264Z"
   },
   {
    "duration": 14,
    "start_time": "2024-05-02T00:14:22.275Z"
   },
   {
    "duration": 13,
    "start_time": "2024-05-02T00:14:22.291Z"
   },
   {
    "duration": 6,
    "start_time": "2024-05-02T00:14:22.306Z"
   },
   {
    "duration": 5,
    "start_time": "2024-05-02T00:14:22.313Z"
   },
   {
    "duration": 20,
    "start_time": "2024-05-02T00:14:22.319Z"
   },
   {
    "duration": 276,
    "start_time": "2024-05-02T00:14:22.341Z"
   },
   {
    "duration": 7,
    "start_time": "2024-05-02T00:14:22.618Z"
   },
   {
    "duration": 864,
    "start_time": "2024-05-02T00:14:22.627Z"
   },
   {
    "duration": 248,
    "start_time": "2024-05-02T00:14:23.493Z"
   },
   {
    "duration": 284,
    "start_time": "2024-05-02T00:14:23.743Z"
   },
   {
    "duration": 4,
    "start_time": "2024-05-02T00:14:24.029Z"
   },
   {
    "duration": 26,
    "start_time": "2024-05-02T00:14:24.035Z"
   },
   {
    "duration": 26,
    "start_time": "2024-05-02T00:14:49.339Z"
   },
   {
    "duration": 24,
    "start_time": "2024-05-02T00:15:40.851Z"
   },
   {
    "duration": 28,
    "start_time": "2024-05-02T00:18:14.291Z"
   },
   {
    "duration": 186367,
    "start_time": "2024-05-02T00:19:59.419Z"
   },
   {
    "duration": 297861,
    "start_time": "2024-05-02T00:23:42.947Z"
   },
   {
    "duration": 168166,
    "start_time": "2024-05-02T00:29:53.063Z"
   },
   {
    "duration": 13,
    "start_time": "2024-05-02T00:33:10.653Z"
   },
   {
    "duration": 254010,
    "start_time": "2024-05-02T00:33:17.359Z"
   },
   {
    "duration": 6,
    "start_time": "2024-05-02T00:38:36.601Z"
   },
   {
    "duration": 5,
    "start_time": "2024-05-02T00:38:36.610Z"
   },
   {
    "duration": 81,
    "start_time": "2024-05-02T00:38:36.617Z"
   },
   {
    "duration": 3,
    "start_time": "2024-05-02T00:38:36.700Z"
   },
   {
    "duration": 8,
    "start_time": "2024-05-02T00:38:36.706Z"
   },
   {
    "duration": 12,
    "start_time": "2024-05-02T00:38:36.716Z"
   },
   {
    "duration": 9,
    "start_time": "2024-05-02T00:38:36.729Z"
   },
   {
    "duration": 5,
    "start_time": "2024-05-02T00:38:36.740Z"
   },
   {
    "duration": 4,
    "start_time": "2024-05-02T00:38:36.747Z"
   },
   {
    "duration": 40,
    "start_time": "2024-05-02T00:38:36.753Z"
   },
   {
    "duration": 244,
    "start_time": "2024-05-02T00:38:36.795Z"
   },
   {
    "duration": 6,
    "start_time": "2024-05-02T00:38:37.041Z"
   },
   {
    "duration": 780,
    "start_time": "2024-05-02T00:38:37.049Z"
   },
   {
    "duration": 252,
    "start_time": "2024-05-02T00:38:37.831Z"
   },
   {
    "duration": 452,
    "start_time": "2024-05-02T00:38:38.085Z"
   },
   {
    "duration": 4,
    "start_time": "2024-05-02T00:38:38.539Z"
   },
   {
    "duration": 16,
    "start_time": "2024-05-02T00:38:38.544Z"
   },
   {
    "duration": 27,
    "start_time": "2024-05-02T00:38:38.561Z"
   },
   {
    "duration": 73279,
    "start_time": "2024-05-02T00:38:38.590Z"
   },
   {
    "duration": 412,
    "start_time": "2024-05-02T00:39:51.870Z"
   },
   {
    "duration": 35416,
    "start_time": "2024-05-02T00:39:52.284Z"
   },
   {
    "duration": 89,
    "start_time": "2024-05-02T00:40:27.702Z"
   },
   {
    "duration": 29154,
    "start_time": "2024-05-02T00:45:13.692Z"
   },
   {
    "duration": 346,
    "start_time": "2024-05-02T00:45:45.553Z"
   },
   {
    "duration": 13,
    "start_time": "2024-05-02T00:45:51.243Z"
   },
   {
    "duration": 6,
    "start_time": "2024-05-02T00:48:01.186Z"
   },
   {
    "duration": 42,
    "start_time": "2024-05-02T00:48:01.195Z"
   },
   {
    "duration": 130,
    "start_time": "2024-05-02T00:48:01.238Z"
   },
   {
    "duration": 3,
    "start_time": "2024-05-02T00:48:01.370Z"
   },
   {
    "duration": 41,
    "start_time": "2024-05-02T00:48:01.375Z"
   },
   {
    "duration": 56,
    "start_time": "2024-05-02T00:48:01.418Z"
   },
   {
    "duration": 85,
    "start_time": "2024-05-02T00:48:01.476Z"
   },
   {
    "duration": 70,
    "start_time": "2024-05-02T00:48:01.562Z"
   },
   {
    "duration": 11,
    "start_time": "2024-05-02T00:48:01.633Z"
   },
   {
    "duration": 26,
    "start_time": "2024-05-02T00:48:01.645Z"
   },
   {
    "duration": 254,
    "start_time": "2024-05-02T00:48:01.673Z"
   },
   {
    "duration": 7,
    "start_time": "2024-05-02T00:48:01.929Z"
   },
   {
    "duration": 750,
    "start_time": "2024-05-02T00:48:01.940Z"
   },
   {
    "duration": 240,
    "start_time": "2024-05-02T00:48:02.692Z"
   },
   {
    "duration": 269,
    "start_time": "2024-05-02T00:48:02.934Z"
   },
   {
    "duration": 3,
    "start_time": "2024-05-02T00:48:03.205Z"
   },
   {
    "duration": 17,
    "start_time": "2024-05-02T00:48:03.210Z"
   },
   {
    "duration": 17,
    "start_time": "2024-05-02T00:48:03.229Z"
   },
   {
    "duration": 18152,
    "start_time": "2024-05-02T00:48:03.247Z"
   },
   {
    "duration": 392,
    "start_time": "2024-05-02T00:48:21.400Z"
   },
   {
    "duration": 82405,
    "start_time": "2024-05-02T00:48:21.794Z"
   },
   {
    "duration": 92,
    "start_time": "2024-05-02T00:49:44.200Z"
   },
   {
    "duration": 6,
    "start_time": "2024-05-02T00:50:29.944Z"
   },
   {
    "duration": 15,
    "start_time": "2024-05-02T00:50:29.953Z"
   },
   {
    "duration": 82,
    "start_time": "2024-05-02T00:50:29.969Z"
   },
   {
    "duration": 3,
    "start_time": "2024-05-02T00:50:30.052Z"
   },
   {
    "duration": 48,
    "start_time": "2024-05-02T00:50:30.057Z"
   },
   {
    "duration": 54,
    "start_time": "2024-05-02T00:50:30.107Z"
   },
   {
    "duration": 31,
    "start_time": "2024-05-02T00:50:30.163Z"
   },
   {
    "duration": 42,
    "start_time": "2024-05-02T00:50:30.196Z"
   },
   {
    "duration": 57,
    "start_time": "2024-05-02T00:50:30.239Z"
   },
   {
    "duration": 58,
    "start_time": "2024-05-02T00:50:30.298Z"
   },
   {
    "duration": 261,
    "start_time": "2024-05-02T00:50:30.357Z"
   },
   {
    "duration": 7,
    "start_time": "2024-05-02T00:50:30.620Z"
   },
   {
    "duration": 934,
    "start_time": "2024-05-02T00:50:30.629Z"
   },
   {
    "duration": 247,
    "start_time": "2024-05-02T00:50:31.566Z"
   },
   {
    "duration": 254,
    "start_time": "2024-05-02T00:50:31.814Z"
   },
   {
    "duration": 4,
    "start_time": "2024-05-02T00:50:32.070Z"
   },
   {
    "duration": 27,
    "start_time": "2024-05-02T00:50:32.075Z"
   },
   {
    "duration": 17,
    "start_time": "2024-05-02T00:50:32.104Z"
   },
   {
    "duration": 71747,
    "start_time": "2024-05-02T00:50:32.123Z"
   },
   {
    "duration": 440,
    "start_time": "2024-05-02T00:51:43.873Z"
   },
   {
    "duration": 76270,
    "start_time": "2024-05-02T00:51:44.315Z"
   },
   {
    "duration": 15,
    "start_time": "2024-05-02T00:53:00.587Z"
   },
   {
    "duration": 6,
    "start_time": "2024-05-02T00:54:21.049Z"
   },
   {
    "duration": 4,
    "start_time": "2024-05-02T00:54:21.057Z"
   },
   {
    "duration": 63,
    "start_time": "2024-05-02T00:54:21.063Z"
   },
   {
    "duration": 3,
    "start_time": "2024-05-02T00:54:21.128Z"
   },
   {
    "duration": 6,
    "start_time": "2024-05-02T00:54:21.133Z"
   },
   {
    "duration": 16,
    "start_time": "2024-05-02T00:54:21.140Z"
   },
   {
    "duration": 9,
    "start_time": "2024-05-02T00:54:21.157Z"
   },
   {
    "duration": 5,
    "start_time": "2024-05-02T00:54:21.168Z"
   },
   {
    "duration": 4,
    "start_time": "2024-05-02T00:54:21.181Z"
   },
   {
    "duration": 16,
    "start_time": "2024-05-02T00:54:21.186Z"
   },
   {
    "duration": 241,
    "start_time": "2024-05-02T00:54:21.204Z"
   },
   {
    "duration": 6,
    "start_time": "2024-05-02T00:54:21.447Z"
   },
   {
    "duration": 722,
    "start_time": "2024-05-02T00:54:21.455Z"
   },
   {
    "duration": 233,
    "start_time": "2024-05-02T00:54:22.181Z"
   },
   {
    "duration": 379,
    "start_time": "2024-05-02T00:54:22.416Z"
   },
   {
    "duration": 4,
    "start_time": "2024-05-02T00:54:22.796Z"
   },
   {
    "duration": 16,
    "start_time": "2024-05-02T00:54:22.802Z"
   },
   {
    "duration": 16,
    "start_time": "2024-05-02T00:54:22.820Z"
   },
   {
    "duration": 16496,
    "start_time": "2024-05-02T00:54:22.838Z"
   },
   {
    "duration": 371,
    "start_time": "2024-05-02T00:54:39.336Z"
   },
   {
    "duration": 37392,
    "start_time": "2024-05-02T00:54:39.709Z"
   },
   {
    "duration": 13,
    "start_time": "2024-05-02T00:55:17.183Z"
   },
   {
    "duration": 6,
    "start_time": "2024-05-02T00:58:04.284Z"
   },
   {
    "duration": 12,
    "start_time": "2024-05-02T00:58:04.292Z"
   },
   {
    "duration": 83,
    "start_time": "2024-05-02T00:58:04.305Z"
   },
   {
    "duration": 2,
    "start_time": "2024-05-02T00:58:04.390Z"
   },
   {
    "duration": 13,
    "start_time": "2024-05-02T00:58:04.394Z"
   },
   {
    "duration": 13,
    "start_time": "2024-05-02T00:58:04.408Z"
   },
   {
    "duration": 8,
    "start_time": "2024-05-02T00:58:04.423Z"
   },
   {
    "duration": 10,
    "start_time": "2024-05-02T00:58:04.433Z"
   },
   {
    "duration": 4,
    "start_time": "2024-05-02T00:58:04.445Z"
   },
   {
    "duration": 35,
    "start_time": "2024-05-02T00:58:04.450Z"
   },
   {
    "duration": 238,
    "start_time": "2024-05-02T00:58:04.487Z"
   },
   {
    "duration": 7,
    "start_time": "2024-05-02T00:58:04.727Z"
   },
   {
    "duration": 730,
    "start_time": "2024-05-02T00:58:04.736Z"
   },
   {
    "duration": 238,
    "start_time": "2024-05-02T00:58:05.469Z"
   },
   {
    "duration": 249,
    "start_time": "2024-05-02T00:58:05.709Z"
   },
   {
    "duration": 4,
    "start_time": "2024-05-02T00:58:05.959Z"
   },
   {
    "duration": 29,
    "start_time": "2024-05-02T00:58:05.964Z"
   },
   {
    "duration": 16,
    "start_time": "2024-05-02T00:58:05.994Z"
   },
   {
    "duration": 15114,
    "start_time": "2024-05-02T00:58:06.012Z"
   },
   {
    "duration": 281,
    "start_time": "2024-05-02T00:58:21.128Z"
   },
   {
    "duration": 37082,
    "start_time": "2024-05-02T00:58:21.410Z"
   },
   {
    "duration": 95,
    "start_time": "2024-05-02T00:58:58.494Z"
   },
   {
    "duration": 12,
    "start_time": "2024-05-02T01:00:52.970Z"
   },
   {
    "duration": 6,
    "start_time": "2024-05-02T01:00:56.792Z"
   },
   {
    "duration": 18,
    "start_time": "2024-05-02T01:00:56.800Z"
   },
   {
    "duration": 68,
    "start_time": "2024-05-02T01:00:56.820Z"
   },
   {
    "duration": 3,
    "start_time": "2024-05-02T01:00:56.889Z"
   },
   {
    "duration": 7,
    "start_time": "2024-05-02T01:00:56.894Z"
   },
   {
    "duration": 12,
    "start_time": "2024-05-02T01:00:56.903Z"
   },
   {
    "duration": 9,
    "start_time": "2024-05-02T01:00:56.916Z"
   },
   {
    "duration": 5,
    "start_time": "2024-05-02T01:00:56.926Z"
   },
   {
    "duration": 5,
    "start_time": "2024-05-02T01:00:56.932Z"
   },
   {
    "duration": 46,
    "start_time": "2024-05-02T01:00:56.938Z"
   },
   {
    "duration": 236,
    "start_time": "2024-05-02T01:00:56.986Z"
   },
   {
    "duration": 7,
    "start_time": "2024-05-02T01:00:57.223Z"
   },
   {
    "duration": 871,
    "start_time": "2024-05-02T01:00:57.232Z"
   },
   {
    "duration": 244,
    "start_time": "2024-05-02T01:00:58.105Z"
   },
   {
    "duration": 240,
    "start_time": "2024-05-02T01:00:58.351Z"
   },
   {
    "duration": 5,
    "start_time": "2024-05-02T01:00:58.593Z"
   },
   {
    "duration": 17,
    "start_time": "2024-05-02T01:00:58.600Z"
   },
   {
    "duration": 18,
    "start_time": "2024-05-02T01:00:58.619Z"
   },
   {
    "duration": 17469,
    "start_time": "2024-05-02T01:00:58.639Z"
   },
   {
    "duration": 382,
    "start_time": "2024-05-02T01:01:16.110Z"
   },
   {
    "duration": 35694,
    "start_time": "2024-05-02T01:01:16.494Z"
   },
   {
    "duration": 93,
    "start_time": "2024-05-02T01:01:52.190Z"
   },
   {
    "duration": 7,
    "start_time": "2024-05-02T01:05:26.961Z"
   },
   {
    "duration": 6,
    "start_time": "2024-05-02T01:05:26.970Z"
   },
   {
    "duration": 68,
    "start_time": "2024-05-02T01:05:26.978Z"
   },
   {
    "duration": 3,
    "start_time": "2024-05-02T01:05:27.047Z"
   },
   {
    "duration": 9,
    "start_time": "2024-05-02T01:05:27.052Z"
   },
   {
    "duration": 11,
    "start_time": "2024-05-02T01:05:27.063Z"
   },
   {
    "duration": 9,
    "start_time": "2024-05-02T01:05:27.076Z"
   },
   {
    "duration": 7,
    "start_time": "2024-05-02T01:05:27.087Z"
   },
   {
    "duration": 4,
    "start_time": "2024-05-02T01:05:27.095Z"
   },
   {
    "duration": 11,
    "start_time": "2024-05-02T01:05:27.101Z"
   },
   {
    "duration": 258,
    "start_time": "2024-05-02T01:05:27.114Z"
   },
   {
    "duration": 9,
    "start_time": "2024-05-02T01:05:27.373Z"
   },
   {
    "duration": 705,
    "start_time": "2024-05-02T01:05:27.384Z"
   },
   {
    "duration": 390,
    "start_time": "2024-05-02T01:05:28.092Z"
   },
   {
    "duration": 242,
    "start_time": "2024-05-02T01:05:28.483Z"
   },
   {
    "duration": 4,
    "start_time": "2024-05-02T01:05:28.727Z"
   },
   {
    "duration": 30,
    "start_time": "2024-05-02T01:05:28.732Z"
   },
   {
    "duration": 19,
    "start_time": "2024-05-02T01:05:28.763Z"
   },
   {
    "duration": 14331,
    "start_time": "2024-05-02T01:05:28.784Z"
   },
   {
    "duration": 375,
    "start_time": "2024-05-02T01:05:43.117Z"
   },
   {
    "duration": 38806,
    "start_time": "2024-05-02T01:05:43.494Z"
   },
   {
    "duration": 13,
    "start_time": "2024-05-02T01:06:22.382Z"
   },
   {
    "duration": 7,
    "start_time": "2024-05-02T01:07:03.057Z"
   },
   {
    "duration": 14,
    "start_time": "2024-05-02T01:07:03.066Z"
   },
   {
    "duration": 73,
    "start_time": "2024-05-02T01:07:03.082Z"
   },
   {
    "duration": 4,
    "start_time": "2024-05-02T01:07:03.156Z"
   },
   {
    "duration": 8,
    "start_time": "2024-05-02T01:07:03.162Z"
   },
   {
    "duration": 14,
    "start_time": "2024-05-02T01:07:03.171Z"
   },
   {
    "duration": 10,
    "start_time": "2024-05-02T01:07:03.187Z"
   },
   {
    "duration": 6,
    "start_time": "2024-05-02T01:07:03.198Z"
   },
   {
    "duration": 9,
    "start_time": "2024-05-02T01:07:03.205Z"
   },
   {
    "duration": 23,
    "start_time": "2024-05-02T01:07:03.216Z"
   },
   {
    "duration": 258,
    "start_time": "2024-05-02T01:07:03.240Z"
   },
   {
    "duration": 7,
    "start_time": "2024-05-02T01:07:03.500Z"
   },
   {
    "duration": 705,
    "start_time": "2024-05-02T01:07:03.508Z"
   },
   {
    "duration": 250,
    "start_time": "2024-05-02T01:07:04.216Z"
   },
   {
    "duration": 246,
    "start_time": "2024-05-02T01:07:04.467Z"
   },
   {
    "duration": 4,
    "start_time": "2024-05-02T01:07:04.714Z"
   },
   {
    "duration": 23,
    "start_time": "2024-05-02T01:07:04.720Z"
   },
   {
    "duration": 15,
    "start_time": "2024-05-02T01:07:04.745Z"
   },
   {
    "duration": 14489,
    "start_time": "2024-05-02T01:07:04.762Z"
   },
   {
    "duration": 231,
    "start_time": "2024-05-02T01:07:19.253Z"
   },
   {
    "duration": 33103,
    "start_time": "2024-05-02T01:07:19.486Z"
   },
   {
    "duration": 94,
    "start_time": "2024-05-02T01:07:52.591Z"
   },
   {
    "duration": 7,
    "start_time": "2024-05-02T01:08:23.538Z"
   },
   {
    "duration": 34,
    "start_time": "2024-05-02T01:08:23.547Z"
   },
   {
    "duration": 97,
    "start_time": "2024-05-02T01:08:23.583Z"
   },
   {
    "duration": 2,
    "start_time": "2024-05-02T01:08:23.682Z"
   },
   {
    "duration": 13,
    "start_time": "2024-05-02T01:08:23.687Z"
   },
   {
    "duration": 23,
    "start_time": "2024-05-02T01:08:23.701Z"
   },
   {
    "duration": 10,
    "start_time": "2024-05-02T01:08:23.726Z"
   },
   {
    "duration": 7,
    "start_time": "2024-05-02T01:08:23.737Z"
   },
   {
    "duration": 13,
    "start_time": "2024-05-02T01:08:23.745Z"
   },
   {
    "duration": 28,
    "start_time": "2024-05-02T01:08:23.760Z"
   },
   {
    "duration": 398,
    "start_time": "2024-05-02T01:08:23.790Z"
   },
   {
    "duration": 7,
    "start_time": "2024-05-02T01:08:24.189Z"
   },
   {
    "duration": 701,
    "start_time": "2024-05-02T01:08:24.197Z"
   },
   {
    "duration": 254,
    "start_time": "2024-05-02T01:08:24.901Z"
   },
   {
    "duration": 244,
    "start_time": "2024-05-02T01:08:25.156Z"
   },
   {
    "duration": 4,
    "start_time": "2024-05-02T01:08:25.402Z"
   },
   {
    "duration": 16,
    "start_time": "2024-05-02T01:08:25.408Z"
   },
   {
    "duration": 17,
    "start_time": "2024-05-02T01:08:25.426Z"
   },
   {
    "duration": 9709,
    "start_time": "2024-05-02T01:08:25.444Z"
   },
   {
    "duration": 927,
    "start_time": "2024-05-02T01:08:35.154Z"
   },
   {
    "duration": 24903,
    "start_time": "2024-05-02T01:08:36.086Z"
   },
   {
    "duration": 13,
    "start_time": "2024-05-02T01:09:00.990Z"
   },
   {
    "duration": 3,
    "start_time": "2024-05-02T01:12:17.182Z"
   },
   {
    "duration": 6,
    "start_time": "2024-05-02T01:12:20.764Z"
   },
   {
    "duration": 9,
    "start_time": "2024-05-02T01:12:20.772Z"
   },
   {
    "duration": 84,
    "start_time": "2024-05-02T01:12:20.782Z"
   },
   {
    "duration": 3,
    "start_time": "2024-05-02T01:12:20.868Z"
   },
   {
    "duration": 27,
    "start_time": "2024-05-02T01:12:20.873Z"
   },
   {
    "duration": 33,
    "start_time": "2024-05-02T01:12:20.902Z"
   },
   {
    "duration": 13,
    "start_time": "2024-05-02T01:12:20.937Z"
   },
   {
    "duration": 7,
    "start_time": "2024-05-02T01:12:20.952Z"
   },
   {
    "duration": 6,
    "start_time": "2024-05-02T01:12:20.960Z"
   },
   {
    "duration": 20,
    "start_time": "2024-05-02T01:12:20.967Z"
   },
   {
    "duration": 239,
    "start_time": "2024-05-02T01:12:20.989Z"
   },
   {
    "duration": 7,
    "start_time": "2024-05-02T01:12:21.230Z"
   },
   {
    "duration": 875,
    "start_time": "2024-05-02T01:12:21.238Z"
   },
   {
    "duration": 248,
    "start_time": "2024-05-02T01:12:22.116Z"
   },
   {
    "duration": 259,
    "start_time": "2024-05-02T01:12:22.366Z"
   },
   {
    "duration": 5,
    "start_time": "2024-05-02T01:12:22.627Z"
   },
   {
    "duration": 21,
    "start_time": "2024-05-02T01:12:22.633Z"
   },
   {
    "duration": 27,
    "start_time": "2024-05-02T01:12:22.656Z"
   },
   {
    "duration": 9875,
    "start_time": "2024-05-02T01:12:22.684Z"
   },
   {
    "duration": 830,
    "start_time": "2024-05-02T01:12:32.561Z"
   },
   {
    "duration": 339210,
    "start_time": "2024-05-02T01:12:33.482Z"
   },
   {
    "duration": 89,
    "start_time": "2024-05-02T01:18:12.694Z"
   },
   {
    "duration": 6,
    "start_time": "2024-05-02T01:19:43.377Z"
   },
   {
    "duration": 11,
    "start_time": "2024-05-02T01:19:43.385Z"
   },
   {
    "duration": 75,
    "start_time": "2024-05-02T01:19:43.397Z"
   },
   {
    "duration": 3,
    "start_time": "2024-05-02T01:19:43.473Z"
   },
   {
    "duration": 12,
    "start_time": "2024-05-02T01:19:43.478Z"
   },
   {
    "duration": 11,
    "start_time": "2024-05-02T01:19:43.491Z"
   },
   {
    "duration": 9,
    "start_time": "2024-05-02T01:19:43.503Z"
   },
   {
    "duration": 9,
    "start_time": "2024-05-02T01:19:43.514Z"
   },
   {
    "duration": 3,
    "start_time": "2024-05-02T01:19:43.525Z"
   },
   {
    "duration": 12,
    "start_time": "2024-05-02T01:19:43.530Z"
   },
   {
    "duration": 265,
    "start_time": "2024-05-02T01:19:43.544Z"
   },
   {
    "duration": 7,
    "start_time": "2024-05-02T01:19:43.811Z"
   },
   {
    "duration": 760,
    "start_time": "2024-05-02T01:19:43.819Z"
   },
   {
    "duration": 269,
    "start_time": "2024-05-02T01:19:44.584Z"
   },
   {
    "duration": 376,
    "start_time": "2024-05-02T01:19:44.855Z"
   },
   {
    "duration": 5,
    "start_time": "2024-05-02T01:19:45.233Z"
   },
   {
    "duration": 39,
    "start_time": "2024-05-02T01:19:45.240Z"
   },
   {
    "duration": 37,
    "start_time": "2024-05-02T01:19:45.280Z"
   },
   {
    "duration": 9036,
    "start_time": "2024-05-02T01:19:45.319Z"
   },
   {
    "duration": 1134,
    "start_time": "2024-05-02T01:19:54.357Z"
   },
   {
    "duration": 22906,
    "start_time": "2024-05-02T01:19:55.583Z"
   },
   {
    "duration": 13,
    "start_time": "2024-05-02T01:20:18.490Z"
   },
   {
    "duration": 7,
    "start_time": "2024-05-02T01:21:43.701Z"
   },
   {
    "duration": 22,
    "start_time": "2024-05-02T01:21:43.710Z"
   },
   {
    "duration": 68,
    "start_time": "2024-05-02T01:21:43.735Z"
   },
   {
    "duration": 3,
    "start_time": "2024-05-02T01:21:43.805Z"
   },
   {
    "duration": 7,
    "start_time": "2024-05-02T01:21:43.811Z"
   },
   {
    "duration": 18,
    "start_time": "2024-05-02T01:21:43.820Z"
   },
   {
    "duration": 11,
    "start_time": "2024-05-02T01:21:43.840Z"
   },
   {
    "duration": 30,
    "start_time": "2024-05-02T01:21:43.853Z"
   },
   {
    "duration": 4,
    "start_time": "2024-05-02T01:21:43.885Z"
   },
   {
    "duration": 12,
    "start_time": "2024-05-02T01:21:43.891Z"
   },
   {
    "duration": 256,
    "start_time": "2024-05-02T01:21:43.905Z"
   },
   {
    "duration": 7,
    "start_time": "2024-05-02T01:21:44.162Z"
   },
   {
    "duration": 748,
    "start_time": "2024-05-02T01:21:44.170Z"
   },
   {
    "duration": 242,
    "start_time": "2024-05-02T01:21:44.921Z"
   },
   {
    "duration": 240,
    "start_time": "2024-05-02T01:21:45.165Z"
   },
   {
    "duration": 5,
    "start_time": "2024-05-02T01:21:45.407Z"
   },
   {
    "duration": 19,
    "start_time": "2024-05-02T01:21:45.413Z"
   },
   {
    "duration": 20,
    "start_time": "2024-05-02T01:21:45.434Z"
   },
   {
    "duration": 10186,
    "start_time": "2024-05-02T01:21:45.456Z"
   },
   {
    "duration": 1044,
    "start_time": "2024-05-02T01:21:55.643Z"
   },
   {
    "duration": 24403,
    "start_time": "2024-05-02T01:21:56.782Z"
   },
   {
    "duration": 12,
    "start_time": "2024-05-02T01:22:21.187Z"
   },
   {
    "duration": 6,
    "start_time": "2024-05-02T01:25:12.845Z"
   },
   {
    "duration": 10,
    "start_time": "2024-05-02T01:25:12.853Z"
   },
   {
    "duration": 169,
    "start_time": "2024-05-02T01:25:12.864Z"
   },
   {
    "duration": 3,
    "start_time": "2024-05-02T01:25:13.034Z"
   },
   {
    "duration": 7,
    "start_time": "2024-05-02T01:25:13.039Z"
   },
   {
    "duration": 12,
    "start_time": "2024-05-02T01:25:13.048Z"
   },
   {
    "duration": 11,
    "start_time": "2024-05-02T01:25:13.061Z"
   },
   {
    "duration": 5,
    "start_time": "2024-05-02T01:25:13.073Z"
   },
   {
    "duration": 5,
    "start_time": "2024-05-02T01:25:13.080Z"
   },
   {
    "duration": 12,
    "start_time": "2024-05-02T01:25:13.087Z"
   },
   {
    "duration": 254,
    "start_time": "2024-05-02T01:25:13.100Z"
   },
   {
    "duration": 7,
    "start_time": "2024-05-02T01:25:13.356Z"
   },
   {
    "duration": 843,
    "start_time": "2024-05-02T01:25:13.365Z"
   },
   {
    "duration": 236,
    "start_time": "2024-05-02T01:25:14.210Z"
   },
   {
    "duration": 240,
    "start_time": "2024-05-02T01:25:14.448Z"
   },
   {
    "duration": 4,
    "start_time": "2024-05-02T01:25:14.689Z"
   },
   {
    "duration": 21,
    "start_time": "2024-05-02T01:25:14.694Z"
   },
   {
    "duration": 19,
    "start_time": "2024-05-02T01:25:14.716Z"
   },
   {
    "duration": 10458,
    "start_time": "2024-05-02T01:25:14.737Z"
   },
   {
    "duration": 1086,
    "start_time": "2024-05-02T01:25:25.197Z"
   },
   {
    "duration": 24101,
    "start_time": "2024-05-02T01:25:26.285Z"
   },
   {
    "duration": 13,
    "start_time": "2024-05-02T01:25:50.388Z"
   },
   {
    "duration": 6,
    "start_time": "2024-05-02T01:27:09.452Z"
   },
   {
    "duration": 6,
    "start_time": "2024-05-02T01:27:09.461Z"
   },
   {
    "duration": 84,
    "start_time": "2024-05-02T01:27:09.468Z"
   },
   {
    "duration": 3,
    "start_time": "2024-05-02T01:27:09.554Z"
   },
   {
    "duration": 9,
    "start_time": "2024-05-02T01:27:09.559Z"
   },
   {
    "duration": 17,
    "start_time": "2024-05-02T01:27:09.570Z"
   },
   {
    "duration": 10,
    "start_time": "2024-05-02T01:27:09.588Z"
   },
   {
    "duration": 6,
    "start_time": "2024-05-02T01:27:09.599Z"
   },
   {
    "duration": 13,
    "start_time": "2024-05-02T01:27:09.606Z"
   },
   {
    "duration": 17,
    "start_time": "2024-05-02T01:27:09.621Z"
   },
   {
    "duration": 256,
    "start_time": "2024-05-02T01:27:09.639Z"
   },
   {
    "duration": 7,
    "start_time": "2024-05-02T01:27:09.896Z"
   },
   {
    "duration": 681,
    "start_time": "2024-05-02T01:27:09.905Z"
   },
   {
    "duration": 251,
    "start_time": "2024-05-02T01:27:10.589Z"
   },
   {
    "duration": 394,
    "start_time": "2024-05-02T01:27:10.842Z"
   },
   {
    "duration": 4,
    "start_time": "2024-05-02T01:27:11.238Z"
   },
   {
    "duration": 19,
    "start_time": "2024-05-02T01:27:11.244Z"
   },
   {
    "duration": 31,
    "start_time": "2024-05-02T01:27:11.264Z"
   },
   {
    "duration": 10264,
    "start_time": "2024-05-02T01:27:11.296Z"
   },
   {
    "duration": 1124,
    "start_time": "2024-05-02T01:27:21.561Z"
   },
   {
    "duration": 24813,
    "start_time": "2024-05-02T01:27:22.687Z"
   },
   {
    "duration": 90,
    "start_time": "2024-05-02T01:27:47.502Z"
   },
   {
    "duration": 7,
    "start_time": "2024-05-02T01:29:13.521Z"
   },
   {
    "duration": 7,
    "start_time": "2024-05-02T01:29:13.530Z"
   },
   {
    "duration": 72,
    "start_time": "2024-05-02T01:29:13.538Z"
   },
   {
    "duration": 3,
    "start_time": "2024-05-02T01:29:13.612Z"
   },
   {
    "duration": 22,
    "start_time": "2024-05-02T01:29:13.617Z"
   },
   {
    "duration": 36,
    "start_time": "2024-05-02T01:29:13.640Z"
   },
   {
    "duration": 11,
    "start_time": "2024-05-02T01:29:13.677Z"
   },
   {
    "duration": 6,
    "start_time": "2024-05-02T01:29:13.690Z"
   },
   {
    "duration": 6,
    "start_time": "2024-05-02T01:29:13.698Z"
   },
   {
    "duration": 21,
    "start_time": "2024-05-02T01:29:13.705Z"
   },
   {
    "duration": 266,
    "start_time": "2024-05-02T01:29:13.727Z"
   },
   {
    "duration": 7,
    "start_time": "2024-05-02T01:29:13.994Z"
   },
   {
    "duration": 724,
    "start_time": "2024-05-02T01:29:14.002Z"
   },
   {
    "duration": 238,
    "start_time": "2024-05-02T01:29:14.730Z"
   },
   {
    "duration": 246,
    "start_time": "2024-05-02T01:29:14.969Z"
   },
   {
    "duration": 4,
    "start_time": "2024-05-02T01:29:15.217Z"
   },
   {
    "duration": 69,
    "start_time": "2024-05-02T01:29:15.222Z"
   },
   {
    "duration": 63,
    "start_time": "2024-05-02T01:29:15.292Z"
   },
   {
    "duration": 11341,
    "start_time": "2024-05-02T01:29:15.356Z"
   },
   {
    "duration": 1084,
    "start_time": "2024-05-02T01:29:26.698Z"
   },
   {
    "duration": 23898,
    "start_time": "2024-05-02T01:29:27.784Z"
   },
   {
    "duration": 21,
    "start_time": "2024-05-02T01:29:51.684Z"
   },
   {
    "duration": 6,
    "start_time": "2024-05-02T01:32:38.512Z"
   },
   {
    "duration": 10,
    "start_time": "2024-05-02T01:32:38.520Z"
   },
   {
    "duration": 88,
    "start_time": "2024-05-02T01:32:38.532Z"
   },
   {
    "duration": 2,
    "start_time": "2024-05-02T01:32:38.622Z"
   },
   {
    "duration": 9,
    "start_time": "2024-05-02T01:32:38.626Z"
   },
   {
    "duration": 17,
    "start_time": "2024-05-02T01:32:38.636Z"
   },
   {
    "duration": 10,
    "start_time": "2024-05-02T01:32:38.654Z"
   },
   {
    "duration": 17,
    "start_time": "2024-05-02T01:32:38.666Z"
   },
   {
    "duration": 4,
    "start_time": "2024-05-02T01:32:38.685Z"
   },
   {
    "duration": 14,
    "start_time": "2024-05-02T01:32:38.691Z"
   },
   {
    "duration": 276,
    "start_time": "2024-05-02T01:32:38.706Z"
   },
   {
    "duration": 9,
    "start_time": "2024-05-02T01:32:38.983Z"
   },
   {
    "duration": 850,
    "start_time": "2024-05-02T01:32:38.993Z"
   },
   {
    "duration": 260,
    "start_time": "2024-05-02T01:32:39.846Z"
   },
   {
    "duration": 235,
    "start_time": "2024-05-02T01:32:40.108Z"
   },
   {
    "duration": 5,
    "start_time": "2024-05-02T01:32:40.345Z"
   },
   {
    "duration": 34,
    "start_time": "2024-05-02T01:32:40.352Z"
   },
   {
    "duration": 19,
    "start_time": "2024-05-02T01:32:40.387Z"
   },
   {
    "duration": 12477,
    "start_time": "2024-05-02T01:32:40.408Z"
   },
   {
    "duration": 796,
    "start_time": "2024-05-02T01:32:52.887Z"
   },
   {
    "duration": 24706,
    "start_time": "2024-05-02T01:32:53.687Z"
   },
   {
    "duration": 96,
    "start_time": "2024-05-02T01:33:18.394Z"
   },
   {
    "duration": 6,
    "start_time": "2024-05-02T01:33:34.185Z"
   },
   {
    "duration": 4,
    "start_time": "2024-05-02T01:33:34.193Z"
   },
   {
    "duration": 68,
    "start_time": "2024-05-02T01:33:34.199Z"
   },
   {
    "duration": 2,
    "start_time": "2024-05-02T01:33:34.269Z"
   },
   {
    "duration": 7,
    "start_time": "2024-05-02T01:33:34.273Z"
   },
   {
    "duration": 14,
    "start_time": "2024-05-02T01:33:34.282Z"
   },
   {
    "duration": 17,
    "start_time": "2024-05-02T01:33:34.298Z"
   },
   {
    "duration": 5,
    "start_time": "2024-05-02T01:33:34.317Z"
   },
   {
    "duration": 6,
    "start_time": "2024-05-02T01:33:34.323Z"
   },
   {
    "duration": 12,
    "start_time": "2024-05-02T01:33:34.330Z"
   },
   {
    "duration": 261,
    "start_time": "2024-05-02T01:33:34.344Z"
   },
   {
    "duration": 7,
    "start_time": "2024-05-02T01:33:34.606Z"
   },
   {
    "duration": 854,
    "start_time": "2024-05-02T01:33:34.615Z"
   },
   {
    "duration": 241,
    "start_time": "2024-05-02T01:33:35.472Z"
   },
   {
    "duration": 246,
    "start_time": "2024-05-02T01:33:35.715Z"
   },
   {
    "duration": 3,
    "start_time": "2024-05-02T01:33:35.963Z"
   },
   {
    "duration": 17,
    "start_time": "2024-05-02T01:33:35.982Z"
   },
   {
    "duration": 20,
    "start_time": "2024-05-02T01:33:36.001Z"
   },
   {
    "duration": 22152,
    "start_time": "2024-05-02T01:33:36.022Z"
   },
   {
    "duration": 1007,
    "start_time": "2024-05-02T01:33:58.176Z"
   },
   {
    "duration": 26403,
    "start_time": "2024-05-02T01:33:59.186Z"
   },
   {
    "duration": 19,
    "start_time": "2024-05-02T01:34:25.591Z"
   },
   {
    "duration": 8,
    "start_time": "2024-05-02T01:36:15.319Z"
   },
   {
    "duration": 12,
    "start_time": "2024-05-02T01:36:15.329Z"
   },
   {
    "duration": 93,
    "start_time": "2024-05-02T01:36:15.343Z"
   },
   {
    "duration": 3,
    "start_time": "2024-05-02T01:36:15.438Z"
   },
   {
    "duration": 10,
    "start_time": "2024-05-02T01:36:15.443Z"
   },
   {
    "duration": 15,
    "start_time": "2024-05-02T01:36:15.455Z"
   },
   {
    "duration": 10,
    "start_time": "2024-05-02T01:36:15.472Z"
   },
   {
    "duration": 7,
    "start_time": "2024-05-02T01:36:15.484Z"
   },
   {
    "duration": 5,
    "start_time": "2024-05-02T01:36:15.492Z"
   },
   {
    "duration": 12,
    "start_time": "2024-05-02T01:36:15.499Z"
   },
   {
    "duration": 257,
    "start_time": "2024-05-02T01:36:15.513Z"
   },
   {
    "duration": 14,
    "start_time": "2024-05-02T01:36:15.771Z"
   },
   {
    "duration": 709,
    "start_time": "2024-05-02T01:36:15.786Z"
   },
   {
    "duration": 249,
    "start_time": "2024-05-02T01:36:16.498Z"
   },
   {
    "duration": 260,
    "start_time": "2024-05-02T01:36:16.749Z"
   },
   {
    "duration": 5,
    "start_time": "2024-05-02T01:36:17.011Z"
   },
   {
    "duration": 21,
    "start_time": "2024-05-02T01:36:17.017Z"
   },
   {
    "duration": 18,
    "start_time": "2024-05-02T01:36:17.040Z"
   },
   {
    "duration": 15774,
    "start_time": "2024-05-02T01:36:17.059Z"
   },
   {
    "duration": 1151,
    "start_time": "2024-05-02T01:36:32.834Z"
   },
   {
    "duration": 24601,
    "start_time": "2024-05-02T01:36:33.988Z"
   },
   {
    "duration": 14,
    "start_time": "2024-05-02T01:36:58.591Z"
   },
   {
    "duration": 7,
    "start_time": "2024-05-02T01:38:39.098Z"
   },
   {
    "duration": 5,
    "start_time": "2024-05-02T01:38:39.108Z"
   },
   {
    "duration": 148,
    "start_time": "2024-05-02T01:38:39.115Z"
   },
   {
    "duration": 3,
    "start_time": "2024-05-02T01:38:39.265Z"
   },
   {
    "duration": 7,
    "start_time": "2024-05-02T01:38:39.270Z"
   },
   {
    "duration": 15,
    "start_time": "2024-05-02T01:38:39.278Z"
   },
   {
    "duration": 9,
    "start_time": "2024-05-02T01:38:39.294Z"
   },
   {
    "duration": 5,
    "start_time": "2024-05-02T01:38:39.305Z"
   },
   {
    "duration": 6,
    "start_time": "2024-05-02T01:38:39.311Z"
   },
   {
    "duration": 17,
    "start_time": "2024-05-02T01:38:39.318Z"
   },
   {
    "duration": 413,
    "start_time": "2024-05-02T01:38:39.337Z"
   },
   {
    "duration": 6,
    "start_time": "2024-05-02T01:38:39.752Z"
   },
   {
    "duration": 833,
    "start_time": "2024-05-02T01:38:39.760Z"
   },
   {
    "duration": 235,
    "start_time": "2024-05-02T01:38:40.596Z"
   },
   {
    "duration": 241,
    "start_time": "2024-05-02T01:38:40.833Z"
   },
   {
    "duration": 6,
    "start_time": "2024-05-02T01:38:41.076Z"
   },
   {
    "duration": 18,
    "start_time": "2024-05-02T01:38:41.084Z"
   },
   {
    "duration": 20,
    "start_time": "2024-05-02T01:38:41.103Z"
   },
   {
    "duration": 16561,
    "start_time": "2024-05-02T01:38:41.124Z"
   },
   {
    "duration": 1097,
    "start_time": "2024-05-02T01:38:57.686Z"
   },
   {
    "duration": 25498,
    "start_time": "2024-05-02T01:38:58.785Z"
   },
   {
    "duration": 15,
    "start_time": "2024-05-02T01:39:24.285Z"
   },
   {
    "duration": 7,
    "start_time": "2024-05-02T01:40:35.644Z"
   },
   {
    "duration": 26,
    "start_time": "2024-05-02T01:40:35.653Z"
   },
   {
    "duration": 127,
    "start_time": "2024-05-02T01:40:35.681Z"
   },
   {
    "duration": 3,
    "start_time": "2024-05-02T01:40:35.810Z"
   },
   {
    "duration": 13,
    "start_time": "2024-05-02T01:40:35.815Z"
   },
   {
    "duration": 28,
    "start_time": "2024-05-02T01:40:35.829Z"
   },
   {
    "duration": 13,
    "start_time": "2024-05-02T01:40:35.859Z"
   },
   {
    "duration": 7,
    "start_time": "2024-05-02T01:40:35.875Z"
   },
   {
    "duration": 9,
    "start_time": "2024-05-02T01:40:35.883Z"
   },
   {
    "duration": 21,
    "start_time": "2024-05-02T01:40:35.894Z"
   },
   {
    "duration": 267,
    "start_time": "2024-05-02T01:40:35.917Z"
   },
   {
    "duration": 7,
    "start_time": "2024-05-02T01:40:36.185Z"
   },
   {
    "duration": 861,
    "start_time": "2024-05-02T01:40:36.193Z"
   },
   {
    "duration": 235,
    "start_time": "2024-05-02T01:40:37.056Z"
   },
   {
    "duration": 242,
    "start_time": "2024-05-02T01:40:37.292Z"
   },
   {
    "duration": 4,
    "start_time": "2024-05-02T01:40:37.535Z"
   },
   {
    "duration": 18,
    "start_time": "2024-05-02T01:40:37.541Z"
   },
   {
    "duration": 33,
    "start_time": "2024-05-02T01:40:37.561Z"
   },
   {
    "duration": 16296,
    "start_time": "2024-05-02T01:40:37.596Z"
   },
   {
    "duration": 1189,
    "start_time": "2024-05-02T01:40:53.893Z"
   },
   {
    "duration": 23908,
    "start_time": "2024-05-02T01:40:55.085Z"
   },
   {
    "duration": 98,
    "start_time": "2024-05-02T01:41:18.995Z"
   },
   {
    "duration": 6,
    "start_time": "2024-05-02T01:42:57.091Z"
   },
   {
    "duration": 9,
    "start_time": "2024-05-02T01:42:57.099Z"
   },
   {
    "duration": 70,
    "start_time": "2024-05-02T01:42:57.109Z"
   },
   {
    "duration": 3,
    "start_time": "2024-05-02T01:42:57.181Z"
   },
   {
    "duration": 11,
    "start_time": "2024-05-02T01:42:57.186Z"
   },
   {
    "duration": 19,
    "start_time": "2024-05-02T01:42:57.199Z"
   },
   {
    "duration": 9,
    "start_time": "2024-05-02T01:42:57.220Z"
   },
   {
    "duration": 8,
    "start_time": "2024-05-02T01:42:57.230Z"
   },
   {
    "duration": 5,
    "start_time": "2024-05-02T01:42:57.240Z"
   },
   {
    "duration": 40,
    "start_time": "2024-05-02T01:42:57.246Z"
   },
   {
    "duration": 244,
    "start_time": "2024-05-02T01:42:57.288Z"
   },
   {
    "duration": 6,
    "start_time": "2024-05-02T01:42:57.534Z"
   },
   {
    "duration": 736,
    "start_time": "2024-05-02T01:42:57.542Z"
   },
   {
    "duration": 259,
    "start_time": "2024-05-02T01:42:58.281Z"
   },
   {
    "duration": 240,
    "start_time": "2024-05-02T01:42:58.542Z"
   },
   {
    "duration": 4,
    "start_time": "2024-05-02T01:42:58.783Z"
   },
   {
    "duration": 19,
    "start_time": "2024-05-02T01:42:58.788Z"
   },
   {
    "duration": 19,
    "start_time": "2024-05-02T01:42:58.809Z"
   },
   {
    "duration": 17600,
    "start_time": "2024-05-02T01:42:58.829Z"
   },
   {
    "duration": 1256,
    "start_time": "2024-05-02T01:43:16.431Z"
   },
   {
    "duration": 24603,
    "start_time": "2024-05-02T01:43:17.690Z"
   },
   {
    "duration": 100,
    "start_time": "2024-05-02T01:43:42.294Z"
   },
   {
    "duration": 5376,
    "start_time": "2024-05-02T18:03:15.410Z"
   },
   {
    "duration": 4,
    "start_time": "2024-05-02T18:03:20.788Z"
   },
   {
    "duration": 213,
    "start_time": "2024-05-02T18:03:20.794Z"
   },
   {
    "duration": 3,
    "start_time": "2024-05-02T18:03:21.009Z"
   },
   {
    "duration": 22,
    "start_time": "2024-05-02T18:03:21.014Z"
   },
   {
    "duration": 14,
    "start_time": "2024-05-02T18:03:21.038Z"
   },
   {
    "duration": 26,
    "start_time": "2024-05-02T18:03:21.054Z"
   },
   {
    "duration": 25,
    "start_time": "2024-05-02T18:03:21.082Z"
   },
   {
    "duration": 20,
    "start_time": "2024-05-02T18:03:21.109Z"
   },
   {
    "duration": 21,
    "start_time": "2024-05-02T18:03:21.131Z"
   },
   {
    "duration": 319,
    "start_time": "2024-05-02T18:03:21.154Z"
   },
   {
    "duration": 7,
    "start_time": "2024-05-02T18:03:21.475Z"
   },
   {
    "duration": 884,
    "start_time": "2024-05-02T18:03:21.484Z"
   },
   {
    "duration": 8,
    "start_time": "2024-05-02T18:03:22.372Z"
   },
   {
    "duration": 320,
    "start_time": "2024-05-02T18:03:22.382Z"
   },
   {
    "duration": 315,
    "start_time": "2024-05-02T18:03:22.704Z"
   },
   {
    "duration": 5,
    "start_time": "2024-05-02T18:03:23.021Z"
   },
   {
    "duration": 31,
    "start_time": "2024-05-02T18:03:23.028Z"
   },
   {
    "duration": 30,
    "start_time": "2024-05-02T18:03:23.061Z"
   },
   {
    "duration": 25,
    "start_time": "2024-05-02T18:03:23.093Z"
   },
   {
    "duration": 6,
    "start_time": "2024-05-02T18:03:23.120Z"
   },
   {
    "duration": 17214,
    "start_time": "2024-05-02T18:03:23.128Z"
   },
   {
    "duration": 4,
    "start_time": "2024-05-02T18:03:40.343Z"
   },
   {
    "duration": 1026,
    "start_time": "2024-05-02T18:03:40.348Z"
   },
   {
    "duration": 24204,
    "start_time": "2024-05-02T18:03:41.478Z"
   },
   {
    "duration": 94,
    "start_time": "2024-05-02T18:04:05.684Z"
   },
   {
    "duration": 8,
    "start_time": "2024-05-02T18:52:21.466Z"
   },
   {
    "duration": 28,
    "start_time": "2024-05-02T18:52:21.476Z"
   },
   {
    "duration": 95,
    "start_time": "2024-05-02T18:52:21.506Z"
   },
   {
    "duration": 4,
    "start_time": "2024-05-02T18:52:21.602Z"
   },
   {
    "duration": 43,
    "start_time": "2024-05-02T18:52:21.609Z"
   },
   {
    "duration": 40,
    "start_time": "2024-05-02T18:52:21.656Z"
   },
   {
    "duration": 24,
    "start_time": "2024-05-02T18:52:21.698Z"
   },
   {
    "duration": 18,
    "start_time": "2024-05-02T18:52:21.724Z"
   },
   {
    "duration": 5,
    "start_time": "2024-05-02T18:52:21.744Z"
   },
   {
    "duration": 50,
    "start_time": "2024-05-02T18:52:21.751Z"
   },
   {
    "duration": 316,
    "start_time": "2024-05-02T18:52:21.803Z"
   },
   {
    "duration": 7,
    "start_time": "2024-05-02T18:52:22.121Z"
   },
   {
    "duration": 906,
    "start_time": "2024-05-02T18:52:22.130Z"
   },
   {
    "duration": 146,
    "start_time": "2024-05-02T18:52:23.039Z"
   },
   {
    "duration": 0,
    "start_time": "2024-05-02T18:52:23.187Z"
   },
   {
    "duration": 0,
    "start_time": "2024-05-02T18:52:23.188Z"
   },
   {
    "duration": 0,
    "start_time": "2024-05-02T18:52:23.189Z"
   },
   {
    "duration": 0,
    "start_time": "2024-05-02T18:52:23.190Z"
   },
   {
    "duration": 0,
    "start_time": "2024-05-02T18:52:23.191Z"
   },
   {
    "duration": 0,
    "start_time": "2024-05-02T18:52:23.192Z"
   },
   {
    "duration": 0,
    "start_time": "2024-05-02T18:52:23.193Z"
   },
   {
    "duration": 0,
    "start_time": "2024-05-02T18:52:23.194Z"
   },
   {
    "duration": 0,
    "start_time": "2024-05-02T18:52:23.195Z"
   },
   {
    "duration": 0,
    "start_time": "2024-05-02T18:52:23.197Z"
   },
   {
    "duration": 0,
    "start_time": "2024-05-02T18:52:23.198Z"
   },
   {
    "duration": 8,
    "start_time": "2024-05-02T18:52:55.484Z"
   },
   {
    "duration": 8,
    "start_time": "2024-05-02T18:52:55.495Z"
   },
   {
    "duration": 91,
    "start_time": "2024-05-02T18:52:55.504Z"
   },
   {
    "duration": 3,
    "start_time": "2024-05-02T18:52:55.597Z"
   },
   {
    "duration": 16,
    "start_time": "2024-05-02T18:52:55.602Z"
   },
   {
    "duration": 35,
    "start_time": "2024-05-02T18:52:55.619Z"
   },
   {
    "duration": 19,
    "start_time": "2024-05-02T18:52:55.655Z"
   },
   {
    "duration": 12,
    "start_time": "2024-05-02T18:52:55.677Z"
   },
   {
    "duration": 14,
    "start_time": "2024-05-02T18:52:55.692Z"
   },
   {
    "duration": 26,
    "start_time": "2024-05-02T18:52:55.707Z"
   },
   {
    "duration": 340,
    "start_time": "2024-05-02T18:52:55.735Z"
   },
   {
    "duration": 11,
    "start_time": "2024-05-02T18:52:56.083Z"
   },
   {
    "duration": 855,
    "start_time": "2024-05-02T18:52:56.097Z"
   },
   {
    "duration": 6,
    "start_time": "2024-05-02T18:52:56.955Z"
   },
   {
    "duration": 327,
    "start_time": "2024-05-02T18:52:56.974Z"
   },
   {
    "duration": 4,
    "start_time": "2024-05-02T18:52:57.303Z"
   },
   {
    "duration": 17,
    "start_time": "2024-05-02T18:52:57.309Z"
   },
   {
    "duration": 19,
    "start_time": "2024-05-02T18:52:57.327Z"
   },
   {
    "duration": 27,
    "start_time": "2024-05-02T18:52:57.348Z"
   },
   {
    "duration": 9,
    "start_time": "2024-05-02T18:52:57.377Z"
   },
   {
    "duration": 17634,
    "start_time": "2024-05-02T18:52:57.389Z"
   },
   {
    "duration": 3,
    "start_time": "2024-05-02T18:53:15.025Z"
   },
   {
    "duration": 1054,
    "start_time": "2024-05-02T18:53:15.030Z"
   },
   {
    "duration": 27608,
    "start_time": "2024-05-02T18:53:16.174Z"
   },
   {
    "duration": 99,
    "start_time": "2024-05-02T18:53:43.784Z"
   },
   {
    "duration": 290,
    "start_time": "2024-05-02T18:54:01.548Z"
   },
   {
    "duration": 14,
    "start_time": "2024-05-02T18:54:36.370Z"
   },
   {
    "duration": 520,
    "start_time": "2024-05-02T18:54:44.025Z"
   },
   {
    "duration": 313,
    "start_time": "2024-05-02T18:55:01.937Z"
   },
   {
    "duration": 171,
    "start_time": "2024-05-02T18:55:13.620Z"
   },
   {
    "duration": 13,
    "start_time": "2024-05-02T18:55:57.482Z"
   },
   {
    "duration": 169,
    "start_time": "2024-05-02T18:56:40.507Z"
   },
   {
    "duration": 168,
    "start_time": "2024-05-02T18:56:58.626Z"
   },
   {
    "duration": 187,
    "start_time": "2024-05-02T18:57:16.817Z"
   },
   {
    "duration": 197,
    "start_time": "2024-05-02T18:58:27.912Z"
   },
   {
    "duration": 192,
    "start_time": "2024-05-02T18:58:31.829Z"
   },
   {
    "duration": 181,
    "start_time": "2024-05-02T18:58:43.710Z"
   },
   {
    "duration": 485,
    "start_time": "2024-05-02T19:02:44.685Z"
   },
   {
    "duration": 893,
    "start_time": "2024-05-02T19:03:08.519Z"
   },
   {
    "duration": 8,
    "start_time": "2024-05-02T19:10:35.051Z"
   },
   {
    "duration": 52,
    "start_time": "2024-05-02T19:10:35.060Z"
   },
   {
    "duration": 86,
    "start_time": "2024-05-02T19:10:35.114Z"
   },
   {
    "duration": 4,
    "start_time": "2024-05-02T19:10:35.201Z"
   },
   {
    "duration": 29,
    "start_time": "2024-05-02T19:10:35.208Z"
   },
   {
    "duration": 26,
    "start_time": "2024-05-02T19:10:35.239Z"
   },
   {
    "duration": 14,
    "start_time": "2024-05-02T19:10:35.268Z"
   },
   {
    "duration": 17,
    "start_time": "2024-05-02T19:10:35.285Z"
   },
   {
    "duration": 18,
    "start_time": "2024-05-02T19:10:35.304Z"
   },
   {
    "duration": 29,
    "start_time": "2024-05-02T19:10:35.324Z"
   },
   {
    "duration": 297,
    "start_time": "2024-05-02T19:10:35.355Z"
   },
   {
    "duration": 7,
    "start_time": "2024-05-02T19:10:35.654Z"
   },
   {
    "duration": 921,
    "start_time": "2024-05-02T19:10:35.672Z"
   },
   {
    "duration": 198,
    "start_time": "2024-05-02T19:10:36.596Z"
   },
   {
    "duration": 220,
    "start_time": "2024-05-02T19:10:36.796Z"
   },
   {
    "duration": 6,
    "start_time": "2024-05-02T19:10:37.019Z"
   },
   {
    "duration": 315,
    "start_time": "2024-05-02T19:10:37.027Z"
   },
   {
    "duration": 4,
    "start_time": "2024-05-02T19:10:37.344Z"
   },
   {
    "duration": 39,
    "start_time": "2024-05-02T19:10:37.349Z"
   },
   {
    "duration": 19,
    "start_time": "2024-05-02T19:10:37.390Z"
   },
   {
    "duration": 5,
    "start_time": "2024-05-02T19:10:37.410Z"
   },
   {
    "duration": 16,
    "start_time": "2024-05-02T19:10:37.416Z"
   },
   {
    "duration": 17137,
    "start_time": "2024-05-02T19:10:37.433Z"
   },
   {
    "duration": 3,
    "start_time": "2024-05-02T19:10:54.572Z"
   },
   {
    "duration": 1003,
    "start_time": "2024-05-02T19:10:54.577Z"
   },
   {
    "duration": 235299,
    "start_time": "2024-05-02T19:10:55.583Z"
   },
   {
    "duration": 93,
    "start_time": "2024-05-02T19:14:50.883Z"
   },
   {
    "duration": 8,
    "start_time": "2024-05-02T19:15:28.315Z"
   },
   {
    "duration": 15,
    "start_time": "2024-05-02T19:15:28.325Z"
   },
   {
    "duration": 95,
    "start_time": "2024-05-02T19:15:28.342Z"
   },
   {
    "duration": 3,
    "start_time": "2024-05-02T19:15:28.439Z"
   },
   {
    "duration": 20,
    "start_time": "2024-05-02T19:15:28.444Z"
   },
   {
    "duration": 34,
    "start_time": "2024-05-02T19:15:28.465Z"
   },
   {
    "duration": 17,
    "start_time": "2024-05-02T19:15:28.501Z"
   },
   {
    "duration": 6,
    "start_time": "2024-05-02T19:15:28.519Z"
   },
   {
    "duration": 4,
    "start_time": "2024-05-02T19:15:28.526Z"
   },
   {
    "duration": 30,
    "start_time": "2024-05-02T19:15:28.531Z"
   },
   {
    "duration": 306,
    "start_time": "2024-05-02T19:15:28.563Z"
   },
   {
    "duration": 9,
    "start_time": "2024-05-02T19:15:28.870Z"
   },
   {
    "duration": 945,
    "start_time": "2024-05-02T19:15:28.881Z"
   },
   {
    "duration": 190,
    "start_time": "2024-05-02T19:15:29.830Z"
   },
   {
    "duration": 233,
    "start_time": "2024-05-02T19:15:30.022Z"
   },
   {
    "duration": 7,
    "start_time": "2024-05-02T19:15:30.257Z"
   },
   {
    "duration": 413,
    "start_time": "2024-05-02T19:15:30.273Z"
   },
   {
    "duration": 6,
    "start_time": "2024-05-02T19:15:30.688Z"
   },
   {
    "duration": 50,
    "start_time": "2024-05-02T19:15:30.696Z"
   },
   {
    "duration": 51,
    "start_time": "2024-05-02T19:15:30.747Z"
   },
   {
    "duration": 62,
    "start_time": "2024-05-02T19:15:30.800Z"
   },
   {
    "duration": 107,
    "start_time": "2024-05-02T19:15:30.863Z"
   },
   {
    "duration": 15384,
    "start_time": "2024-05-02T19:15:30.972Z"
   },
   {
    "duration": 3,
    "start_time": "2024-05-02T19:15:46.357Z"
   },
   {
    "duration": 1215,
    "start_time": "2024-05-02T19:15:46.361Z"
   },
   {
    "duration": 20509,
    "start_time": "2024-05-02T19:15:47.673Z"
   },
   {
    "duration": 93,
    "start_time": "2024-05-02T19:16:08.184Z"
   },
   {
    "duration": 6,
    "start_time": "2024-05-02T19:16:35.368Z"
   },
   {
    "duration": 9,
    "start_time": "2024-05-02T19:16:35.376Z"
   },
   {
    "duration": 82,
    "start_time": "2024-05-02T19:16:35.387Z"
   },
   {
    "duration": 3,
    "start_time": "2024-05-02T19:16:35.471Z"
   },
   {
    "duration": 31,
    "start_time": "2024-05-02T19:16:35.475Z"
   },
   {
    "duration": 27,
    "start_time": "2024-05-02T19:16:35.507Z"
   },
   {
    "duration": 9,
    "start_time": "2024-05-02T19:16:35.536Z"
   },
   {
    "duration": 5,
    "start_time": "2024-05-02T19:16:35.547Z"
   },
   {
    "duration": 5,
    "start_time": "2024-05-02T19:16:35.553Z"
   },
   {
    "duration": 28,
    "start_time": "2024-05-02T19:16:35.560Z"
   },
   {
    "duration": 284,
    "start_time": "2024-05-02T19:16:35.589Z"
   },
   {
    "duration": 6,
    "start_time": "2024-05-02T19:16:35.875Z"
   },
   {
    "duration": 817,
    "start_time": "2024-05-02T19:16:35.883Z"
   },
   {
    "duration": 192,
    "start_time": "2024-05-02T19:16:36.702Z"
   },
   {
    "duration": 205,
    "start_time": "2024-05-02T19:16:36.895Z"
   },
   {
    "duration": 6,
    "start_time": "2024-05-02T19:16:37.102Z"
   },
   {
    "duration": 292,
    "start_time": "2024-05-02T19:16:37.109Z"
   },
   {
    "duration": 4,
    "start_time": "2024-05-02T19:16:37.403Z"
   },
   {
    "duration": 32,
    "start_time": "2024-05-02T19:16:37.408Z"
   },
   {
    "duration": 16,
    "start_time": "2024-05-02T19:16:37.441Z"
   },
   {
    "duration": 19,
    "start_time": "2024-05-02T19:16:37.458Z"
   },
   {
    "duration": 17,
    "start_time": "2024-05-02T19:16:37.479Z"
   },
   {
    "duration": 12169,
    "start_time": "2024-05-02T19:16:37.498Z"
   },
   {
    "duration": 3,
    "start_time": "2024-05-02T19:16:49.669Z"
   },
   {
    "duration": 901,
    "start_time": "2024-05-02T19:16:49.675Z"
   },
   {
    "duration": 20299,
    "start_time": "2024-05-02T19:16:50.580Z"
   },
   {
    "duration": 93,
    "start_time": "2024-05-02T19:17:10.881Z"
   },
   {
    "duration": 9,
    "start_time": "2024-05-02T19:17:42.776Z"
   },
   {
    "duration": 11,
    "start_time": "2024-05-02T19:17:42.787Z"
   },
   {
    "duration": 104,
    "start_time": "2024-05-02T19:17:42.800Z"
   },
   {
    "duration": 4,
    "start_time": "2024-05-02T19:17:42.906Z"
   },
   {
    "duration": 25,
    "start_time": "2024-05-02T19:17:42.912Z"
   },
   {
    "duration": 20,
    "start_time": "2024-05-02T19:17:42.939Z"
   },
   {
    "duration": 16,
    "start_time": "2024-05-02T19:17:42.960Z"
   },
   {
    "duration": 14,
    "start_time": "2024-05-02T19:17:42.977Z"
   },
   {
    "duration": 13,
    "start_time": "2024-05-02T19:17:42.992Z"
   },
   {
    "duration": 31,
    "start_time": "2024-05-02T19:17:43.007Z"
   },
   {
    "duration": 305,
    "start_time": "2024-05-02T19:17:43.040Z"
   },
   {
    "duration": 7,
    "start_time": "2024-05-02T19:17:43.347Z"
   },
   {
    "duration": 876,
    "start_time": "2024-05-02T19:17:43.355Z"
   },
   {
    "duration": 212,
    "start_time": "2024-05-02T19:17:44.235Z"
   },
   {
    "duration": 208,
    "start_time": "2024-05-02T19:17:44.449Z"
   },
   {
    "duration": 16,
    "start_time": "2024-05-02T19:17:44.658Z"
   },
   {
    "duration": 293,
    "start_time": "2024-05-02T19:17:44.675Z"
   },
   {
    "duration": 4,
    "start_time": "2024-05-02T19:17:44.970Z"
   },
   {
    "duration": 24,
    "start_time": "2024-05-02T19:17:44.975Z"
   },
   {
    "duration": 20,
    "start_time": "2024-05-02T19:17:45.001Z"
   },
   {
    "duration": 52,
    "start_time": "2024-05-02T19:17:45.022Z"
   },
   {
    "duration": 11,
    "start_time": "2024-05-02T19:17:45.076Z"
   },
   {
    "duration": 18524,
    "start_time": "2024-05-02T19:17:45.089Z"
   },
   {
    "duration": 3,
    "start_time": "2024-05-02T19:18:03.614Z"
   },
   {
    "duration": 1259,
    "start_time": "2024-05-02T19:18:03.619Z"
   },
   {
    "duration": 21400,
    "start_time": "2024-05-02T19:18:04.880Z"
   },
   {
    "duration": 96,
    "start_time": "2024-05-02T19:18:26.282Z"
   },
   {
    "duration": 7,
    "start_time": "2024-05-02T19:19:44.307Z"
   },
   {
    "duration": 26,
    "start_time": "2024-05-02T19:19:44.316Z"
   },
   {
    "duration": 85,
    "start_time": "2024-05-02T19:19:44.343Z"
   },
   {
    "duration": 3,
    "start_time": "2024-05-02T19:19:44.430Z"
   },
   {
    "duration": 11,
    "start_time": "2024-05-02T19:19:44.434Z"
   },
   {
    "duration": 15,
    "start_time": "2024-05-02T19:19:44.447Z"
   },
   {
    "duration": 23,
    "start_time": "2024-05-02T19:19:44.464Z"
   },
   {
    "duration": 6,
    "start_time": "2024-05-02T19:19:44.488Z"
   },
   {
    "duration": 12,
    "start_time": "2024-05-02T19:19:44.495Z"
   },
   {
    "duration": 21,
    "start_time": "2024-05-02T19:19:44.510Z"
   },
   {
    "duration": 277,
    "start_time": "2024-05-02T19:19:44.533Z"
   },
   {
    "duration": 8,
    "start_time": "2024-05-02T19:19:44.812Z"
   },
   {
    "duration": 953,
    "start_time": "2024-05-02T19:19:44.822Z"
   },
   {
    "duration": 199,
    "start_time": "2024-05-02T19:19:45.777Z"
   },
   {
    "duration": 210,
    "start_time": "2024-05-02T19:19:45.978Z"
   },
   {
    "duration": 7,
    "start_time": "2024-05-02T19:19:46.190Z"
   },
   {
    "duration": 304,
    "start_time": "2024-05-02T19:19:46.199Z"
   },
   {
    "duration": 5,
    "start_time": "2024-05-02T19:19:46.505Z"
   },
   {
    "duration": 55,
    "start_time": "2024-05-02T19:19:46.512Z"
   },
   {
    "duration": 21,
    "start_time": "2024-05-02T19:19:46.569Z"
   },
   {
    "duration": 4,
    "start_time": "2024-05-02T19:19:46.592Z"
   },
   {
    "duration": 11,
    "start_time": "2024-05-02T19:19:46.598Z"
   },
   {
    "duration": 18126,
    "start_time": "2024-05-02T19:19:46.610Z"
   },
   {
    "duration": 3,
    "start_time": "2024-05-02T19:20:04.737Z"
   },
   {
    "duration": 1132,
    "start_time": "2024-05-02T19:20:04.742Z"
   },
   {
    "duration": 21703,
    "start_time": "2024-05-02T19:20:05.878Z"
   },
   {
    "duration": 91,
    "start_time": "2024-05-02T19:20:27.583Z"
   },
   {
    "duration": 9,
    "start_time": "2024-05-02T19:21:53.246Z"
   },
   {
    "duration": 19,
    "start_time": "2024-05-02T19:21:53.256Z"
   },
   {
    "duration": 91,
    "start_time": "2024-05-02T19:21:53.277Z"
   },
   {
    "duration": 2,
    "start_time": "2024-05-02T19:21:53.371Z"
   },
   {
    "duration": 15,
    "start_time": "2024-05-02T19:21:53.375Z"
   },
   {
    "duration": 17,
    "start_time": "2024-05-02T19:21:53.391Z"
   },
   {
    "duration": 10,
    "start_time": "2024-05-02T19:21:53.410Z"
   },
   {
    "duration": 17,
    "start_time": "2024-05-02T19:21:53.422Z"
   },
   {
    "duration": 14,
    "start_time": "2024-05-02T19:21:53.441Z"
   },
   {
    "duration": 18,
    "start_time": "2024-05-02T19:21:53.458Z"
   },
   {
    "duration": 295,
    "start_time": "2024-05-02T19:21:53.478Z"
   },
   {
    "duration": 7,
    "start_time": "2024-05-02T19:21:53.774Z"
   },
   {
    "duration": 966,
    "start_time": "2024-05-02T19:21:53.782Z"
   },
   {
    "duration": 187,
    "start_time": "2024-05-02T19:21:54.750Z"
   },
   {
    "duration": 197,
    "start_time": "2024-05-02T19:21:54.938Z"
   },
   {
    "duration": 7,
    "start_time": "2024-05-02T19:21:55.137Z"
   },
   {
    "duration": 289,
    "start_time": "2024-05-02T19:21:55.146Z"
   },
   {
    "duration": 5,
    "start_time": "2024-05-02T19:21:55.438Z"
   },
   {
    "duration": 39,
    "start_time": "2024-05-02T19:21:55.445Z"
   },
   {
    "duration": 20,
    "start_time": "2024-05-02T19:21:55.486Z"
   },
   {
    "duration": 6,
    "start_time": "2024-05-02T19:21:55.508Z"
   },
   {
    "duration": 5,
    "start_time": "2024-05-02T19:21:55.516Z"
   },
   {
    "duration": 17105,
    "start_time": "2024-05-02T19:21:55.523Z"
   },
   {
    "duration": 3,
    "start_time": "2024-05-02T19:22:12.629Z"
   },
   {
    "duration": 1042,
    "start_time": "2024-05-02T19:22:12.633Z"
   },
   {
    "duration": 21902,
    "start_time": "2024-05-02T19:22:13.679Z"
   },
   {
    "duration": 95,
    "start_time": "2024-05-02T19:22:35.582Z"
   },
   {
    "duration": 7,
    "start_time": "2024-05-02T19:25:09.565Z"
   },
   {
    "duration": 16,
    "start_time": "2024-05-02T19:25:09.574Z"
   },
   {
    "duration": 82,
    "start_time": "2024-05-02T19:25:09.591Z"
   },
   {
    "duration": 3,
    "start_time": "2024-05-02T19:25:09.675Z"
   },
   {
    "duration": 8,
    "start_time": "2024-05-02T19:25:09.680Z"
   },
   {
    "duration": 13,
    "start_time": "2024-05-02T19:25:09.689Z"
   },
   {
    "duration": 12,
    "start_time": "2024-05-02T19:25:09.703Z"
   },
   {
    "duration": 5,
    "start_time": "2024-05-02T19:25:09.716Z"
   },
   {
    "duration": 5,
    "start_time": "2024-05-02T19:25:09.723Z"
   },
   {
    "duration": 18,
    "start_time": "2024-05-02T19:25:09.729Z"
   },
   {
    "duration": 299,
    "start_time": "2024-05-02T19:25:09.774Z"
   },
   {
    "duration": 7,
    "start_time": "2024-05-02T19:25:10.075Z"
   },
   {
    "duration": 847,
    "start_time": "2024-05-02T19:25:10.083Z"
   },
   {
    "duration": 192,
    "start_time": "2024-05-02T19:25:10.934Z"
   },
   {
    "duration": 202,
    "start_time": "2024-05-02T19:25:11.128Z"
   },
   {
    "duration": 9,
    "start_time": "2024-05-02T19:25:11.333Z"
   },
   {
    "duration": 313,
    "start_time": "2024-05-02T19:25:11.344Z"
   },
   {
    "duration": 14,
    "start_time": "2024-05-02T19:25:11.659Z"
   },
   {
    "duration": 21,
    "start_time": "2024-05-02T19:25:11.676Z"
   },
   {
    "duration": 20,
    "start_time": "2024-05-02T19:25:11.698Z"
   },
   {
    "duration": 12,
    "start_time": "2024-05-02T19:25:11.720Z"
   },
   {
    "duration": 8,
    "start_time": "2024-05-02T19:25:11.734Z"
   },
   {
    "duration": 17367,
    "start_time": "2024-05-02T19:25:11.744Z"
   },
   {
    "duration": 3,
    "start_time": "2024-05-02T19:25:29.112Z"
   },
   {
    "duration": 1159,
    "start_time": "2024-05-02T19:25:29.117Z"
   },
   {
    "duration": 25507,
    "start_time": "2024-05-02T19:25:30.278Z"
   },
   {
    "duration": 15,
    "start_time": "2024-05-02T19:25:55.872Z"
   },
   {
    "duration": 8,
    "start_time": "2024-05-02T19:29:05.015Z"
   },
   {
    "duration": 31,
    "start_time": "2024-05-02T19:29:05.025Z"
   },
   {
    "duration": 87,
    "start_time": "2024-05-02T19:29:05.058Z"
   },
   {
    "duration": 3,
    "start_time": "2024-05-02T19:29:05.147Z"
   },
   {
    "duration": 13,
    "start_time": "2024-05-02T19:29:05.152Z"
   },
   {
    "duration": 25,
    "start_time": "2024-05-02T19:29:05.166Z"
   },
   {
    "duration": 9,
    "start_time": "2024-05-02T19:29:05.193Z"
   },
   {
    "duration": 6,
    "start_time": "2024-05-02T19:29:05.204Z"
   },
   {
    "duration": 4,
    "start_time": "2024-05-02T19:29:05.211Z"
   },
   {
    "duration": 11,
    "start_time": "2024-05-02T19:29:05.218Z"
   },
   {
    "duration": 451,
    "start_time": "2024-05-02T19:29:05.231Z"
   },
   {
    "duration": 6,
    "start_time": "2024-05-02T19:29:05.684Z"
   },
   {
    "duration": 831,
    "start_time": "2024-05-02T19:29:05.692Z"
   },
   {
    "duration": 186,
    "start_time": "2024-05-02T19:29:06.525Z"
   },
   {
    "duration": 200,
    "start_time": "2024-05-02T19:29:06.713Z"
   },
   {
    "duration": 7,
    "start_time": "2024-05-02T19:29:06.915Z"
   },
   {
    "duration": 316,
    "start_time": "2024-05-02T19:29:06.925Z"
   },
   {
    "duration": 5,
    "start_time": "2024-05-02T19:29:07.242Z"
   },
   {
    "duration": 25,
    "start_time": "2024-05-02T19:29:07.248Z"
   },
   {
    "duration": 16,
    "start_time": "2024-05-02T19:29:07.275Z"
   },
   {
    "duration": 67,
    "start_time": "2024-05-02T19:29:07.293Z"
   },
   {
    "duration": 35,
    "start_time": "2024-05-02T19:29:07.362Z"
   },
   {
    "duration": 9435,
    "start_time": "2024-05-02T19:29:07.399Z"
   },
   {
    "duration": 4,
    "start_time": "2024-05-02T19:29:16.836Z"
   },
   {
    "duration": 133,
    "start_time": "2024-05-02T19:29:16.842Z"
   },
   {
    "duration": 18198,
    "start_time": "2024-05-02T19:29:16.977Z"
   },
   {
    "duration": 21,
    "start_time": "2024-05-02T19:29:35.177Z"
   },
   {
    "duration": 7,
    "start_time": "2024-05-02T19:29:52.242Z"
   },
   {
    "duration": 42,
    "start_time": "2024-05-02T19:29:52.251Z"
   },
   {
    "duration": 87,
    "start_time": "2024-05-02T19:29:52.294Z"
   },
   {
    "duration": 3,
    "start_time": "2024-05-02T19:29:52.383Z"
   },
   {
    "duration": 16,
    "start_time": "2024-05-02T19:29:52.388Z"
   },
   {
    "duration": 20,
    "start_time": "2024-05-02T19:29:52.405Z"
   },
   {
    "duration": 34,
    "start_time": "2024-05-02T19:29:52.427Z"
   },
   {
    "duration": 19,
    "start_time": "2024-05-02T19:29:52.463Z"
   },
   {
    "duration": 31,
    "start_time": "2024-05-02T19:29:52.484Z"
   },
   {
    "duration": 43,
    "start_time": "2024-05-02T19:29:52.518Z"
   },
   {
    "duration": 302,
    "start_time": "2024-05-02T19:29:52.563Z"
   },
   {
    "duration": 15,
    "start_time": "2024-05-02T19:29:52.867Z"
   },
   {
    "duration": 962,
    "start_time": "2024-05-02T19:29:52.884Z"
   },
   {
    "duration": 189,
    "start_time": "2024-05-02T19:29:53.847Z"
   },
   {
    "duration": 195,
    "start_time": "2024-05-02T19:29:54.037Z"
   },
   {
    "duration": 7,
    "start_time": "2024-05-02T19:29:54.233Z"
   },
   {
    "duration": 298,
    "start_time": "2024-05-02T19:29:54.242Z"
   },
   {
    "duration": 4,
    "start_time": "2024-05-02T19:29:54.542Z"
   },
   {
    "duration": 54,
    "start_time": "2024-05-02T19:29:54.547Z"
   },
   {
    "duration": 19,
    "start_time": "2024-05-02T19:29:54.603Z"
   },
   {
    "duration": 4,
    "start_time": "2024-05-02T19:29:54.624Z"
   },
   {
    "duration": 9,
    "start_time": "2024-05-02T19:29:54.630Z"
   },
   {
    "duration": 13582,
    "start_time": "2024-05-02T19:29:54.641Z"
   },
   {
    "duration": 3,
    "start_time": "2024-05-02T19:30:08.225Z"
   },
   {
    "duration": 1045,
    "start_time": "2024-05-02T19:30:08.231Z"
   },
   {
    "duration": 21203,
    "start_time": "2024-05-02T19:30:09.280Z"
   },
   {
    "duration": 111,
    "start_time": "2024-05-02T19:30:30.484Z"
   },
   {
    "duration": 10,
    "start_time": "2024-05-02T19:31:13.570Z"
   },
   {
    "duration": 39,
    "start_time": "2024-05-02T19:31:13.583Z"
   },
   {
    "duration": 119,
    "start_time": "2024-05-02T19:31:13.624Z"
   },
   {
    "duration": 2,
    "start_time": "2024-05-02T19:31:13.745Z"
   },
   {
    "duration": 30,
    "start_time": "2024-05-02T19:31:13.750Z"
   },
   {
    "duration": 19,
    "start_time": "2024-05-02T19:31:13.782Z"
   },
   {
    "duration": 13,
    "start_time": "2024-05-02T19:31:13.803Z"
   },
   {
    "duration": 6,
    "start_time": "2024-05-02T19:31:13.818Z"
   },
   {
    "duration": 14,
    "start_time": "2024-05-02T19:31:13.826Z"
   },
   {
    "duration": 27,
    "start_time": "2024-05-02T19:31:13.842Z"
   },
   {
    "duration": 325,
    "start_time": "2024-05-02T19:31:13.876Z"
   },
   {
    "duration": 7,
    "start_time": "2024-05-02T19:31:14.203Z"
   },
   {
    "duration": 830,
    "start_time": "2024-05-02T19:31:14.212Z"
   },
   {
    "duration": 193,
    "start_time": "2024-05-02T19:31:15.045Z"
   },
   {
    "duration": 216,
    "start_time": "2024-05-02T19:31:15.239Z"
   },
   {
    "duration": 7,
    "start_time": "2024-05-02T19:31:15.457Z"
   },
   {
    "duration": 312,
    "start_time": "2024-05-02T19:31:15.473Z"
   },
   {
    "duration": 4,
    "start_time": "2024-05-02T19:31:15.786Z"
   },
   {
    "duration": 35,
    "start_time": "2024-05-02T19:31:15.792Z"
   },
   {
    "duration": 21,
    "start_time": "2024-05-02T19:31:15.829Z"
   },
   {
    "duration": 14,
    "start_time": "2024-05-02T19:31:15.851Z"
   },
   {
    "duration": 7,
    "start_time": "2024-05-02T19:31:15.866Z"
   },
   {
    "duration": 13895,
    "start_time": "2024-05-02T19:31:15.874Z"
   },
   {
    "duration": 3,
    "start_time": "2024-05-02T19:31:29.771Z"
   },
   {
    "duration": 1099,
    "start_time": "2024-05-02T19:31:29.777Z"
   },
   {
    "duration": 27395,
    "start_time": "2024-05-02T19:31:30.879Z"
   },
   {
    "duration": 15,
    "start_time": "2024-05-02T19:31:58.275Z"
   },
   {
    "duration": 6,
    "start_time": "2024-05-02T19:34:14.593Z"
   },
   {
    "duration": 40,
    "start_time": "2024-05-02T19:34:14.601Z"
   },
   {
    "duration": 83,
    "start_time": "2024-05-02T19:34:14.643Z"
   },
   {
    "duration": 3,
    "start_time": "2024-05-02T19:34:14.728Z"
   },
   {
    "duration": 16,
    "start_time": "2024-05-02T19:34:14.734Z"
   },
   {
    "duration": 22,
    "start_time": "2024-05-02T19:34:14.752Z"
   },
   {
    "duration": 10,
    "start_time": "2024-05-02T19:34:14.776Z"
   },
   {
    "duration": 6,
    "start_time": "2024-05-02T19:34:14.788Z"
   },
   {
    "duration": 14,
    "start_time": "2024-05-02T19:34:14.796Z"
   },
   {
    "duration": 16,
    "start_time": "2024-05-02T19:34:14.811Z"
   },
   {
    "duration": 299,
    "start_time": "2024-05-02T19:34:14.829Z"
   },
   {
    "duration": 6,
    "start_time": "2024-05-02T19:34:15.130Z"
   },
   {
    "duration": 855,
    "start_time": "2024-05-02T19:34:15.138Z"
   },
   {
    "duration": 205,
    "start_time": "2024-05-02T19:34:15.996Z"
   },
   {
    "duration": 194,
    "start_time": "2024-05-02T19:34:16.202Z"
   },
   {
    "duration": 7,
    "start_time": "2024-05-02T19:34:16.398Z"
   },
   {
    "duration": 304,
    "start_time": "2024-05-02T19:34:16.406Z"
   },
   {
    "duration": 4,
    "start_time": "2024-05-02T19:34:16.712Z"
   },
   {
    "duration": 26,
    "start_time": "2024-05-02T19:34:16.718Z"
   },
   {
    "duration": 35,
    "start_time": "2024-05-02T19:34:16.746Z"
   },
   {
    "duration": 3,
    "start_time": "2024-05-02T19:34:16.783Z"
   },
   {
    "duration": 5,
    "start_time": "2024-05-02T19:34:16.788Z"
   },
   {
    "duration": 189650,
    "start_time": "2024-05-02T19:34:16.794Z"
   },
   {
    "duration": 0,
    "start_time": "2024-05-02T19:37:26.447Z"
   },
   {
    "duration": 0,
    "start_time": "2024-05-02T19:37:26.449Z"
   },
   {
    "duration": 0,
    "start_time": "2024-05-02T19:37:26.450Z"
   },
   {
    "duration": 0,
    "start_time": "2024-05-02T19:37:26.451Z"
   },
   {
    "duration": 10,
    "start_time": "2024-05-02T19:37:31.233Z"
   },
   {
    "duration": 34,
    "start_time": "2024-05-02T19:37:31.246Z"
   },
   {
    "duration": 135,
    "start_time": "2024-05-02T19:37:31.282Z"
   },
   {
    "duration": 3,
    "start_time": "2024-05-02T19:37:31.419Z"
   },
   {
    "duration": 75,
    "start_time": "2024-05-02T19:37:31.425Z"
   },
   {
    "duration": 51,
    "start_time": "2024-05-02T19:37:31.502Z"
   },
   {
    "duration": 32,
    "start_time": "2024-05-02T19:37:31.555Z"
   },
   {
    "duration": 23,
    "start_time": "2024-05-02T19:37:31.589Z"
   },
   {
    "duration": 24,
    "start_time": "2024-05-02T19:37:31.614Z"
   },
   {
    "duration": 26,
    "start_time": "2024-05-02T19:37:31.640Z"
   },
   {
    "duration": 286,
    "start_time": "2024-05-02T19:37:31.668Z"
   },
   {
    "duration": 17,
    "start_time": "2024-05-02T19:37:31.956Z"
   },
   {
    "duration": 988,
    "start_time": "2024-05-02T19:37:31.975Z"
   },
   {
    "duration": 172,
    "start_time": "2024-05-02T19:37:32.974Z"
   },
   {
    "duration": 192,
    "start_time": "2024-05-02T19:37:33.148Z"
   },
   {
    "duration": 7,
    "start_time": "2024-05-02T19:37:33.341Z"
   },
   {
    "duration": 309,
    "start_time": "2024-05-02T19:37:33.350Z"
   },
   {
    "duration": 12,
    "start_time": "2024-05-02T19:37:33.661Z"
   },
   {
    "duration": 18,
    "start_time": "2024-05-02T19:37:33.675Z"
   },
   {
    "duration": 19,
    "start_time": "2024-05-02T19:37:33.695Z"
   },
   {
    "duration": 19,
    "start_time": "2024-05-02T19:37:33.715Z"
   },
   {
    "duration": 7,
    "start_time": "2024-05-02T19:37:33.736Z"
   },
   {
    "duration": 17002,
    "start_time": "2024-05-02T19:37:33.745Z"
   },
   {
    "duration": 3,
    "start_time": "2024-05-02T19:37:50.749Z"
   },
   {
    "duration": 1023,
    "start_time": "2024-05-02T19:37:50.753Z"
   },
   {
    "duration": 20302,
    "start_time": "2024-05-02T19:37:51.778Z"
   },
   {
    "duration": 97,
    "start_time": "2024-05-02T19:38:12.082Z"
   },
   {
    "duration": 4080,
    "start_time": "2024-05-02T19:39:24.535Z"
   },
   {
    "duration": 4049,
    "start_time": "2024-05-02T19:39:41.012Z"
   },
   {
    "duration": 27589,
    "start_time": "2024-05-02T19:40:10.848Z"
   },
   {
    "duration": 4448,
    "start_time": "2024-05-02T19:40:55.605Z"
   },
   {
    "duration": 4012,
    "start_time": "2024-05-02T19:41:04.399Z"
   },
   {
    "duration": 4063,
    "start_time": "2024-05-02T19:41:15.165Z"
   },
   {
    "duration": 4260,
    "start_time": "2024-05-02T19:42:07.151Z"
   },
   {
    "duration": 3983,
    "start_time": "2024-05-02T19:42:21.103Z"
   },
   {
    "duration": 3947,
    "start_time": "2024-05-02T19:42:44.884Z"
   },
   {
    "duration": 12,
    "start_time": "2024-05-02T19:44:08.035Z"
   },
   {
    "duration": 814,
    "start_time": "2024-05-02T19:44:19.934Z"
   },
   {
    "duration": 2873,
    "start_time": "2024-05-02T19:44:32.443Z"
   },
   {
    "duration": 5895,
    "start_time": "2024-05-02T19:44:43.253Z"
   },
   {
    "duration": 5788,
    "start_time": "2024-05-02T19:44:56.352Z"
   },
   {
    "duration": 14,
    "start_time": "2024-05-02T19:46:45.365Z"
   },
   {
    "duration": 53,
    "start_time": "2024-05-02T19:47:01.347Z"
   },
   {
    "duration": 5010,
    "start_time": "2024-05-02T19:47:18.669Z"
   },
   {
    "duration": 10,
    "start_time": "2024-05-02T19:49:46.021Z"
   },
   {
    "duration": 12,
    "start_time": "2024-05-02T19:49:46.033Z"
   },
   {
    "duration": 92,
    "start_time": "2024-05-02T19:49:46.047Z"
   },
   {
    "duration": 4,
    "start_time": "2024-05-02T19:49:46.141Z"
   },
   {
    "duration": 13,
    "start_time": "2024-05-02T19:49:46.148Z"
   },
   {
    "duration": 16,
    "start_time": "2024-05-02T19:49:46.163Z"
   },
   {
    "duration": 12,
    "start_time": "2024-05-02T19:49:46.181Z"
   },
   {
    "duration": 6,
    "start_time": "2024-05-02T19:49:46.194Z"
   },
   {
    "duration": 9,
    "start_time": "2024-05-02T19:49:46.202Z"
   },
   {
    "duration": 13,
    "start_time": "2024-05-02T19:49:46.212Z"
   },
   {
    "duration": 316,
    "start_time": "2024-05-02T19:49:46.226Z"
   },
   {
    "duration": 8,
    "start_time": "2024-05-02T19:49:46.544Z"
   },
   {
    "duration": 848,
    "start_time": "2024-05-02T19:49:46.553Z"
   },
   {
    "duration": 203,
    "start_time": "2024-05-02T19:49:47.404Z"
   },
   {
    "duration": 206,
    "start_time": "2024-05-02T19:49:47.609Z"
   },
   {
    "duration": 7,
    "start_time": "2024-05-02T19:49:47.817Z"
   },
   {
    "duration": 299,
    "start_time": "2024-05-02T19:49:47.825Z"
   },
   {
    "duration": 5,
    "start_time": "2024-05-02T19:49:48.126Z"
   },
   {
    "duration": 18,
    "start_time": "2024-05-02T19:49:48.132Z"
   },
   {
    "duration": 16,
    "start_time": "2024-05-02T19:49:48.172Z"
   },
   {
    "duration": 6,
    "start_time": "2024-05-02T19:49:48.189Z"
   },
   {
    "duration": 3,
    "start_time": "2024-05-02T19:49:48.196Z"
   },
   {
    "duration": 11191,
    "start_time": "2024-05-02T19:49:48.201Z"
   },
   {
    "duration": 3,
    "start_time": "2024-05-02T19:49:59.394Z"
   },
   {
    "duration": 120,
    "start_time": "2024-05-02T19:49:59.399Z"
   },
   {
    "duration": 20801,
    "start_time": "2024-05-02T19:49:59.573Z"
   },
   {
    "duration": 16,
    "start_time": "2024-05-02T19:50:20.376Z"
   },
   {
    "duration": 74,
    "start_time": "2024-05-02T19:50:20.393Z"
   },
   {
    "duration": 0,
    "start_time": "2024-05-02T19:50:20.468Z"
   },
   {
    "duration": 0,
    "start_time": "2024-05-02T19:50:20.469Z"
   },
   {
    "duration": 735,
    "start_time": "2024-05-02T19:50:57.453Z"
   },
   {
    "duration": 2760,
    "start_time": "2024-05-02T19:51:02.354Z"
   },
   {
    "duration": 6,
    "start_time": "2024-05-02T19:53:58.693Z"
   },
   {
    "duration": 23,
    "start_time": "2024-05-02T19:53:58.701Z"
   },
   {
    "duration": 90,
    "start_time": "2024-05-02T19:53:58.726Z"
   },
   {
    "duration": 3,
    "start_time": "2024-05-02T19:53:58.818Z"
   },
   {
    "duration": 19,
    "start_time": "2024-05-02T19:53:58.823Z"
   },
   {
    "duration": 20,
    "start_time": "2024-05-02T19:53:58.843Z"
   },
   {
    "duration": 11,
    "start_time": "2024-05-02T19:53:58.865Z"
   },
   {
    "duration": 10,
    "start_time": "2024-05-02T19:53:58.879Z"
   },
   {
    "duration": 12,
    "start_time": "2024-05-02T19:53:58.891Z"
   },
   {
    "duration": 16,
    "start_time": "2024-05-02T19:53:58.904Z"
   },
   {
    "duration": 451,
    "start_time": "2024-05-02T19:53:58.922Z"
   },
   {
    "duration": 7,
    "start_time": "2024-05-02T19:53:59.375Z"
   },
   {
    "duration": 834,
    "start_time": "2024-05-02T19:53:59.384Z"
   },
   {
    "duration": 191,
    "start_time": "2024-05-02T19:54:00.221Z"
   },
   {
    "duration": 202,
    "start_time": "2024-05-02T19:54:00.414Z"
   },
   {
    "duration": 7,
    "start_time": "2024-05-02T19:54:00.618Z"
   },
   {
    "duration": 356,
    "start_time": "2024-05-02T19:54:00.626Z"
   },
   {
    "duration": 6,
    "start_time": "2024-05-02T19:54:00.984Z"
   },
   {
    "duration": 63,
    "start_time": "2024-05-02T19:54:00.991Z"
   },
   {
    "duration": 49,
    "start_time": "2024-05-02T19:54:01.055Z"
   },
   {
    "duration": 148,
    "start_time": "2024-05-02T19:54:01.105Z"
   },
   {
    "duration": 50,
    "start_time": "2024-05-02T19:54:01.254Z"
   },
   {
    "duration": 8177,
    "start_time": "2024-05-02T19:54:01.305Z"
   },
   {
    "duration": 2,
    "start_time": "2024-05-02T19:54:09.484Z"
   },
   {
    "duration": 588,
    "start_time": "2024-05-02T19:54:09.488Z"
   },
   {
    "duration": 13300,
    "start_time": "2024-05-02T19:54:10.079Z"
   },
   {
    "duration": 12,
    "start_time": "2024-05-02T19:54:23.381Z"
   },
   {
    "duration": 1281,
    "start_time": "2024-05-02T19:54:23.394Z"
   },
   {
    "duration": 2865,
    "start_time": "2024-05-02T19:54:24.677Z"
   },
   {
    "duration": 10,
    "start_time": "2024-05-02T19:55:51.111Z"
   },
   {
    "duration": 4,
    "start_time": "2024-05-02T19:55:51.123Z"
   },
   {
    "duration": 80,
    "start_time": "2024-05-02T19:55:51.129Z"
   },
   {
    "duration": 4,
    "start_time": "2024-05-02T19:55:51.211Z"
   },
   {
    "duration": 19,
    "start_time": "2024-05-02T19:55:51.217Z"
   },
   {
    "duration": 28,
    "start_time": "2024-05-02T19:55:51.238Z"
   },
   {
    "duration": 9,
    "start_time": "2024-05-02T19:55:51.267Z"
   },
   {
    "duration": 7,
    "start_time": "2024-05-02T19:55:51.278Z"
   },
   {
    "duration": 4,
    "start_time": "2024-05-02T19:55:51.287Z"
   },
   {
    "duration": 20,
    "start_time": "2024-05-02T19:55:51.295Z"
   },
   {
    "duration": 286,
    "start_time": "2024-05-02T19:55:51.317Z"
   },
   {
    "duration": 8,
    "start_time": "2024-05-02T19:55:51.605Z"
   },
   {
    "duration": 996,
    "start_time": "2024-05-02T19:55:51.615Z"
   },
   {
    "duration": 193,
    "start_time": "2024-05-02T19:55:52.613Z"
   },
   {
    "duration": 201,
    "start_time": "2024-05-02T19:55:52.807Z"
   },
   {
    "duration": 7,
    "start_time": "2024-05-02T19:55:53.010Z"
   },
   {
    "duration": 291,
    "start_time": "2024-05-02T19:55:53.018Z"
   },
   {
    "duration": 4,
    "start_time": "2024-05-02T19:55:53.311Z"
   },
   {
    "duration": 24,
    "start_time": "2024-05-02T19:55:53.316Z"
   },
   {
    "duration": 32,
    "start_time": "2024-05-02T19:55:53.342Z"
   },
   {
    "duration": 4,
    "start_time": "2024-05-02T19:55:53.376Z"
   },
   {
    "duration": 4,
    "start_time": "2024-05-02T19:55:53.382Z"
   },
   {
    "duration": 17275,
    "start_time": "2024-05-02T19:55:53.388Z"
   },
   {
    "duration": 3,
    "start_time": "2024-05-02T19:56:10.665Z"
   },
   {
    "duration": 226,
    "start_time": "2024-05-02T19:56:10.669Z"
   },
   {
    "duration": 34585,
    "start_time": "2024-05-02T19:56:10.896Z"
   },
   {
    "duration": 97,
    "start_time": "2024-05-02T19:56:45.482Z"
   },
   {
    "duration": 802,
    "start_time": "2024-05-02T19:56:45.582Z"
   },
   {
    "duration": 2852,
    "start_time": "2024-05-02T19:56:46.385Z"
   },
   {
    "duration": 7,
    "start_time": "2024-05-02T19:58:27.917Z"
   },
   {
    "duration": 10,
    "start_time": "2024-05-02T19:58:27.926Z"
   },
   {
    "duration": 85,
    "start_time": "2024-05-02T19:58:27.938Z"
   },
   {
    "duration": 3,
    "start_time": "2024-05-02T19:58:28.025Z"
   },
   {
    "duration": 10,
    "start_time": "2024-05-02T19:58:28.030Z"
   },
   {
    "duration": 17,
    "start_time": "2024-05-02T19:58:28.041Z"
   },
   {
    "duration": 9,
    "start_time": "2024-05-02T19:58:28.060Z"
   },
   {
    "duration": 6,
    "start_time": "2024-05-02T19:58:28.070Z"
   },
   {
    "duration": 6,
    "start_time": "2024-05-02T19:58:28.077Z"
   },
   {
    "duration": 20,
    "start_time": "2024-05-02T19:58:28.085Z"
   },
   {
    "duration": 288,
    "start_time": "2024-05-02T19:58:28.106Z"
   },
   {
    "duration": 7,
    "start_time": "2024-05-02T19:58:28.395Z"
   },
   {
    "duration": 863,
    "start_time": "2024-05-02T19:58:28.404Z"
   },
   {
    "duration": 180,
    "start_time": "2024-05-02T19:58:29.270Z"
   },
   {
    "duration": 192,
    "start_time": "2024-05-02T19:58:29.452Z"
   },
   {
    "duration": 6,
    "start_time": "2024-05-02T19:58:29.646Z"
   },
   {
    "duration": 295,
    "start_time": "2024-05-02T19:58:29.653Z"
   },
   {
    "duration": 5,
    "start_time": "2024-05-02T19:58:29.949Z"
   },
   {
    "duration": 31,
    "start_time": "2024-05-02T19:58:29.955Z"
   },
   {
    "duration": 15,
    "start_time": "2024-05-02T19:58:29.988Z"
   },
   {
    "duration": 5,
    "start_time": "2024-05-02T19:58:30.005Z"
   },
   {
    "duration": 67,
    "start_time": "2024-05-02T19:58:30.012Z"
   },
   {
    "duration": 19088,
    "start_time": "2024-05-02T19:58:30.081Z"
   },
   {
    "duration": 4,
    "start_time": "2024-05-02T19:58:49.170Z"
   },
   {
    "duration": 230,
    "start_time": "2024-05-02T19:58:49.175Z"
   },
   {
    "duration": 30574,
    "start_time": "2024-05-02T19:58:49.406Z"
   },
   {
    "duration": 92,
    "start_time": "2024-05-02T19:59:19.982Z"
   },
   {
    "duration": 704,
    "start_time": "2024-05-02T19:59:20.076Z"
   },
   {
    "duration": 2864,
    "start_time": "2024-05-02T19:59:20.782Z"
   },
   {
    "duration": 7,
    "start_time": "2024-05-02T20:00:33.776Z"
   },
   {
    "duration": 8,
    "start_time": "2024-05-02T20:00:33.785Z"
   },
   {
    "duration": 91,
    "start_time": "2024-05-02T20:00:33.795Z"
   },
   {
    "duration": 3,
    "start_time": "2024-05-02T20:00:33.888Z"
   },
   {
    "duration": 33,
    "start_time": "2024-05-02T20:00:33.894Z"
   },
   {
    "duration": 39,
    "start_time": "2024-05-02T20:00:33.929Z"
   },
   {
    "duration": 35,
    "start_time": "2024-05-02T20:00:33.970Z"
   },
   {
    "duration": 34,
    "start_time": "2024-05-02T20:00:34.006Z"
   },
   {
    "duration": 11,
    "start_time": "2024-05-02T20:00:34.042Z"
   },
   {
    "duration": 34,
    "start_time": "2024-05-02T20:00:34.055Z"
   },
   {
    "duration": 294,
    "start_time": "2024-05-02T20:00:34.091Z"
   },
   {
    "duration": 7,
    "start_time": "2024-05-02T20:00:34.387Z"
   },
   {
    "duration": 982,
    "start_time": "2024-05-02T20:00:34.396Z"
   },
   {
    "duration": 181,
    "start_time": "2024-05-02T20:00:35.381Z"
   },
   {
    "duration": 200,
    "start_time": "2024-05-02T20:00:35.563Z"
   },
   {
    "duration": 7,
    "start_time": "2024-05-02T20:00:35.772Z"
   },
   {
    "duration": 303,
    "start_time": "2024-05-02T20:00:35.781Z"
   },
   {
    "duration": 4,
    "start_time": "2024-05-02T20:00:36.086Z"
   },
   {
    "duration": 54,
    "start_time": "2024-05-02T20:00:36.092Z"
   },
   {
    "duration": 54,
    "start_time": "2024-05-02T20:00:36.149Z"
   },
   {
    "duration": 24,
    "start_time": "2024-05-02T20:00:36.205Z"
   },
   {
    "duration": 18,
    "start_time": "2024-05-02T20:00:36.231Z"
   },
   {
    "duration": 20680,
    "start_time": "2024-05-02T20:00:36.250Z"
   },
   {
    "duration": 3,
    "start_time": "2024-05-02T20:00:56.932Z"
   },
   {
    "duration": 239,
    "start_time": "2024-05-02T20:00:56.937Z"
   },
   {
    "duration": 42196,
    "start_time": "2024-05-02T20:00:57.178Z"
   },
   {
    "duration": 12,
    "start_time": "2024-05-02T20:01:39.375Z"
   },
   {
    "duration": 1390,
    "start_time": "2024-05-02T20:01:39.389Z"
   },
   {
    "duration": 2925,
    "start_time": "2024-05-02T20:01:40.780Z"
   },
   {
    "duration": 12,
    "start_time": "2024-05-02T20:03:03.941Z"
   },
   {
    "duration": 26,
    "start_time": "2024-05-02T20:03:03.956Z"
   },
   {
    "duration": 112,
    "start_time": "2024-05-02T20:03:03.986Z"
   },
   {
    "duration": 3,
    "start_time": "2024-05-02T20:03:04.100Z"
   },
   {
    "duration": 11,
    "start_time": "2024-05-02T20:03:04.106Z"
   },
   {
    "duration": 23,
    "start_time": "2024-05-02T20:03:04.119Z"
   },
   {
    "duration": 24,
    "start_time": "2024-05-02T20:03:04.144Z"
   },
   {
    "duration": 22,
    "start_time": "2024-05-02T20:03:04.170Z"
   },
   {
    "duration": 8,
    "start_time": "2024-05-02T20:03:04.194Z"
   },
   {
    "duration": 27,
    "start_time": "2024-05-02T20:03:04.205Z"
   },
   {
    "duration": 311,
    "start_time": "2024-05-02T20:03:04.234Z"
   },
   {
    "duration": 8,
    "start_time": "2024-05-02T20:03:04.547Z"
   },
   {
    "duration": 845,
    "start_time": "2024-05-02T20:03:04.556Z"
   },
   {
    "duration": 254,
    "start_time": "2024-05-02T20:03:05.404Z"
   },
   {
    "duration": 204,
    "start_time": "2024-05-02T20:03:05.660Z"
   },
   {
    "duration": 12,
    "start_time": "2024-05-02T20:03:05.865Z"
   },
   {
    "duration": 373,
    "start_time": "2024-05-02T20:03:05.879Z"
   },
   {
    "duration": 4,
    "start_time": "2024-05-02T20:03:06.254Z"
   },
   {
    "duration": 56,
    "start_time": "2024-05-02T20:03:06.259Z"
   },
   {
    "duration": 15,
    "start_time": "2024-05-02T20:03:06.317Z"
   },
   {
    "duration": 24,
    "start_time": "2024-05-02T20:03:06.334Z"
   },
   {
    "duration": 11,
    "start_time": "2024-05-02T20:03:06.360Z"
   },
   {
    "duration": 21112,
    "start_time": "2024-05-02T20:03:06.373Z"
   },
   {
    "duration": 3,
    "start_time": "2024-05-02T20:03:27.487Z"
   },
   {
    "duration": 285,
    "start_time": "2024-05-02T20:03:27.491Z"
   },
   {
    "duration": 32905,
    "start_time": "2024-05-02T20:03:27.778Z"
   },
   {
    "duration": 93,
    "start_time": "2024-05-02T20:04:00.684Z"
   },
   {
    "duration": 1294,
    "start_time": "2024-05-02T20:04:00.779Z"
   },
   {
    "duration": 2810,
    "start_time": "2024-05-02T20:04:02.075Z"
   },
   {
    "duration": 7,
    "start_time": "2024-05-02T20:05:09.069Z"
   },
   {
    "duration": 20,
    "start_time": "2024-05-02T20:05:09.078Z"
   },
   {
    "duration": 91,
    "start_time": "2024-05-02T20:05:09.100Z"
   },
   {
    "duration": 3,
    "start_time": "2024-05-02T20:05:09.192Z"
   },
   {
    "duration": 21,
    "start_time": "2024-05-02T20:05:09.197Z"
   },
   {
    "duration": 25,
    "start_time": "2024-05-02T20:05:09.220Z"
   },
   {
    "duration": 13,
    "start_time": "2024-05-02T20:05:09.247Z"
   },
   {
    "duration": 9,
    "start_time": "2024-05-02T20:05:09.262Z"
   },
   {
    "duration": 6,
    "start_time": "2024-05-02T20:05:09.273Z"
   },
   {
    "duration": 16,
    "start_time": "2024-05-02T20:05:09.280Z"
   },
   {
    "duration": 296,
    "start_time": "2024-05-02T20:05:09.298Z"
   },
   {
    "duration": 7,
    "start_time": "2024-05-02T20:05:09.596Z"
   },
   {
    "duration": 838,
    "start_time": "2024-05-02T20:05:09.604Z"
   },
   {
    "duration": 181,
    "start_time": "2024-05-02T20:05:10.446Z"
   },
   {
    "duration": 199,
    "start_time": "2024-05-02T20:05:10.628Z"
   },
   {
    "duration": 7,
    "start_time": "2024-05-02T20:05:10.829Z"
   },
   {
    "duration": 298,
    "start_time": "2024-05-02T20:05:10.838Z"
   },
   {
    "duration": 4,
    "start_time": "2024-05-02T20:05:11.138Z"
   },
   {
    "duration": 44,
    "start_time": "2024-05-02T20:05:11.143Z"
   },
   {
    "duration": 3,
    "start_time": "2024-05-02T20:05:11.189Z"
   },
   {
    "duration": 7,
    "start_time": "2024-05-02T20:05:11.194Z"
   },
   {
    "duration": 51050,
    "start_time": "2024-05-02T20:05:11.202Z"
   },
   {
    "duration": 3,
    "start_time": "2024-05-02T20:06:02.254Z"
   },
   {
    "duration": 2115,
    "start_time": "2024-05-02T20:06:02.258Z"
   },
   {
    "duration": 43001,
    "start_time": "2024-05-02T20:06:04.376Z"
   },
   {
    "duration": 196,
    "start_time": "2024-05-02T20:06:47.378Z"
   },
   {
    "duration": 1802,
    "start_time": "2024-05-02T20:06:47.576Z"
   },
   {
    "duration": 7406,
    "start_time": "2024-05-02T20:06:49.380Z"
   },
   {
    "duration": 8,
    "start_time": "2024-05-02T20:10:48.173Z"
   },
   {
    "duration": 7,
    "start_time": "2024-05-02T20:13:35.918Z"
   },
   {
    "duration": 16,
    "start_time": "2024-05-02T20:16:33.461Z"
   },
   {
    "duration": 7,
    "start_time": "2024-05-02T20:16:53.496Z"
   },
   {
    "duration": 1611,
    "start_time": "2024-05-02T20:17:17.626Z"
   },
   {
    "duration": 12,
    "start_time": "2024-05-02T20:17:41.178Z"
   },
   {
    "duration": 188,
    "start_time": "2024-05-02T20:18:00.835Z"
   },
   {
    "duration": 180,
    "start_time": "2024-05-02T20:18:09.760Z"
   },
   {
    "duration": 267,
    "start_time": "2024-05-02T20:18:36.273Z"
   },
   {
    "duration": 386,
    "start_time": "2024-05-02T20:19:13.502Z"
   },
   {
    "duration": 259,
    "start_time": "2024-05-02T20:19:25.681Z"
   },
   {
    "duration": 312,
    "start_time": "2024-05-02T20:19:55.674Z"
   },
   {
    "duration": 321,
    "start_time": "2024-05-02T20:20:18.619Z"
   },
   {
    "duration": 533,
    "start_time": "2024-05-02T20:20:26.062Z"
   },
   {
    "duration": 349,
    "start_time": "2024-05-02T20:21:27.247Z"
   },
   {
    "duration": 365,
    "start_time": "2024-05-02T20:21:30.897Z"
   },
   {
    "duration": 7,
    "start_time": "2024-05-02T20:23:09.765Z"
   },
   {
    "duration": 31,
    "start_time": "2024-05-02T20:23:09.774Z"
   },
   {
    "duration": 93,
    "start_time": "2024-05-02T20:23:09.807Z"
   },
   {
    "duration": 3,
    "start_time": "2024-05-02T20:23:09.903Z"
   },
   {
    "duration": 15,
    "start_time": "2024-05-02T20:23:09.908Z"
   },
   {
    "duration": 23,
    "start_time": "2024-05-02T20:23:09.925Z"
   },
   {
    "duration": 23,
    "start_time": "2024-05-02T20:23:09.950Z"
   },
   {
    "duration": 6,
    "start_time": "2024-05-02T20:23:09.974Z"
   },
   {
    "duration": 13,
    "start_time": "2024-05-02T20:23:09.993Z"
   },
   {
    "duration": 40,
    "start_time": "2024-05-02T20:23:10.011Z"
   },
   {
    "duration": 395,
    "start_time": "2024-05-02T20:23:10.053Z"
   },
   {
    "duration": 8,
    "start_time": "2024-05-02T20:23:10.449Z"
   },
   {
    "duration": 1132,
    "start_time": "2024-05-02T20:23:10.458Z"
   },
   {
    "duration": 227,
    "start_time": "2024-05-02T20:23:11.592Z"
   },
   {
    "duration": 247,
    "start_time": "2024-05-02T20:23:11.822Z"
   },
   {
    "duration": 7,
    "start_time": "2024-05-02T20:23:12.074Z"
   },
   {
    "duration": 410,
    "start_time": "2024-05-02T20:23:12.084Z"
   },
   {
    "duration": 6,
    "start_time": "2024-05-02T20:23:12.496Z"
   },
   {
    "duration": 49,
    "start_time": "2024-05-02T20:23:12.504Z"
   },
   {
    "duration": 3,
    "start_time": "2024-05-02T20:23:12.555Z"
   },
   {
    "duration": 7,
    "start_time": "2024-05-02T20:23:12.560Z"
   },
   {
    "duration": 51896,
    "start_time": "2024-05-02T20:23:12.568Z"
   },
   {
    "duration": 3,
    "start_time": "2024-05-02T20:24:04.466Z"
   },
   {
    "duration": 2206,
    "start_time": "2024-05-02T20:24:04.470Z"
   },
   {
    "duration": 25999,
    "start_time": "2024-05-02T20:24:06.678Z"
   },
   {
    "duration": 0,
    "start_time": "2024-05-02T20:24:32.679Z"
   },
   {
    "duration": 0,
    "start_time": "2024-05-02T20:24:32.680Z"
   },
   {
    "duration": 1555,
    "start_time": "2024-05-02T20:24:40.207Z"
   },
   {
    "duration": 3,
    "start_time": "2024-05-02T20:24:41.764Z"
   },
   {
    "duration": 87,
    "start_time": "2024-05-02T20:24:41.768Z"
   },
   {
    "duration": 3,
    "start_time": "2024-05-02T20:24:41.857Z"
   },
   {
    "duration": 12,
    "start_time": "2024-05-02T20:24:41.861Z"
   },
   {
    "duration": 14,
    "start_time": "2024-05-02T20:24:41.875Z"
   },
   {
    "duration": 9,
    "start_time": "2024-05-02T20:24:41.891Z"
   },
   {
    "duration": 6,
    "start_time": "2024-05-02T20:24:41.902Z"
   },
   {
    "duration": 10,
    "start_time": "2024-05-02T20:24:41.909Z"
   },
   {
    "duration": 15,
    "start_time": "2024-05-02T20:24:41.922Z"
   },
   {
    "duration": 454,
    "start_time": "2024-05-02T20:24:41.938Z"
   },
   {
    "duration": 7,
    "start_time": "2024-05-02T20:24:42.419Z"
   },
   {
    "duration": 1186,
    "start_time": "2024-05-02T20:24:42.428Z"
   },
   {
    "duration": 214,
    "start_time": "2024-05-02T20:24:43.616Z"
   },
   {
    "duration": 232,
    "start_time": "2024-05-02T20:24:43.832Z"
   },
   {
    "duration": 13,
    "start_time": "2024-05-02T20:24:44.065Z"
   },
   {
    "duration": 406,
    "start_time": "2024-05-02T20:24:44.080Z"
   },
   {
    "duration": 5,
    "start_time": "2024-05-02T20:24:44.488Z"
   },
   {
    "duration": 47,
    "start_time": "2024-05-02T20:24:44.495Z"
   },
   {
    "duration": 4,
    "start_time": "2024-05-02T20:24:44.544Z"
   },
   {
    "duration": 5,
    "start_time": "2024-05-02T20:24:44.550Z"
   },
   {
    "duration": 51270,
    "start_time": "2024-05-02T20:24:44.556Z"
   },
   {
    "duration": 3,
    "start_time": "2024-05-02T20:25:35.827Z"
   },
   {
    "duration": 1550,
    "start_time": "2024-05-02T20:25:35.832Z"
   },
   {
    "duration": 8333,
    "start_time": "2024-05-03T12:30:29.022Z"
   },
   {
    "duration": 3,
    "start_time": "2024-05-03T12:30:37.357Z"
   },
   {
    "duration": 385,
    "start_time": "2024-05-03T12:30:37.362Z"
   },
   {
    "duration": 3,
    "start_time": "2024-05-03T12:30:37.749Z"
   },
   {
    "duration": 16,
    "start_time": "2024-05-03T12:30:37.754Z"
   },
   {
    "duration": 27,
    "start_time": "2024-05-03T12:30:37.772Z"
   },
   {
    "duration": 25,
    "start_time": "2024-05-03T12:30:37.801Z"
   },
   {
    "duration": 10,
    "start_time": "2024-05-03T12:30:37.828Z"
   },
   {
    "duration": 6,
    "start_time": "2024-05-03T12:30:37.840Z"
   },
   {
    "duration": 27,
    "start_time": "2024-05-03T12:30:37.850Z"
   },
   {
    "duration": 494,
    "start_time": "2024-05-03T12:30:37.879Z"
   },
   {
    "duration": 10,
    "start_time": "2024-05-03T12:30:38.379Z"
   },
   {
    "duration": 1177,
    "start_time": "2024-05-03T12:30:38.391Z"
   },
   {
    "duration": 226,
    "start_time": "2024-05-03T12:30:39.573Z"
   },
   {
    "duration": 234,
    "start_time": "2024-05-03T12:30:39.800Z"
   },
   {
    "duration": 7,
    "start_time": "2024-05-03T12:30:40.036Z"
   },
   {
    "duration": 401,
    "start_time": "2024-05-03T12:30:40.045Z"
   },
   {
    "duration": 4,
    "start_time": "2024-05-03T12:30:40.448Z"
   },
   {
    "duration": 44,
    "start_time": "2024-05-03T12:30:40.454Z"
   },
   {
    "duration": 3,
    "start_time": "2024-05-03T12:30:40.500Z"
   },
   {
    "duration": 5,
    "start_time": "2024-05-03T12:30:40.505Z"
   },
   {
    "duration": 52627,
    "start_time": "2024-05-03T12:30:40.512Z"
   },
   {
    "duration": 3,
    "start_time": "2024-05-03T12:31:33.141Z"
   },
   {
    "duration": 2345,
    "start_time": "2024-05-03T12:31:33.145Z"
   },
   {
    "duration": 52109,
    "start_time": "2024-05-03T12:31:35.580Z"
   },
   {
    "duration": 8,
    "start_time": "2024-05-03T12:32:27.691Z"
   },
   {
    "duration": 359,
    "start_time": "2024-05-03T12:32:27.781Z"
   }
  ],
  "kernelspec": {
   "display_name": "Python 3 (ipykernel)",
   "language": "python",
   "name": "python3"
  },
  "language_info": {
   "codemirror_mode": {
    "name": "ipython",
    "version": 3
   },
   "file_extension": ".py",
   "mimetype": "text/x-python",
   "name": "python",
   "nbconvert_exporter": "python",
   "pygments_lexer": "ipython3",
   "version": "3.9.5"
  },
  "toc": {
   "base_numbering": 1,
   "nav_menu": {},
   "number_sections": true,
   "sideBar": true,
   "skip_h1_title": true,
   "title_cell": "Содержание",
   "title_sidebar": "Contents",
   "toc_cell": true,
   "toc_position": {},
   "toc_section_display": true,
   "toc_window_display": true
  }
 },
 "nbformat": 4,
 "nbformat_minor": 4
}
