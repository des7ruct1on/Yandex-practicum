{
 "cells": [
  {
   "cell_type": "markdown",
   "id": "38a5c53f",
   "metadata": {},
   "source": [
    "<div class=\"alert alert-success\">\n",
    "<font size=\"5\", color= \"seagreen\"><b>✔️ Комментарий ревьюера в4</b></font>\n",
    "    <br /> \n",
    "    <font size=\"3\", color = \"black\">\n",
    "<br />  Привет, Иван :) \n",
    "        \n",
    "Спасибо за все исправления и комментарий\n",
    "        \n",
    "Основные навыки, тестируемые на проекте:\n",
    "        \n",
    " + внимательное чтение технического задания проекта \n",
    " + объединение разных таблиц в единый датасет, — на рабочих проектах стоит уделить особое внимание на способы объединения (left или inner, можно кого-нить забыть, значение параметра how по умолчанию), на пропуски и возможные дубликаты\n",
    " + формирование, чтение и сравнение показателей на графике двух выборок, \n",
    " + формирование выводов о данных по статистическим показателям,\n",
    " + <b>формулирование и проверку односторонних и двусторонних гипотез, интерпретацию значения p-value - можно повторить недели через две </b>(для профилактики 🤝) )\n",
    " + формирование рекомендаций для бизнеса \n",
    "        \n",
    "        \n",
    "<b>Поздравляю со сданным проектом на факультете дата-аналитики Я.Практикум</b>\n",
    "\n",
    "<div class=\"alert alert-success\">\n",
    "    <font size=\"5\", color= \"seagreen\"><b>Успехов в дальнейшей учебе 🤝</b></font><br />\n",
    "    \n",
    "\n",
    "    \n",
    "добавил бонус    \n",
    "    \n",
    "и одну ссылку [Функции в Python](https://www.codecamp.ru/blog/python-functions/?ysclid=loyw96tz7822158015)      "
   ]
  },
  {
   "cell_type": "markdown",
   "id": "fba9e14c",
   "metadata": {},
   "source": [
    "<div class=\"alert alert-success\">\n",
    "<font size=\"5\", color= \"seagreen\"><b>✔️ Комментарий ревьюера в3</b></font>\n",
    "    <br /> \n",
    "    <font size=\"3\", color = \"black\">\n",
    "<br />  Привет, Иван :) Спасибо за доработки 🤝\n",
    "        \n",
    "Критические ❌ комментарии: \n",
    "  \n",
    " + в разделе проверки гипотез, в третьем стат тесте поменять выборки\n",
    " \n",
    "новые подсказки добавил        "
   ]
  },
  {
   "cell_type": "markdown",
   "id": "5d648e2d",
   "metadata": {},
   "source": [
    "<div class=\"alert alert-success\">\n",
    "<font size=\"5\", color= \"seagreen\"><b>✔️ Комментарий ревьюера в2</b></font>\n",
    "    <br /> \n",
    "    <font size=\"3\", color = \"black\">\n",
    "<br />  Привет, Иван :) Спасибо за доработки 🤝\n",
    "        \n",
    "Критические ❌ комментарии: \n",
    " \n",
    " + проверить наличие пропусков во всех новых таблицах\n",
    " + в разделе проверки гипотез, в третьем стат тесте поменять выборки, поправить выводы\n",
    " + исправить итоговый вывод\n",
    " \n",
    "подсказки добавил        "
   ]
  },
  {
   "cell_type": "markdown",
   "id": "4e7732d9",
   "metadata": {},
   "source": [
    "<div class=\"alert alert-success\">\n",
    "<font size=\"4\"><b>Комментарий ревьюера</b></font>\n",
    "    <br /> \n",
    "    <font size=\"3\", color = \"black\">\n",
    "<br />\n",
    "    Привет, Иван :) Спасибо, что прислал задание 🤝 Меня зовут Ринат Хисамов и я буду проверять твой проект. Предлагаю обращаться друг к другу на ты. Так нам будет гораздо проще и удобней общаться\n",
    "\n",
    "Мои комментарии обозначены пометкой <b>Комментарий ревьюера</b>. Далее в файле сможешь найти их в похожих ячейках (если фон комментария зелёный — всё сделано правильно (✔️), рекомендации таким же цветом. Отдельным цветом — блок ссылок (примеры ниже, 🍕). Оранжевым или светло желтым рекомендации, которые, хоть и не обязательны, но точно сделают ревью лучше. (⚠️); <u> красный комментарий</u>: код, график или вывод стоит переделать (❌)). \n",
    "\n",
    "Не удаляй все эти комментарии и постарайся учесть их в ходе выполнения данного проекта. \n",
    "Будет замечательно, если добавишь свои комментарии и пояснения✍\n",
    "        \n",
    "Поехали 🚀\n",
    "    <br />\n",
    "    </font>\n",
    "\n",
    "</div>"
   ]
  },
  {
   "cell_type": "markdown",
   "id": "2c9e2164",
   "metadata": {},
   "source": [
    "<div style=\"border:solid steelblue 1px; padding: 20px\">\n",
    "    \n",
    "<font size=\"4\"><p style=\"text-align:center\"><b>Примеры комментариев </b></p></font>\n",
    "    \n",
    "<div style=\"border:solid steelblue 3px; padding: 20px\">\n",
    "<font size=\"4\"><b>🍕 Пример комментария - совета, здесь м.б. просто ссылка</b></font>\n",
    "    <br /> \n",
    "        <font size=\"3\", color = \"black\">\n",
    "<br />\n",
    "    Тут всего такого разного и вкусного :), есть способы прокачать проект визуализациями (ценит большинство \"боссов\")  <br /><br />\n",
    "        <a href=\"https://devpractice.ru/matplotlib-book/\">“Библиотека Matplotlib” доступна для скачивания БЕСПЛАТНО!</a>\n",
    "        На сайте много полезных материалов, мне самому очень помогло в свое время, до сих пор подсматриваю :)\n",
    "\n",
    "\n",
    "</div>\n",
    "    \n",
    "<div class=\"alert alert-warning\", style=\"border:solid coral 3px; padding: 20px\">\n",
    "    <font size=\"3\"><b>⚠️ Пример оформления некритичного комментария</b>\n",
    "    <br /> \n",
    "    <font size=\"2\", color = \"black\">\n",
    "<br />\n",
    "    Рекомендации, которые, хоть и не обязательны, но точно сделают ревью лучше\n",
    "    <br />\n",
    "    </font>\n",
    "\n",
    "</div>\n",
    "    \n",
    "<div class=\"alert alert-danger\">\n",
    "<font size=\"3\"><b>❌ Пример оформления комментария к блоку(строке) программного кода (или выводу), который стоит переделать</b></font>\n",
    "    <br /> \n",
    "    <font size=\"2\", color = \"black\">\n",
    "<br />\n",
    "    Отправлен не тот проект, напиши в своих комментариях, что случилось? жду — <b>это пример</b>\n",
    "    <br />\n",
    "    </font>\n",
    "\n",
    "</div>\n",
    "    \n",
    "<div class=\"alert alert-success\">\n",
    "<font size=\"4\"><b>✔️ Пример оформления комментария, который нравится большинству студентов</b></font>\n",
    "    <br /> \n",
    "    <font size=\"3\", color = \"black\">\n",
    "<br />\n",
    "    Круто, молодец, отлично, логично, или — 👌, 👍, или — выводы отвечают на все вопросы к данным и проекту\n",
    "    <br />\n",
    "    </font>\n",
    "\n",
    "</div>"
   ]
  },
  {
   "cell_type": "markdown",
   "id": "96e42e1b",
   "metadata": {},
   "source": [
    "# Для твоих вопросов или комментариев оставлю такую ячейку, чтобы было удобнее взаимодействовать на проекте"
   ]
  },
  {
   "cell_type": "markdown",
   "id": "e27fd6d2",
   "metadata": {},
   "source": [
    "<div class=\"alert alert-info\">\n",
    "<font size=\"4\", color = \"black\"><b>✍ Комментарий студента</b></font>\n",
    "    <br /> \n",
    "    <font size=\"3\", color = \"black\">\n",
    "<br /> ... , вот мой вопрос ...\n",
    "        \n",
    "        "
   ]
  },
  {
   "cell_type": "markdown",
   "id": "cc8b2a66-c095-4e61-8c90-ccf3fb12b130",
   "metadata": {},
   "source": [
    "### Исследование пользователей сервиса аренды самокатов GoFast"
   ]
  },
  {
   "cell_type": "markdown",
   "id": "0f5bc9ce-cb1f-4861-a71a-418d37dff650",
   "metadata": {},
   "source": [
    "##### Данные представлены в виде информации о пользователях сервиса из различных городов, где работает сервиса, а также поездках и тарифах\n",
    "##### Цель работы: Провести анализ полученных данных и выполнить проверку некоторых гипотез"
   ]
  },
  {
   "cell_type": "markdown",
   "id": "3304c59d",
   "metadata": {},
   "source": [
    "<div class=\"alert alert-warning\", style=\"border:solid coral 3px; padding: 20px\">\n",
    "<font size=\"4\", color = \"DimGrey\"><b>⚠️ Комментарий ревьюера в2</b></font>\n",
    "    <br /> \n",
    "    <font size=\"3\", color = \"black\">\n",
    "<br /> Стоит добавить подробностей, без которых тяжело будет вспомнить через полгода суть проекта (без отдельного брифа проекта)"
   ]
  },
  {
   "cell_type": "markdown",
   "id": "75543913",
   "metadata": {},
   "source": [
    "<div class=\"alert alert-dan ger\">\n",
    "<font size=\"4\"><b>❌ Комментарий ревьюера</b></font>\n",
    "    <br /> \n",
    "    <font size=\"3\", color = \"black\">\n",
    "<br />\n",
    "Название придаст вес проекту\n",
    "        \n",
    "а подробности выполнения проекта дадут возможность вспомнить через полгода — что мы тут делали "
   ]
  },
  {
   "cell_type": "code",
   "execution_count": 1,
   "id": "72576667",
   "metadata": {},
   "outputs": [],
   "source": [
    "import pandas as pd\n",
    "import numpy as np\n",
    "from scipy import stats as st\n",
    "from matplotlib import pyplot as plt\n",
    "from importlib import reload\n",
    "plt=reload(plt)"
   ]
  },
  {
   "attachments": {
    "image-2.png": {
     "image/png": "[encoded data removed]"
    },
    "image-3.png": {
     "image/png": "[encoded data removed]"
    },
    "image.png": {
     "image/png": "[encoded data removed]"
    }
   },
   "cell_type": "markdown",
   "id": "8fd1d9ce",
   "metadata": {},
   "source": [
    "<div style=\"border:solid steelblue 3px; padding: 20px\">\n",
    "<font size=\"4\">🍕<b> Комментарий ревьюера </b></font>\n",
    "<br /> \n",
    "<font size=\"3\", color = \"black\">\n",
    "<br />   Кажется весь код на проекте запускался вручную ... 402-я строка кода в начале проекта\n",
    "    \n",
    "![image-3.png](attachment:image-3.png)    \n",
    "    \n",
    "    \n",
    "![image-2.png](attachment:image-2.png)    \n",
    "    \n",
    "   \n",
    "    \n",
    "Проверить работоспособность кода — можно нажав на панели Jupiter Hub Kernel и Restart & Run All (см скриншот ниже).\n",
    "\n",
    "![image.png](attachment:image.png)"
   ]
  },
  {
   "cell_type": "markdown",
   "id": "f30b5f43-30a8-4c1a-993a-d1572d20d653",
   "metadata": {},
   "source": [
    "#### Шаг 1. Загрузка данных"
   ]
  },
  {
   "cell_type": "code",
   "execution_count": 2,
   "id": "37ee7aae-408d-494f-85f9-ae2489c3f051",
   "metadata": {},
   "outputs": [],
   "source": [
    "try:\n",
    "    rides_data = pd.read_csv(\"rides_go.csv\")\n",
    "except:\n",
    "    rides_data = pd.read_csv(\"/datasets/rides_go.csv\")\n",
    "    \n",
    "try:\n",
    "    subs_data = pd.read_csv(\"subscriptions_go.csv\")\n",
    "except:\n",
    "    subs_data = pd.read_csv(\"/datasets/subscriptions_go.csv\")\n",
    "    \n",
    "try:\n",
    "    user_data = pd.read_csv(\"users_go.csv\")\n",
    "except:\n",
    "    user_data = pd.read_csv(\"/datasets/users_go.csv\")"
   ]
  },
  {
   "cell_type": "markdown",
   "id": "f9d7dee8",
   "metadata": {},
   "source": [
    "<div class=\"alert alert-warning\", style=\"border:solid coral 3px; padding: 20px\">\n",
    "<font size=\"4\"><b>⚠️ Комментарий ревьюера</b></font>\n",
    "    <br /> \n",
    "    <font size=\"3\", color = \"black\">\n",
    "<br />\n",
    "        \n",
    "Если при загрузке данных добавить параметр `parse_dates: parse_dates=['date']` то тип данных автоматически переведется в даты. Подробнее про это можно прочитать по ссылке ниже\n",
    "\n",
    "https://newtechaudit.ru/gruzi-daty-krasivo/"
   ]
  },
  {
   "cell_type": "code",
   "execution_count": 3,
   "id": "1225730c-ed07-4b7a-9ce0-8e4365e99b66",
   "metadata": {},
   "outputs": [
    {
     "data": {
      "text/html": [
       "<div>\n",
       "<style scoped>\n",
       "    .dataframe tbody tr th:only-of-type {\n",
       "        vertical-align: middle;\n",
       "    }\n",
       "\n",
       "    .dataframe tbody tr th {\n",
       "        vertical-align: top;\n",
       "    }\n",
       "\n",
       "    .dataframe thead th {\n",
       "        text-align: right;\n",
       "    }\n",
       "</style>\n",
       "<table border=\"1\" class=\"dataframe\">\n",
       "  <thead>\n",
       "    <tr style=\"text-align: right;\">\n",
       "      <th></th>\n",
       "      <th>user_id</th>\n",
       "      <th>distance</th>\n",
       "      <th>duration</th>\n",
       "      <th>date</th>\n",
       "    </tr>\n",
       "  </thead>\n",
       "  <tbody>\n",
       "    <tr>\n",
       "      <th>0</th>\n",
       "      <td>1</td>\n",
       "      <td>4409.919140</td>\n",
       "      <td>25.599769</td>\n",
       "      <td>2021-01-01</td>\n",
       "    </tr>\n",
       "    <tr>\n",
       "      <th>1</th>\n",
       "      <td>1</td>\n",
       "      <td>2617.592153</td>\n",
       "      <td>15.816871</td>\n",
       "      <td>2021-01-18</td>\n",
       "    </tr>\n",
       "    <tr>\n",
       "      <th>2</th>\n",
       "      <td>1</td>\n",
       "      <td>754.159807</td>\n",
       "      <td>6.232113</td>\n",
       "      <td>2021-04-20</td>\n",
       "    </tr>\n",
       "    <tr>\n",
       "      <th>3</th>\n",
       "      <td>1</td>\n",
       "      <td>2694.783254</td>\n",
       "      <td>18.511000</td>\n",
       "      <td>2021-08-11</td>\n",
       "    </tr>\n",
       "    <tr>\n",
       "      <th>4</th>\n",
       "      <td>1</td>\n",
       "      <td>4028.687306</td>\n",
       "      <td>26.265803</td>\n",
       "      <td>2021-08-28</td>\n",
       "    </tr>\n",
       "  </tbody>\n",
       "</table>\n",
       "</div>"
      ],
      "text/plain": [
       "   user_id     distance   duration        date\n",
       "0        1  4409.919140  25.599769  2021-01-01\n",
       "1        1  2617.592153  15.816871  2021-01-18\n",
       "2        1   754.159807   6.232113  2021-04-20\n",
       "3        1  2694.783254  18.511000  2021-08-11\n",
       "4        1  4028.687306  26.265803  2021-08-28"
      ]
     },
     "execution_count": 3,
     "metadata": {},
     "output_type": "execute_result"
    }
   ],
   "source": [
    "rides_data.head(5)"
   ]
  },
  {
   "cell_type": "code",
   "execution_count": 4,
   "id": "24a076c4-ce0f-4543-a426-08b671160aaa",
   "metadata": {},
   "outputs": [
    {
     "data": {
      "text/html": [
       "<div>\n",
       "<style scoped>\n",
       "    .dataframe tbody tr th:only-of-type {\n",
       "        vertical-align: middle;\n",
       "    }\n",
       "\n",
       "    .dataframe tbody tr th {\n",
       "        vertical-align: top;\n",
       "    }\n",
       "\n",
       "    .dataframe thead th {\n",
       "        text-align: right;\n",
       "    }\n",
       "</style>\n",
       "<table border=\"1\" class=\"dataframe\">\n",
       "  <thead>\n",
       "    <tr style=\"text-align: right;\">\n",
       "      <th></th>\n",
       "      <th>subscription_type</th>\n",
       "      <th>minute_price</th>\n",
       "      <th>start_ride_price</th>\n",
       "      <th>subscription_fee</th>\n",
       "    </tr>\n",
       "  </thead>\n",
       "  <tbody>\n",
       "    <tr>\n",
       "      <th>0</th>\n",
       "      <td>free</td>\n",
       "      <td>8</td>\n",
       "      <td>50</td>\n",
       "      <td>0</td>\n",
       "    </tr>\n",
       "    <tr>\n",
       "      <th>1</th>\n",
       "      <td>ultra</td>\n",
       "      <td>6</td>\n",
       "      <td>0</td>\n",
       "      <td>199</td>\n",
       "    </tr>\n",
       "  </tbody>\n",
       "</table>\n",
       "</div>"
      ],
      "text/plain": [
       "  subscription_type  minute_price  start_ride_price  subscription_fee\n",
       "0              free             8                50                 0\n",
       "1             ultra             6                 0               199"
      ]
     },
     "execution_count": 4,
     "metadata": {},
     "output_type": "execute_result"
    }
   ],
   "source": [
    "subs_data.head(5)"
   ]
  },
  {
   "cell_type": "code",
   "execution_count": 5,
   "id": "4fdee6ed-fd31-42ea-964d-3230e0c69f83",
   "metadata": {},
   "outputs": [
    {
     "data": {
      "text/html": [
       "<div>\n",
       "<style scoped>\n",
       "    .dataframe tbody tr th:only-of-type {\n",
       "        vertical-align: middle;\n",
       "    }\n",
       "\n",
       "    .dataframe tbody tr th {\n",
       "        vertical-align: top;\n",
       "    }\n",
       "\n",
       "    .dataframe thead th {\n",
       "        text-align: right;\n",
       "    }\n",
       "</style>\n",
       "<table border=\"1\" class=\"dataframe\">\n",
       "  <thead>\n",
       "    <tr style=\"text-align: right;\">\n",
       "      <th></th>\n",
       "      <th>user_id</th>\n",
       "      <th>name</th>\n",
       "      <th>age</th>\n",
       "      <th>city</th>\n",
       "      <th>subscription_type</th>\n",
       "    </tr>\n",
       "  </thead>\n",
       "  <tbody>\n",
       "    <tr>\n",
       "      <th>0</th>\n",
       "      <td>1</td>\n",
       "      <td>Кира</td>\n",
       "      <td>22</td>\n",
       "      <td>Тюмень</td>\n",
       "      <td>ultra</td>\n",
       "    </tr>\n",
       "    <tr>\n",
       "      <th>1</th>\n",
       "      <td>2</td>\n",
       "      <td>Станислав</td>\n",
       "      <td>31</td>\n",
       "      <td>Омск</td>\n",
       "      <td>ultra</td>\n",
       "    </tr>\n",
       "    <tr>\n",
       "      <th>2</th>\n",
       "      <td>3</td>\n",
       "      <td>Алексей</td>\n",
       "      <td>20</td>\n",
       "      <td>Москва</td>\n",
       "      <td>ultra</td>\n",
       "    </tr>\n",
       "    <tr>\n",
       "      <th>3</th>\n",
       "      <td>4</td>\n",
       "      <td>Константин</td>\n",
       "      <td>26</td>\n",
       "      <td>Ростов-на-Дону</td>\n",
       "      <td>ultra</td>\n",
       "    </tr>\n",
       "    <tr>\n",
       "      <th>4</th>\n",
       "      <td>5</td>\n",
       "      <td>Адель</td>\n",
       "      <td>28</td>\n",
       "      <td>Омск</td>\n",
       "      <td>ultra</td>\n",
       "    </tr>\n",
       "  </tbody>\n",
       "</table>\n",
       "</div>"
      ],
      "text/plain": [
       "   user_id        name  age            city subscription_type\n",
       "0        1        Кира   22          Тюмень             ultra\n",
       "1        2   Станислав   31            Омск             ultra\n",
       "2        3     Алексей   20          Москва             ultra\n",
       "3        4  Константин   26  Ростов-на-Дону             ultra\n",
       "4        5       Адель   28            Омск             ultra"
      ]
     },
     "execution_count": 5,
     "metadata": {},
     "output_type": "execute_result"
    }
   ],
   "source": [
    "user_data.head(5)"
   ]
  },
  {
   "cell_type": "markdown",
   "id": "28f9f191-d853-46dc-b63f-48eab43a79bd",
   "metadata": {},
   "source": [
    "Выведем основную информацию о датафреймах"
   ]
  },
  {
   "cell_type": "code",
   "execution_count": 6,
   "id": "9ff875e4-fe71-4092-99b9-630ab23574c7",
   "metadata": {},
   "outputs": [
    {
     "name": "stdout",
     "output_type": "stream",
     "text": [
      "<class 'pandas.core.frame.DataFrame'>\n",
      "RangeIndex: 18068 entries, 0 to 18067\n",
      "Data columns (total 4 columns):\n",
      " #   Column    Non-Null Count  Dtype  \n",
      "---  ------    --------------  -----  \n",
      " 0   user_id   18068 non-null  int64  \n",
      " 1   distance  18068 non-null  float64\n",
      " 2   duration  18068 non-null  float64\n",
      " 3   date      18068 non-null  object \n",
      "dtypes: float64(2), int64(1), object(1)\n",
      "memory usage: 564.8+ KB\n"
     ]
    },
    {
     "data": {
      "text/plain": [
       "None"
      ]
     },
     "metadata": {},
     "output_type": "display_data"
    },
    {
     "name": "stdout",
     "output_type": "stream",
     "text": [
      "<class 'pandas.core.frame.DataFrame'>\n",
      "RangeIndex: 2 entries, 0 to 1\n",
      "Data columns (total 4 columns):\n",
      " #   Column             Non-Null Count  Dtype \n",
      "---  ------             --------------  ----- \n",
      " 0   subscription_type  2 non-null      object\n",
      " 1   minute_price       2 non-null      int64 \n",
      " 2   start_ride_price   2 non-null      int64 \n",
      " 3   subscription_fee   2 non-null      int64 \n",
      "dtypes: int64(3), object(1)\n",
      "memory usage: 192.0+ bytes\n"
     ]
    },
    {
     "data": {
      "text/plain": [
       "None"
      ]
     },
     "metadata": {},
     "output_type": "display_data"
    },
    {
     "name": "stdout",
     "output_type": "stream",
     "text": [
      "<class 'pandas.core.frame.DataFrame'>\n",
      "RangeIndex: 1565 entries, 0 to 1564\n",
      "Data columns (total 5 columns):\n",
      " #   Column             Non-Null Count  Dtype \n",
      "---  ------             --------------  ----- \n",
      " 0   user_id            1565 non-null   int64 \n",
      " 1   name               1565 non-null   object\n",
      " 2   age                1565 non-null   int64 \n",
      " 3   city               1565 non-null   object\n",
      " 4   subscription_type  1565 non-null   object\n",
      "dtypes: int64(2), object(3)\n",
      "memory usage: 61.3+ KB\n"
     ]
    },
    {
     "data": {
      "text/plain": [
       "None"
      ]
     },
     "metadata": {},
     "output_type": "display_data"
    }
   ],
   "source": [
    "display(rides_data.info())\n",
    "display(subs_data.info())\n",
    "display(user_data.info())"
   ]
  },
  {
   "cell_type": "markdown",
   "id": "9d1570c2",
   "metadata": {},
   "source": [
    "<div class=\"alert alert-warning\", style=\"border:solid coral 3px; padding: 20px\">\n",
    "<font size=\"4\", color = \"DimGrey\"><b>⚠️ Комментарий ревьюера</b></font>\n",
    "    <br /> \n",
    "    <font size=\"3\", color = \"black\">\n",
    "<br /> Все  методы можно собрать в функцию и оптимизировать код вывода первичной информации\n",
    "        \n",
    "        dataset.head()\n",
    "        dataset.info()"
   ]
  },
  {
   "cell_type": "markdown",
   "id": "8cec33fe",
   "metadata": {},
   "source": [
    "<div class=\"alert alert-warning\", style=\"border:solid coral 3px; padding: 20px\">\n",
    "<font size=\"4\"><b>⚠️ Комментарий ревьюера</b></font>\n",
    "    <br />  \n",
    "    <font size=\"3\", color = \"black\">\n",
    "<br /> Обзор данных проведен корректно, применены методы .head() и .info(), не помешает добавить вывод после первого знакомства с данными"
   ]
  },
  {
   "cell_type": "markdown",
   "id": "8ebfaa00-871a-4219-94b9-8ce1302e21ad",
   "metadata": {},
   "source": [
    "#### Шаг 2. Предобработка данных"
   ]
  },
  {
   "cell_type": "markdown",
   "id": "e7924680-1079-44de-a313-98935e5e5755",
   "metadata": {},
   "source": [
    "Проверим данные на наличие пропусков"
   ]
  },
  {
   "cell_type": "code",
   "execution_count": 7,
   "id": "546f4b32-5147-48bc-9a5e-fb749519d1fa",
   "metadata": {},
   "outputs": [
    {
     "name": "stdout",
     "output_type": "stream",
     "text": [
      "user_id     0\n",
      "distance    0\n",
      "duration    0\n",
      "date        0\n",
      "dtype: int64 \n",
      "\n",
      "subscription_type    0\n",
      "minute_price         0\n",
      "start_ride_price     0\n",
      "subscription_fee     0\n",
      "dtype: int64 \n",
      "\n",
      "user_id              0\n",
      "name                 0\n",
      "age                  0\n",
      "city                 0\n",
      "subscription_type    0\n",
      "dtype: int64 \n",
      "\n"
     ]
    }
   ],
   "source": [
    "print(rides_data.isna().sum(), \"\\n\")\n",
    "print(subs_data.isna().sum(), \"\\n\")\n",
    "print(user_data.isna().sum(), \"\\n\")"
   ]
  },
  {
   "cell_type": "markdown",
   "id": "e1e74a52-67ac-4685-9ab3-06f909daa7c6",
   "metadata": {},
   "source": [
    "Пропусков не обнаружено"
   ]
  },
  {
   "cell_type": "markdown",
   "id": "2e04ac90-cbe0-4a0d-baf9-cb5e6254eeaa",
   "metadata": {},
   "source": [
    "Проверим на наличие явных дубликатов"
   ]
  },
  {
   "cell_type": "code",
   "execution_count": 8,
   "id": "27b158c8-afbc-4ec1-a0af-568e99312fc2",
   "metadata": {},
   "outputs": [
    {
     "name": "stdout",
     "output_type": "stream",
     "text": [
      "0 \n",
      "\n",
      "0 \n",
      "\n",
      "31 \n",
      "\n"
     ]
    }
   ],
   "source": [
    "print(rides_data.duplicated().sum(), \"\\n\")\n",
    "print(subs_data.duplicated().sum(), \"\\n\")\n",
    "print(user_data.duplicated().sum(), \"\\n\")"
   ]
  },
  {
   "cell_type": "markdown",
   "id": "91b92c3d-6dc8-4e87-8a98-50226079c83e",
   "metadata": {},
   "source": [
    "В таблице 'user_data' о пользователях обнаружен 31 явный дубликат. Исправим это"
   ]
  },
  {
   "cell_type": "code",
   "execution_count": 9,
   "id": "7ecd5bcb-3516-4c82-8e48-53cd35eb20c2",
   "metadata": {},
   "outputs": [
    {
     "name": "stdout",
     "output_type": "stream",
     "text": [
      "0 \n",
      "\n"
     ]
    }
   ],
   "source": [
    "user_data = user_data.drop_duplicates()\n",
    "print(user_data.duplicated().sum(), \"\\n\")"
   ]
  },
  {
   "cell_type": "markdown",
   "id": "ea5bac5d",
   "metadata": {},
   "source": [
    "<div class=\"alert alert-success\">\n",
    "<font size=\"4\", color= \"seagreen\"><b>✔️ Комментарий ревьюера</b></font>\n",
    "    <br /> \n",
    "    <font size=\"3\", color = \"black\">\n",
    "<br />Проверка на поиск дубликатов выполнена, молодец\n",
    "        \n",
    "Особенно это станет важным, когда мы перейдем к более сложным задачам на втором модуле курса\n",
    "          "
   ]
  },
  {
   "cell_type": "markdown",
   "id": "d7d2bd2b-be7b-40ec-8c73-72b00fee3344",
   "metadata": {},
   "source": [
    "Теперь займемся поиском неявных дубликатов. Посмотрим на первые 5 строк каждой из таблиц еще раз"
   ]
  },
  {
   "cell_type": "code",
   "execution_count": 10,
   "id": "35729cbb-1c3d-4a6f-acb4-c97eeb0ff99e",
   "metadata": {
    "scrolled": true
   },
   "outputs": [
    {
     "data": {
      "text/html": [
       "<div>\n",
       "<style scoped>\n",
       "    .dataframe tbody tr th:only-of-type {\n",
       "        vertical-align: middle;\n",
       "    }\n",
       "\n",
       "    .dataframe tbody tr th {\n",
       "        vertical-align: top;\n",
       "    }\n",
       "\n",
       "    .dataframe thead th {\n",
       "        text-align: right;\n",
       "    }\n",
       "</style>\n",
       "<table border=\"1\" class=\"dataframe\">\n",
       "  <thead>\n",
       "    <tr style=\"text-align: right;\">\n",
       "      <th></th>\n",
       "      <th>user_id</th>\n",
       "      <th>distance</th>\n",
       "      <th>duration</th>\n",
       "      <th>date</th>\n",
       "    </tr>\n",
       "  </thead>\n",
       "  <tbody>\n",
       "    <tr>\n",
       "      <th>0</th>\n",
       "      <td>1</td>\n",
       "      <td>4409.919140</td>\n",
       "      <td>25.599769</td>\n",
       "      <td>2021-01-01</td>\n",
       "    </tr>\n",
       "    <tr>\n",
       "      <th>1</th>\n",
       "      <td>1</td>\n",
       "      <td>2617.592153</td>\n",
       "      <td>15.816871</td>\n",
       "      <td>2021-01-18</td>\n",
       "    </tr>\n",
       "    <tr>\n",
       "      <th>2</th>\n",
       "      <td>1</td>\n",
       "      <td>754.159807</td>\n",
       "      <td>6.232113</td>\n",
       "      <td>2021-04-20</td>\n",
       "    </tr>\n",
       "    <tr>\n",
       "      <th>3</th>\n",
       "      <td>1</td>\n",
       "      <td>2694.783254</td>\n",
       "      <td>18.511000</td>\n",
       "      <td>2021-08-11</td>\n",
       "    </tr>\n",
       "    <tr>\n",
       "      <th>4</th>\n",
       "      <td>1</td>\n",
       "      <td>4028.687306</td>\n",
       "      <td>26.265803</td>\n",
       "      <td>2021-08-28</td>\n",
       "    </tr>\n",
       "  </tbody>\n",
       "</table>\n",
       "</div>"
      ],
      "text/plain": [
       "   user_id     distance   duration        date\n",
       "0        1  4409.919140  25.599769  2021-01-01\n",
       "1        1  2617.592153  15.816871  2021-01-18\n",
       "2        1   754.159807   6.232113  2021-04-20\n",
       "3        1  2694.783254  18.511000  2021-08-11\n",
       "4        1  4028.687306  26.265803  2021-08-28"
      ]
     },
     "metadata": {},
     "output_type": "display_data"
    },
    {
     "data": {
      "text/html": [
       "<div>\n",
       "<style scoped>\n",
       "    .dataframe tbody tr th:only-of-type {\n",
       "        vertical-align: middle;\n",
       "    }\n",
       "\n",
       "    .dataframe tbody tr th {\n",
       "        vertical-align: top;\n",
       "    }\n",
       "\n",
       "    .dataframe thead th {\n",
       "        text-align: right;\n",
       "    }\n",
       "</style>\n",
       "<table border=\"1\" class=\"dataframe\">\n",
       "  <thead>\n",
       "    <tr style=\"text-align: right;\">\n",
       "      <th></th>\n",
       "      <th>subscription_type</th>\n",
       "      <th>minute_price</th>\n",
       "      <th>start_ride_price</th>\n",
       "      <th>subscription_fee</th>\n",
       "    </tr>\n",
       "  </thead>\n",
       "  <tbody>\n",
       "    <tr>\n",
       "      <th>0</th>\n",
       "      <td>free</td>\n",
       "      <td>8</td>\n",
       "      <td>50</td>\n",
       "      <td>0</td>\n",
       "    </tr>\n",
       "    <tr>\n",
       "      <th>1</th>\n",
       "      <td>ultra</td>\n",
       "      <td>6</td>\n",
       "      <td>0</td>\n",
       "      <td>199</td>\n",
       "    </tr>\n",
       "  </tbody>\n",
       "</table>\n",
       "</div>"
      ],
      "text/plain": [
       "  subscription_type  minute_price  start_ride_price  subscription_fee\n",
       "0              free             8                50                 0\n",
       "1             ultra             6                 0               199"
      ]
     },
     "metadata": {},
     "output_type": "display_data"
    },
    {
     "data": {
      "text/html": [
       "<div>\n",
       "<style scoped>\n",
       "    .dataframe tbody tr th:only-of-type {\n",
       "        vertical-align: middle;\n",
       "    }\n",
       "\n",
       "    .dataframe tbody tr th {\n",
       "        vertical-align: top;\n",
       "    }\n",
       "\n",
       "    .dataframe thead th {\n",
       "        text-align: right;\n",
       "    }\n",
       "</style>\n",
       "<table border=\"1\" class=\"dataframe\">\n",
       "  <thead>\n",
       "    <tr style=\"text-align: right;\">\n",
       "      <th></th>\n",
       "      <th>user_id</th>\n",
       "      <th>name</th>\n",
       "      <th>age</th>\n",
       "      <th>city</th>\n",
       "      <th>subscription_type</th>\n",
       "    </tr>\n",
       "  </thead>\n",
       "  <tbody>\n",
       "    <tr>\n",
       "      <th>0</th>\n",
       "      <td>1</td>\n",
       "      <td>Кира</td>\n",
       "      <td>22</td>\n",
       "      <td>Тюмень</td>\n",
       "      <td>ultra</td>\n",
       "    </tr>\n",
       "    <tr>\n",
       "      <th>1</th>\n",
       "      <td>2</td>\n",
       "      <td>Станислав</td>\n",
       "      <td>31</td>\n",
       "      <td>Омск</td>\n",
       "      <td>ultra</td>\n",
       "    </tr>\n",
       "    <tr>\n",
       "      <th>2</th>\n",
       "      <td>3</td>\n",
       "      <td>Алексей</td>\n",
       "      <td>20</td>\n",
       "      <td>Москва</td>\n",
       "      <td>ultra</td>\n",
       "    </tr>\n",
       "    <tr>\n",
       "      <th>3</th>\n",
       "      <td>4</td>\n",
       "      <td>Константин</td>\n",
       "      <td>26</td>\n",
       "      <td>Ростов-на-Дону</td>\n",
       "      <td>ultra</td>\n",
       "    </tr>\n",
       "    <tr>\n",
       "      <th>4</th>\n",
       "      <td>5</td>\n",
       "      <td>Адель</td>\n",
       "      <td>28</td>\n",
       "      <td>Омск</td>\n",
       "      <td>ultra</td>\n",
       "    </tr>\n",
       "  </tbody>\n",
       "</table>\n",
       "</div>"
      ],
      "text/plain": [
       "   user_id        name  age            city subscription_type\n",
       "0        1        Кира   22          Тюмень             ultra\n",
       "1        2   Станислав   31            Омск             ultra\n",
       "2        3     Алексей   20          Москва             ultra\n",
       "3        4  Константин   26  Ростов-на-Дону             ultra\n",
       "4        5       Адель   28            Омск             ultra"
      ]
     },
     "metadata": {},
     "output_type": "display_data"
    }
   ],
   "source": [
    "display(rides_data.head(5))\n",
    "display(subs_data.head(5))\n",
    "display(user_data.head(5))"
   ]
  },
  {
   "cell_type": "markdown",
   "id": "459e4be9-7fae-41b4-9ccd-5cc66f9a8c04",
   "metadata": {},
   "source": [
    "Ощущение что в первой и второй таблице не может быть неявных дубликатов, так как данные представляют числа либо 'object' (дату / тип подписки)"
   ]
  },
  {
   "cell_type": "markdown",
   "id": "76ce0a38-7006-40df-8f19-3540a49b6bc2",
   "metadata": {},
   "source": [
    "Просмотрим уникальные значения имен и названий городов"
   ]
  },
  {
   "cell_type": "code",
   "execution_count": 11,
   "id": "5d6d20a7-3944-434b-9278-12087606a196",
   "metadata": {},
   "outputs": [
    {
     "name": "stdout",
     "output_type": "stream",
     "text": [
      "['Кира', 'Станислав', 'Алексей', 'Константин', 'Адель', 'Регина', 'Игорь', 'Юрий', 'Ян', 'Валерий', 'Агата', 'Марк', 'Ева', 'Антонина', 'Валерия', 'Амалия', 'Даниил', 'Аделина', 'Святогор', 'Борис', 'Вероника', 'Ростислав', 'Назар', 'Эдуард', 'Василий', 'Денис', 'Тамара', 'Николай', 'Эвелина', 'Федор', 'Руслан', 'Иван', 'Любовь', 'Ярослава', 'Майя', 'Ильдар', 'Данила', 'Нина', 'Стефания', 'Ясмина', 'Дмитрий', 'Александр', 'Одиссей', 'Арсений', 'Алла', 'Таисия', 'Максим', 'Юлиана', 'Павел', 'Карина', 'Алиса', 'Лидия', 'Рамиль', 'Родион', 'Ника', 'Оксана', 'Анастасия', 'Маргарита', 'Вера', 'Тимур', 'Никита', 'Лев', 'Влад', 'Артур', 'Анна', 'Ольга', 'Вячеслав', 'Ксения', 'Виталина', 'Владислав', 'Тамерлан', 'Амина', 'Вадим', 'Олеся', 'Зарина', 'Егор', 'Гордей', 'Лилия', 'Святослав', 'Роберт', 'Амир', 'Влада', 'Богдан', 'Полина', 'Марат', 'Елисей', 'Макар', 'Алина', 'Глеб', 'Андрей', 'Альбина', 'Людмила', 'Марсель', 'Милена', 'Диана', 'Дарина', 'Данил', 'Артемий', 'Лиана', 'Альберт', 'Герман', 'Жанна', 'Нелли', 'Евгения', 'Ариана', 'Самира', 'Захар', 'Эльвира', 'Екатерина', 'Инна', 'Демид', 'Яна', 'Михаил', 'Татьяна', 'Степан', 'Мелания', 'Тимофей', 'Ирина', 'Анжелика', 'Владислава', 'Елизавета', 'Мадина', 'Снежана', 'Даниэль', 'Рустам', 'Каролина', 'Ангелина', 'Владимир', 'Виктория', 'Валентина', 'Семен', 'Арина', 'Лариса', 'Есения', 'Галина', 'Кирилл', 'Игнат', 'Виталий', 'Эмилия', 'Виолетта', 'Яромир', 'Софья', 'Мирослава', 'Евгений', 'Варвара', 'Платон', 'Наталия', 'Анатолий', 'Кристина', 'Всеволод', 'Дарья', 'Наташа', 'Мария', 'Марина', 'Василиса', 'Юлия', 'Илья', 'Злата', 'Роман', 'Наталья', 'Элина', 'Арсен', 'Айдар', 'Алия', 'Виктор', 'Мирон', 'Ульяна', 'Георгий', 'Петр', 'Эльмира', 'Олег', 'Дамир', 'Самир', 'Ярослав', 'Камилла', 'Сергей', 'Эмиль', 'Радмир', 'Савелий', 'Елена', 'Антон', 'Мирослав', 'София', 'Тихон', 'Артём', 'Давид', 'Григорий', 'Алёна', 'Светлана', 'Леонид', 'Александра', 'Василина', 'Милана', 'Матвей']\n",
      "\n",
      "\n",
      "['Тюмень', 'Омск', 'Москва', 'Ростов-на-Дону', 'Краснодар', 'Пятигорск', 'Екатеринбург', 'Сочи']\n",
      "\n",
      "\n"
     ]
    }
   ],
   "source": [
    "unique_names = list(user_data['name'].unique())\n",
    "unique_citys = list(user_data['city'].unique())\n",
    "print(unique_names, end = '\\n\\n\\n')\n",
    "print(unique_citys, end = '\\n\\n\\n')"
   ]
  },
  {
   "cell_type": "markdown",
   "id": "3fdddee8-f57d-4176-8b15-5ae064504493",
   "metadata": {},
   "source": [
    "C названиями городов все в порядке, стоит рассмотреть внимательнее список имен, могут содержаться дубликаты по типу имен, начинающихся с прописной буквы или с буквой 'ё' вместо 'е'"
   ]
  },
  {
   "cell_type": "code",
   "execution_count": 12,
   "id": "b9769ce5-4ba9-47d5-8c20-00a1dcf8cce4",
   "metadata": {},
   "outputs": [
    {
     "name": "stdout",
     "output_type": "stream",
     "text": [
      "194 194\n"
     ]
    }
   ],
   "source": [
    "def in_upper(data) -> list:\n",
    "    res = []\n",
    "    for i in data:\n",
    "        if (i[0].isupper()):\n",
    "            res.append(i[0])\n",
    "        \n",
    "    return res\n",
    "\n",
    "\n",
    "unique_names_check = in_upper(unique_names)\n",
    "print(len(unique_names_check), len(unique_names))"
   ]
  },
  {
   "cell_type": "markdown",
   "id": "e81ac236-6f72-43b0-8d51-4134ed0bf111",
   "metadata": {},
   "source": [
    "С регистрами все в порядке, проверим на наличие одинаковых имен"
   ]
  },
  {
   "cell_type": "code",
   "execution_count": 13,
   "id": "ba8fa928-2ae7-4e83-baac-7b5adde80c8b",
   "metadata": {
    "scrolled": true
   },
   "outputs": [
    {
     "name": "stdout",
     "output_type": "stream",
     "text": [
      "Алексей\n",
      "Адель\n",
      "Регина\n",
      "Валерий\n",
      "Валерия\n",
      "Аделина\n",
      "Вероника\n",
      "Денис\n",
      "Эвелина\n",
      "Федор\n",
      "Стефания\n",
      "Александр\n",
      "Одиссей\n",
      "Арсений\n",
      "Павел\n",
      "Вера\n",
      "Лев\n",
      "Вячеслав\n",
      "Ксения\n",
      "Тамерлан\n",
      "Олеся\n",
      "Гордей\n",
      "Роберт\n",
      "Елисей\n",
      "Глеб\n",
      "Андрей\n",
      "Марсель\n",
      "Милена\n",
      "Артемий\n",
      "Альберт\n",
      "Герман\n",
      "Нелли\n",
      "Евгения\n",
      "Екатерина\n",
      "Демид\n",
      "Степан\n",
      "Мелания\n",
      "Тимофей\n",
      "Анжелика\n",
      "Елизавета\n",
      "Снежана\n",
      "Ангелина\n",
      "Валентина\n",
      "Семен\n",
      "Есения\n",
      "Виолетта\n",
      "Евгений\n",
      "Всеволод\n",
      "Арсен\n",
      "Георгий\n",
      "Петр\n",
      "Олег\n",
      "Сергей\n",
      "Савелий\n",
      "Елена\n",
      "Артём\n",
      "Алёна\n",
      "Светлана\n",
      "Леонид\n",
      "Александра\n",
      "Матвей\n"
     ]
    }
   ],
   "source": [
    "unique_names_check = []\n",
    "for i in unique_names:\n",
    "    if ((\"ё\" in i) or (\"е\" in i)):\n",
    "        print(i)\n",
    "        unique_names_check.append(i)\n",
    "        "
   ]
  },
  {
   "cell_type": "markdown",
   "id": "c5c7f56c-6c1f-4e31-811b-b168082f4429",
   "metadata": {},
   "source": [
    "Как видно, все в порядке, можно приступать к поиску аномальных значений. Числовые значения в таблице не могут быть отрицательными, потому хорошо было бы их взять по модулю"
   ]
  },
  {
   "cell_type": "code",
   "execution_count": 14,
   "id": "cd19b8c9-7007-4d81-a748-001ca584a7cd",
   "metadata": {},
   "outputs": [],
   "source": [
    "def to_abs_num_col(data):\n",
    "    names = list(data.columns)\n",
    "    for i in names:\n",
    "        if (data[i].dtype == \"int64\" or data[i].dtype == \"float64\"):\n",
    "            data[i] = data[i].abs()\n",
    "\n",
    "to_abs_num_col(rides_data)\n",
    "to_abs_num_col(subs_data)\n",
    "to_abs_num_col(user_data)"
   ]
  },
  {
   "cell_type": "markdown",
   "id": "93b1ccbc-01b5-4653-89a0-c4faa20a4b1c",
   "metadata": {},
   "source": [
    "Теперь аномалий нет, если они вообще были"
   ]
  },
  {
   "cell_type": "markdown",
   "id": "7cb8fd8d-9b62-417f-a0f3-72b28a7ecb97",
   "metadata": {},
   "source": [
    "Приведем столбец `date` к типу даты пандас и создадим отдельные новый столбец с номером месяца"
   ]
  },
  {
   "cell_type": "code",
   "execution_count": 15,
   "id": "aee1ecc8-e5a0-4b5a-bc9f-353a2945c1a5",
   "metadata": {},
   "outputs": [
    {
     "data": {
      "text/html": [
       "<div>\n",
       "<style scoped>\n",
       "    .dataframe tbody tr th:only-of-type {\n",
       "        vertical-align: middle;\n",
       "    }\n",
       "\n",
       "    .dataframe tbody tr th {\n",
       "        vertical-align: top;\n",
       "    }\n",
       "\n",
       "    .dataframe thead th {\n",
       "        text-align: right;\n",
       "    }\n",
       "</style>\n",
       "<table border=\"1\" class=\"dataframe\">\n",
       "  <thead>\n",
       "    <tr style=\"text-align: right;\">\n",
       "      <th></th>\n",
       "      <th>user_id</th>\n",
       "      <th>distance</th>\n",
       "      <th>duration</th>\n",
       "      <th>date</th>\n",
       "      <th>month</th>\n",
       "    </tr>\n",
       "  </thead>\n",
       "  <tbody>\n",
       "    <tr>\n",
       "      <th>0</th>\n",
       "      <td>1</td>\n",
       "      <td>4409.919140</td>\n",
       "      <td>25.599769</td>\n",
       "      <td>2021-01-01</td>\n",
       "      <td>1</td>\n",
       "    </tr>\n",
       "    <tr>\n",
       "      <th>1</th>\n",
       "      <td>1</td>\n",
       "      <td>2617.592153</td>\n",
       "      <td>15.816871</td>\n",
       "      <td>2021-01-18</td>\n",
       "      <td>1</td>\n",
       "    </tr>\n",
       "    <tr>\n",
       "      <th>2</th>\n",
       "      <td>1</td>\n",
       "      <td>754.159807</td>\n",
       "      <td>6.232113</td>\n",
       "      <td>2021-04-20</td>\n",
       "      <td>4</td>\n",
       "    </tr>\n",
       "    <tr>\n",
       "      <th>3</th>\n",
       "      <td>1</td>\n",
       "      <td>2694.783254</td>\n",
       "      <td>18.511000</td>\n",
       "      <td>2021-08-11</td>\n",
       "      <td>8</td>\n",
       "    </tr>\n",
       "    <tr>\n",
       "      <th>4</th>\n",
       "      <td>1</td>\n",
       "      <td>4028.687306</td>\n",
       "      <td>26.265803</td>\n",
       "      <td>2021-08-28</td>\n",
       "      <td>8</td>\n",
       "    </tr>\n",
       "    <tr>\n",
       "      <th>...</th>\n",
       "      <td>...</td>\n",
       "      <td>...</td>\n",
       "      <td>...</td>\n",
       "      <td>...</td>\n",
       "      <td>...</td>\n",
       "    </tr>\n",
       "    <tr>\n",
       "      <th>18063</th>\n",
       "      <td>1534</td>\n",
       "      <td>3781.098080</td>\n",
       "      <td>19.822962</td>\n",
       "      <td>2021-11-04</td>\n",
       "      <td>11</td>\n",
       "    </tr>\n",
       "    <tr>\n",
       "      <th>18064</th>\n",
       "      <td>1534</td>\n",
       "      <td>2840.423057</td>\n",
       "      <td>21.409799</td>\n",
       "      <td>2021-11-16</td>\n",
       "      <td>11</td>\n",
       "    </tr>\n",
       "    <tr>\n",
       "      <th>18065</th>\n",
       "      <td>1534</td>\n",
       "      <td>3826.185507</td>\n",
       "      <td>18.435051</td>\n",
       "      <td>2021-11-18</td>\n",
       "      <td>11</td>\n",
       "    </tr>\n",
       "    <tr>\n",
       "      <th>18066</th>\n",
       "      <td>1534</td>\n",
       "      <td>2902.308661</td>\n",
       "      <td>16.674362</td>\n",
       "      <td>2021-11-27</td>\n",
       "      <td>11</td>\n",
       "    </tr>\n",
       "    <tr>\n",
       "      <th>18067</th>\n",
       "      <td>1534</td>\n",
       "      <td>2371.711192</td>\n",
       "      <td>15.893917</td>\n",
       "      <td>2021-12-29</td>\n",
       "      <td>12</td>\n",
       "    </tr>\n",
       "  </tbody>\n",
       "</table>\n",
       "<p>18068 rows × 5 columns</p>\n",
       "</div>"
      ],
      "text/plain": [
       "       user_id     distance   duration       date  month\n",
       "0            1  4409.919140  25.599769 2021-01-01      1\n",
       "1            1  2617.592153  15.816871 2021-01-18      1\n",
       "2            1   754.159807   6.232113 2021-04-20      4\n",
       "3            1  2694.783254  18.511000 2021-08-11      8\n",
       "4            1  4028.687306  26.265803 2021-08-28      8\n",
       "...        ...          ...        ...        ...    ...\n",
       "18063     1534  3781.098080  19.822962 2021-11-04     11\n",
       "18064     1534  2840.423057  21.409799 2021-11-16     11\n",
       "18065     1534  3826.185507  18.435051 2021-11-18     11\n",
       "18066     1534  2902.308661  16.674362 2021-11-27     11\n",
       "18067     1534  2371.711192  15.893917 2021-12-29     12\n",
       "\n",
       "[18068 rows x 5 columns]"
      ]
     },
     "execution_count": 15,
     "metadata": {},
     "output_type": "execute_result"
    }
   ],
   "source": [
    "rides_data['date'] = pd.to_datetime(rides_data['date'], format = \"%Y-%m-%d\")\n",
    "rides_data['month'] = pd.DatetimeIndex(rides_data['date']).month\n",
    "rides_data"
   ]
  },
  {
   "cell_type": "markdown",
   "id": "0214855e-bba4-4e83-a6c5-e955b1adcf9c",
   "metadata": {},
   "source": [
    "Теперь наши данные готовы к исследовательскому анализу"
   ]
  },
  {
   "cell_type": "markdown",
   "id": "496a0dd7-d53e-42fb-b466-963e26f9cb5d",
   "metadata": {},
   "source": [
    "#### Вывод по предобработке\n",
    "Данные все удалось загрузить в проект, при этом не было обнаружено каких-либо пропусков и неявных дубликатов. Явные дубликаты были отброшены при помощи метода `drop_duplicates`"
   ]
  },
  {
   "cell_type": "markdown",
   "id": "212593c7",
   "metadata": {},
   "source": [
    "#### Шаг 3. Исследовательский анализ данных"
   ]
  },
  {
   "cell_type": "markdown",
   "id": "071e2693-361b-41ff-989c-a753abd5146f",
   "metadata": {},
   "source": [
    "Теперь проведем исследовательский анализ данных, а именно опишем:\n",
    "- Частота встречаемости городов\n",
    "- Соотношение пользователей с подпиской и без подписки\n",
    "- Возраст пользователей\n",
    "- Расстояние, которое пользователь преодолел за одну поездку\n",
    "- Продолжительность поездок"
   ]
  },
  {
   "cell_type": "markdown",
   "id": "a5510719-baee-429e-a74c-e9c92b72e12a",
   "metadata": {},
   "source": [
    "##### Частота встречаемости городов и соотношение пользователей с подпиской и без подписки"
   ]
  },
  {
   "cell_type": "markdown",
   "id": "2b77adbe-85d1-439d-87bd-9aef8a312949",
   "metadata": {},
   "source": [
    "Сгруппируем данные по городу и подсчитаем соотношение встречаемости к общему количеству.\n",
    "Группировку будем производить по 'user_id', индексами будут служить название города и тип подписки, чтобы можно было произвести анализ как пользователей без подписки, так и пользователей с ней"
   ]
  },
  {
   "cell_type": "code",
   "execution_count": 16,
   "id": "55f6ddcf-a8be-4ae4-ba9d-63d47d60e270",
   "metadata": {},
   "outputs": [
    {
     "data": {
      "text/html": [
       "<div>\n",
       "<style scoped>\n",
       "    .dataframe tbody tr th:only-of-type {\n",
       "        vertical-align: middle;\n",
       "    }\n",
       "\n",
       "    .dataframe tbody tr th {\n",
       "        vertical-align: top;\n",
       "    }\n",
       "\n",
       "    .dataframe thead th {\n",
       "        text-align: right;\n",
       "    }\n",
       "</style>\n",
       "<table border=\"1\" class=\"dataframe\">\n",
       "  <thead>\n",
       "    <tr style=\"text-align: right;\">\n",
       "      <th></th>\n",
       "      <th></th>\n",
       "      <th>user_id</th>\n",
       "    </tr>\n",
       "    <tr>\n",
       "      <th>city</th>\n",
       "      <th>subscription_type</th>\n",
       "      <th></th>\n",
       "    </tr>\n",
       "  </thead>\n",
       "  <tbody>\n",
       "    <tr>\n",
       "      <th rowspan=\"2\" valign=\"top\">Екатеринбург</th>\n",
       "      <th>free</th>\n",
       "      <td>112</td>\n",
       "    </tr>\n",
       "    <tr>\n",
       "      <th>ultra</th>\n",
       "      <td>92</td>\n",
       "    </tr>\n",
       "    <tr>\n",
       "      <th rowspan=\"2\" valign=\"top\">Краснодар</th>\n",
       "      <th>free</th>\n",
       "      <td>112</td>\n",
       "    </tr>\n",
       "    <tr>\n",
       "      <th>ultra</th>\n",
       "      <td>81</td>\n",
       "    </tr>\n",
       "    <tr>\n",
       "      <th rowspan=\"2\" valign=\"top\">Москва</th>\n",
       "      <th>free</th>\n",
       "      <td>84</td>\n",
       "    </tr>\n",
       "    <tr>\n",
       "      <th>ultra</th>\n",
       "      <td>84</td>\n",
       "    </tr>\n",
       "    <tr>\n",
       "      <th rowspan=\"2\" valign=\"top\">Омск</th>\n",
       "      <th>free</th>\n",
       "      <td>92</td>\n",
       "    </tr>\n",
       "    <tr>\n",
       "      <th>ultra</th>\n",
       "      <td>91</td>\n",
       "    </tr>\n",
       "    <tr>\n",
       "      <th rowspan=\"2\" valign=\"top\">Пятигорск</th>\n",
       "      <th>free</th>\n",
       "      <td>125</td>\n",
       "    </tr>\n",
       "    <tr>\n",
       "      <th>ultra</th>\n",
       "      <td>94</td>\n",
       "    </tr>\n",
       "    <tr>\n",
       "      <th rowspan=\"2\" valign=\"top\">Ростов-на-Дону</th>\n",
       "      <th>free</th>\n",
       "      <td>109</td>\n",
       "    </tr>\n",
       "    <tr>\n",
       "      <th>ultra</th>\n",
       "      <td>89</td>\n",
       "    </tr>\n",
       "    <tr>\n",
       "      <th rowspan=\"2\" valign=\"top\">Сочи</th>\n",
       "      <th>free</th>\n",
       "      <td>103</td>\n",
       "    </tr>\n",
       "    <tr>\n",
       "      <th>ultra</th>\n",
       "      <td>86</td>\n",
       "    </tr>\n",
       "    <tr>\n",
       "      <th rowspan=\"2\" valign=\"top\">Тюмень</th>\n",
       "      <th>free</th>\n",
       "      <td>98</td>\n",
       "    </tr>\n",
       "    <tr>\n",
       "      <th>ultra</th>\n",
       "      <td>82</td>\n",
       "    </tr>\n",
       "  </tbody>\n",
       "</table>\n",
       "</div>"
      ],
      "text/plain": [
       "                                  user_id\n",
       "city           subscription_type         \n",
       "Екатеринбург   free                   112\n",
       "               ultra                   92\n",
       "Краснодар      free                   112\n",
       "               ultra                   81\n",
       "Москва         free                    84\n",
       "               ultra                   84\n",
       "Омск           free                    92\n",
       "               ultra                   91\n",
       "Пятигорск      free                   125\n",
       "               ultra                   94\n",
       "Ростов-на-Дону free                   109\n",
       "               ultra                   89\n",
       "Сочи           free                   103\n",
       "               ultra                   86\n",
       "Тюмень         free                    98\n",
       "               ultra                   82"
      ]
     },
     "execution_count": 16,
     "metadata": {},
     "output_type": "execute_result"
    }
   ],
   "source": [
    "data_group_city = user_data.pivot_table(index = ['city', 'subscription_type'], values = 'user_id', aggfunc = 'count')\n",
    "data_group_city"
   ]
  },
  {
   "cell_type": "markdown",
   "id": "85ed7d30-1a09-4d5a-964a-54ee8f28a7db",
   "metadata": {},
   "source": [
    "Построим графики"
   ]
  },
  {
   "cell_type": "code",
   "execution_count": 17,
   "id": "6211a329-a118-4a9e-ab7a-ddc4cfa0ae67",
   "metadata": {},
   "outputs": [
    {
     "data": {
      "image/png": "[encoded data removed]",
      "text/plain": [
       "<Figure size 432x288 with 1 Axes>"
      ]
     },
     "metadata": {
      "needs_background": "light"
     },
     "output_type": "display_data"
    }
   ],
   "source": [
    "data_group_city.query('subscription_type == \"free\"').sort_values(by = \"user_id\", ascending = True).plot(kind = 'bar', title = 'Unsubscribers')\n",
    "None"
   ]
  },
  {
   "cell_type": "code",
   "execution_count": 18,
   "id": "891e725a-2165-46d9-8036-d7f233f08972",
   "metadata": {},
   "outputs": [
    {
     "data": {
      "image/png": "[encoded data removed]",
      "text/plain": [
       "<Figure size 432x288 with 1 Axes>"
      ]
     },
     "metadata": {
      "needs_background": "light"
     },
     "output_type": "display_data"
    }
   ],
   "source": [
    "data_group_city.query('subscription_type == \"ultra\"').sort_values(by = \"user_id\", ascending = True).plot(kind = 'bar', title = 'Subscribers')\n",
    "None"
   ]
  },
  {
   "cell_type": "markdown",
   "id": "ff482648-5d29-435a-b8eb-da33ce73feab",
   "metadata": {},
   "source": [
    "Как видно по графикам, в Москве меньше всего пользователей пользуются самокатом без подписки, скорее это связано с уровнем зарплаты в этом регионе, но стоит посчитать соотношение пользователей каждого города к общему количеству, а также посмотреть соотношение количества пользователей с подпиской к общему количеству пользователей в каждом городе"
   ]
  },
  {
   "cell_type": "code",
   "execution_count": 19,
   "id": "fc09ee82-85ad-4c6e-aed0-b0bb00be7cae",
   "metadata": {},
   "outputs": [
    {
     "data": {
      "text/html": [
       "<div>\n",
       "<style scoped>\n",
       "    .dataframe tbody tr th:only-of-type {\n",
       "        vertical-align: middle;\n",
       "    }\n",
       "\n",
       "    .dataframe tbody tr th {\n",
       "        vertical-align: top;\n",
       "    }\n",
       "\n",
       "    .dataframe thead th {\n",
       "        text-align: right;\n",
       "    }\n",
       "</style>\n",
       "<table border=\"1\" class=\"dataframe\">\n",
       "  <thead>\n",
       "    <tr style=\"text-align: right;\">\n",
       "      <th></th>\n",
       "      <th></th>\n",
       "      <th>user_id</th>\n",
       "      <th>total_users</th>\n",
       "    </tr>\n",
       "    <tr>\n",
       "      <th>city</th>\n",
       "      <th>subscription_type</th>\n",
       "      <th></th>\n",
       "      <th></th>\n",
       "    </tr>\n",
       "  </thead>\n",
       "  <tbody>\n",
       "    <tr>\n",
       "      <th rowspan=\"2\" valign=\"top\">Екатеринбург</th>\n",
       "      <th>free</th>\n",
       "      <td>112</td>\n",
       "      <td>204</td>\n",
       "    </tr>\n",
       "    <tr>\n",
       "      <th>ultra</th>\n",
       "      <td>92</td>\n",
       "      <td>204</td>\n",
       "    </tr>\n",
       "    <tr>\n",
       "      <th rowspan=\"2\" valign=\"top\">Краснодар</th>\n",
       "      <th>free</th>\n",
       "      <td>112</td>\n",
       "      <td>193</td>\n",
       "    </tr>\n",
       "    <tr>\n",
       "      <th>ultra</th>\n",
       "      <td>81</td>\n",
       "      <td>193</td>\n",
       "    </tr>\n",
       "    <tr>\n",
       "      <th rowspan=\"2\" valign=\"top\">Москва</th>\n",
       "      <th>free</th>\n",
       "      <td>84</td>\n",
       "      <td>168</td>\n",
       "    </tr>\n",
       "    <tr>\n",
       "      <th>ultra</th>\n",
       "      <td>84</td>\n",
       "      <td>168</td>\n",
       "    </tr>\n",
       "    <tr>\n",
       "      <th rowspan=\"2\" valign=\"top\">Омск</th>\n",
       "      <th>free</th>\n",
       "      <td>92</td>\n",
       "      <td>183</td>\n",
       "    </tr>\n",
       "    <tr>\n",
       "      <th>ultra</th>\n",
       "      <td>91</td>\n",
       "      <td>183</td>\n",
       "    </tr>\n",
       "    <tr>\n",
       "      <th rowspan=\"2\" valign=\"top\">Пятигорск</th>\n",
       "      <th>free</th>\n",
       "      <td>125</td>\n",
       "      <td>219</td>\n",
       "    </tr>\n",
       "    <tr>\n",
       "      <th>ultra</th>\n",
       "      <td>94</td>\n",
       "      <td>219</td>\n",
       "    </tr>\n",
       "    <tr>\n",
       "      <th rowspan=\"2\" valign=\"top\">Ростов-на-Дону</th>\n",
       "      <th>free</th>\n",
       "      <td>109</td>\n",
       "      <td>198</td>\n",
       "    </tr>\n",
       "    <tr>\n",
       "      <th>ultra</th>\n",
       "      <td>89</td>\n",
       "      <td>198</td>\n",
       "    </tr>\n",
       "    <tr>\n",
       "      <th rowspan=\"2\" valign=\"top\">Сочи</th>\n",
       "      <th>free</th>\n",
       "      <td>103</td>\n",
       "      <td>189</td>\n",
       "    </tr>\n",
       "    <tr>\n",
       "      <th>ultra</th>\n",
       "      <td>86</td>\n",
       "      <td>189</td>\n",
       "    </tr>\n",
       "    <tr>\n",
       "      <th rowspan=\"2\" valign=\"top\">Тюмень</th>\n",
       "      <th>free</th>\n",
       "      <td>98</td>\n",
       "      <td>180</td>\n",
       "    </tr>\n",
       "    <tr>\n",
       "      <th>ultra</th>\n",
       "      <td>82</td>\n",
       "      <td>180</td>\n",
       "    </tr>\n",
       "  </tbody>\n",
       "</table>\n",
       "</div>"
      ],
      "text/plain": [
       "                                  user_id  total_users\n",
       "city           subscription_type                      \n",
       "Екатеринбург   free                   112          204\n",
       "               ultra                   92          204\n",
       "Краснодар      free                   112          193\n",
       "               ultra                   81          193\n",
       "Москва         free                    84          168\n",
       "               ultra                   84          168\n",
       "Омск           free                    92          183\n",
       "               ultra                   91          183\n",
       "Пятигорск      free                   125          219\n",
       "               ultra                   94          219\n",
       "Ростов-на-Дону free                   109          198\n",
       "               ultra                   89          198\n",
       "Сочи           free                   103          189\n",
       "               ultra                   86          189\n",
       "Тюмень         free                    98          180\n",
       "               ultra                   82          180"
      ]
     },
     "execution_count": 19,
     "metadata": {},
     "output_type": "execute_result"
    }
   ],
   "source": [
    "data_group_city['total_users'] = data_group_city.groupby('city')['user_id'].transform('sum')\n",
    "data_group_city"
   ]
  },
  {
   "cell_type": "markdown",
   "id": "3e9b69e2-b8a0-412f-8642-f89b9d824f84",
   "metadata": {},
   "source": [
    "Мы подсчитали количество пользователей для каждого города, построим гистограмму, затем вычислим соотношение пользователей с подпиской и без к этому количеству"
   ]
  },
  {
   "cell_type": "code",
   "execution_count": 20,
   "id": "2e5bf52d-fd33-461a-8fba-e817ddf27782",
   "metadata": {},
   "outputs": [
    {
     "data": {
      "image/png": "[encoded data removed]",
      "text/plain": [
       "<Figure size 432x288 with 1 Axes>"
      ]
     },
     "metadata": {
      "needs_background": "light"
     },
     "output_type": "display_data"
    }
   ],
   "source": [
    "data_group_city['subs_coef'] = round(data_group_city['user_id'] / data_group_city['total_users'], 3)\n",
    "data_group_city.query('subscription_type == \"free\"').sort_values('total_users', ascending = True).plot(kind = 'bar', y = 'total_users', title = 'Total users')\n",
    "None"
   ]
  },
  {
   "cell_type": "markdown",
   "id": "06edb85d-b05f-4afe-942d-1a3c4e532d2e",
   "metadata": {},
   "source": [
    "Несложно заметить, что больше всего пользователей в Пятигорске и меньше всего в Москве. Пока не понятно, почему получились именно такие наблюдения"
   ]
  },
  {
   "cell_type": "code",
   "execution_count": 21,
   "id": "f52d76d7-0998-4937-8ff1-252c7a408df8",
   "metadata": {},
   "outputs": [
    {
     "data": {
      "image/png": "[encoded data removed]",
      "text/plain": [
       "<Figure size 432x288 with 1 Axes>"
      ]
     },
     "metadata": {
      "needs_background": "light"
     },
     "output_type": "display_data"
    },
    {
     "data": {
      "image/png": "[encoded data removed]",
      "text/plain": [
       "<Figure size 432x288 with 1 Axes>"
      ]
     },
     "metadata": {
      "needs_background": "light"
     },
     "output_type": "display_data"
    }
   ],
   "source": [
    "data_group_city.query('subscription_type == \"free\"').sort_values('subs_coef', ascending = True).plot(kind = 'bar', y = 'subs_coef', title = 'Subscription rate')\n",
    "plt.show()\n",
    "data_group_city.query('subscription_type == \"ultra\"').sort_values('subs_coef', ascending = True).plot(kind = 'bar', y = 'subs_coef', title = 'Subscription rate')\n",
    "plt.show()"
   ]
  },
  {
   "cell_type": "markdown",
   "id": "3842f51e-b876-4489-95f9-2bb1b9bee2a3",
   "metadata": {},
   "source": [
    "Как видно, меньше всего пользователей без подписки в Москве, но больше всего в Краснодаре. Возможно это связано с уровнем зарплат, в Москве уровень должен быть выше чем на Юге.\n",
    "Что касательно людей с подпиской, мы получаем очевидную зеркальную ситуацию, о которой можно сделать те же выводы что и с соотношением пользователей без подписки"
   ]
  },
  {
   "cell_type": "markdown",
   "id": "ec4f33ee",
   "metadata": {},
   "source": [
    "<div class=\"alert alert-success\">\n",
    "<font size=\"4\", color= \"seagreen\"><b>✔️ Комментарий ревьюера</b></font>\n",
    "    <br /> \n",
    "    <font size=\"3\", color = \"black\">\n",
    "<br />Интересное наблюдение, молодец"
   ]
  },
  {
   "cell_type": "markdown",
   "id": "fc53dcc5-8622-4a9b-aa54-1282e0f07a98",
   "metadata": {},
   "source": [
    "Построим круговую диаграмму для лучше визуализации общего количества пользователей с подпиской и без"
   ]
  },
  {
   "cell_type": "code",
   "execution_count": 22,
   "id": "d0435901-acb1-477d-a92f-bfa99b964dc5",
   "metadata": {},
   "outputs": [
    {
     "data": {
      "image/png": "[encoded data removed]",
      "text/plain": [
       "<Figure size 432x288 with 1 Axes>"
      ]
     },
     "metadata": {},
     "output_type": "display_data"
    },
    {
     "name": "stdout",
     "output_type": "stream",
     "text": [
      "Ratio subscribers to non-subscribers: 0.837\n"
     ]
    }
   ],
   "source": [
    "user_data.groupby('subscription_type')['user_id'].count().plot(kind = 'pie', autopct = '%1.0f%%', ylabel = '')\n",
    "plt.title('The ratio of subscribers to non-subscribers')\n",
    "plt.show()\n",
    "coef_subs_to_no_subs = round(user_data.query('subscription_type == \"ultra\"')['subscription_type'].count() / user_data.query('subscription_type == \"free\"')['subscription_type'].count(), 3)\n",
    "print(f'Ratio subscribers to non-subscribers: {coef_subs_to_no_subs}')"
   ]
  },
  {
   "cell_type": "markdown",
   "id": "5c008a74-b0d5-4284-9381-55d976863b18",
   "metadata": {},
   "source": [
    "Как видно по соотношению, подписчиков меньше чем обычных бесплатных пользователей"
   ]
  },
  {
   "cell_type": "markdown",
   "id": "155ff230-5aaf-4594-93fa-1fe7340052f1",
   "metadata": {},
   "source": [
    "##### Возраст пользователей"
   ]
  },
  {
   "cell_type": "markdown",
   "id": "c63dad75-195b-4e78-a661-212eb7f8ebb2",
   "metadata": {},
   "source": [
    "Сгруппируем данные по возрасту и будем записывать количество встреченных значений с таким возрастом"
   ]
  },
  {
   "cell_type": "code",
   "execution_count": 23,
   "id": "21cb6789-629a-49e5-a6d3-82a023f3f886",
   "metadata": {},
   "outputs": [
    {
     "data": {
      "image/png": "[encoded data removed]",
      "text/plain": [
       "<Figure size 432x288 with 1 Axes>"
      ]
     },
     "metadata": {
      "needs_background": "light"
     },
     "output_type": "display_data"
    },
    {
     "data": {
      "text/plain": [
       "count    1534.000000\n",
       "mean       24.903520\n",
       "std         4.572367\n",
       "min        12.000000\n",
       "25%        22.000000\n",
       "50%        25.000000\n",
       "75%        28.000000\n",
       "max        43.000000\n",
       "Name: age, dtype: float64"
      ]
     },
     "metadata": {},
     "output_type": "display_data"
    },
    {
     "name": "stdout",
     "output_type": "stream",
     "text": [
      "Межквартильный размах: 6.0\n"
     ]
    }
   ],
   "source": [
    "user_data['age'].hist(bins = 32)\n",
    "plt.title('Age distribution')\n",
    "plt.ylabel('Frequency')\n",
    "plt.xlabel('Age')\n",
    "plt.show()\n",
    "display(user_data['age'].describe())\n",
    "print('Межквартильный размах:', st.iqr(user_data['age']))"
   ]
  },
  {
   "cell_type": "markdown",
   "id": "0362700a-6470-4337-a9aa-7e39daca4c50",
   "metadata": {},
   "source": [
    "Здесь можно заметить, что распределение является нормальным, так как мало пользователей малого возраста и так же мало пользователей бОльшего возраста. Вот некоторые факты:\n",
    "- Средний возраст пользователя - 25 лет\n",
    "- Минимальный возраст - 12 лет\n",
    "- Максимальный возраст - 43 года\n",
    "- Исходя из значения межквратильного размаха, можно сказать, что около 50% пользователей от 22 до 28 лет(Q1 - Q3)\n",
    "- Q1 = 22 года\n",
    "- Q2 = 25 лет\n",
    "- Q3 = 28 лет"
   ]
  },
  {
   "cell_type": "markdown",
   "id": "d9db852a-e3ed-4d0c-83b3-e294a81223ea",
   "metadata": {},
   "source": [
    "#### Расстояние, которое пользователь преодолел за одну поездку и продолжительность поездки"
   ]
  },
  {
   "cell_type": "markdown",
   "id": "e1da64f1-a643-4f54-81bc-a886027af586",
   "metadata": {},
   "source": [
    "Построим гистограммы для столбцов продолжительности и расстояния поездки"
   ]
  },
  {
   "cell_type": "code",
   "execution_count": 24,
   "id": "d3c3a9e6-d8ab-4cf6-9ca2-dbfae02774cd",
   "metadata": {},
   "outputs": [
    {
     "data": {
      "image/png": "[encoded data removed]",
      "text/plain": [
       "<Figure size 432x288 with 1 Axes>"
      ]
     },
     "metadata": {
      "needs_background": "light"
     },
     "output_type": "display_data"
    },
    {
     "data": {
      "image/png": "[encoded data removed]",
      "text/plain": [
       "<Figure size 432x288 with 1 Axes>"
      ]
     },
     "metadata": {
      "needs_background": "light"
     },
     "output_type": "display_data"
    },
    {
     "data": {
      "text/html": [
       "<div>\n",
       "<style scoped>\n",
       "    .dataframe tbody tr th:only-of-type {\n",
       "        vertical-align: middle;\n",
       "    }\n",
       "\n",
       "    .dataframe tbody tr th {\n",
       "        vertical-align: top;\n",
       "    }\n",
       "\n",
       "    .dataframe thead th {\n",
       "        text-align: right;\n",
       "    }\n",
       "</style>\n",
       "<table border=\"1\" class=\"dataframe\">\n",
       "  <thead>\n",
       "    <tr style=\"text-align: right;\">\n",
       "      <th></th>\n",
       "      <th>user_id</th>\n",
       "      <th>distance</th>\n",
       "      <th>duration</th>\n",
       "      <th>month</th>\n",
       "    </tr>\n",
       "  </thead>\n",
       "  <tbody>\n",
       "    <tr>\n",
       "      <th>count</th>\n",
       "      <td>18068.000000</td>\n",
       "      <td>18068.000000</td>\n",
       "      <td>18068.000000</td>\n",
       "      <td>18068.000000</td>\n",
       "    </tr>\n",
       "    <tr>\n",
       "      <th>mean</th>\n",
       "      <td>842.869936</td>\n",
       "      <td>3070.659976</td>\n",
       "      <td>17.805011</td>\n",
       "      <td>6.486772</td>\n",
       "    </tr>\n",
       "    <tr>\n",
       "      <th>std</th>\n",
       "      <td>434.734317</td>\n",
       "      <td>1116.831209</td>\n",
       "      <td>6.091051</td>\n",
       "      <td>3.437410</td>\n",
       "    </tr>\n",
       "    <tr>\n",
       "      <th>min</th>\n",
       "      <td>1.000000</td>\n",
       "      <td>0.855683</td>\n",
       "      <td>0.500000</td>\n",
       "      <td>1.000000</td>\n",
       "    </tr>\n",
       "    <tr>\n",
       "      <th>25%</th>\n",
       "      <td>487.000000</td>\n",
       "      <td>2543.226360</td>\n",
       "      <td>13.597563</td>\n",
       "      <td>4.000000</td>\n",
       "    </tr>\n",
       "    <tr>\n",
       "      <th>50%</th>\n",
       "      <td>889.000000</td>\n",
       "      <td>3133.609994</td>\n",
       "      <td>17.678395</td>\n",
       "      <td>6.000000</td>\n",
       "    </tr>\n",
       "    <tr>\n",
       "      <th>75%</th>\n",
       "      <td>1213.250000</td>\n",
       "      <td>3776.222735</td>\n",
       "      <td>21.724800</td>\n",
       "      <td>9.000000</td>\n",
       "    </tr>\n",
       "    <tr>\n",
       "      <th>max</th>\n",
       "      <td>1534.000000</td>\n",
       "      <td>7211.007745</td>\n",
       "      <td>40.823963</td>\n",
       "      <td>12.000000</td>\n",
       "    </tr>\n",
       "  </tbody>\n",
       "</table>\n",
       "</div>"
      ],
      "text/plain": [
       "            user_id      distance      duration         month\n",
       "count  18068.000000  18068.000000  18068.000000  18068.000000\n",
       "mean     842.869936   3070.659976     17.805011      6.486772\n",
       "std      434.734317   1116.831209      6.091051      3.437410\n",
       "min        1.000000      0.855683      0.500000      1.000000\n",
       "25%      487.000000   2543.226360     13.597563      4.000000\n",
       "50%      889.000000   3133.609994     17.678395      6.000000\n",
       "75%     1213.250000   3776.222735     21.724800      9.000000\n",
       "max     1534.000000   7211.007745     40.823963     12.000000"
      ]
     },
     "execution_count": 24,
     "metadata": {},
     "output_type": "execute_result"
    }
   ],
   "source": [
    "rides_data['distance'].hist(bins = 50, grid = True)\n",
    "plt.title('Distance distribution')\n",
    "plt.xlabel(\"Metres\")\n",
    "plt.ylabel(\"Frequency\")\n",
    "plt.show()\n",
    "rides_data['duration'].hist(bins = 50, grid = True)\n",
    "plt.title('Duration distribution')\n",
    "plt.xlabel(\"Minutes\")\n",
    "plt.ylabel(\"Frequency\")\n",
    "plt.show()\n",
    "rides_data.describe()"
   ]
  },
  {
   "cell_type": "markdown",
   "id": "6d2ee969-9f0a-417d-9777-90be27c68961",
   "metadata": {},
   "source": [
    "По гистограмме расстояния можно заметить два локальных максимума, в районе +-600 метров и 3000 метров, распределение близко к нормальному, но два данных пиковых значения показывают о том, что чаще всего люди берут самокаты чтобы преодолеть именно такие расстония. \\\n",
    "По гистограмме длительности можно заметить, что наблюдается аномально низкое значение минимума, а именно 0.5 минут, стоит рассмотреть расстояния, которые были пройдены за данные промежутки времени(< 1 минуты), если расстояния также будут малы, то все в порядке, данные не стоит удалять"
   ]
  },
  {
   "cell_type": "code",
   "execution_count": 25,
   "id": "25815d6f-7e6c-4d15-af4f-bbe7b3751fe1",
   "metadata": {},
   "outputs": [
    {
     "data": {
      "text/html": [
       "<div>\n",
       "<style scoped>\n",
       "    .dataframe tbody tr th:only-of-type {\n",
       "        vertical-align: middle;\n",
       "    }\n",
       "\n",
       "    .dataframe tbody tr th {\n",
       "        vertical-align: top;\n",
       "    }\n",
       "\n",
       "    .dataframe thead th {\n",
       "        text-align: right;\n",
       "    }\n",
       "</style>\n",
       "<table border=\"1\" class=\"dataframe\">\n",
       "  <thead>\n",
       "    <tr style=\"text-align: right;\">\n",
       "      <th></th>\n",
       "      <th>user_id</th>\n",
       "      <th>distance</th>\n",
       "      <th>duration</th>\n",
       "      <th>month</th>\n",
       "    </tr>\n",
       "  </thead>\n",
       "  <tbody>\n",
       "    <tr>\n",
       "      <th>count</th>\n",
       "      <td>95.000000</td>\n",
       "      <td>95.000000</td>\n",
       "      <td>95.0</td>\n",
       "      <td>95.000000</td>\n",
       "    </tr>\n",
       "    <tr>\n",
       "      <th>mean</th>\n",
       "      <td>1092.210526</td>\n",
       "      <td>5113.176549</td>\n",
       "      <td>0.5</td>\n",
       "      <td>6.484211</td>\n",
       "    </tr>\n",
       "    <tr>\n",
       "      <th>std</th>\n",
       "      <td>244.028551</td>\n",
       "      <td>658.254104</td>\n",
       "      <td>0.0</td>\n",
       "      <td>3.709858</td>\n",
       "    </tr>\n",
       "    <tr>\n",
       "      <th>min</th>\n",
       "      <td>701.000000</td>\n",
       "      <td>4030.308008</td>\n",
       "      <td>0.5</td>\n",
       "      <td>1.000000</td>\n",
       "    </tr>\n",
       "    <tr>\n",
       "      <th>25%</th>\n",
       "      <td>901.000000</td>\n",
       "      <td>4611.510820</td>\n",
       "      <td>0.5</td>\n",
       "      <td>3.000000</td>\n",
       "    </tr>\n",
       "    <tr>\n",
       "      <th>50%</th>\n",
       "      <td>1069.000000</td>\n",
       "      <td>5052.769411</td>\n",
       "      <td>0.5</td>\n",
       "      <td>6.000000</td>\n",
       "    </tr>\n",
       "    <tr>\n",
       "      <th>75%</th>\n",
       "      <td>1310.500000</td>\n",
       "      <td>5488.459099</td>\n",
       "      <td>0.5</td>\n",
       "      <td>10.000000</td>\n",
       "    </tr>\n",
       "    <tr>\n",
       "      <th>max</th>\n",
       "      <td>1524.000000</td>\n",
       "      <td>7211.007745</td>\n",
       "      <td>0.5</td>\n",
       "      <td>12.000000</td>\n",
       "    </tr>\n",
       "  </tbody>\n",
       "</table>\n",
       "</div>"
      ],
      "text/plain": [
       "           user_id     distance  duration      month\n",
       "count    95.000000    95.000000      95.0  95.000000\n",
       "mean   1092.210526  5113.176549       0.5   6.484211\n",
       "std     244.028551   658.254104       0.0   3.709858\n",
       "min     701.000000  4030.308008       0.5   1.000000\n",
       "25%     901.000000  4611.510820       0.5   3.000000\n",
       "50%    1069.000000  5052.769411       0.5   6.000000\n",
       "75%    1310.500000  5488.459099       0.5  10.000000\n",
       "max    1524.000000  7211.007745       0.5  12.000000"
      ]
     },
     "execution_count": 25,
     "metadata": {},
     "output_type": "execute_result"
    }
   ],
   "source": [
    "duration_check = rides_data.query('duration < 1')\n",
    "duration_check.describe()"
   ]
  },
  {
   "cell_type": "markdown",
   "id": "8bb0cd72-a035-4989-b53b-e6889940db41",
   "metadata": {},
   "source": [
    "Мы наблюдаем явные выбросы, невозможно проехать даже 4000 метров за пол-секунды, потому такие данные следует отбросить и не учитывать в анализе. Но для начала убедимся в том, что количество таких поездок невелико"
   ]
  },
  {
   "cell_type": "markdown",
   "id": "ab567892",
   "metadata": {},
   "source": [
    "<div class=\"alert alert-warning\", style=\"border:solid coral 3px; padding: 20px\">\n",
    "<font size=\"4\", color = \"DimGrey\"><b>⚠️ Комментарий ревьюера в2</b></font>\n",
    "    <br /> \n",
    "    <font size=\"3\", color = \"black\">\n",
    "<br />Может сбоить модуль определения расстояния "
   ]
  },
  {
   "cell_type": "code",
   "execution_count": 26,
   "id": "682e7a4c-2ad0-429d-90b7-260c7ec1f485",
   "metadata": {},
   "outputs": [
    {
     "name": "stdout",
     "output_type": "stream",
     "text": [
      "Соотношение аномальных поездок к общему числу: 0.005\n"
     ]
    }
   ],
   "source": [
    "anomal_rides_coef = round(duration_check.shape[0] / rides_data.shape[0], 3)\n",
    "print(f'Соотношение аномальных поездок к общему числу: {anomal_rides_coef}')"
   ]
  },
  {
   "cell_type": "markdown",
   "id": "d5ac54aa-02bd-4ce6-8bbe-495f79a9a26e",
   "metadata": {},
   "source": [
    "Как видно, количество таких поездок очень мало, потому смело отсекаем эти данные. Затем перестроим гистограмму распределения"
   ]
  },
  {
   "cell_type": "code",
   "execution_count": 27,
   "id": "cd481605-61c9-439a-a1d6-bc9e3571ac5e",
   "metadata": {},
   "outputs": [
    {
     "data": {
      "image/png": "[encoded data removed]",
      "text/plain": [
       "<Figure size 432x288 with 1 Axes>"
      ]
     },
     "metadata": {
      "needs_background": "light"
     },
     "output_type": "display_data"
    },
    {
     "data": {
      "text/html": [
       "<div>\n",
       "<style scoped>\n",
       "    .dataframe tbody tr th:only-of-type {\n",
       "        vertical-align: middle;\n",
       "    }\n",
       "\n",
       "    .dataframe tbody tr th {\n",
       "        vertical-align: top;\n",
       "    }\n",
       "\n",
       "    .dataframe thead th {\n",
       "        text-align: right;\n",
       "    }\n",
       "</style>\n",
       "<table border=\"1\" class=\"dataframe\">\n",
       "  <thead>\n",
       "    <tr style=\"text-align: right;\">\n",
       "      <th></th>\n",
       "      <th>user_id</th>\n",
       "      <th>distance</th>\n",
       "      <th>duration</th>\n",
       "      <th>month</th>\n",
       "    </tr>\n",
       "  </thead>\n",
       "  <tbody>\n",
       "    <tr>\n",
       "      <th>count</th>\n",
       "      <td>17973.000000</td>\n",
       "      <td>17973.000000</td>\n",
       "      <td>17973.000000</td>\n",
       "      <td>17973.000000</td>\n",
       "    </tr>\n",
       "    <tr>\n",
       "      <th>mean</th>\n",
       "      <td>841.551995</td>\n",
       "      <td>3059.863833</td>\n",
       "      <td>17.896480</td>\n",
       "      <td>6.486786</td>\n",
       "    </tr>\n",
       "    <tr>\n",
       "      <th>std</th>\n",
       "      <td>435.144929</td>\n",
       "      <td>1108.814612</td>\n",
       "      <td>5.975424</td>\n",
       "      <td>3.436024</td>\n",
       "    </tr>\n",
       "    <tr>\n",
       "      <th>min</th>\n",
       "      <td>1.000000</td>\n",
       "      <td>0.855683</td>\n",
       "      <td>2.035632</td>\n",
       "      <td>1.000000</td>\n",
       "    </tr>\n",
       "    <tr>\n",
       "      <th>25%</th>\n",
       "      <td>484.000000</td>\n",
       "      <td>2538.839628</td>\n",
       "      <td>13.670439</td>\n",
       "      <td>4.000000</td>\n",
       "    </tr>\n",
       "    <tr>\n",
       "      <th>50%</th>\n",
       "      <td>887.000000</td>\n",
       "      <td>3129.029255</td>\n",
       "      <td>17.714122</td>\n",
       "      <td>6.000000</td>\n",
       "    </tr>\n",
       "    <tr>\n",
       "      <th>75%</th>\n",
       "      <td>1213.000000</td>\n",
       "      <td>3762.636244</td>\n",
       "      <td>21.747016</td>\n",
       "      <td>9.000000</td>\n",
       "    </tr>\n",
       "    <tr>\n",
       "      <th>max</th>\n",
       "      <td>1534.000000</td>\n",
       "      <td>7066.003772</td>\n",
       "      <td>40.823963</td>\n",
       "      <td>12.000000</td>\n",
       "    </tr>\n",
       "  </tbody>\n",
       "</table>\n",
       "</div>"
      ],
      "text/plain": [
       "            user_id      distance      duration         month\n",
       "count  17973.000000  17973.000000  17973.000000  17973.000000\n",
       "mean     841.551995   3059.863833     17.896480      6.486786\n",
       "std      435.144929   1108.814612      5.975424      3.436024\n",
       "min        1.000000      0.855683      2.035632      1.000000\n",
       "25%      484.000000   2538.839628     13.670439      4.000000\n",
       "50%      887.000000   3129.029255     17.714122      6.000000\n",
       "75%     1213.000000   3762.636244     21.747016      9.000000\n",
       "max     1534.000000   7066.003772     40.823963     12.000000"
      ]
     },
     "execution_count": 27,
     "metadata": {},
     "output_type": "execute_result"
    }
   ],
   "source": [
    "rides_data = rides_data.query('duration >= 1')\n",
    "rides_data['duration'].hist(bins = 50, grid = True)\n",
    "plt.title('Duration distribution')\n",
    "plt.xlabel(\"Minutes\")\n",
    "plt.ylabel(\"Frequency\")\n",
    "plt.show()\n",
    "rides_data.describe()"
   ]
  },
  {
   "cell_type": "markdown",
   "id": "2fbc6661-287c-4b47-a80b-55c57d427ed6",
   "metadata": {},
   "source": [
    "Стоит рассмотреть поездки, где было расстояние за поездку было меньше 1 метра, это тоже могут быть вполне аномальные значения"
   ]
  },
  {
   "cell_type": "code",
   "execution_count": 28,
   "id": "9e1c27f6-af91-47fd-bc0d-cd37d50cfb73",
   "metadata": {},
   "outputs": [
    {
     "data": {
      "text/html": [
       "<div>\n",
       "<style scoped>\n",
       "    .dataframe tbody tr th:only-of-type {\n",
       "        vertical-align: middle;\n",
       "    }\n",
       "\n",
       "    .dataframe tbody tr th {\n",
       "        vertical-align: top;\n",
       "    }\n",
       "\n",
       "    .dataframe thead th {\n",
       "        text-align: right;\n",
       "    }\n",
       "</style>\n",
       "<table border=\"1\" class=\"dataframe\">\n",
       "  <thead>\n",
       "    <tr style=\"text-align: right;\">\n",
       "      <th></th>\n",
       "      <th>user_id</th>\n",
       "      <th>distance</th>\n",
       "      <th>duration</th>\n",
       "      <th>date</th>\n",
       "      <th>month</th>\n",
       "    </tr>\n",
       "  </thead>\n",
       "  <tbody>\n",
       "    <tr>\n",
       "      <th>11555</th>\n",
       "      <td>1069</td>\n",
       "      <td>0.855683</td>\n",
       "      <td>10.001902</td>\n",
       "      <td>2021-01-31</td>\n",
       "      <td>1</td>\n",
       "    </tr>\n",
       "  </tbody>\n",
       "</table>\n",
       "</div>"
      ],
      "text/plain": [
       "       user_id  distance   duration       date  month\n",
       "11555     1069  0.855683  10.001902 2021-01-31      1"
      ]
     },
     "execution_count": 28,
     "metadata": {},
     "output_type": "execute_result"
    }
   ],
   "source": [
    "distance_check = rides_data.query('distance < 1')\n",
    "distance_check"
   ]
  },
  {
   "cell_type": "markdown",
   "id": "b89186c7-c9c4-476e-9058-c7d2a71a0c29",
   "metadata": {},
   "source": [
    "В приниципе был найден всего лишь один пользователь с такими данными, я думаю вполне реально взять самокат и передумать, потому его удалять не будем"
   ]
  },
  {
   "cell_type": "code",
   "execution_count": 29,
   "id": "af0f6e25-c7d3-41fe-b37c-a10da44b3c25",
   "metadata": {},
   "outputs": [
    {
     "data": {
      "text/html": [
       "<div>\n",
       "<style scoped>\n",
       "    .dataframe tbody tr th:only-of-type {\n",
       "        vertical-align: middle;\n",
       "    }\n",
       "\n",
       "    .dataframe tbody tr th {\n",
       "        vertical-align: top;\n",
       "    }\n",
       "\n",
       "    .dataframe thead th {\n",
       "        text-align: right;\n",
       "    }\n",
       "</style>\n",
       "<table border=\"1\" class=\"dataframe\">\n",
       "  <thead>\n",
       "    <tr style=\"text-align: right;\">\n",
       "      <th></th>\n",
       "      <th>user_id</th>\n",
       "      <th>distance</th>\n",
       "      <th>duration</th>\n",
       "      <th>month</th>\n",
       "    </tr>\n",
       "  </thead>\n",
       "  <tbody>\n",
       "    <tr>\n",
       "      <th>count</th>\n",
       "      <td>17973.000000</td>\n",
       "      <td>17973.000000</td>\n",
       "      <td>17973.000000</td>\n",
       "      <td>17973.000000</td>\n",
       "    </tr>\n",
       "    <tr>\n",
       "      <th>mean</th>\n",
       "      <td>841.551995</td>\n",
       "      <td>3059.863833</td>\n",
       "      <td>17.896480</td>\n",
       "      <td>6.486786</td>\n",
       "    </tr>\n",
       "    <tr>\n",
       "      <th>std</th>\n",
       "      <td>435.144929</td>\n",
       "      <td>1108.814612</td>\n",
       "      <td>5.975424</td>\n",
       "      <td>3.436024</td>\n",
       "    </tr>\n",
       "    <tr>\n",
       "      <th>min</th>\n",
       "      <td>1.000000</td>\n",
       "      <td>0.855683</td>\n",
       "      <td>2.035632</td>\n",
       "      <td>1.000000</td>\n",
       "    </tr>\n",
       "    <tr>\n",
       "      <th>25%</th>\n",
       "      <td>484.000000</td>\n",
       "      <td>2538.839628</td>\n",
       "      <td>13.670439</td>\n",
       "      <td>4.000000</td>\n",
       "    </tr>\n",
       "    <tr>\n",
       "      <th>50%</th>\n",
       "      <td>887.000000</td>\n",
       "      <td>3129.029255</td>\n",
       "      <td>17.714122</td>\n",
       "      <td>6.000000</td>\n",
       "    </tr>\n",
       "    <tr>\n",
       "      <th>75%</th>\n",
       "      <td>1213.000000</td>\n",
       "      <td>3762.636244</td>\n",
       "      <td>21.747016</td>\n",
       "      <td>9.000000</td>\n",
       "    </tr>\n",
       "    <tr>\n",
       "      <th>max</th>\n",
       "      <td>1534.000000</td>\n",
       "      <td>7066.003772</td>\n",
       "      <td>40.823963</td>\n",
       "      <td>12.000000</td>\n",
       "    </tr>\n",
       "  </tbody>\n",
       "</table>\n",
       "</div>"
      ],
      "text/plain": [
       "            user_id      distance      duration         month\n",
       "count  17973.000000  17973.000000  17973.000000  17973.000000\n",
       "mean     841.551995   3059.863833     17.896480      6.486786\n",
       "std      435.144929   1108.814612      5.975424      3.436024\n",
       "min        1.000000      0.855683      2.035632      1.000000\n",
       "25%      484.000000   2538.839628     13.670439      4.000000\n",
       "50%      887.000000   3129.029255     17.714122      6.000000\n",
       "75%     1213.000000   3762.636244     21.747016      9.000000\n",
       "max     1534.000000   7066.003772     40.823963     12.000000"
      ]
     },
     "execution_count": 29,
     "metadata": {},
     "output_type": "execute_result"
    }
   ],
   "source": [
    "rides_data.describe()"
   ]
  },
  {
   "cell_type": "markdown",
   "id": "5f66bdc1-a90f-43ec-afde-42368bc107f9",
   "metadata": {},
   "source": [
    "В принципе графики здесь не обязательны, так как при помощи метода `describe` мы можем получить данные по генеральной совокупности, а именно следует выделить несколько фактов:\n",
    "- Минимальная дистанция - <1 метра\n",
    "- Средняя дистанция - 3060 метров\n",
    "- Максимальная 7066 метров\n",
    "- Самая короткая поездка - 2 минуты\n",
    "- Средняя продолжительность поездки - 18 минут\n",
    "- Самая долгая поездка - 40 минут"
   ]
  },
  {
   "cell_type": "code",
   "execution_count": 30,
   "id": "9c6a7364-12a8-49b6-80b9-ee44d9184ff1",
   "metadata": {},
   "outputs": [
    {
     "data": {
      "image/png": "[encoded data removed]",
      "text/plain": [
       "<Figure size 432x288 with 1 Axes>"
      ]
     },
     "metadata": {
      "needs_background": "light"
     },
     "output_type": "display_data"
    },
    {
     "data": {
      "text/plain": [
       "count    17973.000000\n",
       "mean      3059.863833\n",
       "std       1108.814612\n",
       "min          0.855683\n",
       "25%       2538.839628\n",
       "50%       3129.029255\n",
       "75%       3762.636244\n",
       "max       7066.003772\n",
       "Name: distance, dtype: float64"
      ]
     },
     "metadata": {},
     "output_type": "display_data"
    },
    {
     "name": "stdout",
     "output_type": "stream",
     "text": [
      "Межквартильный размах:  1223.796616612975\n"
     ]
    }
   ],
   "source": [
    "rides_data['distance'].plot.box()\n",
    "plt.show()\n",
    "display(rides_data['distance'].describe())\n",
    "print('Межквартильный размах: ', st.iqr(rides_data['distance']))"
   ]
  },
  {
   "cell_type": "markdown",
   "id": "c03acc75-734b-4da4-8ff4-d856d9d68ce2",
   "metadata": {},
   "source": [
    "Из диаграммы ящика с усами можно сделать следующие выводы:\n",
    "- Q1 = 2538 м\n",
    "- Q2 = 3129 м\n",
    "- Q3 = 3763 м\n",
    "- Межквартильный размах ~ 1223.8. Следовательно 50% процентов поездок были от 2538 до 3763 метров\n",
    "- При этом мы наблюдаем значения, похожие на выбросы, следует рассмотреть эти значения отдельно, то есть рассмотрим значения, < Q1 и > 1,5 * Q3"
   ]
  },
  {
   "cell_type": "code",
   "execution_count": 31,
   "id": "1161d551-8df5-489c-8a96-05f7fccac23a",
   "metadata": {},
   "outputs": [
    {
     "data": {
      "text/html": [
       "<div>\n",
       "<style scoped>\n",
       "    .dataframe tbody tr th:only-of-type {\n",
       "        vertical-align: middle;\n",
       "    }\n",
       "\n",
       "    .dataframe tbody tr th {\n",
       "        vertical-align: top;\n",
       "    }\n",
       "\n",
       "    .dataframe thead th {\n",
       "        text-align: right;\n",
       "    }\n",
       "</style>\n",
       "<table border=\"1\" class=\"dataframe\">\n",
       "  <thead>\n",
       "    <tr style=\"text-align: right;\">\n",
       "      <th></th>\n",
       "      <th>user_id</th>\n",
       "      <th>distance</th>\n",
       "      <th>duration</th>\n",
       "      <th>month</th>\n",
       "    </tr>\n",
       "  </thead>\n",
       "  <tbody>\n",
       "    <tr>\n",
       "      <th>count</th>\n",
       "      <td>1927.000000</td>\n",
       "      <td>1927.000000</td>\n",
       "      <td>1927.000000</td>\n",
       "      <td>1927.000000</td>\n",
       "    </tr>\n",
       "    <tr>\n",
       "      <th>mean</th>\n",
       "      <td>931.320187</td>\n",
       "      <td>764.612102</td>\n",
       "      <td>10.389271</td>\n",
       "      <td>6.544888</td>\n",
       "    </tr>\n",
       "    <tr>\n",
       "      <th>std</th>\n",
       "      <td>410.731787</td>\n",
       "      <td>421.020341</td>\n",
       "      <td>4.037306</td>\n",
       "      <td>3.518669</td>\n",
       "    </tr>\n",
       "    <tr>\n",
       "      <th>min</th>\n",
       "      <td>1.000000</td>\n",
       "      <td>0.855683</td>\n",
       "      <td>2.035632</td>\n",
       "      <td>1.000000</td>\n",
       "    </tr>\n",
       "    <tr>\n",
       "      <th>25%</th>\n",
       "      <td>684.500000</td>\n",
       "      <td>432.365599</td>\n",
       "      <td>7.078852</td>\n",
       "      <td>3.000000</td>\n",
       "    </tr>\n",
       "    <tr>\n",
       "      <th>50%</th>\n",
       "      <td>990.000000</td>\n",
       "      <td>721.425629</td>\n",
       "      <td>10.342655</td>\n",
       "      <td>7.000000</td>\n",
       "    </tr>\n",
       "    <tr>\n",
       "      <th>75%</th>\n",
       "      <td>1260.500000</td>\n",
       "      <td>1058.109896</td>\n",
       "      <td>13.654649</td>\n",
       "      <td>10.000000</td>\n",
       "    </tr>\n",
       "    <tr>\n",
       "      <th>max</th>\n",
       "      <td>1534.000000</td>\n",
       "      <td>1689.940211</td>\n",
       "      <td>22.368556</td>\n",
       "      <td>12.000000</td>\n",
       "    </tr>\n",
       "  </tbody>\n",
       "</table>\n",
       "</div>"
      ],
      "text/plain": [
       "           user_id     distance     duration        month\n",
       "count  1927.000000  1927.000000  1927.000000  1927.000000\n",
       "mean    931.320187   764.612102    10.389271     6.544888\n",
       "std     410.731787   421.020341     4.037306     3.518669\n",
       "min       1.000000     0.855683     2.035632     1.000000\n",
       "25%     684.500000   432.365599     7.078852     3.000000\n",
       "50%     990.000000   721.425629    10.342655     7.000000\n",
       "75%    1260.500000  1058.109896    13.654649    10.000000\n",
       "max    1534.000000  1689.940211    22.368556    12.000000"
      ]
     },
     "metadata": {},
     "output_type": "display_data"
    },
    {
     "name": "stdout",
     "output_type": "stream",
     "text": [
      "1927\n"
     ]
    }
   ],
   "source": [
    "lower_bound = rides_data['distance'].quantile(0.25) / 1.5\n",
    "rides_less_release =  rides_data.query('distance < @lower_bound')\n",
    "display(rides_less_release.describe())\n",
    "print(rides_less_release.shape[0])"
   ]
  },
  {
   "cell_type": "markdown",
   "id": "6ca8ef5d-8e2f-4982-95ed-8bf959688d38",
   "metadata": {},
   "source": [
    "Не думаю, что стоит удалять эти данные, это просто короткие поездки(причем 1927 поездок весьма достаточно), рассмотрим то, что больше Q3*1,5"
   ]
  },
  {
   "cell_type": "code",
   "execution_count": 32,
   "id": "1baf5a37-0937-4b44-a26d-2645183cb617",
   "metadata": {},
   "outputs": [
    {
     "data": {
      "text/html": [
       "<div>\n",
       "<style scoped>\n",
       "    .dataframe tbody tr th:only-of-type {\n",
       "        vertical-align: middle;\n",
       "    }\n",
       "\n",
       "    .dataframe tbody tr th {\n",
       "        vertical-align: top;\n",
       "    }\n",
       "\n",
       "    .dataframe thead th {\n",
       "        text-align: right;\n",
       "    }\n",
       "</style>\n",
       "<table border=\"1\" class=\"dataframe\">\n",
       "  <thead>\n",
       "    <tr style=\"text-align: right;\">\n",
       "      <th></th>\n",
       "      <th>user_id</th>\n",
       "      <th>distance</th>\n",
       "      <th>duration</th>\n",
       "      <th>month</th>\n",
       "    </tr>\n",
       "  </thead>\n",
       "  <tbody>\n",
       "    <tr>\n",
       "      <th>count</th>\n",
       "      <td>104.000000</td>\n",
       "      <td>104.000000</td>\n",
       "      <td>104.000000</td>\n",
       "      <td>104.000000</td>\n",
       "    </tr>\n",
       "    <tr>\n",
       "      <th>mean</th>\n",
       "      <td>1077.701923</td>\n",
       "      <td>5953.144700</td>\n",
       "      <td>24.703151</td>\n",
       "      <td>6.759615</td>\n",
       "    </tr>\n",
       "    <tr>\n",
       "      <th>std</th>\n",
       "      <td>243.125517</td>\n",
       "      <td>294.956989</td>\n",
       "      <td>4.990099</td>\n",
       "      <td>3.701207</td>\n",
       "    </tr>\n",
       "    <tr>\n",
       "      <th>min</th>\n",
       "      <td>677.000000</td>\n",
       "      <td>5646.898283</td>\n",
       "      <td>14.317149</td>\n",
       "      <td>1.000000</td>\n",
       "    </tr>\n",
       "    <tr>\n",
       "      <th>25%</th>\n",
       "      <td>866.250000</td>\n",
       "      <td>5730.522004</td>\n",
       "      <td>20.963379</td>\n",
       "      <td>4.000000</td>\n",
       "    </tr>\n",
       "    <tr>\n",
       "      <th>50%</th>\n",
       "      <td>1032.500000</td>\n",
       "      <td>5862.559396</td>\n",
       "      <td>24.880980</td>\n",
       "      <td>7.000000</td>\n",
       "    </tr>\n",
       "    <tr>\n",
       "      <th>75%</th>\n",
       "      <td>1303.750000</td>\n",
       "      <td>6062.329943</td>\n",
       "      <td>28.882945</td>\n",
       "      <td>10.000000</td>\n",
       "    </tr>\n",
       "    <tr>\n",
       "      <th>max</th>\n",
       "      <td>1517.000000</td>\n",
       "      <td>7066.003772</td>\n",
       "      <td>34.746502</td>\n",
       "      <td>12.000000</td>\n",
       "    </tr>\n",
       "  </tbody>\n",
       "</table>\n",
       "</div>"
      ],
      "text/plain": [
       "           user_id     distance    duration       month\n",
       "count   104.000000   104.000000  104.000000  104.000000\n",
       "mean   1077.701923  5953.144700   24.703151    6.759615\n",
       "std     243.125517   294.956989    4.990099    3.701207\n",
       "min     677.000000  5646.898283   14.317149    1.000000\n",
       "25%     866.250000  5730.522004   20.963379    4.000000\n",
       "50%    1032.500000  5862.559396   24.880980    7.000000\n",
       "75%    1303.750000  6062.329943   28.882945   10.000000\n",
       "max    1517.000000  7066.003772   34.746502   12.000000"
      ]
     },
     "metadata": {},
     "output_type": "display_data"
    },
    {
     "name": "stdout",
     "output_type": "stream",
     "text": [
      "104\n"
     ]
    }
   ],
   "source": [
    "upper_bound = rides_data['distance'].quantile(0.75) * 1.5\n",
    "rides_less_release =  rides_data.query('distance > @upper_bound')\n",
    "display(rides_less_release.describe())\n",
    "print(rides_less_release.shape[0])"
   ]
  },
  {
   "cell_type": "markdown",
   "id": "4c688b9e-3df7-4d38-98c7-a92e21b9b784",
   "metadata": {},
   "source": [
    "Здесь тоже не стоит удалять данные, они выглядят весьма правдоподобными, хоть и количество таких поездок всего 104"
   ]
  },
  {
   "cell_type": "markdown",
   "id": "1659d44d-8990-4e52-be01-94b2f15e4b94",
   "metadata": {},
   "source": [
    "##### Вывод по исследовательскому анализу"
   ]
  },
  {
   "cell_type": "markdown",
   "id": "790a3254-4850-480c-9d3d-15931307c3d6",
   "metadata": {},
   "source": [
    "- Меньше всего пользователей без подписки в Москве, но больше всего в Краснодаре. Возможно это связано с уровнем зарплат, в Москве уровень должен быть выше чем на Юге. Что касательно людей с подпиской, мы получаем очевидную зеркальную ситуацию, о которой можно сделать те же выводы что и с соотношением пользователей без подписки\n",
    "- Больше всего пользователей в Пятигорске и меньше всего в Москве\n",
    "- Соотношение подписчиков к обычным бесплатным пользователям: 0.837\n",
    "- Средний возраст пользователя - 25 лет\n",
    "- Минимальный возраст - 12 лет\n",
    "- Максимальный возраст - 43 года\n",
    "- Минимальная дистанция - <1 метра\n",
    "- Средняя дистанция - 3060 метров\n",
    "- Максимальная 7066 метров\n",
    "- Самая короткая поездка - 2 минуты\n",
    "- Средняя продолжительность поездки - 18 минут\n",
    "- Самая долгая поездка - 40 минут"
   ]
  },
  {
   "cell_type": "markdown",
   "id": "852eac97",
   "metadata": {},
   "source": [
    "<div class=\"alert alert-warning\", style=\"border:solid coral 3px; padding: 20px\">\n",
    "<font size=\"4\", color = \"DimGrey\"><b>⚠️ Комментарий ревьюера в2</b></font>\n",
    "    <br /> \n",
    "    <font size=\"3\", color = \"black\">\n",
    "<br /> Молодец, что отметил важную особенность выборки        \n",
    "        \n",
    "        Меньше всего пользователей без подписки в Москве, но больше всего в Краснодаре\n",
    "        \n",
    "Можно подсказать, что в Пятигорске на 30% больше пользователей чем в Москве \n",
    "        \n",
    "        219/168\n",
    "        \n",
    "и это вызывает вопросы для бизнеса, почему столь разные города имеют такую разницу и не в пользу Москвы    \n",
    "        \n"
   ]
  },
  {
   "cell_type": "markdown",
   "id": "4ef51331",
   "metadata": {},
   "source": [
    "#### Шаг 4. Объединение данных"
   ]
  },
  {
   "cell_type": "markdown",
   "id": "983945e8-b5f7-4de8-aeb0-1201c84fb291",
   "metadata": {},
   "source": [
    "Соединим все данные в одну таблицу при помощи метода `merge`"
   ]
  },
  {
   "cell_type": "code",
   "execution_count": 33,
   "id": "4f4f1af4-f4e6-4d7c-8092-ee5e484b42e2",
   "metadata": {},
   "outputs": [
    {
     "data": {
      "text/plain": [
       "(17973, 12)"
      ]
     },
     "metadata": {},
     "output_type": "display_data"
    },
    {
     "data": {
      "text/plain": [
       "user_id              0\n",
       "name                 0\n",
       "age                  0\n",
       "city                 0\n",
       "subscription_type    0\n",
       "distance             0\n",
       "duration             0\n",
       "date                 0\n",
       "month                0\n",
       "minute_price         0\n",
       "start_ride_price     0\n",
       "subscription_fee     0\n",
       "dtype: int64"
      ]
     },
     "metadata": {},
     "output_type": "display_data"
    }
   ],
   "source": [
    "all_data = user_data.merge(rides_data).merge(subs_data).drop_duplicates().reset_index(drop = True)\n",
    "if (all_data.shape != (rides_data.shape[0], rides_data.shape[1] + subs_data.shape[1] + user_data.shape[1] - 2)):\n",
    "    print(\"Ошибка при объединении таблиц!\")\n",
    "display(all_data.shape)\n",
    "display(all_data.isna().sum())"
   ]
  },
  {
   "cell_type": "markdown",
   "id": "358bc1b6-a1b3-415b-9bfa-d561b035e59b",
   "metadata": {},
   "source": [
    "Объединение произошло успешно, пропусков в данных не обнаружено"
   ]
  },
  {
   "cell_type": "markdown",
   "id": "80ac089b",
   "metadata": {},
   "source": [
    "<div class=\"alert alert-success\">\n",
    "<font size=\"4\", color= \"seagreen\"><b>✔️ Комментарий ревьюера</b></font>\n",
    "    <br /> \n",
    "    <font size=\"3\", color = \"black\">\n",
    "<br /> Объединение данных прошло по плану, молодец\n",
    "         \n",
    "        \n",
    "        \n",
    "Обрати внимание на параметры, которые пандас выставляет по умолчанию при merge (для справки в join такая же «засада» по характеру, но другая по исполнению)\n",
    "        \n",
    "Использование параметров по умолчанию может привести к потере данных при объединении        \n",
    "     \n",
    "        \n",
    "[Примеры объединения таблиц, merge](https://pandas.pydata.org/pandas-docs/version/1.5/reference/api/pandas.DataFrame.merge.html?highlight=merge#pandas.DataFrame.merge)  \n",
    "        \n",
    "[Примеры объединения таблиц, join](https://pandas.pydata.org/pandas-docs/version/1.5/reference/api/pandas.DataFrame.join.html?highlight=join#pandas.DataFrame.join)          "
   ]
  },
  {
   "cell_type": "markdown",
   "id": "e07f427c-d646-4aa3-8f12-aa30b10ec41e",
   "metadata": {},
   "source": [
    "Теперь создадим два датафрейма: с подпиской и без"
   ]
  },
  {
   "cell_type": "code",
   "execution_count": 34,
   "id": "3c0f110c-7604-48e4-b104-d42437bea66b",
   "metadata": {},
   "outputs": [
    {
     "data": {
      "text/html": [
       "<div>\n",
       "<style scoped>\n",
       "    .dataframe tbody tr th:only-of-type {\n",
       "        vertical-align: middle;\n",
       "    }\n",
       "\n",
       "    .dataframe tbody tr th {\n",
       "        vertical-align: top;\n",
       "    }\n",
       "\n",
       "    .dataframe thead th {\n",
       "        text-align: right;\n",
       "    }\n",
       "</style>\n",
       "<table border=\"1\" class=\"dataframe\">\n",
       "  <thead>\n",
       "    <tr style=\"text-align: right;\">\n",
       "      <th></th>\n",
       "      <th>user_id</th>\n",
       "      <th>name</th>\n",
       "      <th>age</th>\n",
       "      <th>city</th>\n",
       "      <th>subscription_type</th>\n",
       "      <th>distance</th>\n",
       "      <th>duration</th>\n",
       "      <th>date</th>\n",
       "      <th>month</th>\n",
       "      <th>minute_price</th>\n",
       "      <th>start_ride_price</th>\n",
       "      <th>subscription_fee</th>\n",
       "    </tr>\n",
       "  </thead>\n",
       "  <tbody>\n",
       "    <tr>\n",
       "      <th>0</th>\n",
       "      <td>1</td>\n",
       "      <td>Кира</td>\n",
       "      <td>22</td>\n",
       "      <td>Тюмень</td>\n",
       "      <td>ultra</td>\n",
       "      <td>4409.919140</td>\n",
       "      <td>25.599769</td>\n",
       "      <td>2021-01-01</td>\n",
       "      <td>1</td>\n",
       "      <td>6</td>\n",
       "      <td>0</td>\n",
       "      <td>199</td>\n",
       "    </tr>\n",
       "    <tr>\n",
       "      <th>1</th>\n",
       "      <td>1</td>\n",
       "      <td>Кира</td>\n",
       "      <td>22</td>\n",
       "      <td>Тюмень</td>\n",
       "      <td>ultra</td>\n",
       "      <td>2617.592153</td>\n",
       "      <td>15.816871</td>\n",
       "      <td>2021-01-18</td>\n",
       "      <td>1</td>\n",
       "      <td>6</td>\n",
       "      <td>0</td>\n",
       "      <td>199</td>\n",
       "    </tr>\n",
       "    <tr>\n",
       "      <th>2</th>\n",
       "      <td>1</td>\n",
       "      <td>Кира</td>\n",
       "      <td>22</td>\n",
       "      <td>Тюмень</td>\n",
       "      <td>ultra</td>\n",
       "      <td>754.159807</td>\n",
       "      <td>6.232113</td>\n",
       "      <td>2021-04-20</td>\n",
       "      <td>4</td>\n",
       "      <td>6</td>\n",
       "      <td>0</td>\n",
       "      <td>199</td>\n",
       "    </tr>\n",
       "    <tr>\n",
       "      <th>3</th>\n",
       "      <td>1</td>\n",
       "      <td>Кира</td>\n",
       "      <td>22</td>\n",
       "      <td>Тюмень</td>\n",
       "      <td>ultra</td>\n",
       "      <td>2694.783254</td>\n",
       "      <td>18.511000</td>\n",
       "      <td>2021-08-11</td>\n",
       "      <td>8</td>\n",
       "      <td>6</td>\n",
       "      <td>0</td>\n",
       "      <td>199</td>\n",
       "    </tr>\n",
       "    <tr>\n",
       "      <th>4</th>\n",
       "      <td>1</td>\n",
       "      <td>Кира</td>\n",
       "      <td>22</td>\n",
       "      <td>Тюмень</td>\n",
       "      <td>ultra</td>\n",
       "      <td>4028.687306</td>\n",
       "      <td>26.265803</td>\n",
       "      <td>2021-08-28</td>\n",
       "      <td>8</td>\n",
       "      <td>6</td>\n",
       "      <td>0</td>\n",
       "      <td>199</td>\n",
       "    </tr>\n",
       "  </tbody>\n",
       "</table>\n",
       "</div>"
      ],
      "text/plain": [
       "   user_id  name  age    city subscription_type     distance   duration  \\\n",
       "0        1  Кира   22  Тюмень             ultra  4409.919140  25.599769   \n",
       "1        1  Кира   22  Тюмень             ultra  2617.592153  15.816871   \n",
       "2        1  Кира   22  Тюмень             ultra   754.159807   6.232113   \n",
       "3        1  Кира   22  Тюмень             ultra  2694.783254  18.511000   \n",
       "4        1  Кира   22  Тюмень             ultra  4028.687306  26.265803   \n",
       "\n",
       "        date  month  minute_price  start_ride_price  subscription_fee  \n",
       "0 2021-01-01      1             6                 0               199  \n",
       "1 2021-01-18      1             6                 0               199  \n",
       "2 2021-04-20      4             6                 0               199  \n",
       "3 2021-08-11      8             6                 0               199  \n",
       "4 2021-08-28      8             6                 0               199  "
      ]
     },
     "metadata": {},
     "output_type": "display_data"
    },
    {
     "data": {
      "text/plain": [
       "user_id              0\n",
       "name                 0\n",
       "age                  0\n",
       "city                 0\n",
       "subscription_type    0\n",
       "distance             0\n",
       "duration             0\n",
       "date                 0\n",
       "month                0\n",
       "minute_price         0\n",
       "start_ride_price     0\n",
       "subscription_fee     0\n",
       "dtype: int64"
      ]
     },
     "metadata": {},
     "output_type": "display_data"
    },
    {
     "data": {
      "text/plain": [
       "user_id              0\n",
       "name                 0\n",
       "age                  0\n",
       "city                 0\n",
       "subscription_type    0\n",
       "distance             0\n",
       "duration             0\n",
       "date                 0\n",
       "month                0\n",
       "minute_price         0\n",
       "start_ride_price     0\n",
       "subscription_fee     0\n",
       "dtype: int64"
      ]
     },
     "metadata": {},
     "output_type": "display_data"
    }
   ],
   "source": [
    "all_data_subs = all_data.query('subscription_type == \"ultra\"')\n",
    "all_data_no_subs = all_data.query('subscription_type == \"free\"')\n",
    "if (all_data.shape != (all_data_subs.shape[0] + all_data_no_subs.shape[0],all_data_no_subs.shape[1])):\n",
    "    print('Ошибка при разделении!')\n",
    "display(all_data_subs.head(5))\n",
    "display(all_data_subs.isna().sum())\n",
    "display(all_data_no_subs.isna().sum())"
   ]
  },
  {
   "cell_type": "markdown",
   "id": "69d01200-3601-469c-857f-08db0a3b683b",
   "metadata": {},
   "source": [
    "Теперь визуализируем информацию о расстоянии и времени поездок для пользователей обоих категорий"
   ]
  },
  {
   "cell_type": "code",
   "execution_count": 35,
   "id": "21e275e2-0662-4c2e-adac-3ef36b8457be",
   "metadata": {},
   "outputs": [
    {
     "data": {
      "image/png": "[encoded data removed]",
      "text/plain": [
       "<Figure size 432x288 with 1 Axes>"
      ]
     },
     "metadata": {
      "needs_background": "light"
     },
     "output_type": "display_data"
    },
    {
     "data": {
      "image/png": "[encoded data removed]",
      "text/plain": [
       "<Figure size 432x288 with 1 Axes>"
      ]
     },
     "metadata": {
      "needs_background": "light"
     },
     "output_type": "display_data"
    }
   ],
   "source": [
    "plt.hist(all_data_subs['distance'], alpha = 0.35, label = 'subscribers', bins = 30)\n",
    "plt.hist(all_data_no_subs['distance'], alpha = 0.35, label = 'non-subscribers', bins = 30)\n",
    "plt.title('Distance distribution')\n",
    "plt.xlabel('Metres')\n",
    "plt.ylabel('Frequency')\n",
    "plt.legend()\n",
    "plt.show()\n",
    "plt.hist(all_data_subs['duration'], alpha = 0.35, label = 'subscribers', bins = 20)\n",
    "plt.hist(all_data_no_subs['duration'], alpha = 0.35, label = 'non-subscribers', bins = 20)\n",
    "plt.title('Duration distribution')\n",
    "plt.xlabel('Minutes')\n",
    "plt.ylabel('Frequency')\n",
    "plt.legend()\n",
    "plt.show()"
   ]
  },
  {
   "cell_type": "markdown",
   "id": "630ac81c",
   "metadata": {},
   "source": [
    "<div class=\"alert alert-warning\", style=\"border:solid coral 3px; padding: 20px\">\n",
    "<font size=\"4\", color = \"DimGrey\"><b>⚠️ Комментарий ревьюера в2</b></font>\n",
    "    <br /> \n",
    "    <font size=\"3\", color = \"black\">\n",
    "<br /> Все надписи у графиков оформляются на языке выполнения проекта"
   ]
  },
  {
   "cell_type": "markdown",
   "id": "328443bf-6e8b-4b57-9ef8-b689ab98ba75",
   "metadata": {},
   "source": [
    "Можно заметить, что пользователи без подписки проезжают бОльшие расстояния, то же самое можно сказать и о длительности поездок. Это вполне логично, так как зависимость между длинной пути и временем должна присутствовать, точнее об этой зависимости может сказать коэффицент корреляции этих двух параметров. \\\n",
    "Также можно сказать, что средние значения очень схожи у разных групп пользователей, около 3000 метров - путь, около 20 минут - продолжительность поездки"
   ]
  },
  {
   "cell_type": "code",
   "execution_count": 36,
   "id": "413dbf65-7a7b-467c-a514-f1051563fcd5",
   "metadata": {},
   "outputs": [
    {
     "data": {
      "text/plain": [
       "0.5823819937445232"
      ]
     },
     "execution_count": 36,
     "metadata": {},
     "output_type": "execute_result"
    }
   ],
   "source": [
    "all_data['distance'].corr(all_data['duration'])"
   ]
  },
  {
   "cell_type": "markdown",
   "id": "781f798e-60b0-49b0-88aa-8a6acb5f0f3e",
   "metadata": {},
   "source": [
    "Коэффицент корреляции внушительный, потому можно сказать о зависимости между продолжительностью поездки и ее длиной(очевидный факт)"
   ]
  },
  {
   "cell_type": "markdown",
   "id": "402d620f",
   "metadata": {},
   "source": [
    "#### Шаг 5. Подсчёт выручки"
   ]
  },
  {
   "cell_type": "markdown",
   "id": "848fa696-54f4-463d-9254-701bbeef82f9",
   "metadata": {},
   "source": [
    "Сгруппируем данные о пользователе по id и месяцу, затем посчитаем суммарное расстояние, время за месяц, а также количество поездок. Для начала округлим значения длительности поездок"
   ]
  },
  {
   "cell_type": "code",
   "execution_count": 37,
   "id": "53049e0a",
   "metadata": {},
   "outputs": [
    {
     "name": "stdout",
     "output_type": "stream",
     "text": [
      "Index(['distance', 'duration', 'count'], dtype='object')\n"
     ]
    },
    {
     "data": {
      "text/html": [
       "<div>\n",
       "<style scoped>\n",
       "    .dataframe tbody tr th:only-of-type {\n",
       "        vertical-align: middle;\n",
       "    }\n",
       "\n",
       "    .dataframe tbody tr th {\n",
       "        vertical-align: top;\n",
       "    }\n",
       "\n",
       "    .dataframe thead th {\n",
       "        text-align: right;\n",
       "    }\n",
       "</style>\n",
       "<table border=\"1\" class=\"dataframe\">\n",
       "  <thead>\n",
       "    <tr style=\"text-align: right;\">\n",
       "      <th></th>\n",
       "      <th></th>\n",
       "      <th></th>\n",
       "      <th>distance</th>\n",
       "      <th>duration</th>\n",
       "      <th>count</th>\n",
       "    </tr>\n",
       "    <tr>\n",
       "      <th>user_id</th>\n",
       "      <th>subscription_type</th>\n",
       "      <th>month</th>\n",
       "      <th></th>\n",
       "      <th></th>\n",
       "      <th></th>\n",
       "    </tr>\n",
       "  </thead>\n",
       "  <tbody>\n",
       "    <tr>\n",
       "      <th rowspan=\"6\" valign=\"top\">1</th>\n",
       "      <th rowspan=\"6\" valign=\"top\">ultra</th>\n",
       "      <th>1</th>\n",
       "      <td>7027.511294</td>\n",
       "      <td>42</td>\n",
       "      <td>2</td>\n",
       "    </tr>\n",
       "    <tr>\n",
       "      <th>4</th>\n",
       "      <td>754.159807</td>\n",
       "      <td>7</td>\n",
       "      <td>1</td>\n",
       "    </tr>\n",
       "    <tr>\n",
       "      <th>8</th>\n",
       "      <td>6723.470560</td>\n",
       "      <td>46</td>\n",
       "      <td>2</td>\n",
       "    </tr>\n",
       "    <tr>\n",
       "      <th>10</th>\n",
       "      <td>5809.911100</td>\n",
       "      <td>32</td>\n",
       "      <td>2</td>\n",
       "    </tr>\n",
       "    <tr>\n",
       "      <th>11</th>\n",
       "      <td>7003.499363</td>\n",
       "      <td>56</td>\n",
       "      <td>3</td>\n",
       "    </tr>\n",
       "    <tr>\n",
       "      <th>12</th>\n",
       "      <td>6751.629942</td>\n",
       "      <td>28</td>\n",
       "      <td>2</td>\n",
       "    </tr>\n",
       "    <tr>\n",
       "      <th rowspan=\"4\" valign=\"top\">2</th>\n",
       "      <th rowspan=\"4\" valign=\"top\">ultra</th>\n",
       "      <th>3</th>\n",
       "      <td>10187.723006</td>\n",
       "      <td>63</td>\n",
       "      <td>3</td>\n",
       "    </tr>\n",
       "    <tr>\n",
       "      <th>4</th>\n",
       "      <td>6164.381824</td>\n",
       "      <td>40</td>\n",
       "      <td>2</td>\n",
       "    </tr>\n",
       "    <tr>\n",
       "      <th>6</th>\n",
       "      <td>3255.338202</td>\n",
       "      <td>14</td>\n",
       "      <td>1</td>\n",
       "    </tr>\n",
       "    <tr>\n",
       "      <th>7</th>\n",
       "      <td>6780.722964</td>\n",
       "      <td>48</td>\n",
       "      <td>2</td>\n",
       "    </tr>\n",
       "  </tbody>\n",
       "</table>\n",
       "</div>"
      ],
      "text/plain": [
       "                                     distance  duration  count\n",
       "user_id subscription_type month                               \n",
       "1       ultra             1       7027.511294        42      2\n",
       "                          4        754.159807         7      1\n",
       "                          8       6723.470560        46      2\n",
       "                          10      5809.911100        32      2\n",
       "                          11      7003.499363        56      3\n",
       "                          12      6751.629942        28      2\n",
       "2       ultra             3      10187.723006        63      3\n",
       "                          4       6164.381824        40      2\n",
       "                          6       3255.338202        14      1\n",
       "                          7       6780.722964        48      2"
      ]
     },
     "metadata": {},
     "output_type": "display_data"
    },
    {
     "data": {
      "text/plain": [
       "distance    0\n",
       "duration    0\n",
       "count       0\n",
       "dtype: int64"
      ]
     },
     "metadata": {},
     "output_type": "display_data"
    }
   ],
   "source": [
    "all_data['duration'] = np.ceil(all_data['duration']).astype('int')\n",
    "total_user_data = all_data.pivot_table(index=['user_id', 'subscription_type','month'], \n",
    "                                       values=['distance', 'duration'], \n",
    "                                       aggfunc={'distance': 'sum', 'duration': 'sum', 'user_id': 'count'})\n",
    "total_user_data = total_user_data.rename(columns = {'user_id' : 'count'})\n",
    "print(total_user_data.columns)\n",
    "display(total_user_data.head(10))\n",
    "display(total_user_data.isna().sum())"
   ]
  },
  {
   "cell_type": "markdown",
   "id": "5d4779f3",
   "metadata": {},
   "source": [
    "<div class=\"alert alert-warning\", style=\"border:solid coral 3px; padding: 20px\">\n",
    "<font size=\"4\"><b>⚠️ Комментарий ревьюера</b></font>\n",
    "    <br /> \n",
    "    <font size=\"3\", color = \"black\">\n",
    "<br />\n",
    "Широкие строки кода рекомендуется делить на всем проекте\n",
    "        \n",
    "<a href=\"https://qastack.ru/programming/53162/how-can-i-do-a-line-break-line-continuation-in-python\">Перенос длинных строк кода</a>. \n",
    "    \n",
    "</div>"
   ]
  },
  {
   "cell_type": "markdown",
   "id": "a60aef12-5e79-4062-b15b-feef6e9b1fac",
   "metadata": {},
   "source": [
    "Добавим информацию о прибыли за каждый месяц"
   ]
  },
  {
   "cell_type": "code",
   "execution_count": 38,
   "id": "8d551c00-dc47-453b-a7e9-b272ad3f0b2c",
   "metadata": {},
   "outputs": [
    {
     "data": {
      "text/html": [
       "<div>\n",
       "<style scoped>\n",
       "    .dataframe tbody tr th:only-of-type {\n",
       "        vertical-align: middle;\n",
       "    }\n",
       "\n",
       "    .dataframe tbody tr th {\n",
       "        vertical-align: top;\n",
       "    }\n",
       "\n",
       "    .dataframe thead th {\n",
       "        text-align: right;\n",
       "    }\n",
       "</style>\n",
       "<table border=\"1\" class=\"dataframe\">\n",
       "  <thead>\n",
       "    <tr style=\"text-align: right;\">\n",
       "      <th></th>\n",
       "      <th></th>\n",
       "      <th></th>\n",
       "      <th>distance</th>\n",
       "      <th>duration</th>\n",
       "      <th>count</th>\n",
       "      <th>month_revenue</th>\n",
       "    </tr>\n",
       "    <tr>\n",
       "      <th>user_id</th>\n",
       "      <th>subscription_type</th>\n",
       "      <th>month</th>\n",
       "      <th></th>\n",
       "      <th></th>\n",
       "      <th></th>\n",
       "      <th></th>\n",
       "    </tr>\n",
       "  </thead>\n",
       "  <tbody>\n",
       "    <tr>\n",
       "      <th rowspan=\"5\" valign=\"top\">1</th>\n",
       "      <th rowspan=\"5\" valign=\"top\">ultra</th>\n",
       "      <th>1</th>\n",
       "      <td>7027.511294</td>\n",
       "      <td>42</td>\n",
       "      <td>2</td>\n",
       "      <td>451.0</td>\n",
       "    </tr>\n",
       "    <tr>\n",
       "      <th>4</th>\n",
       "      <td>754.159807</td>\n",
       "      <td>7</td>\n",
       "      <td>1</td>\n",
       "      <td>241.0</td>\n",
       "    </tr>\n",
       "    <tr>\n",
       "      <th>8</th>\n",
       "      <td>6723.470560</td>\n",
       "      <td>46</td>\n",
       "      <td>2</td>\n",
       "      <td>475.0</td>\n",
       "    </tr>\n",
       "    <tr>\n",
       "      <th>10</th>\n",
       "      <td>5809.911100</td>\n",
       "      <td>32</td>\n",
       "      <td>2</td>\n",
       "      <td>391.0</td>\n",
       "    </tr>\n",
       "    <tr>\n",
       "      <th>11</th>\n",
       "      <td>7003.499363</td>\n",
       "      <td>56</td>\n",
       "      <td>3</td>\n",
       "      <td>535.0</td>\n",
       "    </tr>\n",
       "    <tr>\n",
       "      <th>...</th>\n",
       "      <th>...</th>\n",
       "      <th>...</th>\n",
       "      <td>...</td>\n",
       "      <td>...</td>\n",
       "      <td>...</td>\n",
       "      <td>...</td>\n",
       "    </tr>\n",
       "    <tr>\n",
       "      <th rowspan=\"5\" valign=\"top\">1534</th>\n",
       "      <th rowspan=\"5\" valign=\"top\">free</th>\n",
       "      <th>6</th>\n",
       "      <td>3409.468534</td>\n",
       "      <td>26</td>\n",
       "      <td>2</td>\n",
       "      <td>308.0</td>\n",
       "    </tr>\n",
       "    <tr>\n",
       "      <th>8</th>\n",
       "      <td>7622.453034</td>\n",
       "      <td>48</td>\n",
       "      <td>2</td>\n",
       "      <td>484.0</td>\n",
       "    </tr>\n",
       "    <tr>\n",
       "      <th>9</th>\n",
       "      <td>4928.173852</td>\n",
       "      <td>23</td>\n",
       "      <td>1</td>\n",
       "      <td>234.0</td>\n",
       "    </tr>\n",
       "    <tr>\n",
       "      <th>11</th>\n",
       "      <td>13350.015305</td>\n",
       "      <td>78</td>\n",
       "      <td>4</td>\n",
       "      <td>824.0</td>\n",
       "    </tr>\n",
       "    <tr>\n",
       "      <th>12</th>\n",
       "      <td>2371.711192</td>\n",
       "      <td>16</td>\n",
       "      <td>1</td>\n",
       "      <td>178.0</td>\n",
       "    </tr>\n",
       "  </tbody>\n",
       "</table>\n",
       "<p>11300 rows × 4 columns</p>\n",
       "</div>"
      ],
      "text/plain": [
       "                                     distance  duration  count  month_revenue\n",
       "user_id subscription_type month                                              \n",
       "1       ultra             1       7027.511294        42      2          451.0\n",
       "                          4        754.159807         7      1          241.0\n",
       "                          8       6723.470560        46      2          475.0\n",
       "                          10      5809.911100        32      2          391.0\n",
       "                          11      7003.499363        56      3          535.0\n",
       "...                                       ...       ...    ...            ...\n",
       "1534    free              6       3409.468534        26      2          308.0\n",
       "                          8       7622.453034        48      2          484.0\n",
       "                          9       4928.173852        23      1          234.0\n",
       "                          11     13350.015305        78      4          824.0\n",
       "                          12      2371.711192        16      1          178.0\n",
       "\n",
       "[11300 rows x 4 columns]"
      ]
     },
     "execution_count": 38,
     "metadata": {},
     "output_type": "execute_result"
    }
   ],
   "source": [
    "def calc_month_revenue(row):\n",
    "    sub_type = user_data[user_data['user_id'] == row.name[0]]['subscription_type'].iloc[0]\n",
    "    cur_sub = subs_data[subs_data['subscription_type'] == sub_type]\n",
    "    minute_price = cur_sub['minute_price']\n",
    "    start_price = cur_sub['start_ride_price']\n",
    "    sub_price = cur_sub['subscription_fee']\n",
    "    return (row['duration'] * minute_price + row['count'] * start_price + sub_price).iloc[0]\n",
    "    \n",
    "total_user_data['duration'] = total_user_data['duration']\n",
    "total_user_data['month_revenue'] = total_user_data.apply(calc_month_revenue, axis=1)\n",
    "total_user_data"
   ]
  },
  {
   "cell_type": "markdown",
   "id": "0a75b386-d258-4208-928e-5a4b861aa1a2",
   "metadata": {},
   "source": [
    "Получилось корректно подсчитать месячную прибыль для каждого пользователя "
   ]
  },
  {
   "cell_type": "code",
   "execution_count": 39,
   "id": "52c7b3da",
   "metadata": {},
   "outputs": [
    {
     "data": {
      "text/plain": [
       "3873131.0"
      ]
     },
     "execution_count": 39,
     "metadata": {},
     "output_type": "execute_result"
    }
   ],
   "source": [
    "total_user_data['month_revenue'].sum()"
   ]
  },
  {
   "cell_type": "markdown",
   "id": "41545ac0",
   "metadata": {},
   "source": [
    "#### Шаг 6. Проверка гипотез"
   ]
  },
  {
   "cell_type": "markdown",
   "id": "35437d0f-45c7-49f2-b7c1-cf2fe2c9af48",
   "metadata": {},
   "source": [
    "Для проверки гипотез будем проводить Т-тесты"
   ]
  },
  {
   "cell_type": "markdown",
   "id": "3c820e54-16a0-4d4c-bdd7-a5f85a3b3914",
   "metadata": {},
   "source": [
    "##### 6.1) Тратят ли пользователи с подпиской больше времени на поездки?\n",
    "Нулевая гипотеза - пользователи с подпиской тратят столько же времени, сколько пользователи без подписки \\\n",
    "Альтернативная гипотеза - пользователи с подпиской тратят больше времени"
   ]
  },
  {
   "cell_type": "markdown",
   "id": "26cadcce-3d16-4c24-915c-6c074b19855a",
   "metadata": {},
   "source": [
    "Возьмем две случайные выборки из пользователей с подпиской и без, значение статисчической значимости возьмем равным 5%, если полученное p-value < 5%, то гипотезу можно отвергнуть, иначе подтвердить, что при таком значении статисчической значимости гипотеза не может быть отвергнута"
   ]
  },
  {
   "cell_type": "code",
   "execution_count": 40,
   "id": "7ec19089-b074-4afe-b042-c09fada6fb29",
   "metadata": {},
   "outputs": [
    {
     "name": "stdout",
     "output_type": "stream",
     "text": [
      "P-value = 8.577910347796266e-28\n",
      "Пользователи действительно тратят на поездки больше времени, есть существенная статистическая значимость\n"
     ]
    }
   ],
   "source": [
    "alpha = 0.05\n",
    "res = st.ttest_ind(all_data.query('subscription_type == \"ultra\"')['duration'], all_data.query('subscription_type == \"free\"')['duration'], alternative = 'greater')\n",
    "print(f'P-value = {res.pvalue}')\n",
    "if res.pvalue < alpha:\n",
    "    print(\"Пользователи действительно тратят на поездки больше времени, есть существенная статистическая значимость\")\n",
    "else:\n",
    "    print(\"Пользователи с подпиской и без тратят примерно одинаковое количество времени, нет существенной статистической значимости\")"
   ]
  },
  {
   "cell_type": "markdown",
   "id": "2cda7794-a33a-4052-8543-ce443471f7fe",
   "metadata": {},
   "source": [
    "Полученное p-value значение отвечает за вероятность получить наблюдаемое значение или более удаленное от того, которое предложено в нулевой гипотезе, при условии, что нулевая гипотеза верна. Наше значение крайне мало, оно меньше значению стат значимсти, значит мы можем отвергнуть нулевую гипотезу и принять альтернативную(если бы значение стат значимсоти было бы <= p-value, то нулевая гипотеза не была бы отвергнута) \\\n",
    "При заданном параметре статисчической значимости мы получили \"подтверждение\" гипотезы, я думаю это может быть связано с многими параметрами:\n",
    "- Пользователи с подпиской любят кататься на самокатах\n",
    "- Самокат является их общественным видом транспорта\n",
    "\n",
    "Под пользователем рассматривается средний такой пользователь. \\\n",
    "Безусловно это очень выгодно бизнесу, так как если пользователи любят кататься на самокатах или же он является их общественным видом транспорта, то данные пользователи формируют некоторую базу постоянного заработка бизнесу, равносильно абонементу в спортзал. Именно поэтому бизнес может Рассчитывать на какой-то минимальный доход из учета стоимости подписок."
   ]
  },
  {
   "cell_type": "markdown",
   "id": "7cfdc755",
   "metadata": {},
   "source": [
    "<div class=\"alert alert-warning\", style=\"border:solid coral 3px; padding: 20px\">\n",
    "<font size=\"4\", color = \"DimGrey\"><b>⚠️ Комментарий ревьюера</b></font>\n",
    "    <br />\n",
    "    <font size=\"3\", color = \"black\">\n",
    "<br /> Что означает на языке статистики P-value = 0.0038227416765839036"
   ]
  },
  {
   "cell_type": "markdown",
   "id": "bd158c3d",
   "metadata": {},
   "source": [
    "<div style=\"border:solid steelblue 3px; padding: 20px\">\n",
    "<font size=\"4\">🍕<b> Комментарий ревьюера в2</b></font>\n",
    "<br /> \n",
    "<font size=\"3\", color = \"black\">\n",
    "<br />\n",
    "Приведу пример и теорию для понимания формулировок и интерпретации итогов проведения гипотез</b>\n",
    "        \n",
    "      \n",
    "Задача. Приведены два датасета: сумма покупок, совершённых за месяц посетителями, привлечёнными по двум разным каналам. В вашем распоряжении случайная выборка из 30 покупок для каждого канала.\n",
    "        \n",
    "H0 - средние чеки равны\n",
    "        \n",
    "        \n",
    "H1 - средние чеки НЕ равны\n",
    "\n",
    "Да сама формулировка нулевой и альтернативной гипотезы звучит именно так, но результат теста интерпретируется другими словами\n",
    "        \n",
    "\n",
    "<b>Из теории на тренажере</b>\n",
    "        \n",
    "Формулирование двусторонних гипотез. <br>\n",
    "        \n",
    "<b>Никакие экспериментально полученные данные никогда не подтвердят какую-либо гипотезу. Это наше фундаментальное ограничение. </b>Данные могут лишь не противоречить ей или, наоборот, показывать крайне маловероятные результаты (при условии, что гипотеза верна). Но и в том, и в другом случае нет оснований утверждать, что выдвинутая гипотеза доказана.\n",
    "Допустим, данные гипотезе не противоречат, тогда мы её не отвергаем. Если же мы приходим к выводу, что получить такие данные в рамках этой гипотезы вряд ли возможно, у нас появляется основание отбросить эту гипотезу.\n",
    "     "
   ]
  },
  {
   "cell_type": "code",
   "execution_count": 41,
   "id": "dd2a5a8b",
   "metadata": {},
   "outputs": [
    {
     "name": "stdout",
     "output_type": "stream",
     "text": [
      "p-значение: 0.1912450522572209\n",
      "Не получилось отвергнуть нулевую гипотезу\n"
     ]
    }
   ],
   "source": [
    "# Приведены два датасета: сумма покупок, совершённых за месяц посетителями ...\n",
    "\n",
    "sample_1 = [3071, 3636, 3454, 3151, 2185, 3259, 1727, 2263, 2015,\n",
    "2582, 4815, 633, 3186, 887, 2028, 3589, 2564, 1422, 1785,\n",
    "3180, 1770, 2716, 2546, 1848, 4644, 3134, 475, 2686,\n",
    "1838, 3352]\n",
    "sample_2 = [1211, 1228, 2157, 3699, 600, 1898, 1688, 1420, 5048, 3007,\n",
    "509, 3777, 5583, 3949, 121, 1674, 4300, 1338, 3066,\n",
    "3562, 1010, 2311, 462, 863, 2021, 528, 1849, 255,\n",
    "1740, 2596]\n",
    "alpha = .05 # критический уровень статистической значимости\n",
    "# если p-value окажется меньше него - отвергнем гипотезу\n",
    "results = st.ttest_ind(\n",
    "sample_1,\n",
    "sample_2)\n",
    "print('p-значение:', results.pvalue)\n",
    "if (results.pvalue < alpha):\n",
    "    print(\"Отвергаем нулевую гипотезу\")\n",
    "else:\n",
    "    print(\"Не получилось отвергнуть нулевую гипотезу\")"
   ]
  },
  {
   "cell_type": "markdown",
   "id": "29679ad2",
   "metadata": {},
   "source": [
    "<div style=\"border:solid steelblue 3px; padding: 20px\">\n",
    "<font size=\"4\">🍕<b> Комментарий ревьюера в2</b></font>\n",
    "<br /> \n",
    "<font size=\"3\", color = \"black\">\n",
    "<br />\n",
    "Интерпретация результата:\n",
    "\n",
    "Полученное значение p-value говорит о том, что хотя средний чек пришедших из разных каналов и неодинаков, <b>с вероятностью в почти 19% такое или большее различие можно получить случайно. </b>Это явно слишком большая вероятность, чтобы делать вывод о значимом различии между средними чеками.\n",
    "        \n",
    "А если p-value  будет равно 0,9999, то это значит, что с вероятностью почти 100% <u>такое различие</u> можно получить случайно — то есть почти никогда :)  (но учитываем, что тест проводится на выборке из генеральной совокупности, все может поменяться)\n"
   ]
  },
  {
   "cell_type": "markdown",
   "id": "c5467fef-4c4d-4b64-83ac-864122762f94",
   "metadata": {},
   "source": [
    "##### 6.2) Среднее расстояние, которое проезжают пользователи с подпиской не превышает 3130 метров?"
   ]
  },
  {
   "cell_type": "markdown",
   "id": "ce7a40fa-34a2-4ccd-a4d6-e549fbc90ceb",
   "metadata": {},
   "source": [
    "Нулевая гипотеза - пользователи с подпиской проезжают 3130 метров или меньше \\\n",
    "Альтернативная гипотеза - пользователи с подпиской проезжают больше 3130 метров"
   ]
  },
  {
   "cell_type": "code",
   "execution_count": 42,
   "id": "85b53b6d-0d12-47bf-8ed5-15659c2ad30a",
   "metadata": {},
   "outputs": [
    {
     "name": "stdout",
     "output_type": "stream",
     "text": [
      "P-value = 0.639260447095541\n",
      "Пользователи с подпиской не проезжают больше 3130 метров, нет существенной статистической значимости\n"
     ]
    }
   ],
   "source": [
    "alpha = 0.05\n",
    "interested_value = 3130\n",
    "all_data_sample = all_data_subs['distance'].sample(n = 500)\n",
    "res = st.ttest_1samp(all_data_sample, interested_value, alternative = 'greater')\n",
    "print(f'P-value = {res.pvalue}')\n",
    "if res.pvalue < alpha:\n",
    "    print(\"Пользователи с подпиской проезжают больше 3130 метров, есть существенная статистическая значимость\")\n",
    "else:\n",
    "    print(\"Пользователи с подпиской не проезжают больше 3130 метров, нет существенной статистической значимости\")"
   ]
  },
  {
   "cell_type": "markdown",
   "id": "289becc0-e78a-480b-bd0a-aab12c39eaed",
   "metadata": {},
   "source": [
    "Гипотеза не подтвердилась, при alpha = 0.05 \\\n",
    "Думаю это выгодно для бизнеса, так как подписчики меньше изнашивают самокаты, следовательно необходимость в скором ремонте отпадает"
   ]
  },
  {
   "cell_type": "markdown",
   "id": "5e6491f5-fab0-405d-98c3-3feedafef833",
   "metadata": {},
   "source": [
    "##### 6.3) Помесячная выручка от пользователей с подпиской больше чем от пользователей без подписки?"
   ]
  },
  {
   "cell_type": "markdown",
   "id": "49c81ba2-d97c-4f77-816d-0274ecc53642",
   "metadata": {},
   "source": [
    "Разделим total_user_data на free_data, ultra_data, чтобы подсчитать общую прибыль за каждый месяц отдельно"
   ]
  },
  {
   "cell_type": "code",
   "execution_count": 43,
   "id": "e4e05345-f2c6-4318-95a1-35c57c888961",
   "metadata": {},
   "outputs": [
    {
     "data": {
      "text/html": [
       "<div>\n",
       "<style scoped>\n",
       "    .dataframe tbody tr th:only-of-type {\n",
       "        vertical-align: middle;\n",
       "    }\n",
       "\n",
       "    .dataframe tbody tr th {\n",
       "        vertical-align: top;\n",
       "    }\n",
       "\n",
       "    .dataframe thead th {\n",
       "        text-align: right;\n",
       "    }\n",
       "</style>\n",
       "<table border=\"1\" class=\"dataframe\">\n",
       "  <thead>\n",
       "    <tr style=\"text-align: right;\">\n",
       "      <th></th>\n",
       "      <th></th>\n",
       "      <th></th>\n",
       "      <th>distance</th>\n",
       "      <th>duration</th>\n",
       "      <th>count</th>\n",
       "      <th>month_revenue</th>\n",
       "    </tr>\n",
       "    <tr>\n",
       "      <th>user_id</th>\n",
       "      <th>subscription_type</th>\n",
       "      <th>month</th>\n",
       "      <th></th>\n",
       "      <th></th>\n",
       "      <th></th>\n",
       "      <th></th>\n",
       "    </tr>\n",
       "  </thead>\n",
       "  <tbody>\n",
       "    <tr>\n",
       "      <th rowspan=\"6\" valign=\"top\">1</th>\n",
       "      <th rowspan=\"6\" valign=\"top\">ultra</th>\n",
       "      <th>1</th>\n",
       "      <td>7027.511294</td>\n",
       "      <td>42</td>\n",
       "      <td>2</td>\n",
       "      <td>451.0</td>\n",
       "    </tr>\n",
       "    <tr>\n",
       "      <th>4</th>\n",
       "      <td>754.159807</td>\n",
       "      <td>7</td>\n",
       "      <td>1</td>\n",
       "      <td>241.0</td>\n",
       "    </tr>\n",
       "    <tr>\n",
       "      <th>8</th>\n",
       "      <td>6723.470560</td>\n",
       "      <td>46</td>\n",
       "      <td>2</td>\n",
       "      <td>475.0</td>\n",
       "    </tr>\n",
       "    <tr>\n",
       "      <th>10</th>\n",
       "      <td>5809.911100</td>\n",
       "      <td>32</td>\n",
       "      <td>2</td>\n",
       "      <td>391.0</td>\n",
       "    </tr>\n",
       "    <tr>\n",
       "      <th>11</th>\n",
       "      <td>7003.499363</td>\n",
       "      <td>56</td>\n",
       "      <td>3</td>\n",
       "      <td>535.0</td>\n",
       "    </tr>\n",
       "    <tr>\n",
       "      <th>12</th>\n",
       "      <td>6751.629942</td>\n",
       "      <td>28</td>\n",
       "      <td>2</td>\n",
       "      <td>367.0</td>\n",
       "    </tr>\n",
       "    <tr>\n",
       "      <th rowspan=\"7\" valign=\"top\">2</th>\n",
       "      <th rowspan=\"7\" valign=\"top\">ultra</th>\n",
       "      <th>3</th>\n",
       "      <td>10187.723006</td>\n",
       "      <td>63</td>\n",
       "      <td>3</td>\n",
       "      <td>577.0</td>\n",
       "    </tr>\n",
       "    <tr>\n",
       "      <th>4</th>\n",
       "      <td>6164.381824</td>\n",
       "      <td>40</td>\n",
       "      <td>2</td>\n",
       "      <td>439.0</td>\n",
       "    </tr>\n",
       "    <tr>\n",
       "      <th>6</th>\n",
       "      <td>3255.338202</td>\n",
       "      <td>14</td>\n",
       "      <td>1</td>\n",
       "      <td>283.0</td>\n",
       "    </tr>\n",
       "    <tr>\n",
       "      <th>7</th>\n",
       "      <td>6780.722964</td>\n",
       "      <td>48</td>\n",
       "      <td>2</td>\n",
       "      <td>487.0</td>\n",
       "    </tr>\n",
       "    <tr>\n",
       "      <th>8</th>\n",
       "      <td>923.007439</td>\n",
       "      <td>7</td>\n",
       "      <td>1</td>\n",
       "      <td>241.0</td>\n",
       "    </tr>\n",
       "    <tr>\n",
       "      <th>10</th>\n",
       "      <td>2824.636598</td>\n",
       "      <td>19</td>\n",
       "      <td>1</td>\n",
       "      <td>313.0</td>\n",
       "    </tr>\n",
       "    <tr>\n",
       "      <th>12</th>\n",
       "      <td>3828.248580</td>\n",
       "      <td>12</td>\n",
       "      <td>1</td>\n",
       "      <td>271.0</td>\n",
       "    </tr>\n",
       "  </tbody>\n",
       "</table>\n",
       "</div>"
      ],
      "text/plain": [
       "                                     distance  duration  count  month_revenue\n",
       "user_id subscription_type month                                              \n",
       "1       ultra             1       7027.511294        42      2          451.0\n",
       "                          4        754.159807         7      1          241.0\n",
       "                          8       6723.470560        46      2          475.0\n",
       "                          10      5809.911100        32      2          391.0\n",
       "                          11      7003.499363        56      3          535.0\n",
       "                          12      6751.629942        28      2          367.0\n",
       "2       ultra             3      10187.723006        63      3          577.0\n",
       "                          4       6164.381824        40      2          439.0\n",
       "                          6       3255.338202        14      1          283.0\n",
       "                          7       6780.722964        48      2          487.0\n",
       "                          8        923.007439         7      1          241.0\n",
       "                          10      2824.636598        19      1          313.0\n",
       "                          12      3828.248580        12      1          271.0"
      ]
     },
     "metadata": {},
     "output_type": "display_data"
    },
    {
     "data": {
      "text/plain": [
       "6767"
      ]
     },
     "metadata": {},
     "output_type": "display_data"
    },
    {
     "data": {
      "text/plain": [
       "4533"
      ]
     },
     "metadata": {},
     "output_type": "display_data"
    }
   ],
   "source": [
    "free_data = total_user_data.loc[total_user_data.index.get_level_values('subscription_type') == 'free']\n",
    "ultra_data = total_user_data.loc[total_user_data.index.get_level_values('subscription_type') == 'ultra']\n",
    "display(ultra_data.head(13))\n",
    "display(free_data.shape[0], ultra_data.shape[0])"
   ]
  },
  {
   "cell_type": "markdown",
   "id": "59ab6cfb-5421-4c62-9571-ec1f6025223e",
   "metadata": {},
   "source": [
    "Нулевая гипотеза - выручка от подписчиков и не подписчиков примерно одинакова \\\n",
    "Альтернативная гипотеза - выручка от подписчиков больше чем от не подписчков"
   ]
  },
  {
   "cell_type": "code",
   "execution_count": 46,
   "id": "93d1acac",
   "metadata": {
    "scrolled": true
   },
   "outputs": [
    {
     "name": "stdout",
     "output_type": "stream",
     "text": [
      "P-value = 1.0\n",
      "Выручка от среднего пользователя БЕЗ подписки не выше, не обнаружена существенная статистическая значимость\n"
     ]
    }
   ],
   "source": [
    "alpha = 0.05\n",
    "res = st.ttest_ind(free_data['month_revenue'], ultra_data['month_revenue'], alternative = 'greater')\n",
    "print(f'P-value = {res.pvalue}')\n",
    "if res.pvalue < alpha:\n",
    "    print(\"Выручка от среднего пользователя БЕЗ подписки выше, обнаружена существенная статистическая значимость\")\n",
    "else:\n",
    "    print(\"Выручка от среднего пользователя БЕЗ подписки не выше, не обнаружена существенная статистическая значимость\")"
   ]
  },
  {
   "cell_type": "code",
   "execution_count": 47,
   "id": "23a3b4dd",
   "metadata": {},
   "outputs": [
    {
     "data": {
      "text/plain": [
       "(329.0, 363.0)"
      ]
     },
     "execution_count": 47,
     "metadata": {},
     "output_type": "execute_result"
    }
   ],
   "source": [
    "free_data['month_revenue'].mean().round(), ultra_data['month_revenue'].mean().round()"
   ]
  },
  {
   "cell_type": "markdown",
   "id": "ba28b395",
   "metadata": {},
   "source": [
    "<div class=\"alert alert-success\">\n",
    "<font size=\"4\", color= \"seagreen\"><b>✔️ Комментарий ревьюера в4</b></font>\n",
    "    <br /> \n",
    "    <font size=\"3\", color = \"black\">\n",
    "<br />Для явного примера, возьмем твой код и развернем стат тест - поменяем выборки местами и Н1, и получим странный результат\n",
    "        \n",
    "        Выручка от среднего пользователя БЕЗ подписки не выше, не обнаружена существенная статистическая значимость\n",
    "        \n",
    "хотя в реальности это не так      \n",
    "        \n",
    "        329 и 363 рубля\n",
    "        \n",
    "причины в алгоритме расчета стат теста, если ему говорят сравнить на больше, то он и сравнивает на больше, 329 больше 363, нет, значит стат тест пишет в р-значение единицу    "
   ]
  },
  {
   "cell_type": "markdown",
   "id": "f2ec9690-7b64-47f8-8529-6272601137c3",
   "metadata": {},
   "source": [
    "Значение p-value почти 1, это значит то, что нулевую гипотезу нельзя отвергнуть, рассмотрим график распределения по месяцам пользователей с подпиской и без"
   ]
  },
  {
   "cell_type": "markdown",
   "id": "991bb87f",
   "metadata": {},
   "source": [
    "<div class=\"alert alert-warning\", style=\"border:solid coral 3px; padding: 20px\">\n",
    "<font size=\"4\"><b>⚠️ Комментарий ревьюера в2</b></font>\n",
    "    <br /> \n",
    "    <font size=\"3\", color = \"black\">\n",
    "<br />\n",
    "Широкие строки кода рекомендуется делить на всем проекте\n",
    "        \n",
    "<a href=\"https://qastack.ru/programming/53162/how-can-i-do-a-line-break-line-continuation-in-python\">Перенос длинных строк кода</a>. \n",
    "    \n",
    "</div>"
   ]
  },
  {
   "cell_type": "code",
   "execution_count": 48,
   "id": "3a8eda43-d3a6-49dc-a501-61dc8a41b8b4",
   "metadata": {},
   "outputs": [
    {
     "data": {
      "image/png": "[encoded data removed]",
      "text/plain": [
       "<Figure size 432x288 with 1 Axes>"
      ]
     },
     "metadata": {
      "needs_background": "light"
     },
     "output_type": "display_data"
    }
   ],
   "source": [
    "plt.bar(x=ultra_data.groupby(ultra_data.index.get_level_values('month')).mean().index, height=ultra_data.groupby(ultra_data.index.get_level_values('month')).mean()['month_revenue'], label='subscribers', alpha = 0.35)\n",
    "plt.bar(x=free_data.groupby(free_data.index.get_level_values('month')).mean().index, height=free_data.groupby(free_data.index.get_level_values('month')).mean()['month_revenue'], label='non-subscribers', alpha = 0.35)  \n",
    "plt.title('Month revenue distribution')\n",
    "plt.legend()\n",
    "plt.show()"
   ]
  },
  {
   "cell_type": "markdown",
   "id": "dfd67678-d390-4519-b75b-0c54972a781b",
   "metadata": {},
   "source": [
    "Видно, что в каждом месяце средний пользователь с подпиской приносят больше прибыли бизнесу чем средний пользователь без подписки. \\\n",
    "Если есть необходимость повысить прибыль, возможно стоит ввести какие-нибудь акции на подписки для новых пользователей, только нужно рассчитать стоимость так, чтобы желательно приыбыль от такого пользователя с подпиской была не меньше чем от текущего без подписки(например сделать стоимость подписки на первый месяц равной 100р). Но в любом случае для этого нужно проводить отдельные расчеты"
   ]
  },
  {
   "cell_type": "markdown",
   "id": "c1eb422d-d519-46b8-96ed-077c4b2ed793",
   "metadata": {},
   "source": [
    "##### 6.4) Снизилось ли количество обращений в поддержку после обновления приложения, как тест стоит применить и почему?"
   ]
  },
  {
   "cell_type": "markdown",
   "id": "6e914c32-bfe3-40cd-aa63-f3ac8bb86ac3",
   "metadata": {},
   "source": [
    "Безусловно в таком тесте нужно применять т-тест, причем мы должны взять 2 случайные выборки(до обновления, после обновления). Очевидным будет то, что некоторые пользователи могут содержаться в обоих выборках, потому выборки не будут независимыми, стоит применить `ttest_rel()` в таком случае. Гипотеза будет односторонней, причем:\n",
    "- Нулевая гипотеза - количество обращений осталось на таком же уровне\n",
    "- Альтернативная гипотеза - количество обращений уменьшилось(alternative = 'less')"
   ]
  },
  {
   "cell_type": "markdown",
   "id": "36c3483b",
   "metadata": {},
   "source": [
    "<div class=\"alert alert-warning\", style=\"border:solid coral 3px; padding: 20px\">\n",
    "<font size=\"4\", color = \"DimGrey\"><b>⚠️ Комментарий ревьюера</b></font>\n",
    "    <br /> \n",
    "    <font size=\"3\", color = \"black\">\n",
    "<br />  Стоит уточнить какую гипотезу будешь проверять: одностороннюю или двустороннюю\n",
    "        \n",
    "Подсказка\n",
    "        \n",
    "        ... Она надеется, что из-за этого количество обращений в техподдержку значимо снизилось. ..."
   ]
  },
  {
   "cell_type": "markdown",
   "id": "c4d62752-ea52-419a-a5ff-37cdb2502b30",
   "metadata": {},
   "source": [
    "#### Вывод по гипотезам:\n",
    "##### 6.1) Тратят ли пользователи с подпиской больше времени на поездки?\n",
    "При заданном параметре статисчической значимости мы получили \"подтверждение\" гипотезы, я думаю это может быть связано с многими параметрами:\n",
    "- Пользователи с подпиской любят кататься на самокатах\n",
    "- Самокат является их общественным видом транспорта\n",
    "\n",
    "Под пользователем рассматривается средний такой пользователь. \\\n",
    "Безусловно это очень выгодно бизнесу, так как если пользователи любят кататься на самокатах или же он является их общественным видом транспорта, то данные пользователи формируют некоторую базу постоянного заработка бизнесу, равносильно абонементу в спортзал. Именно поэтому бизнес может Рассчитывать на какой-то минимальный доход из учета стоимости подписок.\n",
    "##### 6.2) Среднее расстояние, которое проезжают пользователи с подпиской не превышает 3130 метров?\n",
    "Гипотеза не подтвердилась, при alpha = 0.05 \\\n",
    "Думаю это выгодно для бизнеса, так как подписчики меньше изнашивают самокаты, следовательно необходимость в скором ремонте отпадает\n",
    "##### 6.3) Помесячная выручка от пользователей с подпиской больше чем от пользователей без подписки?\n",
    "Видно, что в каждом месяце средний пользователь с подпиской приносят больше прибыли бизнесу чем средний пользователь без подписки. \\\n",
    "Если есть необходимость повысить прибыль, возможно стоит ввести какие-нибудь акции на подписки для новых пользователей, только нужно рассчитать стоимость так, чтобы желательно приыбыль от такого пользователя с подпиской была не меньше чем от текущего без подписки(например сделать стоимость подписки на первый месяц равной 100р). Но в любом случае для этого нужно проводить отдельные расчеты\n",
    "##### 6.4) Снизилось ли количество обращений в поддержку после обновления приложения, как тест стоит применить и почему?\n",
    "Безусловно в таком тесте нужно применять т-тест, причем мы должны взять 2 случайные выборки(до обновления, после обновления). Очевидным будет то, что некоторые пользователи могут содержаться в обоих выборках, потому выборки не будут независимыми, стоит применить `ttest_rel()` в таком случае. Гипотеза будет односторонней, причем:\n",
    "- Нулевая гипотеза - количество обращений осталось на таком же уровне\n",
    "- Альтернативная гипотеза - количество обращений уменьшилось(alternative = 'less')"
   ]
  },
  {
   "cell_type": "markdown",
   "id": "f6ae4b6c-f881-4bb6-af2f-e6bf7f27b22e",
   "metadata": {},
   "source": [
    "#### Вывод: \n",
    "В данном проекте я провел исследование популярного сервиса аренды самокатов. Мне удалось выполнить предобработку данных, исследовательский анализ, проверку гипотез, а также несколько других полезных действий для аналитики(подсчет выручки за каждый месяц, полный подсчет выручки каждого пользователя за год). Некоторые выводы по данному проекту:\n",
    "#### Вывод по предобработке\n",
    "Данные все удалось загрузить в проект, при этом не было обнаружено каких-либо пропусков и неявных дубликатов. Явные дубликаты были отброшены при помощи метода `drop_duplicates`\n",
    "#### Вывод по исследовательскому анализу\n",
    "- Меньше всего пользователей без подписки в Москве, но больше всего в Краснодаре. Возможно это связано с уровнем зарплат, в Москве уровень должен быть выше чем на Юге. Что касательно людей с подпиской, мы получаем очевидную зеркальную ситуацию, о которой можно сделать те же выводы что и с соотношением пользователей без подписки\n",
    "- Больше всего пользователей в Пятигорске и меньше всего в Москве\n",
    "- Соотношение подписчиков к обычным бесплатным пользователям: 0.837\n",
    "- Средний возраст пользователя - 25 лет\n",
    "- Минимальный возраст - 12 лет\n",
    "- Максимальный возраст - 43 года\n",
    "- Минимальная дистанция - <1 метра\n",
    "- Средняя дистанция - 3060 метров\n",
    "- Максимальная 7066 метров\n",
    "- Самая короткая поездка - 2 минуты\n",
    "- Средняя продолжительность поездки - 18 минут\n",
    "- Самая долгая поездка - 40 минут\n",
    "\n",
    "#### Вывод по гипотезам:\n",
    "##### 6.1) Тратят ли пользователи с подпиской больше времени на поездки?\n",
    "Нулевая гипотеза - пользователи с подпиской тратят столько же времени, сколько пользователи без подписки \\\n",
    "Альтернативная гипотеза - пользователи с подпиской тратят больше времени \\\n",
    "При заданном параметре статисчической значимости мы получили \"подтверждение\" гипотезы, я думаю это может быть связано с многими параметрами:\n",
    "- Пользователи с подпиской любят кататься на самокатах\n",
    "- Самокат является их общественным видом транспорта\n",
    "\n",
    "Под пользователем рассматривается средний такой пользователь. \\\n",
    "Безусловно это очень выгодно бизнесу, так как если пользователи любят кататься на самокатах или же он является их общественным видом транспорта, то данные пользователи формируют некоторую базу постоянного заработка бизнесу, равносильно абонементу в спортзал. Именно поэтому бизнес может Рассчитывать на какой-то минимальный доход из учета стоимости подписок.\n",
    "##### 6.2) Среднее расстояние, которое проезжают пользователи с подпиской не превышает 3130 метров?\n",
    "Нулевая гипотеза - пользователи с подпиской проезжают 3130 метров или меньше \\\n",
    "Альтернативная гипотеза - пользователи с подпиской проезжают больше 3130 метров \\\n",
    "Гипотеза не подтвердилась, при статистической значимости = 0.05 \\\n",
    "Думаю это выгодно для бизнеса, так как подписчики меньше изнашивают самокаты, следовательно необходимость в скором ремонте отпадает\n",
    "##### 6.3) Помесячная выручка от пользователей с подпиской больше чем от пользователей без подписки?\n",
    "Нулевая гипотеза - выручка от подписчиков и не подписчиков примерно одинакова \\\n",
    "Альтернативная гипотеза - выручка от подписчиков больше чем от не подписчков \\\n",
    "Видно, что в каждом месяце средний пользователь с подпиской приносят больше прибыли бизнесу чем средний пользователь без подписки. \\\n",
    "Если есть необходимость повысить прибыль, возможно стоит ввести какие-нибудь акции на подписки для новых пользователей, только нужно рассчитать стоимость так, чтобы желательно приыбыль от такого пользователя с подпиской была не меньше чем от текущего без подписки(например сделать стоимость подписки на первый месяц равной 100р). Но в любом случае для этого нужно проводить отдельные расчеты\n",
    "##### 6.4) Снизилось ли количество обращений в поддержку после обновления приложения, как тест стоит применить и почему?\n",
    "Безусловно в таком тесте нужно применять т-тест, причем мы должны взять 2 случайные выборки(до обновления, после обновления). Очевидным будет то, что некоторые пользователи могут содержаться в обоих выборках, потому выборки не будут независимыми, стоит применить `ttest_rel()` в таком случае. Гипотеза будет односторонней, причем:\n",
    "- Нулевая гипотеза - количество обращений осталось на таком же уровне\n",
    "- Альтернативная гипотеза - количество обращений уменьшилось(alternative = 'less')"
   ]
  },
  {
   "cell_type": "markdown",
   "id": "dce827dd",
   "metadata": {},
   "source": [
    "<div style=\"border:solid steelblue 3px; padding: 20px\">\n",
    "<font size=\"4\">🍕<b> Комментарий ревьюера</b></font>\n",
    "<br /> \n",
    "<font size=\"3\", color = \"black\">\n",
    "<br />\n",
    "    \n",
    "[Подробное руководство по группировке и агрегированию с помощью pandas](https://dfedorov.spb.ru/pandas/%D0%9F%D0%BE%D0%B4%D1%80%D0%BE%D0%B1%D0%BD%D0%BE%D0%B5%20%D1%80%D1%83%D0%BA%D0%BE%D0%B2%D0%BE%D0%B4%D1%81%D1%82%D0%B2%D0%BE%20%D0%BF%D0%BE%20%D0%B3%D1%80%D1%83%D0%BF%D0%BF%D0%B8%D1%80%D0%BE%D0%B2%D0%BA%D0%B5%20%D0%B8%20%D0%B0%D0%B3%D1%80%D0%B5%D0%B3%D0%B8%D1%80%D0%BE%D0%B2%D0%B0%D0%BD%D0%B8%D1%8E%20%D1%81%20%D0%BF%D0%BE%D0%BC%D0%BE%D1%89%D1%8C%D1%8E%20pandas.html)    \n",
    "    \n",
    "[Примеры объединения таблиц, общая справка](https://pandas.pydata.org/pandas-docs/stable/user_guide/merging.html)      \n",
    "\n",
    "[Примеры объединения таблиц, Федоров Д.](https://dfedorov.spb.ru/pandas/08.%20%D0%9A%D0%B0%D0%BA%20%D0%BE%D0%B1%D1%8A%D0%B5%D0%B4%D0%B8%D0%BD%D0%B8%D1%82%D1%8C%20%D0%B4%D0%B0%D0%BD%D0%BD%D1%8B%D0%B5%20%D0%B8%D0%B7%20%D0%BD%D0%B5%D1%81%D0%BA%D0%BE%D0%BB%D1%8C%D0%BA%D0%B8%D1%85%20%D1%82%D0%B0%D0%B1%D0%BB%D0%B8%D1%86_.html?ysclid=lklv5hyic8790467123)\n",
    "    \n",
    "    \n",
    "    \n",
    "[Искусство статистики](https://www.mann-ivanov-ferber.ru/books/iskusstvo-statistiki/)\n",
    "        \n",
    "    \n",
    "В помощь — как реализовать интерактивный план проекта вручную, смотри по <a href=\"https://stackoverflow.com/questions/49535664/how-to-hyperlink-in-a-jupyter-notebook/49717704\">ссылке</a>\n",
    "    \n",
    "пара ссылок и по разделам проекта можно будет переходить без пролистывания всего кода, особенно актуально на проектах длина которых >  10 страниц (и там где не установлен плагин TOC)\n",
    "     \n",
    "    \n",
    "[Базовый обзор распределений в статистике](https://qwertybox.ru/articles/242302/)\n",
    "    \n",
    "[Как использовать биномиальное распределение в Python](https://www.codecamp.ru/blog/binomial-distribution-python/?ysclid=lmjbdt49de135513011)       \n",
    "    \n",
    "[Объяснение P-значений и статистической значимости](https://www.codecamp.ru/blog/p-values-statistical-significance/?ysclid=lm88qnc76l397155692)     "
   ]
  },
  {
   "cell_type": "markdown",
   "id": "81509b3c",
   "metadata": {},
   "source": [
    "##### Задача 7.1 — декомпозиция\n",
    "\n",
    "+ Отделу маркетинга GoFast поставили задачу: нужно провести акцию с раздачей промокодов на один бесплатный месяц подписки, в рамках которой как минимум 100 существующих клиентов должны продлить эту подписку. \n",
    "\n",
    "+ То есть по завершении периода действия подписки пользователь может либо отказаться от неё, либо продлить, совершив соответствующий платёж. \n",
    "\n",
    "+ Эта акция уже проводилась ранее и по итогу выяснилось, что после бесплатного пробного периода подписку продлевают 10 % пользователей. \n",
    "\n",
    "+ Выясните, какое минимальное количество промокодов нужно разослать, чтобы вероятность не выполнить план была примерно 5 %. \n",
    "\n",
    "+ Подберите параметры распределения, описывающего эту ситуацию, постройте график распределения и сформулируйте ответ на вопрос о количестве промокодов."
   ]
  },
  {
   "cell_type": "markdown",
   "id": "d00db38d",
   "metadata": {},
   "source": [
    "+ 100 существующих клиентов должны продлить эту подписку.\n",
    " + т.е. мы ищем х - кол-во промокодов, которое мы раздадим, чтобы сохранить 100 клиентов"
   ]
  },
  {
   "cell_type": "markdown",
   "id": "35d7fedc",
   "metadata": {},
   "source": [
    "+ может либо отказаться от неё, либо продлить\n",
    " + т.е. два исхода"
   ]
  },
  {
   "cell_type": "markdown",
   "id": "33bfe0ea",
   "metadata": {},
   "source": [
    "+ подписку продлевают 10 % пользователей\n",
    " + т.е. из кол-ва Х, которое мы найдем и по которому разошлем промокоды, полагаясь на предыдущий опыт, продлят подписку 10%"
   ]
  },
  {
   "cell_type": "markdown",
   "id": "99f01f24",
   "metadata": {},
   "source": [
    "+ вероятность не выполнить план была примерно 5 %\n",
    " + т.е. мы должны найти вероятность успеха нашей акции 1-0,05 = 95%\n",
    " + этот план будет иметь свою вероятность исполнения при разном кол-ве Х, т.е. если мы выберем Х = 1000, вероятность успеха будет равна А, при 2000 промокодах, вероятность будет равна В. Но, увеличивая кол-во промокодов, мы увеличиваем трудозатраты ... По этой причине нас устроит вероятность успеха 95%, для которой и предстоит рассчитать кол-во промокодов Х"
   ]
  },
  {
   "cell_type": "markdown",
   "id": "ff9284d7",
   "metadata": {},
   "source": [
    "Получается задача делиться на две части\n",
    "\n",
    "+ число положительных исходов должно быть равно 100-ам\n",
    "\n",
    "+ но вероятность такого события должна быть равна 95% \n",
    "\n"
   ]
  },
  {
   "cell_type": "markdown",
   "id": "5907a20b",
   "metadata": {},
   "source": [
    "Урок\n",
    "\n",
    "Percent Point Function для нормального распределения\n",
    "+ Ранее вы познакомились с функцией распределения, или кумулятивной функцией распределения.\n",
    "\n"
   ]
  },
  {
   "attachments": {
    "image-3.png": {
     "image/png": "[encoded data removed]"
    },
    "image-4.png": {
     "image/png": "[encoded data removed]"
    }
   },
   "cell_type": "markdown",
   "id": "a5a76b54",
   "metadata": {},
   "source": [
    "![image-3.png](attachment:image-3.png)\n",
    "\n",
    "![image-4.png](attachment:image-4.png)"
   ]
  },
  {
   "cell_type": "markdown",
   "id": "d59db8d7",
   "metadata": {},
   "source": [
    "<div class=\"alert alert-success\">\n",
    "<font size=\"4\", color= \"seagreen\"><b>✔️ Комментарий ревьюера </b></font>\n",
    "    <br /> \n",
    "    <font size=\"3\", color = \"black\">\n",
    "<br />меняем norm на binom\n",
    "             \n",
    "        \n",
    "https://www.statology.org/binompdf-vs-binomcdf/        \n",
    "        \n",
    "немного перефразируем известный сайт\n",
    "        \n",
    "    1 - binom.cdf(k, n, p): \n",
    "        \n",
    "Разность ⬆⬆⬆ находит вероятность того, что k успешных попыток или меньше произойдет в течение n испытаний, где вероятность успеха в данном испытании равна p.        "
   ]
  },
  {
   "cell_type": "code",
   "execution_count": 49,
   "id": "cc852c2a",
   "metadata": {
    "scrolled": true
   },
   "outputs": [
    {
     "data": {
      "text/plain": [
       "0.4734009187048347"
      ]
     },
     "execution_count": 49,
     "metadata": {},
     "output_type": "execute_result"
    }
   ],
   "source": [
    "from scipy.stats import binom\n",
    "\n",
    "#calculate binomial probability\n",
    "1 - binom.cdf(k=100, n=1000 , p=0.1)"
   ]
  },
  {
   "cell_type": "markdown",
   "id": "c49ff7d8",
   "metadata": {},
   "source": [
    "<div class=\"alert alert-success\">\n",
    "<font size=\"4\", color= \"seagreen\"><b>✔️ Комментарий ревьюера </b></font>\n",
    "    <br /> \n",
    "    <font size=\"3\", color = \"black\">\n",
    "<br />Получается вероятность успеха при раздаче 1000 промокодов, будет равна 47,3%\n",
    "        \n",
    "Остается дотянуть до 95%"
   ]
  },
  {
   "cell_type": "markdown",
   "id": "e8d941ea",
   "metadata": {},
   "source": [
    "### Бонус"
   ]
  },
  {
   "cell_type": "markdown",
   "id": "47e8ff31",
   "metadata": {},
   "source": [
    "<div class=\"alert alert-success\">\n",
    "<font size=\"4\", color= \"seagreen\"><b>✔️ Комментарий ревьюера в4</b></font>\n",
    "    <br /> \n",
    "    <font size=\"3\", color = \"black\">\n",
    "<br /> Примеры особенности объединения, в т.ч. с параметрами по умолчанию при merge (для справки в join такая же «засада» по характеру, но другая по исполнению)\n",
    "        \n",
    "Использование параметров по умолчанию может привести к потере данных при объединении        \n",
    "     \n",
    "         "
   ]
  },
  {
   "cell_type": "code",
   "execution_count": 50,
   "id": "c8d20f59",
   "metadata": {},
   "outputs": [],
   "source": [
    "dfg1 = pd.DataFrame(\n",
    "    {\n",
    "        \"A\": [\"A0\", \"A1\", \"A2\", \"A3\"],\n",
    "        \"B\": [\"B0\", \"B1\", \"B2\", \"B3\"],\n",
    "        \"C\": [\"C0\", \"C1\", \"C2\", \"C3\"],\n",
    "        \"D\": [\"D0\", \"D1\", \"D2\", \"D3\"],\n",
    "    },\n",
    "    index=[0, 1, 2, 3],\n",
    ")\n",
    "\n",
    "dfr4 = pd.DataFrame(\n",
    "    {\n",
    "        \"B\": [\"B2\", \"B3\", \"B6\", \"B7\"],\n",
    "        \"D\": [\"D2\", \"D3\", \"D6\", \"D7\"],\n",
    "        \"F\": [\"F2\", \"F3\", \"F6\", \"F7\"],\n",
    "        \"E\": [np.nan, np.nan, np.nan, np.nan]\n",
    "    },\n",
    "    index=[2, 3, 6, 0],\n",
    ")"
   ]
  },
  {
   "cell_type": "code",
   "execution_count": 51,
   "id": "8db67597",
   "metadata": {
    "scrolled": true
   },
   "outputs": [
    {
     "data": {
      "text/html": [
       "<div>\n",
       "<style scoped>\n",
       "    .dataframe tbody tr th:only-of-type {\n",
       "        vertical-align: middle;\n",
       "    }\n",
       "\n",
       "    .dataframe tbody tr th {\n",
       "        vertical-align: top;\n",
       "    }\n",
       "\n",
       "    .dataframe thead th {\n",
       "        text-align: right;\n",
       "    }\n",
       "</style>\n",
       "<table border=\"1\" class=\"dataframe\">\n",
       "  <thead>\n",
       "    <tr style=\"text-align: right;\">\n",
       "      <th></th>\n",
       "      <th>A</th>\n",
       "      <th>B</th>\n",
       "      <th>C</th>\n",
       "      <th>D</th>\n",
       "    </tr>\n",
       "  </thead>\n",
       "  <tbody>\n",
       "    <tr>\n",
       "      <th>0</th>\n",
       "      <td>A0</td>\n",
       "      <td>B0</td>\n",
       "      <td>C0</td>\n",
       "      <td>D0</td>\n",
       "    </tr>\n",
       "    <tr>\n",
       "      <th>1</th>\n",
       "      <td>A1</td>\n",
       "      <td>B1</td>\n",
       "      <td>C1</td>\n",
       "      <td>D1</td>\n",
       "    </tr>\n",
       "    <tr>\n",
       "      <th>2</th>\n",
       "      <td>A2</td>\n",
       "      <td>B2</td>\n",
       "      <td>C2</td>\n",
       "      <td>D2</td>\n",
       "    </tr>\n",
       "    <tr>\n",
       "      <th>3</th>\n",
       "      <td>A3</td>\n",
       "      <td>B3</td>\n",
       "      <td>C3</td>\n",
       "      <td>D3</td>\n",
       "    </tr>\n",
       "  </tbody>\n",
       "</table>\n",
       "</div>"
      ],
      "text/plain": [
       "    A   B   C   D\n",
       "0  A0  B0  C0  D0\n",
       "1  A1  B1  C1  D1\n",
       "2  A2  B2  C2  D2\n",
       "3  A3  B3  C3  D3"
      ]
     },
     "metadata": {},
     "output_type": "display_data"
    },
    {
     "data": {
      "text/html": [
       "<div>\n",
       "<style scoped>\n",
       "    .dataframe tbody tr th:only-of-type {\n",
       "        vertical-align: middle;\n",
       "    }\n",
       "\n",
       "    .dataframe tbody tr th {\n",
       "        vertical-align: top;\n",
       "    }\n",
       "\n",
       "    .dataframe thead th {\n",
       "        text-align: right;\n",
       "    }\n",
       "</style>\n",
       "<table border=\"1\" class=\"dataframe\">\n",
       "  <thead>\n",
       "    <tr style=\"text-align: right;\">\n",
       "      <th></th>\n",
       "      <th>B</th>\n",
       "      <th>D</th>\n",
       "      <th>F</th>\n",
       "      <th>E</th>\n",
       "    </tr>\n",
       "  </thead>\n",
       "  <tbody>\n",
       "    <tr>\n",
       "      <th>2</th>\n",
       "      <td>B2</td>\n",
       "      <td>D2</td>\n",
       "      <td>F2</td>\n",
       "      <td>NaN</td>\n",
       "    </tr>\n",
       "    <tr>\n",
       "      <th>3</th>\n",
       "      <td>B3</td>\n",
       "      <td>D3</td>\n",
       "      <td>F3</td>\n",
       "      <td>NaN</td>\n",
       "    </tr>\n",
       "    <tr>\n",
       "      <th>6</th>\n",
       "      <td>B6</td>\n",
       "      <td>D6</td>\n",
       "      <td>F6</td>\n",
       "      <td>NaN</td>\n",
       "    </tr>\n",
       "    <tr>\n",
       "      <th>0</th>\n",
       "      <td>B7</td>\n",
       "      <td>D7</td>\n",
       "      <td>F7</td>\n",
       "      <td>NaN</td>\n",
       "    </tr>\n",
       "  </tbody>\n",
       "</table>\n",
       "</div>"
      ],
      "text/plain": [
       "    B   D   F   E\n",
       "2  B2  D2  F2 NaN\n",
       "3  B3  D3  F3 NaN\n",
       "6  B6  D6  F6 NaN\n",
       "0  B7  D7  F7 NaN"
      ]
     },
     "metadata": {},
     "output_type": "display_data"
    }
   ],
   "source": [
    "display(dfg1, dfr4)"
   ]
  },
  {
   "cell_type": "code",
   "execution_count": 52,
   "id": "e890f259",
   "metadata": {},
   "outputs": [
    {
     "data": {
      "text/html": [
       "<div>\n",
       "<style scoped>\n",
       "    .dataframe tbody tr th:only-of-type {\n",
       "        vertical-align: middle;\n",
       "    }\n",
       "\n",
       "    .dataframe tbody tr th {\n",
       "        vertical-align: top;\n",
       "    }\n",
       "\n",
       "    .dataframe thead th {\n",
       "        text-align: right;\n",
       "    }\n",
       "</style>\n",
       "<table border=\"1\" class=\"dataframe\">\n",
       "  <thead>\n",
       "    <tr style=\"text-align: right;\">\n",
       "      <th></th>\n",
       "      <th>key_0</th>\n",
       "      <th>A</th>\n",
       "      <th>B_x</th>\n",
       "      <th>C</th>\n",
       "      <th>D_x</th>\n",
       "      <th>B_y</th>\n",
       "      <th>D_y</th>\n",
       "      <th>F</th>\n",
       "      <th>E</th>\n",
       "    </tr>\n",
       "  </thead>\n",
       "  <tbody>\n",
       "    <tr>\n",
       "      <th>0</th>\n",
       "      <td>0</td>\n",
       "      <td>A0</td>\n",
       "      <td>B0</td>\n",
       "      <td>C0</td>\n",
       "      <td>D0</td>\n",
       "      <td>B7</td>\n",
       "      <td>D7</td>\n",
       "      <td>F7</td>\n",
       "      <td>NaN</td>\n",
       "    </tr>\n",
       "    <tr>\n",
       "      <th>1</th>\n",
       "      <td>1</td>\n",
       "      <td>A1</td>\n",
       "      <td>B1</td>\n",
       "      <td>C1</td>\n",
       "      <td>D1</td>\n",
       "      <td>NaN</td>\n",
       "      <td>NaN</td>\n",
       "      <td>NaN</td>\n",
       "      <td>NaN</td>\n",
       "    </tr>\n",
       "    <tr>\n",
       "      <th>2</th>\n",
       "      <td>2</td>\n",
       "      <td>A2</td>\n",
       "      <td>B2</td>\n",
       "      <td>C2</td>\n",
       "      <td>D2</td>\n",
       "      <td>B2</td>\n",
       "      <td>D2</td>\n",
       "      <td>F2</td>\n",
       "      <td>NaN</td>\n",
       "    </tr>\n",
       "    <tr>\n",
       "      <th>3</th>\n",
       "      <td>3</td>\n",
       "      <td>A3</td>\n",
       "      <td>B3</td>\n",
       "      <td>C3</td>\n",
       "      <td>D3</td>\n",
       "      <td>B3</td>\n",
       "      <td>D3</td>\n",
       "      <td>F3</td>\n",
       "      <td>NaN</td>\n",
       "    </tr>\n",
       "    <tr>\n",
       "      <th>4</th>\n",
       "      <td>6</td>\n",
       "      <td>NaN</td>\n",
       "      <td>NaN</td>\n",
       "      <td>NaN</td>\n",
       "      <td>NaN</td>\n",
       "      <td>B6</td>\n",
       "      <td>D6</td>\n",
       "      <td>F6</td>\n",
       "      <td>NaN</td>\n",
       "    </tr>\n",
       "  </tbody>\n",
       "</table>\n",
       "</div>"
      ],
      "text/plain": [
       "   key_0    A  B_x    C  D_x  B_y  D_y    F   E\n",
       "0      0   A0   B0   C0   D0   B7   D7   F7 NaN\n",
       "1      1   A1   B1   C1   D1  NaN  NaN  NaN NaN\n",
       "2      2   A2   B2   C2   D2   B2   D2   F2 NaN\n",
       "3      3   A3   B3   C3   D3   B3   D3   F3 NaN\n",
       "4      6  NaN  NaN  NaN  NaN   B6   D6   F6 NaN"
      ]
     },
     "execution_count": 52,
     "metadata": {},
     "output_type": "execute_result"
    }
   ],
   "source": [
    "dfg1.merge(dfr4, left_on=dfg1.index, right_on=dfr4.index, how='outer')"
   ]
  },
  {
   "cell_type": "code",
   "execution_count": 53,
   "id": "e6a76dbb",
   "metadata": {
    "scrolled": true
   },
   "outputs": [
    {
     "data": {
      "text/html": [
       "<div>\n",
       "<style scoped>\n",
       "    .dataframe tbody tr th:only-of-type {\n",
       "        vertical-align: middle;\n",
       "    }\n",
       "\n",
       "    .dataframe tbody tr th {\n",
       "        vertical-align: top;\n",
       "    }\n",
       "\n",
       "    .dataframe thead th {\n",
       "        text-align: right;\n",
       "    }\n",
       "</style>\n",
       "<table border=\"1\" class=\"dataframe\">\n",
       "  <thead>\n",
       "    <tr style=\"text-align: right;\">\n",
       "      <th></th>\n",
       "      <th>A</th>\n",
       "      <th>B</th>\n",
       "      <th>C</th>\n",
       "      <th>D</th>\n",
       "      <th>F</th>\n",
       "      <th>E</th>\n",
       "    </tr>\n",
       "  </thead>\n",
       "  <tbody>\n",
       "    <tr>\n",
       "      <th>0</th>\n",
       "      <td>A0</td>\n",
       "      <td>B0</td>\n",
       "      <td>C0</td>\n",
       "      <td>D0</td>\n",
       "      <td>NaN</td>\n",
       "      <td>NaN</td>\n",
       "    </tr>\n",
       "    <tr>\n",
       "      <th>1</th>\n",
       "      <td>A1</td>\n",
       "      <td>B1</td>\n",
       "      <td>C1</td>\n",
       "      <td>D1</td>\n",
       "      <td>NaN</td>\n",
       "      <td>NaN</td>\n",
       "    </tr>\n",
       "    <tr>\n",
       "      <th>2</th>\n",
       "      <td>A2</td>\n",
       "      <td>B2</td>\n",
       "      <td>C2</td>\n",
       "      <td>D2</td>\n",
       "      <td>F2</td>\n",
       "      <td>NaN</td>\n",
       "    </tr>\n",
       "    <tr>\n",
       "      <th>3</th>\n",
       "      <td>A3</td>\n",
       "      <td>B3</td>\n",
       "      <td>C3</td>\n",
       "      <td>D3</td>\n",
       "      <td>F3</td>\n",
       "      <td>NaN</td>\n",
       "    </tr>\n",
       "    <tr>\n",
       "      <th>4</th>\n",
       "      <td>NaN</td>\n",
       "      <td>B6</td>\n",
       "      <td>NaN</td>\n",
       "      <td>D6</td>\n",
       "      <td>F6</td>\n",
       "      <td>NaN</td>\n",
       "    </tr>\n",
       "    <tr>\n",
       "      <th>5</th>\n",
       "      <td>NaN</td>\n",
       "      <td>B7</td>\n",
       "      <td>NaN</td>\n",
       "      <td>D7</td>\n",
       "      <td>F7</td>\n",
       "      <td>NaN</td>\n",
       "    </tr>\n",
       "  </tbody>\n",
       "</table>\n",
       "</div>"
      ],
      "text/plain": [
       "     A   B    C   D    F   E\n",
       "0   A0  B0   C0  D0  NaN NaN\n",
       "1   A1  B1   C1  D1  NaN NaN\n",
       "2   A2  B2   C2  D2   F2 NaN\n",
       "3   A3  B3   C3  D3   F3 NaN\n",
       "4  NaN  B6  NaN  D6   F6 NaN\n",
       "5  NaN  B7  NaN  D7   F7 NaN"
      ]
     },
     "execution_count": 53,
     "metadata": {},
     "output_type": "execute_result"
    }
   ],
   "source": [
    "dfg1.merge(dfr4, 'outer')"
   ]
  },
  {
   "cell_type": "code",
   "execution_count": 54,
   "id": "4c290086",
   "metadata": {},
   "outputs": [
    {
     "data": {
      "text/html": [
       "<div>\n",
       "<style scoped>\n",
       "    .dataframe tbody tr th:only-of-type {\n",
       "        vertical-align: middle;\n",
       "    }\n",
       "\n",
       "    .dataframe tbody tr th {\n",
       "        vertical-align: top;\n",
       "    }\n",
       "\n",
       "    .dataframe thead th {\n",
       "        text-align: right;\n",
       "    }\n",
       "</style>\n",
       "<table border=\"1\" class=\"dataframe\">\n",
       "  <thead>\n",
       "    <tr style=\"text-align: right;\">\n",
       "      <th></th>\n",
       "      <th>A</th>\n",
       "      <th>B</th>\n",
       "      <th>C</th>\n",
       "      <th>D</th>\n",
       "      <th>F</th>\n",
       "      <th>E</th>\n",
       "    </tr>\n",
       "  </thead>\n",
       "  <tbody>\n",
       "    <tr>\n",
       "      <th>0</th>\n",
       "      <td>A2</td>\n",
       "      <td>B2</td>\n",
       "      <td>C2</td>\n",
       "      <td>D2</td>\n",
       "      <td>F2</td>\n",
       "      <td>NaN</td>\n",
       "    </tr>\n",
       "    <tr>\n",
       "      <th>1</th>\n",
       "      <td>A3</td>\n",
       "      <td>B3</td>\n",
       "      <td>C3</td>\n",
       "      <td>D3</td>\n",
       "      <td>F3</td>\n",
       "      <td>NaN</td>\n",
       "    </tr>\n",
       "  </tbody>\n",
       "</table>\n",
       "</div>"
      ],
      "text/plain": [
       "    A   B   C   D   F   E\n",
       "0  A2  B2  C2  D2  F2 NaN\n",
       "1  A3  B3  C3  D3  F3 NaN"
      ]
     },
     "execution_count": 54,
     "metadata": {},
     "output_type": "execute_result"
    }
   ],
   "source": [
    "dfg1.merge(dfr4)"
   ]
  },
  {
   "cell_type": "code",
   "execution_count": 55,
   "id": "c278c98f",
   "metadata": {},
   "outputs": [
    {
     "data": {
      "text/html": [
       "<div>\n",
       "<style scoped>\n",
       "    .dataframe tbody tr th:only-of-type {\n",
       "        vertical-align: middle;\n",
       "    }\n",
       "\n",
       "    .dataframe tbody tr th {\n",
       "        vertical-align: top;\n",
       "    }\n",
       "\n",
       "    .dataframe thead th {\n",
       "        text-align: right;\n",
       "    }\n",
       "</style>\n",
       "<table border=\"1\" class=\"dataframe\">\n",
       "  <thead>\n",
       "    <tr style=\"text-align: right;\">\n",
       "      <th></th>\n",
       "      <th>A</th>\n",
       "      <th>B</th>\n",
       "      <th>C</th>\n",
       "      <th>D</th>\n",
       "      <th>F</th>\n",
       "      <th>E</th>\n",
       "    </tr>\n",
       "  </thead>\n",
       "  <tbody>\n",
       "    <tr>\n",
       "      <th>0</th>\n",
       "      <td>A2</td>\n",
       "      <td>B2</td>\n",
       "      <td>C2</td>\n",
       "      <td>D2</td>\n",
       "      <td>F2</td>\n",
       "      <td>NaN</td>\n",
       "    </tr>\n",
       "    <tr>\n",
       "      <th>1</th>\n",
       "      <td>A3</td>\n",
       "      <td>B3</td>\n",
       "      <td>C3</td>\n",
       "      <td>D3</td>\n",
       "      <td>F3</td>\n",
       "      <td>NaN</td>\n",
       "    </tr>\n",
       "  </tbody>\n",
       "</table>\n",
       "</div>"
      ],
      "text/plain": [
       "    A   B   C   D   F   E\n",
       "0  A2  B2  C2  D2  F2 NaN\n",
       "1  A3  B3  C3  D3  F3 NaN"
      ]
     },
     "execution_count": 55,
     "metadata": {},
     "output_type": "execute_result"
    }
   ],
   "source": [
    "dfg1.merge(dfr4, 'inner')"
   ]
  },
  {
   "cell_type": "code",
   "execution_count": null,
   "id": "729a0fd1",
   "metadata": {},
   "outputs": [],
   "source": []
  },
  {
   "cell_type": "markdown",
   "id": "eb815318",
   "metadata": {},
   "source": [
    "<div class=\"alert alert-success\">\n",
    "<font size=\"4\", color= \"seagreen\"><b>✔️ Комментарий ревьюера в4</b></font>\n",
    "    <br /> \n",
    "    <font size=\"3\", color = \"black\">\n",
    "<br />Пример Закона больших чисел в действии (обратном), удалим 20 процентов (больше общепринятых 10%) всех данных из таблицы, где мы рассчитали выручку"
   ]
  },
  {
   "cell_type": "code",
   "execution_count": 56,
   "id": "837a6c15",
   "metadata": {},
   "outputs": [],
   "source": [
    "total_user_data_1 = total_user_data.reset_index()"
   ]
  },
  {
   "cell_type": "code",
   "execution_count": 57,
   "id": "860d5fe6",
   "metadata": {},
   "outputs": [
    {
     "data": {
      "text/plain": [
       "Index(['user_id', 'subscription_type', 'month', 'distance', 'duration',\n",
       "       'count', 'month_revenue'],\n",
       "      dtype='object')"
      ]
     },
     "execution_count": 57,
     "metadata": {},
     "output_type": "execute_result"
    }
   ],
   "source": [
    "total_user_data_1.columns"
   ]
  },
  {
   "cell_type": "code",
   "execution_count": 58,
   "id": "9a6554ae",
   "metadata": {},
   "outputs": [],
   "source": [
    "dfg_first = total_user_data_1.copy()"
   ]
  },
  {
   "cell_type": "code",
   "execution_count": 59,
   "id": "9c12aab3",
   "metadata": {},
   "outputs": [],
   "source": [
    "x = 'subscription_type'\n",
    "y = 'month_revenue'"
   ]
  },
  {
   "cell_type": "code",
   "execution_count": 60,
   "id": "29ce336f",
   "metadata": {},
   "outputs": [
    {
     "data": {
      "text/html": [
       "<div>\n",
       "<style scoped>\n",
       "    .dataframe tbody tr th:only-of-type {\n",
       "        vertical-align: middle;\n",
       "    }\n",
       "\n",
       "    .dataframe tbody tr th {\n",
       "        vertical-align: top;\n",
       "    }\n",
       "\n",
       "    .dataframe thead th {\n",
       "        text-align: right;\n",
       "    }\n",
       "</style>\n",
       "<table border=\"1\" class=\"dataframe\">\n",
       "  <thead>\n",
       "    <tr style=\"text-align: right;\">\n",
       "      <th></th>\n",
       "      <th>month_revenue</th>\n",
       "    </tr>\n",
       "    <tr>\n",
       "      <th>subscription_type</th>\n",
       "      <th></th>\n",
       "    </tr>\n",
       "  </thead>\n",
       "  <tbody>\n",
       "    <tr>\n",
       "      <th>free</th>\n",
       "      <td>329.3</td>\n",
       "    </tr>\n",
       "    <tr>\n",
       "      <th>ultra</th>\n",
       "      <td>362.8</td>\n",
       "    </tr>\n",
       "  </tbody>\n",
       "</table>\n",
       "</div>"
      ],
      "text/plain": [
       "                   month_revenue\n",
       "subscription_type               \n",
       "free                       329.3\n",
       "ultra                      362.8"
      ]
     },
     "execution_count": 60,
     "metadata": {},
     "output_type": "execute_result"
    }
   ],
   "source": [
    "dfg_first.groupby(x)[y].mean().round(1).to_frame()"
   ]
  },
  {
   "cell_type": "code",
   "execution_count": 61,
   "id": "bc967174",
   "metadata": {},
   "outputs": [
    {
     "data": {
      "image/png": "[encoded data removed]",
      "text/plain": [
       "<Figure size 1080x216 with 1 Axes>"
      ]
     },
     "metadata": {
      "needs_background": "light"
     },
     "output_type": "display_data"
    }
   ],
   "source": [
    "dfg_first.groupby(x)[y].hist(bins=200, figsize=(15,3), legend=True)\n",
    "plt.title('Гистограммы ежесячной выручки двух групп пользователей')\n",
    "plt.xlabel('руб.')\n",
    "plt.ylabel('кол-во');"
   ]
  },
  {
   "cell_type": "code",
   "execution_count": 62,
   "id": "4adfc92e",
   "metadata": {},
   "outputs": [],
   "source": [
    "# копируем таблицу\n",
    "dfg = dfg_first.copy()\n"
   ]
  },
  {
   "cell_type": "code",
   "execution_count": 63,
   "id": "8b4dff37",
   "metadata": {},
   "outputs": [
    {
     "name": "stdout",
     "output_type": "stream",
     "text": [
      "<class 'pandas.core.frame.DataFrame'>\n",
      "RangeIndex: 11300 entries, 0 to 11299\n",
      "Data columns (total 7 columns):\n",
      " #   Column             Non-Null Count  Dtype  \n",
      "---  ------             --------------  -----  \n",
      " 0   user_id            11300 non-null  int64  \n",
      " 1   subscription_type  11300 non-null  object \n",
      " 2   month              11300 non-null  int64  \n",
      " 3   distance           11300 non-null  float64\n",
      " 4   duration           11300 non-null  int64  \n",
      " 5   count              11300 non-null  int64  \n",
      " 6   month_revenue      11300 non-null  float64\n",
      "dtypes: float64(2), int64(4), object(1)\n",
      "memory usage: 618.1+ KB\n"
     ]
    }
   ],
   "source": [
    "dfg.info()"
   ]
  },
  {
   "cell_type": "code",
   "execution_count": 64,
   "id": "c9a91113",
   "metadata": {},
   "outputs": [],
   "source": [
    "# удаляем данные, 20%\n",
    "for col in dfg.columns:\n",
    "    dfg.loc[dfg.sample(frac=0.2).index, col] = np.nan"
   ]
  },
  {
   "cell_type": "code",
   "execution_count": 65,
   "id": "7d90f3e6",
   "metadata": {},
   "outputs": [
    {
     "name": "stdout",
     "output_type": "stream",
     "text": [
      "<class 'pandas.core.frame.DataFrame'>\n",
      "RangeIndex: 11300 entries, 0 to 11299\n",
      "Data columns (total 7 columns):\n",
      " #   Column             Non-Null Count  Dtype  \n",
      "---  ------             --------------  -----  \n",
      " 0   user_id            9040 non-null   float64\n",
      " 1   subscription_type  9040 non-null   object \n",
      " 2   month              9040 non-null   float64\n",
      " 3   distance           9040 non-null   float64\n",
      " 4   duration           9040 non-null   float64\n",
      " 5   count              9040 non-null   float64\n",
      " 6   month_revenue      9040 non-null   float64\n",
      "dtypes: float64(6), object(1)\n",
      "memory usage: 618.1+ KB\n"
     ]
    }
   ],
   "source": [
    "dfg.info()"
   ]
  },
  {
   "cell_type": "code",
   "execution_count": 66,
   "id": "a86d2814",
   "metadata": {},
   "outputs": [
    {
     "data": {
      "text/html": [
       "<div>\n",
       "<style scoped>\n",
       "    .dataframe tbody tr th:only-of-type {\n",
       "        vertical-align: middle;\n",
       "    }\n",
       "\n",
       "    .dataframe tbody tr th {\n",
       "        vertical-align: top;\n",
       "    }\n",
       "\n",
       "    .dataframe thead th {\n",
       "        text-align: right;\n",
       "    }\n",
       "</style>\n",
       "<table border=\"1\" class=\"dataframe\">\n",
       "  <thead>\n",
       "    <tr style=\"text-align: right;\">\n",
       "      <th></th>\n",
       "      <th>month_revenue</th>\n",
       "    </tr>\n",
       "    <tr>\n",
       "      <th>subscription_type</th>\n",
       "      <th></th>\n",
       "    </tr>\n",
       "  </thead>\n",
       "  <tbody>\n",
       "    <tr>\n",
       "      <th>free</th>\n",
       "      <td>328.4</td>\n",
       "    </tr>\n",
       "    <tr>\n",
       "      <th>ultra</th>\n",
       "      <td>362.9</td>\n",
       "    </tr>\n",
       "  </tbody>\n",
       "</table>\n",
       "</div>"
      ],
      "text/plain": [
       "                   month_revenue\n",
       "subscription_type               \n",
       "free                       328.4\n",
       "ultra                      362.9"
      ]
     },
     "execution_count": 66,
     "metadata": {},
     "output_type": "execute_result"
    }
   ],
   "source": [
    "dfg.groupby(x)[y].mean().round(1).to_frame()"
   ]
  },
  {
   "cell_type": "code",
   "execution_count": 67,
   "id": "f3cc8e7b",
   "metadata": {},
   "outputs": [
    {
     "data": {
      "image/png": "[encoded data removed]",
      "text/plain": [
       "<Figure size 1080x216 with 1 Axes>"
      ]
     },
     "metadata": {
      "needs_background": "light"
     },
     "output_type": "display_data"
    }
   ],
   "source": [
    "dfg.groupby(x)[y].hist(bins=200, figsize=(15,3), legend=True)\n",
    "plt.title('Гистограммы ежесячной выручки двух групп пользователей')\n",
    "plt.xlabel('руб.')\n",
    "plt.ylabel('кол-во');"
   ]
  },
  {
   "attachments": {
    "image.png": {
     "image/png": "[encoded data removed]"
    }
   },
   "cell_type": "markdown",
   "id": "1ec680cc",
   "metadata": {},
   "source": [
    "<div class=\"alert alert-success\">\n",
    "<font size=\"4\", color= \"seagreen\"><b>✔️ Комментарий ревьюера в4</b></font>\n",
    "    <br /> \n",
    "    <font size=\"3\", color = \"black\">\n",
    "<br />Если сравнить средние значения выручки, даже после удаления 20-ти процентов данных (но одно важное условие — данные удалялись случайным образом), они изменились незначительно, как и характер распределения самих данных (кол-во данных уменьшилось, безусловно).\n",
    "        \n",
    "Для сравнения представлен рисунок первой гистограммы\n",
    "        \n",
    "![image.png](attachment:image.png)        \n",
    "         "
   ]
  },
  {
   "cell_type": "code",
   "execution_count": null,
   "id": "8b53af46",
   "metadata": {},
   "outputs": [],
   "source": []
  },
  {
   "cell_type": "code",
   "execution_count": null,
   "id": "f8bd6024",
   "metadata": {},
   "outputs": [],
   "source": []
  },
  {
   "cell_type": "code",
   "execution_count": null,
   "id": "35b6b658",
   "metadata": {},
   "outputs": [],
   "source": []
  }
 ],
 "metadata": {
  "ExecuteTimeLog": [
   {
    "duration": 1359,
    "start_time": "2023-11-19T08:16:43.267Z"
   },
   {
    "duration": 471,
    "start_time": "2023-11-19T08:16:44.628Z"
   },
   {
    "duration": 11,
    "start_time": "2023-11-19T08:16:45.101Z"
   },
   {
    "duration": 6,
    "start_time": "2023-11-19T08:16:45.114Z"
   },
   {
    "duration": 19,
    "start_time": "2023-11-19T08:16:45.122Z"
   },
   {
    "duration": 43,
    "start_time": "2023-11-19T08:16:45.143Z"
   },
   {
    "duration": 10,
    "start_time": "2023-11-19T08:16:45.187Z"
   },
   {
    "duration": 28,
    "start_time": "2023-11-19T08:16:45.198Z"
   },
   {
    "duration": 8,
    "start_time": "2023-11-19T08:16:45.228Z"
   },
   {
    "duration": 14,
    "start_time": "2023-11-19T08:16:45.238Z"
   },
   {
    "duration": 26,
    "start_time": "2023-11-19T08:16:45.254Z"
   },
   {
    "duration": 26,
    "start_time": "2023-11-19T08:16:45.281Z"
   },
   {
    "duration": 20,
    "start_time": "2023-11-19T08:16:45.308Z"
   },
   {
    "duration": 18,
    "start_time": "2023-11-19T08:16:45.330Z"
   },
   {
    "duration": 40,
    "start_time": "2023-11-19T08:16:45.349Z"
   },
   {
    "duration": 28,
    "start_time": "2023-11-19T08:16:45.391Z"
   },
   {
    "duration": 200,
    "start_time": "2023-11-19T08:16:45.421Z"
   },
   {
    "duration": 165,
    "start_time": "2023-11-19T08:16:45.622Z"
   },
   {
    "duration": 10,
    "start_time": "2023-11-19T08:16:45.789Z"
   },
   {
    "duration": 172,
    "start_time": "2023-11-19T08:16:45.800Z"
   },
   {
    "duration": 329,
    "start_time": "2023-11-19T08:16:45.973Z"
   },
   {
    "duration": 277,
    "start_time": "2023-11-19T08:16:46.304Z"
   },
   {
    "duration": 7,
    "start_time": "2023-11-19T08:16:46.583Z"
   },
   {
    "duration": 22,
    "start_time": "2023-11-19T08:16:46.591Z"
   },
   {
    "duration": 1048,
    "start_time": "2023-11-19T08:16:46.615Z"
   },
   {
    "duration": 19,
    "start_time": "2023-11-19T08:16:47.664Z"
   },
   {
    "duration": 17,
    "start_time": "2023-11-19T08:16:47.684Z"
   },
   {
    "duration": 963,
    "start_time": "2023-11-19T08:16:47.704Z"
   },
   {
    "duration": 1003,
    "start_time": "2023-11-19T08:16:48.668Z"
   },
   {
    "duration": 5,
    "start_time": "2023-11-19T08:16:49.673Z"
   },
   {
    "duration": 10,
    "start_time": "2023-11-19T08:16:49.680Z"
   },
   {
    "duration": 46,
    "start_time": "2023-11-19T08:16:49.692Z"
   },
   {
    "duration": 196,
    "start_time": "2023-11-19T08:16:49.740Z"
   },
   {
    "duration": 6,
    "start_time": "2023-11-19T08:16:49.937Z"
   },
   {
    "duration": 10,
    "start_time": "2023-11-19T08:16:49.944Z"
   },
   {
    "duration": 25,
    "start_time": "2023-11-19T08:16:49.955Z"
   },
   {
    "duration": 63,
    "start_time": "2023-11-19T08:16:49.982Z"
   },
   {
    "duration": 20,
    "start_time": "2023-11-19T08:16:50.046Z"
   },
   {
    "duration": 5,
    "start_time": "2023-11-19T08:16:50.068Z"
   },
   {
    "duration": 83,
    "start_time": "2023-11-19T08:16:50.074Z"
   },
   {
    "duration": 23,
    "start_time": "2023-11-19T08:16:50.158Z"
   },
   {
    "duration": 7,
    "start_time": "2023-11-19T08:17:38.165Z"
   },
   {
    "duration": 1057,
    "start_time": "2023-11-19T08:28:31.926Z"
   },
   {
    "duration": 174,
    "start_time": "2023-11-19T08:28:32.985Z"
   },
   {
    "duration": 13,
    "start_time": "2023-11-19T08:28:33.160Z"
   },
   {
    "duration": 26,
    "start_time": "2023-11-19T08:28:33.175Z"
   },
   {
    "duration": 22,
    "start_time": "2023-11-19T08:28:33.203Z"
   },
   {
    "duration": 54,
    "start_time": "2023-11-19T08:28:33.226Z"
   },
   {
    "duration": 9,
    "start_time": "2023-11-19T08:28:33.282Z"
   },
   {
    "duration": 22,
    "start_time": "2023-11-19T08:28:33.292Z"
   },
   {
    "duration": 7,
    "start_time": "2023-11-19T08:28:33.315Z"
   },
   {
    "duration": 20,
    "start_time": "2023-11-19T08:28:33.323Z"
   },
   {
    "duration": 17,
    "start_time": "2023-11-19T08:28:33.344Z"
   },
   {
    "duration": 11,
    "start_time": "2023-11-19T08:28:33.363Z"
   },
   {
    "duration": 23,
    "start_time": "2023-11-19T08:28:33.376Z"
   },
   {
    "duration": 14,
    "start_time": "2023-11-19T08:28:33.402Z"
   },
   {
    "duration": 45,
    "start_time": "2023-11-19T08:28:33.417Z"
   },
   {
    "duration": 19,
    "start_time": "2023-11-19T08:28:33.463Z"
   },
   {
    "duration": 182,
    "start_time": "2023-11-19T08:28:33.484Z"
   },
   {
    "duration": 155,
    "start_time": "2023-11-19T08:28:33.667Z"
   },
   {
    "duration": 14,
    "start_time": "2023-11-19T08:28:33.824Z"
   },
   {
    "duration": 160,
    "start_time": "2023-11-19T08:28:33.839Z"
   },
   {
    "duration": 341,
    "start_time": "2023-11-19T08:28:34.001Z"
   },
   {
    "duration": 268,
    "start_time": "2023-11-19T08:28:34.343Z"
   },
   {
    "duration": 7,
    "start_time": "2023-11-19T08:28:34.613Z"
   },
   {
    "duration": 31,
    "start_time": "2023-11-19T08:28:34.621Z"
   },
   {
    "duration": 1029,
    "start_time": "2023-11-19T08:28:34.654Z"
   },
   {
    "duration": 21,
    "start_time": "2023-11-19T08:28:35.684Z"
   },
   {
    "duration": 32,
    "start_time": "2023-11-19T08:28:35.707Z"
   },
   {
    "duration": 1008,
    "start_time": "2023-11-19T08:28:35.740Z"
   },
   {
    "duration": 977,
    "start_time": "2023-11-19T08:28:36.750Z"
   },
   {
    "duration": 11,
    "start_time": "2023-11-19T08:28:37.728Z"
   },
   {
    "duration": 18,
    "start_time": "2023-11-19T08:28:37.740Z"
   },
   {
    "duration": 51,
    "start_time": "2023-11-19T08:28:37.760Z"
   },
   {
    "duration": 180,
    "start_time": "2023-11-19T08:28:37.813Z"
   },
   {
    "duration": 4,
    "start_time": "2023-11-19T08:28:37.995Z"
   },
   {
    "duration": 23,
    "start_time": "2023-11-19T08:28:38.000Z"
   },
   {
    "duration": 13,
    "start_time": "2023-11-19T08:28:38.025Z"
   },
   {
    "duration": 32,
    "start_time": "2023-11-19T08:28:38.040Z"
   },
   {
    "duration": 35,
    "start_time": "2023-11-19T08:28:38.074Z"
   },
   {
    "duration": 22,
    "start_time": "2023-11-19T08:28:38.111Z"
   },
   {
    "duration": 5,
    "start_time": "2023-11-19T08:28:38.134Z"
   },
   {
    "duration": 48,
    "start_time": "2023-11-19T08:28:38.142Z"
   },
   {
    "duration": 24,
    "start_time": "2023-11-19T08:28:38.192Z"
   },
   {
    "duration": 9,
    "start_time": "2023-11-19T08:29:33.282Z"
   },
   {
    "duration": 17,
    "start_time": "2023-11-19T08:37:53.028Z"
   },
   {
    "duration": 1084,
    "start_time": "2023-11-19T08:41:45.608Z"
   },
   {
    "duration": 168,
    "start_time": "2023-11-19T08:41:46.694Z"
   },
   {
    "duration": 11,
    "start_time": "2023-11-19T08:41:46.864Z"
   },
   {
    "duration": 7,
    "start_time": "2023-11-19T08:41:46.877Z"
   },
   {
    "duration": 9,
    "start_time": "2023-11-19T08:41:46.885Z"
   },
   {
    "duration": 25,
    "start_time": "2023-11-19T08:41:46.896Z"
   },
   {
    "duration": 8,
    "start_time": "2023-11-19T08:41:46.922Z"
   },
   {
    "duration": 13,
    "start_time": "2023-11-19T08:41:46.932Z"
   },
   {
    "duration": 7,
    "start_time": "2023-11-19T08:41:46.946Z"
   },
   {
    "duration": 10,
    "start_time": "2023-11-19T08:41:46.955Z"
   },
   {
    "duration": 6,
    "start_time": "2023-11-19T08:41:46.966Z"
   },
   {
    "duration": 10,
    "start_time": "2023-11-19T08:41:46.973Z"
   },
   {
    "duration": 21,
    "start_time": "2023-11-19T08:41:46.984Z"
   },
   {
    "duration": 6,
    "start_time": "2023-11-19T08:41:47.006Z"
   },
   {
    "duration": 36,
    "start_time": "2023-11-19T08:41:47.013Z"
   },
   {
    "duration": 14,
    "start_time": "2023-11-19T08:41:47.050Z"
   },
   {
    "duration": 194,
    "start_time": "2023-11-19T08:41:47.065Z"
   },
   {
    "duration": 162,
    "start_time": "2023-11-19T08:41:47.261Z"
   },
   {
    "duration": 16,
    "start_time": "2023-11-19T08:41:47.424Z"
   },
   {
    "duration": 165,
    "start_time": "2023-11-19T08:41:47.441Z"
   },
   {
    "duration": 332,
    "start_time": "2023-11-19T08:41:47.607Z"
   },
   {
    "duration": 272,
    "start_time": "2023-11-19T08:41:47.941Z"
   },
   {
    "duration": 7,
    "start_time": "2023-11-19T08:41:48.214Z"
   },
   {
    "duration": 27,
    "start_time": "2023-11-19T08:41:48.222Z"
   },
   {
    "duration": 1034,
    "start_time": "2023-11-19T08:41:48.250Z"
   },
   {
    "duration": 20,
    "start_time": "2023-11-19T08:41:49.285Z"
   },
   {
    "duration": 32,
    "start_time": "2023-11-19T08:41:49.306Z"
   },
   {
    "duration": 962,
    "start_time": "2023-11-19T08:41:49.341Z"
   },
   {
    "duration": 1021,
    "start_time": "2023-11-19T08:41:50.304Z"
   },
   {
    "duration": 4,
    "start_time": "2023-11-19T08:41:51.326Z"
   },
   {
    "duration": 17,
    "start_time": "2023-11-19T08:41:51.337Z"
   },
   {
    "duration": 44,
    "start_time": "2023-11-19T08:41:51.355Z"
   },
   {
    "duration": 190,
    "start_time": "2023-11-19T08:41:51.401Z"
   },
   {
    "duration": 4,
    "start_time": "2023-11-19T08:41:51.592Z"
   },
   {
    "duration": 8,
    "start_time": "2023-11-19T08:41:51.597Z"
   },
   {
    "duration": 12,
    "start_time": "2023-11-19T08:41:51.606Z"
   },
   {
    "duration": 54,
    "start_time": "2023-11-19T08:41:51.619Z"
   },
   {
    "duration": 35,
    "start_time": "2023-11-19T08:41:51.674Z"
   },
   {
    "duration": 22,
    "start_time": "2023-11-19T08:41:51.710Z"
   },
   {
    "duration": 6,
    "start_time": "2023-11-19T08:41:51.733Z"
   },
   {
    "duration": 47,
    "start_time": "2023-11-19T08:41:51.740Z"
   },
   {
    "duration": 30,
    "start_time": "2023-11-19T08:41:51.788Z"
   },
   {
    "duration": 4,
    "start_time": "2023-11-19T08:41:51.820Z"
   },
   {
    "duration": 1071,
    "start_time": "2023-11-20T11:56:49.380Z"
   },
   {
    "duration": 404,
    "start_time": "2023-11-20T11:56:50.452Z"
   },
   {
    "duration": 11,
    "start_time": "2023-11-20T11:56:50.858Z"
   },
   {
    "duration": 30,
    "start_time": "2023-11-20T11:56:50.871Z"
   },
   {
    "duration": 17,
    "start_time": "2023-11-20T11:56:50.902Z"
   },
   {
    "duration": 28,
    "start_time": "2023-11-20T11:56:50.920Z"
   },
   {
    "duration": 9,
    "start_time": "2023-11-20T11:56:50.949Z"
   },
   {
    "duration": 44,
    "start_time": "2023-11-20T11:56:50.959Z"
   },
   {
    "duration": 6,
    "start_time": "2023-11-20T11:56:51.005Z"
   },
   {
    "duration": 29,
    "start_time": "2023-11-20T11:56:51.012Z"
   },
   {
    "duration": 3,
    "start_time": "2023-11-20T11:56:51.043Z"
   },
   {
    "duration": 16,
    "start_time": "2023-11-20T11:56:51.048Z"
   },
   {
    "duration": 31,
    "start_time": "2023-11-20T11:56:51.065Z"
   },
   {
    "duration": 5,
    "start_time": "2023-11-20T11:56:51.098Z"
   },
   {
    "duration": 20,
    "start_time": "2023-11-20T11:56:51.105Z"
   },
   {
    "duration": 14,
    "start_time": "2023-11-20T11:56:51.127Z"
   },
   {
    "duration": 189,
    "start_time": "2023-11-20T11:56:51.143Z"
   },
   {
    "duration": 148,
    "start_time": "2023-11-20T11:56:51.333Z"
   },
   {
    "duration": 10,
    "start_time": "2023-11-20T11:56:51.482Z"
   },
   {
    "duration": 169,
    "start_time": "2023-11-20T11:56:51.494Z"
   },
   {
    "duration": 310,
    "start_time": "2023-11-20T11:56:51.665Z"
   },
   {
    "duration": 95,
    "start_time": "2023-11-20T11:56:51.977Z"
   },
   {
    "duration": 153,
    "start_time": "2023-11-20T11:56:52.073Z"
   },
   {
    "duration": 429,
    "start_time": "2023-11-20T11:56:52.227Z"
   },
   {
    "duration": 19,
    "start_time": "2023-11-20T11:56:52.657Z"
   },
   {
    "duration": 5,
    "start_time": "2023-11-20T11:56:52.678Z"
   },
   {
    "duration": 191,
    "start_time": "2023-11-20T11:56:52.684Z"
   },
   {
    "duration": 10,
    "start_time": "2023-11-20T11:56:52.879Z"
   },
   {
    "duration": 50,
    "start_time": "2023-11-20T11:56:52.890Z"
   },
   {
    "duration": 117,
    "start_time": "2023-11-20T11:56:52.941Z"
   },
   {
    "duration": 21,
    "start_time": "2023-11-20T11:56:53.059Z"
   },
   {
    "duration": 20,
    "start_time": "2023-11-20T11:56:53.081Z"
   },
   {
    "duration": 30,
    "start_time": "2023-11-20T11:56:53.102Z"
   },
   {
    "duration": 38,
    "start_time": "2023-11-20T11:56:53.133Z"
   },
   {
    "duration": 414,
    "start_time": "2023-11-20T11:56:53.173Z"
   },
   {
    "duration": 4,
    "start_time": "2023-11-20T11:56:53.588Z"
   },
   {
    "duration": 28,
    "start_time": "2023-11-20T11:56:53.594Z"
   },
   {
    "duration": 14323,
    "start_time": "2023-11-20T11:56:53.624Z"
   },
   {
    "duration": 7,
    "start_time": "2023-11-20T11:57:07.949Z"
   },
   {
    "duration": 12,
    "start_time": "2023-11-20T11:57:07.958Z"
   },
   {
    "duration": 10,
    "start_time": "2023-11-20T11:57:07.972Z"
   },
   {
    "duration": 20,
    "start_time": "2023-11-20T11:57:07.984Z"
   },
   {
    "duration": 26,
    "start_time": "2023-11-20T11:57:08.006Z"
   },
   {
    "duration": 7,
    "start_time": "2023-11-20T11:57:08.034Z"
   },
   {
    "duration": 189,
    "start_time": "2023-11-20T11:57:08.042Z"
   },
   {
    "duration": 4,
    "start_time": "2023-11-20T11:57:08.233Z"
   },
   {
    "duration": 9,
    "start_time": "2023-11-20T12:54:52.560Z"
   },
   {
    "duration": 12,
    "start_time": "2023-11-20T12:58:16.015Z"
   },
   {
    "duration": 12,
    "start_time": "2023-11-20T13:01:10.637Z"
   },
   {
    "duration": 8,
    "start_time": "2023-11-20T14:05:21.688Z"
   },
   {
    "duration": 1179,
    "start_time": "2023-11-20T14:08:02.626Z"
   },
   {
    "duration": 435,
    "start_time": "2023-11-20T14:08:03.807Z"
   },
   {
    "duration": 11,
    "start_time": "2023-11-20T14:08:04.243Z"
   },
   {
    "duration": 31,
    "start_time": "2023-11-20T14:08:04.255Z"
   },
   {
    "duration": 53,
    "start_time": "2023-11-20T14:08:04.288Z"
   },
   {
    "duration": 37,
    "start_time": "2023-11-20T14:08:04.343Z"
   },
   {
    "duration": 8,
    "start_time": "2023-11-20T14:08:04.382Z"
   },
   {
    "duration": 17,
    "start_time": "2023-11-20T14:08:04.391Z"
   },
   {
    "duration": 9,
    "start_time": "2023-11-20T14:08:04.409Z"
   },
   {
    "duration": 22,
    "start_time": "2023-11-20T14:08:04.419Z"
   },
   {
    "duration": 93,
    "start_time": "2023-11-20T14:08:04.441Z"
   },
   {
    "duration": 22,
    "start_time": "2023-11-20T14:08:04.536Z"
   },
   {
    "duration": 47,
    "start_time": "2023-11-20T14:08:04.559Z"
   },
   {
    "duration": 22,
    "start_time": "2023-11-20T14:08:04.609Z"
   },
   {
    "duration": 38,
    "start_time": "2023-11-20T14:08:04.632Z"
   },
   {
    "duration": 13,
    "start_time": "2023-11-20T14:08:04.671Z"
   },
   {
    "duration": 179,
    "start_time": "2023-11-20T14:08:04.685Z"
   },
   {
    "duration": 144,
    "start_time": "2023-11-20T14:08:04.865Z"
   },
   {
    "duration": 10,
    "start_time": "2023-11-20T14:08:05.010Z"
   },
   {
    "duration": 158,
    "start_time": "2023-11-20T14:08:05.022Z"
   },
   {
    "duration": 307,
    "start_time": "2023-11-20T14:08:05.181Z"
   },
   {
    "duration": 79,
    "start_time": "2023-11-20T14:08:05.489Z"
   },
   {
    "duration": 189,
    "start_time": "2023-11-20T14:08:05.569Z"
   },
   {
    "duration": 430,
    "start_time": "2023-11-20T14:08:05.759Z"
   },
   {
    "duration": 17,
    "start_time": "2023-11-20T14:08:06.191Z"
   },
   {
    "duration": 28,
    "start_time": "2023-11-20T14:08:06.209Z"
   },
   {
    "duration": 209,
    "start_time": "2023-11-20T14:08:06.238Z"
   },
   {
    "duration": 10,
    "start_time": "2023-11-20T14:08:06.448Z"
   },
   {
    "duration": 43,
    "start_time": "2023-11-20T14:08:06.459Z"
   },
   {
    "duration": 95,
    "start_time": "2023-11-20T14:08:06.503Z"
   },
   {
    "duration": 22,
    "start_time": "2023-11-20T14:08:06.599Z"
   },
   {
    "duration": 37,
    "start_time": "2023-11-20T14:08:06.623Z"
   },
   {
    "duration": 32,
    "start_time": "2023-11-20T14:08:06.661Z"
   },
   {
    "duration": 16,
    "start_time": "2023-11-20T14:08:06.695Z"
   },
   {
    "duration": 445,
    "start_time": "2023-11-20T14:08:06.712Z"
   },
   {
    "duration": 4,
    "start_time": "2023-11-20T14:08:07.159Z"
   },
   {
    "duration": 41,
    "start_time": "2023-11-20T14:08:07.165Z"
   },
   {
    "duration": 14637,
    "start_time": "2023-11-20T14:08:07.207Z"
   },
   {
    "duration": 4,
    "start_time": "2023-11-20T14:08:21.845Z"
   },
   {
    "duration": 11,
    "start_time": "2023-11-20T14:08:21.856Z"
   },
   {
    "duration": 6,
    "start_time": "2023-11-20T14:08:21.871Z"
   },
   {
    "duration": 23,
    "start_time": "2023-11-20T14:08:21.879Z"
   },
   {
    "duration": 32,
    "start_time": "2023-11-20T14:08:21.904Z"
   },
   {
    "duration": 11,
    "start_time": "2023-11-20T14:08:21.938Z"
   },
   {
    "duration": 11,
    "start_time": "2023-11-20T14:08:21.950Z"
   },
   {
    "duration": 24,
    "start_time": "2023-11-20T14:08:21.963Z"
   },
   {
    "duration": 192,
    "start_time": "2023-11-20T14:08:21.988Z"
   },
   {
    "duration": 5,
    "start_time": "2023-11-20T14:08:22.182Z"
   },
   {
    "duration": 1140,
    "start_time": "2023-11-20T19:30:40.531Z"
   },
   {
    "duration": 177,
    "start_time": "2023-11-20T19:30:41.673Z"
   },
   {
    "duration": 12,
    "start_time": "2023-11-20T19:30:41.852Z"
   },
   {
    "duration": 10,
    "start_time": "2023-11-20T19:30:41.865Z"
   },
   {
    "duration": 21,
    "start_time": "2023-11-20T19:30:41.876Z"
   },
   {
    "duration": 47,
    "start_time": "2023-11-20T19:30:41.898Z"
   },
   {
    "duration": 8,
    "start_time": "2023-11-20T19:30:41.947Z"
   },
   {
    "duration": 34,
    "start_time": "2023-11-20T19:30:41.957Z"
   },
   {
    "duration": 14,
    "start_time": "2023-11-20T19:30:41.993Z"
   },
   {
    "duration": 30,
    "start_time": "2023-11-20T19:30:42.009Z"
   },
   {
    "duration": 6,
    "start_time": "2023-11-20T19:30:42.040Z"
   },
   {
    "duration": 27,
    "start_time": "2023-11-20T19:30:42.047Z"
   },
   {
    "duration": 22,
    "start_time": "2023-11-20T19:30:42.077Z"
   },
   {
    "duration": 17,
    "start_time": "2023-11-20T19:30:42.101Z"
   },
   {
    "duration": 38,
    "start_time": "2023-11-20T19:30:42.119Z"
   },
   {
    "duration": 13,
    "start_time": "2023-11-20T19:30:42.158Z"
   },
   {
    "duration": 189,
    "start_time": "2023-11-20T19:30:42.173Z"
   },
   {
    "duration": 157,
    "start_time": "2023-11-20T19:30:42.363Z"
   },
   {
    "duration": 10,
    "start_time": "2023-11-20T19:30:42.521Z"
   },
   {
    "duration": 168,
    "start_time": "2023-11-20T19:30:42.532Z"
   },
   {
    "duration": 336,
    "start_time": "2023-11-20T19:30:42.702Z"
   },
   {
    "duration": 82,
    "start_time": "2023-11-20T19:30:43.040Z"
   },
   {
    "duration": 175,
    "start_time": "2023-11-20T19:30:43.123Z"
   },
   {
    "duration": 486,
    "start_time": "2023-11-20T19:30:43.300Z"
   },
   {
    "duration": 19,
    "start_time": "2023-11-20T19:30:43.787Z"
   },
   {
    "duration": 9,
    "start_time": "2023-11-20T19:30:43.808Z"
   },
   {
    "duration": 215,
    "start_time": "2023-11-20T19:30:43.818Z"
   },
   {
    "duration": 9,
    "start_time": "2023-11-20T19:30:44.036Z"
   },
   {
    "duration": 26,
    "start_time": "2023-11-20T19:30:44.047Z"
   },
   {
    "duration": 109,
    "start_time": "2023-11-20T19:30:44.074Z"
   },
   {
    "duration": 23,
    "start_time": "2023-11-20T19:30:44.184Z"
   },
   {
    "duration": 20,
    "start_time": "2023-11-20T19:30:44.208Z"
   },
   {
    "duration": 59,
    "start_time": "2023-11-20T19:30:44.229Z"
   },
   {
    "duration": 27,
    "start_time": "2023-11-20T19:30:44.289Z"
   },
   {
    "duration": 427,
    "start_time": "2023-11-20T19:30:44.318Z"
   },
   {
    "duration": 10,
    "start_time": "2023-11-20T19:30:44.746Z"
   },
   {
    "duration": 40,
    "start_time": "2023-11-20T19:30:44.757Z"
   },
   {
    "duration": 15227,
    "start_time": "2023-11-20T19:30:44.799Z"
   },
   {
    "duration": 4,
    "start_time": "2023-11-20T19:31:00.028Z"
   },
   {
    "duration": 42,
    "start_time": "2023-11-20T19:31:00.033Z"
   },
   {
    "duration": 30,
    "start_time": "2023-11-20T19:31:00.076Z"
   },
   {
    "duration": 35,
    "start_time": "2023-11-20T19:31:00.108Z"
   },
   {
    "duration": 31,
    "start_time": "2023-11-20T19:31:00.144Z"
   },
   {
    "duration": 25,
    "start_time": "2023-11-20T19:31:00.176Z"
   },
   {
    "duration": 33,
    "start_time": "2023-11-20T19:31:00.202Z"
   },
   {
    "duration": 204,
    "start_time": "2023-11-20T19:31:00.236Z"
   },
   {
    "duration": 4,
    "start_time": "2023-11-20T19:31:00.441Z"
   },
   {
    "duration": 10,
    "start_time": "2023-11-20T20:02:07.991Z"
   },
   {
    "duration": 1058,
    "start_time": "2023-11-20T20:11:05.691Z"
   },
   {
    "duration": 181,
    "start_time": "2023-11-20T20:11:06.752Z"
   },
   {
    "duration": 11,
    "start_time": "2023-11-20T20:11:06.935Z"
   },
   {
    "duration": 18,
    "start_time": "2023-11-20T20:11:06.948Z"
   },
   {
    "duration": 32,
    "start_time": "2023-11-20T20:11:06.968Z"
   },
   {
    "duration": 53,
    "start_time": "2023-11-20T20:11:07.001Z"
   },
   {
    "duration": 9,
    "start_time": "2023-11-20T20:11:07.055Z"
   },
   {
    "duration": 18,
    "start_time": "2023-11-20T20:11:07.065Z"
   },
   {
    "duration": 19,
    "start_time": "2023-11-20T20:11:07.084Z"
   },
   {
    "duration": 39,
    "start_time": "2023-11-20T20:11:07.105Z"
   },
   {
    "duration": 12,
    "start_time": "2023-11-20T20:11:07.145Z"
   },
   {
    "duration": 24,
    "start_time": "2023-11-20T20:11:07.158Z"
   },
   {
    "duration": 47,
    "start_time": "2023-11-20T20:11:07.183Z"
   },
   {
    "duration": 16,
    "start_time": "2023-11-20T20:11:07.234Z"
   },
   {
    "duration": 43,
    "start_time": "2023-11-20T20:11:07.251Z"
   },
   {
    "duration": 22,
    "start_time": "2023-11-20T20:11:07.295Z"
   },
   {
    "duration": 186,
    "start_time": "2023-11-20T20:11:07.319Z"
   },
   {
    "duration": 167,
    "start_time": "2023-11-20T20:11:07.506Z"
   },
   {
    "duration": 10,
    "start_time": "2023-11-20T20:11:07.674Z"
   },
   {
    "duration": 182,
    "start_time": "2023-11-20T20:11:07.686Z"
   },
   {
    "duration": 331,
    "start_time": "2023-11-20T20:11:07.870Z"
   },
   {
    "duration": 86,
    "start_time": "2023-11-20T20:11:08.203Z"
   },
   {
    "duration": 176,
    "start_time": "2023-11-20T20:11:08.291Z"
   },
   {
    "duration": 471,
    "start_time": "2023-11-20T20:11:08.468Z"
   },
   {
    "duration": 30,
    "start_time": "2023-11-20T20:11:08.940Z"
   },
   {
    "duration": 28,
    "start_time": "2023-11-20T20:11:08.972Z"
   },
   {
    "duration": 212,
    "start_time": "2023-11-20T20:11:09.002Z"
   },
   {
    "duration": 10,
    "start_time": "2023-11-20T20:11:09.215Z"
   },
   {
    "duration": 31,
    "start_time": "2023-11-20T20:11:09.226Z"
   },
   {
    "duration": 113,
    "start_time": "2023-11-20T20:11:09.259Z"
   },
   {
    "duration": 22,
    "start_time": "2023-11-20T20:11:09.373Z"
   },
   {
    "duration": 19,
    "start_time": "2023-11-20T20:11:09.397Z"
   },
   {
    "duration": 62,
    "start_time": "2023-11-20T20:11:09.418Z"
   },
   {
    "duration": 26,
    "start_time": "2023-11-20T20:11:09.482Z"
   },
   {
    "duration": 434,
    "start_time": "2023-11-20T20:11:09.509Z"
   },
   {
    "duration": 12,
    "start_time": "2023-11-20T20:11:09.945Z"
   },
   {
    "duration": 38,
    "start_time": "2023-11-20T20:11:09.959Z"
   },
   {
    "duration": 15406,
    "start_time": "2023-11-20T20:11:09.998Z"
   },
   {
    "duration": 4,
    "start_time": "2023-11-20T20:11:25.405Z"
   },
   {
    "duration": 10,
    "start_time": "2023-11-20T20:11:25.411Z"
   },
   {
    "duration": 5,
    "start_time": "2023-11-20T20:11:25.424Z"
   },
   {
    "duration": 27,
    "start_time": "2023-11-20T20:11:25.431Z"
   },
   {
    "duration": 17,
    "start_time": "2023-11-20T20:11:25.459Z"
   },
   {
    "duration": 9,
    "start_time": "2023-11-20T20:11:25.477Z"
   },
   {
    "duration": 8,
    "start_time": "2023-11-20T20:11:25.487Z"
   },
   {
    "duration": 206,
    "start_time": "2023-11-20T20:11:25.496Z"
   },
   {
    "duration": 4,
    "start_time": "2023-11-20T20:11:25.703Z"
   },
   {
    "duration": 3,
    "start_time": "2023-11-20T22:16:08.100Z"
   },
   {
    "duration": 2,
    "start_time": "2023-11-20T22:17:37.219Z"
   },
   {
    "duration": 13,
    "start_time": "2023-11-20T22:28:48.212Z"
   },
   {
    "duration": 6,
    "start_time": "2023-11-20T22:31:04.602Z"
   },
   {
    "duration": 6,
    "start_time": "2023-11-20T22:33:16.611Z"
   },
   {
    "duration": 5,
    "start_time": "2023-11-20T22:33:26.228Z"
   },
   {
    "duration": 4,
    "start_time": "2023-11-20T22:42:19.872Z"
   },
   {
    "duration": 4,
    "start_time": "2023-11-20T22:42:20.191Z"
   },
   {
    "duration": 16,
    "start_time": "2023-11-20T22:42:32.351Z"
   },
   {
    "duration": 5,
    "start_time": "2023-11-20T22:42:48.090Z"
   },
   {
    "duration": 4,
    "start_time": "2023-11-20T22:42:49.984Z"
   },
   {
    "duration": 4,
    "start_time": "2023-11-20T22:43:21.777Z"
   },
   {
    "duration": 4,
    "start_time": "2023-11-20T22:43:22.104Z"
   },
   {
    "duration": 4,
    "start_time": "2023-11-20T22:43:36.283Z"
   },
   {
    "duration": 4,
    "start_time": "2023-11-20T22:43:36.635Z"
   },
   {
    "duration": 3,
    "start_time": "2023-11-20T22:43:37.179Z"
   },
   {
    "duration": 2,
    "start_time": "2023-11-20T22:43:37.650Z"
   },
   {
    "duration": 10,
    "start_time": "2023-11-20T22:43:38.098Z"
   },
   {
    "duration": 804,
    "start_time": "2023-11-20T22:43:38.691Z"
   },
   {
    "duration": 3,
    "start_time": "2023-11-20T22:43:40.811Z"
   },
   {
    "duration": 11,
    "start_time": "2023-11-20T22:43:41.490Z"
   },
   {
    "duration": 14,
    "start_time": "2023-11-20T22:43:41.675Z"
   },
   {
    "duration": 10,
    "start_time": "2023-11-20T22:43:41.923Z"
   },
   {
    "duration": 8,
    "start_time": "2023-11-20T22:43:42.344Z"
   },
   {
    "duration": 701,
    "start_time": "2023-11-20T22:43:42.627Z"
   },
   {
    "duration": 1119,
    "start_time": "2023-11-20T22:55:04.137Z"
   },
   {
    "duration": 207,
    "start_time": "2023-11-20T22:55:05.258Z"
   },
   {
    "duration": 11,
    "start_time": "2023-11-20T22:55:05.467Z"
   },
   {
    "duration": 7,
    "start_time": "2023-11-20T22:55:05.479Z"
   },
   {
    "duration": 9,
    "start_time": "2023-11-20T22:55:05.487Z"
   },
   {
    "duration": 39,
    "start_time": "2023-11-20T22:55:05.497Z"
   },
   {
    "duration": 20,
    "start_time": "2023-11-20T22:55:05.538Z"
   },
   {
    "duration": 35,
    "start_time": "2023-11-20T22:55:05.560Z"
   },
   {
    "duration": 5,
    "start_time": "2023-11-20T22:55:05.596Z"
   },
   {
    "duration": 23,
    "start_time": "2023-11-20T22:55:05.603Z"
   },
   {
    "duration": 4,
    "start_time": "2023-11-20T22:55:05.628Z"
   },
   {
    "duration": 5,
    "start_time": "2023-11-20T22:55:05.633Z"
   },
   {
    "duration": 10,
    "start_time": "2023-11-20T22:55:05.640Z"
   },
   {
    "duration": 6,
    "start_time": "2023-11-20T22:55:05.655Z"
   },
   {
    "duration": 20,
    "start_time": "2023-11-20T22:55:05.662Z"
   },
   {
    "duration": 32,
    "start_time": "2023-11-20T22:55:05.684Z"
   },
   {
    "duration": 169,
    "start_time": "2023-11-20T22:55:05.718Z"
   },
   {
    "duration": 149,
    "start_time": "2023-11-20T22:55:05.888Z"
   },
   {
    "duration": 19,
    "start_time": "2023-11-20T22:55:06.038Z"
   },
   {
    "duration": 175,
    "start_time": "2023-11-20T22:55:06.058Z"
   },
   {
    "duration": 322,
    "start_time": "2023-11-20T22:55:06.235Z"
   },
   {
    "duration": 76,
    "start_time": "2023-11-20T22:55:06.559Z"
   },
   {
    "duration": 177,
    "start_time": "2023-11-20T22:55:06.637Z"
   },
   {
    "duration": 463,
    "start_time": "2023-11-20T22:55:06.815Z"
   },
   {
    "duration": 19,
    "start_time": "2023-11-20T22:55:07.280Z"
   },
   {
    "duration": 6,
    "start_time": "2023-11-20T22:55:07.301Z"
   },
   {
    "duration": 210,
    "start_time": "2023-11-20T22:55:07.308Z"
   },
   {
    "duration": 10,
    "start_time": "2023-11-20T22:55:07.519Z"
   },
   {
    "duration": 39,
    "start_time": "2023-11-20T22:55:07.530Z"
   },
   {
    "duration": 103,
    "start_time": "2023-11-20T22:55:07.571Z"
   },
   {
    "duration": 20,
    "start_time": "2023-11-20T22:55:07.675Z"
   },
   {
    "duration": 21,
    "start_time": "2023-11-20T22:55:07.697Z"
   },
   {
    "duration": 54,
    "start_time": "2023-11-20T22:55:07.719Z"
   },
   {
    "duration": 26,
    "start_time": "2023-11-20T22:55:07.774Z"
   },
   {
    "duration": 448,
    "start_time": "2023-11-20T22:55:07.801Z"
   },
   {
    "duration": 11,
    "start_time": "2023-11-20T22:55:08.255Z"
   },
   {
    "duration": 34,
    "start_time": "2023-11-20T22:55:08.268Z"
   },
   {
    "duration": 14793,
    "start_time": "2023-11-20T22:55:08.303Z"
   },
   {
    "duration": 4,
    "start_time": "2023-11-20T22:55:23.098Z"
   },
   {
    "duration": 38,
    "start_time": "2023-11-20T22:55:23.104Z"
   },
   {
    "duration": 33,
    "start_time": "2023-11-20T22:55:23.147Z"
   },
   {
    "duration": 45,
    "start_time": "2023-11-20T22:55:23.182Z"
   },
   {
    "duration": 39,
    "start_time": "2023-11-20T22:55:23.228Z"
   },
   {
    "duration": 37,
    "start_time": "2023-11-20T22:55:23.269Z"
   },
   {
    "duration": 40,
    "start_time": "2023-11-20T22:55:23.307Z"
   },
   {
    "duration": 32,
    "start_time": "2023-11-20T22:55:23.348Z"
   },
   {
    "duration": 26,
    "start_time": "2023-11-20T22:55:23.382Z"
   },
   {
    "duration": 199,
    "start_time": "2023-11-20T22:55:23.409Z"
   },
   {
    "duration": 5,
    "start_time": "2023-11-20T22:55:23.609Z"
   },
   {
    "duration": 59,
    "start_time": "2023-11-20T22:55:23.615Z"
   },
   {
    "duration": 35,
    "start_time": "2023-11-20T22:55:23.675Z"
   },
   {
    "duration": 30,
    "start_time": "2023-11-20T22:55:23.712Z"
   },
   {
    "duration": 32,
    "start_time": "2023-11-20T22:55:23.744Z"
   },
   {
    "duration": 33,
    "start_time": "2023-11-20T22:55:23.778Z"
   },
   {
    "duration": 26,
    "start_time": "2023-11-20T22:55:23.813Z"
   },
   {
    "duration": 40,
    "start_time": "2023-11-20T22:55:23.841Z"
   },
   {
    "duration": 31,
    "start_time": "2023-11-20T22:55:23.882Z"
   },
   {
    "duration": 26,
    "start_time": "2023-11-20T22:55:23.914Z"
   },
   {
    "duration": 30,
    "start_time": "2023-11-20T22:55:23.941Z"
   },
   {
    "duration": 31,
    "start_time": "2023-11-20T22:55:23.973Z"
   },
   {
    "duration": 800,
    "start_time": "2023-11-20T22:55:24.006Z"
   },
   {
    "duration": 3,
    "start_time": "2023-11-20T22:55:24.808Z"
   },
   {
    "duration": 39,
    "start_time": "2023-11-20T22:55:24.812Z"
   },
   {
    "duration": 26,
    "start_time": "2023-11-20T22:55:24.853Z"
   },
   {
    "duration": 30,
    "start_time": "2023-11-20T22:55:24.881Z"
   },
   {
    "duration": 21,
    "start_time": "2023-11-20T22:55:24.913Z"
   },
   {
    "duration": 765,
    "start_time": "2023-11-20T22:55:24.935Z"
   }
  ],
  "kernelspec": {
   "display_name": "Python 3 (ipykernel)",
   "language": "python",
   "name": "python3"
  },
  "language_info": {
   "codemirror_mode": {
    "name": "ipython",
    "version": 3
   },
   "file_extension": ".py",
   "mimetype": "text/x-python",
   "name": "python",
   "nbconvert_exporter": "python",
   "pygments_lexer": "ipython3",
   "version": "3.9.5"
  },
  "toc": {
   "base_numbering": 1,
   "nav_menu": {},
   "number_sections": true,
   "sideBar": true,
   "skip_h1_title": true,
   "title_cell": "Table of Contents",
   "title_sidebar": "Contents",
   "toc_cell": false,
   "toc_position": {},
   "toc_section_display": true,
   "toc_window_display": true
  }
 },
 "nbformat": 4,
 "nbformat_minor": 5
}
