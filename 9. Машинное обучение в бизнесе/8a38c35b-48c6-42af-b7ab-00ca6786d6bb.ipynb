{
 "cells": [
  {
   "cell_type": "markdown",
   "id": "81945430",
   "metadata": {},
   "source": [
    "<div style=\"border:solid purple 2px; padding: 20px\">\n",
    "\n",
    "Привет! 👋\n",
    "\n",
    "Меня зовут Рустам Муртазин, и я буду делать ревью твоей работы. Давай будем общаться на **«ты»**. Если это неприемлемо, обязательно напиши мне в комментариях — мы перейдем на **«вы»**.\n",
    "\n",
    "Я не хочу указывать тебе на совершенные тобою ошибки, а хочу поделиться своим опытом и помочь тебе стать настоящим профессионалом и сделать проект еще лучше.\n",
    "\n",
    "Обрати внимание в первую очередь на те, что помечены <span style=\"color:red\">красным цветом</span>. После их доработки проект будет принят. <span style=\"color:green\">Зеленым цветом</span> отмечены удачные и элегантные решения, на которые можно опираться в будущих проектах. <span style=\"color:orange\">Оранжевым цветом</span> выделено то, что в следующий раз можно сделать по-другому. Ты можешь учесть эти комментарии при выполнении будущих заданий или доработать проект сейчас (однако это не обязательно). Также в проекте могут быть небольшие «лайфхаки» по Python, не относящиеся к проекту, их я выделил фиолетовым цветом)\n",
    "\n",
    "Давай работать над проектом в диалоге: если ты **что-то меняешь** в проекте по моим рекомендациям — **пиши об этом**. Выбери для своих комментариев какой-то заметный цвет, так мне будет легче отследить изменения. Пожалуйста, **не перемещай, не изменяй и не удаляй мои комментарии**. Всё это поможет выполнить повторную проверку твоего проекта оперативнее».\n",
    "\n",
    "По проекту есть пару замечаний, но их не много, я думаю ты быстро справишься. Жду твою работу на повторное ревью :)\n"
   ]
  },
  {
   "cell_type": "markdown",
   "id": "c62f4332",
   "metadata": {},
   "source": [
    "<div class=\"alert alert-success\">\n",
    "<h2> Комментарий ревьюера v2 ✔️ <a class=\"tocSkip\"> </h2>\n",
    "\n",
    "Спасибо за быструю и качественную доработку комментариев! Я просмотрел твои доработки, там все здорово и корректно, добавил пару комментариев.\n",
    "    \n",
    "Надеюсь ты учтешь мои комментарии в последующих работах. Благодарю за старания и интерес и желаю успехов в дальнейших проектах 😊\n",
    "\n",
    "</div>"
   ]
  },
  {
   "cell_type": "markdown",
   "id": "6b7467ff-1c7b-4a8b-af04-c576275fbf70",
   "metadata": {},
   "source": [
    "# Описание проекта"
   ]
  },
  {
   "cell_type": "markdown",
   "id": "74b4b44c-39c9-4a2b-9ae1-ef3ecf915f81",
   "metadata": {},
   "source": [
    "Вы работаете в добывающей компании «ГлавРосГосНефть». Нужно решить, где бурить новую скважину. \n",
    "\n",
    "Шаги для выбора локации обычно такие:\n",
    "- В избранном регионе собирают характеристики для скважин: качество нефти и объём её запасов;\n",
    "- Строят модель для предсказания объёма запасов в новых скважинах;\n",
    "- Выбирают скважины с самыми высокими оценками значений;\n",
    "- Определяют регион с максимальной суммарной прибылью отобранных скважин.\n",
    "\n",
    "Вам предоставлены пробы нефти в трёх регионах. Характеристики для каждой скважины в регионе уже известны. \\\n",
    "Постройте модель для определения региона, где добыча принесёт наибольшую прибыль. \\\n",
    "Проанализируйте возможную прибыль и риски техникой Bootstrap.\n"
   ]
  },
  {
   "cell_type": "code",
   "execution_count": 1,
   "id": "011eeecc-aba4-4e2a-95f4-5411c1f78fd1",
   "metadata": {},
   "outputs": [
    {
     "name": "stdout",
     "output_type": "stream",
     "text": [
      "Collecting phik\n",
      "  Downloading phik-0.12.4-cp39-cp39-manylinux_2_17_x86_64.manylinux2014_x86_64.whl (686 kB)\n",
      "\u001b[K     |████████████████████████████████| 686 kB 1.2 MB/s eta 0:00:01\n",
      "\u001b[?25hRequirement already satisfied: numpy>=1.18.0 in /opt/conda/lib/python3.9/site-packages (from phik) (1.21.1)\n",
      "Requirement already satisfied: scipy>=1.5.2 in /opt/conda/lib/python3.9/site-packages (from phik) (1.9.1)\n",
      "Requirement already satisfied: pandas>=0.25.1 in /opt/conda/lib/python3.9/site-packages (from phik) (1.2.4)\n",
      "Requirement already satisfied: joblib>=0.14.1 in /opt/conda/lib/python3.9/site-packages (from phik) (1.1.0)\n",
      "Requirement already satisfied: matplotlib>=2.2.3 in /opt/conda/lib/python3.9/site-packages (from phik) (3.3.4)\n",
      "Requirement already satisfied: python-dateutil>=2.1 in /opt/conda/lib/python3.9/site-packages (from matplotlib>=2.2.3->phik) (2.8.1)\n",
      "Requirement already satisfied: pyparsing!=2.0.4,!=2.1.2,!=2.1.6,>=2.0.3 in /opt/conda/lib/python3.9/site-packages (from matplotlib>=2.2.3->phik) (2.4.7)\n",
      "Requirement already satisfied: pillow>=6.2.0 in /opt/conda/lib/python3.9/site-packages (from matplotlib>=2.2.3->phik) (8.4.0)\n",
      "Requirement already satisfied: cycler>=0.10 in /opt/conda/lib/python3.9/site-packages (from matplotlib>=2.2.3->phik) (0.11.0)\n",
      "Requirement already satisfied: kiwisolver>=1.0.1 in /opt/conda/lib/python3.9/site-packages (from matplotlib>=2.2.3->phik) (1.4.4)\n",
      "Requirement already satisfied: pytz>=2017.3 in /opt/conda/lib/python3.9/site-packages (from pandas>=0.25.1->phik) (2021.1)\n",
      "Requirement already satisfied: six>=1.5 in /opt/conda/lib/python3.9/site-packages (from python-dateutil>=2.1->matplotlib>=2.2.3->phik) (1.16.0)\n",
      "Installing collected packages: phik\n",
      "Successfully installed phik-0.12.4\n"
     ]
    }
   ],
   "source": [
    "import pandas as pd\n",
    "import numpy as np\n",
    "import matplotlib.pyplot as plt\n",
    "import seaborn as sns\n",
    "\n",
    "try:\n",
    "    import phik\n",
    "except ImportError:\n",
    "    !pip install phik\n",
    "    import phik\n",
    "\n",
    "from scipy import stats\n",
    "from sklearn.model_selection import train_test_split\n",
    "from sklearn.linear_model import LinearRegression, Lasso, Ridge\n",
    "from sklearn.tree import DecisionTreeClassifier, DecisionTreeRegressor\n",
    "from sklearn.metrics import (\n",
    "    accuracy_score, mean_absolute_error, mean_squared_error,\n",
    "    r2_score, confusion_matrix, precision_score, recall_score,\n",
    "    f1_score, roc_auc_score, roc_curve, make_scorer\n",
    ")\n",
    "\n",
    "from sklearn.preprocessing import (\n",
    "    StandardScaler, MinMaxScaler, OneHotEncoder,\n",
    "    OrdinalEncoder, LabelEncoder, PolynomialFeatures\n",
    ")\n"
   ]
  },
  {
   "cell_type": "markdown",
   "id": "fc6e8230",
   "metadata": {},
   "source": [
    "<div class=\"alert alert-danger\">\n",
    "<h2> Комментарий ревьюера ❌ <a class=\"tocSkip\"> </h2>\n",
    "\n",
    "Все ли из этого нужно? Зачем импортировать лишние библиотеки, которые не используются в проекте, но могут быть причиной краха кода? У меня, например, ругался на отсутствие optuna.integration..."
   ]
  },
  {
   "cell_type": "markdown",
   "id": "8ba692d5",
   "metadata": {},
   "source": [
    "<div style=\"background-color: lightblue; padding: 10px; border: 1px solid blue; border-radius: 5px; width: 300px; margin: 10px;\">\n",
    "    <h2 style=\"color: navy;\">Комментарий студента</h2>\n",
    "    странно, что ругается, так я запускал в окружении практикума. я из проекта в проект тяну этот заголовочный файл, не думал, что его подключение может так нагружать\n",
    "</div>\n"
   ]
  },
  {
   "cell_type": "markdown",
   "id": "bb4af9fe",
   "metadata": {},
   "source": [
    "<div class=\"alert alert-success\">\n",
    "<h2> Комментарий ревьюера v2 ✔️ <a class=\"tocSkip\"> </h2>\n",
    "\n",
    "Дело в том, что у тебя в практикуме свое окружение, а у меня свое)"
   ]
  },
  {
   "cell_type": "markdown",
   "id": "7f540cf8-af13-4438-bb7c-8150947df39e",
   "metadata": {},
   "source": [
    "##  Подготовка данных"
   ]
  },
  {
   "cell_type": "code",
   "execution_count": 2,
   "id": "986d1e4a-f498-4df4-a98c-80e13ed48aa4",
   "metadata": {},
   "outputs": [],
   "source": [
    "try:\n",
    "    geo_data_first = pd.read_csv('geo_data_0.csv')\n",
    "except:\n",
    "    geo_data_first = pd.read_csv('/datasets/geo_data_0.csv')\n",
    "try:\n",
    "    geo_data_second = pd.read_csv('geo_data_1.csv')\n",
    "except:\n",
    "    geo_data_second = pd.read_csv('/datasets/geo_data_1.csv')\n",
    "try:\n",
    "    geo_data_third = pd.read_csv('geo_data_2.csv')\n",
    "except:\n",
    "    geo_data_third = pd.read_csv('/datasets/geo_data_2.csv')"
   ]
  },
  {
   "cell_type": "markdown",
   "id": "522bf408",
   "metadata": {},
   "source": [
    "<div class=\"alert alert-success\">\n",
    "<h2> Комментарий ревьюера ✔️ <a class=\"tocSkip\"> </h2>\n",
    "\n",
    "Здорово, что ты используешь конструкцию `try-except`, это повышает отказоустойчивость кода\n",
    "\n",
    "</div>"
   ]
  },
  {
   "cell_type": "code",
   "execution_count": 3,
   "id": "66209467-970b-44ed-baf3-e08ec9f1b2e1",
   "metadata": {},
   "outputs": [
    {
     "data": {
      "text/html": [
       "<div>\n",
       "<style scoped>\n",
       "    .dataframe tbody tr th:only-of-type {\n",
       "        vertical-align: middle;\n",
       "    }\n",
       "\n",
       "    .dataframe tbody tr th {\n",
       "        vertical-align: top;\n",
       "    }\n",
       "\n",
       "    .dataframe thead th {\n",
       "        text-align: right;\n",
       "    }\n",
       "</style>\n",
       "<table border=\"1\" class=\"dataframe\">\n",
       "  <thead>\n",
       "    <tr style=\"text-align: right;\">\n",
       "      <th></th>\n",
       "      <th>Unnamed: 0</th>\n",
       "      <th>id</th>\n",
       "      <th>f0</th>\n",
       "      <th>f1</th>\n",
       "      <th>f2</th>\n",
       "      <th>product</th>\n",
       "    </tr>\n",
       "  </thead>\n",
       "  <tbody>\n",
       "    <tr>\n",
       "      <th>0</th>\n",
       "      <td>0</td>\n",
       "      <td>txEyH</td>\n",
       "      <td>0.705745</td>\n",
       "      <td>-0.497823</td>\n",
       "      <td>1.221170</td>\n",
       "      <td>105.280062</td>\n",
       "    </tr>\n",
       "    <tr>\n",
       "      <th>1</th>\n",
       "      <td>1</td>\n",
       "      <td>2acmU</td>\n",
       "      <td>1.334711</td>\n",
       "      <td>-0.340164</td>\n",
       "      <td>4.365080</td>\n",
       "      <td>73.037750</td>\n",
       "    </tr>\n",
       "    <tr>\n",
       "      <th>2</th>\n",
       "      <td>2</td>\n",
       "      <td>409Wp</td>\n",
       "      <td>1.022732</td>\n",
       "      <td>0.151990</td>\n",
       "      <td>1.419926</td>\n",
       "      <td>85.265647</td>\n",
       "    </tr>\n",
       "    <tr>\n",
       "      <th>3</th>\n",
       "      <td>3</td>\n",
       "      <td>iJLyR</td>\n",
       "      <td>-0.032172</td>\n",
       "      <td>0.139033</td>\n",
       "      <td>2.978566</td>\n",
       "      <td>168.620776</td>\n",
       "    </tr>\n",
       "    <tr>\n",
       "      <th>4</th>\n",
       "      <td>4</td>\n",
       "      <td>Xdl7t</td>\n",
       "      <td>1.988431</td>\n",
       "      <td>0.155413</td>\n",
       "      <td>4.751769</td>\n",
       "      <td>154.036647</td>\n",
       "    </tr>\n",
       "  </tbody>\n",
       "</table>\n",
       "</div>"
      ],
      "text/plain": [
       "   Unnamed: 0     id        f0        f1        f2     product\n",
       "0           0  txEyH  0.705745 -0.497823  1.221170  105.280062\n",
       "1           1  2acmU  1.334711 -0.340164  4.365080   73.037750\n",
       "2           2  409Wp  1.022732  0.151990  1.419926   85.265647\n",
       "3           3  iJLyR -0.032172  0.139033  2.978566  168.620776\n",
       "4           4  Xdl7t  1.988431  0.155413  4.751769  154.036647"
      ]
     },
     "metadata": {},
     "output_type": "display_data"
    },
    {
     "data": {
      "text/html": [
       "<div>\n",
       "<style scoped>\n",
       "    .dataframe tbody tr th:only-of-type {\n",
       "        vertical-align: middle;\n",
       "    }\n",
       "\n",
       "    .dataframe tbody tr th {\n",
       "        vertical-align: top;\n",
       "    }\n",
       "\n",
       "    .dataframe thead th {\n",
       "        text-align: right;\n",
       "    }\n",
       "</style>\n",
       "<table border=\"1\" class=\"dataframe\">\n",
       "  <thead>\n",
       "    <tr style=\"text-align: right;\">\n",
       "      <th></th>\n",
       "      <th>Unnamed: 0</th>\n",
       "      <th>id</th>\n",
       "      <th>f0</th>\n",
       "      <th>f1</th>\n",
       "      <th>f2</th>\n",
       "      <th>product</th>\n",
       "    </tr>\n",
       "  </thead>\n",
       "  <tbody>\n",
       "    <tr>\n",
       "      <th>0</th>\n",
       "      <td>0</td>\n",
       "      <td>kBEdx</td>\n",
       "      <td>-15.001348</td>\n",
       "      <td>-8.276000</td>\n",
       "      <td>-0.005876</td>\n",
       "      <td>3.179103</td>\n",
       "    </tr>\n",
       "    <tr>\n",
       "      <th>1</th>\n",
       "      <td>1</td>\n",
       "      <td>62mP7</td>\n",
       "      <td>14.272088</td>\n",
       "      <td>-3.475083</td>\n",
       "      <td>0.999183</td>\n",
       "      <td>26.953261</td>\n",
       "    </tr>\n",
       "    <tr>\n",
       "      <th>2</th>\n",
       "      <td>2</td>\n",
       "      <td>vyE1P</td>\n",
       "      <td>6.263187</td>\n",
       "      <td>-5.948386</td>\n",
       "      <td>5.001160</td>\n",
       "      <td>134.766305</td>\n",
       "    </tr>\n",
       "    <tr>\n",
       "      <th>3</th>\n",
       "      <td>3</td>\n",
       "      <td>KcrkZ</td>\n",
       "      <td>-13.081196</td>\n",
       "      <td>-11.506057</td>\n",
       "      <td>4.999415</td>\n",
       "      <td>137.945408</td>\n",
       "    </tr>\n",
       "    <tr>\n",
       "      <th>4</th>\n",
       "      <td>4</td>\n",
       "      <td>AHL4O</td>\n",
       "      <td>12.702195</td>\n",
       "      <td>-8.147433</td>\n",
       "      <td>5.004363</td>\n",
       "      <td>134.766305</td>\n",
       "    </tr>\n",
       "  </tbody>\n",
       "</table>\n",
       "</div>"
      ],
      "text/plain": [
       "   Unnamed: 0     id         f0         f1        f2     product\n",
       "0           0  kBEdx -15.001348  -8.276000 -0.005876    3.179103\n",
       "1           1  62mP7  14.272088  -3.475083  0.999183   26.953261\n",
       "2           2  vyE1P   6.263187  -5.948386  5.001160  134.766305\n",
       "3           3  KcrkZ -13.081196 -11.506057  4.999415  137.945408\n",
       "4           4  AHL4O  12.702195  -8.147433  5.004363  134.766305"
      ]
     },
     "metadata": {},
     "output_type": "display_data"
    },
    {
     "data": {
      "text/html": [
       "<div>\n",
       "<style scoped>\n",
       "    .dataframe tbody tr th:only-of-type {\n",
       "        vertical-align: middle;\n",
       "    }\n",
       "\n",
       "    .dataframe tbody tr th {\n",
       "        vertical-align: top;\n",
       "    }\n",
       "\n",
       "    .dataframe thead th {\n",
       "        text-align: right;\n",
       "    }\n",
       "</style>\n",
       "<table border=\"1\" class=\"dataframe\">\n",
       "  <thead>\n",
       "    <tr style=\"text-align: right;\">\n",
       "      <th></th>\n",
       "      <th>Unnamed: 0</th>\n",
       "      <th>id</th>\n",
       "      <th>f0</th>\n",
       "      <th>f1</th>\n",
       "      <th>f2</th>\n",
       "      <th>product</th>\n",
       "    </tr>\n",
       "  </thead>\n",
       "  <tbody>\n",
       "    <tr>\n",
       "      <th>0</th>\n",
       "      <td>0</td>\n",
       "      <td>fwXo0</td>\n",
       "      <td>-1.146987</td>\n",
       "      <td>0.963328</td>\n",
       "      <td>-0.828965</td>\n",
       "      <td>27.758673</td>\n",
       "    </tr>\n",
       "    <tr>\n",
       "      <th>1</th>\n",
       "      <td>1</td>\n",
       "      <td>WJtFt</td>\n",
       "      <td>0.262778</td>\n",
       "      <td>0.269839</td>\n",
       "      <td>-2.530187</td>\n",
       "      <td>56.069697</td>\n",
       "    </tr>\n",
       "    <tr>\n",
       "      <th>2</th>\n",
       "      <td>2</td>\n",
       "      <td>ovLUW</td>\n",
       "      <td>0.194587</td>\n",
       "      <td>0.289035</td>\n",
       "      <td>-5.586433</td>\n",
       "      <td>62.871910</td>\n",
       "    </tr>\n",
       "    <tr>\n",
       "      <th>3</th>\n",
       "      <td>3</td>\n",
       "      <td>q6cA6</td>\n",
       "      <td>2.236060</td>\n",
       "      <td>-0.553760</td>\n",
       "      <td>0.930038</td>\n",
       "      <td>114.572842</td>\n",
       "    </tr>\n",
       "    <tr>\n",
       "      <th>4</th>\n",
       "      <td>4</td>\n",
       "      <td>WPMUX</td>\n",
       "      <td>-0.515993</td>\n",
       "      <td>1.716266</td>\n",
       "      <td>5.899011</td>\n",
       "      <td>149.600746</td>\n",
       "    </tr>\n",
       "  </tbody>\n",
       "</table>\n",
       "</div>"
      ],
      "text/plain": [
       "   Unnamed: 0     id        f0        f1        f2     product\n",
       "0           0  fwXo0 -1.146987  0.963328 -0.828965   27.758673\n",
       "1           1  WJtFt  0.262778  0.269839 -2.530187   56.069697\n",
       "2           2  ovLUW  0.194587  0.289035 -5.586433   62.871910\n",
       "3           3  q6cA6  2.236060 -0.553760  0.930038  114.572842\n",
       "4           4  WPMUX -0.515993  1.716266  5.899011  149.600746"
      ]
     },
     "metadata": {},
     "output_type": "display_data"
    }
   ],
   "source": [
    "display(geo_data_first.head(5), geo_data_second.head(5), geo_data_third.head(5))"
   ]
  },
  {
   "cell_type": "markdown",
   "id": "07674260-bf67-434d-881c-5f3dab667e29",
   "metadata": {},
   "source": [
    "Видим три таблицы со столбцами:\n",
    "- `id` - уникальный идентификатор скважины\n",
    "- `f0, f1, f2` - три признака точек\n",
    "- `product` - объяем запасов в скважине"
   ]
  },
  {
   "cell_type": "code",
   "execution_count": 4,
   "id": "93fd2290-e348-4ffc-a30a-d17b1b6df506",
   "metadata": {},
   "outputs": [
    {
     "data": {
      "text/plain": [
       "Unnamed: 0    0\n",
       "id            0\n",
       "f0            0\n",
       "f1            0\n",
       "f2            0\n",
       "product       0\n",
       "dtype: int64"
      ]
     },
     "metadata": {},
     "output_type": "display_data"
    },
    {
     "data": {
      "text/plain": [
       "Unnamed: 0    0\n",
       "id            0\n",
       "f0            0\n",
       "f1            0\n",
       "f2            0\n",
       "product       0\n",
       "dtype: int64"
      ]
     },
     "metadata": {},
     "output_type": "display_data"
    },
    {
     "data": {
      "text/plain": [
       "Unnamed: 0    0\n",
       "id            0\n",
       "f0            0\n",
       "f1            0\n",
       "f2            0\n",
       "product       0\n",
       "dtype: int64"
      ]
     },
     "metadata": {},
     "output_type": "display_data"
    }
   ],
   "source": [
    "display(geo_data_first.isna().sum(), geo_data_second.isna().sum(), geo_data_third.isna().sum())"
   ]
  },
  {
   "cell_type": "markdown",
   "id": "114ad20f",
   "metadata": {},
   "source": [
    "<div class=\"alert alert-warning\">\n",
    "<h2> Комментарий ревьюера ⚠️ <a class=\"tocSkip\"> </h2>\n",
    "\n",
    "В данном проекте мы работаем с данными одинаковой природы, а это значит, что большинство расчетов для регионов будут повторяться. Это отличная возможность потренироваться над оптимизацией кода. Например, вот здесь. Первичное знакомство с данными можно было реализовать в функции и вызывать эту функцию для каждого из датафреймов (в цикле в идеале)"
   ]
  },
  {
   "cell_type": "markdown",
   "id": "fdedf110-1e08-43ee-99e2-e20a10d9edc0",
   "metadata": {},
   "source": [
    "Пропуски в данных не обнаружены, проверим данные на дубликаты в столбце `id`"
   ]
  },
  {
   "cell_type": "code",
   "execution_count": 5,
   "id": "9b02e5bf-412b-473b-8b3f-83d77d1b9285",
   "metadata": {},
   "outputs": [
    {
     "data": {
      "text/plain": [
       "10"
      ]
     },
     "metadata": {},
     "output_type": "display_data"
    },
    {
     "data": {
      "text/plain": [
       "4"
      ]
     },
     "metadata": {},
     "output_type": "display_data"
    },
    {
     "data": {
      "text/plain": [
       "4"
      ]
     },
     "metadata": {},
     "output_type": "display_data"
    }
   ],
   "source": [
    "display(geo_data_first['id'].duplicated().sum(), geo_data_second['id'].duplicated().sum(), geo_data_third['id'].duplicated().sum())"
   ]
  },
  {
   "cell_type": "markdown",
   "id": "81f33430",
   "metadata": {},
   "source": [
    "<div class=\"alert alert-success\">\n",
    "<h2> Комментарий ревьюера ✔️ <a class=\"tocSkip\"> </h2>\n",
    "\n",
    "Да, по некоторым скважинам информация дублируется, возможно, произошел какой-то баг при записи данных в базу, а возможно и нет. В любом случае, данный момент нужно уточнять у заказчика. Я бы вынес его отдельно, в конец проекта, например"
   ]
  },
  {
   "cell_type": "markdown",
   "id": "aaeed0f0-3b88-4899-95d1-20550dea7cfc",
   "metadata": {},
   "source": [
    "Проверим данные с дубликатами"
   ]
  },
  {
   "cell_type": "code",
   "execution_count": 6,
   "id": "16b536bd-0951-487b-9a45-8ee23e686275",
   "metadata": {},
   "outputs": [
    {
     "data": {
      "text/html": [
       "<div>\n",
       "<style scoped>\n",
       "    .dataframe tbody tr th:only-of-type {\n",
       "        vertical-align: middle;\n",
       "    }\n",
       "\n",
       "    .dataframe tbody tr th {\n",
       "        vertical-align: top;\n",
       "    }\n",
       "\n",
       "    .dataframe thead th {\n",
       "        text-align: right;\n",
       "    }\n",
       "</style>\n",
       "<table border=\"1\" class=\"dataframe\">\n",
       "  <thead>\n",
       "    <tr style=\"text-align: right;\">\n",
       "      <th></th>\n",
       "      <th>Unnamed: 0</th>\n",
       "      <th>id</th>\n",
       "      <th>f0</th>\n",
       "      <th>f1</th>\n",
       "      <th>f2</th>\n",
       "      <th>product</th>\n",
       "    </tr>\n",
       "  </thead>\n",
       "  <tbody>\n",
       "    <tr>\n",
       "      <th>7530</th>\n",
       "      <td>7530</td>\n",
       "      <td>HZww2</td>\n",
       "      <td>1.061194</td>\n",
       "      <td>-0.373969</td>\n",
       "      <td>10.430210</td>\n",
       "      <td>158.828695</td>\n",
       "    </tr>\n",
       "    <tr>\n",
       "      <th>41724</th>\n",
       "      <td>41724</td>\n",
       "      <td>bxg6G</td>\n",
       "      <td>-0.823752</td>\n",
       "      <td>0.546319</td>\n",
       "      <td>3.630479</td>\n",
       "      <td>93.007798</td>\n",
       "    </tr>\n",
       "    <tr>\n",
       "      <th>51970</th>\n",
       "      <td>51970</td>\n",
       "      <td>A5aEY</td>\n",
       "      <td>-0.180335</td>\n",
       "      <td>0.935548</td>\n",
       "      <td>-2.094773</td>\n",
       "      <td>33.020205</td>\n",
       "    </tr>\n",
       "    <tr>\n",
       "      <th>63593</th>\n",
       "      <td>63593</td>\n",
       "      <td>QcMuo</td>\n",
       "      <td>0.635635</td>\n",
       "      <td>-0.473422</td>\n",
       "      <td>0.862670</td>\n",
       "      <td>64.578675</td>\n",
       "    </tr>\n",
       "    <tr>\n",
       "      <th>66136</th>\n",
       "      <td>66136</td>\n",
       "      <td>74z30</td>\n",
       "      <td>1.084962</td>\n",
       "      <td>-0.312358</td>\n",
       "      <td>6.990771</td>\n",
       "      <td>127.643327</td>\n",
       "    </tr>\n",
       "    <tr>\n",
       "      <th>69163</th>\n",
       "      <td>69163</td>\n",
       "      <td>AGS9W</td>\n",
       "      <td>-0.933795</td>\n",
       "      <td>0.116194</td>\n",
       "      <td>-3.655896</td>\n",
       "      <td>19.230453</td>\n",
       "    </tr>\n",
       "    <tr>\n",
       "      <th>75715</th>\n",
       "      <td>75715</td>\n",
       "      <td>Tdehs</td>\n",
       "      <td>0.112079</td>\n",
       "      <td>0.430296</td>\n",
       "      <td>3.218993</td>\n",
       "      <td>60.964018</td>\n",
       "    </tr>\n",
       "    <tr>\n",
       "      <th>90815</th>\n",
       "      <td>90815</td>\n",
       "      <td>fiKDv</td>\n",
       "      <td>0.049883</td>\n",
       "      <td>0.841313</td>\n",
       "      <td>6.394613</td>\n",
       "      <td>137.346586</td>\n",
       "    </tr>\n",
       "    <tr>\n",
       "      <th>92341</th>\n",
       "      <td>92341</td>\n",
       "      <td>TtcGQ</td>\n",
       "      <td>0.110711</td>\n",
       "      <td>1.022689</td>\n",
       "      <td>0.911381</td>\n",
       "      <td>101.318008</td>\n",
       "    </tr>\n",
       "    <tr>\n",
       "      <th>97785</th>\n",
       "      <td>97785</td>\n",
       "      <td>bsk9y</td>\n",
       "      <td>0.378429</td>\n",
       "      <td>0.005837</td>\n",
       "      <td>0.160827</td>\n",
       "      <td>160.637302</td>\n",
       "    </tr>\n",
       "  </tbody>\n",
       "</table>\n",
       "</div>"
      ],
      "text/plain": [
       "       Unnamed: 0     id        f0        f1         f2     product\n",
       "7530         7530  HZww2  1.061194 -0.373969  10.430210  158.828695\n",
       "41724       41724  bxg6G -0.823752  0.546319   3.630479   93.007798\n",
       "51970       51970  A5aEY -0.180335  0.935548  -2.094773   33.020205\n",
       "63593       63593  QcMuo  0.635635 -0.473422   0.862670   64.578675\n",
       "66136       66136  74z30  1.084962 -0.312358   6.990771  127.643327\n",
       "69163       69163  AGS9W -0.933795  0.116194  -3.655896   19.230453\n",
       "75715       75715  Tdehs  0.112079  0.430296   3.218993   60.964018\n",
       "90815       90815  fiKDv  0.049883  0.841313   6.394613  137.346586\n",
       "92341       92341  TtcGQ  0.110711  1.022689   0.911381  101.318008\n",
       "97785       97785  bsk9y  0.378429  0.005837   0.160827  160.637302"
      ]
     },
     "execution_count": 6,
     "metadata": {},
     "output_type": "execute_result"
    }
   ],
   "source": [
    "geo_data_first[geo_data_first['id'].duplicated()]"
   ]
  },
  {
   "cell_type": "code",
   "execution_count": 7,
   "id": "eaed802a-dec1-4a02-9dd0-9574b9680dd3",
   "metadata": {},
   "outputs": [
    {
     "data": {
      "text/html": [
       "<div>\n",
       "<style scoped>\n",
       "    .dataframe tbody tr th:only-of-type {\n",
       "        vertical-align: middle;\n",
       "    }\n",
       "\n",
       "    .dataframe tbody tr th {\n",
       "        vertical-align: top;\n",
       "    }\n",
       "\n",
       "    .dataframe thead th {\n",
       "        text-align: right;\n",
       "    }\n",
       "</style>\n",
       "<table border=\"1\" class=\"dataframe\">\n",
       "  <thead>\n",
       "    <tr style=\"text-align: right;\">\n",
       "      <th></th>\n",
       "      <th>Unnamed: 0</th>\n",
       "      <th>id</th>\n",
       "      <th>f0</th>\n",
       "      <th>f1</th>\n",
       "      <th>f2</th>\n",
       "      <th>product</th>\n",
       "    </tr>\n",
       "  </thead>\n",
       "  <tbody>\n",
       "    <tr>\n",
       "      <th>931</th>\n",
       "      <td>931</td>\n",
       "      <td>HZww2</td>\n",
       "      <td>0.755284</td>\n",
       "      <td>0.368511</td>\n",
       "      <td>1.863211</td>\n",
       "      <td>30.681774</td>\n",
       "    </tr>\n",
       "    <tr>\n",
       "      <th>7530</th>\n",
       "      <td>7530</td>\n",
       "      <td>HZww2</td>\n",
       "      <td>1.061194</td>\n",
       "      <td>-0.373969</td>\n",
       "      <td>10.430210</td>\n",
       "      <td>158.828695</td>\n",
       "    </tr>\n",
       "  </tbody>\n",
       "</table>\n",
       "</div>"
      ],
      "text/plain": [
       "      Unnamed: 0     id        f0        f1         f2     product\n",
       "931          931  HZww2  0.755284  0.368511   1.863211   30.681774\n",
       "7530        7530  HZww2  1.061194 -0.373969  10.430210  158.828695"
      ]
     },
     "execution_count": 7,
     "metadata": {},
     "output_type": "execute_result"
    }
   ],
   "source": [
    "geo_data_first[geo_data_first['id'] == 'HZww2']"
   ]
  },
  {
   "cell_type": "markdown",
   "id": "10bf5053-146c-4844-b2f8-664407523846",
   "metadata": {},
   "source": [
    "Посмотрим, какую долю данных составляют дубликаты"
   ]
  },
  {
   "cell_type": "code",
   "execution_count": 8,
   "id": "7295f0b0-725b-4212-b05f-6460c0c84e6d",
   "metadata": {},
   "outputs": [
    {
     "data": {
      "text/plain": [
       "0.0001"
      ]
     },
     "execution_count": 8,
     "metadata": {},
     "output_type": "execute_result"
    }
   ],
   "source": [
    "geo_data_first[geo_data_first['id'].duplicated()].shape[0] / geo_data_first.shape[0]"
   ]
  },
  {
   "cell_type": "code",
   "execution_count": 9,
   "id": "37404112-b6bf-428a-b8c3-46363bb92604",
   "metadata": {},
   "outputs": [
    {
     "data": {
      "text/plain": [
       "4e-05"
      ]
     },
     "execution_count": 9,
     "metadata": {},
     "output_type": "execute_result"
    }
   ],
   "source": [
    "geo_data_second[geo_data_second['id'].duplicated()].shape[0] / geo_data_second.shape[0]"
   ]
  },
  {
   "cell_type": "code",
   "execution_count": 10,
   "id": "d7f7a2d9-f942-48b5-98bb-b08dade06cf7",
   "metadata": {},
   "outputs": [
    {
     "data": {
      "text/plain": [
       "4e-05"
      ]
     },
     "execution_count": 10,
     "metadata": {},
     "output_type": "execute_result"
    }
   ],
   "source": [
    "geo_data_third[geo_data_third['id'].duplicated()].shape[0] / geo_data_third.shape[0]"
   ]
  },
  {
   "cell_type": "markdown",
   "id": "a3798ca8-6da2-46b0-888a-5ac08b3e551f",
   "metadata": {},
   "source": [
    "Как видно, строк с дубликатами крайне мало, потому отбросим их"
   ]
  },
  {
   "cell_type": "code",
   "execution_count": 11,
   "id": "57b2ca46-f612-4e98-af45-3385cf62c038",
   "metadata": {},
   "outputs": [],
   "source": [
    "geo_data_first = geo_data_first.drop_duplicates(subset='id').reset_index(drop=True)"
   ]
  },
  {
   "cell_type": "code",
   "execution_count": 12,
   "id": "b0c30bd8-a840-4fc3-856c-be607444f027",
   "metadata": {},
   "outputs": [
    {
     "data": {
      "text/plain": [
       "0.0"
      ]
     },
     "execution_count": 12,
     "metadata": {},
     "output_type": "execute_result"
    }
   ],
   "source": [
    "geo_data_first[geo_data_first['id'].duplicated()].shape[0] / geo_data_first.shape[0]"
   ]
  },
  {
   "cell_type": "code",
   "execution_count": 13,
   "id": "22cb3fe3-0b93-482a-97b9-b1bc0484cfd9",
   "metadata": {},
   "outputs": [],
   "source": [
    "geo_data_second = geo_data_second.drop_duplicates(subset='id').reset_index(drop=True)"
   ]
  },
  {
   "cell_type": "code",
   "execution_count": 14,
   "id": "532a200f-cee1-4abb-aece-f8664b0830ec",
   "metadata": {},
   "outputs": [
    {
     "data": {
      "text/plain": [
       "0.0"
      ]
     },
     "execution_count": 14,
     "metadata": {},
     "output_type": "execute_result"
    }
   ],
   "source": [
    "geo_data_second[geo_data_second['id'].duplicated()].shape[0] / geo_data_second.shape[0]"
   ]
  },
  {
   "cell_type": "code",
   "execution_count": 15,
   "id": "836c940f-4ac1-4bff-88d3-09e3237b0a0f",
   "metadata": {},
   "outputs": [],
   "source": [
    "geo_data_third = geo_data_third.drop_duplicates(subset='id').reset_index(drop=True)"
   ]
  },
  {
   "cell_type": "code",
   "execution_count": 16,
   "id": "fda2109e-8637-4ba9-a721-3f2620657264",
   "metadata": {},
   "outputs": [
    {
     "data": {
      "text/plain": [
       "0.0"
      ]
     },
     "execution_count": 16,
     "metadata": {},
     "output_type": "execute_result"
    }
   ],
   "source": [
    "geo_data_third[geo_data_third['id'].duplicated()].shape[0] / geo_data_third.shape[0]"
   ]
  },
  {
   "cell_type": "code",
   "execution_count": 17,
   "id": "9f2c0e13-7238-472c-9089-c3c7a1401254",
   "metadata": {},
   "outputs": [
    {
     "name": "stdout",
     "output_type": "stream",
     "text": [
      "<class 'pandas.core.frame.DataFrame'>\n",
      "RangeIndex: 99990 entries, 0 to 99989\n",
      "Data columns (total 6 columns):\n",
      " #   Column      Non-Null Count  Dtype  \n",
      "---  ------      --------------  -----  \n",
      " 0   Unnamed: 0  99990 non-null  int64  \n",
      " 1   id          99990 non-null  object \n",
      " 2   f0          99990 non-null  float64\n",
      " 3   f1          99990 non-null  float64\n",
      " 4   f2          99990 non-null  float64\n",
      " 5   product     99990 non-null  float64\n",
      "dtypes: float64(4), int64(1), object(1)\n",
      "memory usage: 4.6+ MB\n"
     ]
    }
   ],
   "source": [
    "geo_data_first.info()"
   ]
  },
  {
   "cell_type": "code",
   "execution_count": 18,
   "id": "ae1c9ca0-bbf9-4059-8702-ef51a1edd5df",
   "metadata": {},
   "outputs": [
    {
     "name": "stdout",
     "output_type": "stream",
     "text": [
      "<class 'pandas.core.frame.DataFrame'>\n",
      "RangeIndex: 99996 entries, 0 to 99995\n",
      "Data columns (total 6 columns):\n",
      " #   Column      Non-Null Count  Dtype  \n",
      "---  ------      --------------  -----  \n",
      " 0   Unnamed: 0  99996 non-null  int64  \n",
      " 1   id          99996 non-null  object \n",
      " 2   f0          99996 non-null  float64\n",
      " 3   f1          99996 non-null  float64\n",
      " 4   f2          99996 non-null  float64\n",
      " 5   product     99996 non-null  float64\n",
      "dtypes: float64(4), int64(1), object(1)\n",
      "memory usage: 4.6+ MB\n"
     ]
    }
   ],
   "source": [
    "geo_data_second.info()"
   ]
  },
  {
   "cell_type": "code",
   "execution_count": 19,
   "id": "05c34142-eaf5-46d1-9d96-94724e0ce07d",
   "metadata": {},
   "outputs": [
    {
     "name": "stdout",
     "output_type": "stream",
     "text": [
      "<class 'pandas.core.frame.DataFrame'>\n",
      "RangeIndex: 99996 entries, 0 to 99995\n",
      "Data columns (total 6 columns):\n",
      " #   Column      Non-Null Count  Dtype  \n",
      "---  ------      --------------  -----  \n",
      " 0   Unnamed: 0  99996 non-null  int64  \n",
      " 1   id          99996 non-null  object \n",
      " 2   f0          99996 non-null  float64\n",
      " 3   f1          99996 non-null  float64\n",
      " 4   f2          99996 non-null  float64\n",
      " 5   product     99996 non-null  float64\n",
      "dtypes: float64(4), int64(1), object(1)\n",
      "memory usage: 4.6+ MB\n"
     ]
    }
   ],
   "source": [
    "geo_data_third.info()"
   ]
  },
  {
   "cell_type": "markdown",
   "id": "871221ab-c347-496a-899b-9728648617fc",
   "metadata": {},
   "source": [
    "Очевидно, что объем не может быть отрицательным, сначала проверим столбец на такие аномалии, в случае чего возьмем столбец по модулю"
   ]
  },
  {
   "cell_type": "code",
   "execution_count": 20,
   "id": "f2086c20",
   "metadata": {},
   "outputs": [
    {
     "data": {
      "text/plain": [
       "count    99990.000000\n",
       "mean        92.499684\n",
       "std         44.288304\n",
       "min          0.000000\n",
       "25%         56.497069\n",
       "50%         91.847928\n",
       "75%        128.563699\n",
       "max        185.364347\n",
       "Name: product, dtype: float64"
      ]
     },
     "metadata": {},
     "output_type": "display_data"
    },
    {
     "data": {
      "text/plain": [
       "count    99996.000000\n",
       "mean        68.823916\n",
       "std         45.944663\n",
       "min          0.000000\n",
       "25%         26.953261\n",
       "50%         57.085625\n",
       "75%        107.813044\n",
       "max        137.945408\n",
       "Name: product, dtype: float64"
      ]
     },
     "metadata": {},
     "output_type": "display_data"
    },
    {
     "data": {
      "text/plain": [
       "count    99996.000000\n",
       "mean        94.998342\n",
       "std         44.749573\n",
       "min          0.000000\n",
       "25%         59.450028\n",
       "50%         94.925026\n",
       "75%        130.586815\n",
       "max        190.029838\n",
       "Name: product, dtype: float64"
      ]
     },
     "metadata": {},
     "output_type": "display_data"
    }
   ],
   "source": [
    "display(geo_data_first[\"product\"].describe(), geo_data_second[\"product\"].describe(), geo_data_third[\"product\"].describe())"
   ]
  },
  {
   "cell_type": "markdown",
   "id": "c6bc32e1",
   "metadata": {},
   "source": [
    "Отрицательных значений не обнаружено"
   ]
  },
  {
   "cell_type": "markdown",
   "id": "81ba9ae6",
   "metadata": {},
   "source": [
    "<div class=\"alert alert-danger\">\n",
    "<h2> Комментарий ревьюера ❌ <a class=\"tocSkip\"> </h2>\n",
    "\n",
    "А они там есть, отрицательные значения?"
   ]
  },
  {
   "cell_type": "markdown",
   "id": "c17565b2",
   "metadata": {},
   "source": [
    "<div style=\"background-color: lightblue; padding: 10px; border: 1px solid blue; border-radius: 5px; width: 300px; margin: 10px;\">\n",
    "    <h2 style=\"color: navy;\">Комментарий студента</h2>\n",
    "    не думаю, что решение взять по модулю без проверки критическое замечание, функция довольна проста, как и операция взятия по модулю. Если аномальные значения присутствуют, то запишется их абсолютное значение. Возможно логичнее использовать функцию, которая проверяет значение на отрицательность и только в случае успеха перезаписывает, в таком случае по идее произойдет меньше операций. Не думаю, что данная функция сильно тормозит проект, так что ее использование без проверки(заведомо зная, что ничего в данных не испортится) ошибка \n",
    "</div>\n"
   ]
  },
  {
   "cell_type": "markdown",
   "id": "21ab3919",
   "metadata": {},
   "source": [
    "<div style=\"background-color: lightblue; padding: 10px; border: 1px solid blue; border-radius: 5px; width: 300px; margin: 10px;\">\n",
    "    <h2 style=\"color: navy;\">Комментарий студента</h2>\n",
    "    если прям сильно прикапываться к правильности кода и оптимизации, то даже сравнивать value < 0 нельзя, так как числа вещественные, потому следует в подобной функции использовать эпсилон. просто я думаю машинное обучение больше про исследования данных чем то же программирование, само собой какие-то не эффективные алгоритмы и прочее несуразно использовать\n",
    "</div>"
   ]
  },
  {
   "cell_type": "markdown",
   "id": "2f7e5772",
   "metadata": {},
   "source": [
    "<div class=\"alert alert-success\">\n",
    "<h2> Комментарий ревьюера v2 ✔️ <a class=\"tocSkip\"> </h2>\n",
    "\n",
    "Согласен, замечание не критическое. Но при этом я за то, чтобы каждое действие было сделано с определенной целью и причинами. Ведь делать что-то, чтобы просто было, можно много чего)"
   ]
  },
  {
   "cell_type": "markdown",
   "id": "2a73381e-5a5e-4223-bdec-78149fcb8d2a",
   "metadata": {},
   "source": [
    "## Вывод по предобработке данных:\n",
    "Пропусков в данных не обнаружено, но были найдены дубликаты, которые оказались отброшены ввиду их незначительного количества"
   ]
  },
  {
   "cell_type": "markdown",
   "id": "982bf337-a266-4ccf-a750-f6cc19d66943",
   "metadata": {},
   "source": [
    "## Исследовательский анализ данных"
   ]
  },
  {
   "cell_type": "code",
   "execution_count": 21,
   "id": "2154232b-210b-48a2-8634-0a7cc73ba149",
   "metadata": {},
   "outputs": [],
   "source": [
    "def get_cat_n_num_cols(data) -> ([], []) :\n",
    "    cols = data.columns\n",
    "    cat_cols = []\n",
    "    num_cols = []\n",
    "    for col in cols:\n",
    "        if col == 'id' or col == 'Unnamed: 0': continue\n",
    "        else:\n",
    "            if data[col].dtype == 'object':\n",
    "                cat_cols.append(col)\n",
    "            else:\n",
    "                num_cols.append(col)\n",
    "    return (cat_cols, num_cols)\n"
   ]
  },
  {
   "cell_type": "code",
   "execution_count": 22,
   "id": "33c8fe62-cf5e-46d3-a099-912f6a66da6c",
   "metadata": {},
   "outputs": [
    {
     "data": {
      "text/plain": [
       "['f0', 'f1', 'f2', 'product']"
      ]
     },
     "execution_count": 22,
     "metadata": {},
     "output_type": "execute_result"
    }
   ],
   "source": [
    "cols_tuple = get_cat_n_num_cols(geo_data_first)\n",
    "cat_cols = cols_tuple[0]\n",
    "num_cols = cols_tuple[1]\n",
    "num_cols"
   ]
  },
  {
   "cell_type": "code",
   "execution_count": 23,
   "id": "9362de6f-5671-4e58-84a2-5197dac3ad96",
   "metadata": {},
   "outputs": [],
   "source": [
    "import math\n",
    "def num_cols_plot(data, num_cols):\n",
    "    df_name = [name for name, var in globals().items() if isinstance(var, pd.DataFrame) and var is data][0]\n",
    "    print(f'FILE: {df_name}')\n",
    "    for col in num_cols:\n",
    "        print(\"\\n\")\n",
    "        data[col].hist(bins = math.ceil(np.log(len(data[col].unique())) + 1))\n",
    "        plt.xlim(data[col].min(), data[col].max() * 1.1)\n",
    "        plt.title(f\"Частота значения для {col}\")\n",
    "        plt.ylabel('Частота')\n",
    "        plt.xlabel('Количество')\n",
    "        plt.show()\n",
    "        print(\"\\n\")\n",
    "        plt.boxplot(data[col])\n",
    "        plt.title(f\"Ящик с усами для {col}\")\n",
    "        plt.ylabel('Значения')\n",
    "        plt.show()\n",
    "        print(\"\\n\")\n",
    "        print(\"Статистика\")\n",
    "        display(data[col].describe())\n",
    "        print(\"\\n\")\n",
    "        print(\"\\n\")"
   ]
  },
  {
   "cell_type": "code",
   "execution_count": 24,
   "id": "fa64a07a-f24e-4848-b84f-6bcd29d33bb6",
   "metadata": {},
   "outputs": [
    {
     "name": "stdout",
     "output_type": "stream",
     "text": [
      "FILE: geo_data_first\n",
      "\n",
      "\n"
     ]
    },
    {
     "data": {
      "image/png": "[encoded data removed]",
      "text/plain": [
       "<Figure size 432x288 with 1 Axes>"
      ]
     },
     "metadata": {
      "needs_background": "light"
     },
     "output_type": "display_data"
    },
    {
     "name": "stdout",
     "output_type": "stream",
     "text": [
      "\n",
      "\n"
     ]
    },
    {
     "data": {
      "image/png": "[encoded data removed]",
      "text/plain": [
       "<Figure size 432x288 with 1 Axes>"
      ]
     },
     "metadata": {
      "needs_background": "light"
     },
     "output_type": "display_data"
    },
    {
     "name": "stdout",
     "output_type": "stream",
     "text": [
      "\n",
      "\n",
      "Статистика\n"
     ]
    },
    {
     "data": {
      "text/plain": [
       "count    99990.000000\n",
       "mean         0.500454\n",
       "std          0.871844\n",
       "min         -1.408605\n",
       "25%         -0.072572\n",
       "50%          0.502405\n",
       "75%          1.073626\n",
       "max          2.362331\n",
       "Name: f0, dtype: float64"
      ]
     },
     "metadata": {},
     "output_type": "display_data"
    },
    {
     "name": "stdout",
     "output_type": "stream",
     "text": [
      "\n",
      "\n",
      "\n",
      "\n",
      "\n",
      "\n"
     ]
    },
    {
     "data": {
      "image/png": "[encoded data removed]",
      "text/plain": [
       "<Figure size 432x288 with 1 Axes>"
      ]
     },
     "metadata": {
      "needs_background": "light"
     },
     "output_type": "display_data"
    },
    {
     "name": "stdout",
     "output_type": "stream",
     "text": [
      "\n",
      "\n"
     ]
    },
    {
     "data": {
      "image/png": "[encoded data removed]",
      "text/plain": [
       "<Figure size 432x288 with 1 Axes>"
      ]
     },
     "metadata": {
      "needs_background": "light"
     },
     "output_type": "display_data"
    },
    {
     "name": "stdout",
     "output_type": "stream",
     "text": [
      "\n",
      "\n",
      "Статистика\n"
     ]
    },
    {
     "data": {
      "text/plain": [
       "count    99990.000000\n",
       "mean         0.250141\n",
       "std          0.504430\n",
       "min         -0.848218\n",
       "25%         -0.200877\n",
       "50%          0.250252\n",
       "75%          0.700640\n",
       "max          1.343769\n",
       "Name: f1, dtype: float64"
      ]
     },
     "metadata": {},
     "output_type": "display_data"
    },
    {
     "name": "stdout",
     "output_type": "stream",
     "text": [
      "\n",
      "\n",
      "\n",
      "\n",
      "\n",
      "\n"
     ]
    },
    {
     "data": {
      "image/png": "[encoded data removed]",
      "text/plain": [
       "<Figure size 432x288 with 1 Axes>"
      ]
     },
     "metadata": {
      "needs_background": "light"
     },
     "output_type": "display_data"
    },
    {
     "name": "stdout",
     "output_type": "stream",
     "text": [
      "\n",
      "\n"
     ]
    },
    {
     "data": {
      "image/png": "[encoded data removed]",
      "text/plain": [
       "<Figure size 432x288 with 1 Axes>"
      ]
     },
     "metadata": {
      "needs_background": "light"
     },
     "output_type": "display_data"
    },
    {
     "name": "stdout",
     "output_type": "stream",
     "text": [
      "\n",
      "\n",
      "Статистика\n"
     ]
    },
    {
     "data": {
      "text/plain": [
       "count    99990.000000\n",
       "mean         2.502629\n",
       "std          3.248149\n",
       "min        -12.088328\n",
       "25%          0.287784\n",
       "50%          2.515969\n",
       "75%          4.715035\n",
       "max         16.003790\n",
       "Name: f2, dtype: float64"
      ]
     },
     "metadata": {},
     "output_type": "display_data"
    },
    {
     "name": "stdout",
     "output_type": "stream",
     "text": [
      "\n",
      "\n",
      "\n",
      "\n",
      "\n",
      "\n"
     ]
    },
    {
     "data": {
      "image/png": "[encoded data removed]",
      "text/plain": [
       "<Figure size 432x288 with 1 Axes>"
      ]
     },
     "metadata": {
      "needs_background": "light"
     },
     "output_type": "display_data"
    },
    {
     "name": "stdout",
     "output_type": "stream",
     "text": [
      "\n",
      "\n"
     ]
    },
    {
     "data": {
      "image/png": "[encoded data removed]",
      "text/plain": [
       "<Figure size 432x288 with 1 Axes>"
      ]
     },
     "metadata": {
      "needs_background": "light"
     },
     "output_type": "display_data"
    },
    {
     "name": "stdout",
     "output_type": "stream",
     "text": [
      "\n",
      "\n",
      "Статистика\n"
     ]
    },
    {
     "data": {
      "text/plain": [
       "count    99990.000000\n",
       "mean        92.499684\n",
       "std         44.288304\n",
       "min          0.000000\n",
       "25%         56.497069\n",
       "50%         91.847928\n",
       "75%        128.563699\n",
       "max        185.364347\n",
       "Name: product, dtype: float64"
      ]
     },
     "metadata": {},
     "output_type": "display_data"
    },
    {
     "name": "stdout",
     "output_type": "stream",
     "text": [
      "\n",
      "\n",
      "\n",
      "\n"
     ]
    }
   ],
   "source": [
    "num_cols_plot(geo_data_first, num_cols)"
   ]
  },
  {
   "cell_type": "markdown",
   "id": "2f3dd87d",
   "metadata": {},
   "source": [
    "<div class=\"alert alert-success\">\n",
    "<h2> Комментарий ревьюера ✔️ <a class=\"tocSkip\"> </h2>\n",
    "\n",
    "Эти два графика (гистограмму распределения и боксплот) я бы расположил друг под другом, при этом удачное решение расположить боксплот горизонтально, тогда графики будут друг под другом, и у них как бы будет единая ось икс\n",
    "    \n",
    "</div>"
   ]
  },
  {
   "cell_type": "code",
   "execution_count": 25,
   "id": "770dbb71-609b-46a2-ac83-25bc563a2307",
   "metadata": {},
   "outputs": [
    {
     "name": "stdout",
     "output_type": "stream",
     "text": [
      "FILE: geo_data_second\n",
      "\n",
      "\n"
     ]
    },
    {
     "data": {
      "image/png": "[encoded data removed]",
      "text/plain": [
       "<Figure size 432x288 with 1 Axes>"
      ]
     },
     "metadata": {
      "needs_background": "light"
     },
     "output_type": "display_data"
    },
    {
     "name": "stdout",
     "output_type": "stream",
     "text": [
      "\n",
      "\n"
     ]
    },
    {
     "data": {
      "image/png": "[encoded data removed]",
      "text/plain": [
       "<Figure size 432x288 with 1 Axes>"
      ]
     },
     "metadata": {
      "needs_background": "light"
     },
     "output_type": "display_data"
    },
    {
     "name": "stdout",
     "output_type": "stream",
     "text": [
      "\n",
      "\n",
      "Статистика\n"
     ]
    },
    {
     "data": {
      "text/plain": [
       "count    99996.000000\n",
       "mean         1.141209\n",
       "std          8.965815\n",
       "min        -31.609576\n",
       "25%         -6.298551\n",
       "50%          1.153055\n",
       "75%          8.620964\n",
       "max         29.421755\n",
       "Name: f0, dtype: float64"
      ]
     },
     "metadata": {},
     "output_type": "display_data"
    },
    {
     "name": "stdout",
     "output_type": "stream",
     "text": [
      "\n",
      "\n",
      "\n",
      "\n",
      "\n",
      "\n"
     ]
    },
    {
     "data": {
      "image/png": "[encoded data removed]",
      "text/plain": [
       "<Figure size 432x288 with 1 Axes>"
      ]
     },
     "metadata": {
      "needs_background": "light"
     },
     "output_type": "display_data"
    },
    {
     "name": "stdout",
     "output_type": "stream",
     "text": [
      "\n",
      "\n"
     ]
    },
    {
     "data": {
      "image/png": "[encoded data removed]",
      "text/plain": [
       "<Figure size 432x288 with 1 Axes>"
      ]
     },
     "metadata": {
      "needs_background": "light"
     },
     "output_type": "display_data"
    },
    {
     "name": "stdout",
     "output_type": "stream",
     "text": [
      "\n",
      "\n",
      "Статистика\n"
     ]
    },
    {
     "data": {
      "text/plain": [
       "count    99996.000000\n",
       "mean        -4.796608\n",
       "std          5.119906\n",
       "min        -26.358598\n",
       "25%         -8.267985\n",
       "50%         -4.813172\n",
       "75%         -1.332816\n",
       "max         18.734063\n",
       "Name: f1, dtype: float64"
      ]
     },
     "metadata": {},
     "output_type": "display_data"
    },
    {
     "name": "stdout",
     "output_type": "stream",
     "text": [
      "\n",
      "\n",
      "\n",
      "\n",
      "\n",
      "\n"
     ]
    },
    {
     "data": {
      "image/png": "[encoded data removed]",
      "text/plain": [
       "<Figure size 432x288 with 1 Axes>"
      ]
     },
     "metadata": {
      "needs_background": "light"
     },
     "output_type": "display_data"
    },
    {
     "name": "stdout",
     "output_type": "stream",
     "text": [
      "\n",
      "\n"
     ]
    },
    {
     "data": {
      "image/png": "[encoded data removed]",
      "text/plain": [
       "<Figure size 432x288 with 1 Axes>"
      ]
     },
     "metadata": {
      "needs_background": "light"
     },
     "output_type": "display_data"
    },
    {
     "name": "stdout",
     "output_type": "stream",
     "text": [
      "\n",
      "\n",
      "Статистика\n"
     ]
    },
    {
     "data": {
      "text/plain": [
       "count    99996.000000\n",
       "mean         2.494501\n",
       "std          1.703579\n",
       "min         -0.018144\n",
       "25%          1.000021\n",
       "50%          2.011475\n",
       "75%          3.999904\n",
       "max          5.019721\n",
       "Name: f2, dtype: float64"
      ]
     },
     "metadata": {},
     "output_type": "display_data"
    },
    {
     "name": "stdout",
     "output_type": "stream",
     "text": [
      "\n",
      "\n",
      "\n",
      "\n",
      "\n",
      "\n"
     ]
    },
    {
     "data": {
      "image/png": "[encoded data removed]",
      "text/plain": [
       "<Figure size 432x288 with 1 Axes>"
      ]
     },
     "metadata": {
      "needs_background": "light"
     },
     "output_type": "display_data"
    },
    {
     "name": "stdout",
     "output_type": "stream",
     "text": [
      "\n",
      "\n"
     ]
    },
    {
     "data": {
      "image/png": "[encoded data removed]",
      "text/plain": [
       "<Figure size 432x288 with 1 Axes>"
      ]
     },
     "metadata": {
      "needs_background": "light"
     },
     "output_type": "display_data"
    },
    {
     "name": "stdout",
     "output_type": "stream",
     "text": [
      "\n",
      "\n",
      "Статистика\n"
     ]
    },
    {
     "data": {
      "text/plain": [
       "count    99996.000000\n",
       "mean        68.823916\n",
       "std         45.944663\n",
       "min          0.000000\n",
       "25%         26.953261\n",
       "50%         57.085625\n",
       "75%        107.813044\n",
       "max        137.945408\n",
       "Name: product, dtype: float64"
      ]
     },
     "metadata": {},
     "output_type": "display_data"
    },
    {
     "name": "stdout",
     "output_type": "stream",
     "text": [
      "\n",
      "\n",
      "\n",
      "\n"
     ]
    }
   ],
   "source": [
    "num_cols_plot(geo_data_second, num_cols)"
   ]
  },
  {
   "cell_type": "markdown",
   "id": "1638f709",
   "metadata": {},
   "source": [
    "<div class=\"alert alert-warning\">\n",
    "<h2> Комментарий ревьюера ⚠️ <a class=\"tocSkip\"> </h2>\n",
    "\n",
    "По Unnamed: 0 кажется не обязательно строить графики?"
   ]
  },
  {
   "cell_type": "markdown",
   "id": "2b6d8944",
   "metadata": {},
   "source": [
    "<div style=\"background-color: lightblue; padding: 10px; border: 1px solid blue; border-radius: 5px; width: 300px; margin: 10px;\">\n",
    "    <h2 style=\"color: navy;\">Комментарий студента</h2>\n",
    "    Очень странно, что этот столбец вообще появляется, я проверял, его не было)\n",
    "</div>\n"
   ]
  },
  {
   "cell_type": "markdown",
   "id": "4084ceb7",
   "metadata": {},
   "source": [
    "<div class=\"alert alert-success\">\n",
    "<h2> Комментарий ревьюера v2 ✔️ <a class=\"tocSkip\"> </h2>\n",
    "\n",
    "Да, согласен, странно, возможно это связано с разными версиями пандаса..."
   ]
  },
  {
   "cell_type": "code",
   "execution_count": 26,
   "id": "dfce2a1c-6fbd-4a1c-83d2-cd01f71eba33",
   "metadata": {},
   "outputs": [
    {
     "name": "stdout",
     "output_type": "stream",
     "text": [
      "FILE: geo_data_third\n",
      "\n",
      "\n"
     ]
    },
    {
     "data": {
      "image/png": "[encoded data removed]",
      "text/plain": [
       "<Figure size 432x288 with 1 Axes>"
      ]
     },
     "metadata": {
      "needs_background": "light"
     },
     "output_type": "display_data"
    },
    {
     "name": "stdout",
     "output_type": "stream",
     "text": [
      "\n",
      "\n"
     ]
    },
    {
     "data": {
      "image/png": "[encoded data removed]",
      "text/plain": [
       "<Figure size 432x288 with 1 Axes>"
      ]
     },
     "metadata": {
      "needs_background": "light"
     },
     "output_type": "display_data"
    },
    {
     "name": "stdout",
     "output_type": "stream",
     "text": [
      "\n",
      "\n",
      "Статистика\n"
     ]
    },
    {
     "data": {
      "text/plain": [
       "count    99996.000000\n",
       "mean         0.002002\n",
       "std          1.732052\n",
       "min         -8.760004\n",
       "25%         -1.162328\n",
       "50%          0.009424\n",
       "75%          1.158477\n",
       "max          7.238262\n",
       "Name: f0, dtype: float64"
      ]
     },
     "metadata": {},
     "output_type": "display_data"
    },
    {
     "name": "stdout",
     "output_type": "stream",
     "text": [
      "\n",
      "\n",
      "\n",
      "\n",
      "\n",
      "\n"
     ]
    },
    {
     "data": {
      "image/png": "[encoded data removed]",
      "text/plain": [
       "<Figure size 432x288 with 1 Axes>"
      ]
     },
     "metadata": {
      "needs_background": "light"
     },
     "output_type": "display_data"
    },
    {
     "name": "stdout",
     "output_type": "stream",
     "text": [
      "\n",
      "\n"
     ]
    },
    {
     "data": {
      "image/png": "[encoded data removed]",
      "text/plain": [
       "<Figure size 432x288 with 1 Axes>"
      ]
     },
     "metadata": {
      "needs_background": "light"
     },
     "output_type": "display_data"
    },
    {
     "name": "stdout",
     "output_type": "stream",
     "text": [
      "\n",
      "\n",
      "Статистика\n"
     ]
    },
    {
     "data": {
      "text/plain": [
       "count    99996.000000\n",
       "mean        -0.002159\n",
       "std          1.730397\n",
       "min         -7.084020\n",
       "25%         -1.174841\n",
       "50%         -0.009661\n",
       "75%          1.163523\n",
       "max          7.844801\n",
       "Name: f1, dtype: float64"
      ]
     },
     "metadata": {},
     "output_type": "display_data"
    },
    {
     "name": "stdout",
     "output_type": "stream",
     "text": [
      "\n",
      "\n",
      "\n",
      "\n",
      "\n",
      "\n"
     ]
    },
    {
     "data": {
      "image/png": "[encoded data removed]",
      "text/plain": [
       "<Figure size 432x288 with 1 Axes>"
      ]
     },
     "metadata": {
      "needs_background": "light"
     },
     "output_type": "display_data"
    },
    {
     "name": "stdout",
     "output_type": "stream",
     "text": [
      "\n",
      "\n"
     ]
    },
    {
     "data": {
      "image/png": "[encoded data removed]",
      "text/plain": [
       "<Figure size 432x288 with 1 Axes>"
      ]
     },
     "metadata": {
      "needs_background": "light"
     },
     "output_type": "display_data"
    },
    {
     "name": "stdout",
     "output_type": "stream",
     "text": [
      "\n",
      "\n",
      "Статистика\n"
     ]
    },
    {
     "data": {
      "text/plain": [
       "count    99996.000000\n",
       "mean         2.495084\n",
       "std          3.473482\n",
       "min        -11.970335\n",
       "25%          0.130269\n",
       "50%          2.484236\n",
       "75%          4.858720\n",
       "max         16.739402\n",
       "Name: f2, dtype: float64"
      ]
     },
     "metadata": {},
     "output_type": "display_data"
    },
    {
     "name": "stdout",
     "output_type": "stream",
     "text": [
      "\n",
      "\n",
      "\n",
      "\n",
      "\n",
      "\n"
     ]
    },
    {
     "data": {
      "image/png": "[encoded data removed]",
      "text/plain": [
       "<Figure size 432x288 with 1 Axes>"
      ]
     },
     "metadata": {
      "needs_background": "light"
     },
     "output_type": "display_data"
    },
    {
     "name": "stdout",
     "output_type": "stream",
     "text": [
      "\n",
      "\n"
     ]
    },
    {
     "data": {
      "image/png": "[encoded data removed]",
      "text/plain": [
       "<Figure size 432x288 with 1 Axes>"
      ]
     },
     "metadata": {
      "needs_background": "light"
     },
     "output_type": "display_data"
    },
    {
     "name": "stdout",
     "output_type": "stream",
     "text": [
      "\n",
      "\n",
      "Статистика\n"
     ]
    },
    {
     "data": {
      "text/plain": [
       "count    99996.000000\n",
       "mean        94.998342\n",
       "std         44.749573\n",
       "min          0.000000\n",
       "25%         59.450028\n",
       "50%         94.925026\n",
       "75%        130.586815\n",
       "max        190.029838\n",
       "Name: product, dtype: float64"
      ]
     },
     "metadata": {},
     "output_type": "display_data"
    },
    {
     "name": "stdout",
     "output_type": "stream",
     "text": [
      "\n",
      "\n",
      "\n",
      "\n"
     ]
    }
   ],
   "source": [
    "num_cols_plot(geo_data_third, num_cols)"
   ]
  },
  {
   "cell_type": "markdown",
   "id": "ae30f93a-b82a-4e11-aa92-c51d377971a5",
   "metadata": {},
   "source": [
    "## Вывод по исследовательскому анализу\n",
    "Про `f0, f1, f2` тяжело что-то сказать и как-то объяснить распределение и выборосы, но вот что можно сказать касательно `product`:\n",
    "- Минимальное значение = 0\n",
    "- Максимальное значение = 185 000, 137 000, 190 000 баррелей\n",
    "- Медиана ~90 000 баррелей и 57 000 баррелей\n",
    "- Распределения признаков не являются одинаковыми"
   ]
  },
  {
   "cell_type": "markdown",
   "id": "69928350-1d52-47b6-a252-c081b935b29b",
   "metadata": {},
   "source": [
    "## Корреляционный анализ"
   ]
  },
  {
   "cell_type": "code",
   "execution_count": 27,
   "id": "aef4d1a4-2534-4f9b-8a1b-c6e6a421a1db",
   "metadata": {},
   "outputs": [
    {
     "name": "stderr",
     "output_type": "stream",
     "text": [
      "/opt/conda/lib/python3.9/site-packages/phik/data_quality.py:59: UserWarning: The number of unique values of variable Unnamed: 0 is large: 99990. Are you sure this is not an interval variable? Analysis for pairs of variables including Unnamed: 0 can be slow.\n",
      "  warnings.warn(\n"
     ]
    },
    {
     "data": {
      "image/png": "[encoded data removed]",
      "text/plain": [
       "<Figure size 720x576 with 2 Axes>"
      ]
     },
     "metadata": {
      "needs_background": "light"
     },
     "output_type": "display_data"
    }
   ],
   "source": [
    "fig, axes = plt.subplots(figsize=(10, 8))\n",
    "sns.heatmap(geo_data_first.drop(['id'], axis=1).phik_matrix(interval_cols = num_cols), annot=True, fmt='.2f', ax=axes)\n",
    "\n",
    "plt.title('Матрица корреляции geo_data_first')\n",
    "plt.show()"
   ]
  },
  {
   "cell_type": "markdown",
   "id": "141f2595",
   "metadata": {},
   "source": [
    "<div class=\"alert alert-success\">\n",
    "<h2> Комментарий ревьюера ✔️ <a class=\"tocSkip\"> </h2>\n",
    "\n",
    "Очень правильное решение посмотреть корреляции. Хотя я бы еще построил диаграммы рассеивания. По ним можно обнаружить нелинейные зависимости, которые мы коэффициентами корреляции Пирсона не выявим"
   ]
  },
  {
   "cell_type": "code",
   "execution_count": 28,
   "id": "aab33c6e-481e-48e8-bc7b-2eef61a5a642",
   "metadata": {},
   "outputs": [
    {
     "name": "stderr",
     "output_type": "stream",
     "text": [
      "/opt/conda/lib/python3.9/site-packages/phik/data_quality.py:59: UserWarning: The number of unique values of variable Unnamed: 0 is large: 99996. Are you sure this is not an interval variable? Analysis for pairs of variables including Unnamed: 0 can be slow.\n",
      "  warnings.warn(\n"
     ]
    },
    {
     "data": {
      "image/png": "[encoded data removed]",
      "text/plain": [
       "<Figure size 720x576 with 2 Axes>"
      ]
     },
     "metadata": {
      "needs_background": "light"
     },
     "output_type": "display_data"
    }
   ],
   "source": [
    "fig, axes = plt.subplots(figsize=(10, 8))\n",
    "sns.heatmap(geo_data_second.drop(['id'], axis=1).phik_matrix(interval_cols = num_cols), annot=True, fmt='.2f', ax=axes)\n",
    "\n",
    "plt.title('Матрица корреляции geo_data_second')\n",
    "plt.show()"
   ]
  },
  {
   "cell_type": "code",
   "execution_count": 29,
   "id": "f11c0ab8-1093-4a39-ad7d-56340161b0b2",
   "metadata": {},
   "outputs": [
    {
     "name": "stderr",
     "output_type": "stream",
     "text": [
      "/opt/conda/lib/python3.9/site-packages/phik/data_quality.py:59: UserWarning: The number of unique values of variable Unnamed: 0 is large: 99996. Are you sure this is not an interval variable? Analysis for pairs of variables including Unnamed: 0 can be slow.\n",
      "  warnings.warn(\n"
     ]
    },
    {
     "data": {
      "image/png": "[encoded data removed]",
      "text/plain": [
       "<Figure size 720x576 with 2 Axes>"
      ]
     },
     "metadata": {
      "needs_background": "light"
     },
     "output_type": "display_data"
    }
   ],
   "source": [
    "fig, axes = plt.subplots(figsize=(10, 8))\n",
    "sns.heatmap(geo_data_third.drop(['id'], axis=1).phik_matrix(interval_cols = num_cols), annot=True, fmt='.2f', ax=axes)\n",
    "\n",
    "plt.title('Матрица корреляции geo_data_third')\n",
    "plt.show()"
   ]
  },
  {
   "cell_type": "markdown",
   "id": "f1d5c783-7ac1-4c41-9db2-77bccd54d66b",
   "metadata": {},
   "source": [
    "## Вывод по корреляционному анализу\n",
    "Заметим, что `f2` во всех случаях имеет самый большой коэффициент корреляции, во втором датасете `f2` даже очень сильно коррелирует с target признаком"
   ]
  },
  {
   "cell_type": "markdown",
   "id": "6026e8d7-3baa-4919-aac5-228032d870b5",
   "metadata": {},
   "source": [
    "## Обучение моделей"
   ]
  },
  {
   "cell_type": "code",
   "execution_count": 30,
   "id": "c4360aaa-fce9-4ac6-ba1b-015476645d0f",
   "metadata": {},
   "outputs": [],
   "source": [
    "RANDOM_STATE = 42\n",
    "def train_n_predict(data):\n",
    "    model_lr = LinearRegression()\n",
    "    X = data.drop(['product', 'id'], axis = 1)\n",
    "    y = data['product']\n",
    "    X_train, X_test, y_train, y_test = train_test_split(X, y, random_state = RANDOM_STATE, test_size = 0.25)\n",
    "    scaler = StandardScaler()\n",
    "    X_train_scaled = scaler.fit_transform(X_train)\n",
    "    X_test_scaled = scaler.transform(X_test)\n",
    "    model_lr.fit(X_train_scaled, y_train)\n",
    "    predictions = model_lr.predict(X_test_scaled)\n",
    "    rmse_score = mean_squared_error(y_test, predictions, squared = False)\n",
    "    r2 = r2_score(y_test, predictions)\n",
    "    mean_predicted_product = predictions.mean() \n",
    "    return rmse_score, r2, mean_predicted_product, predictions, y_test"
   ]
  },
  {
   "cell_type": "markdown",
   "id": "79677cd8",
   "metadata": {},
   "source": [
    "<div class=\"alert alert-success\">\n",
    "<h2> Комментарий ревьюера ✔️ <a class=\"tocSkip\"> </h2>\n",
    "\n",
    "Круто, что ты фиксируешь `random_state`. Кстати, его можно задать один раз в начале проекта, например, используя любимый нами [numpy](https://stackoverflow.com/questions/21494489/what-does-numpy-random-seed0-do)"
   ]
  },
  {
   "cell_type": "code",
   "execution_count": 31,
   "id": "7f23f4ed-d68e-483e-8397-2409979e4d79",
   "metadata": {},
   "outputs": [
    {
     "name": "stdout",
     "output_type": "stream",
     "text": [
      "RMSE = 37.685449282914554, средний запас предсказанного сырья = 92.61042181873445, r2 = 0.27452523946748064\n",
      "RMSE = 0.8927499238079175, средний запас предсказанного сырья = 68.57708250195154, r2 = 0.9996227495573733\n",
      "RMSE = 40.081937229383584, средний запас предсказанного сырья = 94.93621391668762, r2 = 0.19480144880517858\n"
     ]
    }
   ],
   "source": [
    "tmp_geo_data_fr = train_n_predict(geo_data_first)\n",
    "tmp_geo_data_sc = train_n_predict(geo_data_second)\n",
    "tmp_geo_data_th = train_n_predict(geo_data_third)\n",
    "rmse_fr, r2_fr, mean_pred_prod_fr, pred_fr, true_fr = train_n_predict(geo_data_first)\n",
    "rmse_sc, r2_sc, mean_pred_prod_sc, pred_sc, true_sc = train_n_predict(geo_data_second)\n",
    "rmse_th, r2_th, mean_pred_prod_th, pred_th, true_th = train_n_predict(geo_data_third)\n",
    "print(f'RMSE = {rmse_fr}, средний запас предсказанного сырья = {mean_pred_prod_fr}, r2 = {r2_fr}')\n",
    "print(f'RMSE = {rmse_sc}, средний запас предсказанного сырья = {mean_pred_prod_sc}, r2 = {r2_sc}')\n",
    "print(f'RMSE = {rmse_th}, средний запас предсказанного сырья = {mean_pred_prod_th}, r2 = {r2_th}')"
   ]
  },
  {
   "cell_type": "markdown",
   "id": "1b21026b",
   "metadata": {},
   "source": [
    "<div class=\"alert alert-success\">\n",
    "<h2> Комментарий ревьюера ✔️ <a class=\"tocSkip\"> </h2>\n",
    "\n",
    "Выполнить стандартизацию - правильный шаг. Хотя в нашем случае нам повезло, признаки не сильно отличаются диапазоном изменения значений."
   ]
  },
  {
   "cell_type": "markdown",
   "id": "b55e6fbb-8007-4946-8c7a-a412aaf809f1",
   "metadata": {},
   "source": [
    "Заметим, что показания rmse сильно разнятся в каждом регионе, как и средний запас(что вполне логично, так как и распределения у features отличались от регионов, а также и средний запас в каждом регионе)"
   ]
  },
  {
   "cell_type": "code",
   "execution_count": 32,
   "id": "29bae096-f956-4e8f-a0ee-3650e9616726",
   "metadata": {},
   "outputs": [],
   "source": [
    "tmp_geo_data_fr = (rmse_fr, r2_fr, mean_pred_prod_fr)\n",
    "tmp_geo_data_sc = (rmse_sc, r2_sc, mean_pred_prod_sc)\n",
    "tmp_geo_data_th = (rmse_th, r2_th, mean_pred_prod_th)\n",
    "data_tuple = (tmp_geo_data_fr, tmp_geo_data_sc, tmp_geo_data_th)\n",
    "pred_data = pd.DataFrame(data_tuple, columns = ['rmse', 'r2', 'средний_запас_сырья'])\n",
    "pred_data['регион'] = [1, 2, 3]"
   ]
  },
  {
   "cell_type": "code",
   "execution_count": 33,
   "id": "96f98de7-ea3d-44a4-ae75-7ab3ea049147",
   "metadata": {},
   "outputs": [
    {
     "data": {
      "text/html": [
       "<div>\n",
       "<style scoped>\n",
       "    .dataframe tbody tr th:only-of-type {\n",
       "        vertical-align: middle;\n",
       "    }\n",
       "\n",
       "    .dataframe tbody tr th {\n",
       "        vertical-align: top;\n",
       "    }\n",
       "\n",
       "    .dataframe thead th {\n",
       "        text-align: right;\n",
       "    }\n",
       "</style>\n",
       "<table border=\"1\" class=\"dataframe\">\n",
       "  <thead>\n",
       "    <tr style=\"text-align: right;\">\n",
       "      <th></th>\n",
       "      <th>rmse</th>\n",
       "      <th>r2</th>\n",
       "      <th>средний_запас_сырья</th>\n",
       "      <th>регион</th>\n",
       "    </tr>\n",
       "  </thead>\n",
       "  <tbody>\n",
       "    <tr>\n",
       "      <th>0</th>\n",
       "      <td>37.685449</td>\n",
       "      <td>0.274525</td>\n",
       "      <td>92.610422</td>\n",
       "      <td>1</td>\n",
       "    </tr>\n",
       "    <tr>\n",
       "      <th>1</th>\n",
       "      <td>0.892750</td>\n",
       "      <td>0.999623</td>\n",
       "      <td>68.577083</td>\n",
       "      <td>2</td>\n",
       "    </tr>\n",
       "    <tr>\n",
       "      <th>2</th>\n",
       "      <td>40.081937</td>\n",
       "      <td>0.194801</td>\n",
       "      <td>94.936214</td>\n",
       "      <td>3</td>\n",
       "    </tr>\n",
       "  </tbody>\n",
       "</table>\n",
       "</div>"
      ],
      "text/plain": [
       "        rmse        r2  средний_запас_сырья  регион\n",
       "0  37.685449  0.274525            92.610422       1\n",
       "1   0.892750  0.999623            68.577083       2\n",
       "2  40.081937  0.194801            94.936214       3"
      ]
     },
     "execution_count": 33,
     "metadata": {},
     "output_type": "execute_result"
    }
   ],
   "source": [
    "pred_data"
   ]
  },
  {
   "cell_type": "markdown",
   "id": "213a25f7-015a-4b13-9e10-9a00244a3069",
   "metadata": {},
   "source": [
    "## Вывод по обучению моделей\n",
    "Во втором регионе показатеоь rmse оказался самым малым, а также я проверил показатель r2, который очень близок к 1, скорее это связано сильной корреляцией `f2` признака в этом регионе, в следствие чего модель очень хорошо себя показала в предсказаниях\n",
    "\n",
    "В первом и третьем регионе rmse оказался равным ~40 (1 - 37, 3 - 40), однако показатели r2 сравнительно низкие (0.27, 0.19 соответственно)\n",
    "\n",
    "В первом регионе средний запас предсказанного сырья = 92.6, во втором - 68.6, в третьем - 95"
   ]
  },
  {
   "cell_type": "markdown",
   "id": "00ddfdd6-982c-4273-a6f4-f722246c3c3b",
   "metadata": {},
   "source": [
    "## Подготовка к расчету прибыли"
   ]
  },
  {
   "cell_type": "code",
   "execution_count": 34,
   "id": "f577cf53-a20f-4456-a026-117a641c3001",
   "metadata": {},
   "outputs": [
    {
     "name": "stdout",
     "output_type": "stream",
     "text": [
      "Достаточный объем =  111000.0 баррелей\n"
     ]
    }
   ],
   "source": [
    "total_budget = 10*10**9\n",
    "max_points = 500\n",
    "check_points = 200\n",
    "price_barrel = 450000\n",
    "threshold = 0.025\n",
    "enough_volume = (total_budget / (price_barrel)) / check_points \n",
    "print(\"Достаточный объем = \", round(enough_volume, 0) * 1000, \"баррелей\")"
   ]
  },
  {
   "cell_type": "markdown",
   "id": "46c8125a",
   "metadata": {},
   "source": [
    "<div class=\"alert alert-warning\">\n",
    "\n",
    "<h2> Комментарий ревьюера ⚠️ <a class=\"tocSkip\"> </h2>\n",
    "\n",
    "По правилам написания кода [PEP8](https://pep8.org/), константы определяют заглавными буквами)"
   ]
  },
  {
   "cell_type": "markdown",
   "id": "7fde9fb6-4d83-4182-9f23-8d88f3c0d497",
   "metadata": {},
   "source": [
    "Подсчитаем, какой процент скважин считаются безубыточными в каждом регионе"
   ]
  },
  {
   "cell_type": "code",
   "execution_count": 35,
   "id": "8b2b97bb-af32-4c46-b4b5-ca4c08feb06a",
   "metadata": {},
   "outputs": [
    {
     "name": "stdout",
     "output_type": "stream",
     "text": [
      "36% точек больше сырья чем 111 тысяч баррелей\n",
      "16% точек больше сырья чем 111 тысяч баррелей\n",
      "38% точек больше сырья чем 111 тысяч баррелей\n"
     ]
    }
   ],
   "source": [
    "def find_good_points(data, threshold_value):\n",
    "    percent_greater_than_threshold = (data['product'] > threshold_value).mean() * 100\n",
    "    return int(percent_greater_than_threshold)\n",
    "\n",
    "print(f'{find_good_points(geo_data_first, enough_volume)}% точек больше сырья чем {int(enough_volume)} тысяч баррелей')\n",
    "print(f'{find_good_points(geo_data_second, enough_volume)}% точек больше сырья чем {int(enough_volume)} тысяч баррелей')\n",
    "print(f'{find_good_points(geo_data_third, enough_volume)}% точек больше сырья чем {int(enough_volume)} тысяч баррелей')"
   ]
  },
  {
   "cell_type": "markdown",
   "id": "824cba38-9c01-4b9e-a23a-d2b91c06c532",
   "metadata": {},
   "source": [
    "Получаем следующие проценты для безубыточных скважин в каждом регионе\n",
    "- 36% 1 регион\n",
    "- 16% 2 регион\n",
    "- 38% 3 регион"
   ]
  },
  {
   "cell_type": "markdown",
   "id": "8b275056",
   "metadata": {},
   "source": [
    "<div class=\"alert alert-warning\">\n",
    "<h2> Комментарий ревьюера ⚠️ <a class=\"tocSkip\"> </h2>\n",
    "\n",
    "Я бы в этом блоке акцентировал на другом внимание. Тот факт, что средние ни по одному из регионов не дотягивают до точки безубыточности говорит нам о том, что мы не можем рандомно выбирать скважины для разработки, ведь в таком случае, нас, возможно, ждет неудача. Соответственно нужно выбирать самы жирные скважины, а для этого нужны модели"
   ]
  },
  {
   "cell_type": "markdown",
   "id": "46fd5029-7c46-421d-b6de-898ca7e696c9",
   "metadata": {},
   "source": [
    "## Расчет прибыли и рисков"
   ]
  },
  {
   "cell_type": "code",
   "execution_count": 36,
   "id": "321c68dc-17d4-46ca-bf81-4b1e0ced42e9",
   "metadata": {},
   "outputs": [],
   "source": [
    "def income(true, pred):\n",
    "    pred = pd.Series(pred).sort_values(ascending=False)[:check_points]\n",
    "    true = true.iloc[pred.index].reset_index(drop=True)\n",
    "    summary = true.sum() \n",
    "    return round((summary * price_barrel) - total_budget, 2)\n"
   ]
  },
  {
   "cell_type": "code",
   "execution_count": 37,
   "id": "f9a19c19-c278-4f19-9c1f-a0abb0fcc6f1",
   "metadata": {},
   "outputs": [
    {
     "name": "stdout",
     "output_type": "stream",
     "text": [
      "Прибыль с 200 скважин в первом регионе 3468529787.42\n",
      "Прибыль с 200 скважин во втором регионе 2415086696.68\n",
      "Прибыль с 200 скважин в третьем регионе 2403696307.46\n"
     ]
    }
   ],
   "source": [
    "print('Прибыль с 200 скважин в первом регионе', income(true_fr, pred_fr))\n",
    "print('Прибыль с 200 скважин во втором регионе', income(true_sc, pred_sc))\n",
    "print('Прибыль с 200 скважин в третьем регионе', income(true_th, pred_th))"
   ]
  },
  {
   "cell_type": "markdown",
   "id": "b7260f20",
   "metadata": {},
   "source": [
    "<div class=\"alert alert-danger\">\n",
    "<h2> Комментарий ревьюера ❌ <a class=\"tocSkip\"> </h2>\n",
    "\n",
    "Проводить обучение повторно - крайне неэффективно. Предлагаю использовать результаты прошлых расчетов, из блока 2. Сохрани прогнозные значения для валидационной выборки там и работай с ней)"
   ]
  },
  {
   "cell_type": "markdown",
   "id": "e43c9bb3-c1cf-4879-8ada-c057415bb57f",
   "metadata": {},
   "source": [
    "Итого получаем самую большую прибыль в первом регионе = 3468529787"
   ]
  },
  {
   "cell_type": "markdown",
   "id": "26e98da7-adc1-4afe-9141-de20b20bd507",
   "metadata": {},
   "source": [
    "Рассчитаем 95% доверительный интервал при помощи bootstrap"
   ]
  },
  {
   "cell_type": "code",
   "execution_count": 38,
   "id": "85674030-2e8d-4a0a-958f-37541ce95bb5",
   "metadata": {},
   "outputs": [],
   "source": [
    "def conf_interval(pred, true):\n",
    "    state = np.random.RandomState(12345)\n",
    "    values = []\n",
    "    pred = pd.Series(pred)\n",
    "    pred.index = true.index\n",
    "    for i in range(1000):\n",
    "        subsample_true = true.sample(n = max_points, replace=True, random_state = state)\n",
    "        subsample_pred = pred[subsample_true.index]\n",
    "        tmp = income(subsample_true, subsample_pred.values)\n",
    "        values.append(tmp)\n",
    "    values = pd.Series(values)\n",
    "    print(values.apply(lambda x: x < 0).sum() / len(values) * 100,\"%\")\n",
    "    lower = values.quantile(0.025)\n",
    "    upper = values.quantile(0.975)\n",
    "    mean_value = values.mean()\n",
    "    return lower, upper, mean_value"
   ]
  },
  {
   "cell_type": "markdown",
   "id": "c552381d",
   "metadata": {},
   "source": [
    "<div class=\"alert alert-success\">\n",
    "<h2> Комментарий ревьюера ✔️ <a class=\"tocSkip\"> </h2>\n",
    "\n",
    "Расчет рисков можно было выполнить проще, например, так\n",
    "\n",
    "```python\n",
    "risk = (values < 0).mean()\n",
    "```\n",
    "\n",
    "Либо можно использовать [percentileofscore](https://docs.scipy.org/doc/scipy/reference/generated/scipy.stats.percentileofscore.html) от `scipy`"
   ]
  },
  {
   "cell_type": "code",
   "execution_count": 39,
   "id": "9e1e1df2-234a-47db-9c80-0a2fcf16a84d",
   "metadata": {},
   "outputs": [
    {
     "name": "stdout",
     "output_type": "stream",
     "text": [
      "5.800000000000001 %\n",
      "95% доверительный интервал для первого региона: (-96722837.807, 938814611.3064998), среднее = 417008091.65932\n",
      "1.0 %\n",
      "95% доверительный интервал для второго региона: (51741836.33, 863042250.0182499), среднее = 432020731.23181\n",
      "9.0 %\n",
      "95% доверительный интервал для третьего региона: (-173602496.27574998, 869686813.8334999), среднее = 356837970.78053004\n"
     ]
    }
   ],
   "source": [
    "lower_bound, upper_bound, mean_value = conf_interval(pred_fr, true_fr);\n",
    "print(f\"95% доверительный интервал для первого региона: ({lower_bound}, {upper_bound}), среднее = {mean_value}\")\n",
    "lower_bound, upper_bound, mean_value = conf_interval(pred_sc, true_sc);\n",
    "print(f\"95% доверительный интервал для второго региона: ({lower_bound}, {upper_bound}), среднее = {mean_value}\")\n",
    "lower_bound, upper_bound, mean_value = conf_interval(pred_th, true_th);\n",
    "print(f\"95% доверительный интервал для третьего региона: ({lower_bound}, {upper_bound}), среднее = {mean_value}\")"
   ]
  },
  {
   "cell_type": "markdown",
   "id": "901b5f60",
   "metadata": {},
   "source": [
    "<div class=\"alert alert-danger\">\n",
    "<h2> Комментарий ревьюера ❌ <a class=\"tocSkip\"> </h2>\n",
    "\n",
    "По заданию нужно дополнительно выводить средние значения"
   ]
  },
  {
   "cell_type": "markdown",
   "id": "c15b4f83",
   "metadata": {},
   "source": [
    "<div class=\"alert alert-success\">\n",
    "<h2> Комментарий ревьюера v2 ✔️ <a class=\"tocSkip\"> </h2>\n",
    "\n",
    "Вот мое решение, для примера, может что-то понравится)"
   ]
  },
  {
   "cell_type": "code",
   "execution_count": 44,
   "id": "3432fb21",
   "metadata": {},
   "outputs": [
    {
     "name": "stdout",
     "output_type": "stream",
     "text": [
      "+------------------------+--------------------+\n",
      "|       Показатель       |      Значение      |\n",
      "+------------------------+--------------------+\n",
      "|    Средняя выручка     |     431.7 млн      |\n",
      "|          Риск          |        4.8%        |\n",
      "| Доверительный интервал | -100.2 : 944.6 млн |\n",
      "+------------------------+--------------------+\n"
     ]
    },
    {
     "data": {
      "image/png": "[encoded data removed]",
      "text/plain": [
       "<Figure size 432x288 with 1 Axes>"
      ]
     },
     "metadata": {
      "needs_background": "light"
     },
     "output_type": "display_data"
    }
   ],
   "source": [
    "# !pip3 install prettytable\n",
    "# from prettytable import PrettyTable\n",
    "# import seaborn as sns\n",
    "# from scipy import stats as st\n",
    "\n",
    "BUDGET = 10000000000\n",
    "BARREL_COST = 450\n",
    "BARRELS_IN_UNIT = 1000\n",
    "UNIT_COST = BARREL_COST * BARRELS_IN_UNIT\n",
    "TOTAL_POINTS = 500\n",
    "POINTS = 200\n",
    "\n",
    "def revenue_2(target, predictions, points, budget, unit_cost):\n",
    "    predicted_sorted = predictions.sort_values(ascending=False)\n",
    "    selected = target[predicted_sorted.index][:points]\n",
    "    return selected.sum() * unit_cost - budget\n",
    "\n",
    "def bootstrap_2(target, probabilities):\n",
    "    state = np.random.RandomState(888)\n",
    "    values=[]\n",
    "    for i in range(1000):\n",
    "        target_subsample = target.sample(replace=True,\\\n",
    "            random_state=state, n=TOTAL_POINTS)\n",
    "\n",
    "        probs_subsample = probabilities[target_subsample.index]\n",
    "        values.append(revenue_2(target_subsample, probs_subsample, POINTS, BUDGET, UNIT_COST))\n",
    "\n",
    "    values = pd.Series(values)\n",
    "    lower = values.quantile(0.025)\n",
    "    upper = values.quantile(0.975)\n",
    "    mean = values.mean()\n",
    "    risk = st.percentileofscore(values, 0)\n",
    "\n",
    "     # Отображение таблицы\n",
    "    table = PrettyTable()\n",
    "    table.field_names = ['Показатель', 'Значение']\n",
    "    table.add_row(['Средняя выручка', f'{mean/1e6:.1f} млн'])\n",
    "    table.add_row(['Риск', f'{risk:.2}%'])\n",
    "    table.add_row(['Доверительный интервал', f'{lower/1e6:.1f} : {upper/1e6:.1f} млн'])\n",
    "    print(table)\n",
    "\n",
    "    sns.histplot(values, alpha=0.4,  element=\"step\")\n",
    "    plt.xlabel('Прибыль')\n",
    "    plt.axvline(x=mean, color='b', ls='--', lw=3, label='Средняя прибыль')\n",
    "    plt.axvline(x=lower, color='r', ls=':', lw=3, label='95%-й доверительный интервал')\n",
    "    plt.axvline(x=upper, color='r', ls=':', lw=3)\n",
    "    plt.legend(bbox_to_anchor=(0.5, -0.15), loc='upper center', ncol=2)\n",
    "    plt.show()\n",
    "\n",
    "bootstrap_2(true_fr, pd.Series(pred_fr, index=true_fr.index))"
   ]
  },
  {
   "cell_type": "markdown",
   "id": "efd833f5-c7af-4f8b-a638-c73b132ea03c",
   "metadata": {},
   "source": [
    "## Вывод по расчету прибыли и рисков\n",
    "- Получилось установить показатель в баррелях для безубыточной скважины - 111 000\n",
    "- Самая большая прибыль с первом регионе - 3468529787\n",
    "- 95% доверительный интервал для первого региона:  (-96261928.02025001, 933493095.4969997), среднее = 417354353.45570993\n",
    "- 95% доверительный интервал для второго региона:  (51741836.33, 863042250.0182499), среднее = 432017870.03948 \n",
    "- 95% доверительный интервал для третьего региона:  (-186256154.75749996, 892099105.673), среднее = 356881964.62191993\n",
    "- По итогу самым менее рискованным регионом для бурения оказался второй, с процентным содержанием отрицательной прибыли в точках - 1%, поэтому я бы порекомендовал бурить именно в этом регионе\n",
    "- В первом регионе самая большая прибыль и процент отрицательной прибыли в точках - 5.8%, на месте бизнеса я бы порекомендовал рассмотреть и этот регион, возможно стоит изучить регион подробнее и разработать более подходящую модель для предсказаний, так как прибыль хорошая, процент не такой большой\n"
   ]
  },
  {
   "cell_type": "markdown",
   "id": "3bd9d2e4-716c-45c7-b530-df9c575912ec",
   "metadata": {},
   "source": [
    "# Общий вывод\n",
    "\n",
    "## Вывод по предобработке данных:\n",
    "Пропусков в данных не обнаружено, но были найдены дубликаты, которые оказались отброшены ввиду их незначительного количества\n",
    "\n",
    "## Вывод по исследовательскому анализу\n",
    "Про `f0, f1, f2` тяжело что-то сказать и как-то объяснить распределение и выборосы, но вот что можно сказать касательно `product`:\n",
    "- Минимальное значение = 0\n",
    "- Максимальное значение = 185 000, 137 000, 190 000 баррелей\n",
    "- Медиана ~90 000 баррелей и 57 000 баррелей\n",
    "- Распределения признаков не являются одинаковыми\n",
    "\n",
    "## Вывод по корреляционному анализу\n",
    "Заметим, что `f2` во всех случаях имеет самый большой коэффициент корреляции, во втором датасете `f2` даже очень сильно коррелирует с target признаком\n",
    "\n",
    "## Вывод по обучению моделей\n",
    "Во втором регионе показатеоь rmse оказался самым малым, а также я проверил показатель r2, который очень близок к 1, скорее это связано сильной корреляцией `f2` признака в этом регионе, в следствие чего модель очень хорошо себя показала в предсказаниях\n",
    "\n",
    "В первом и третьем регионе rmse оказался равным ~40 (1 - 37, 3 - 40), однако показатели r2 сравнительно низкие (0.27, 0.19 соответственно)\n",
    "\n",
    "В первом регионе средний запас предсказанного сырья = 92.6, во втором - 68.6, в третьем - 95\n",
    "\n",
    "## Вывод по расчету прибыли и рисков\n",
    "- Получилось установить показатель в баррелях для безубыточной скважины - 111 000\n",
    "- Самая большая прибыль с первом регионе - 3468529787\n",
    "- 95% доверительный интервал для первого региона:  (-96261928.02025001, 933493095.4969997), среднее = 417354353.45570993\n",
    "- 95% доверительный интервал для второго региона:  (51741836.33, 863042250.0182499), среднее = 432017870.03948 \n",
    "- 95% доверительный интервал для третьего региона:  (-186256154.75749996, 892099105.673), среднее = 356881964.62191993\n",
    "- По итогу самым менее рискованным регионом для бурения оказался второй, с процентным содержанием отрицательной прибыли в точках - 1%, поэтому я бы порекомендовал бурить именно в этом регионе\n",
    "- В первом регионе самая большая прибыль и процент отрицательной прибыли в точках - 5.8%, на месте бизнеса я бы порекомендовал рассмотреть и этот регион, возможно стоит изучить регион подробнее и разработать более подходящую модель для предсказаний, так как прибыль хорошая, процент не такой большой\n"
   ]
  },
  {
   "cell_type": "markdown",
   "id": "f610cef1",
   "metadata": {},
   "source": [
    "<div class=\"alert alert-success\">\n",
    "<h2> Комментарий ревьюера ✔️ <a class=\"tocSkip\"> </h2>\n",
    "\n",
    "👍"
   ]
  },
  {
   "cell_type": "code",
   "execution_count": null,
   "id": "5e9599d7-5530-4606-8316-7b13ae3761cd",
   "metadata": {},
   "outputs": [],
   "source": []
  }
 ],
 "metadata": {
  "ExecuteTimeLog": [
   {
    "duration": 11881,
    "start_time": "2024-03-24T13:59:24.619Z"
   },
   {
    "duration": 0,
    "start_time": "2024-03-24T13:59:36.502Z"
   },
   {
    "duration": 0,
    "start_time": "2024-03-24T13:59:36.504Z"
   },
   {
    "duration": 0,
    "start_time": "2024-03-24T13:59:36.504Z"
   },
   {
    "duration": 0,
    "start_time": "2024-03-24T13:59:36.505Z"
   },
   {
    "duration": 0,
    "start_time": "2024-03-24T13:59:36.506Z"
   },
   {
    "duration": 0,
    "start_time": "2024-03-24T13:59:36.507Z"
   },
   {
    "duration": 0,
    "start_time": "2024-03-24T13:59:36.508Z"
   },
   {
    "duration": 0,
    "start_time": "2024-03-24T13:59:36.509Z"
   },
   {
    "duration": 0,
    "start_time": "2024-03-24T13:59:36.510Z"
   },
   {
    "duration": 0,
    "start_time": "2024-03-24T13:59:36.510Z"
   },
   {
    "duration": 0,
    "start_time": "2024-03-24T13:59:36.511Z"
   },
   {
    "duration": 0,
    "start_time": "2024-03-24T13:59:36.512Z"
   },
   {
    "duration": 0,
    "start_time": "2024-03-24T13:59:36.513Z"
   },
   {
    "duration": 0,
    "start_time": "2024-03-24T13:59:36.514Z"
   },
   {
    "duration": 0,
    "start_time": "2024-03-24T13:59:36.515Z"
   },
   {
    "duration": 0,
    "start_time": "2024-03-24T13:59:36.515Z"
   },
   {
    "duration": 0,
    "start_time": "2024-03-24T13:59:36.516Z"
   },
   {
    "duration": 0,
    "start_time": "2024-03-24T13:59:36.517Z"
   },
   {
    "duration": 0,
    "start_time": "2024-03-24T13:59:36.517Z"
   },
   {
    "duration": 0,
    "start_time": "2024-03-24T13:59:36.518Z"
   },
   {
    "duration": 0,
    "start_time": "2024-03-24T13:59:36.519Z"
   },
   {
    "duration": 0,
    "start_time": "2024-03-24T13:59:36.520Z"
   },
   {
    "duration": 0,
    "start_time": "2024-03-24T13:59:36.521Z"
   },
   {
    "duration": 0,
    "start_time": "2024-03-24T13:59:36.521Z"
   },
   {
    "duration": 0,
    "start_time": "2024-03-24T13:59:36.522Z"
   },
   {
    "duration": 0,
    "start_time": "2024-03-24T13:59:36.523Z"
   },
   {
    "duration": 0,
    "start_time": "2024-03-24T13:59:36.525Z"
   },
   {
    "duration": 0,
    "start_time": "2024-03-24T13:59:36.526Z"
   },
   {
    "duration": 0,
    "start_time": "2024-03-24T13:59:36.527Z"
   },
   {
    "duration": 0,
    "start_time": "2024-03-24T13:59:36.527Z"
   },
   {
    "duration": 0,
    "start_time": "2024-03-24T13:59:36.528Z"
   },
   {
    "duration": 0,
    "start_time": "2024-03-24T13:59:36.529Z"
   },
   {
    "duration": 0,
    "start_time": "2024-03-24T13:59:36.530Z"
   },
   {
    "duration": 0,
    "start_time": "2024-03-24T13:59:36.531Z"
   },
   {
    "duration": 0,
    "start_time": "2024-03-24T13:59:36.532Z"
   },
   {
    "duration": 0,
    "start_time": "2024-03-24T13:59:36.532Z"
   },
   {
    "duration": 0,
    "start_time": "2024-03-24T13:59:36.533Z"
   },
   {
    "duration": 0,
    "start_time": "2024-03-24T13:59:36.534Z"
   },
   {
    "duration": 0,
    "start_time": "2024-03-24T13:59:36.535Z"
   },
   {
    "duration": 0,
    "start_time": "2024-03-24T13:59:36.536Z"
   },
   {
    "duration": 2925,
    "start_time": "2024-03-24T14:01:27.718Z"
   },
   {
    "duration": 3,
    "start_time": "2024-03-24T14:01:58.554Z"
   },
   {
    "duration": 9073,
    "start_time": "2024-03-24T14:01:58.558Z"
   },
   {
    "duration": 0,
    "start_time": "2024-03-24T14:02:07.633Z"
   },
   {
    "duration": 0,
    "start_time": "2024-03-24T14:02:07.634Z"
   },
   {
    "duration": 0,
    "start_time": "2024-03-24T14:02:07.635Z"
   },
   {
    "duration": 0,
    "start_time": "2024-03-24T14:02:07.636Z"
   },
   {
    "duration": 0,
    "start_time": "2024-03-24T14:02:07.637Z"
   },
   {
    "duration": 0,
    "start_time": "2024-03-24T14:02:07.638Z"
   },
   {
    "duration": 0,
    "start_time": "2024-03-24T14:02:07.638Z"
   },
   {
    "duration": 0,
    "start_time": "2024-03-24T14:02:07.639Z"
   },
   {
    "duration": 0,
    "start_time": "2024-03-24T14:02:07.640Z"
   },
   {
    "duration": 0,
    "start_time": "2024-03-24T14:02:07.641Z"
   },
   {
    "duration": 0,
    "start_time": "2024-03-24T14:02:07.642Z"
   },
   {
    "duration": 0,
    "start_time": "2024-03-24T14:02:07.643Z"
   },
   {
    "duration": 0,
    "start_time": "2024-03-24T14:02:07.643Z"
   },
   {
    "duration": 0,
    "start_time": "2024-03-24T14:02:07.644Z"
   },
   {
    "duration": 0,
    "start_time": "2024-03-24T14:02:07.645Z"
   },
   {
    "duration": 0,
    "start_time": "2024-03-24T14:02:07.646Z"
   },
   {
    "duration": 0,
    "start_time": "2024-03-24T14:02:07.647Z"
   },
   {
    "duration": 0,
    "start_time": "2024-03-24T14:02:07.648Z"
   },
   {
    "duration": 0,
    "start_time": "2024-03-24T14:02:07.649Z"
   },
   {
    "duration": 0,
    "start_time": "2024-03-24T14:02:07.651Z"
   },
   {
    "duration": 0,
    "start_time": "2024-03-24T14:02:07.652Z"
   },
   {
    "duration": 0,
    "start_time": "2024-03-24T14:02:07.653Z"
   },
   {
    "duration": 0,
    "start_time": "2024-03-24T14:02:07.655Z"
   },
   {
    "duration": 0,
    "start_time": "2024-03-24T14:02:07.656Z"
   },
   {
    "duration": 0,
    "start_time": "2024-03-24T14:02:07.657Z"
   },
   {
    "duration": 0,
    "start_time": "2024-03-24T14:02:07.658Z"
   },
   {
    "duration": 0,
    "start_time": "2024-03-24T14:02:07.660Z"
   },
   {
    "duration": 0,
    "start_time": "2024-03-24T14:02:07.661Z"
   },
   {
    "duration": 0,
    "start_time": "2024-03-24T14:02:07.664Z"
   },
   {
    "duration": 0,
    "start_time": "2024-03-24T14:02:07.665Z"
   },
   {
    "duration": 0,
    "start_time": "2024-03-24T14:02:07.666Z"
   },
   {
    "duration": 0,
    "start_time": "2024-03-24T14:02:07.702Z"
   },
   {
    "duration": 0,
    "start_time": "2024-03-24T14:02:07.703Z"
   },
   {
    "duration": 0,
    "start_time": "2024-03-24T14:02:07.704Z"
   },
   {
    "duration": 0,
    "start_time": "2024-03-24T14:02:07.705Z"
   },
   {
    "duration": 0,
    "start_time": "2024-03-24T14:02:07.707Z"
   },
   {
    "duration": 0,
    "start_time": "2024-03-24T14:02:07.708Z"
   },
   {
    "duration": 0,
    "start_time": "2024-03-24T14:02:07.709Z"
   },
   {
    "duration": 0,
    "start_time": "2024-03-24T14:02:07.710Z"
   },
   {
    "duration": 0,
    "start_time": "2024-03-24T14:02:07.712Z"
   },
   {
    "duration": 2973,
    "start_time": "2024-03-24T14:03:34.019Z"
   },
   {
    "duration": 4473,
    "start_time": "2024-03-24T14:03:40.168Z"
   },
   {
    "duration": 1698,
    "start_time": "2024-03-24T14:03:58.432Z"
   },
   {
    "duration": 917,
    "start_time": "2024-03-24T14:04:00.132Z"
   },
   {
    "duration": 22,
    "start_time": "2024-03-24T14:04:01.050Z"
   },
   {
    "duration": 36,
    "start_time": "2024-03-24T14:04:01.073Z"
   },
   {
    "duration": 58,
    "start_time": "2024-03-24T14:04:01.111Z"
   },
   {
    "duration": 70,
    "start_time": "2024-03-24T14:04:01.171Z"
   },
   {
    "duration": 51,
    "start_time": "2024-03-24T14:04:01.243Z"
   },
   {
    "duration": 44,
    "start_time": "2024-03-24T14:04:01.295Z"
   },
   {
    "duration": 65,
    "start_time": "2024-03-24T14:04:01.341Z"
   },
   {
    "duration": 45,
    "start_time": "2024-03-24T14:04:01.408Z"
   },
   {
    "duration": 85,
    "start_time": "2024-03-24T14:04:01.455Z"
   },
   {
    "duration": 25,
    "start_time": "2024-03-24T14:04:01.541Z"
   },
   {
    "duration": 58,
    "start_time": "2024-03-24T14:04:01.567Z"
   },
   {
    "duration": 10,
    "start_time": "2024-03-24T14:04:01.628Z"
   },
   {
    "duration": 47,
    "start_time": "2024-03-24T14:04:01.639Z"
   },
   {
    "duration": 18,
    "start_time": "2024-03-24T14:04:01.688Z"
   },
   {
    "duration": 28,
    "start_time": "2024-03-24T14:04:01.708Z"
   },
   {
    "duration": 23,
    "start_time": "2024-03-24T14:04:01.738Z"
   },
   {
    "duration": 38,
    "start_time": "2024-03-24T14:04:01.762Z"
   },
   {
    "duration": 31,
    "start_time": "2024-03-24T14:04:01.801Z"
   },
   {
    "duration": 48,
    "start_time": "2024-03-24T14:04:01.833Z"
   },
   {
    "duration": 32,
    "start_time": "2024-03-24T14:04:01.883Z"
   },
   {
    "duration": 22,
    "start_time": "2024-03-24T14:04:01.917Z"
   },
   {
    "duration": 56,
    "start_time": "2024-03-24T14:04:01.940Z"
   },
   {
    "duration": 1174,
    "start_time": "2024-03-24T14:04:01.997Z"
   },
   {
    "duration": 1105,
    "start_time": "2024-03-24T14:04:03.172Z"
   },
   {
    "duration": 1204,
    "start_time": "2024-03-24T14:04:04.279Z"
   },
   {
    "duration": 623,
    "start_time": "2024-03-24T14:04:05.484Z"
   },
   {
    "duration": 598,
    "start_time": "2024-03-24T14:04:06.108Z"
   },
   {
    "duration": 609,
    "start_time": "2024-03-24T14:04:06.708Z"
   },
   {
    "duration": 5,
    "start_time": "2024-03-24T14:04:07.319Z"
   },
   {
    "duration": 394,
    "start_time": "2024-03-24T14:04:07.325Z"
   },
   {
    "duration": 83,
    "start_time": "2024-03-24T14:04:07.721Z"
   },
   {
    "duration": 101,
    "start_time": "2024-03-24T14:04:07.806Z"
   },
   {
    "duration": 4,
    "start_time": "2024-03-24T14:04:07.908Z"
   },
   {
    "duration": 9,
    "start_time": "2024-03-24T14:04:07.913Z"
   },
   {
    "duration": 6,
    "start_time": "2024-03-24T14:04:07.923Z"
   },
   {
    "duration": 5,
    "start_time": "2024-03-24T14:04:07.931Z"
   },
   {
    "duration": 465,
    "start_time": "2024-03-24T14:04:07.937Z"
   },
   {
    "duration": 5,
    "start_time": "2024-03-24T14:04:08.404Z"
   },
   {
    "duration": 2158,
    "start_time": "2024-03-24T14:04:08.413Z"
   },
   {
    "duration": 95,
    "start_time": "2024-03-24T20:58:09.928Z"
   },
   {
    "duration": 42,
    "start_time": "2024-03-24T21:07:25.328Z"
   },
   {
    "duration": 5075,
    "start_time": "2024-03-24T21:08:23.723Z"
   },
   {
    "duration": 1739,
    "start_time": "2024-03-24T21:08:28.800Z"
   },
   {
    "duration": 25,
    "start_time": "2024-03-24T21:08:30.541Z"
   },
   {
    "duration": 132,
    "start_time": "2024-03-24T21:08:30.567Z"
   },
   {
    "duration": 90,
    "start_time": "2024-03-24T21:08:30.701Z"
   },
   {
    "duration": 94,
    "start_time": "2024-03-24T21:08:30.793Z"
   },
   {
    "duration": 80,
    "start_time": "2024-03-24T21:08:30.888Z"
   },
   {
    "duration": 147,
    "start_time": "2024-03-24T21:08:30.970Z"
   },
   {
    "duration": 102,
    "start_time": "2024-03-24T21:08:31.118Z"
   },
   {
    "duration": 110,
    "start_time": "2024-03-24T21:08:31.222Z"
   },
   {
    "duration": 123,
    "start_time": "2024-03-24T21:08:31.334Z"
   },
   {
    "duration": 71,
    "start_time": "2024-03-24T21:08:31.458Z"
   },
   {
    "duration": 89,
    "start_time": "2024-03-24T21:08:31.531Z"
   },
   {
    "duration": 81,
    "start_time": "2024-03-24T21:08:31.623Z"
   },
   {
    "duration": 68,
    "start_time": "2024-03-24T21:08:31.706Z"
   },
   {
    "duration": 75,
    "start_time": "2024-03-24T21:08:31.776Z"
   },
   {
    "duration": 55,
    "start_time": "2024-03-24T21:08:31.853Z"
   },
   {
    "duration": 99,
    "start_time": "2024-03-24T21:08:31.910Z"
   },
   {
    "duration": 73,
    "start_time": "2024-03-24T21:08:32.010Z"
   },
   {
    "duration": 32,
    "start_time": "2024-03-24T21:08:36.888Z"
   },
   {
    "duration": 6,
    "start_time": "2024-03-24T21:17:30.297Z"
   },
   {
    "duration": 619,
    "start_time": "2024-03-24T21:17:30.307Z"
   },
   {
    "duration": 21,
    "start_time": "2024-03-24T21:17:30.928Z"
   },
   {
    "duration": 48,
    "start_time": "2024-03-24T21:17:30.950Z"
   },
   {
    "duration": 58,
    "start_time": "2024-03-24T21:17:30.999Z"
   },
   {
    "duration": 59,
    "start_time": "2024-03-24T21:17:31.059Z"
   },
   {
    "duration": 51,
    "start_time": "2024-03-24T21:17:31.120Z"
   },
   {
    "duration": 49,
    "start_time": "2024-03-24T21:17:31.173Z"
   },
   {
    "duration": 45,
    "start_time": "2024-03-24T21:17:31.224Z"
   },
   {
    "duration": 82,
    "start_time": "2024-03-24T21:17:31.271Z"
   },
   {
    "duration": 58,
    "start_time": "2024-03-24T21:17:31.355Z"
   },
   {
    "duration": 45,
    "start_time": "2024-03-24T21:17:31.415Z"
   },
   {
    "duration": 59,
    "start_time": "2024-03-24T21:17:31.462Z"
   },
   {
    "duration": 15,
    "start_time": "2024-03-24T21:17:31.523Z"
   },
   {
    "duration": 57,
    "start_time": "2024-03-24T21:17:31.540Z"
   },
   {
    "duration": 28,
    "start_time": "2024-03-24T21:17:31.600Z"
   },
   {
    "duration": 36,
    "start_time": "2024-03-24T21:17:31.630Z"
   },
   {
    "duration": 25,
    "start_time": "2024-03-24T21:17:31.668Z"
   },
   {
    "duration": 24,
    "start_time": "2024-03-24T21:17:31.695Z"
   },
   {
    "duration": 26,
    "start_time": "2024-03-24T21:17:31.720Z"
   },
   {
    "duration": 19,
    "start_time": "2024-03-24T21:17:31.748Z"
   },
   {
    "duration": 70,
    "start_time": "2024-03-24T21:17:31.769Z"
   },
   {
    "duration": 26,
    "start_time": "2024-03-24T21:17:31.840Z"
   },
   {
    "duration": 1072,
    "start_time": "2024-03-24T21:17:39.298Z"
   },
   {
    "duration": 7,
    "start_time": "2024-03-24T21:21:46.924Z"
   },
   {
    "duration": 543,
    "start_time": "2024-03-24T21:21:46.933Z"
   },
   {
    "duration": 25,
    "start_time": "2024-03-24T21:21:47.477Z"
   },
   {
    "duration": 24,
    "start_time": "2024-03-24T21:21:47.503Z"
   },
   {
    "duration": 66,
    "start_time": "2024-03-24T21:21:47.529Z"
   },
   {
    "duration": 26,
    "start_time": "2024-03-24T21:21:47.596Z"
   },
   {
    "duration": 14,
    "start_time": "2024-03-24T21:21:47.624Z"
   },
   {
    "duration": 21,
    "start_time": "2024-03-24T21:21:47.639Z"
   },
   {
    "duration": 21,
    "start_time": "2024-03-24T21:21:47.661Z"
   },
   {
    "duration": 19,
    "start_time": "2024-03-24T21:21:47.684Z"
   },
   {
    "duration": 32,
    "start_time": "2024-03-24T21:21:47.704Z"
   },
   {
    "duration": 12,
    "start_time": "2024-03-24T21:21:47.740Z"
   },
   {
    "duration": 25,
    "start_time": "2024-03-24T21:21:47.753Z"
   },
   {
    "duration": 16,
    "start_time": "2024-03-24T21:21:47.781Z"
   },
   {
    "duration": 29,
    "start_time": "2024-03-24T21:21:47.798Z"
   },
   {
    "duration": 20,
    "start_time": "2024-03-24T21:21:47.829Z"
   },
   {
    "duration": 23,
    "start_time": "2024-03-24T21:21:47.851Z"
   },
   {
    "duration": 30,
    "start_time": "2024-03-24T21:21:47.875Z"
   },
   {
    "duration": 14,
    "start_time": "2024-03-24T21:21:47.907Z"
   },
   {
    "duration": 30,
    "start_time": "2024-03-24T21:21:47.922Z"
   },
   {
    "duration": 4,
    "start_time": "2024-03-24T21:21:47.953Z"
   },
   {
    "duration": 14,
    "start_time": "2024-03-24T21:21:47.958Z"
   },
   {
    "duration": 21,
    "start_time": "2024-03-24T21:21:47.973Z"
   },
   {
    "duration": 1115,
    "start_time": "2024-03-24T21:21:47.995Z"
   },
   {
    "duration": 983,
    "start_time": "2024-03-24T21:21:49.112Z"
   },
   {
    "duration": 1115,
    "start_time": "2024-03-24T21:21:50.097Z"
   },
   {
    "duration": 639,
    "start_time": "2024-03-24T21:21:51.214Z"
   },
   {
    "duration": 559,
    "start_time": "2024-03-24T21:21:51.854Z"
   },
   {
    "duration": 581,
    "start_time": "2024-03-24T21:21:52.415Z"
   },
   {
    "duration": 5,
    "start_time": "2024-03-24T21:21:52.997Z"
   },
   {
    "duration": 404,
    "start_time": "2024-03-24T21:21:53.003Z"
   },
   {
    "duration": 84,
    "start_time": "2024-03-24T21:21:53.410Z"
   },
   {
    "duration": 111,
    "start_time": "2024-03-24T21:21:53.496Z"
   },
   {
    "duration": 8,
    "start_time": "2024-03-24T21:21:53.609Z"
   },
   {
    "duration": 12,
    "start_time": "2024-03-24T21:21:53.619Z"
   },
   {
    "duration": 8,
    "start_time": "2024-03-24T21:21:53.632Z"
   },
   {
    "duration": 28,
    "start_time": "2024-03-24T21:21:53.642Z"
   },
   {
    "duration": 527,
    "start_time": "2024-03-24T21:21:53.671Z"
   },
   {
    "duration": 95,
    "start_time": "2024-03-24T21:21:54.200Z"
   },
   {
    "duration": 2721,
    "start_time": "2024-03-24T21:21:59.289Z"
   },
   {
    "duration": 5,
    "start_time": "2024-03-24T21:24:06.015Z"
   },
   {
    "duration": 866,
    "start_time": "2024-03-24T21:24:07.549Z"
   },
   {
    "duration": 2633,
    "start_time": "2024-03-24T21:24:31.956Z"
   },
   {
    "duration": 4,
    "start_time": "2024-03-24T21:36:00.110Z"
   },
   {
    "duration": 965,
    "start_time": "2024-03-24T21:36:01.944Z"
   },
   {
    "duration": 5,
    "start_time": "2024-03-24T21:37:12.211Z"
   },
   {
    "duration": 8,
    "start_time": "2024-03-24T21:37:14.133Z"
   },
   {
    "duration": 6,
    "start_time": "2024-03-24T21:37:53.868Z"
   },
   {
    "duration": 540,
    "start_time": "2024-03-24T21:37:53.875Z"
   },
   {
    "duration": 20,
    "start_time": "2024-03-24T21:37:54.416Z"
   },
   {
    "duration": 38,
    "start_time": "2024-03-24T21:37:54.438Z"
   },
   {
    "duration": 46,
    "start_time": "2024-03-24T21:37:54.477Z"
   },
   {
    "duration": 54,
    "start_time": "2024-03-24T21:37:54.525Z"
   },
   {
    "duration": 15,
    "start_time": "2024-03-24T21:37:54.580Z"
   },
   {
    "duration": 18,
    "start_time": "2024-03-24T21:37:54.597Z"
   },
   {
    "duration": 24,
    "start_time": "2024-03-24T21:37:54.616Z"
   },
   {
    "duration": 21,
    "start_time": "2024-03-24T21:37:54.643Z"
   },
   {
    "duration": 37,
    "start_time": "2024-03-24T21:37:54.666Z"
   },
   {
    "duration": 14,
    "start_time": "2024-03-24T21:37:54.705Z"
   },
   {
    "duration": 32,
    "start_time": "2024-03-24T21:37:54.720Z"
   },
   {
    "duration": 12,
    "start_time": "2024-03-24T21:37:54.753Z"
   },
   {
    "duration": 43,
    "start_time": "2024-03-24T21:37:54.767Z"
   },
   {
    "duration": 14,
    "start_time": "2024-03-24T21:37:54.812Z"
   },
   {
    "duration": 21,
    "start_time": "2024-03-24T21:37:54.828Z"
   },
   {
    "duration": 12,
    "start_time": "2024-03-24T21:37:54.851Z"
   },
   {
    "duration": 14,
    "start_time": "2024-03-24T21:37:54.865Z"
   },
   {
    "duration": 38,
    "start_time": "2024-03-24T21:37:54.880Z"
   },
   {
    "duration": 4,
    "start_time": "2024-03-24T21:37:54.920Z"
   },
   {
    "duration": 13,
    "start_time": "2024-03-24T21:37:54.926Z"
   },
   {
    "duration": 14,
    "start_time": "2024-03-24T21:37:54.940Z"
   },
   {
    "duration": 1099,
    "start_time": "2024-03-24T21:37:54.956Z"
   },
   {
    "duration": 1003,
    "start_time": "2024-03-24T21:37:56.057Z"
   },
   {
    "duration": 1116,
    "start_time": "2024-03-24T21:37:57.061Z"
   },
   {
    "duration": 577,
    "start_time": "2024-03-24T21:37:58.178Z"
   },
   {
    "duration": 571,
    "start_time": "2024-03-24T21:37:58.759Z"
   },
   {
    "duration": 572,
    "start_time": "2024-03-24T21:37:59.332Z"
   },
   {
    "duration": 4,
    "start_time": "2024-03-24T21:37:59.906Z"
   },
   {
    "duration": 991,
    "start_time": "2024-03-24T21:37:59.912Z"
   },
   {
    "duration": 95,
    "start_time": "2024-03-24T21:38:00.905Z"
   },
   {
    "duration": 245,
    "start_time": "2024-03-24T21:38:01.004Z"
   },
   {
    "duration": 45,
    "start_time": "2024-03-24T21:38:01.251Z"
   },
   {
    "duration": 59,
    "start_time": "2024-03-24T21:38:01.297Z"
   },
   {
    "duration": 43,
    "start_time": "2024-03-24T21:38:01.358Z"
   },
   {
    "duration": 78,
    "start_time": "2024-03-24T21:38:01.403Z"
   },
   {
    "duration": 93,
    "start_time": "2024-03-24T21:38:01.483Z"
   },
   {
    "duration": 2784,
    "start_time": "2024-03-24T21:38:01.578Z"
   },
   {
    "duration": 6,
    "start_time": "2024-03-24T21:43:08.863Z"
   },
   {
    "duration": 545,
    "start_time": "2024-03-24T21:43:08.872Z"
   },
   {
    "duration": 24,
    "start_time": "2024-03-24T21:43:09.419Z"
   },
   {
    "duration": 26,
    "start_time": "2024-03-24T21:43:09.445Z"
   },
   {
    "duration": 65,
    "start_time": "2024-03-24T21:43:09.474Z"
   },
   {
    "duration": 20,
    "start_time": "2024-03-24T21:43:09.540Z"
   },
   {
    "duration": 36,
    "start_time": "2024-03-24T21:43:09.561Z"
   },
   {
    "duration": 40,
    "start_time": "2024-03-24T21:43:09.599Z"
   },
   {
    "duration": 21,
    "start_time": "2024-03-24T21:43:09.641Z"
   },
   {
    "duration": 21,
    "start_time": "2024-03-24T21:43:09.663Z"
   },
   {
    "duration": 33,
    "start_time": "2024-03-24T21:43:09.685Z"
   },
   {
    "duration": 15,
    "start_time": "2024-03-24T21:43:09.720Z"
   },
   {
    "duration": 39,
    "start_time": "2024-03-24T21:43:09.736Z"
   },
   {
    "duration": 14,
    "start_time": "2024-03-24T21:43:09.779Z"
   },
   {
    "duration": 33,
    "start_time": "2024-03-24T21:43:09.794Z"
   },
   {
    "duration": 13,
    "start_time": "2024-03-24T21:43:09.828Z"
   },
   {
    "duration": 34,
    "start_time": "2024-03-24T21:43:09.842Z"
   },
   {
    "duration": 22,
    "start_time": "2024-03-24T21:43:09.878Z"
   },
   {
    "duration": 20,
    "start_time": "2024-03-24T21:43:09.902Z"
   },
   {
    "duration": 25,
    "start_time": "2024-03-24T21:43:09.923Z"
   },
   {
    "duration": 3,
    "start_time": "2024-03-24T21:43:09.950Z"
   },
   {
    "duration": 44,
    "start_time": "2024-03-24T21:43:09.954Z"
   },
   {
    "duration": 22,
    "start_time": "2024-03-24T21:43:10.000Z"
   },
   {
    "duration": 1025,
    "start_time": "2024-03-24T21:43:10.023Z"
   },
   {
    "duration": 1058,
    "start_time": "2024-03-24T21:43:11.050Z"
   },
   {
    "duration": 1010,
    "start_time": "2024-03-24T21:43:12.109Z"
   },
   {
    "duration": 600,
    "start_time": "2024-03-24T21:43:13.121Z"
   },
   {
    "duration": 665,
    "start_time": "2024-03-24T21:43:13.722Z"
   },
   {
    "duration": 572,
    "start_time": "2024-03-24T21:43:14.393Z"
   },
   {
    "duration": 6,
    "start_time": "2024-03-24T21:43:14.967Z"
   },
   {
    "duration": 934,
    "start_time": "2024-03-24T21:43:14.974Z"
   },
   {
    "duration": 88,
    "start_time": "2024-03-24T21:43:15.909Z"
   },
   {
    "duration": 129,
    "start_time": "2024-03-24T21:43:15.999Z"
   },
   {
    "duration": 17,
    "start_time": "2024-03-24T21:43:16.130Z"
   },
   {
    "duration": 53,
    "start_time": "2024-03-24T21:43:16.149Z"
   },
   {
    "duration": 58,
    "start_time": "2024-03-24T21:43:16.204Z"
   },
   {
    "duration": 42,
    "start_time": "2024-03-24T21:43:16.263Z"
   },
   {
    "duration": 27,
    "start_time": "2024-03-24T21:43:16.307Z"
   },
   {
    "duration": 2644,
    "start_time": "2024-03-24T21:43:16.335Z"
   },
   {
    "duration": 6291,
    "start_time": "2024-03-25T17:40:57.384Z"
   },
   {
    "duration": 969,
    "start_time": "2024-03-25T17:41:03.677Z"
   },
   {
    "duration": 25,
    "start_time": "2024-03-25T17:41:04.648Z"
   },
   {
    "duration": 42,
    "start_time": "2024-03-25T17:41:04.675Z"
   },
   {
    "duration": 44,
    "start_time": "2024-03-25T17:41:04.719Z"
   },
   {
    "duration": 20,
    "start_time": "2024-03-25T17:41:04.764Z"
   },
   {
    "duration": 42,
    "start_time": "2024-03-25T17:41:04.786Z"
   },
   {
    "duration": 28,
    "start_time": "2024-03-25T17:41:04.830Z"
   },
   {
    "duration": 21,
    "start_time": "2024-03-25T17:41:04.860Z"
   },
   {
    "duration": 23,
    "start_time": "2024-03-25T17:41:04.885Z"
   },
   {
    "duration": 35,
    "start_time": "2024-03-25T17:41:04.910Z"
   },
   {
    "duration": 13,
    "start_time": "2024-03-25T17:41:04.947Z"
   },
   {
    "duration": 30,
    "start_time": "2024-03-25T17:41:04.962Z"
   },
   {
    "duration": 26,
    "start_time": "2024-03-25T17:41:04.994Z"
   },
   {
    "duration": 27,
    "start_time": "2024-03-25T17:41:05.022Z"
   },
   {
    "duration": 13,
    "start_time": "2024-03-25T17:41:05.051Z"
   },
   {
    "duration": 43,
    "start_time": "2024-03-25T17:41:05.065Z"
   },
   {
    "duration": 26,
    "start_time": "2024-03-25T17:41:05.110Z"
   },
   {
    "duration": 14,
    "start_time": "2024-03-25T17:41:05.138Z"
   },
   {
    "duration": 32,
    "start_time": "2024-03-25T17:41:05.153Z"
   },
   {
    "duration": 3,
    "start_time": "2024-03-25T17:41:05.187Z"
   },
   {
    "duration": 22,
    "start_time": "2024-03-25T17:41:05.192Z"
   },
   {
    "duration": 6,
    "start_time": "2024-03-25T17:41:05.215Z"
   },
   {
    "duration": 1214,
    "start_time": "2024-03-25T17:41:05.222Z"
   },
   {
    "duration": 1118,
    "start_time": "2024-03-25T17:41:06.438Z"
   },
   {
    "duration": 1265,
    "start_time": "2024-03-25T17:41:07.558Z"
   },
   {
    "duration": 23107,
    "start_time": "2024-03-25T17:41:08.825Z"
   },
   {
    "duration": 41118,
    "start_time": "2024-03-25T17:41:31.936Z"
   },
   {
    "duration": 32048,
    "start_time": "2024-03-25T17:42:13.056Z"
   },
   {
    "duration": 8,
    "start_time": "2024-03-25T17:42:45.106Z"
   },
   {
    "duration": 1109,
    "start_time": "2024-03-25T17:42:45.116Z"
   },
   {
    "duration": 88,
    "start_time": "2024-03-25T17:42:46.227Z"
   },
   {
    "duration": 99,
    "start_time": "2024-03-25T17:42:46.318Z"
   },
   {
    "duration": 12,
    "start_time": "2024-03-25T17:42:46.419Z"
   },
   {
    "duration": 13,
    "start_time": "2024-03-25T17:42:46.433Z"
   },
   {
    "duration": 8,
    "start_time": "2024-03-25T17:42:46.447Z"
   },
   {
    "duration": 29,
    "start_time": "2024-03-25T17:42:46.456Z"
   },
   {
    "duration": 4,
    "start_time": "2024-03-25T17:42:46.487Z"
   },
   {
    "duration": 2812,
    "start_time": "2024-03-25T17:42:46.493Z"
   },
   {
    "duration": 0,
    "start_time": "2024-03-25T17:42:52.328Z"
   },
   {
    "duration": 19,
    "start_time": "2024-03-25T17:44:30.433Z"
   },
   {
    "duration": 6,
    "start_time": "2024-03-25T17:44:39.617Z"
   },
   {
    "duration": 7,
    "start_time": "2024-03-25T17:45:11.882Z"
   },
   {
    "duration": 1685,
    "start_time": "2024-03-25T17:45:22.743Z"
   }
  ],
  "kernelspec": {
   "display_name": "Python 3 (ipykernel)",
   "language": "python",
   "name": "python3"
  },
  "language_info": {
   "codemirror_mode": {
    "name": "ipython",
    "version": 3
   },
   "file_extension": ".py",
   "mimetype": "text/x-python",
   "name": "python",
   "nbconvert_exporter": "python",
   "pygments_lexer": "ipython3",
   "version": "3.9.5"
  },
  "toc": {
   "base_numbering": 1,
   "nav_menu": {},
   "number_sections": true,
   "sideBar": true,
   "skip_h1_title": true,
   "title_cell": "Table of Contents",
   "title_sidebar": "Contents",
   "toc_cell": false,
   "toc_position": {},
   "toc_section_display": true,
   "toc_window_display": false
  }
 },
 "nbformat": 4,
 "nbformat_minor": 5
}
