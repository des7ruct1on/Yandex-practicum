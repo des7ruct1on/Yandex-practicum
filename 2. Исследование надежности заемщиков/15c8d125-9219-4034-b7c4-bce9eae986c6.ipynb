{
 "cells": [
  {
   "cell_type": "markdown",
   "id": "ed9ed6bd",
   "metadata": {},
   "source": [
    "<font face='Liberation serif' size=3>\n",
    "    \n",
    "**Привет!** 👋\n",
    "\n",
    "Меня зовут Артем. Я буду проверять твой проект. В рамках корпоративной этики мы общаемся на «ты». Но если лучше на «Вы», то нужно обозначить это сразу.\n",
    " \n",
    "В тетрадке есть комментарии к проекту, они будут в отдельных ячейках Markdown.\n",
    " \n",
    "<div class=\"alert alert-danger\">\n",
    "\n",
    "**Артём:** ❌ Такой комментарий **нужно исправить** обязательно, он критически влияет на удачное выполнение проекта.\n",
    "\n",
    "</div>\n",
    "\n",
    "<div class=\"alert alert-info\">\n",
    "\n",
    "**Артём:** 💡 Этот комментарий подскажет о небольших ошибках или подсказки как сделать **твой проект ещё лучше**.\n",
    "</div>\n",
    "\n",
    "<div class=\"alert alert-success\">\n",
    "\n",
    "**Артём:** 👍 А это **самый главный комментарий**, значит все сделано хорошо. 😉\n",
    "\n",
    "</div>\n",
    "\n",
    "---\n",
    "\n",
    "**Распространенные ошибки**\n",
    "\n",
    "<div class=\"alert alert-danger\">\n",
    "\n",
    "**Артём:** ❌ Не перемещай и не удаляй мои комментарии. Лучше, чтобы твои ответы на мои комментарии шли по очереди, как сообщения в мессенджере. Это ускорит проверку.\n",
    "    \n",
    "</div>\n",
    "\n",
    "<div class=\"alert alert-danger\">\n",
    "\n",
    "**Артём:** ❌ Проверь проект на работоспособность перед отправкой на проверку. Это важный навык, который тебе пригодится как на собеседовании, при выполнении тестового задания, так и перед совещанием у руководства компании. Помни, ревьеры не вносят изменения в код, даже если это путь к датасету или ячейка в неверном формате (code/mardown).  \n",
    "    \n",
    "</div>\n",
    "\n",
    "<div class=\"alert alert-info\">\n",
    "\n",
    "**Артём:** 💡 Кстати, смотри как можно сделать, чтобы датасет грузился и локально, и в JupyterHub:\n",
    "\n",
    "```py\n",
    "try:\n",
    "    df = pd.read_csv('C:/Users/Student/Desktop/dataset.csv')\n",
    "except:\n",
    "    df = pd.read_csv('/datasets/dataset.csv')\n",
    "```\n",
    "    \n",
    "Используя эту конструкцию в будущих проектах, ты будешь спокойно отправлять проект на проверку зная, что он будет работать.\n",
    "    \n",
    "</div>\n",
    "\n",
    "<div class=\"alert alert-danger\">\n",
    "\n",
    "**Артём:** ❌ Проект должен быть структурирован. Где названия разделов и подразделов будут записаны в ячейках [Markdown](https://paulradzkov.com/2014/markdown_cheatsheet/?).\n",
    "    \n",
    "</div>\n",
    "\n",
    "<div class=\"alert alert-danger\">\n",
    "\n",
    "**Артём:** ❌ Если с твоим проектом будет знакомиться другой человек, например рекрутер или старший дата специалист, в нем должны быть описаны поставленные задачи, содержание датасета, промежуточные и финальные выводы. Как правило, заказчик читает только финальный вывод, поэтому важно добавить информацию о проведенном исследовании, применить форматирование текста, в общем, сделать красиво, чтобы было понятно, что проведено настоящее исследование и выводу можно верить. \n",
    "\n",
    "</div>  \n",
    "\n",
    "<div class=\"alert alert-info\">\n",
    "    \n",
    "**Артём:** 💡 Длинный код и комментарии нужно переносить на новую строку. Согласись, коллеги не оценят, если им придется тратить время на пролистывание ячеек. Согласно международному стандарту [PEP8](https://www.python.org/dev/peps/pep-0008/) длина строки не должна превышать 79 символов.\n",
    "Вот как можно перенести код на новую строку:\n",
    "\n",
    "```py\n",
    "# Переносить можно код внутри скобки\n",
    "example = (2 *\n",
    "           2)\n",
    "```\n",
    "Конечно, я не считаю сколько символов в строке, главное, чтобы код или комментарий не ушел за пределы ячейки (зависит от разрешения экрана). Если ушел, то это желтый комментарий для каждой нечитаемой ячейки.\n",
    "    \n",
    "</div>\n",
    "\n",
    "<div class=\"alert alert-info\">\n",
    "    \n",
    "**Артём:** 💡 Тимлид, старший дата специалист или ревьюер ценят твое и своё время, подсвечивай свои комментарии в ячейках Markdown. Шаблон я тебе оставил ниже. Подробнее про синтаксис Markdown, с примерами, можно почитать [здесь](https://paulradzkov.com/2014/markdown_cheatsheet/?).\n",
    "    \n",
    "</div>\n",
    "\n",
    "<div class=\"alert alert-success\">\n",
    "\n",
    "**Артём:** 👍 Буду рад, если воспользуешься моими советами. Они тебе помогут при трудоустройстве, например в [Яндексе](https://yandex.ru/jobs/pages/analytics_interview?ysclid=l84s63fs1g790141490), и при работе в команде. Если в ходе проведения исследования возникнут вопросы, не стесняйся задавай. 🙂\n",
    "</div>\n",
    "\n",
    "<div class=\"alert alert-info\">\n",
    "\n",
    "**Артём:** 🏁 [Итоги ревью здесь](#results)\n",
    "</div>\n",
    "\n",
    "\n",
    "**Поехали!** 🚀 👨‍🚀\n",
    "<a id=\"start\"></a>"
   ]
  },
  {
   "cell_type": "markdown",
   "id": "634cff3e",
   "metadata": {},
   "source": [
    "<div style=\"background-color:lavender; color:#black; text-align:center; padding:2%\">\n",
    "    \n",
    "**Имя:** ✔️ Это шаблон для тебя. Такой комментарий можно быстро найти."
   ]
  },
  {
   "cell_type": "markdown",
   "id": "4f11de00",
   "metadata": {
    "deletable": false,
    "editable": false,
    "id": "4f11de00"
   },
   "source": [
    "# Исследование надежности заемщиков"
   ]
  },
  {
   "cell_type": "markdown",
   "id": "f09d6878",
   "metadata": {
    "deletable": false,
    "editable": false,
    "id": "f09d6878"
   },
   "source": [
    "Это первая часть проекта, она будет проверена автоматически. Вторую часть проверит ревьюер. "
   ]
  },
  {
   "cell_type": "markdown",
   "id": "516620ee",
   "metadata": {
    "deletable": false,
    "editable": false,
    "id": "516620ee"
   },
   "source": [
    "## Откройте таблицу и изучите общую информацию о данных"
   ]
  },
  {
   "cell_type": "markdown",
   "id": "76a8a9ce",
   "metadata": {
    "deletable": false,
    "editable": false,
    "id": "76a8a9ce",
    "tags": [
     "start_task"
    ]
   },
   "source": [
    "**Задание 1. Импортируйте библиотеку pandas. Считайте данные из csv-файла в датафрейм и сохраните в переменную `data`. Путь к файлу:**\n",
    "\n",
    "`/datasets/data.csv`"
   ]
  },
  {
   "cell_type": "code",
   "execution_count": 1,
   "id": "fab207d0",
   "metadata": {
    "id": "fab207d0"
   },
   "outputs": [],
   "source": [
    "import pandas as pd\n",
    "import seaborn \n",
    "import matplotlib.pyplot as plt"
   ]
  },
  {
   "cell_type": "code",
   "execution_count": 2,
   "id": "6c82b607",
   "metadata": {
    "id": "6c82b607"
   },
   "outputs": [],
   "source": [
    "try:\n",
    "    data = pd.read_csv(\"data.csv\")\n",
    "except:\n",
    "    data = pd.read_csv(\"/datasets/data.csv\")"
   ]
  },
  {
   "cell_type": "markdown",
   "id": "08bbb5b3",
   "metadata": {
    "deletable": false,
    "editable": false,
    "id": "08bbb5b3",
    "tags": [
     "start_task"
    ]
   },
   "source": [
    "**Задание 2. Выведите первые 20 строчек датафрейма `data` на экран.**"
   ]
  },
  {
   "cell_type": "code",
   "execution_count": 3,
   "id": "4ff33b36",
   "metadata": {
    "id": "4ff33b36"
   },
   "outputs": [
    {
     "data": {
      "text/html": [
       "<div>\n",
       "<style scoped>\n",
       "    .dataframe tbody tr th:only-of-type {\n",
       "        vertical-align: middle;\n",
       "    }\n",
       "\n",
       "    .dataframe tbody tr th {\n",
       "        vertical-align: top;\n",
       "    }\n",
       "\n",
       "    .dataframe thead th {\n",
       "        text-align: right;\n",
       "    }\n",
       "</style>\n",
       "<table border=\"1\" class=\"dataframe\">\n",
       "  <thead>\n",
       "    <tr style=\"text-align: right;\">\n",
       "      <th></th>\n",
       "      <th>children</th>\n",
       "      <th>days_employed</th>\n",
       "      <th>dob_years</th>\n",
       "      <th>education</th>\n",
       "      <th>education_id</th>\n",
       "      <th>family_status</th>\n",
       "      <th>family_status_id</th>\n",
       "      <th>gender</th>\n",
       "      <th>income_type</th>\n",
       "      <th>debt</th>\n",
       "      <th>total_income</th>\n",
       "      <th>purpose</th>\n",
       "    </tr>\n",
       "  </thead>\n",
       "  <tbody>\n",
       "    <tr>\n",
       "      <th>0</th>\n",
       "      <td>1</td>\n",
       "      <td>-8437.673028</td>\n",
       "      <td>42</td>\n",
       "      <td>высшее</td>\n",
       "      <td>0</td>\n",
       "      <td>женат / замужем</td>\n",
       "      <td>0</td>\n",
       "      <td>F</td>\n",
       "      <td>сотрудник</td>\n",
       "      <td>0</td>\n",
       "      <td>253875.639453</td>\n",
       "      <td>покупка жилья</td>\n",
       "    </tr>\n",
       "    <tr>\n",
       "      <th>1</th>\n",
       "      <td>1</td>\n",
       "      <td>-4024.803754</td>\n",
       "      <td>36</td>\n",
       "      <td>среднее</td>\n",
       "      <td>1</td>\n",
       "      <td>женат / замужем</td>\n",
       "      <td>0</td>\n",
       "      <td>F</td>\n",
       "      <td>сотрудник</td>\n",
       "      <td>0</td>\n",
       "      <td>112080.014102</td>\n",
       "      <td>приобретение автомобиля</td>\n",
       "    </tr>\n",
       "    <tr>\n",
       "      <th>2</th>\n",
       "      <td>0</td>\n",
       "      <td>-5623.422610</td>\n",
       "      <td>33</td>\n",
       "      <td>Среднее</td>\n",
       "      <td>1</td>\n",
       "      <td>женат / замужем</td>\n",
       "      <td>0</td>\n",
       "      <td>M</td>\n",
       "      <td>сотрудник</td>\n",
       "      <td>0</td>\n",
       "      <td>145885.952297</td>\n",
       "      <td>покупка жилья</td>\n",
       "    </tr>\n",
       "    <tr>\n",
       "      <th>3</th>\n",
       "      <td>3</td>\n",
       "      <td>-4124.747207</td>\n",
       "      <td>32</td>\n",
       "      <td>среднее</td>\n",
       "      <td>1</td>\n",
       "      <td>женат / замужем</td>\n",
       "      <td>0</td>\n",
       "      <td>M</td>\n",
       "      <td>сотрудник</td>\n",
       "      <td>0</td>\n",
       "      <td>267628.550329</td>\n",
       "      <td>дополнительное образование</td>\n",
       "    </tr>\n",
       "    <tr>\n",
       "      <th>4</th>\n",
       "      <td>0</td>\n",
       "      <td>340266.072047</td>\n",
       "      <td>53</td>\n",
       "      <td>среднее</td>\n",
       "      <td>1</td>\n",
       "      <td>гражданский брак</td>\n",
       "      <td>1</td>\n",
       "      <td>F</td>\n",
       "      <td>пенсионер</td>\n",
       "      <td>0</td>\n",
       "      <td>158616.077870</td>\n",
       "      <td>сыграть свадьбу</td>\n",
       "    </tr>\n",
       "    <tr>\n",
       "      <th>5</th>\n",
       "      <td>0</td>\n",
       "      <td>-926.185831</td>\n",
       "      <td>27</td>\n",
       "      <td>высшее</td>\n",
       "      <td>0</td>\n",
       "      <td>гражданский брак</td>\n",
       "      <td>1</td>\n",
       "      <td>M</td>\n",
       "      <td>компаньон</td>\n",
       "      <td>0</td>\n",
       "      <td>255763.565419</td>\n",
       "      <td>покупка жилья</td>\n",
       "    </tr>\n",
       "    <tr>\n",
       "      <th>6</th>\n",
       "      <td>0</td>\n",
       "      <td>-2879.202052</td>\n",
       "      <td>43</td>\n",
       "      <td>высшее</td>\n",
       "      <td>0</td>\n",
       "      <td>женат / замужем</td>\n",
       "      <td>0</td>\n",
       "      <td>F</td>\n",
       "      <td>компаньон</td>\n",
       "      <td>0</td>\n",
       "      <td>240525.971920</td>\n",
       "      <td>операции с жильем</td>\n",
       "    </tr>\n",
       "    <tr>\n",
       "      <th>7</th>\n",
       "      <td>0</td>\n",
       "      <td>-152.779569</td>\n",
       "      <td>50</td>\n",
       "      <td>СРЕДНЕЕ</td>\n",
       "      <td>1</td>\n",
       "      <td>женат / замужем</td>\n",
       "      <td>0</td>\n",
       "      <td>M</td>\n",
       "      <td>сотрудник</td>\n",
       "      <td>0</td>\n",
       "      <td>135823.934197</td>\n",
       "      <td>образование</td>\n",
       "    </tr>\n",
       "    <tr>\n",
       "      <th>8</th>\n",
       "      <td>2</td>\n",
       "      <td>-6929.865299</td>\n",
       "      <td>35</td>\n",
       "      <td>ВЫСШЕЕ</td>\n",
       "      <td>0</td>\n",
       "      <td>гражданский брак</td>\n",
       "      <td>1</td>\n",
       "      <td>F</td>\n",
       "      <td>сотрудник</td>\n",
       "      <td>0</td>\n",
       "      <td>95856.832424</td>\n",
       "      <td>на проведение свадьбы</td>\n",
       "    </tr>\n",
       "    <tr>\n",
       "      <th>9</th>\n",
       "      <td>0</td>\n",
       "      <td>-2188.756445</td>\n",
       "      <td>41</td>\n",
       "      <td>среднее</td>\n",
       "      <td>1</td>\n",
       "      <td>женат / замужем</td>\n",
       "      <td>0</td>\n",
       "      <td>M</td>\n",
       "      <td>сотрудник</td>\n",
       "      <td>0</td>\n",
       "      <td>144425.938277</td>\n",
       "      <td>покупка жилья для семьи</td>\n",
       "    </tr>\n",
       "    <tr>\n",
       "      <th>10</th>\n",
       "      <td>2</td>\n",
       "      <td>-4171.483647</td>\n",
       "      <td>36</td>\n",
       "      <td>высшее</td>\n",
       "      <td>0</td>\n",
       "      <td>женат / замужем</td>\n",
       "      <td>0</td>\n",
       "      <td>M</td>\n",
       "      <td>компаньон</td>\n",
       "      <td>0</td>\n",
       "      <td>113943.491460</td>\n",
       "      <td>покупка недвижимости</td>\n",
       "    </tr>\n",
       "    <tr>\n",
       "      <th>11</th>\n",
       "      <td>0</td>\n",
       "      <td>-792.701887</td>\n",
       "      <td>40</td>\n",
       "      <td>среднее</td>\n",
       "      <td>1</td>\n",
       "      <td>женат / замужем</td>\n",
       "      <td>0</td>\n",
       "      <td>F</td>\n",
       "      <td>сотрудник</td>\n",
       "      <td>0</td>\n",
       "      <td>77069.234271</td>\n",
       "      <td>покупка коммерческой недвижимости</td>\n",
       "    </tr>\n",
       "    <tr>\n",
       "      <th>12</th>\n",
       "      <td>0</td>\n",
       "      <td>NaN</td>\n",
       "      <td>65</td>\n",
       "      <td>среднее</td>\n",
       "      <td>1</td>\n",
       "      <td>гражданский брак</td>\n",
       "      <td>1</td>\n",
       "      <td>M</td>\n",
       "      <td>пенсионер</td>\n",
       "      <td>0</td>\n",
       "      <td>NaN</td>\n",
       "      <td>сыграть свадьбу</td>\n",
       "    </tr>\n",
       "    <tr>\n",
       "      <th>13</th>\n",
       "      <td>0</td>\n",
       "      <td>-1846.641941</td>\n",
       "      <td>54</td>\n",
       "      <td>неоконченное высшее</td>\n",
       "      <td>2</td>\n",
       "      <td>женат / замужем</td>\n",
       "      <td>0</td>\n",
       "      <td>F</td>\n",
       "      <td>сотрудник</td>\n",
       "      <td>0</td>\n",
       "      <td>130458.228857</td>\n",
       "      <td>приобретение автомобиля</td>\n",
       "    </tr>\n",
       "    <tr>\n",
       "      <th>14</th>\n",
       "      <td>0</td>\n",
       "      <td>-1844.956182</td>\n",
       "      <td>56</td>\n",
       "      <td>высшее</td>\n",
       "      <td>0</td>\n",
       "      <td>гражданский брак</td>\n",
       "      <td>1</td>\n",
       "      <td>F</td>\n",
       "      <td>компаньон</td>\n",
       "      <td>1</td>\n",
       "      <td>165127.911772</td>\n",
       "      <td>покупка жилой недвижимости</td>\n",
       "    </tr>\n",
       "    <tr>\n",
       "      <th>15</th>\n",
       "      <td>1</td>\n",
       "      <td>-972.364419</td>\n",
       "      <td>26</td>\n",
       "      <td>среднее</td>\n",
       "      <td>1</td>\n",
       "      <td>женат / замужем</td>\n",
       "      <td>0</td>\n",
       "      <td>F</td>\n",
       "      <td>сотрудник</td>\n",
       "      <td>0</td>\n",
       "      <td>116820.904450</td>\n",
       "      <td>строительство собственной недвижимости</td>\n",
       "    </tr>\n",
       "    <tr>\n",
       "      <th>16</th>\n",
       "      <td>0</td>\n",
       "      <td>-1719.934226</td>\n",
       "      <td>35</td>\n",
       "      <td>среднее</td>\n",
       "      <td>1</td>\n",
       "      <td>женат / замужем</td>\n",
       "      <td>0</td>\n",
       "      <td>F</td>\n",
       "      <td>сотрудник</td>\n",
       "      <td>0</td>\n",
       "      <td>289202.704229</td>\n",
       "      <td>недвижимость</td>\n",
       "    </tr>\n",
       "    <tr>\n",
       "      <th>17</th>\n",
       "      <td>0</td>\n",
       "      <td>-2369.999720</td>\n",
       "      <td>33</td>\n",
       "      <td>высшее</td>\n",
       "      <td>0</td>\n",
       "      <td>гражданский брак</td>\n",
       "      <td>1</td>\n",
       "      <td>M</td>\n",
       "      <td>сотрудник</td>\n",
       "      <td>0</td>\n",
       "      <td>90410.586745</td>\n",
       "      <td>строительство недвижимости</td>\n",
       "    </tr>\n",
       "    <tr>\n",
       "      <th>18</th>\n",
       "      <td>0</td>\n",
       "      <td>400281.136913</td>\n",
       "      <td>53</td>\n",
       "      <td>среднее</td>\n",
       "      <td>1</td>\n",
       "      <td>вдовец / вдова</td>\n",
       "      <td>2</td>\n",
       "      <td>F</td>\n",
       "      <td>пенсионер</td>\n",
       "      <td>0</td>\n",
       "      <td>56823.777243</td>\n",
       "      <td>на покупку подержанного автомобиля</td>\n",
       "    </tr>\n",
       "    <tr>\n",
       "      <th>19</th>\n",
       "      <td>0</td>\n",
       "      <td>-10038.818549</td>\n",
       "      <td>48</td>\n",
       "      <td>СРЕДНЕЕ</td>\n",
       "      <td>1</td>\n",
       "      <td>в разводе</td>\n",
       "      <td>3</td>\n",
       "      <td>F</td>\n",
       "      <td>сотрудник</td>\n",
       "      <td>0</td>\n",
       "      <td>242831.107982</td>\n",
       "      <td>на покупку своего автомобиля</td>\n",
       "    </tr>\n",
       "  </tbody>\n",
       "</table>\n",
       "</div>"
      ],
      "text/plain": [
       "    children  days_employed  dob_years            education  education_id  \\\n",
       "0          1   -8437.673028         42               высшее             0   \n",
       "1          1   -4024.803754         36              среднее             1   \n",
       "2          0   -5623.422610         33              Среднее             1   \n",
       "3          3   -4124.747207         32              среднее             1   \n",
       "4          0  340266.072047         53              среднее             1   \n",
       "5          0    -926.185831         27               высшее             0   \n",
       "6          0   -2879.202052         43               высшее             0   \n",
       "7          0    -152.779569         50              СРЕДНЕЕ             1   \n",
       "8          2   -6929.865299         35               ВЫСШЕЕ             0   \n",
       "9          0   -2188.756445         41              среднее             1   \n",
       "10         2   -4171.483647         36               высшее             0   \n",
       "11         0    -792.701887         40              среднее             1   \n",
       "12         0            NaN         65              среднее             1   \n",
       "13         0   -1846.641941         54  неоконченное высшее             2   \n",
       "14         0   -1844.956182         56               высшее             0   \n",
       "15         1    -972.364419         26              среднее             1   \n",
       "16         0   -1719.934226         35              среднее             1   \n",
       "17         0   -2369.999720         33               высшее             0   \n",
       "18         0  400281.136913         53              среднее             1   \n",
       "19         0  -10038.818549         48              СРЕДНЕЕ             1   \n",
       "\n",
       "       family_status  family_status_id gender income_type  debt  \\\n",
       "0    женат / замужем                 0      F   сотрудник     0   \n",
       "1    женат / замужем                 0      F   сотрудник     0   \n",
       "2    женат / замужем                 0      M   сотрудник     0   \n",
       "3    женат / замужем                 0      M   сотрудник     0   \n",
       "4   гражданский брак                 1      F   пенсионер     0   \n",
       "5   гражданский брак                 1      M   компаньон     0   \n",
       "6    женат / замужем                 0      F   компаньон     0   \n",
       "7    женат / замужем                 0      M   сотрудник     0   \n",
       "8   гражданский брак                 1      F   сотрудник     0   \n",
       "9    женат / замужем                 0      M   сотрудник     0   \n",
       "10   женат / замужем                 0      M   компаньон     0   \n",
       "11   женат / замужем                 0      F   сотрудник     0   \n",
       "12  гражданский брак                 1      M   пенсионер     0   \n",
       "13   женат / замужем                 0      F   сотрудник     0   \n",
       "14  гражданский брак                 1      F   компаньон     1   \n",
       "15   женат / замужем                 0      F   сотрудник     0   \n",
       "16   женат / замужем                 0      F   сотрудник     0   \n",
       "17  гражданский брак                 1      M   сотрудник     0   \n",
       "18    вдовец / вдова                 2      F   пенсионер     0   \n",
       "19         в разводе                 3      F   сотрудник     0   \n",
       "\n",
       "     total_income                                 purpose  \n",
       "0   253875.639453                           покупка жилья  \n",
       "1   112080.014102                 приобретение автомобиля  \n",
       "2   145885.952297                           покупка жилья  \n",
       "3   267628.550329              дополнительное образование  \n",
       "4   158616.077870                         сыграть свадьбу  \n",
       "5   255763.565419                           покупка жилья  \n",
       "6   240525.971920                       операции с жильем  \n",
       "7   135823.934197                             образование  \n",
       "8    95856.832424                   на проведение свадьбы  \n",
       "9   144425.938277                 покупка жилья для семьи  \n",
       "10  113943.491460                    покупка недвижимости  \n",
       "11   77069.234271       покупка коммерческой недвижимости  \n",
       "12            NaN                         сыграть свадьбу  \n",
       "13  130458.228857                 приобретение автомобиля  \n",
       "14  165127.911772              покупка жилой недвижимости  \n",
       "15  116820.904450  строительство собственной недвижимости  \n",
       "16  289202.704229                            недвижимость  \n",
       "17   90410.586745              строительство недвижимости  \n",
       "18   56823.777243      на покупку подержанного автомобиля  \n",
       "19  242831.107982            на покупку своего автомобиля  "
      ]
     },
     "execution_count": 3,
     "metadata": {},
     "output_type": "execute_result"
    }
   ],
   "source": [
    "data.head(20)"
   ]
  },
  {
   "cell_type": "markdown",
   "id": "c8f382ae",
   "metadata": {
    "deletable": false,
    "editable": false,
    "id": "c8f382ae",
    "tags": [
     "start_task"
    ]
   },
   "source": [
    "**Задание 3. Выведите основную информацию о датафрейме с помощью метода `info()`.**"
   ]
  },
  {
   "cell_type": "code",
   "execution_count": 4,
   "id": "e1ed9908",
   "metadata": {
    "id": "e1ed9908"
   },
   "outputs": [
    {
     "name": "stdout",
     "output_type": "stream",
     "text": [
      "<class 'pandas.core.frame.DataFrame'>\n",
      "RangeIndex: 21525 entries, 0 to 21524\n",
      "Data columns (total 12 columns):\n",
      " #   Column            Non-Null Count  Dtype  \n",
      "---  ------            --------------  -----  \n",
      " 0   children          21525 non-null  int64  \n",
      " 1   days_employed     19351 non-null  float64\n",
      " 2   dob_years         21525 non-null  int64  \n",
      " 3   education         21525 non-null  object \n",
      " 4   education_id      21525 non-null  int64  \n",
      " 5   family_status     21525 non-null  object \n",
      " 6   family_status_id  21525 non-null  int64  \n",
      " 7   gender            21525 non-null  object \n",
      " 8   income_type       21525 non-null  object \n",
      " 9   debt              21525 non-null  int64  \n",
      " 10  total_income      19351 non-null  float64\n",
      " 11  purpose           21525 non-null  object \n",
      "dtypes: float64(2), int64(5), object(5)\n",
      "memory usage: 2.0+ MB\n"
     ]
    }
   ],
   "source": [
    "data.info()"
   ]
  },
  {
   "cell_type": "markdown",
   "id": "f969a1cd",
   "metadata": {
    "deletable": false,
    "editable": false,
    "id": "f969a1cd"
   },
   "source": [
    "## Предобработка данных"
   ]
  },
  {
   "cell_type": "markdown",
   "id": "7283e864",
   "metadata": {
    "deletable": false,
    "editable": false,
    "id": "7283e864"
   },
   "source": [
    "### Удаление пропусков"
   ]
  },
  {
   "cell_type": "markdown",
   "id": "c9a0745e",
   "metadata": {
    "deletable": false,
    "editable": false,
    "id": "c9a0745e",
    "tags": [
     "start_task"
    ]
   },
   "source": [
    "**Задание 4. Выведите количество пропущенных значений для каждого столбца. Используйте комбинацию двух методов.**"
   ]
  },
  {
   "cell_type": "code",
   "execution_count": 5,
   "id": "b7a096e1",
   "metadata": {
    "id": "b7a096e1"
   },
   "outputs": [
    {
     "data": {
      "text/plain": [
       "children               0\n",
       "days_employed       2174\n",
       "dob_years              0\n",
       "education              0\n",
       "education_id           0\n",
       "family_status          0\n",
       "family_status_id       0\n",
       "gender                 0\n",
       "income_type            0\n",
       "debt                   0\n",
       "total_income        2174\n",
       "purpose                0\n",
       "dtype: int64"
      ]
     },
     "execution_count": 5,
     "metadata": {},
     "output_type": "execute_result"
    }
   ],
   "source": [
    "data.isna().sum()"
   ]
  },
  {
   "cell_type": "markdown",
   "id": "c2578616",
   "metadata": {
    "deletable": false,
    "editable": false,
    "id": "c2578616",
    "tags": [
     "start_task"
    ]
   },
   "source": [
    "**Задание 5. В двух столбцах есть пропущенные значения. Один из них — `days_employed`. Пропуски в этом столбце вы обработаете на следующем этапе. Другой столбец с пропущенными значениями — `total_income` — хранит данные о доходах. На сумму дохода сильнее всего влияет тип занятости, поэтому заполнить пропуски в этом столбце нужно медианным значением по каждому типу из столбца `income_type`. Например, у человека с типом занятости `сотрудник` пропуск в столбце `total_income` должен быть заполнен медианным доходом среди всех записей с тем же типом.**"
   ]
  },
  {
   "cell_type": "code",
   "execution_count": 6,
   "id": "e8afc4bc",
   "metadata": {
    "id": "e8afc4bc"
   },
   "outputs": [
    {
     "name": "stdout",
     "output_type": "stream",
     "text": [
      "       children  days_employed  dob_years education  education_id  \\\n",
      "0             1   -8437.673028         42    высшее             0   \n",
      "1             1   -4024.803754         36   среднее             1   \n",
      "2             0   -5623.422610         33   Среднее             1   \n",
      "3             3   -4124.747207         32   среднее             1   \n",
      "4             0  340266.072047         53   среднее             1   \n",
      "...         ...            ...        ...       ...           ...   \n",
      "21520         1   -4529.316663         43   среднее             1   \n",
      "21521         0  343937.404131         67   среднее             1   \n",
      "21522         1   -2113.346888         38   среднее             1   \n",
      "21523         3   -3112.481705         38   среднее             1   \n",
      "21524         2   -1984.507589         40   среднее             1   \n",
      "\n",
      "          family_status  family_status_id gender income_type  debt  \\\n",
      "0       женат / замужем                 0      F   сотрудник     0   \n",
      "1       женат / замужем                 0      F   сотрудник     0   \n",
      "2       женат / замужем                 0      M   сотрудник     0   \n",
      "3       женат / замужем                 0      M   сотрудник     0   \n",
      "4      гражданский брак                 1      F   пенсионер     0   \n",
      "...                 ...               ...    ...         ...   ...   \n",
      "21520  гражданский брак                 1      F   компаньон     0   \n",
      "21521   женат / замужем                 0      F   пенсионер     0   \n",
      "21522  гражданский брак                 1      M   сотрудник     1   \n",
      "21523   женат / замужем                 0      M   сотрудник     1   \n",
      "21524   женат / замужем                 0      F   сотрудник     0   \n",
      "\n",
      "        total_income                       purpose  \n",
      "0      253875.639453                 покупка жилья  \n",
      "1      112080.014102       приобретение автомобиля  \n",
      "2      145885.952297                 покупка жилья  \n",
      "3      267628.550329    дополнительное образование  \n",
      "4      158616.077870               сыграть свадьбу  \n",
      "...              ...                           ...  \n",
      "21520  224791.862382             операции с жильем  \n",
      "21521  155999.806512          сделка с автомобилем  \n",
      "21522   89672.561153                  недвижимость  \n",
      "21523  244093.050500  на покупку своего автомобиля  \n",
      "21524   82047.418899         на покупку автомобиля  \n",
      "\n",
      "[21525 rows x 12 columns]\n"
     ]
    }
   ],
   "source": [
    "def fill_total_income_null_values(data):\n",
    "    list_median_values = data.groupby('income_type')['total_income'].median()\n",
    "    list_is_null_rows = list(data['total_income'].isna())\n",
    "    for i in range(data.shape[0]):\n",
    "        spec = data.loc[i, 'income_type']\n",
    "        need_median_value = list_median_values.loc[spec]\n",
    "        if (list_is_null_rows[i]):\n",
    "            data.loc[i, 'total_income'] = need_median_value\n",
    "        \n",
    "        \n",
    "fill_total_income_null_values(data)\n",
    "print(data)"
   ]
  },
  {
   "cell_type": "markdown",
   "id": "ae986d46",
   "metadata": {
    "deletable": false,
    "editable": false,
    "id": "ae986d46"
   },
   "source": [
    "### Обработка аномальных значений"
   ]
  },
  {
   "cell_type": "markdown",
   "id": "b049cbae",
   "metadata": {
    "deletable": false,
    "editable": false,
    "id": "b049cbae",
    "tags": [
     "start_task"
    ]
   },
   "source": [
    "**Задание 6. В данных могут встречаться артефакты (аномалии) — значения, которые не отражают действительность и появились по какой-то ошибке. Таким артефактом будет отрицательное количество дней трудового стажа в столбце `days_employed`. Для реальных данных это нормально. Обработайте значения в этом столбце: замените все отрицательные значения положительными с помощью метода `abs()`.**"
   ]
  },
  {
   "cell_type": "code",
   "execution_count": 7,
   "id": "187779b0",
   "metadata": {
    "id": "187779b0"
   },
   "outputs": [],
   "source": [
    "data['days_employed'] = data['days_employed'].abs()"
   ]
  },
  {
   "cell_type": "markdown",
   "id": "a13054c2",
   "metadata": {
    "deletable": false,
    "editable": false,
    "id": "a13054c2",
    "tags": [
     "start_task"
    ]
   },
   "source": [
    "**Задание 7. Для каждого типа занятости выведите медианное значение трудового стажа `days_employed` в днях.**"
   ]
  },
  {
   "cell_type": "code",
   "execution_count": 8,
   "id": "f3f5810c",
   "metadata": {
    "id": "f3f5810c"
   },
   "outputs": [
    {
     "data": {
      "text/plain": [
       "income_type\n",
       "безработный        366413.652744\n",
       "в декрете            3296.759962\n",
       "госслужащий          2689.368353\n",
       "компаньон            1547.382223\n",
       "пенсионер          365213.306266\n",
       "предприниматель       520.848083\n",
       "сотрудник            1574.202821\n",
       "студент               578.751554\n",
       "Name: days_employed, dtype: float64"
      ]
     },
     "execution_count": 8,
     "metadata": {},
     "output_type": "execute_result"
    }
   ],
   "source": [
    "list_typed_employ = data['income_type'].unique()\n",
    "median_types = data.groupby('income_type')['days_employed'].median()\n",
    "median_types"
   ]
  },
  {
   "cell_type": "markdown",
   "id": "dbc3168c",
   "metadata": {
    "deletable": false,
    "editable": false,
    "id": "dbc3168c"
   },
   "source": [
    "У двух типов (безработные и пенсионеры) получатся аномально большие значения. Исправить такие значения сложно, поэтому оставьте их как есть."
   ]
  },
  {
   "cell_type": "markdown",
   "id": "ff4378c2",
   "metadata": {
    "deletable": false,
    "editable": false,
    "id": "ff4378c2",
    "tags": [
     "start_task"
    ]
   },
   "source": [
    "**Задание 8. Выведите перечень уникальных значений столбца `children`.**"
   ]
  },
  {
   "cell_type": "code",
   "execution_count": 9,
   "id": "9bd0c232",
   "metadata": {
    "id": "9bd0c232"
   },
   "outputs": [
    {
     "name": "stdout",
     "output_type": "stream",
     "text": [
      "[ 1  0  3  2 -1  4 20  5]\n"
     ]
    }
   ],
   "source": [
    "print(data['children'].unique())"
   ]
  },
  {
   "cell_type": "markdown",
   "id": "8e911990",
   "metadata": {
    "deletable": false,
    "editable": false,
    "id": "8e911990",
    "tags": [
     "start_task"
    ]
   },
   "source": [
    "**Задание 9. В столбце `children` есть два аномальных значения. Удалите строки, в которых встречаются такие аномальные значения из датафрейма `data`.**"
   ]
  },
  {
   "cell_type": "code",
   "execution_count": 10,
   "id": "6d5ba289",
   "metadata": {
    "id": "6d5ba289"
   },
   "outputs": [
    {
     "data": {
      "text/html": [
       "<div>\n",
       "<style scoped>\n",
       "    .dataframe tbody tr th:only-of-type {\n",
       "        vertical-align: middle;\n",
       "    }\n",
       "\n",
       "    .dataframe tbody tr th {\n",
       "        vertical-align: top;\n",
       "    }\n",
       "\n",
       "    .dataframe thead th {\n",
       "        text-align: right;\n",
       "    }\n",
       "</style>\n",
       "<table border=\"1\" class=\"dataframe\">\n",
       "  <thead>\n",
       "    <tr style=\"text-align: right;\">\n",
       "      <th></th>\n",
       "      <th>children</th>\n",
       "      <th>days_employed</th>\n",
       "      <th>dob_years</th>\n",
       "      <th>education</th>\n",
       "      <th>education_id</th>\n",
       "      <th>family_status</th>\n",
       "      <th>family_status_id</th>\n",
       "      <th>gender</th>\n",
       "      <th>income_type</th>\n",
       "      <th>debt</th>\n",
       "      <th>total_income</th>\n",
       "      <th>purpose</th>\n",
       "    </tr>\n",
       "  </thead>\n",
       "  <tbody>\n",
       "    <tr>\n",
       "      <th>0</th>\n",
       "      <td>1</td>\n",
       "      <td>8437.673028</td>\n",
       "      <td>42</td>\n",
       "      <td>высшее</td>\n",
       "      <td>0</td>\n",
       "      <td>женат / замужем</td>\n",
       "      <td>0</td>\n",
       "      <td>F</td>\n",
       "      <td>сотрудник</td>\n",
       "      <td>0</td>\n",
       "      <td>253875.639453</td>\n",
       "      <td>покупка жилья</td>\n",
       "    </tr>\n",
       "    <tr>\n",
       "      <th>1</th>\n",
       "      <td>1</td>\n",
       "      <td>4024.803754</td>\n",
       "      <td>36</td>\n",
       "      <td>среднее</td>\n",
       "      <td>1</td>\n",
       "      <td>женат / замужем</td>\n",
       "      <td>0</td>\n",
       "      <td>F</td>\n",
       "      <td>сотрудник</td>\n",
       "      <td>0</td>\n",
       "      <td>112080.014102</td>\n",
       "      <td>приобретение автомобиля</td>\n",
       "    </tr>\n",
       "    <tr>\n",
       "      <th>2</th>\n",
       "      <td>0</td>\n",
       "      <td>5623.422610</td>\n",
       "      <td>33</td>\n",
       "      <td>Среднее</td>\n",
       "      <td>1</td>\n",
       "      <td>женат / замужем</td>\n",
       "      <td>0</td>\n",
       "      <td>M</td>\n",
       "      <td>сотрудник</td>\n",
       "      <td>0</td>\n",
       "      <td>145885.952297</td>\n",
       "      <td>покупка жилья</td>\n",
       "    </tr>\n",
       "    <tr>\n",
       "      <th>3</th>\n",
       "      <td>3</td>\n",
       "      <td>4124.747207</td>\n",
       "      <td>32</td>\n",
       "      <td>среднее</td>\n",
       "      <td>1</td>\n",
       "      <td>женат / замужем</td>\n",
       "      <td>0</td>\n",
       "      <td>M</td>\n",
       "      <td>сотрудник</td>\n",
       "      <td>0</td>\n",
       "      <td>267628.550329</td>\n",
       "      <td>дополнительное образование</td>\n",
       "    </tr>\n",
       "    <tr>\n",
       "      <th>4</th>\n",
       "      <td>0</td>\n",
       "      <td>340266.072047</td>\n",
       "      <td>53</td>\n",
       "      <td>среднее</td>\n",
       "      <td>1</td>\n",
       "      <td>гражданский брак</td>\n",
       "      <td>1</td>\n",
       "      <td>F</td>\n",
       "      <td>пенсионер</td>\n",
       "      <td>0</td>\n",
       "      <td>158616.077870</td>\n",
       "      <td>сыграть свадьбу</td>\n",
       "    </tr>\n",
       "    <tr>\n",
       "      <th>...</th>\n",
       "      <td>...</td>\n",
       "      <td>...</td>\n",
       "      <td>...</td>\n",
       "      <td>...</td>\n",
       "      <td>...</td>\n",
       "      <td>...</td>\n",
       "      <td>...</td>\n",
       "      <td>...</td>\n",
       "      <td>...</td>\n",
       "      <td>...</td>\n",
       "      <td>...</td>\n",
       "      <td>...</td>\n",
       "    </tr>\n",
       "    <tr>\n",
       "      <th>21520</th>\n",
       "      <td>1</td>\n",
       "      <td>4529.316663</td>\n",
       "      <td>43</td>\n",
       "      <td>среднее</td>\n",
       "      <td>1</td>\n",
       "      <td>гражданский брак</td>\n",
       "      <td>1</td>\n",
       "      <td>F</td>\n",
       "      <td>компаньон</td>\n",
       "      <td>0</td>\n",
       "      <td>224791.862382</td>\n",
       "      <td>операции с жильем</td>\n",
       "    </tr>\n",
       "    <tr>\n",
       "      <th>21521</th>\n",
       "      <td>0</td>\n",
       "      <td>343937.404131</td>\n",
       "      <td>67</td>\n",
       "      <td>среднее</td>\n",
       "      <td>1</td>\n",
       "      <td>женат / замужем</td>\n",
       "      <td>0</td>\n",
       "      <td>F</td>\n",
       "      <td>пенсионер</td>\n",
       "      <td>0</td>\n",
       "      <td>155999.806512</td>\n",
       "      <td>сделка с автомобилем</td>\n",
       "    </tr>\n",
       "    <tr>\n",
       "      <th>21522</th>\n",
       "      <td>1</td>\n",
       "      <td>2113.346888</td>\n",
       "      <td>38</td>\n",
       "      <td>среднее</td>\n",
       "      <td>1</td>\n",
       "      <td>гражданский брак</td>\n",
       "      <td>1</td>\n",
       "      <td>M</td>\n",
       "      <td>сотрудник</td>\n",
       "      <td>1</td>\n",
       "      <td>89672.561153</td>\n",
       "      <td>недвижимость</td>\n",
       "    </tr>\n",
       "    <tr>\n",
       "      <th>21523</th>\n",
       "      <td>3</td>\n",
       "      <td>3112.481705</td>\n",
       "      <td>38</td>\n",
       "      <td>среднее</td>\n",
       "      <td>1</td>\n",
       "      <td>женат / замужем</td>\n",
       "      <td>0</td>\n",
       "      <td>M</td>\n",
       "      <td>сотрудник</td>\n",
       "      <td>1</td>\n",
       "      <td>244093.050500</td>\n",
       "      <td>на покупку своего автомобиля</td>\n",
       "    </tr>\n",
       "    <tr>\n",
       "      <th>21524</th>\n",
       "      <td>2</td>\n",
       "      <td>1984.507589</td>\n",
       "      <td>40</td>\n",
       "      <td>среднее</td>\n",
       "      <td>1</td>\n",
       "      <td>женат / замужем</td>\n",
       "      <td>0</td>\n",
       "      <td>F</td>\n",
       "      <td>сотрудник</td>\n",
       "      <td>0</td>\n",
       "      <td>82047.418899</td>\n",
       "      <td>на покупку автомобиля</td>\n",
       "    </tr>\n",
       "  </tbody>\n",
       "</table>\n",
       "<p>21402 rows × 12 columns</p>\n",
       "</div>"
      ],
      "text/plain": [
       "       children  days_employed  dob_years education  education_id  \\\n",
       "0             1    8437.673028         42    высшее             0   \n",
       "1             1    4024.803754         36   среднее             1   \n",
       "2             0    5623.422610         33   Среднее             1   \n",
       "3             3    4124.747207         32   среднее             1   \n",
       "4             0  340266.072047         53   среднее             1   \n",
       "...         ...            ...        ...       ...           ...   \n",
       "21520         1    4529.316663         43   среднее             1   \n",
       "21521         0  343937.404131         67   среднее             1   \n",
       "21522         1    2113.346888         38   среднее             1   \n",
       "21523         3    3112.481705         38   среднее             1   \n",
       "21524         2    1984.507589         40   среднее             1   \n",
       "\n",
       "          family_status  family_status_id gender income_type  debt  \\\n",
       "0       женат / замужем                 0      F   сотрудник     0   \n",
       "1       женат / замужем                 0      F   сотрудник     0   \n",
       "2       женат / замужем                 0      M   сотрудник     0   \n",
       "3       женат / замужем                 0      M   сотрудник     0   \n",
       "4      гражданский брак                 1      F   пенсионер     0   \n",
       "...                 ...               ...    ...         ...   ...   \n",
       "21520  гражданский брак                 1      F   компаньон     0   \n",
       "21521   женат / замужем                 0      F   пенсионер     0   \n",
       "21522  гражданский брак                 1      M   сотрудник     1   \n",
       "21523   женат / замужем                 0      M   сотрудник     1   \n",
       "21524   женат / замужем                 0      F   сотрудник     0   \n",
       "\n",
       "        total_income                       purpose  \n",
       "0      253875.639453                 покупка жилья  \n",
       "1      112080.014102       приобретение автомобиля  \n",
       "2      145885.952297                 покупка жилья  \n",
       "3      267628.550329    дополнительное образование  \n",
       "4      158616.077870               сыграть свадьбу  \n",
       "...              ...                           ...  \n",
       "21520  224791.862382             операции с жильем  \n",
       "21521  155999.806512          сделка с автомобилем  \n",
       "21522   89672.561153                  недвижимость  \n",
       "21523  244093.050500  на покупку своего автомобиля  \n",
       "21524   82047.418899         на покупку автомобиля  \n",
       "\n",
       "[21402 rows x 12 columns]"
      ]
     },
     "execution_count": 10,
     "metadata": {},
     "output_type": "execute_result"
    }
   ],
   "source": [
    "data = data.loc[(data['children'] != -1) & (data['children'] != 20), :]\n",
    "data"
   ]
  },
  {
   "cell_type": "markdown",
   "id": "18d77455",
   "metadata": {
    "deletable": false,
    "editable": false,
    "id": "18d77455",
    "tags": [
     "start_task"
    ]
   },
   "source": [
    "**Задание 10. Ещё раз выведите перечень уникальных значений столбца `children`, чтобы убедиться, что артефакты удалены.**"
   ]
  },
  {
   "cell_type": "code",
   "execution_count": 11,
   "id": "2c5fa92c",
   "metadata": {
    "id": "2c5fa92c"
   },
   "outputs": [
    {
     "name": "stdout",
     "output_type": "stream",
     "text": [
      "[1 0 3 2 4 5]\n"
     ]
    }
   ],
   "source": [
    "print(data['children'].unique())"
   ]
  },
  {
   "cell_type": "markdown",
   "id": "0ec07dee",
   "metadata": {
    "deletable": false,
    "editable": false,
    "id": "0ec07dee"
   },
   "source": [
    "### Удаление пропусков (продолжение)"
   ]
  },
  {
   "cell_type": "markdown",
   "id": "0fc3ae3f",
   "metadata": {
    "deletable": false,
    "editable": false,
    "id": "0fc3ae3f",
    "tags": [
     "start_task"
    ]
   },
   "source": [
    "**Задание 11. Заполните пропуски в столбце `days_employed` медианными значениями по каждому типу занятости `income_type`.**"
   ]
  },
  {
   "cell_type": "code",
   "execution_count": 12,
   "id": "e2aea7ac",
   "metadata": {
    "id": "e2aea7ac"
   },
   "outputs": [
    {
     "data": {
      "text/html": [
       "<div>\n",
       "<style scoped>\n",
       "    .dataframe tbody tr th:only-of-type {\n",
       "        vertical-align: middle;\n",
       "    }\n",
       "\n",
       "    .dataframe tbody tr th {\n",
       "        vertical-align: top;\n",
       "    }\n",
       "\n",
       "    .dataframe thead th {\n",
       "        text-align: right;\n",
       "    }\n",
       "</style>\n",
       "<table border=\"1\" class=\"dataframe\">\n",
       "  <thead>\n",
       "    <tr style=\"text-align: right;\">\n",
       "      <th></th>\n",
       "      <th>children</th>\n",
       "      <th>days_employed</th>\n",
       "      <th>dob_years</th>\n",
       "      <th>education</th>\n",
       "      <th>education_id</th>\n",
       "      <th>family_status</th>\n",
       "      <th>family_status_id</th>\n",
       "      <th>gender</th>\n",
       "      <th>income_type</th>\n",
       "      <th>debt</th>\n",
       "      <th>total_income</th>\n",
       "      <th>purpose</th>\n",
       "    </tr>\n",
       "  </thead>\n",
       "  <tbody>\n",
       "    <tr>\n",
       "      <th>0</th>\n",
       "      <td>1</td>\n",
       "      <td>8437.673028</td>\n",
       "      <td>42</td>\n",
       "      <td>высшее</td>\n",
       "      <td>0</td>\n",
       "      <td>женат / замужем</td>\n",
       "      <td>0</td>\n",
       "      <td>F</td>\n",
       "      <td>сотрудник</td>\n",
       "      <td>0</td>\n",
       "      <td>253875.639453</td>\n",
       "      <td>покупка жилья</td>\n",
       "    </tr>\n",
       "    <tr>\n",
       "      <th>1</th>\n",
       "      <td>1</td>\n",
       "      <td>4024.803754</td>\n",
       "      <td>36</td>\n",
       "      <td>среднее</td>\n",
       "      <td>1</td>\n",
       "      <td>женат / замужем</td>\n",
       "      <td>0</td>\n",
       "      <td>F</td>\n",
       "      <td>сотрудник</td>\n",
       "      <td>0</td>\n",
       "      <td>112080.014102</td>\n",
       "      <td>приобретение автомобиля</td>\n",
       "    </tr>\n",
       "    <tr>\n",
       "      <th>2</th>\n",
       "      <td>0</td>\n",
       "      <td>5623.422610</td>\n",
       "      <td>33</td>\n",
       "      <td>Среднее</td>\n",
       "      <td>1</td>\n",
       "      <td>женат / замужем</td>\n",
       "      <td>0</td>\n",
       "      <td>M</td>\n",
       "      <td>сотрудник</td>\n",
       "      <td>0</td>\n",
       "      <td>145885.952297</td>\n",
       "      <td>покупка жилья</td>\n",
       "    </tr>\n",
       "    <tr>\n",
       "      <th>3</th>\n",
       "      <td>3</td>\n",
       "      <td>4124.747207</td>\n",
       "      <td>32</td>\n",
       "      <td>среднее</td>\n",
       "      <td>1</td>\n",
       "      <td>женат / замужем</td>\n",
       "      <td>0</td>\n",
       "      <td>M</td>\n",
       "      <td>сотрудник</td>\n",
       "      <td>0</td>\n",
       "      <td>267628.550329</td>\n",
       "      <td>дополнительное образование</td>\n",
       "    </tr>\n",
       "    <tr>\n",
       "      <th>4</th>\n",
       "      <td>0</td>\n",
       "      <td>340266.072047</td>\n",
       "      <td>53</td>\n",
       "      <td>среднее</td>\n",
       "      <td>1</td>\n",
       "      <td>гражданский брак</td>\n",
       "      <td>1</td>\n",
       "      <td>F</td>\n",
       "      <td>пенсионер</td>\n",
       "      <td>0</td>\n",
       "      <td>158616.077870</td>\n",
       "      <td>сыграть свадьбу</td>\n",
       "    </tr>\n",
       "    <tr>\n",
       "      <th>...</th>\n",
       "      <td>...</td>\n",
       "      <td>...</td>\n",
       "      <td>...</td>\n",
       "      <td>...</td>\n",
       "      <td>...</td>\n",
       "      <td>...</td>\n",
       "      <td>...</td>\n",
       "      <td>...</td>\n",
       "      <td>...</td>\n",
       "      <td>...</td>\n",
       "      <td>...</td>\n",
       "      <td>...</td>\n",
       "    </tr>\n",
       "    <tr>\n",
       "      <th>21520</th>\n",
       "      <td>1</td>\n",
       "      <td>4529.316663</td>\n",
       "      <td>43</td>\n",
       "      <td>среднее</td>\n",
       "      <td>1</td>\n",
       "      <td>гражданский брак</td>\n",
       "      <td>1</td>\n",
       "      <td>F</td>\n",
       "      <td>компаньон</td>\n",
       "      <td>0</td>\n",
       "      <td>224791.862382</td>\n",
       "      <td>операции с жильем</td>\n",
       "    </tr>\n",
       "    <tr>\n",
       "      <th>21521</th>\n",
       "      <td>0</td>\n",
       "      <td>343937.404131</td>\n",
       "      <td>67</td>\n",
       "      <td>среднее</td>\n",
       "      <td>1</td>\n",
       "      <td>женат / замужем</td>\n",
       "      <td>0</td>\n",
       "      <td>F</td>\n",
       "      <td>пенсионер</td>\n",
       "      <td>0</td>\n",
       "      <td>155999.806512</td>\n",
       "      <td>сделка с автомобилем</td>\n",
       "    </tr>\n",
       "    <tr>\n",
       "      <th>21522</th>\n",
       "      <td>1</td>\n",
       "      <td>2113.346888</td>\n",
       "      <td>38</td>\n",
       "      <td>среднее</td>\n",
       "      <td>1</td>\n",
       "      <td>гражданский брак</td>\n",
       "      <td>1</td>\n",
       "      <td>M</td>\n",
       "      <td>сотрудник</td>\n",
       "      <td>1</td>\n",
       "      <td>89672.561153</td>\n",
       "      <td>недвижимость</td>\n",
       "    </tr>\n",
       "    <tr>\n",
       "      <th>21523</th>\n",
       "      <td>3</td>\n",
       "      <td>3112.481705</td>\n",
       "      <td>38</td>\n",
       "      <td>среднее</td>\n",
       "      <td>1</td>\n",
       "      <td>женат / замужем</td>\n",
       "      <td>0</td>\n",
       "      <td>M</td>\n",
       "      <td>сотрудник</td>\n",
       "      <td>1</td>\n",
       "      <td>244093.050500</td>\n",
       "      <td>на покупку своего автомобиля</td>\n",
       "    </tr>\n",
       "    <tr>\n",
       "      <th>21524</th>\n",
       "      <td>2</td>\n",
       "      <td>1984.507589</td>\n",
       "      <td>40</td>\n",
       "      <td>среднее</td>\n",
       "      <td>1</td>\n",
       "      <td>женат / замужем</td>\n",
       "      <td>0</td>\n",
       "      <td>F</td>\n",
       "      <td>сотрудник</td>\n",
       "      <td>0</td>\n",
       "      <td>82047.418899</td>\n",
       "      <td>на покупку автомобиля</td>\n",
       "    </tr>\n",
       "  </tbody>\n",
       "</table>\n",
       "<p>21402 rows × 12 columns</p>\n",
       "</div>"
      ],
      "text/plain": [
       "       children  days_employed  dob_years education  education_id  \\\n",
       "0             1    8437.673028         42    высшее             0   \n",
       "1             1    4024.803754         36   среднее             1   \n",
       "2             0    5623.422610         33   Среднее             1   \n",
       "3             3    4124.747207         32   среднее             1   \n",
       "4             0  340266.072047         53   среднее             1   \n",
       "...         ...            ...        ...       ...           ...   \n",
       "21520         1    4529.316663         43   среднее             1   \n",
       "21521         0  343937.404131         67   среднее             1   \n",
       "21522         1    2113.346888         38   среднее             1   \n",
       "21523         3    3112.481705         38   среднее             1   \n",
       "21524         2    1984.507589         40   среднее             1   \n",
       "\n",
       "          family_status  family_status_id gender income_type  debt  \\\n",
       "0       женат / замужем                 0      F   сотрудник     0   \n",
       "1       женат / замужем                 0      F   сотрудник     0   \n",
       "2       женат / замужем                 0      M   сотрудник     0   \n",
       "3       женат / замужем                 0      M   сотрудник     0   \n",
       "4      гражданский брак                 1      F   пенсионер     0   \n",
       "...                 ...               ...    ...         ...   ...   \n",
       "21520  гражданский брак                 1      F   компаньон     0   \n",
       "21521   женат / замужем                 0      F   пенсионер     0   \n",
       "21522  гражданский брак                 1      M   сотрудник     1   \n",
       "21523   женат / замужем                 0      M   сотрудник     1   \n",
       "21524   женат / замужем                 0      F   сотрудник     0   \n",
       "\n",
       "        total_income                       purpose  \n",
       "0      253875.639453                 покупка жилья  \n",
       "1      112080.014102       приобретение автомобиля  \n",
       "2      145885.952297                 покупка жилья  \n",
       "3      267628.550329    дополнительное образование  \n",
       "4      158616.077870               сыграть свадьбу  \n",
       "...              ...                           ...  \n",
       "21520  224791.862382             операции с жильем  \n",
       "21521  155999.806512          сделка с автомобилем  \n",
       "21522   89672.561153                  недвижимость  \n",
       "21523  244093.050500  на покупку своего автомобиля  \n",
       "21524   82047.418899         на покупку автомобиля  \n",
       "\n",
       "[21402 rows x 12 columns]"
      ]
     },
     "execution_count": 12,
     "metadata": {},
     "output_type": "execute_result"
    }
   ],
   "source": [
    "def fill_days_employed_null_values(data):\n",
    "    median_values = data.groupby('income_type')['days_employed'].median()\n",
    "    data['days_employed'] = data.apply(\n",
    "        lambda row: median_values[row['income_type']] if pd.isnull(row['days_employed']) else row['days_employed'],\n",
    "        axis=1\n",
    "    )\n",
    "\n",
    "fill_days_employed_null_values(data)\n",
    "data"
   ]
  },
  {
   "cell_type": "markdown",
   "id": "97b0b795",
   "metadata": {
    "deletable": false,
    "editable": false,
    "id": "97b0b795",
    "tags": [
     "start_task"
    ]
   },
   "source": [
    "**Задание 12. Убедитесь, что все пропуски заполнены. Проверьте себя и ещё раз выведите количество пропущенных значений для каждого столбца с помощью двух методов.**"
   ]
  },
  {
   "cell_type": "code",
   "execution_count": 13,
   "id": "79632a21",
   "metadata": {
    "id": "79632a21"
   },
   "outputs": [
    {
     "data": {
      "text/plain": [
       "children            0\n",
       "days_employed       0\n",
       "dob_years           0\n",
       "education           0\n",
       "education_id        0\n",
       "family_status       0\n",
       "family_status_id    0\n",
       "gender              0\n",
       "income_type         0\n",
       "debt                0\n",
       "total_income        0\n",
       "purpose             0\n",
       "dtype: int64"
      ]
     },
     "execution_count": 13,
     "metadata": {},
     "output_type": "execute_result"
    }
   ],
   "source": [
    "data.isna().sum()"
   ]
  },
  {
   "cell_type": "markdown",
   "id": "bd4aeb20",
   "metadata": {
    "deletable": false,
    "editable": false,
    "id": "bd4aeb20"
   },
   "source": [
    "### Изменение типов данных"
   ]
  },
  {
   "cell_type": "markdown",
   "id": "963bfa58",
   "metadata": {
    "deletable": false,
    "editable": false,
    "id": "963bfa58",
    "tags": [
     "start_task"
    ]
   },
   "source": [
    "**Задание 13. Замените вещественный тип данных в столбце `total_income` на целочисленный с помощью метода `astype()`.**"
   ]
  },
  {
   "cell_type": "code",
   "execution_count": 14,
   "id": "73da6ea0",
   "metadata": {
    "id": "73da6ea0"
   },
   "outputs": [],
   "source": [
    "data['total_income'] = data['total_income'].astype(int)"
   ]
  },
  {
   "cell_type": "markdown",
   "id": "d290239e",
   "metadata": {
    "deletable": false,
    "editable": false,
    "id": "d290239e"
   },
   "source": [
    "### Обработка дубликатов"
   ]
  },
  {
   "cell_type": "markdown",
   "id": "1b5844fd",
   "metadata": {
    "deletable": false,
    "editable": false,
    "id": "1b5844fd",
    "tags": [
     "start_task"
    ]
   },
   "source": [
    "**Задание 14. Обработайте неявные дубликаты в столбце `education`. В этом столбце есть одни и те же значения, но записанные по-разному: с использованием заглавных и строчных букв. Приведите их к нижнему регистру.**"
   ]
  },
  {
   "cell_type": "code",
   "execution_count": 15,
   "id": "3f2504b3",
   "metadata": {
    "id": "3f2504b3"
   },
   "outputs": [],
   "source": [
    "data['education'] = data['education'].str.lower()"
   ]
  },
  {
   "cell_type": "markdown",
   "id": "4c22acbc",
   "metadata": {
    "deletable": false,
    "editable": false,
    "id": "4c22acbc",
    "tags": [
     "start_task"
    ]
   },
   "source": [
    "**Задание 15. Выведите на экран количество строк-дубликатов в данных. Если такие строки присутствуют, удалите их.**"
   ]
  },
  {
   "cell_type": "code",
   "execution_count": 16,
   "id": "d34a4325",
   "metadata": {
    "id": "d34a4325"
   },
   "outputs": [
    {
     "name": "stdout",
     "output_type": "stream",
     "text": [
      "21402\n"
     ]
    }
   ],
   "source": [
    "print(data.duplicated().count())"
   ]
  },
  {
   "cell_type": "code",
   "execution_count": 17,
   "id": "6e1a6499",
   "metadata": {
    "id": "6e1a6499"
   },
   "outputs": [],
   "source": [
    "data = data.drop_duplicates()"
   ]
  },
  {
   "cell_type": "markdown",
   "id": "e5686ccc",
   "metadata": {
    "deletable": false,
    "editable": false,
    "id": "e5686ccc"
   },
   "source": [
    "### Категоризация данных"
   ]
  },
  {
   "cell_type": "markdown",
   "id": "636e9acd",
   "metadata": {
    "deletable": false,
    "editable": false,
    "id": "636e9acd",
    "tags": [
     "start_task"
    ]
   },
   "source": [
    "**Задание 16. На основании диапазонов, указанных ниже, создайте в датафрейме `data` столбец `total_income_category` с категориями:**\n",
    "\n",
    "- 0–30000 — `'E'`;\n",
    "- 30001–50000 — `'D'`;\n",
    "- 50001–200000 — `'C'`;\n",
    "- 200001–1000000 — `'B'`;\n",
    "- 1000001 и выше — `'A'`.\n",
    "\n",
    "\n",
    "**Например, кредитополучателю с доходом 25000 нужно назначить категорию `'E'`, а клиенту, получающему 235000, — `'B'`. Используйте собственную функцию с именем `categorize_income()` и метод `apply()`.**"
   ]
  },
  {
   "cell_type": "code",
   "execution_count": 18,
   "id": "880a77e5",
   "metadata": {
    "id": "880a77e5"
   },
   "outputs": [],
   "source": [
    "def categorize_income(val):\n",
    "    if val < 30000: return 'E'\n",
    "    elif val > 30000 and val < 50000: return 'D'\n",
    "    elif val > 50000 and val < 200000: return 'C'\n",
    "    elif val > 200000 and val < 1000000: return 'B'\n",
    "    else: return 'A'"
   ]
  },
  {
   "cell_type": "code",
   "execution_count": 19,
   "id": "6f25f161",
   "metadata": {
    "id": "6f25f161"
   },
   "outputs": [
    {
     "name": "stderr",
     "output_type": "stream",
     "text": [
      "/tmp/ipykernel_63/3407493727.py:1: SettingWithCopyWarning: \n",
      "A value is trying to be set on a copy of a slice from a DataFrame.\n",
      "Try using .loc[row_indexer,col_indexer] = value instead\n",
      "\n",
      "See the caveats in the documentation: https://pandas.pydata.org/pandas-docs/stable/user_guide/indexing.html#returning-a-view-versus-a-copy\n",
      "  data['total_income_category'] = data['total_income'].apply(categorize_income)\n"
     ]
    },
    {
     "data": {
      "text/html": [
       "<div>\n",
       "<style scoped>\n",
       "    .dataframe tbody tr th:only-of-type {\n",
       "        vertical-align: middle;\n",
       "    }\n",
       "\n",
       "    .dataframe tbody tr th {\n",
       "        vertical-align: top;\n",
       "    }\n",
       "\n",
       "    .dataframe thead th {\n",
       "        text-align: right;\n",
       "    }\n",
       "</style>\n",
       "<table border=\"1\" class=\"dataframe\">\n",
       "  <thead>\n",
       "    <tr style=\"text-align: right;\">\n",
       "      <th></th>\n",
       "      <th>children</th>\n",
       "      <th>days_employed</th>\n",
       "      <th>dob_years</th>\n",
       "      <th>education</th>\n",
       "      <th>education_id</th>\n",
       "      <th>family_status</th>\n",
       "      <th>family_status_id</th>\n",
       "      <th>gender</th>\n",
       "      <th>income_type</th>\n",
       "      <th>debt</th>\n",
       "      <th>total_income</th>\n",
       "      <th>purpose</th>\n",
       "      <th>total_income_category</th>\n",
       "    </tr>\n",
       "  </thead>\n",
       "  <tbody>\n",
       "    <tr>\n",
       "      <th>0</th>\n",
       "      <td>1</td>\n",
       "      <td>8437.673028</td>\n",
       "      <td>42</td>\n",
       "      <td>высшее</td>\n",
       "      <td>0</td>\n",
       "      <td>женат / замужем</td>\n",
       "      <td>0</td>\n",
       "      <td>F</td>\n",
       "      <td>сотрудник</td>\n",
       "      <td>0</td>\n",
       "      <td>253875</td>\n",
       "      <td>покупка жилья</td>\n",
       "      <td>B</td>\n",
       "    </tr>\n",
       "    <tr>\n",
       "      <th>1</th>\n",
       "      <td>1</td>\n",
       "      <td>4024.803754</td>\n",
       "      <td>36</td>\n",
       "      <td>среднее</td>\n",
       "      <td>1</td>\n",
       "      <td>женат / замужем</td>\n",
       "      <td>0</td>\n",
       "      <td>F</td>\n",
       "      <td>сотрудник</td>\n",
       "      <td>0</td>\n",
       "      <td>112080</td>\n",
       "      <td>приобретение автомобиля</td>\n",
       "      <td>C</td>\n",
       "    </tr>\n",
       "    <tr>\n",
       "      <th>2</th>\n",
       "      <td>0</td>\n",
       "      <td>5623.422610</td>\n",
       "      <td>33</td>\n",
       "      <td>среднее</td>\n",
       "      <td>1</td>\n",
       "      <td>женат / замужем</td>\n",
       "      <td>0</td>\n",
       "      <td>M</td>\n",
       "      <td>сотрудник</td>\n",
       "      <td>0</td>\n",
       "      <td>145885</td>\n",
       "      <td>покупка жилья</td>\n",
       "      <td>C</td>\n",
       "    </tr>\n",
       "    <tr>\n",
       "      <th>3</th>\n",
       "      <td>3</td>\n",
       "      <td>4124.747207</td>\n",
       "      <td>32</td>\n",
       "      <td>среднее</td>\n",
       "      <td>1</td>\n",
       "      <td>женат / замужем</td>\n",
       "      <td>0</td>\n",
       "      <td>M</td>\n",
       "      <td>сотрудник</td>\n",
       "      <td>0</td>\n",
       "      <td>267628</td>\n",
       "      <td>дополнительное образование</td>\n",
       "      <td>B</td>\n",
       "    </tr>\n",
       "    <tr>\n",
       "      <th>4</th>\n",
       "      <td>0</td>\n",
       "      <td>340266.072047</td>\n",
       "      <td>53</td>\n",
       "      <td>среднее</td>\n",
       "      <td>1</td>\n",
       "      <td>гражданский брак</td>\n",
       "      <td>1</td>\n",
       "      <td>F</td>\n",
       "      <td>пенсионер</td>\n",
       "      <td>0</td>\n",
       "      <td>158616</td>\n",
       "      <td>сыграть свадьбу</td>\n",
       "      <td>C</td>\n",
       "    </tr>\n",
       "    <tr>\n",
       "      <th>...</th>\n",
       "      <td>...</td>\n",
       "      <td>...</td>\n",
       "      <td>...</td>\n",
       "      <td>...</td>\n",
       "      <td>...</td>\n",
       "      <td>...</td>\n",
       "      <td>...</td>\n",
       "      <td>...</td>\n",
       "      <td>...</td>\n",
       "      <td>...</td>\n",
       "      <td>...</td>\n",
       "      <td>...</td>\n",
       "      <td>...</td>\n",
       "    </tr>\n",
       "    <tr>\n",
       "      <th>21520</th>\n",
       "      <td>1</td>\n",
       "      <td>4529.316663</td>\n",
       "      <td>43</td>\n",
       "      <td>среднее</td>\n",
       "      <td>1</td>\n",
       "      <td>гражданский брак</td>\n",
       "      <td>1</td>\n",
       "      <td>F</td>\n",
       "      <td>компаньон</td>\n",
       "      <td>0</td>\n",
       "      <td>224791</td>\n",
       "      <td>операции с жильем</td>\n",
       "      <td>B</td>\n",
       "    </tr>\n",
       "    <tr>\n",
       "      <th>21521</th>\n",
       "      <td>0</td>\n",
       "      <td>343937.404131</td>\n",
       "      <td>67</td>\n",
       "      <td>среднее</td>\n",
       "      <td>1</td>\n",
       "      <td>женат / замужем</td>\n",
       "      <td>0</td>\n",
       "      <td>F</td>\n",
       "      <td>пенсионер</td>\n",
       "      <td>0</td>\n",
       "      <td>155999</td>\n",
       "      <td>сделка с автомобилем</td>\n",
       "      <td>C</td>\n",
       "    </tr>\n",
       "    <tr>\n",
       "      <th>21522</th>\n",
       "      <td>1</td>\n",
       "      <td>2113.346888</td>\n",
       "      <td>38</td>\n",
       "      <td>среднее</td>\n",
       "      <td>1</td>\n",
       "      <td>гражданский брак</td>\n",
       "      <td>1</td>\n",
       "      <td>M</td>\n",
       "      <td>сотрудник</td>\n",
       "      <td>1</td>\n",
       "      <td>89672</td>\n",
       "      <td>недвижимость</td>\n",
       "      <td>C</td>\n",
       "    </tr>\n",
       "    <tr>\n",
       "      <th>21523</th>\n",
       "      <td>3</td>\n",
       "      <td>3112.481705</td>\n",
       "      <td>38</td>\n",
       "      <td>среднее</td>\n",
       "      <td>1</td>\n",
       "      <td>женат / замужем</td>\n",
       "      <td>0</td>\n",
       "      <td>M</td>\n",
       "      <td>сотрудник</td>\n",
       "      <td>1</td>\n",
       "      <td>244093</td>\n",
       "      <td>на покупку своего автомобиля</td>\n",
       "      <td>B</td>\n",
       "    </tr>\n",
       "    <tr>\n",
       "      <th>21524</th>\n",
       "      <td>2</td>\n",
       "      <td>1984.507589</td>\n",
       "      <td>40</td>\n",
       "      <td>среднее</td>\n",
       "      <td>1</td>\n",
       "      <td>женат / замужем</td>\n",
       "      <td>0</td>\n",
       "      <td>F</td>\n",
       "      <td>сотрудник</td>\n",
       "      <td>0</td>\n",
       "      <td>82047</td>\n",
       "      <td>на покупку автомобиля</td>\n",
       "      <td>C</td>\n",
       "    </tr>\n",
       "  </tbody>\n",
       "</table>\n",
       "<p>21331 rows × 13 columns</p>\n",
       "</div>"
      ],
      "text/plain": [
       "       children  days_employed  dob_years education  education_id  \\\n",
       "0             1    8437.673028         42    высшее             0   \n",
       "1             1    4024.803754         36   среднее             1   \n",
       "2             0    5623.422610         33   среднее             1   \n",
       "3             3    4124.747207         32   среднее             1   \n",
       "4             0  340266.072047         53   среднее             1   \n",
       "...         ...            ...        ...       ...           ...   \n",
       "21520         1    4529.316663         43   среднее             1   \n",
       "21521         0  343937.404131         67   среднее             1   \n",
       "21522         1    2113.346888         38   среднее             1   \n",
       "21523         3    3112.481705         38   среднее             1   \n",
       "21524         2    1984.507589         40   среднее             1   \n",
       "\n",
       "          family_status  family_status_id gender income_type  debt  \\\n",
       "0       женат / замужем                 0      F   сотрудник     0   \n",
       "1       женат / замужем                 0      F   сотрудник     0   \n",
       "2       женат / замужем                 0      M   сотрудник     0   \n",
       "3       женат / замужем                 0      M   сотрудник     0   \n",
       "4      гражданский брак                 1      F   пенсионер     0   \n",
       "...                 ...               ...    ...         ...   ...   \n",
       "21520  гражданский брак                 1      F   компаньон     0   \n",
       "21521   женат / замужем                 0      F   пенсионер     0   \n",
       "21522  гражданский брак                 1      M   сотрудник     1   \n",
       "21523   женат / замужем                 0      M   сотрудник     1   \n",
       "21524   женат / замужем                 0      F   сотрудник     0   \n",
       "\n",
       "       total_income                       purpose total_income_category  \n",
       "0            253875                 покупка жилья                     B  \n",
       "1            112080       приобретение автомобиля                     C  \n",
       "2            145885                 покупка жилья                     C  \n",
       "3            267628    дополнительное образование                     B  \n",
       "4            158616               сыграть свадьбу                     C  \n",
       "...             ...                           ...                   ...  \n",
       "21520        224791             операции с жильем                     B  \n",
       "21521        155999          сделка с автомобилем                     C  \n",
       "21522         89672                  недвижимость                     C  \n",
       "21523        244093  на покупку своего автомобиля                     B  \n",
       "21524         82047         на покупку автомобиля                     C  \n",
       "\n",
       "[21331 rows x 13 columns]"
      ]
     },
     "execution_count": 19,
     "metadata": {},
     "output_type": "execute_result"
    }
   ],
   "source": [
    "data['total_income_category'] = data['total_income'].apply(categorize_income)\n",
    "data"
   ]
  },
  {
   "cell_type": "markdown",
   "id": "3363b685",
   "metadata": {
    "deletable": false,
    "editable": false,
    "id": "3363b685",
    "tags": [
     "start_task"
    ]
   },
   "source": [
    "**Задание 17. Выведите на экран перечень уникальных целей взятия кредита из столбца `purpose`.**"
   ]
  },
  {
   "cell_type": "code",
   "execution_count": 20,
   "id": "e59f2c15",
   "metadata": {
    "id": "e59f2c15"
   },
   "outputs": [
    {
     "data": {
      "text/plain": [
       "array(['покупка жилья', 'приобретение автомобиля',\n",
       "       'дополнительное образование', 'сыграть свадьбу',\n",
       "       'операции с жильем', 'образование', 'на проведение свадьбы',\n",
       "       'покупка жилья для семьи', 'покупка недвижимости',\n",
       "       'покупка коммерческой недвижимости', 'покупка жилой недвижимости',\n",
       "       'строительство собственной недвижимости', 'недвижимость',\n",
       "       'строительство недвижимости', 'на покупку подержанного автомобиля',\n",
       "       'на покупку своего автомобиля',\n",
       "       'операции с коммерческой недвижимостью',\n",
       "       'строительство жилой недвижимости', 'жилье',\n",
       "       'операции со своей недвижимостью', 'автомобили',\n",
       "       'заняться образованием', 'сделка с подержанным автомобилем',\n",
       "       'получение образования', 'автомобиль', 'свадьба',\n",
       "       'получение дополнительного образования', 'покупка своего жилья',\n",
       "       'операции с недвижимостью', 'получение высшего образования',\n",
       "       'свой автомобиль', 'сделка с автомобилем',\n",
       "       'профильное образование', 'высшее образование',\n",
       "       'покупка жилья для сдачи', 'на покупку автомобиля', 'ремонт жилью',\n",
       "       'заняться высшим образованием'], dtype=object)"
      ]
     },
     "execution_count": 20,
     "metadata": {},
     "output_type": "execute_result"
    }
   ],
   "source": [
    "data['purpose'].unique()"
   ]
  },
  {
   "cell_type": "markdown",
   "id": "bb33e847",
   "metadata": {
    "deletable": false,
    "editable": false,
    "id": "bb33e847",
    "tags": [
     "start_task"
    ]
   },
   "source": [
    "**Задание 18. Создайте функцию, которая на основании данных из столбца `purpose` сформирует новый столбец `purpose_category`, в который войдут следующие категории:**\n",
    "\n",
    "- `'операции с автомобилем'`,\n",
    "- `'операции с недвижимостью'`,\n",
    "- `'проведение свадьбы'`,\n",
    "- `'получение образования'`.\n",
    "\n",
    "**Например, если в столбце `purpose` находится подстрока `'на покупку автомобиля'`, то в столбце `purpose_category` должна появиться строка `'операции с автомобилем'`.**\n",
    "\n",
    "**Используйте собственную функцию с именем `categorize_purpose()` и метод `apply()`. Изучите данные в столбце `purpose` и определите, какие подстроки помогут вам правильно определить категорию.**"
   ]
  },
  {
   "cell_type": "code",
   "execution_count": 21,
   "id": "63909b83",
   "metadata": {
    "id": "63909b83"
   },
   "outputs": [],
   "source": [
    "def categorize_purpose(purpose):\n",
    "\n",
    "    if 'автомоб' in purpose: return 'операции с автомобилем'\n",
    "    if 'жиль' in purpose or 'недвижим' in purpose : return 'операции с недвижимостью'\n",
    "    if 'свадь' in purpose: return 'проведение свадьбы'\n",
    "    if 'образов' in purpose: return 'получение образования'"
   ]
  },
  {
   "cell_type": "code",
   "execution_count": 22,
   "id": "7cb4a81d",
   "metadata": {
    "id": "7cb4a81d"
   },
   "outputs": [
    {
     "name": "stderr",
     "output_type": "stream",
     "text": [
      "/tmp/ipykernel_63/4002743963.py:1: SettingWithCopyWarning: \n",
      "A value is trying to be set on a copy of a slice from a DataFrame.\n",
      "Try using .loc[row_indexer,col_indexer] = value instead\n",
      "\n",
      "See the caveats in the documentation: https://pandas.pydata.org/pandas-docs/stable/user_guide/indexing.html#returning-a-view-versus-a-copy\n",
      "  data['purpose_category'] = data['purpose'].apply(categorize_purpose)\n"
     ]
    },
    {
     "data": {
      "text/html": [
       "<div>\n",
       "<style scoped>\n",
       "    .dataframe tbody tr th:only-of-type {\n",
       "        vertical-align: middle;\n",
       "    }\n",
       "\n",
       "    .dataframe tbody tr th {\n",
       "        vertical-align: top;\n",
       "    }\n",
       "\n",
       "    .dataframe thead th {\n",
       "        text-align: right;\n",
       "    }\n",
       "</style>\n",
       "<table border=\"1\" class=\"dataframe\">\n",
       "  <thead>\n",
       "    <tr style=\"text-align: right;\">\n",
       "      <th></th>\n",
       "      <th>children</th>\n",
       "      <th>days_employed</th>\n",
       "      <th>dob_years</th>\n",
       "      <th>education</th>\n",
       "      <th>education_id</th>\n",
       "      <th>family_status</th>\n",
       "      <th>family_status_id</th>\n",
       "      <th>gender</th>\n",
       "      <th>income_type</th>\n",
       "      <th>debt</th>\n",
       "      <th>total_income</th>\n",
       "      <th>purpose</th>\n",
       "      <th>total_income_category</th>\n",
       "      <th>purpose_category</th>\n",
       "    </tr>\n",
       "  </thead>\n",
       "  <tbody>\n",
       "    <tr>\n",
       "      <th>0</th>\n",
       "      <td>1</td>\n",
       "      <td>8437.673028</td>\n",
       "      <td>42</td>\n",
       "      <td>высшее</td>\n",
       "      <td>0</td>\n",
       "      <td>женат / замужем</td>\n",
       "      <td>0</td>\n",
       "      <td>F</td>\n",
       "      <td>сотрудник</td>\n",
       "      <td>0</td>\n",
       "      <td>253875</td>\n",
       "      <td>покупка жилья</td>\n",
       "      <td>B</td>\n",
       "      <td>операции с недвижимостью</td>\n",
       "    </tr>\n",
       "    <tr>\n",
       "      <th>1</th>\n",
       "      <td>1</td>\n",
       "      <td>4024.803754</td>\n",
       "      <td>36</td>\n",
       "      <td>среднее</td>\n",
       "      <td>1</td>\n",
       "      <td>женат / замужем</td>\n",
       "      <td>0</td>\n",
       "      <td>F</td>\n",
       "      <td>сотрудник</td>\n",
       "      <td>0</td>\n",
       "      <td>112080</td>\n",
       "      <td>приобретение автомобиля</td>\n",
       "      <td>C</td>\n",
       "      <td>операции с автомобилем</td>\n",
       "    </tr>\n",
       "    <tr>\n",
       "      <th>2</th>\n",
       "      <td>0</td>\n",
       "      <td>5623.422610</td>\n",
       "      <td>33</td>\n",
       "      <td>среднее</td>\n",
       "      <td>1</td>\n",
       "      <td>женат / замужем</td>\n",
       "      <td>0</td>\n",
       "      <td>M</td>\n",
       "      <td>сотрудник</td>\n",
       "      <td>0</td>\n",
       "      <td>145885</td>\n",
       "      <td>покупка жилья</td>\n",
       "      <td>C</td>\n",
       "      <td>операции с недвижимостью</td>\n",
       "    </tr>\n",
       "    <tr>\n",
       "      <th>3</th>\n",
       "      <td>3</td>\n",
       "      <td>4124.747207</td>\n",
       "      <td>32</td>\n",
       "      <td>среднее</td>\n",
       "      <td>1</td>\n",
       "      <td>женат / замужем</td>\n",
       "      <td>0</td>\n",
       "      <td>M</td>\n",
       "      <td>сотрудник</td>\n",
       "      <td>0</td>\n",
       "      <td>267628</td>\n",
       "      <td>дополнительное образование</td>\n",
       "      <td>B</td>\n",
       "      <td>получение образования</td>\n",
       "    </tr>\n",
       "    <tr>\n",
       "      <th>4</th>\n",
       "      <td>0</td>\n",
       "      <td>340266.072047</td>\n",
       "      <td>53</td>\n",
       "      <td>среднее</td>\n",
       "      <td>1</td>\n",
       "      <td>гражданский брак</td>\n",
       "      <td>1</td>\n",
       "      <td>F</td>\n",
       "      <td>пенсионер</td>\n",
       "      <td>0</td>\n",
       "      <td>158616</td>\n",
       "      <td>сыграть свадьбу</td>\n",
       "      <td>C</td>\n",
       "      <td>проведение свадьбы</td>\n",
       "    </tr>\n",
       "    <tr>\n",
       "      <th>...</th>\n",
       "      <td>...</td>\n",
       "      <td>...</td>\n",
       "      <td>...</td>\n",
       "      <td>...</td>\n",
       "      <td>...</td>\n",
       "      <td>...</td>\n",
       "      <td>...</td>\n",
       "      <td>...</td>\n",
       "      <td>...</td>\n",
       "      <td>...</td>\n",
       "      <td>...</td>\n",
       "      <td>...</td>\n",
       "      <td>...</td>\n",
       "      <td>...</td>\n",
       "    </tr>\n",
       "    <tr>\n",
       "      <th>21520</th>\n",
       "      <td>1</td>\n",
       "      <td>4529.316663</td>\n",
       "      <td>43</td>\n",
       "      <td>среднее</td>\n",
       "      <td>1</td>\n",
       "      <td>гражданский брак</td>\n",
       "      <td>1</td>\n",
       "      <td>F</td>\n",
       "      <td>компаньон</td>\n",
       "      <td>0</td>\n",
       "      <td>224791</td>\n",
       "      <td>операции с жильем</td>\n",
       "      <td>B</td>\n",
       "      <td>операции с недвижимостью</td>\n",
       "    </tr>\n",
       "    <tr>\n",
       "      <th>21521</th>\n",
       "      <td>0</td>\n",
       "      <td>343937.404131</td>\n",
       "      <td>67</td>\n",
       "      <td>среднее</td>\n",
       "      <td>1</td>\n",
       "      <td>женат / замужем</td>\n",
       "      <td>0</td>\n",
       "      <td>F</td>\n",
       "      <td>пенсионер</td>\n",
       "      <td>0</td>\n",
       "      <td>155999</td>\n",
       "      <td>сделка с автомобилем</td>\n",
       "      <td>C</td>\n",
       "      <td>операции с автомобилем</td>\n",
       "    </tr>\n",
       "    <tr>\n",
       "      <th>21522</th>\n",
       "      <td>1</td>\n",
       "      <td>2113.346888</td>\n",
       "      <td>38</td>\n",
       "      <td>среднее</td>\n",
       "      <td>1</td>\n",
       "      <td>гражданский брак</td>\n",
       "      <td>1</td>\n",
       "      <td>M</td>\n",
       "      <td>сотрудник</td>\n",
       "      <td>1</td>\n",
       "      <td>89672</td>\n",
       "      <td>недвижимость</td>\n",
       "      <td>C</td>\n",
       "      <td>операции с недвижимостью</td>\n",
       "    </tr>\n",
       "    <tr>\n",
       "      <th>21523</th>\n",
       "      <td>3</td>\n",
       "      <td>3112.481705</td>\n",
       "      <td>38</td>\n",
       "      <td>среднее</td>\n",
       "      <td>1</td>\n",
       "      <td>женат / замужем</td>\n",
       "      <td>0</td>\n",
       "      <td>M</td>\n",
       "      <td>сотрудник</td>\n",
       "      <td>1</td>\n",
       "      <td>244093</td>\n",
       "      <td>на покупку своего автомобиля</td>\n",
       "      <td>B</td>\n",
       "      <td>операции с автомобилем</td>\n",
       "    </tr>\n",
       "    <tr>\n",
       "      <th>21524</th>\n",
       "      <td>2</td>\n",
       "      <td>1984.507589</td>\n",
       "      <td>40</td>\n",
       "      <td>среднее</td>\n",
       "      <td>1</td>\n",
       "      <td>женат / замужем</td>\n",
       "      <td>0</td>\n",
       "      <td>F</td>\n",
       "      <td>сотрудник</td>\n",
       "      <td>0</td>\n",
       "      <td>82047</td>\n",
       "      <td>на покупку автомобиля</td>\n",
       "      <td>C</td>\n",
       "      <td>операции с автомобилем</td>\n",
       "    </tr>\n",
       "  </tbody>\n",
       "</table>\n",
       "<p>21331 rows × 14 columns</p>\n",
       "</div>"
      ],
      "text/plain": [
       "       children  days_employed  dob_years education  education_id  \\\n",
       "0             1    8437.673028         42    высшее             0   \n",
       "1             1    4024.803754         36   среднее             1   \n",
       "2             0    5623.422610         33   среднее             1   \n",
       "3             3    4124.747207         32   среднее             1   \n",
       "4             0  340266.072047         53   среднее             1   \n",
       "...         ...            ...        ...       ...           ...   \n",
       "21520         1    4529.316663         43   среднее             1   \n",
       "21521         0  343937.404131         67   среднее             1   \n",
       "21522         1    2113.346888         38   среднее             1   \n",
       "21523         3    3112.481705         38   среднее             1   \n",
       "21524         2    1984.507589         40   среднее             1   \n",
       "\n",
       "          family_status  family_status_id gender income_type  debt  \\\n",
       "0       женат / замужем                 0      F   сотрудник     0   \n",
       "1       женат / замужем                 0      F   сотрудник     0   \n",
       "2       женат / замужем                 0      M   сотрудник     0   \n",
       "3       женат / замужем                 0      M   сотрудник     0   \n",
       "4      гражданский брак                 1      F   пенсионер     0   \n",
       "...                 ...               ...    ...         ...   ...   \n",
       "21520  гражданский брак                 1      F   компаньон     0   \n",
       "21521   женат / замужем                 0      F   пенсионер     0   \n",
       "21522  гражданский брак                 1      M   сотрудник     1   \n",
       "21523   женат / замужем                 0      M   сотрудник     1   \n",
       "21524   женат / замужем                 0      F   сотрудник     0   \n",
       "\n",
       "       total_income                       purpose total_income_category  \\\n",
       "0            253875                 покупка жилья                     B   \n",
       "1            112080       приобретение автомобиля                     C   \n",
       "2            145885                 покупка жилья                     C   \n",
       "3            267628    дополнительное образование                     B   \n",
       "4            158616               сыграть свадьбу                     C   \n",
       "...             ...                           ...                   ...   \n",
       "21520        224791             операции с жильем                     B   \n",
       "21521        155999          сделка с автомобилем                     C   \n",
       "21522         89672                  недвижимость                     C   \n",
       "21523        244093  на покупку своего автомобиля                     B   \n",
       "21524         82047         на покупку автомобиля                     C   \n",
       "\n",
       "               purpose_category  \n",
       "0      операции с недвижимостью  \n",
       "1        операции с автомобилем  \n",
       "2      операции с недвижимостью  \n",
       "3         получение образования  \n",
       "4            проведение свадьбы  \n",
       "...                         ...  \n",
       "21520  операции с недвижимостью  \n",
       "21521    операции с автомобилем  \n",
       "21522  операции с недвижимостью  \n",
       "21523    операции с автомобилем  \n",
       "21524    операции с автомобилем  \n",
       "\n",
       "[21331 rows x 14 columns]"
      ]
     },
     "execution_count": 22,
     "metadata": {},
     "output_type": "execute_result"
    }
   ],
   "source": [
    "data['purpose_category'] = data['purpose'].apply(categorize_purpose)\n",
    "data"
   ]
  },
  {
   "cell_type": "markdown",
   "id": "aad01371-b0b6-46ca-a488-091b7d139c5d",
   "metadata": {},
   "source": [
    "### Шаг 3. Исследуйте данные и ответьте на вопросы"
   ]
  },
  {
   "cell_type": "markdown",
   "id": "a17ab1b3-f40b-4aba-8133-75355f9a7184",
   "metadata": {},
   "source": [
    "#### 3.1 Есть ли зависимость между количеством детей и возвратом кредита в срок?"
   ]
  },
  {
   "cell_type": "code",
   "execution_count": 23,
   "id": "e735bd52-817b-4817-b839-5e17a2419c9b",
   "metadata": {},
   "outputs": [
    {
     "data": {
      "text/html": [
       "<div>\n",
       "<style scoped>\n",
       "    .dataframe tbody tr th:only-of-type {\n",
       "        vertical-align: middle;\n",
       "    }\n",
       "\n",
       "    .dataframe tbody tr th {\n",
       "        vertical-align: top;\n",
       "    }\n",
       "\n",
       "    .dataframe thead th {\n",
       "        text-align: right;\n",
       "    }\n",
       "</style>\n",
       "<table border=\"1\" class=\"dataframe\">\n",
       "  <thead>\n",
       "    <tr style=\"text-align: right;\">\n",
       "      <th></th>\n",
       "      <th>count</th>\n",
       "      <th>sum</th>\n",
       "      <th>propability_debt</th>\n",
       "    </tr>\n",
       "    <tr>\n",
       "      <th>children</th>\n",
       "      <th></th>\n",
       "      <th></th>\n",
       "      <th></th>\n",
       "    </tr>\n",
       "  </thead>\n",
       "  <tbody>\n",
       "    <tr>\n",
       "      <th>0</th>\n",
       "      <td>14091</td>\n",
       "      <td>1063</td>\n",
       "      <td>7.543822</td>\n",
       "    </tr>\n",
       "    <tr>\n",
       "      <th>1</th>\n",
       "      <td>4808</td>\n",
       "      <td>444</td>\n",
       "      <td>9.234609</td>\n",
       "    </tr>\n",
       "    <tr>\n",
       "      <th>2</th>\n",
       "      <td>2052</td>\n",
       "      <td>194</td>\n",
       "      <td>9.454191</td>\n",
       "    </tr>\n",
       "    <tr>\n",
       "      <th>3</th>\n",
       "      <td>330</td>\n",
       "      <td>27</td>\n",
       "      <td>8.181818</td>\n",
       "    </tr>\n",
       "    <tr>\n",
       "      <th>4</th>\n",
       "      <td>41</td>\n",
       "      <td>4</td>\n",
       "      <td>9.756098</td>\n",
       "    </tr>\n",
       "    <tr>\n",
       "      <th>5</th>\n",
       "      <td>9</td>\n",
       "      <td>0</td>\n",
       "      <td>0.000000</td>\n",
       "    </tr>\n",
       "  </tbody>\n",
       "</table>\n",
       "</div>"
      ],
      "text/plain": [
       "          count   sum  propability_debt\n",
       "children                               \n",
       "0         14091  1063          7.543822\n",
       "1          4808   444          9.234609\n",
       "2          2052   194          9.454191\n",
       "3           330    27          8.181818\n",
       "4            41     4          9.756098\n",
       "5             9     0          0.000000"
      ]
     },
     "execution_count": 23,
     "metadata": {},
     "output_type": "execute_result"
    }
   ],
   "source": [
    "data_child_debt = data.groupby('children')['debt'].agg(['count', 'sum'])\n",
    "data_child_debt['propability_debt'] = data_child_debt['sum'] / data_child_debt['count'] * 100\n",
    "data_child_debt"
   ]
  },
  {
   "cell_type": "markdown",
   "id": "d8574261",
   "metadata": {},
   "source": [
    "<div class=\"alert alert-info\">\n",
    "\n",
    "#### **Артём:** 💡 Когда комментарий или код прешывает 79 символов в строке - это стилистическая ошибка с точки зрения международных стандартов ([PEP 8](https://www.python.org/dev/peps/pep-0008/)) разработчиков на Python. \n",
    "    \n",
    "\n",
    "</div>"
   ]
  },
  {
   "cell_type": "markdown",
   "id": "05260890",
   "metadata": {},
   "source": [
    "<div class=\"alert alert-success\">\n",
    "\n",
    "**Артём:**  `Сделай` сводную таблицу методом `pivot_table или groupby` `здесь и далее` в которой буду следующая информация:\n",
    "        \n",
    "1. Название категории;\n",
    "2. Количество клиентов в категории;\n",
    "3. Доля задолженности.\n",
    "    \n",
    "**Это важно сделать здесь и далее.** Подробнее можно почитать [здесь](https://dfedorov.spb.ru/pandas/Подробное%20руководство%20по%20группировке%20и%20агрегированию%20с%20помощью%20pandas.html?ysclid=lcmm6rtg2w602526506)    \n",
    "    \n",
    "Высшем пилотажем будет если проценты сразу выведешь в правильном формате, то есть умножишь на сто.\n",
    "    \n",
    "</div>\n",
    "<div class=\"alert alert-success\">\n",
    "\n",
    "**Артём:** 👍 Отлично."
   ]
  },
  {
   "cell_type": "markdown",
   "id": "320d74d0-f285-4690-a1d8-5dc74988d648",
   "metadata": {},
   "source": [
    "**Вывод: Из таблицы, сгруппированной по количеству детей, можно заметить вполне очевидный факт:**\n",
    ">- чем больше детей - тем меньше клиентов с таким количетсвом детей. \n",
    "\n",
    "**Также можно выделить следующее:**\n",
    ">- Клиенты без детей имеют весьма малый процент задолженностей, однако количество таких клиентов самое большое в таблице \n",
    ">- Клиентов с одним ребенком почти втрое меньше чем бездетных клиентов, однако процент задолженности выше почти на 2 процента \n",
    ">- Клиентов с двумя детьми меньше более чем в два раза по сравнению с предыдущей группой, однако процент должников увеличился совсем немного \n",
    "\n",
    "**Стоит заметить что количество клиентов, имеющих трех и более детей составляет менее двух процентов, тем самым этих данных недостаточно для корректного анализа зависимости \\\n",
    "Безусловно, клиенты с пятью детьми - самые ответственные клиенты, но их количество (9) крайне мало среди остальных групп, аналогично можно сказать про группы с тремя и четырьмя детьми \\\n",
    "Отбросив во время анализа группы с тремя и более детьми, можно сказать о наличии зависимости** \\\n",
    "**А именно:**\n",
    ">- Чем больше детей, тем больше должников в соотвествующей группе\n",
    "**Данный факт можно объяснить тем, что большую семью нужно \"кормить\", не всегда денег достаточно, чтобы не влезать в кредиты, тем самым не получать задолженности**"
   ]
  },
  {
   "cell_type": "markdown",
   "id": "938afe6f",
   "metadata": {},
   "source": [
    "<div class=\"alert alert-success\">\n",
    "\n",
    "**Артём:**  Выборки с тремя, четырьмя, и пятью детьми нерепрезентативны, слишком мало значений, в сумме менее 2%. Данных по этим категориям недостаточно для анализа. Так же учти, что ноль - это тоже количество.\n",
    "\n",
    "</div>\n",
    "<div class=\"alert alert-success\">\n",
    "\n",
    "**Артём:** 👍 Хорошо."
   ]
  },
  {
   "cell_type": "markdown",
   "id": "75924194-b4c7-4a40-84c1-c772eb68d0ab",
   "metadata": {},
   "source": [
    "#### 3.2 Есть ли зависимость между семейным положением и возвратом кредита в срок?"
   ]
  },
  {
   "cell_type": "code",
   "execution_count": 24,
   "id": "262c3e8b-df1b-4d4b-95ac-fed7e63d90e7",
   "metadata": {},
   "outputs": [
    {
     "data": {
      "text/html": [
       "<div>\n",
       "<style scoped>\n",
       "    .dataframe tbody tr th:only-of-type {\n",
       "        vertical-align: middle;\n",
       "    }\n",
       "\n",
       "    .dataframe tbody tr th {\n",
       "        vertical-align: top;\n",
       "    }\n",
       "\n",
       "    .dataframe thead th {\n",
       "        text-align: right;\n",
       "    }\n",
       "</style>\n",
       "<table border=\"1\" class=\"dataframe\">\n",
       "  <thead>\n",
       "    <tr style=\"text-align: right;\">\n",
       "      <th></th>\n",
       "      <th>count</th>\n",
       "      <th>sum</th>\n",
       "      <th>propability_debt</th>\n",
       "    </tr>\n",
       "    <tr>\n",
       "      <th>family_status</th>\n",
       "      <th></th>\n",
       "      <th></th>\n",
       "      <th></th>\n",
       "    </tr>\n",
       "  </thead>\n",
       "  <tbody>\n",
       "    <tr>\n",
       "      <th>Не женат / не замужем</th>\n",
       "      <td>2796</td>\n",
       "      <td>273</td>\n",
       "      <td>9.763948</td>\n",
       "    </tr>\n",
       "    <tr>\n",
       "      <th>гражданский брак</th>\n",
       "      <td>4134</td>\n",
       "      <td>385</td>\n",
       "      <td>9.313014</td>\n",
       "    </tr>\n",
       "    <tr>\n",
       "      <th>женат / замужем</th>\n",
       "      <td>12261</td>\n",
       "      <td>927</td>\n",
       "      <td>7.560558</td>\n",
       "    </tr>\n",
       "    <tr>\n",
       "      <th>в разводе</th>\n",
       "      <td>1189</td>\n",
       "      <td>84</td>\n",
       "      <td>7.064760</td>\n",
       "    </tr>\n",
       "    <tr>\n",
       "      <th>вдовец / вдова</th>\n",
       "      <td>951</td>\n",
       "      <td>63</td>\n",
       "      <td>6.624606</td>\n",
       "    </tr>\n",
       "  </tbody>\n",
       "</table>\n",
       "</div>"
      ],
      "text/plain": [
       "                       count  sum  propability_debt\n",
       "family_status                                      \n",
       "Не женат / не замужем   2796  273          9.763948\n",
       "гражданский брак        4134  385          9.313014\n",
       "женат / замужем        12261  927          7.560558\n",
       "в разводе               1189   84          7.064760\n",
       "вдовец / вдова           951   63          6.624606"
      ]
     },
     "execution_count": 24,
     "metadata": {},
     "output_type": "execute_result"
    }
   ],
   "source": [
    "data_family_status_debt = data.groupby('family_status')['debt'].agg(['count', 'sum'])\n",
    "data_family_status_debt['propability_debt'] = data_family_status_debt['sum'] / data_family_status_debt['count'] * 100\n",
    "data_family_status_debt.sort_values('propability_debt', ascending = False)"
   ]
  },
  {
   "cell_type": "markdown",
   "id": "485f7c4d-aa71-4661-9263-dba6564fbe96",
   "metadata": {},
   "source": [
    "**Вывод: Исходя из таблицы `data_family_status_debt` можно заметить следующие факты:** \n",
    ">- Вдовы / Вдовцы имеют наименьший процент должников \n",
    ">- Не женатые люди имеют наибольший процент должников \n",
    ">- Люди в разводе и женатые имеют что-то среднее, при этом количество таких клиентов внушает уверенность в даннои показателе\n",
    "\n",
    "**В данном случае можно заявить, что люди, узаконившие свой брак однажды имеют весьма низкие показатели задолженностей, чего не скажешь о не женатых и о парах в гражданском браке. Тем самым некая зависимость присутвует**"
   ]
  },
  {
   "cell_type": "markdown",
   "id": "c6884cf9",
   "metadata": {},
   "source": [
    "<div class=\"alert alert-success\">\n",
    "\n",
    "**Артём:** 👍 Хорошо.\n",
    "\n",
    "</div>"
   ]
  },
  {
   "cell_type": "markdown",
   "id": "14308154-a237-4780-8292-c1df165175fb",
   "metadata": {},
   "source": [
    "#### 3.3 Есть ли зависимость между уровнем дохода и возвратом кредита в срок?"
   ]
  },
  {
   "cell_type": "markdown",
   "id": "4d267b27-65f1-49fe-95ad-c9cdb9db6014",
   "metadata": {},
   "source": [
    "**Я считаю разумным разделить уровни дохода следующим образом:**\n",
    ">- Средние доход +- 10% к значению\n",
    ">- Ниже среднего\n",
    ">- Выше среднего\n",
    "\n",
    "**Тем самым получится задать вполне адекватные границы для исследования задолжников исходя из их статуса**"
   ]
  },
  {
   "cell_type": "code",
   "execution_count": 25,
   "id": "b71091fe-f69d-4434-86e3-7571d358a756",
   "metadata": {},
   "outputs": [
    {
     "name": "stdout",
     "output_type": "stream",
     "text": [
      "148808.47119216164 165342.74576906848 181877.02034597535\n"
     ]
    }
   ],
   "source": [
    "mean_value_income = data['total_income'].mean()\n",
    "lower_bound_mean_value = mean_value_income * 0.9\n",
    "upper_bound_mean_value = mean_value_income * 1.1\n",
    "print(lower_bound_mean_value, mean_value_income, upper_bound_mean_value)"
   ]
  },
  {
   "cell_type": "markdown",
   "id": "eb070f44-cf82-4a7c-a7a5-4b1c6135a98d",
   "metadata": {},
   "source": [
    "**Создадим временную таблицу для сохранения количества клиентов каждой группы, количество должников, а также их соотношение**"
   ]
  },
  {
   "cell_type": "code",
   "execution_count": 26,
   "id": "5fe421c3-3476-4e05-9621-8736260ff4bc",
   "metadata": {},
   "outputs": [
    {
     "data": {
      "text/html": [
       "<div>\n",
       "<style scoped>\n",
       "    .dataframe tbody tr th:only-of-type {\n",
       "        vertical-align: middle;\n",
       "    }\n",
       "\n",
       "    .dataframe tbody tr th {\n",
       "        vertical-align: top;\n",
       "    }\n",
       "\n",
       "    .dataframe thead th {\n",
       "        text-align: right;\n",
       "    }\n",
       "</style>\n",
       "<table border=\"1\" class=\"dataframe\">\n",
       "  <thead>\n",
       "    <tr style=\"text-align: right;\">\n",
       "      <th></th>\n",
       "      <th>group_income</th>\n",
       "      <th>amount_clients</th>\n",
       "      <th>amount_debtor</th>\n",
       "      <th>probability_debt</th>\n",
       "    </tr>\n",
       "  </thead>\n",
       "  <tbody>\n",
       "    <tr>\n",
       "      <th>0</th>\n",
       "      <td>lower</td>\n",
       "      <td>11436</td>\n",
       "      <td>965</td>\n",
       "      <td>0.084383</td>\n",
       "    </tr>\n",
       "    <tr>\n",
       "      <th>1</th>\n",
       "      <td>mean</td>\n",
       "      <td>3631</td>\n",
       "      <td>299</td>\n",
       "      <td>0.082346</td>\n",
       "    </tr>\n",
       "    <tr>\n",
       "      <th>2</th>\n",
       "      <td>high</td>\n",
       "      <td>6264</td>\n",
       "      <td>468</td>\n",
       "      <td>0.074713</td>\n",
       "    </tr>\n",
       "  </tbody>\n",
       "</table>\n",
       "</div>"
      ],
      "text/plain": [
       "  group_income amount_clients amount_debtor probability_debt\n",
       "0        lower          11436           965         0.084383\n",
       "1         mean           3631           299         0.082346\n",
       "2         high           6264           468         0.074713"
      ]
     },
     "execution_count": 26,
     "metadata": {},
     "output_type": "execute_result"
    }
   ],
   "source": [
    "def fill_table_income_debt(data, data_groups, mean_value, lower_mean, high_mean):\n",
    "    groups = list(data_groups['group_income'])\n",
    "    for i in groups:\n",
    "        if (i == 'lower'):\n",
    "            data_lower = data[data['total_income'] < lower_mean]\n",
    "            amount = data_lower.shape[0]\n",
    "            amount_debtors = data_lower['debt'].sum()\n",
    "            probability_debt = amount_debtors / amount\n",
    "        elif (i == 'mean'):\n",
    "            data_mean = data[(data['total_income'] > lower_mean) & (data['total_income'] < high_mean)]\n",
    "            amount = data_mean.shape[0]\n",
    "            amount_debtors = data_mean['debt'].sum()\n",
    "            probability_debt = amount_debtors / amount\n",
    "        else:\n",
    "            data_high = data[data['total_income'] > high_mean]\n",
    "            amount = data_high.shape[0]\n",
    "            amount_debtors = data_high['debt'].sum()\n",
    "            probability_debt = amount_debtors / amount\n",
    "        data_groups.loc[data_groups['group_income'] == i, 'amount_clients'] = amount\n",
    "        data_groups.loc[data_groups['group_income'] == i, 'amount_debtor'] = amount_debtors\n",
    "        data_groups.loc[data_groups['group_income'] == i, 'probability_debt'] = probability_debt\n",
    "            \n",
    "\n",
    "columns = ['group_income', 'amount_clients', 'amount_debtor', 'probability_debt']\n",
    "data_by_group_income = pd.DataFrame(columns = columns)\n",
    "data_by_group_income['group_income'] = ['lower', 'mean', 'high']\n",
    "fill_table_income_debt(data, data_by_group_income, mean_value_income, lower_bound_mean_value, upper_bound_mean_value)\n",
    "data_by_group_income"
   ]
  },
  {
   "cell_type": "markdown",
   "id": "13796843-3398-49cb-9f46-99970c8702b1",
   "metadata": {},
   "source": [
    "**Вывод: При помощи функции `fill_table_income_debt` мы запонили нашу таблицу по группам заработка\n",
    "Исходя из ее значений можно заявить следующее:**\n",
    ">- Больше всего клиентов с заработком меньше среднего\n",
    ">- Меньше всего должников(по процентному соотношению) в группе в заработком выше среднего\n",
    "\n",
    "**Данные факты вполне очевидны, тем самым исходных параметров(заработок, количетсво должников) достаточно чтобы установить зависимость:**\n",
    "> С ростом заработка количество должников уменьшается"
   ]
  },
  {
   "cell_type": "markdown",
   "id": "34844392",
   "metadata": {},
   "source": [
    "<div class=\"alert alert-info\">\n",
    "\n",
    "#### **Артём:** 💡 Дам тебе совет на будущее, как лучше проводить категоризацию количественных данных. **В этом проекте переделывать ничего не надо, так как заказчик уже предложил свои категории, его стоит проинформировать, что выборки крайне несбалансированны.** Если только как дополнительное исследование.\n",
    "    \n",
    "Сейчас самая маленькая категория в 728 раз меньше самой большой. Это может отразиться на результатах исследования. Когда мы делим на категории количественные данные, то лучше их делать примерно одинаковыми. Для этого можно воспользоваться методом `qcut()`. Пример:\n",
    "    \n",
    "```py\n",
    "pd.qcut(df['total_income'], 4)\n",
    "```\n",
    "    \n",
    "```\n",
    "Name: total_income, Length: 21453, dtype: category\n",
    "Categories (4, interval[float64]): [(20666.999, 107620.0]  (107620.0, 142594.0]  (142594.0, 195818.0]  (195818.0, 2265604.0]]\n",
    "```\n",
    "                                                                                                               \n",
    "Что внутри: \n",
    "    \n",
    "```py\n",
    "pd.qcut(датафрейм['столбец'], количество_категорий)\n",
    "``` \n",
    "    \n",
    "Итого у нас 4 категории:\n",
    "<ul>\n",
    "  <li>меньше 107_620</li>\n",
    "  <li>от 107_620 до 142_594</li>\n",
    "  <li>от 142_594 до 195_818</li>\n",
    "  <li>от 195_818</li>\n",
    "</ul>"
   ]
  },
  {
   "cell_type": "markdown",
   "id": "f44a151b-5040-4dc9-98c7-b23ada9c84b7",
   "metadata": {},
   "source": [
    "#### 3.4 Как разные цели кредита влияют на его возврат в срок?"
   ]
  },
  {
   "cell_type": "markdown",
   "id": "647a4545-f5b5-415e-abd7-d1523f651d2c",
   "metadata": {},
   "source": [
    "**Так как я однажды уже объединял цели кредита под общие категории, то справедливым будет использовать данный столбец \\ \n",
    "Для начала получим все уникальные категории**"
   ]
  },
  {
   "cell_type": "code",
   "execution_count": 27,
   "id": "39525a57-edfb-4551-8f42-e909f2e5fba9",
   "metadata": {},
   "outputs": [
    {
     "data": {
      "text/plain": [
       "array(['операции с недвижимостью', 'операции с автомобилем',\n",
       "       'получение образования', 'проведение свадьбы'], dtype=object)"
      ]
     },
     "execution_count": 27,
     "metadata": {},
     "output_type": "execute_result"
    }
   ],
   "source": [
    "data['purpose_category'].unique()"
   ]
  },
  {
   "cell_type": "code",
   "execution_count": 28,
   "id": "df3b421d-345d-4c97-88c1-9b08f5a83a68",
   "metadata": {},
   "outputs": [
    {
     "data": {
      "text/html": [
       "<div>\n",
       "<style scoped>\n",
       "    .dataframe tbody tr th:only-of-type {\n",
       "        vertical-align: middle;\n",
       "    }\n",
       "\n",
       "    .dataframe tbody tr th {\n",
       "        vertical-align: top;\n",
       "    }\n",
       "\n",
       "    .dataframe thead th {\n",
       "        text-align: right;\n",
       "    }\n",
       "</style>\n",
       "<table border=\"1\" class=\"dataframe\">\n",
       "  <thead>\n",
       "    <tr style=\"text-align: right;\">\n",
       "      <th></th>\n",
       "      <th>purpose_type</th>\n",
       "      <th>amount_clients</th>\n",
       "      <th>amount_debtors</th>\n",
       "      <th>propability_debt</th>\n",
       "    </tr>\n",
       "  </thead>\n",
       "  <tbody>\n",
       "    <tr>\n",
       "      <th>1</th>\n",
       "      <td>операции с автомобилем</td>\n",
       "      <td>4279</td>\n",
       "      <td>400</td>\n",
       "      <td>0.09348</td>\n",
       "    </tr>\n",
       "    <tr>\n",
       "      <th>2</th>\n",
       "      <td>получение образования</td>\n",
       "      <td>3988</td>\n",
       "      <td>369</td>\n",
       "      <td>0.092528</td>\n",
       "    </tr>\n",
       "    <tr>\n",
       "      <th>3</th>\n",
       "      <td>проведение свадьбы</td>\n",
       "      <td>2313</td>\n",
       "      <td>183</td>\n",
       "      <td>0.079118</td>\n",
       "    </tr>\n",
       "    <tr>\n",
       "      <th>0</th>\n",
       "      <td>операции с недвижимостью</td>\n",
       "      <td>10751</td>\n",
       "      <td>780</td>\n",
       "      <td>0.072551</td>\n",
       "    </tr>\n",
       "  </tbody>\n",
       "</table>\n",
       "</div>"
      ],
      "text/plain": [
       "               purpose_type amount_clients amount_debtors propability_debt\n",
       "1    операции с автомобилем           4279            400          0.09348\n",
       "2     получение образования           3988            369         0.092528\n",
       "3        проведение свадьбы           2313            183         0.079118\n",
       "0  операции с недвижимостью          10751            780         0.072551"
      ]
     },
     "execution_count": 28,
     "metadata": {},
     "output_type": "execute_result"
    }
   ],
   "source": [
    "def fill_table_income_debt(data, data_groups):\n",
    "    groups = list(data_groups['purpose_type'])\n",
    "    for i in groups:\n",
    "        data_by_category = data[data['purpose_category'] == i]\n",
    "        amount = data_by_category.shape[0]\n",
    "        amount_debtors = data_by_category['debt'].sum()\n",
    "        propability_debt = amount_debtors / amount\n",
    "        data_groups.loc[data_groups['purpose_type'] == i, 'amount_clients'] = amount\n",
    "        data_groups.loc[data_groups['purpose_type'] == i, 'amount_debtors'] = amount_debtors\n",
    "        data_groups.loc[data_groups['purpose_type'] == i, 'propability_debt'] = propability_debt\n",
    "            \n",
    "\n",
    "categories = list(data['purpose_category'].unique()) \n",
    "columns = ['purpose_type', 'amount_clients', 'amount_debtors', 'propability_debt']\n",
    "data_group_purposes = pd.DataFrame(columns = columns)\n",
    "data_group_purposes['purpose_type'] = categories\n",
    "fill_table_income_debt(data, data_group_purposes)\n",
    "data_group_purposes.sort_values('propability_debt', ascending = False)"
   ]
  },
  {
   "cell_type": "markdown",
   "id": "6dbfbaac-3e04-4fb9-a6e5-cf9532e6ec55",
   "metadata": {},
   "source": [
    "**Вывод: Как и в прошлый раз я создал таблицу с нужными колонками, чтобы было проще взаимодействовать с необходимыми данными \\\n",
    "Как видно из таблицы:** \n",
    ">- `Операции с недвижимостью` являются самыми надежными для банка, возможно это связано с тем, что платежи не такие большие по отношению к заработной плате клиента. А также наверное играет факт важности платежа, например человеку же нужно где-то жить, он выплачивает ипотеку и так далее, скорее всего именно поэтому так происходит \n",
    ">- `Операции со свадьбой` так же являются весьма надежными для банка, я думаю это связано ввиду того, что проведение свадьбы можно отнести к самой дешевой операции среди всех перечисленных. Люди зачастую в состоянии оплатить в срок или вовсе не брать кредит на это (из количества клиентов можно так сказать)\n",
    ">- `Получение образования` имеют больший процент задолжников. Мне кажется это связано в первую очередь со сроком этих платежей а также с некоторыми другими обстоятельствами. Например клиент берет кредит, чтобы платить за учебу в универе, вполне ожидаемо то, что у него нет денег погасить платеж в течение учебы, то есть только с выходом на работу он будет в состоянии выплатить сумму и то зависит от работы, в начале он может получать не так много, потому может стать должником\n",
    ">- `Операции с автомобилем` являются самыми ненадежными для банка. Я считаю это может быть связано с некорректными расчетами клиента при решении приобрести автомобиль(если речь идет о покупке), бывает люди берут кредит на дорогостоющую машину, превышающую десятки зарплат, потому клиент вынужден постоянно жить в экономии и впоследствии, возможно, стать должником. Также если речь идет не о покупке машины, а например ремонт, то такие траты зачастую являются незапланированными. Например если у человека и так есть кредит на машину, а сейчас она нуждается в ремонте, то ему еще тяжелее справиться с платежами, тем самым становлясь должником. "
   ]
  },
  {
   "cell_type": "markdown",
   "id": "b7011d7c",
   "metadata": {},
   "source": [
    "<div class=\"alert alert-success\">\n",
    "\n",
    "**Артём:** 👍 Верно.\n",
    "  \n",
    "</div> "
   ]
  },
  {
   "cell_type": "markdown",
   "id": "5695d2f8-81ad-4f76-9575-0c85c259cd3b",
   "metadata": {},
   "source": [
    "#### 3.5 Приведите возможные причины появления пропусков в исходных данных."
   ]
  },
  {
   "cell_type": "markdown",
   "id": "e674a05b-cb6b-41c4-b36f-eb8acc2f0df6",
   "metadata": {},
   "source": [
    "**Пропуски могли появится из-за человеческого фактора, кто-то забыл указать зарплату, или например из-за расчета на то, что автозаплнение произойдет автоматически. Точно так же можно сказать про пропущенные значения в столбце трудового стажа клиента, вполне возможно клиент не помнит, сколько он работал и где, может быть он имел опыт работы, но не был официально трудоустроен, или быть может данные забыли внести. В целом пропуски в данных это нормальное явление, их появление может быть обусловлено и машинным фактором, быть может есть программа, заполняющая данные, и вот она вполне могла быть не идеальной и привести в возникновению пропусков**"
   ]
  },
  {
   "cell_type": "markdown",
   "id": "fc5a2068",
   "metadata": {},
   "source": [
    "<div class=\"alert alert-success\">\n",
    "\n",
    "**Артём:** 👍 Хорошо.\n",
    "  \n",
    "</div> \n",
    "\n",
    "<div class=\"alert alert-success\">\n",
    "\n",
    "**Артём:**  А какие еще варианты?\n",
    "    \n",
    "</div>\n",
    "<div class=\"alert alert-success\">\n",
    "\n",
    "**Артём:** 👍 Принято."
   ]
  },
  {
   "cell_type": "markdown",
   "id": "2ab1dd6a-7f8f-4212-b778-065b109be53b",
   "metadata": {},
   "source": [
    "#### 3.6 Объясните, почему заполнить пропуски медианным значением — лучшее решение для количественных переменных."
   ]
  },
  {
   "cell_type": "markdown",
   "id": "310b9a56-b9ee-4958-bcc3-769d171be43f",
   "metadata": {},
   "source": [
    "**Решение заполнять пропуски медианным значением является лучшим решением для количественных переменных из-за меньшей чувствительности к изменениям, то есть при добавлении данных или удалении, медиана не будет сильно меняться, чего не скажешь про среднее значение. В ходе исследования мы не раз видели, что при разбиении клиентов по некоторым признакам, мы получали далеко не равнозначные по количеству группы. Если бы мы использовали среднее значение вместо медиан, то это было бы неправильным ввиду того, что мы должны учитывать эти превалирующие группы, потому медиана явно подходит лучше. Среднее значение стоит использовать в том случае, когда при разбиении на признаки мы получаем на разных `концах` примерно одинаковые группы(например если при разбиении клиентов по уровню дохода мы получаем, что клиентов с доходом ниже среднего примерно столько же, сколько клиентов с доходом выше среднего, то использование среднего значения вполне логично и правильно)**"
   ]
  },
  {
   "cell_type": "markdown",
   "id": "b4731510",
   "metadata": {},
   "source": [
    "<div class=\"alert alert-success\">\n",
    "\n",
    "**Артём:**  Не совсем понял про какие изменения речь. Чем медиана отличается от среднего?\n",
    "  \n",
    "</div> \n",
    "<div class=\"alert alert-success\">\n",
    "\n",
    "**Артём:** 👍 Верно."
   ]
  },
  {
   "cell_type": "markdown",
   "id": "5e4cb559-3c6f-4f51-b598-d14a873a508d",
   "metadata": {},
   "source": [
    "### Шаг 4: общий вывод."
   ]
  },
  {
   "cell_type": "markdown",
   "id": "c5842dd4-a117-4886-b1a9-cc73ed0dd87d",
   "metadata": {},
   "source": [
    "**При выполнении данного проекта я научился применять описанные методы в модуле на практике с данными, а также мне удалось выяснить о наличии зависимостей некоторых категорий данных друг от друга, а именно:**\n",
    ">- **Наличие зависимости между количеством детей и возвратом кредита в срок** \\\n",
    "Благодаря произведенному исследованию удалось установить, что действительно, клиенты с большей семьей чаще оказываются должниками, скорее всего это вызвано тем, что большая семья = большие расходы, далеко не каждая семья способна жить без кредитов, тем самым не иметь задолженностей\n",
    ">- **Наличие зависимости между семейным положением и возвратом кредита в срок** \\\n",
    "В данном случае можно заявить, что люди, узаконившие свой брак однажды имеют весьма низкие показатели задолженностей, чего не скажешь о не женатых и о парах в гражданском браке\n",
    ">- **Наличие зависимости между уровнем дохода и возвратом кредита в срок** \\\n",
    "В ходе анализа данных по значениям дохода клиентов удалось установить вполне очевидный факт: \n",
    ">Чем выше доход клиента - тем меньше шанс, что он будет должником для банка\n",
    "\n",
    "**А также мне удалось выяснить как разные цели кредита влияют на его возврат в срок:**\n",
    "> В ходе исследования получилось распределить все цели кредитов по следущим категориям и выделить их важные факты для банка:\\\n",
    ">- `Операции с недвижимостью` являются самыми надежными для банка, возможно это связано с тем, что платежи не такие большие по отношению к заработной плате клиента. А также наверное играет факт важности платежа, например человеку же нужно где-то жить, он выплачивает ипотеку и так далее, скорее всего именно поэтому так происходит \n",
    ">- `Операции со свадьбой` так же являются весьма надежными для банка, я думаю это связано ввиду того, что проведение свадьбы можно отнести к самой дешевой операции среди всех перечисленных. Люди зачастую в состоянии оплатить в срок или вовсе не брать кредит на это (из количества клиентов можно так сказать)\n",
    ">- `Получение образования` имеют больший процент задолжников. Мне кажется это связано в первую очередь со сроком этих платежей а также с некоторыми другими обстоятельствами. Например клиент берет кредит, чтобы платить за учебу в универе, вполне ожидаемо то, что у него нет денег погасить платеж в течение учебы, то есть только с выходом на работу он будет в состоянии выплатить сумму и то зависит от работы, в начале он может получать не так много, потому может стать должником\n",
    ">- `Операции с автомобилем` являются самыми ненадежными для банка. Я считаю это может быть связано с некорректными расчетами клиента при решении приобрести автомобиль(если речь идет о покупке), бывает люди берут кредит на дорогостоющую машину, превышающую десятки зарплат, потому клиент вынужден постоянно жить в экономии и впоследствии, возможно, стать должником. Также если речь идет не о покупке машины, а например ремонт, то такие траты зачастую являются незапланированными. Например если у человека и так есть кредит на машину, а сейчас она нуждается в ремонте, то ему еще тяжелее справиться с платежами, тем самым становлясь должником. "
   ]
  },
  {
   "cell_type": "markdown",
   "id": "0c9ba0ca",
   "metadata": {},
   "source": [
    "<div class=\"alert alert-success\">\n",
    "\n",
    "**Артём:**  Промежуточные выводы будет смотреть старший аналитик, а заказчик будет читать финальный вывод и только его. Добавь информации о полученных результатах по каждому из четырех вопросов, разбей по пунктам, сделай красиво, чтобы было понятно, что проведено настоящее исследование и выводу можно верить. Учитывай для кого проведено исследование, в банковской сфере даже сотые доли процента играют роль, но в нашем можно ограничиться десятыми. Помни, вывод – это лицо дата специалиста. 😉\n",
    "\n",
    "</div>\n",
    "<div class=\"alert alert-success\">\n",
    "\n",
    "**Артём:** 👍 Хороший вывод. Аккуратно, последовательно приятно читать.\n",
    "\n",
    "</div>"
   ]
  },
  {
   "cell_type": "markdown",
   "id": "bb49907b",
   "metadata": {},
   "source": [
    "## 🏁 Итоги ревью\n",
    "<a id=\"results\"></a>\n",
    "[В начало](#start)\n",
    "\n",
    "<div class=\"alert alert-danger\">\n",
    "\n",
    "**Артём:** ❌ Спасибо за работу. Осталось исправить несколько комментариев и можно идти к заказчику. Молодец! 👍\n",
    "    \n",
    "Для удобства, комментарии которые нужно скорректировать я добавил в меню **Contents** слева.\n",
    "    \n",
    "Жду новую версию проекта. 🙂\n",
    "\n",
    "</div>"
   ]
  },
  {
   "cell_type": "markdown",
   "id": "de55989f",
   "metadata": {},
   "source": [
    "<img src=\"https://s19536.pcdn.co/wp-content/uploads/2020/06/Web-Great-Job.jpg\"> \n",
    "<div class=\"alert alert-success\">   \n",
    "\n",
    "**Артём:** ✌️ Спасибо за работу и внесенные корректировки! Критических замечаний нет.\n",
    "\n",
    "Поздравляю, **проект принят!** 🥳 🎉 Ты молодец!\n",
    "\n",
    "Желаю тебе успехов в дальнейшем обучении. 😉\n",
    "    \n",
    "---\n",
    "    \n",
    "#### 📖 **Полезные ссылки**\n",
    "\n",
    "* [Работа в Яндексе](https://yandex.ru/jobs/pages/analytics_interview?ysclid=l84s63fs1g790141490)\n",
    "* [Настройте свой Jupyter Notebook правильно](https://medium.com/nuances-of-programming/настройте-свой-jupyter-notebook-правильно-faef14c89434)    \n",
    "* [Краткое руководство по Маркдауну](https://paulradzkov.com/2014/markdown_cheatsheet/?)\n",
    "* [PEP 8 – Style Guide for Python Code](https://www.python.org/dev/peps/pep-0008/)    \n",
    "* [Обработка пропусков в данных](https://loginom.ru/blog/missing)  \n",
    "* [Разделение данных с помощью qcut и cut в Pandas](https://dfedorov.spb.ru/pandas/Разделение%20данных%20в%20Pandas%20с%20помощью%20qcut%20и%20cut.html?)  \n",
    "* [Официальная документаци метода qcut](https://pandas.pydata.org/pandas-docs/stable/reference/api/pandas.qcut.html)  \n",
    "* [Подробное руководство по группировке и агрегированию с помощью pandas](https://dfedorov.spb.ru/pandas/Подробное%20руководство%20по%20группировке%20и%20агрегированию%20с%20помощью%20pandas.html?ysclid=lcmm6rtg2w602526506)\n",
    "* [Шпаргалка по визуализации данных в Python с помощью Plotly](https://habr.com/ru/articles/502958/) \n",
    "* [Задачки SQL](https://habr.com/ru/company/dcmiran/blog/500360/)    \n",
    "* [7 cайтов для оттачивания навыка написания SQL запросов на 2020 год](https://techrocks.ru/2019/11/22/7-sites-to-perfect-sql-query-writing-skills/)\n",
    "* [Главред помогает очистить текст от словесного мусора, проверяет на соответствие информационному стилю.](https://glvrd.ru)\n",
    "\n",
    "</div>    "
   ]
  },
  {
   "cell_type": "code",
   "execution_count": null,
   "id": "3d1ecfef",
   "metadata": {},
   "outputs": [],
   "source": []
  }
 ],
 "metadata": {
  "ExecuteTimeLog": [
   {
    "duration": 61,
    "start_time": "2023-10-08T16:09:46.865Z"
   },
   {
    "duration": 480,
    "start_time": "2023-10-08T16:09:50.539Z"
   },
   {
    "duration": 147,
    "start_time": "2023-10-08T16:09:51.666Z"
   },
   {
    "duration": 27,
    "start_time": "2023-10-08T16:10:04.245Z"
   },
   {
    "duration": 18,
    "start_time": "2023-10-08T16:10:23.136Z"
   },
   {
    "duration": 12,
    "start_time": "2023-10-08T16:10:50.721Z"
   },
   {
    "duration": 5,
    "start_time": "2023-10-08T16:14:26.725Z"
   },
   {
    "duration": 7,
    "start_time": "2023-10-08T16:14:31.210Z"
   },
   {
    "duration": 6,
    "start_time": "2023-10-08T16:15:01.730Z"
   },
   {
    "duration": 24,
    "start_time": "2023-10-08T16:17:53.824Z"
   },
   {
    "duration": 6,
    "start_time": "2023-10-08T16:18:16.033Z"
   },
   {
    "duration": 4,
    "start_time": "2023-10-08T16:19:00.944Z"
   },
   {
    "duration": 7,
    "start_time": "2023-10-08T16:19:04.524Z"
   },
   {
    "duration": 24,
    "start_time": "2023-10-08T16:20:46.637Z"
   },
   {
    "duration": 35,
    "start_time": "2023-10-08T16:20:53.483Z"
   },
   {
    "duration": 24,
    "start_time": "2023-10-08T16:21:37.222Z"
   },
   {
    "duration": 25,
    "start_time": "2023-10-08T16:21:47.363Z"
   },
   {
    "duration": 28,
    "start_time": "2023-10-08T16:22:04.126Z"
   },
   {
    "duration": 6,
    "start_time": "2023-10-08T16:22:11.226Z"
   },
   {
    "duration": 9,
    "start_time": "2023-10-08T16:22:14.936Z"
   },
   {
    "duration": 5,
    "start_time": "2023-10-08T16:24:57.535Z"
   },
   {
    "duration": 2985,
    "start_time": "2023-10-08T16:25:18.700Z"
   },
   {
    "duration": 1835,
    "start_time": "2023-10-08T16:26:31.568Z"
   },
   {
    "duration": 5,
    "start_time": "2023-10-08T16:26:37.372Z"
   },
   {
    "duration": 7,
    "start_time": "2023-10-08T16:27:20.990Z"
   },
   {
    "duration": 14,
    "start_time": "2023-10-08T16:27:36.628Z"
   },
   {
    "duration": 14,
    "start_time": "2023-10-08T16:27:45.996Z"
   },
   {
    "duration": 77,
    "start_time": "2023-10-08T16:28:03.291Z"
   },
   {
    "duration": 1554,
    "start_time": "2023-10-08T16:28:10.743Z"
   },
   {
    "duration": 2928,
    "start_time": "2023-10-08T16:28:23.586Z"
   },
   {
    "duration": 81,
    "start_time": "2023-10-08T16:30:55.190Z"
   },
   {
    "duration": 6,
    "start_time": "2023-10-08T16:30:59.058Z"
   },
   {
    "duration": 4,
    "start_time": "2023-10-08T16:31:10.390Z"
   },
   {
    "duration": 8,
    "start_time": "2023-10-08T16:31:18.379Z"
   },
   {
    "duration": 8,
    "start_time": "2023-10-08T16:31:41.697Z"
   },
   {
    "duration": 6,
    "start_time": "2023-10-08T16:32:16.850Z"
   },
   {
    "duration": 1880,
    "start_time": "2023-10-08T16:32:28.463Z"
   },
   {
    "duration": 15,
    "start_time": "2023-10-08T16:32:36.829Z"
   },
   {
    "duration": 5,
    "start_time": "2023-10-08T16:33:05.594Z"
   },
   {
    "duration": 9,
    "start_time": "2023-10-08T16:33:09.729Z"
   },
   {
    "duration": 9,
    "start_time": "2023-10-08T16:33:14.921Z"
   },
   {
    "duration": 12,
    "start_time": "2023-10-08T16:33:17.629Z"
   },
   {
    "duration": 10,
    "start_time": "2023-10-08T16:33:21.221Z"
   },
   {
    "duration": 9,
    "start_time": "2023-10-08T16:33:43.030Z"
   },
   {
    "duration": 8,
    "start_time": "2023-10-08T16:33:50.589Z"
   },
   {
    "duration": 2760,
    "start_time": "2023-10-08T16:36:10.117Z"
   },
   {
    "duration": 8,
    "start_time": "2023-10-08T16:36:14.966Z"
   },
   {
    "duration": 11,
    "start_time": "2023-10-08T16:38:13.743Z"
   },
   {
    "duration": 11,
    "start_time": "2023-10-08T16:39:13.292Z"
   },
   {
    "duration": 10,
    "start_time": "2023-10-08T16:39:44.042Z"
   },
   {
    "duration": 9,
    "start_time": "2023-10-08T16:39:54.228Z"
   },
   {
    "duration": 12,
    "start_time": "2023-10-08T16:40:34.566Z"
   },
   {
    "duration": 13,
    "start_time": "2023-10-08T16:40:53.880Z"
   },
   {
    "duration": 75,
    "start_time": "2023-10-08T16:47:52.488Z"
   },
   {
    "duration": 84,
    "start_time": "2023-10-08T16:47:55.551Z"
   },
   {
    "duration": 15,
    "start_time": "2023-10-08T16:48:01.865Z"
   },
   {
    "duration": 7,
    "start_time": "2023-10-08T16:48:04.070Z"
   },
   {
    "duration": 0,
    "start_time": "2023-10-08T16:51:42.936Z"
   },
   {
    "duration": 0,
    "start_time": "2023-10-08T16:52:16.856Z"
   },
   {
    "duration": 17507,
    "start_time": "2023-10-08T16:52:17.284Z"
   },
   {
    "duration": 2019,
    "start_time": "2023-10-08T16:52:38.627Z"
   },
   {
    "duration": 0,
    "start_time": "2023-10-08T16:53:14.589Z"
   },
   {
    "duration": 0,
    "start_time": "2023-10-08T16:53:53.468Z"
   },
   {
    "duration": 21,
    "start_time": "2023-10-08T16:53:54.372Z"
   },
   {
    "duration": 23,
    "start_time": "2023-10-08T16:54:11.921Z"
   },
   {
    "duration": 27,
    "start_time": "2023-10-08T16:55:37.509Z"
   },
   {
    "duration": 0,
    "start_time": "2023-10-08T16:56:53.071Z"
   },
   {
    "duration": 43455,
    "start_time": "2023-10-08T16:56:55.790Z"
   },
   {
    "duration": 2045,
    "start_time": "2023-10-08T16:57:40.920Z"
   },
   {
    "duration": 1798,
    "start_time": "2023-10-08T16:58:23.786Z"
   },
   {
    "duration": 16,
    "start_time": "2023-10-08T16:58:46.050Z"
   },
   {
    "duration": 1863,
    "start_time": "2023-10-08T17:00:49.687Z"
   },
   {
    "duration": 2064,
    "start_time": "2023-10-08T17:01:16.173Z"
   },
   {
    "duration": 94,
    "start_time": "2023-10-08T17:01:50.530Z"
   },
   {
    "duration": 1863,
    "start_time": "2023-10-08T17:01:54.666Z"
   },
   {
    "duration": 1819,
    "start_time": "2023-10-08T17:02:08.108Z"
   },
   {
    "duration": 7,
    "start_time": "2023-10-08T17:07:27.906Z"
   },
   {
    "duration": 4,
    "start_time": "2023-10-08T17:07:57.799Z"
   },
   {
    "duration": 9,
    "start_time": "2023-10-08T17:08:31.500Z"
   },
   {
    "duration": 25,
    "start_time": "2023-10-08T17:10:06.948Z"
   },
   {
    "duration": 10,
    "start_time": "2023-10-08T17:10:19.689Z"
   },
   {
    "duration": 11,
    "start_time": "2023-10-08T17:10:22.503Z"
   },
   {
    "duration": 9,
    "start_time": "2023-10-08T17:10:31.589Z"
   },
   {
    "duration": 24,
    "start_time": "2023-10-08T17:10:35.900Z"
   },
   {
    "duration": 10,
    "start_time": "2023-10-08T17:11:11.585Z"
   },
   {
    "duration": 82,
    "start_time": "2023-10-08T17:13:35.263Z"
   },
   {
    "duration": 1839,
    "start_time": "2023-10-08T17:14:01.366Z"
   },
   {
    "duration": 1799,
    "start_time": "2023-10-08T17:14:05.965Z"
   },
   {
    "duration": 1750,
    "start_time": "2023-10-08T17:16:40.470Z"
   },
   {
    "duration": 2068,
    "start_time": "2023-10-08T17:16:52.489Z"
   },
   {
    "duration": 24,
    "start_time": "2023-10-08T17:19:47.440Z"
   },
   {
    "duration": 8,
    "start_time": "2023-10-08T17:20:12.517Z"
   },
   {
    "duration": 25,
    "start_time": "2023-10-08T17:20:18.725Z"
   },
   {
    "duration": 27,
    "start_time": "2023-10-08T17:20:36.019Z"
   },
   {
    "duration": 11,
    "start_time": "2023-10-08T17:20:43.090Z"
   },
   {
    "duration": 23,
    "start_time": "2023-10-08T17:20:45.276Z"
   },
   {
    "duration": 24,
    "start_time": "2023-10-08T17:21:08.146Z"
   },
   {
    "duration": 53,
    "start_time": "2023-10-08T17:21:25.102Z"
   },
   {
    "duration": 454,
    "start_time": "2023-10-08T17:21:38.235Z"
   },
   {
    "duration": 86,
    "start_time": "2023-10-08T17:21:38.692Z"
   },
   {
    "duration": 30,
    "start_time": "2023-10-08T17:21:38.780Z"
   },
   {
    "duration": 22,
    "start_time": "2023-10-08T17:21:38.812Z"
   },
   {
    "duration": 15,
    "start_time": "2023-10-08T17:21:38.856Z"
   },
   {
    "duration": 23,
    "start_time": "2023-10-08T17:21:44.085Z"
   },
   {
    "duration": 32,
    "start_time": "2023-10-08T17:23:09.446Z"
   },
   {
    "duration": 17,
    "start_time": "2023-10-08T17:23:15.917Z"
   },
   {
    "duration": 10,
    "start_time": "2023-10-08T17:23:29.566Z"
   },
   {
    "duration": 10,
    "start_time": "2023-10-08T17:23:31.816Z"
   },
   {
    "duration": 15,
    "start_time": "2023-10-08T17:23:38.142Z"
   },
   {
    "duration": 7,
    "start_time": "2023-10-08T17:25:05.898Z"
   },
   {
    "duration": 8,
    "start_time": "2023-10-08T17:25:36.814Z"
   },
   {
    "duration": 5,
    "start_time": "2023-10-08T17:28:12.520Z"
   },
   {
    "duration": 14,
    "start_time": "2023-10-08T17:28:45.559Z"
   },
   {
    "duration": 6,
    "start_time": "2023-10-08T17:29:21.227Z"
   },
   {
    "duration": 20,
    "start_time": "2023-10-08T17:30:49.758Z"
   },
   {
    "duration": 7,
    "start_time": "2023-10-08T17:31:06.053Z"
   },
   {
    "duration": 75,
    "start_time": "2023-10-08T17:32:42.130Z"
   },
   {
    "duration": 2922,
    "start_time": "2023-10-08T17:32:46.676Z"
   },
   {
    "duration": 1739,
    "start_time": "2023-10-08T17:33:42.887Z"
   },
   {
    "duration": 3936,
    "start_time": "2023-10-08T17:33:53.570Z"
   },
   {
    "duration": 20886,
    "start_time": "2023-10-08T17:34:45.007Z"
   },
   {
    "duration": 18,
    "start_time": "2023-10-08T17:35:34.384Z"
   },
   {
    "duration": 23,
    "start_time": "2023-10-08T17:35:48.816Z"
   },
   {
    "duration": 17,
    "start_time": "2023-10-08T17:35:58.473Z"
   },
   {
    "duration": 0,
    "start_time": "2023-10-08T17:37:05.500Z"
   },
   {
    "duration": 6954,
    "start_time": "2023-10-08T17:39:36.160Z"
   },
   {
    "duration": 359,
    "start_time": "2023-10-08T17:40:10.184Z"
   },
   {
    "duration": 349,
    "start_time": "2023-10-08T17:42:32.437Z"
   },
   {
    "duration": 77,
    "start_time": "2023-10-08T17:42:36.759Z"
   },
   {
    "duration": 14,
    "start_time": "2023-10-08T17:43:18.329Z"
   },
   {
    "duration": 103,
    "start_time": "2023-10-08T17:44:18.136Z"
   },
   {
    "duration": 1744,
    "start_time": "2023-10-08T17:44:22.864Z"
   },
   {
    "duration": 2013,
    "start_time": "2023-10-08T17:44:27.974Z"
   },
   {
    "duration": 1939,
    "start_time": "2023-10-08T17:44:38.046Z"
   },
   {
    "duration": 17,
    "start_time": "2023-10-08T17:44:59.993Z"
   },
   {
    "duration": 48,
    "start_time": "2023-10-08T17:46:39.017Z"
   },
   {
    "duration": 399,
    "start_time": "2023-10-08T17:47:24.699Z"
   },
   {
    "duration": 416,
    "start_time": "2023-10-08T17:47:32.713Z"
   },
   {
    "duration": 423,
    "start_time": "2023-10-08T17:49:48.423Z"
   },
   {
    "duration": 1860,
    "start_time": "2023-10-08T17:50:24.453Z"
   },
   {
    "duration": 1859,
    "start_time": "2023-10-08T17:51:55.171Z"
   },
   {
    "duration": 1860,
    "start_time": "2023-10-08T17:52:40.051Z"
   },
   {
    "duration": 4392,
    "start_time": "2023-10-08T17:52:59.926Z"
   },
   {
    "duration": 12,
    "start_time": "2023-10-08T17:55:49.902Z"
   },
   {
    "duration": 13,
    "start_time": "2023-10-08T17:56:01.805Z"
   },
   {
    "duration": 5495,
    "start_time": "2023-10-08T17:56:14.088Z"
   },
   {
    "duration": 5253,
    "start_time": "2023-10-08T17:57:16.109Z"
   },
   {
    "duration": 5148,
    "start_time": "2023-10-08T17:58:50.488Z"
   },
   {
    "duration": 17,
    "start_time": "2023-10-08T17:59:17.291Z"
   },
   {
    "duration": 8,
    "start_time": "2023-10-08T17:59:32.581Z"
   },
   {
    "duration": 9,
    "start_time": "2023-10-08T17:59:49.319Z"
   },
   {
    "duration": 13,
    "start_time": "2023-10-08T18:00:01.687Z"
   },
   {
    "duration": 18,
    "start_time": "2023-10-08T18:00:20.016Z"
   },
   {
    "duration": 117,
    "start_time": "2023-10-08T18:00:28.819Z"
   },
   {
    "duration": 50,
    "start_time": "2023-10-08T18:00:54.402Z"
   },
   {
    "duration": 449,
    "start_time": "2023-10-08T18:00:57.602Z"
   },
   {
    "duration": 100,
    "start_time": "2023-10-08T18:00:58.540Z"
   },
   {
    "duration": 25,
    "start_time": "2023-10-08T18:01:00.711Z"
   },
   {
    "duration": 17,
    "start_time": "2023-10-08T18:01:05.200Z"
   },
   {
    "duration": 16,
    "start_time": "2023-10-08T18:01:08.937Z"
   },
   {
    "duration": 40,
    "start_time": "2023-10-08T18:01:26.254Z"
   },
   {
    "duration": 5030,
    "start_time": "2023-10-08T18:01:39.349Z"
   },
   {
    "duration": 294,
    "start_time": "2023-10-08T18:02:08.714Z"
   },
   {
    "duration": 3425,
    "start_time": "2023-10-08T18:02:40.486Z"
   },
   {
    "duration": 19,
    "start_time": "2023-10-08T18:04:07.085Z"
   },
   {
    "duration": 18,
    "start_time": "2023-10-08T18:04:50.582Z"
   },
   {
    "duration": 3869,
    "start_time": "2023-10-08T18:05:05.925Z"
   },
   {
    "duration": 3755,
    "start_time": "2023-10-08T18:05:13.975Z"
   },
   {
    "duration": 31,
    "start_time": "2023-10-08T18:05:24.550Z"
   },
   {
    "duration": 16,
    "start_time": "2023-10-08T18:05:46.303Z"
   },
   {
    "duration": 15,
    "start_time": "2023-10-08T18:07:12.538Z"
   },
   {
    "duration": 44,
    "start_time": "2023-10-08T18:10:35.053Z"
   },
   {
    "duration": 6936,
    "start_time": "2023-10-08T18:13:03.586Z"
   },
   {
    "duration": 107,
    "start_time": "2023-10-08T18:15:11.795Z"
   },
   {
    "duration": 102,
    "start_time": "2023-10-08T18:15:15.786Z"
   },
   {
    "duration": 116,
    "start_time": "2023-10-08T18:15:30.123Z"
   },
   {
    "duration": 14,
    "start_time": "2023-10-08T18:15:43.214Z"
   },
   {
    "duration": 16,
    "start_time": "2023-10-08T18:17:42.383Z"
   },
   {
    "duration": 57,
    "start_time": "2023-10-08T18:17:51.878Z"
   },
   {
    "duration": 447,
    "start_time": "2023-10-08T18:18:14.338Z"
   },
   {
    "duration": 478,
    "start_time": "2023-10-08T18:18:18.738Z"
   },
   {
    "duration": 10,
    "start_time": "2023-10-08T18:49:58.678Z"
   },
   {
    "duration": 13,
    "start_time": "2023-10-08T18:50:31.269Z"
   },
   {
    "duration": 885,
    "start_time": "2023-10-08T18:51:40.413Z"
   },
   {
    "duration": 974,
    "start_time": "2023-10-08T18:51:57.496Z"
   },
   {
    "duration": 982,
    "start_time": "2023-10-08T18:53:08.659Z"
   },
   {
    "duration": 11,
    "start_time": "2023-10-08T18:53:24.672Z"
   },
   {
    "duration": 4,
    "start_time": "2023-10-08T18:53:36.582Z"
   },
   {
    "duration": 13,
    "start_time": "2023-10-08T18:53:39.013Z"
   },
   {
    "duration": 9,
    "start_time": "2023-10-08T18:55:16.332Z"
   },
   {
    "duration": 9,
    "start_time": "2023-10-08T18:55:21.616Z"
   },
   {
    "duration": 12,
    "start_time": "2023-10-08T18:55:38.284Z"
   },
   {
    "duration": 4,
    "start_time": "2023-10-08T18:58:40.596Z"
   },
   {
    "duration": 6,
    "start_time": "2023-10-08T18:59:18.287Z"
   },
   {
    "duration": 16,
    "start_time": "2023-10-08T18:59:44.644Z"
   },
   {
    "duration": 25,
    "start_time": "2023-10-08T19:00:07.900Z"
   },
   {
    "duration": 84,
    "start_time": "2023-10-08T19:03:20.565Z"
   },
   {
    "duration": 4,
    "start_time": "2023-10-08T19:03:31.884Z"
   },
   {
    "duration": 23,
    "start_time": "2023-10-08T19:03:36.658Z"
   },
   {
    "duration": 4,
    "start_time": "2023-10-08T19:04:10.402Z"
   },
   {
    "duration": 1819,
    "start_time": "2023-10-08T19:05:25.155Z"
   },
   {
    "duration": 1787,
    "start_time": "2023-10-08T19:06:19.012Z"
   },
   {
    "duration": 1813,
    "start_time": "2023-10-08T19:06:27.479Z"
   },
   {
    "duration": 1720,
    "start_time": "2023-10-08T19:06:58.716Z"
   },
   {
    "duration": 1835,
    "start_time": "2023-10-08T19:07:44.416Z"
   },
   {
    "duration": 1856,
    "start_time": "2023-10-08T19:08:07.552Z"
   },
   {
    "duration": 17,
    "start_time": "2023-10-08T19:08:39.751Z"
   },
   {
    "duration": 18,
    "start_time": "2023-10-08T19:09:29.234Z"
   },
   {
    "duration": 18,
    "start_time": "2023-10-08T19:09:47.574Z"
   },
   {
    "duration": 16,
    "start_time": "2023-10-08T19:10:07.200Z"
   },
   {
    "duration": 3,
    "start_time": "2023-10-08T19:10:17.987Z"
   },
   {
    "duration": 105,
    "start_time": "2023-10-08T19:10:17.992Z"
   },
   {
    "duration": 18,
    "start_time": "2023-10-08T19:10:18.100Z"
   },
   {
    "duration": 44,
    "start_time": "2023-10-08T19:10:18.121Z"
   },
   {
    "duration": 12,
    "start_time": "2023-10-08T19:10:18.168Z"
   },
   {
    "duration": 1121,
    "start_time": "2023-10-08T19:10:18.182Z"
   },
   {
    "duration": 4,
    "start_time": "2023-10-08T19:10:19.305Z"
   },
   {
    "duration": 25,
    "start_time": "2023-10-08T19:10:19.311Z"
   },
   {
    "duration": 5,
    "start_time": "2023-10-08T19:10:19.338Z"
   },
   {
    "duration": 26,
    "start_time": "2023-10-08T19:10:19.357Z"
   },
   {
    "duration": 4,
    "start_time": "2023-10-08T19:10:19.385Z"
   },
   {
    "duration": 17,
    "start_time": "2023-10-08T19:10:29.572Z"
   },
   {
    "duration": 17,
    "start_time": "2023-10-08T19:10:56.584Z"
   },
   {
    "duration": 18,
    "start_time": "2023-10-08T19:11:16.293Z"
   },
   {
    "duration": 434,
    "start_time": "2023-10-08T19:11:34.862Z"
   },
   {
    "duration": 86,
    "start_time": "2023-10-08T19:11:35.299Z"
   },
   {
    "duration": 28,
    "start_time": "2023-10-08T19:11:35.387Z"
   },
   {
    "duration": 47,
    "start_time": "2023-10-08T19:11:35.417Z"
   },
   {
    "duration": 20,
    "start_time": "2023-10-08T19:11:35.466Z"
   },
   {
    "duration": 978,
    "start_time": "2023-10-08T19:11:35.489Z"
   },
   {
    "duration": 4,
    "start_time": "2023-10-08T19:11:36.469Z"
   },
   {
    "duration": 11,
    "start_time": "2023-10-08T19:11:36.475Z"
   },
   {
    "duration": 4,
    "start_time": "2023-10-08T19:11:36.489Z"
   },
   {
    "duration": 35,
    "start_time": "2023-10-08T19:11:36.495Z"
   },
   {
    "duration": 4,
    "start_time": "2023-10-08T19:11:36.556Z"
   },
   {
    "duration": 8,
    "start_time": "2023-10-08T19:11:52.957Z"
   },
   {
    "duration": 10,
    "start_time": "2023-10-08T19:11:58.243Z"
   },
   {
    "duration": 1817,
    "start_time": "2023-10-08T19:12:44.040Z"
   },
   {
    "duration": 1799,
    "start_time": "2023-10-08T19:13:34.820Z"
   },
   {
    "duration": 1829,
    "start_time": "2023-10-08T19:14:23.316Z"
   },
   {
    "duration": 29,
    "start_time": "2023-10-08T19:15:29.770Z"
   },
   {
    "duration": 24,
    "start_time": "2023-10-08T19:15:42.774Z"
   },
   {
    "duration": 8,
    "start_time": "2023-10-08T19:16:00.088Z"
   },
   {
    "duration": 28,
    "start_time": "2023-10-08T19:16:07.858Z"
   },
   {
    "duration": 1688,
    "start_time": "2023-10-08T19:16:25.644Z"
   },
   {
    "duration": 3,
    "start_time": "2023-10-08T19:16:34.444Z"
   },
   {
    "duration": 84,
    "start_time": "2023-10-08T19:16:35.610Z"
   },
   {
    "duration": 16,
    "start_time": "2023-10-08T19:16:37.719Z"
   },
   {
    "duration": 17,
    "start_time": "2023-10-08T19:16:40.931Z"
   },
   {
    "duration": 12,
    "start_time": "2023-10-08T19:16:44.157Z"
   },
   {
    "duration": 1002,
    "start_time": "2023-10-08T19:16:46.679Z"
   },
   {
    "duration": 5,
    "start_time": "2023-10-08T19:16:50.484Z"
   },
   {
    "duration": 11,
    "start_time": "2023-10-08T19:16:51.446Z"
   },
   {
    "duration": 4,
    "start_time": "2023-10-08T19:16:54.181Z"
   },
   {
    "duration": 24,
    "start_time": "2023-10-08T19:16:55.212Z"
   },
   {
    "duration": 4,
    "start_time": "2023-10-08T19:16:57.553Z"
   },
   {
    "duration": 1828,
    "start_time": "2023-10-08T19:17:08.893Z"
   },
   {
    "duration": 1860,
    "start_time": "2023-10-08T19:17:52.327Z"
   },
   {
    "duration": 5,
    "start_time": "2023-10-08T19:18:32.882Z"
   },
   {
    "duration": 1960,
    "start_time": "2023-10-08T19:19:43.009Z"
   },
   {
    "duration": 1678,
    "start_time": "2023-10-08T19:23:26.819Z"
   },
   {
    "duration": 11,
    "start_time": "2023-10-08T19:24:14.559Z"
   },
   {
    "duration": 12,
    "start_time": "2023-10-08T19:24:33.993Z"
   },
   {
    "duration": 1020,
    "start_time": "2023-10-08T19:24:56.146Z"
   },
   {
    "duration": 229,
    "start_time": "2023-10-08T19:26:34.444Z"
   },
   {
    "duration": 14,
    "start_time": "2023-10-08T19:27:42.762Z"
   },
   {
    "duration": 12,
    "start_time": "2023-10-08T19:27:49.982Z"
   },
   {
    "duration": 4,
    "start_time": "2023-10-08T19:28:35.973Z"
   },
   {
    "duration": 6,
    "start_time": "2023-10-08T19:28:56.783Z"
   },
   {
    "duration": 14,
    "start_time": "2023-10-08T19:30:10.936Z"
   },
   {
    "duration": 21,
    "start_time": "2023-10-08T19:30:35.516Z"
   },
   {
    "duration": 10,
    "start_time": "2023-10-08T19:31:06.994Z"
   },
   {
    "duration": 10,
    "start_time": "2023-10-08T19:31:22.411Z"
   },
   {
    "duration": 33,
    "start_time": "2023-10-08T19:32:58.111Z"
   },
   {
    "duration": 36,
    "start_time": "2023-10-08T19:33:10.714Z"
   },
   {
    "duration": 21,
    "start_time": "2023-10-08T19:33:21.209Z"
   },
   {
    "duration": 103,
    "start_time": "2023-10-08T19:37:34.378Z"
   },
   {
    "duration": 13,
    "start_time": "2023-10-08T19:37:38.779Z"
   },
   {
    "duration": 29,
    "start_time": "2023-10-08T19:37:56.598Z"
   },
   {
    "duration": 7,
    "start_time": "2023-10-08T19:38:41.330Z"
   },
   {
    "duration": 26,
    "start_time": "2023-10-08T19:46:46.454Z"
   },
   {
    "duration": 10,
    "start_time": "2023-10-08T19:47:12.934Z"
   },
   {
    "duration": 1316,
    "start_time": "2023-10-12T15:25:04.487Z"
   },
   {
    "duration": 75,
    "start_time": "2023-10-12T15:25:05.805Z"
   },
   {
    "duration": 19,
    "start_time": "2023-10-12T15:25:05.881Z"
   },
   {
    "duration": 34,
    "start_time": "2023-10-12T15:25:05.902Z"
   },
   {
    "duration": 30,
    "start_time": "2023-10-12T15:25:05.938Z"
   },
   {
    "duration": 1027,
    "start_time": "2023-10-12T15:25:05.969Z"
   },
   {
    "duration": 3,
    "start_time": "2023-10-12T15:25:06.997Z"
   },
   {
    "duration": 43,
    "start_time": "2023-10-12T15:25:07.002Z"
   },
   {
    "duration": 11,
    "start_time": "2023-10-12T15:25:07.047Z"
   },
   {
    "duration": 38,
    "start_time": "2023-10-12T15:25:07.060Z"
   },
   {
    "duration": 32,
    "start_time": "2023-10-12T15:25:07.099Z"
   },
   {
    "duration": 228,
    "start_time": "2023-10-12T15:25:07.133Z"
   },
   {
    "duration": 10,
    "start_time": "2023-10-12T15:25:07.363Z"
   },
   {
    "duration": 17,
    "start_time": "2023-10-12T15:25:07.374Z"
   },
   {
    "duration": 28,
    "start_time": "2023-10-12T15:25:07.392Z"
   },
   {
    "duration": 31,
    "start_time": "2023-10-12T15:25:07.422Z"
   },
   {
    "duration": 16,
    "start_time": "2023-10-12T15:25:07.455Z"
   },
   {
    "duration": 3,
    "start_time": "2023-10-12T15:25:07.472Z"
   },
   {
    "duration": 46,
    "start_time": "2023-10-12T15:25:07.476Z"
   },
   {
    "duration": 5,
    "start_time": "2023-10-12T15:25:07.524Z"
   },
   {
    "duration": 21,
    "start_time": "2023-10-12T15:25:07.531Z"
   },
   {
    "duration": 48,
    "start_time": "2023-10-12T15:25:07.554Z"
   },
   {
    "duration": 10,
    "start_time": "2023-10-12T15:25:07.604Z"
   },
   {
    "duration": 34,
    "start_time": "2023-10-12T15:25:07.615Z"
   },
   {
    "duration": 4,
    "start_time": "2023-10-12T15:25:07.651Z"
   },
   {
    "duration": 40,
    "start_time": "2023-10-12T15:25:07.656Z"
   },
   {
    "duration": 12,
    "start_time": "2023-10-12T15:25:07.697Z"
   },
   {
    "duration": 30,
    "start_time": "2023-10-12T15:25:07.711Z"
   },
   {
    "duration": 1432,
    "start_time": "2023-10-13T16:03:27.956Z"
   },
   {
    "duration": 207,
    "start_time": "2023-10-13T16:03:29.390Z"
   },
   {
    "duration": 20,
    "start_time": "2023-10-13T16:03:29.599Z"
   },
   {
    "duration": 34,
    "start_time": "2023-10-13T16:03:29.621Z"
   },
   {
    "duration": 40,
    "start_time": "2023-10-13T16:03:29.657Z"
   },
   {
    "duration": 1017,
    "start_time": "2023-10-13T16:03:29.699Z"
   },
   {
    "duration": 7,
    "start_time": "2023-10-13T16:03:30.718Z"
   },
   {
    "duration": 100,
    "start_time": "2023-10-13T16:03:30.726Z"
   },
   {
    "duration": 119,
    "start_time": "2023-10-13T16:03:30.828Z"
   },
   {
    "duration": 288,
    "start_time": "2023-10-13T16:03:30.951Z"
   },
   {
    "duration": 128,
    "start_time": "2023-10-13T16:03:31.241Z"
   },
   {
    "duration": 384,
    "start_time": "2023-10-13T16:03:31.371Z"
   },
   {
    "duration": 17,
    "start_time": "2023-10-13T16:03:31.758Z"
   },
   {
    "duration": 34,
    "start_time": "2023-10-13T16:03:31.778Z"
   },
   {
    "duration": 50,
    "start_time": "2023-10-13T16:03:31.814Z"
   },
   {
    "duration": 47,
    "start_time": "2023-10-13T16:03:31.866Z"
   },
   {
    "duration": 56,
    "start_time": "2023-10-13T16:03:31.914Z"
   },
   {
    "duration": 17,
    "start_time": "2023-10-13T16:03:31.972Z"
   },
   {
    "duration": 57,
    "start_time": "2023-10-13T16:03:31.991Z"
   },
   {
    "duration": 19,
    "start_time": "2023-10-13T16:03:32.050Z"
   },
   {
    "duration": 29,
    "start_time": "2023-10-13T16:03:32.071Z"
   },
   {
    "duration": 70,
    "start_time": "2023-10-13T16:03:32.102Z"
   },
   {
    "duration": 14,
    "start_time": "2023-10-13T16:03:32.174Z"
   },
   {
    "duration": 52,
    "start_time": "2023-10-13T16:03:32.190Z"
   },
   {
    "duration": 20,
    "start_time": "2023-10-13T16:03:32.244Z"
   },
   {
    "duration": 44,
    "start_time": "2023-10-13T16:03:32.266Z"
   },
   {
    "duration": 143,
    "start_time": "2023-10-13T16:03:32.312Z"
   },
   {
    "duration": 125,
    "start_time": "2023-10-13T16:03:32.458Z"
   }
  ],
  "colab": {
   "provenance": []
  },
  "kernelspec": {
   "display_name": "Python 3 (ipykernel)",
   "language": "python",
   "name": "python3"
  },
  "language_info": {
   "codemirror_mode": {
    "name": "ipython",
    "version": 3
   },
   "file_extension": ".py",
   "mimetype": "text/x-python",
   "name": "python",
   "nbconvert_exporter": "python",
   "pygments_lexer": "ipython3",
   "version": "3.9.5"
  },
  "toc": {
   "base_numbering": 1,
   "nav_menu": {},
   "number_sections": true,
   "sideBar": true,
   "skip_h1_title": true,
   "title_cell": "Table of Contents",
   "title_sidebar": "Contents",
   "toc_cell": false,
   "toc_position": {},
   "toc_section_display": true,
   "toc_window_display": true
  }
 },
 "nbformat": 4,
 "nbformat_minor": 5
}
