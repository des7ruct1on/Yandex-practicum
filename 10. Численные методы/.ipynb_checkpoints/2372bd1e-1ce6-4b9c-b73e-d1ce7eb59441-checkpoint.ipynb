{
 "cells": [
  {
   "cell_type": "markdown",
   "metadata": {},
   "source": [
    "<font color='blue' size=5><b>Комментарий ревьюера</b></font>\n",
    "\n",
    "<font color='blue'>Привет, Иван! Это снова Павел Григорьев, и я буду проверять этот проект.<br>Моя основная цель - не указать на совершённые тобой ошибки, а поделиться своим опытом и помочь тебе совершенствоваться как профессионалу.<br>Спасибо за проделанную работу!</font>\n",
    "<details>\n",
    "\t<summary><u>Инструкция по организационным моментам (кликабельно)</u>⤵</summary>\n",
    "<font color='blue'>Я буду использовать различные цвета, чтобы было удобнее воспринимать мои комментарии:</font>\n",
    "\n",
    "\n",
    "---\n",
    "\n",
    "\n",
    "<font color='blue'>синий текст - просто текст комментария</font>\n",
    "\n",
    "<font color='green'>✔️ и зеленый текст - все отлично</font>\n",
    "\n",
    "<font color='orange'>⚠️ и оранжевый текст - сделано все правильно, однако есть рекомендации, на что стоит обратить внимание</font>\n",
    "\n",
    "<font color='red'>❌ и красный текст - есть недочеты</font>\n",
    "\n",
    "\n",
    "</details>    \n",
    "    </br>\n",
    "<font color='blue'>Пожалуйста, не удаляй мои комментарии в случае возврата работы, так будет проще разобраться, какие были недочеты, а также сразу увидеть исправленное. </font>\n",
    "\n",
    "Ответы на мои комментарии лучше тоже помечать.\n",
    "Например: <font color='purple'><b>Комментарий студента</b></font>\n",
    "\n",
    "<font color='blue'><b>Давай смотреть, что получилось!</b></font>\n"
   ]
  },
  {
   "cell_type": "markdown",
   "metadata": {},
   "source": [
    "<font color='blue' size=3><b>Комментарий ревьюера 2</b></font>\n",
    "\n",
    "<font color='blue'>Привет еще раз. Спасибо, за исправления. Оформление комментариев по работе сохраняется. Только обозначим, что это вторая итерация.</font>"
   ]
  },
  {
   "cell_type": "markdown",
   "metadata": {},
   "source": [
    "<font color='blue' size=3><b>Комментарий ревьюера 3</b></font>\n",
    "\n",
    "<font color='blue'>Привет еще раз. Спасибо, за исправления. Оформление комментариев по работе сохраняется.</font>"
   ]
  },
  {
   "cell_type": "markdown",
   "metadata": {},
   "source": [
    "# Определение стоимости автомобилей"
   ]
  },
  {
   "cell_type": "markdown",
   "metadata": {},
   "source": [
    "Сервис по продаже автомобилей с пробегом «Не бит, не крашен» разрабатывает приложение для привлечения новых клиентов. В нём можно быстро узнать рыночную стоимость своего автомобиля. В вашем распоряжении исторические данные: технические характеристики, комплектации и цены автомобилей. Вам нужно построить модель для определения стоимости. \n",
    "\n",
    "Заказчику важны:\n",
    "\n",
    "- качество предсказания;\n",
    "- скорость предсказания;\n",
    "- время обучения."
   ]
  },
  {
   "cell_type": "markdown",
   "metadata": {},
   "source": [
    "## Подготовка данных"
   ]
  },
  {
   "cell_type": "code",
   "execution_count": 1,
   "metadata": {},
   "outputs": [
    {
     "name": "stdout",
     "output_type": "stream",
     "text": [
      "Collecting phik\n",
      "  Downloading phik-0.12.4-cp39-cp39-manylinux_2_17_x86_64.manylinux2014_x86_64.whl (686 kB)\n",
      "\u001b[K     |████████████████████████████████| 686 kB 1.2 MB/s eta 0:00:01\n",
      "\u001b[?25hRequirement already satisfied: matplotlib>=2.2.3 in /opt/conda/lib/python3.9/site-packages (from phik) (3.3.4)\n",
      "Requirement already satisfied: pandas>=0.25.1 in /opt/conda/lib/python3.9/site-packages (from phik) (1.2.4)\n",
      "Requirement already satisfied: joblib>=0.14.1 in /opt/conda/lib/python3.9/site-packages (from phik) (1.1.0)\n",
      "Requirement already satisfied: numpy>=1.18.0 in /opt/conda/lib/python3.9/site-packages (from phik) (1.21.1)\n",
      "Requirement already satisfied: scipy>=1.5.2 in /opt/conda/lib/python3.9/site-packages (from phik) (1.9.1)\n",
      "Requirement already satisfied: kiwisolver>=1.0.1 in /opt/conda/lib/python3.9/site-packages (from matplotlib>=2.2.3->phik) (1.4.4)\n",
      "Requirement already satisfied: pillow>=6.2.0 in /opt/conda/lib/python3.9/site-packages (from matplotlib>=2.2.3->phik) (8.4.0)\n",
      "Requirement already satisfied: python-dateutil>=2.1 in /opt/conda/lib/python3.9/site-packages (from matplotlib>=2.2.3->phik) (2.8.1)\n",
      "Requirement already satisfied: pyparsing!=2.0.4,!=2.1.2,!=2.1.6,>=2.0.3 in /opt/conda/lib/python3.9/site-packages (from matplotlib>=2.2.3->phik) (2.4.7)\n",
      "Requirement already satisfied: cycler>=0.10 in /opt/conda/lib/python3.9/site-packages (from matplotlib>=2.2.3->phik) (0.11.0)\n",
      "Requirement already satisfied: pytz>=2017.3 in /opt/conda/lib/python3.9/site-packages (from pandas>=0.25.1->phik) (2021.1)\n",
      "Requirement already satisfied: six>=1.5 in /opt/conda/lib/python3.9/site-packages (from python-dateutil>=2.1->matplotlib>=2.2.3->phik) (1.16.0)\n",
      "Installing collected packages: phik\n",
      "Successfully installed phik-0.12.4\n"
     ]
    }
   ],
   "source": [
    "import pandas as pd\n",
    "import numpy as np\n",
    "import matplotlib.pyplot as plt\n",
    "import seaborn as sns\n",
    "import math\n",
    "\n",
    "try:\n",
    "    import phik\n",
    "except ImportError:\n",
    "    !pip install phik\n",
    "    import phik\n",
    "\n",
    "from scipy import stats\n",
    "from sklearn.model_selection import train_test_split\n",
    "from sklearn.linear_model import LinearRegression, Lasso, Ridge\n",
    "from sklearn.svm import SVR\n",
    "from sklearn.tree import DecisionTreeClassifier, DecisionTreeRegressor\n",
    "from sklearn.metrics import (\n",
    "    accuracy_score, mean_absolute_error, mean_squared_error,\n",
    "    r2_score, confusion_matrix, precision_score, recall_score,\n",
    "    f1_score, roc_auc_score, roc_curve, make_scorer\n",
    ")\n",
    "\n",
    "from sklearn.preprocessing import (\n",
    "    StandardScaler, MinMaxScaler, OneHotEncoder,\n",
    "    OrdinalEncoder, LabelEncoder, PolynomialFeatures\n",
    ")\n",
    "from sklearn.model_selection import cross_val_score\n",
    "from sklearn.pipeline import Pipeline\n",
    "from sklearn.compose import ColumnTransformer\n",
    "from sklearn.impute import SimpleImputer\n",
    "from lightgbm import LGBMRegressor\n",
    "from sklearn.model_selection import RandomizedSearchCV\n",
    "from scipy.sparse import hstack\n",
    "from catboost import CatBoostRegressor, Pool"
   ]
  },
  {
   "cell_type": "markdown",
   "metadata": {},
   "source": [
    "<font color='blue'><b>Комментарий ревьюера: </b></font> ✔️\\\n",
    "<font color='green'> Хорошее оформление импортов! \\\n",
    "Импорты собраны в одной ячейке, разделены на функциональные группы пустой строкой.</font>"
   ]
  },
  {
   "cell_type": "code",
   "execution_count": 2,
   "metadata": {},
   "outputs": [],
   "source": [
    "RANDOM_STATE = 42"
   ]
  },
  {
   "cell_type": "code",
   "execution_count": 3,
   "metadata": {},
   "outputs": [],
   "source": [
    "try:\n",
    "    data = pd.read_csv(\"autos.csv\")\n",
    "except:\n",
    "    data = pd.read_csv(\"/datasets/autos.csv\")"
   ]
  },
  {
   "cell_type": "code",
   "execution_count": 4,
   "metadata": {},
   "outputs": [
    {
     "data": {
      "text/html": [
       "<div>\n",
       "<style scoped>\n",
       "    .dataframe tbody tr th:only-of-type {\n",
       "        vertical-align: middle;\n",
       "    }\n",
       "\n",
       "    .dataframe tbody tr th {\n",
       "        vertical-align: top;\n",
       "    }\n",
       "\n",
       "    .dataframe thead th {\n",
       "        text-align: right;\n",
       "    }\n",
       "</style>\n",
       "<table border=\"1\" class=\"dataframe\">\n",
       "  <thead>\n",
       "    <tr style=\"text-align: right;\">\n",
       "      <th></th>\n",
       "      <th>DateCrawled</th>\n",
       "      <th>Price</th>\n",
       "      <th>VehicleType</th>\n",
       "      <th>RegistrationYear</th>\n",
       "      <th>Gearbox</th>\n",
       "      <th>Power</th>\n",
       "      <th>Model</th>\n",
       "      <th>Kilometer</th>\n",
       "      <th>RegistrationMonth</th>\n",
       "      <th>FuelType</th>\n",
       "      <th>Brand</th>\n",
       "      <th>Repaired</th>\n",
       "      <th>DateCreated</th>\n",
       "      <th>NumberOfPictures</th>\n",
       "      <th>PostalCode</th>\n",
       "      <th>LastSeen</th>\n",
       "    </tr>\n",
       "  </thead>\n",
       "  <tbody>\n",
       "    <tr>\n",
       "      <th>0</th>\n",
       "      <td>2016-03-24 11:52:17</td>\n",
       "      <td>480</td>\n",
       "      <td>NaN</td>\n",
       "      <td>1993</td>\n",
       "      <td>manual</td>\n",
       "      <td>0</td>\n",
       "      <td>golf</td>\n",
       "      <td>150000</td>\n",
       "      <td>0</td>\n",
       "      <td>petrol</td>\n",
       "      <td>volkswagen</td>\n",
       "      <td>NaN</td>\n",
       "      <td>2016-03-24 00:00:00</td>\n",
       "      <td>0</td>\n",
       "      <td>70435</td>\n",
       "      <td>2016-04-07 03:16:57</td>\n",
       "    </tr>\n",
       "    <tr>\n",
       "      <th>1</th>\n",
       "      <td>2016-03-24 10:58:45</td>\n",
       "      <td>18300</td>\n",
       "      <td>coupe</td>\n",
       "      <td>2011</td>\n",
       "      <td>manual</td>\n",
       "      <td>190</td>\n",
       "      <td>NaN</td>\n",
       "      <td>125000</td>\n",
       "      <td>5</td>\n",
       "      <td>gasoline</td>\n",
       "      <td>audi</td>\n",
       "      <td>yes</td>\n",
       "      <td>2016-03-24 00:00:00</td>\n",
       "      <td>0</td>\n",
       "      <td>66954</td>\n",
       "      <td>2016-04-07 01:46:50</td>\n",
       "    </tr>\n",
       "    <tr>\n",
       "      <th>2</th>\n",
       "      <td>2016-03-14 12:52:21</td>\n",
       "      <td>9800</td>\n",
       "      <td>suv</td>\n",
       "      <td>2004</td>\n",
       "      <td>auto</td>\n",
       "      <td>163</td>\n",
       "      <td>grand</td>\n",
       "      <td>125000</td>\n",
       "      <td>8</td>\n",
       "      <td>gasoline</td>\n",
       "      <td>jeep</td>\n",
       "      <td>NaN</td>\n",
       "      <td>2016-03-14 00:00:00</td>\n",
       "      <td>0</td>\n",
       "      <td>90480</td>\n",
       "      <td>2016-04-05 12:47:46</td>\n",
       "    </tr>\n",
       "    <tr>\n",
       "      <th>3</th>\n",
       "      <td>2016-03-17 16:54:04</td>\n",
       "      <td>1500</td>\n",
       "      <td>small</td>\n",
       "      <td>2001</td>\n",
       "      <td>manual</td>\n",
       "      <td>75</td>\n",
       "      <td>golf</td>\n",
       "      <td>150000</td>\n",
       "      <td>6</td>\n",
       "      <td>petrol</td>\n",
       "      <td>volkswagen</td>\n",
       "      <td>no</td>\n",
       "      <td>2016-03-17 00:00:00</td>\n",
       "      <td>0</td>\n",
       "      <td>91074</td>\n",
       "      <td>2016-03-17 17:40:17</td>\n",
       "    </tr>\n",
       "    <tr>\n",
       "      <th>4</th>\n",
       "      <td>2016-03-31 17:25:20</td>\n",
       "      <td>3600</td>\n",
       "      <td>small</td>\n",
       "      <td>2008</td>\n",
       "      <td>manual</td>\n",
       "      <td>69</td>\n",
       "      <td>fabia</td>\n",
       "      <td>90000</td>\n",
       "      <td>7</td>\n",
       "      <td>gasoline</td>\n",
       "      <td>skoda</td>\n",
       "      <td>no</td>\n",
       "      <td>2016-03-31 00:00:00</td>\n",
       "      <td>0</td>\n",
       "      <td>60437</td>\n",
       "      <td>2016-04-06 10:17:21</td>\n",
       "    </tr>\n",
       "  </tbody>\n",
       "</table>\n",
       "</div>"
      ],
      "text/plain": [
       "           DateCrawled  Price VehicleType  RegistrationYear Gearbox  Power  \\\n",
       "0  2016-03-24 11:52:17    480         NaN              1993  manual      0   \n",
       "1  2016-03-24 10:58:45  18300       coupe              2011  manual    190   \n",
       "2  2016-03-14 12:52:21   9800         suv              2004    auto    163   \n",
       "3  2016-03-17 16:54:04   1500       small              2001  manual     75   \n",
       "4  2016-03-31 17:25:20   3600       small              2008  manual     69   \n",
       "\n",
       "   Model  Kilometer  RegistrationMonth  FuelType       Brand Repaired  \\\n",
       "0   golf     150000                  0    petrol  volkswagen      NaN   \n",
       "1    NaN     125000                  5  gasoline        audi      yes   \n",
       "2  grand     125000                  8  gasoline        jeep      NaN   \n",
       "3   golf     150000                  6    petrol  volkswagen       no   \n",
       "4  fabia      90000                  7  gasoline       skoda       no   \n",
       "\n",
       "           DateCreated  NumberOfPictures  PostalCode             LastSeen  \n",
       "0  2016-03-24 00:00:00                 0       70435  2016-04-07 03:16:57  \n",
       "1  2016-03-24 00:00:00                 0       66954  2016-04-07 01:46:50  \n",
       "2  2016-03-14 00:00:00                 0       90480  2016-04-05 12:47:46  \n",
       "3  2016-03-17 00:00:00                 0       91074  2016-03-17 17:40:17  \n",
       "4  2016-03-31 00:00:00                 0       60437  2016-04-06 10:17:21  "
      ]
     },
     "execution_count": 4,
     "metadata": {},
     "output_type": "execute_result"
    }
   ],
   "source": [
    "data.head(5)"
   ]
  },
  {
   "cell_type": "markdown",
   "metadata": {},
   "source": [
    "Таблица представляет из себя данные о моделях машин,а также можно сразу заметить наличие пропусков в данных"
   ]
  },
  {
   "cell_type": "code",
   "execution_count": 5,
   "metadata": {},
   "outputs": [
    {
     "name": "stdout",
     "output_type": "stream",
     "text": [
      "<class 'pandas.core.frame.DataFrame'>\n",
      "RangeIndex: 354369 entries, 0 to 354368\n",
      "Data columns (total 16 columns):\n",
      " #   Column             Non-Null Count   Dtype \n",
      "---  ------             --------------   ----- \n",
      " 0   DateCrawled        354369 non-null  object\n",
      " 1   Price              354369 non-null  int64 \n",
      " 2   VehicleType        316879 non-null  object\n",
      " 3   RegistrationYear   354369 non-null  int64 \n",
      " 4   Gearbox            334536 non-null  object\n",
      " 5   Power              354369 non-null  int64 \n",
      " 6   Model              334664 non-null  object\n",
      " 7   Kilometer          354369 non-null  int64 \n",
      " 8   RegistrationMonth  354369 non-null  int64 \n",
      " 9   FuelType           321474 non-null  object\n",
      " 10  Brand              354369 non-null  object\n",
      " 11  Repaired           283215 non-null  object\n",
      " 12  DateCreated        354369 non-null  object\n",
      " 13  NumberOfPictures   354369 non-null  int64 \n",
      " 14  PostalCode         354369 non-null  int64 \n",
      " 15  LastSeen           354369 non-null  object\n",
      "dtypes: int64(7), object(9)\n",
      "memory usage: 43.3+ MB\n"
     ]
    }
   ],
   "source": [
    "data.info()"
   ]
  },
  {
   "cell_type": "code",
   "execution_count": 6,
   "metadata": {},
   "outputs": [
    {
     "data": {
      "text/plain": [
       "DateCrawled              0\n",
       "Price                    0\n",
       "VehicleType          37490\n",
       "RegistrationYear         0\n",
       "Gearbox              19833\n",
       "Power                    0\n",
       "Model                19705\n",
       "Kilometer                0\n",
       "RegistrationMonth        0\n",
       "FuelType             32895\n",
       "Brand                    0\n",
       "Repaired             71154\n",
       "DateCreated              0\n",
       "NumberOfPictures         0\n",
       "PostalCode               0\n",
       "LastSeen                 0\n",
       "dtype: int64"
      ]
     },
     "execution_count": 6,
     "metadata": {},
     "output_type": "execute_result"
    }
   ],
   "source": [
    "data.isna().sum()"
   ]
  },
  {
   "cell_type": "markdown",
   "metadata": {},
   "source": [
    "Пропуски обнаружены в столбцах `VehicleType`, `Gearbox`, `FuelType`, `Repaired`, `Model` \\\n",
    "Можно объяснить наличие пропусков в столбце `Repaired`, скорее всего эти машины не были в ремонте, потому значения отсутствуют"
   ]
  },
  {
   "cell_type": "markdown",
   "metadata": {},
   "source": [
    "<font color='blue'><b>Комментарий ревьюера: </b></font> ✔️\\\n",
    "<font color='green'>Данные загружены корректно, первичный осмотр проведен.</font>"
   ]
  },
  {
   "cell_type": "code",
   "execution_count": 7,
   "metadata": {},
   "outputs": [
    {
     "name": "stdout",
     "output_type": "stream",
     "text": [
      "Доля пропущенных значений в VehicleType: 0.1057936783409384\n",
      "Доля пропущенных значений в Gearbox: 0.055967085156997366\n",
      "Доля пропущенных значений в Model: 0.055605879746817584\n",
      "Доля пропущенных значений в FuelType: 0.09282696849893755\n",
      "Доля пропущенных значений в Repaired: 0.20079070121822168\n"
     ]
    }
   ],
   "source": [
    "print(f'Доля пропущенных значений в VehicleType: {data[\"VehicleType\"].isna().sum() / data.shape[0]}')\n",
    "print(f'Доля пропущенных значений в Gearbox: {data[\"Gearbox\"].isna().sum() / data.shape[0]}')\n",
    "print(f'Доля пропущенных значений в Model: {data[\"Model\"].isna().sum() / data.shape[0]}')\n",
    "print(f'Доля пропущенных значений в FuelType: {data[\"FuelType\"].isna().sum() / data.shape[0]}')\n",
    "print(f'Доля пропущенных значений в Repaired: {data[\"Repaired\"].isna().sum() / data.shape[0]}')"
   ]
  },
  {
   "cell_type": "markdown",
   "metadata": {},
   "source": [
    "Доля пропущенных значений внушительная, чтобы просто отбросить их, потому заполним значения следующим образом:\n",
    "- для `Repaired` - `no`\n",
    "- для остальных - `no_info`"
   ]
  },
  {
   "cell_type": "code",
   "execution_count": 8,
   "metadata": {},
   "outputs": [],
   "source": [
    "data[\"Repaired\"] = data[\"Repaired\"].fillna('no')\n",
    "data[\"VehicleType\"] = data[\"VehicleType\"].fillna('no_info')\n",
    "data[\"Gearbox\"] = data[\"Gearbox\"].fillna('no_info')\n",
    "data[\"Model\"] = data[\"Model\"].fillna('no_info')\n",
    "data[\"FuelType\"] = data[\"FuelType\"].fillna('no_info')"
   ]
  },
  {
   "cell_type": "markdown",
   "metadata": {},
   "source": [
    "<font color='blue'><b>Комментарий ревьюера: </b></font> ✔️\\\n",
    "<font color='green'> Пропуски заполнены достаточно безопасно.\n",
    "</font>"
   ]
  },
  {
   "cell_type": "code",
   "execution_count": 9,
   "metadata": {},
   "outputs": [
    {
     "data": {
      "text/plain": [
       "DateCrawled          0\n",
       "Price                0\n",
       "VehicleType          0\n",
       "RegistrationYear     0\n",
       "Gearbox              0\n",
       "Power                0\n",
       "Model                0\n",
       "Kilometer            0\n",
       "RegistrationMonth    0\n",
       "FuelType             0\n",
       "Brand                0\n",
       "Repaired             0\n",
       "DateCreated          0\n",
       "NumberOfPictures     0\n",
       "PostalCode           0\n",
       "LastSeen             0\n",
       "dtype: int64"
      ]
     },
     "execution_count": 9,
     "metadata": {},
     "output_type": "execute_result"
    }
   ],
   "source": [
    "data.isna().sum()"
   ]
  },
  {
   "cell_type": "markdown",
   "metadata": {},
   "source": [
    "Приведем даты к нужному типу"
   ]
  },
  {
   "cell_type": "code",
   "execution_count": 10,
   "metadata": {},
   "outputs": [],
   "source": [
    "data['DateCrawled'] = pd.to_datetime(data['DateCrawled'], format='%Y-%m-%d %H:%M:%S')\n",
    "data['DateCreated'] = pd.to_datetime(data['DateCreated'], format='%Y-%m-%d %H:%M:%S')\n",
    "data['LastSeen'] = pd.to_datetime(data['LastSeen'], format='%Y-%m-%d %H:%M:%S')"
   ]
  },
  {
   "cell_type": "code",
   "execution_count": 11,
   "metadata": {},
   "outputs": [
    {
     "name": "stdout",
     "output_type": "stream",
     "text": [
      "<class 'pandas.core.frame.DataFrame'>\n",
      "RangeIndex: 354369 entries, 0 to 354368\n",
      "Data columns (total 16 columns):\n",
      " #   Column             Non-Null Count   Dtype         \n",
      "---  ------             --------------   -----         \n",
      " 0   DateCrawled        354369 non-null  datetime64[ns]\n",
      " 1   Price              354369 non-null  int64         \n",
      " 2   VehicleType        354369 non-null  object        \n",
      " 3   RegistrationYear   354369 non-null  int64         \n",
      " 4   Gearbox            354369 non-null  object        \n",
      " 5   Power              354369 non-null  int64         \n",
      " 6   Model              354369 non-null  object        \n",
      " 7   Kilometer          354369 non-null  int64         \n",
      " 8   RegistrationMonth  354369 non-null  int64         \n",
      " 9   FuelType           354369 non-null  object        \n",
      " 10  Brand              354369 non-null  object        \n",
      " 11  Repaired           354369 non-null  object        \n",
      " 12  DateCreated        354369 non-null  datetime64[ns]\n",
      " 13  NumberOfPictures   354369 non-null  int64         \n",
      " 14  PostalCode         354369 non-null  int64         \n",
      " 15  LastSeen           354369 non-null  datetime64[ns]\n",
      "dtypes: datetime64[ns](3), int64(7), object(6)\n",
      "memory usage: 43.3+ MB\n"
     ]
    }
   ],
   "source": [
    "data.info()"
   ]
  },
  {
   "cell_type": "markdown",
   "metadata": {},
   "source": [
    "Отберем категориальные и численные названия столбцов, отбросим столбцы со временем и индекс владельца"
   ]
  },
  {
   "cell_type": "code",
   "execution_count": 12,
   "metadata": {},
   "outputs": [
    {
     "data": {
      "text/plain": [
       "['Price',\n",
       " 'RegistrationYear',\n",
       " 'Power',\n",
       " 'Kilometer',\n",
       " 'RegistrationMonth',\n",
       " 'NumberOfPictures']"
      ]
     },
     "metadata": {},
     "output_type": "display_data"
    },
    {
     "data": {
      "text/plain": [
       "['VehicleType', 'Gearbox', 'Model', 'FuelType', 'Brand', 'Repaired']"
      ]
     },
     "metadata": {},
     "output_type": "display_data"
    }
   ],
   "source": [
    "num_cols = []\n",
    "cat_cols = []\n",
    "for i in data.columns:\n",
    "    if i == 'PostalCode': continue\n",
    "    if pd.api.types.is_string_dtype(data[i]) or pd.api.types.is_categorical_dtype(data[i]):\n",
    "        cat_cols.append(i)\n",
    "    elif pd.api.types.is_datetime64_any_dtype(data[i]): \n",
    "        continue\n",
    "    else:\n",
    "        num_cols.append(i)\n",
    "\n",
    "display(num_cols, cat_cols)\n"
   ]
  },
  {
   "cell_type": "markdown",
   "metadata": {},
   "source": [
    "Проверим дубликаты"
   ]
  },
  {
   "cell_type": "code",
   "execution_count": 13,
   "metadata": {},
   "outputs": [
    {
     "data": {
      "text/plain": [
       "5"
      ]
     },
     "execution_count": 13,
     "metadata": {},
     "output_type": "execute_result"
    }
   ],
   "source": [
    "data.duplicated().sum()"
   ]
  },
  {
   "cell_type": "code",
   "execution_count": 14,
   "metadata": {},
   "outputs": [],
   "source": [
    "data = data.drop_duplicates()"
   ]
  },
  {
   "cell_type": "code",
   "execution_count": 15,
   "metadata": {},
   "outputs": [
    {
     "data": {
      "text/plain": [
       "0"
      ]
     },
     "execution_count": 15,
     "metadata": {},
     "output_type": "execute_result"
    }
   ],
   "source": [
    "data.duplicated().sum()"
   ]
  },
  {
   "cell_type": "code",
   "execution_count": 16,
   "metadata": {},
   "outputs": [
    {
     "name": "stdout",
     "output_type": "stream",
     "text": [
      "['no_info' 'coupe' 'suv' 'small' 'sedan' 'convertible' 'bus' 'wagon'\n",
      " 'other']\n",
      "['manual' 'auto' 'no_info']\n",
      "['golf' 'no_info' 'grand' 'fabia' '3er' '2_reihe' 'other' 'c_max'\n",
      " '3_reihe' 'passat' 'navara' 'ka' 'polo' 'twingo' 'a_klasse' 'scirocco'\n",
      " '5er' 'meriva' 'arosa' 'c4' 'civic' 'transporter' 'punto' 'e_klasse'\n",
      " 'clio' 'kadett' 'kangoo' 'corsa' 'one' 'fortwo' '1er' 'b_klasse' 'signum'\n",
      " 'astra' 'a8' 'jetta' 'fiesta' 'c_klasse' 'micra' 'vito' 'sprinter' '156'\n",
      " 'escort' 'forester' 'xc_reihe' 'scenic' 'a4' 'a1' 'insignia' 'combo'\n",
      " 'focus' 'tt' 'a6' 'jazz' 'omega' 'slk' '7er' '80' '147' '100' 'z_reihe'\n",
      " 'sportage' 'sorento' 'v40' 'ibiza' 'mustang' 'eos' 'touran' 'getz' 'a3'\n",
      " 'almera' 'megane' 'lupo' 'r19' 'zafira' 'caddy' 'mondeo' 'cordoba' 'colt'\n",
      " 'impreza' 'vectra' 'berlingo' 'tiguan' 'i_reihe' 'espace' 'sharan'\n",
      " '6_reihe' 'panda' 'up' 'seicento' 'ceed' '5_reihe' 'yeti' 'octavia' 'mii'\n",
      " 'rx_reihe' '6er' 'modus' 'fox' 'matiz' 'beetle' 'c1' 'rio' 'touareg'\n",
      " 'logan' 'spider' 'cuore' 's_max' 'a2' 'galaxy' 'c3' 'viano' 's_klasse'\n",
      " '1_reihe' 'avensis' 'roomster' 'sl' 'kaefer' 'santa' 'cooper' 'leon'\n",
      " '4_reihe' 'a5' '500' 'laguna' 'ptcruiser' 'clk' 'primera' 'x_reihe'\n",
      " 'exeo' '159' 'transit' 'juke' 'qashqai' 'carisma' 'accord' 'corolla'\n",
      " 'lanos' 'phaeton' 'verso' 'swift' 'rav' 'picanto' 'boxster' 'kalos'\n",
      " 'superb' 'stilo' 'alhambra' 'mx_reihe' 'roadster' 'ypsilon' 'cayenne'\n",
      " 'galant' 'justy' '90' 'sirion' 'crossfire' 'agila' 'duster' 'cr_reihe'\n",
      " 'v50' 'c_reihe' 'v_klasse' 'm_klasse' 'yaris' 'c5' 'aygo' 'cc' 'carnival'\n",
      " 'fusion' '911' 'bora' 'forfour' 'm_reihe' 'cl' 'tigra' '300c' 'spark'\n",
      " 'v70' 'kuga' 'x_type' 'ducato' 's_type' 'x_trail' 'toledo' 'altea'\n",
      " 'voyager' 'calibra' 'bravo' 'antara' 'tucson' 'citigo' 'jimny' 'wrangler'\n",
      " 'lybra' 'q7' 'lancer' 'captiva' 'c2' 'discovery' 'freelander' 'sandero'\n",
      " 'note' '900' 'cherokee' 'clubman' 'samara' 'defender' '601' 'cx_reihe'\n",
      " 'legacy' 'pajero' 'auris' 'niva' 's60' 'nubira' 'vivaro' 'g_klasse'\n",
      " 'lodgy' '850' 'range_rover' 'q3' 'serie_2' 'glk' 'charade' 'croma'\n",
      " 'outlander' 'doblo' 'musa' 'move' '9000' 'v60' '145' 'aveo' '200' 'b_max'\n",
      " 'range_rover_sport' 'terios' 'rangerover' 'q5' 'range_rover_evoque'\n",
      " 'materia' 'delta' 'gl' 'kalina' 'amarok' 'elefantino' 'i3' 'kappa'\n",
      " 'serie_3' 'serie_1']\n",
      "['petrol' 'gasoline' 'no_info' 'lpg' 'other' 'hybrid' 'cng' 'electric']\n",
      "['volkswagen' 'audi' 'jeep' 'skoda' 'bmw' 'peugeot' 'ford' 'mazda'\n",
      " 'nissan' 'renault' 'mercedes_benz' 'opel' 'seat' 'citroen' 'honda' 'fiat'\n",
      " 'mini' 'smart' 'hyundai' 'sonstige_autos' 'alfa_romeo' 'subaru' 'volvo'\n",
      " 'mitsubishi' 'kia' 'suzuki' 'lancia' 'toyota' 'chevrolet' 'dacia'\n",
      " 'daihatsu' 'trabant' 'saab' 'chrysler' 'jaguar' 'daewoo' 'porsche'\n",
      " 'rover' 'land_rover' 'lada']\n",
      "['no' 'yes']\n"
     ]
    }
   ],
   "source": [
    "for i in cat_cols:\n",
    "    print(data[i].unique())"
   ]
  },
  {
   "cell_type": "markdown",
   "metadata": {},
   "source": [
    "Неявных дубликатов не обнаружено"
   ]
  },
  {
   "cell_type": "markdown",
   "metadata": {},
   "source": [
    "### Вывод по предобработке данных\n",
    "Доля пропущенных значений внушительная, чтобы просто отбросить их, потому заполним значения следующим образом:\n",
    "- для `Repaired` - `no`\n",
    "- для остальных - `no_info`\n",
    "\n",
    "Дубликатов не обнаружено"
   ]
  },
  {
   "cell_type": "markdown",
   "metadata": {},
   "source": [
    "<font color='blue'><b>Комментарий ревьюера: </b></font> ✔️ <br>\n",
    "<font color='green'>Здорово, что не забываешь про промежуточные выводы.</font>"
   ]
  },
  {
   "cell_type": "markdown",
   "metadata": {},
   "source": [
    "## Исследовательский анализ"
   ]
  },
  {
   "cell_type": "markdown",
   "metadata": {},
   "source": [
    "Посмотрим на статистику каждого из столбцов"
   ]
  },
  {
   "cell_type": "code",
   "execution_count": 17,
   "metadata": {},
   "outputs": [
    {
     "name": "stdout",
     "output_type": "stream",
     "text": [
      "\n",
      "\n"
     ]
    },
    {
     "data": {
      "image/png": "[encoded data removed]",
      "text/plain": [
       "<Figure size 432x288 with 1 Axes>"
      ]
     },
     "metadata": {
      "needs_background": "light"
     },
     "output_type": "display_data"
    },
    {
     "name": "stdout",
     "output_type": "stream",
     "text": [
      "\n",
      "\n"
     ]
    },
    {
     "data": {
      "image/png": "[encoded data removed]",
      "text/plain": [
       "<Figure size 432x288 with 1 Axes>"
      ]
     },
     "metadata": {
      "needs_background": "light"
     },
     "output_type": "display_data"
    },
    {
     "name": "stdout",
     "output_type": "stream",
     "text": [
      "\n",
      "\n",
      "Статистика\n"
     ]
    },
    {
     "data": {
      "text/plain": [
       "count    354364.000000\n",
       "mean       4416.655608\n",
       "std        4514.159690\n",
       "min           0.000000\n",
       "25%        1050.000000\n",
       "50%        2700.000000\n",
       "75%        6400.000000\n",
       "max       20000.000000\n",
       "Name: Price, dtype: float64"
      ]
     },
     "metadata": {},
     "output_type": "display_data"
    },
    {
     "name": "stdout",
     "output_type": "stream",
     "text": [
      "\n",
      "\n",
      "\n",
      "\n",
      "\n",
      "\n"
     ]
    },
    {
     "data": {
      "image/png": "[encoded data removed]",
      "text/plain": [
       "<Figure size 432x288 with 1 Axes>"
      ]
     },
     "metadata": {
      "needs_background": "light"
     },
     "output_type": "display_data"
    },
    {
     "name": "stdout",
     "output_type": "stream",
     "text": [
      "\n",
      "\n"
     ]
    },
    {
     "data": {
      "image/png": "[encoded data removed]",
      "text/plain": [
       "<Figure size 432x288 with 1 Axes>"
      ]
     },
     "metadata": {
      "needs_background": "light"
     },
     "output_type": "display_data"
    },
    {
     "name": "stdout",
     "output_type": "stream",
     "text": [
      "\n",
      "\n",
      "Статистика\n"
     ]
    },
    {
     "data": {
      "text/plain": [
       "count    354364.000000\n",
       "mean       2004.234471\n",
       "std          90.228593\n",
       "min        1000.000000\n",
       "25%        1999.000000\n",
       "50%        2003.000000\n",
       "75%        2008.000000\n",
       "max        9999.000000\n",
       "Name: RegistrationYear, dtype: float64"
      ]
     },
     "metadata": {},
     "output_type": "display_data"
    },
    {
     "name": "stdout",
     "output_type": "stream",
     "text": [
      "\n",
      "\n",
      "\n",
      "\n",
      "\n",
      "\n"
     ]
    },
    {
     "data": {
      "image/png": "[encoded data removed]",
      "text/plain": [
       "<Figure size 432x288 with 1 Axes>"
      ]
     },
     "metadata": {
      "needs_background": "light"
     },
     "output_type": "display_data"
    },
    {
     "name": "stdout",
     "output_type": "stream",
     "text": [
      "\n",
      "\n"
     ]
    },
    {
     "data": {
      "image/png": "[encoded data removed]",
      "text/plain": [
       "<Figure size 432x288 with 1 Axes>"
      ]
     },
     "metadata": {
      "needs_background": "light"
     },
     "output_type": "display_data"
    },
    {
     "name": "stdout",
     "output_type": "stream",
     "text": [
      "\n",
      "\n",
      "Статистика\n"
     ]
    },
    {
     "data": {
      "text/plain": [
       "count    354364.000000\n",
       "mean        110.093723\n",
       "std         189.851590\n",
       "min           0.000000\n",
       "25%          69.000000\n",
       "50%         105.000000\n",
       "75%         143.000000\n",
       "max       20000.000000\n",
       "Name: Power, dtype: float64"
      ]
     },
     "metadata": {},
     "output_type": "display_data"
    },
    {
     "name": "stdout",
     "output_type": "stream",
     "text": [
      "\n",
      "\n",
      "\n",
      "\n",
      "\n",
      "\n"
     ]
    },
    {
     "data": {
      "image/png": "[encoded data removed]",
      "text/plain": [
       "<Figure size 432x288 with 1 Axes>"
      ]
     },
     "metadata": {
      "needs_background": "light"
     },
     "output_type": "display_data"
    },
    {
     "name": "stdout",
     "output_type": "stream",
     "text": [
      "\n",
      "\n"
     ]
    },
    {
     "data": {
      "image/png": "[encoded data removed]",
      "text/plain": [
       "<Figure size 432x288 with 1 Axes>"
      ]
     },
     "metadata": {
      "needs_background": "light"
     },
     "output_type": "display_data"
    },
    {
     "name": "stdout",
     "output_type": "stream",
     "text": [
      "\n",
      "\n",
      "Статистика\n"
     ]
    },
    {
     "data": {
      "text/plain": [
       "count    354364.000000\n",
       "mean     128211.373051\n",
       "std       37905.136957\n",
       "min        5000.000000\n",
       "25%      125000.000000\n",
       "50%      150000.000000\n",
       "75%      150000.000000\n",
       "max      150000.000000\n",
       "Name: Kilometer, dtype: float64"
      ]
     },
     "metadata": {},
     "output_type": "display_data"
    },
    {
     "name": "stdout",
     "output_type": "stream",
     "text": [
      "\n",
      "\n",
      "\n",
      "\n",
      "\n",
      "\n"
     ]
    },
    {
     "data": {
      "image/png": "[encoded data removed]",
      "text/plain": [
       "<Figure size 432x288 with 1 Axes>"
      ]
     },
     "metadata": {
      "needs_background": "light"
     },
     "output_type": "display_data"
    },
    {
     "name": "stdout",
     "output_type": "stream",
     "text": [
      "\n",
      "\n"
     ]
    },
    {
     "data": {
      "image/png": "[encoded data removed]",
      "text/plain": [
       "<Figure size 432x288 with 1 Axes>"
      ]
     },
     "metadata": {
      "needs_background": "light"
     },
     "output_type": "display_data"
    },
    {
     "name": "stdout",
     "output_type": "stream",
     "text": [
      "\n",
      "\n",
      "Статистика\n"
     ]
    },
    {
     "data": {
      "text/plain": [
       "count    354364.000000\n",
       "mean          5.714641\n",
       "std           3.726433\n",
       "min           0.000000\n",
       "25%           3.000000\n",
       "50%           6.000000\n",
       "75%           9.000000\n",
       "max          12.000000\n",
       "Name: RegistrationMonth, dtype: float64"
      ]
     },
     "metadata": {},
     "output_type": "display_data"
    },
    {
     "name": "stdout",
     "output_type": "stream",
     "text": [
      "\n",
      "\n",
      "\n",
      "\n",
      "\n",
      "\n"
     ]
    },
    {
     "name": "stderr",
     "output_type": "stream",
     "text": [
      "/tmp/ipykernel_31/718426267.py:4: UserWarning: Attempting to set identical left == right == 0 results in singular transformations; automatically expanding.\n",
      "  plt.xlim(data[col].min(), data[col].max() * 1.1)\n"
     ]
    },
    {
     "data": {
      "image/png": "[encoded data removed]",
      "text/plain": [
       "<Figure size 432x288 with 1 Axes>"
      ]
     },
     "metadata": {
      "needs_background": "light"
     },
     "output_type": "display_data"
    },
    {
     "name": "stdout",
     "output_type": "stream",
     "text": [
      "\n",
      "\n"
     ]
    },
    {
     "data": {
      "image/png": "[encoded data removed]",
      "text/plain": [
       "<Figure size 432x288 with 1 Axes>"
      ]
     },
     "metadata": {
      "needs_background": "light"
     },
     "output_type": "display_data"
    },
    {
     "name": "stdout",
     "output_type": "stream",
     "text": [
      "\n",
      "\n",
      "Статистика\n"
     ]
    },
    {
     "data": {
      "text/plain": [
       "count    354364.0\n",
       "mean          0.0\n",
       "std           0.0\n",
       "min           0.0\n",
       "25%           0.0\n",
       "50%           0.0\n",
       "75%           0.0\n",
       "max           0.0\n",
       "Name: NumberOfPictures, dtype: float64"
      ]
     },
     "metadata": {},
     "output_type": "display_data"
    },
    {
     "name": "stdout",
     "output_type": "stream",
     "text": [
      "\n",
      "\n",
      "\n",
      "\n"
     ]
    }
   ],
   "source": [
    "for col in num_cols:\n",
    "    print(\"\\n\")\n",
    "    data[col].hist(bins = math.ceil(np.log(len(data[col].unique())) + 1))\n",
    "    plt.xlim(data[col].min(), data[col].max() * 1.1)\n",
    "    plt.title(f\"Частота значения для {col}\")\n",
    "    plt.ylabel('Частота')\n",
    "    plt.xlabel('Количество')\n",
    "    plt.show()\n",
    "    print(\"\\n\")\n",
    "    plt.boxplot(data[col])\n",
    "    plt.title(f\"Ящик с усами для {col}\")\n",
    "    plt.ylabel('Значения')\n",
    "    plt.show()\n",
    "    print(\"\\n\")\n",
    "    print(\"Статистика\")\n",
    "    display(data[col].describe())\n",
    "    print(\"\\n\")\n",
    "    print(\"\\n\")"
   ]
  },
  {
   "cell_type": "markdown",
   "metadata": {},
   "source": [
    "Проанализировав численные столбцы, можно сказать следующее:\n",
    "\n",
    "`Price` - похоже на распределение Пуассона, так как дорогих машин явно меньше, чем машин подешевле, потому дорогие машины показываются как выбросы на диаграмме размаха. \\\n",
    "min - 0 euro, median - 2700 euro, max - 20000 eu. \\\n",
    "Машина за 0 евро вызывает подозрения, данное значение рассмотрим отдельно\n",
    "\n",
    "`RegistrationYear` - имеет явные аномальные значения в виде 1000 года и 9999 года. \\\n",
    "min - 1000, median - 2004, max 9999. Обработаем аномалии и построим новое распределение\n",
    "\n",
    "`Power` - имеет похожие проблемы как в `RegistrationYear`, в данных присутствуют машины с 0 л.c и 20000 л.с. \\\n",
    "min - 0, median - 105, max - 20000\n",
    "\n",
    "`Kilometer` - похоже на распределение Пуассона, вполне логично ожидать большое количество поддержаных машин с большим значением пробега, наблюдаются выбросы среди машин с пробегом меньше 90000 км(вполне логично, так как более прокатанных машин больше) \\\n",
    "min - 5000 km, median - 150000 km, max - 150000 km\n",
    "\n",
    "`RegistrationMonth` - по распределение видно, что больше всего машин регистрируют с марта по апрель, а еще чаще с сентября по декабрь. Однако наблюдается значение = 0, необходимо рассмотреть эти значения подробнее\n",
    "\n",
    "`NumberOfPictures` - имеет всего одно значение, равное 0, то есть все объявления не содержат фотографий\n",
    "\n"
   ]
  },
  {
   "cell_type": "code",
   "execution_count": 18,
   "metadata": {},
   "outputs": [
    {
     "data": {
      "text/plain": [
       "0.10540574098949103"
      ]
     },
     "execution_count": 18,
     "metadata": {},
     "output_type": "execute_result"
    }
   ],
   "source": [
    "data[data['RegistrationMonth'] == 0].shape[0] / data.shape[0]"
   ]
  },
  {
   "cell_type": "markdown",
   "metadata": {},
   "source": [
    "Так как данных около 10%, то отбросить их не получится. Значит заполним их медианным значением"
   ]
  },
  {
   "cell_type": "code",
   "execution_count": 19,
   "metadata": {},
   "outputs": [],
   "source": [
    "def fill_month(value, median_value):\n",
    "    if value == 0:\n",
    "        return median_value\n",
    "    else:\n",
    "        return value"
   ]
  },
  {
   "cell_type": "code",
   "execution_count": 20,
   "metadata": {},
   "outputs": [],
   "source": [
    "median_month = data['RegistrationMonth'].median()\n",
    "data['RegistrationMonth'] = data['RegistrationMonth'].apply(fill_month, median_value=median_month)"
   ]
  },
  {
   "cell_type": "code",
   "execution_count": 21,
   "metadata": {},
   "outputs": [
    {
     "data": {
      "image/png": "[encoded data removed]",
      "text/plain": [
       "<Figure size 432x288 with 1 Axes>"
      ]
     },
     "metadata": {
      "needs_background": "light"
     },
     "output_type": "display_data"
    },
    {
     "data": {
      "text/plain": [
       "count    354364.000000\n",
       "mean          6.347075\n",
       "std           3.170593\n",
       "min           1.000000\n",
       "25%           4.000000\n",
       "50%           6.000000\n",
       "75%           9.000000\n",
       "max          12.000000\n",
       "Name: RegistrationMonth, dtype: float64"
      ]
     },
     "execution_count": 21,
     "metadata": {},
     "output_type": "execute_result"
    }
   ],
   "source": [
    "data['RegistrationMonth'].hist(bins = math.ceil(np.log(len(data['RegistrationMonth'].unique())) + 1))\n",
    "plt.xlim(data['RegistrationMonth'].min(), data['RegistrationMonth'].max() * 1.1)\n",
    "plt.title(f\"Частота значения для 'RegistrationMonth'\")\n",
    "plt.ylabel('Частота')\n",
    "plt.xlabel('Количество')\n",
    "plt.show()\n",
    "data['RegistrationMonth'].describe()"
   ]
  },
  {
   "cell_type": "markdown",
   "metadata": {},
   "source": [
    "После заполнения медианой наблюдается увеличение первого максимума на графике по сравнению с графиком до заполнения"
   ]
  },
  {
   "cell_type": "code",
   "execution_count": 22,
   "metadata": {},
   "outputs": [
    {
     "data": {
      "image/png": "[encoded data removed]",
      "text/plain": [
       "<Figure size 432x288 with 1 Axes>"
      ]
     },
     "metadata": {
      "needs_background": "light"
     },
     "output_type": "display_data"
    }
   ],
   "source": [
    "data['Price'].hist(bins = math.ceil(np.log(len(data['Price'].unique())) + 1))\n",
    "plt.xlim(data['Price'].min(), data['Price'].max() * 1.1)\n",
    "plt.title(f\"Частота значения для 'Price'\")\n",
    "plt.ylabel('Частота')\n",
    "plt.xlabel('Количество')\n",
    "plt.show()"
   ]
  },
  {
   "cell_type": "code",
   "execution_count": 23,
   "metadata": {},
   "outputs": [
    {
     "data": {
      "text/plain": [
       "0.04927701459516204"
      ]
     },
     "execution_count": 23,
     "metadata": {},
     "output_type": "execute_result"
    }
   ],
   "source": [
    "data[data['Price'] < 200].shape[0] / data.shape[0]"
   ]
  },
  {
   "cell_type": "markdown",
   "metadata": {},
   "source": [
    "Отбросим 5 процентов аномальных значений, то есть машины стоимостью меньше 200 долларов"
   ]
  },
  {
   "cell_type": "code",
   "execution_count": 24,
   "metadata": {},
   "outputs": [],
   "source": [
    "data = data[data['Price'] >= 200]"
   ]
  },
  {
   "cell_type": "markdown",
   "metadata": {},
   "source": [
    "<font color='blue'><b>Комментарий ревьюера : </b></font> ✔️\\\n",
    "<font color='green'> 👍</font>"
   ]
  },
  {
   "cell_type": "code",
   "execution_count": 25,
   "metadata": {},
   "outputs": [
    {
     "data": {
      "image/png": "[encoded data removed]",
      "text/plain": [
       "<Figure size 432x288 with 1 Axes>"
      ]
     },
     "metadata": {
      "needs_background": "light"
     },
     "output_type": "display_data"
    }
   ],
   "source": [
    "data['Price'].hist(bins = math.ceil(np.log(len(data['Price'].unique())) + 1))\n",
    "plt.xlim(data['Price'].min(), data['Price'].max() * 1.1)\n",
    "plt.title(f\"Частота значения для 'Price'\")\n",
    "plt.ylabel('Частота')\n",
    "plt.xlabel('Количество')\n",
    "plt.show()"
   ]
  },
  {
   "cell_type": "code",
   "execution_count": 26,
   "metadata": {},
   "outputs": [
    {
     "data": {
      "text/plain": [
       "count    336902.000000\n",
       "mean       4643.617260\n",
       "std        4515.339078\n",
       "min         200.000000\n",
       "25%        1250.000000\n",
       "50%        2950.000000\n",
       "75%        6650.000000\n",
       "max       20000.000000\n",
       "Name: Price, dtype: float64"
      ]
     },
     "metadata": {},
     "output_type": "display_data"
    }
   ],
   "source": [
    "display(data['Price'].describe())"
   ]
  },
  {
   "cell_type": "code",
   "execution_count": 27,
   "metadata": {},
   "outputs": [
    {
     "data": {
      "text/plain": [
       "array([1000, 1001, 1039, 1111, 1234, 1300, 1400, 1500, 1600, 1602, 1800,\n",
       "       1910, 1923, 1925, 1927, 1928, 1929, 1930, 1931, 1932, 1933, 1934,\n",
       "       1935, 1936, 1937, 1938, 1940, 1941, 1942, 1943, 1944, 1945, 1946,\n",
       "       1947, 1948, 1949, 1950, 1951, 1952, 1953, 1954, 1955, 1956, 1957,\n",
       "       1958, 1959, 1960, 1961, 1962, 1963, 1964, 1965, 1966, 1967, 1968,\n",
       "       1969, 1970, 1971, 1972, 1973, 1974, 1975, 1976, 1977, 1978, 1979,\n",
       "       1980, 1981, 1982, 1983, 1984, 1985, 1986, 1987, 1988, 1989, 1990,\n",
       "       1991, 1992, 1993, 1994, 1995, 1996, 1997, 1998, 1999, 2000, 2001,\n",
       "       2002, 2003, 2004, 2005, 2006, 2007, 2008, 2009, 2010, 2011, 2012,\n",
       "       2013, 2014, 2015, 2016, 2017, 2018, 2019, 2066, 2200, 2290, 2500,\n",
       "       2800, 2900, 3000, 3200, 3700, 3800, 4000, 4100, 4500, 4800, 5000,\n",
       "       5300, 5555, 5900, 5911, 6000, 7000, 7100, 7800, 8200, 8500, 8888,\n",
       "       9000, 9450, 9999])"
      ]
     },
     "execution_count": 27,
     "metadata": {},
     "output_type": "execute_result"
    }
   ],
   "source": [
    "data['RegistrationYear'].sort_values().unique()"
   ]
  },
  {
   "cell_type": "markdown",
   "metadata": {},
   "source": [
    "Первый автомобиль был изобретен в 1886 году, а значит можно смело отбросить значения ниже этого года и выше 2016 года"
   ]
  },
  {
   "cell_type": "code",
   "execution_count": 28,
   "metadata": {},
   "outputs": [],
   "source": [
    "data = data[(data['RegistrationYear'] >= 1886) & (data['RegistrationYear'] <= 2016)]"
   ]
  },
  {
   "cell_type": "code",
   "execution_count": 29,
   "metadata": {},
   "outputs": [
    {
     "data": {
      "image/png": "[encoded data removed]",
      "text/plain": [
       "<Figure size 432x288 with 1 Axes>"
      ]
     },
     "metadata": {
      "needs_background": "light"
     },
     "output_type": "display_data"
    }
   ],
   "source": [
    "data['RegistrationYear'].hist(bins = math.ceil(np.log(len(data['RegistrationYear'].unique())) + 1))\n",
    "plt.xlim(data['RegistrationYear'].min(), data['RegistrationYear'].max() * 1.1)\n",
    "plt.title(f\"Частота значения для 'RegistrationYear'\")\n",
    "plt.ylabel('Частота')\n",
    "plt.xlabel('Количество')\n",
    "plt.show()"
   ]
  },
  {
   "cell_type": "code",
   "execution_count": 30,
   "metadata": {},
   "outputs": [
    {
     "data": {
      "image/png": "[encoded data removed]",
      "text/plain": [
       "<Figure size 432x288 with 1 Axes>"
      ]
     },
     "metadata": {
      "needs_background": "light"
     },
     "output_type": "display_data"
    }
   ],
   "source": [
    "plt.boxplot(data['RegistrationYear'])\n",
    "plt.title(f\"Ящик с усами для RegistrationYear\")\n",
    "plt.ylabel('Значения')\n",
    "plt.show()"
   ]
  },
  {
   "cell_type": "code",
   "execution_count": 31,
   "metadata": {},
   "outputs": [
    {
     "data": {
      "text/plain": [
       "count    323247.000000\n",
       "mean       2002.676699\n",
       "std           6.832737\n",
       "min        1910.000000\n",
       "25%        1999.000000\n",
       "50%        2003.000000\n",
       "75%        2007.000000\n",
       "max        2016.000000\n",
       "Name: RegistrationYear, dtype: float64"
      ]
     },
     "metadata": {},
     "output_type": "display_data"
    }
   ],
   "source": [
    "display(data['RegistrationYear'].describe())"
   ]
  },
  {
   "cell_type": "markdown",
   "metadata": {},
   "source": [
    "Здесь отчетливо видно, что большинство машин были зарегестрированы в начале 2000-ых, выбросами являются очень старые машины старее 1985 года. \\\n",
    "min - 1910, median - 2003, max - 2016"
   ]
  },
  {
   "cell_type": "markdown",
   "metadata": {},
   "source": [
    "<font color='blue'><b>Комментарий ревьюера: </b></font> ❌\\\n",
    "<font color='red'> ~~Обрати внимание на даты в DateCrawled в сравнении с RegistrationYear~~</font>"
   ]
  },
  {
   "cell_type": "markdown",
   "metadata": {},
   "source": [
    "<font color='purple'><b>Комментарий студента: Не понимаю подсказки, нигде не сказано, что DateCrawled как-то связаны с RegistrationYear, вроде как логичное решениее предпринял по сокращению диапазона машин</b></font>"
   ]
  },
  {
   "cell_type": "markdown",
   "metadata": {},
   "source": [
    "<font color='blue'><b>Комментарий ревьюера 2: </b></font> ❌\\\n",
    "<font color='red'>~~В DateCrawled данные за 2016 год, то есть все года регистрации > 2016 — выбросы (не 2019).~~</font>"
   ]
  },
  {
   "cell_type": "markdown",
   "metadata": {},
   "source": [
    "<font color='blue'><b>Комментарий ревьюера 3: </b></font> ✔️\\\n",
    "<font color='green'> 👍</font>"
   ]
  },
  {
   "cell_type": "code",
   "execution_count": 32,
   "metadata": {},
   "outputs": [
    {
     "data": {
      "text/plain": [
       "[100, 90, 80, 70, 60, 50, 40, 30, 20, 10]"
      ]
     },
     "metadata": {},
     "output_type": "display_data"
    },
    {
     "data": {
      "text/plain": [
       "[0.41449417937366784,\n",
       " 0.3603065148323109,\n",
       " 0.32074852976207047,\n",
       " 0.23770986273654512,\n",
       " 0.15770912027025774,\n",
       " 0.10911470176057318,\n",
       " 0.09736826637215504,\n",
       " 0.09597614208329854,\n",
       " 0.09462732832787311,\n",
       " 0.09408594665998447]"
      ]
     },
     "metadata": {},
     "output_type": "display_data"
    },
    {
     "data": {
      "image/png": "[encoded data removed]",
      "text/plain": [
       "<Figure size 432x288 with 1 Axes>"
      ]
     },
     "metadata": {
      "needs_background": "light"
     },
     "output_type": "display_data"
    }
   ],
   "source": [
    "x_values = []\n",
    "y_values = []\n",
    "tmp = 100\n",
    "for i in range(10):\n",
    "    value = data[data['Power'] < tmp].shape[0] / data.shape[0]\n",
    "    y_values.append(value)\n",
    "    x_values.append(tmp)\n",
    "    tmp -= 10\n",
    "display(x_values, y_values)\n",
    "\n",
    "plt.plot(x_values, y_values)\n",
    "plt.xlabel('Мощность')\n",
    "plt.ylabel('Процент данных')\n",
    "plt.title('Процент данных с мощностью меньше указанного значения')\n",
    "plt.show()"
   ]
  },
  {
   "cell_type": "markdown",
   "metadata": {},
   "source": [
    "По графику видно что примерно 10 процентов данных состоят из машин с количесвом лошадей, равным 0"
   ]
  },
  {
   "cell_type": "markdown",
   "metadata": {},
   "source": [
    "Заполним эти данные медианным значением для сохранения данных и уменьшения искажений. В начале 1910 годов машины имели в среднем 20 - 30 лошадиных сил, потому отбросим данные, где значения меньше 30"
   ]
  },
  {
   "cell_type": "code",
   "execution_count": 33,
   "metadata": {},
   "outputs": [],
   "source": [
    "def add_power(value, median_value):\n",
    "    if value < 30:\n",
    "        return median_value\n",
    "    else:\n",
    "        return value\n",
    "\n",
    "median_power = data['Power'].median()\n",
    "data['Power'] = data['Power'].apply(add_power, median_value=median_power)\n"
   ]
  },
  {
   "cell_type": "markdown",
   "metadata": {},
   "source": [
    "Подкорректируем верхнюю границу"
   ]
  },
  {
   "cell_type": "code",
   "execution_count": 34,
   "metadata": {},
   "outputs": [
    {
     "data": {
      "text/plain": [
       "0.05959220039165097"
      ]
     },
     "execution_count": 34,
     "metadata": {},
     "output_type": "execute_result"
    }
   ],
   "source": [
    "data[data['Power'] > 210].shape[0] / data.shape[0]"
   ]
  },
  {
   "cell_type": "markdown",
   "metadata": {},
   "source": [
    "Отбросим значения свыше 210 лошадиных сил"
   ]
  },
  {
   "cell_type": "code",
   "execution_count": 35,
   "metadata": {},
   "outputs": [],
   "source": [
    "data = data[data['Power'] <= 210]"
   ]
  },
  {
   "cell_type": "markdown",
   "metadata": {},
   "source": [
    "<font color='blue'><b>Комментарий ревьюера : </b></font> ✔️\\\n",
    "<font color='green'> 👍</font>"
   ]
  },
  {
   "cell_type": "code",
   "execution_count": 36,
   "metadata": {},
   "outputs": [
    {
     "data": {
      "image/png": "[encoded data removed]",
      "text/plain": [
       "<Figure size 432x288 with 1 Axes>"
      ]
     },
     "metadata": {
      "needs_background": "light"
     },
     "output_type": "display_data"
    }
   ],
   "source": [
    "data['Power'].hist(bins = math.ceil(np.log(len(data['Power'].unique())) + 1))\n",
    "plt.xlim(data['Power'].min(), data['Power'].max() * 1.1)\n",
    "plt.title(f\"Частота значения для 'Power'\")\n",
    "plt.ylabel('Частота')\n",
    "plt.xlabel('Количество')\n",
    "plt.show()"
   ]
  },
  {
   "cell_type": "code",
   "execution_count": 37,
   "metadata": {},
   "outputs": [
    {
     "data": {
      "text/plain": [
       "count    303984.000000\n",
       "mean        111.334909\n",
       "std          37.722242\n",
       "min          30.000000\n",
       "25%          80.000000\n",
       "50%         105.000000\n",
       "75%         140.000000\n",
       "max         210.000000\n",
       "Name: Power, dtype: float64"
      ]
     },
     "execution_count": 37,
     "metadata": {},
     "output_type": "execute_result"
    }
   ],
   "source": [
    "data['Power'].describe()"
   ]
  },
  {
   "cell_type": "markdown",
   "metadata": {},
   "source": [
    "Наблюдаем распределение Пуассона с медианой в 105 л.c, min - 30, max - 210"
   ]
  },
  {
   "cell_type": "code",
   "execution_count": 38,
   "metadata": {},
   "outputs": [
    {
     "data": {
      "image/png": "[encoded data removed]",
      "text/plain": [
       "<Figure size 432x288 with 1 Axes>"
      ]
     },
     "metadata": {
      "needs_background": "light"
     },
     "output_type": "display_data"
    }
   ],
   "source": [
    "plt.boxplot(data['Power'])\n",
    "plt.title(f\"Ящик с усами для Power\")\n",
    "plt.ylabel('Значения')\n",
    "plt.show()"
   ]
  },
  {
   "cell_type": "code",
   "execution_count": 39,
   "metadata": {},
   "outputs": [
    {
     "data": {
      "image/png": "[encoded data removed]",
      "text/plain": [
       "<Figure size 720x576 with 1 Axes>"
      ]
     },
     "metadata": {},
     "output_type": "display_data"
    },
    {
     "name": "stdout",
     "output_type": "stream",
     "text": [
      "VehicleType\n",
      "sedan          80787\n",
      "small          75376\n",
      "wagon          59346\n",
      "bus            28045\n",
      "convertible    18014\n",
      "no_info        17353\n",
      "coupe          12694\n",
      "suv             9452\n",
      "other           2917\n",
      "Name: PostalCode, dtype: int64\n",
      "\n",
      "Соотношение максимальной группы к минимальной: 27.695234830305107\n"
     ]
    },
    {
     "data": {
      "image/png": "[encoded data removed]",
      "text/plain": [
       "<Figure size 720x576 with 1 Axes>"
      ]
     },
     "metadata": {},
     "output_type": "display_data"
    },
    {
     "name": "stdout",
     "output_type": "stream",
     "text": [
      "Gearbox\n",
      "manual     241300\n",
      "auto        49018\n",
      "no_info     13666\n",
      "Name: PostalCode, dtype: int64\n",
      "\n",
      "Соотношение максимальной группы к минимальной: 17.656958876042733\n"
     ]
    },
    {
     "data": {
      "image/png": "[encoded data removed]",
      "text/plain": [
       "<Figure size 720x576 with 1 Axes>"
      ]
     },
     "metadata": {},
     "output_type": "display_data"
    },
    {
     "name": "stdout",
     "output_type": "stream",
     "text": [
      "FuelType\n",
      "petrol      189438\n",
      "gasoline     88272\n",
      "no_info      21264\n",
      "lpg           4059\n",
      "cng            525\n",
      "hybrid         207\n",
      "other          137\n",
      "electric        82\n",
      "Name: PostalCode, dtype: int64\n",
      "\n",
      "Соотношение максимальной группы к минимальной: 2310.2195121951218\n"
     ]
    },
    {
     "data": {
      "image/png": "[encoded data removed]",
      "text/plain": [
       "<Figure size 720x576 with 1 Axes>"
      ]
     },
     "metadata": {},
     "output_type": "display_data"
    },
    {
     "name": "stdout",
     "output_type": "stream",
     "text": [
      "Brand\n",
      "volkswagen        67872\n",
      "opel              34969\n",
      "bmw               28884\n",
      "mercedes_benz     25777\n",
      "audi              23630\n",
      "ford              22148\n",
      "renault           15788\n",
      "peugeot           10219\n",
      "fiat               8541\n",
      "seat               6101\n",
      "skoda              5245\n",
      "mazda              5045\n",
      "smart              4935\n",
      "citroen            4668\n",
      "nissan             4348\n",
      "toyota             4335\n",
      "hyundai            3336\n",
      "mini               2952\n",
      "volvo              2877\n",
      "mitsubishi         2701\n",
      "honda              2540\n",
      "kia                2278\n",
      "suzuki             2138\n",
      "sonstige_autos     2111\n",
      "alfa_romeo         2049\n",
      "chevrolet          1497\n",
      "chrysler           1069\n",
      "dacia               862\n",
      "daihatsu            703\n",
      "subaru              595\n",
      "daewoo              483\n",
      "land_rover          468\n",
      "saab                448\n",
      "trabant             446\n",
      "jeep                434\n",
      "rover               415\n",
      "lancia              412\n",
      "porsche             231\n",
      "jaguar              229\n",
      "lada                205\n",
      "Name: PostalCode, dtype: int64\n",
      "\n",
      "Соотношение максимальной группы к минимальной: 331.0829268292683\n"
     ]
    },
    {
     "data": {
      "image/png": "[encoded data removed]",
      "text/plain": [
       "<Figure size 720x576 with 1 Axes>"
      ]
     },
     "metadata": {},
     "output_type": "display_data"
    },
    {
     "name": "stdout",
     "output_type": "stream",
     "text": [
      "Repaired\n",
      "no     274317\n",
      "yes     29667\n",
      "Name: PostalCode, dtype: int64\n",
      "\n",
      "Соотношение максимальной группы к минимальной: 9.246536555769037\n"
     ]
    }
   ],
   "source": [
    "for col in cat_cols:\n",
    "    if col == 'Model': continue\n",
    "    plt.figure(figsize=(10, 8))\n",
    "    data_tmp = data.pivot_table(index = col, values = 'PostalCode', aggfunc = 'count')\n",
    "    plt.pie(data_tmp['PostalCode'], labels = data_tmp.index, autopct = '%1.1f%%', startangle = 90)\n",
    "    plt.title(col)\n",
    "    plt.show()\n",
    "    print(data_tmp['PostalCode'].sort_values(ascending = False))\n",
    "    print()\n",
    "    print(f\"Соотношение максимальной группы к минимальной: {data_tmp['PostalCode'].max() / data_tmp['PostalCode'].min()}\")"
   ]
  },
  {
   "cell_type": "markdown",
   "metadata": {},
   "source": [
    "Взглянув на диаграммы категориальных признаков, можно сказать следующее:\n",
    "- `VehicleType` : больше всего машин с кузовом sedan, small и wagon, меньше всего suv\n",
    "- `Gearbox`: примерно 83% машин имеют ручную коробку передач, остальные машины - автомат\n",
    "- `FuelType`: 67% машин имеют тип топлива petrol, 31% - gasoline\n",
    "- `Brand`: среди всех марок машин явным лидеров является volkswagen, затем идет opel и bmw\n",
    "- `Repaired`: 88% машин не были в ремонте"
   ]
  },
  {
   "cell_type": "markdown",
   "metadata": {},
   "source": [
    "<font color='blue'><b>Комментарий ревьюера : </b></font> ✔️\\\n",
    "<font color='green'> 👍</font>"
   ]
  },
  {
   "cell_type": "markdown",
   "metadata": {},
   "source": [
    "### Вывод по исследовательскому анализу\n",
    "Проанализировав численные столбцы, можно сказать следующее:\n",
    "\n",
    "`Price` - похоже на распределение Пуассона, так как дорогих машин явно меньше, чем машин подешевле, потому дорогие машины показываются как выбросы на диаграмме размаха. \\\n",
    "min - 0 euro, median - 2700 euro, max - 20000 eu. \\\n",
    "Машина за 0 евро вызывает подозрения, данное значение рассмотрим отдельно\n",
    "\n",
    "`RegistrationYear` - здесь отчетливо видно, что большинство машин были зарегестрированы в начале 2000-ых, выбросами являются очень старые машины старее 1985 года. \\\n",
    "min - 1910, median - 2003, max - 2016\n",
    "\n",
    "`Power` - наблюдаем распределение Пуассона с медианой в 105 л.c, min - 30, max - 210\n",
    "\n",
    "`Kilometer` - похоже на распределение Пуассона, вполне логично ожидать большое количество поддержаных машин с большим значением пробега, наблюдаются выбросы среди машин с пробегом меньше 90000 км(вполне логично, так как более прокатанных машин больше) \\\n",
    "min - 5000 km, median - 150000 km, max - 150000 km\n",
    "\n",
    "`RegistrationMonth` - по распределение видно, что больше всего машин регистрируют с марта по апрель, а еще чаще с сентября по декабрь. Заменил нулевой месяц на медиану для сохранения данных и уменьшения искажений\n",
    "\n",
    "`NumberOfPictures` - имеет всего одно значение, равное 0, то есть все объявления не содержат фотографий\n",
    "\n",
    "Взглянув на диаграммы категориальных признаков, можно сказать следующее:\n",
    "- `VehicleType` : больше всего машин с кузовом sedan, small и wagon, меньше всего suv\n",
    "- `Gearbox`: примерно 83% машин имеют ручную коробку передач, остальные машины - автомат\n",
    "- `FuelType`: 67% машин имеют тип топлива petrol, 31% - gasoline\n",
    "- `Brand`: среди всех марок машин явным лидеров является volkswagen, затем идет opel и bmw\n",
    "- `Repaired`: 88% машин не были в ремонте\n"
   ]
  },
  {
   "cell_type": "markdown",
   "metadata": {},
   "source": [
    "## Корреляционный анализ"
   ]
  },
  {
   "cell_type": "markdown",
   "metadata": {},
   "source": [
    "Построим матрицу корреляции"
   ]
  },
  {
   "cell_type": "code",
   "execution_count": 40,
   "metadata": {},
   "outputs": [
    {
     "data": {
      "image/png": "[encoded data removed]",
      "text/plain": [
       "<Figure size 720x576 with 2 Axes>"
      ]
     },
     "metadata": {
      "needs_background": "light"
     },
     "output_type": "display_data"
    }
   ],
   "source": [
    "interval_cols = ['Price', 'RegistrationYear', 'Power', 'Kilometer', 'RegistrationMonth']\n",
    "\n",
    "fig, axes = plt.subplots(figsize=(10, 8))\n",
    "sns.heatmap(data.drop(['PostalCode', 'DateCrawled', 'NumberOfPictures', 'DateCreated', 'LastSeen'], axis=1).phik_matrix(interval_cols = interval_cols), annot = True, fmt = '.2f', ax = axes)\n",
    "\n",
    "plt.title('Матрица корреляции')\n",
    "plt.show()"
   ]
  },
  {
   "cell_type": "markdown",
   "metadata": {},
   "source": [
    "### Вывод по корреляционному анализу\n",
    "Наблюдаем мультикорреляцию между `Model` и `Brand`, что вполне логично. С target признаком больше всего коррелируют `Model`, `RegistrationYear`, `Power`, `Repaired`. Вполне логично было увидеть именно эти признаки как наиболее коррелирующие, так как год регистрации показывает, насколько машина старая, скорее всего старые машины все стоят дешевле(если они не антиквариаты какие-нибудь), аналогично думаю понятна связь с количеством лошадиных сил и наличие ремонта. `VehicleType` так же сильно коррелирует с `Model`"
   ]
  },
  {
   "cell_type": "markdown",
   "metadata": {},
   "source": [
    "## Обучение моделей"
   ]
  },
  {
   "cell_type": "markdown",
   "metadata": {},
   "source": [
    "Все категориальные признаки кроме `Repaired` закодируем OneHotEncoder, `Repaired` - OrdinalEncoder"
   ]
  },
  {
   "cell_type": "markdown",
   "metadata": {},
   "source": [
    "Отбросим `NumberOfPictures`, так как это значение везде одинаковое, а также отбросим `Brand`, так как `Brand` и `Model` коррелируют друг с другом(коэффициент равен 1)"
   ]
  },
  {
   "cell_type": "code",
   "execution_count": 41,
   "metadata": {},
   "outputs": [],
   "source": [
    "ohe_cols = ['Gearbox', 'Model', 'FuelType']\n",
    "ord_cols = ['Repaired']\n"
   ]
  },
  {
   "cell_type": "markdown",
   "metadata": {},
   "source": [
    "<font color='blue'><b>Комментарий ревьюера : </b></font> ✔️\\\n",
    "<font color='green'> 👍</font>"
   ]
  },
  {
   "cell_type": "code",
   "execution_count": 42,
   "metadata": {},
   "outputs": [
    {
     "data": {
      "text/plain": [
       "['RegistrationYear', 'Power', 'Kilometer', 'RegistrationMonth']"
      ]
     },
     "execution_count": 42,
     "metadata": {},
     "output_type": "execute_result"
    }
   ],
   "source": [
    "num_cols.remove('NumberOfPictures')\n",
    "num_cols.remove('Price')\n",
    "num_cols"
   ]
  },
  {
   "cell_type": "code",
   "execution_count": 43,
   "metadata": {
    "scrolled": true
   },
   "outputs": [
    {
     "name": "stdout",
     "output_type": "stream",
     "text": [
      "30288 было удалено\n"
     ]
    }
   ],
   "source": [
    "new_data = data.drop(\n",
    "        [\n",
    "            'DateCrawled',\n",
    "            'NumberOfPictures',\n",
    "            'PostalCode',\n",
    "            'LastSeen',\n",
    "            'Brand',\n",
    "            'DateCreated',\n",
    "            'VehicleType'\n",
    "        ],\n",
    "        axis = 1\n",
    "    )\n",
    "\n",
    "if (new_data.duplicated().sum() != 0):\n",
    "    count = new_data.duplicated().sum()\n",
    "    new_data = new_data.drop_duplicates()\n",
    "    print(f\"{count} было удалено\")"
   ]
  },
  {
   "cell_type": "markdown",
   "metadata": {},
   "source": [
    "<font color='blue'><b>Комментарий ревьюера 2: </b></font> ✔️\\\n",
    "<font color='green'> Отлично! Удалили явные дубликаты.</font>"
   ]
  },
  {
   "cell_type": "code",
   "execution_count": 44,
   "metadata": {},
   "outputs": [],
   "source": [
    "X = new_data.drop('Price', axis = 1)\n",
    "y = new_data['Price']"
   ]
  },
  {
   "cell_type": "code",
   "execution_count": 45,
   "metadata": {},
   "outputs": [],
   "source": [
    "X_train, X_test, y_train, y_test = train_test_split(\n",
    "    X,\n",
    "    y,\n",
    "    test_size = 0.25,\n",
    "    random_state = RANDOM_STATE\n",
    ")"
   ]
  },
  {
   "cell_type": "markdown",
   "metadata": {},
   "source": [
    "<font color='blue'><b>Комментарий ревьюера: </b></font> ❌\\\n",
    "<font color='red'>~~Так как мы удалили часть признаков, у нас могут появиться новые явные дубликаты: чем меньше признаков остаётся, тем выше шанс, что значения остальных признаков будут пересекаться. При этом ценности для модели такие наблюдения уже не принесут, поэтому стоит проверить дубликаты также в финальной версии таблицы.~~</font>"
   ]
  },
  {
   "cell_type": "code",
   "execution_count": 46,
   "metadata": {},
   "outputs": [],
   "source": [
    "ohe = OneHotEncoder(\n",
    "    drop = 'first', \n",
    "    handle_unknown = 'error'\n",
    ")\n",
    "ord = OrdinalEncoder(\n",
    "                categories=[\n",
    "                    ['no', 'yes']\n",
    "                ], \n",
    "                handle_unknown = 'use_encoded_value',\n",
    "                unknown_value = np.nan\n",
    ")\n",
    "scaler = StandardScaler()"
   ]
  },
  {
   "cell_type": "code",
   "execution_count": 47,
   "metadata": {},
   "outputs": [
    {
     "data": {
      "text/html": [
       "<div>\n",
       "<style scoped>\n",
       "    .dataframe tbody tr th:only-of-type {\n",
       "        vertical-align: middle;\n",
       "    }\n",
       "\n",
       "    .dataframe tbody tr th {\n",
       "        vertical-align: top;\n",
       "    }\n",
       "\n",
       "    .dataframe thead th {\n",
       "        text-align: right;\n",
       "    }\n",
       "</style>\n",
       "<table border=\"1\" class=\"dataframe\">\n",
       "  <thead>\n",
       "    <tr style=\"text-align: right;\">\n",
       "      <th></th>\n",
       "      <th>RegistrationYear</th>\n",
       "      <th>Gearbox</th>\n",
       "      <th>Power</th>\n",
       "      <th>Model</th>\n",
       "      <th>Kilometer</th>\n",
       "      <th>RegistrationMonth</th>\n",
       "      <th>FuelType</th>\n",
       "      <th>Repaired</th>\n",
       "    </tr>\n",
       "  </thead>\n",
       "  <tbody>\n",
       "    <tr>\n",
       "      <th>120070</th>\n",
       "      <td>2008</td>\n",
       "      <td>manual</td>\n",
       "      <td>80.0</td>\n",
       "      <td>polo</td>\n",
       "      <td>125000</td>\n",
       "      <td>11.0</td>\n",
       "      <td>petrol</td>\n",
       "      <td>no</td>\n",
       "    </tr>\n",
       "    <tr>\n",
       "      <th>69519</th>\n",
       "      <td>2000</td>\n",
       "      <td>manual</td>\n",
       "      <td>60.0</td>\n",
       "      <td>polo</td>\n",
       "      <td>150000</td>\n",
       "      <td>11.0</td>\n",
       "      <td>no_info</td>\n",
       "      <td>no</td>\n",
       "    </tr>\n",
       "    <tr>\n",
       "      <th>164393</th>\n",
       "      <td>2009</td>\n",
       "      <td>manual</td>\n",
       "      <td>80.0</td>\n",
       "      <td>corsa</td>\n",
       "      <td>100000</td>\n",
       "      <td>9.0</td>\n",
       "      <td>petrol</td>\n",
       "      <td>no</td>\n",
       "    </tr>\n",
       "    <tr>\n",
       "      <th>174881</th>\n",
       "      <td>1998</td>\n",
       "      <td>manual</td>\n",
       "      <td>102.0</td>\n",
       "      <td>3er</td>\n",
       "      <td>150000</td>\n",
       "      <td>2.0</td>\n",
       "      <td>petrol</td>\n",
       "      <td>yes</td>\n",
       "    </tr>\n",
       "    <tr>\n",
       "      <th>222393</th>\n",
       "      <td>2002</td>\n",
       "      <td>manual</td>\n",
       "      <td>170.0</td>\n",
       "      <td>5er</td>\n",
       "      <td>150000</td>\n",
       "      <td>7.0</td>\n",
       "      <td>petrol</td>\n",
       "      <td>no</td>\n",
       "    </tr>\n",
       "  </tbody>\n",
       "</table>\n",
       "</div>"
      ],
      "text/plain": [
       "        RegistrationYear Gearbox  Power  Model  Kilometer  RegistrationMonth  \\\n",
       "120070              2008  manual   80.0   polo     125000               11.0   \n",
       "69519               2000  manual   60.0   polo     150000               11.0   \n",
       "164393              2009  manual   80.0  corsa     100000                9.0   \n",
       "174881              1998  manual  102.0    3er     150000                2.0   \n",
       "222393              2002  manual  170.0    5er     150000                7.0   \n",
       "\n",
       "       FuelType Repaired  \n",
       "120070   petrol       no  \n",
       "69519   no_info       no  \n",
       "164393   petrol       no  \n",
       "174881   petrol      yes  \n",
       "222393   petrol       no  "
      ]
     },
     "execution_count": 47,
     "metadata": {},
     "output_type": "execute_result"
    }
   ],
   "source": [
    "X_train.head()"
   ]
  },
  {
   "cell_type": "code",
   "execution_count": 48,
   "metadata": {},
   "outputs": [
    {
     "data": {
      "text/html": [
       "<div>\n",
       "<style scoped>\n",
       "    .dataframe tbody tr th:only-of-type {\n",
       "        vertical-align: middle;\n",
       "    }\n",
       "\n",
       "    .dataframe tbody tr th {\n",
       "        vertical-align: top;\n",
       "    }\n",
       "\n",
       "    .dataframe thead th {\n",
       "        text-align: right;\n",
       "    }\n",
       "</style>\n",
       "<table border=\"1\" class=\"dataframe\">\n",
       "  <thead>\n",
       "    <tr style=\"text-align: right;\">\n",
       "      <th></th>\n",
       "      <th>RegistrationYear</th>\n",
       "      <th>Gearbox</th>\n",
       "      <th>Power</th>\n",
       "      <th>Model</th>\n",
       "      <th>Kilometer</th>\n",
       "      <th>RegistrationMonth</th>\n",
       "      <th>FuelType</th>\n",
       "      <th>Repaired</th>\n",
       "    </tr>\n",
       "  </thead>\n",
       "  <tbody>\n",
       "    <tr>\n",
       "      <th>27595</th>\n",
       "      <td>2000</td>\n",
       "      <td>manual</td>\n",
       "      <td>105.0</td>\n",
       "      <td>a_klasse</td>\n",
       "      <td>125000</td>\n",
       "      <td>1.0</td>\n",
       "      <td>petrol</td>\n",
       "      <td>no</td>\n",
       "    </tr>\n",
       "    <tr>\n",
       "      <th>131041</th>\n",
       "      <td>2004</td>\n",
       "      <td>auto</td>\n",
       "      <td>95.0</td>\n",
       "      <td>kangoo</td>\n",
       "      <td>150000</td>\n",
       "      <td>4.0</td>\n",
       "      <td>petrol</td>\n",
       "      <td>no</td>\n",
       "    </tr>\n",
       "    <tr>\n",
       "      <th>267638</th>\n",
       "      <td>1999</td>\n",
       "      <td>manual</td>\n",
       "      <td>122.0</td>\n",
       "      <td>sprinter</td>\n",
       "      <td>150000</td>\n",
       "      <td>7.0</td>\n",
       "      <td>gasoline</td>\n",
       "      <td>no</td>\n",
       "    </tr>\n",
       "    <tr>\n",
       "      <th>77079</th>\n",
       "      <td>1998</td>\n",
       "      <td>auto</td>\n",
       "      <td>136.0</td>\n",
       "      <td>omega</td>\n",
       "      <td>150000</td>\n",
       "      <td>12.0</td>\n",
       "      <td>lpg</td>\n",
       "      <td>no</td>\n",
       "    </tr>\n",
       "    <tr>\n",
       "      <th>30809</th>\n",
       "      <td>2000</td>\n",
       "      <td>manual</td>\n",
       "      <td>102.0</td>\n",
       "      <td>c_klasse</td>\n",
       "      <td>70000</td>\n",
       "      <td>1.0</td>\n",
       "      <td>gasoline</td>\n",
       "      <td>no</td>\n",
       "    </tr>\n",
       "  </tbody>\n",
       "</table>\n",
       "</div>"
      ],
      "text/plain": [
       "        RegistrationYear Gearbox  Power     Model  Kilometer  \\\n",
       "27595               2000  manual  105.0  a_klasse     125000   \n",
       "131041              2004    auto   95.0    kangoo     150000   \n",
       "267638              1999  manual  122.0  sprinter     150000   \n",
       "77079               1998    auto  136.0     omega     150000   \n",
       "30809               2000  manual  102.0  c_klasse      70000   \n",
       "\n",
       "        RegistrationMonth  FuelType Repaired  \n",
       "27595                 1.0    petrol       no  \n",
       "131041                4.0    petrol       no  \n",
       "267638                7.0  gasoline       no  \n",
       "77079                12.0       lpg       no  \n",
       "30809                 1.0  gasoline       no  "
      ]
     },
     "execution_count": 48,
     "metadata": {},
     "output_type": "execute_result"
    }
   ],
   "source": [
    "X_test.head()"
   ]
  },
  {
   "cell_type": "code",
   "execution_count": 49,
   "metadata": {},
   "outputs": [
    {
     "data": {
      "text/plain": [
       "['Gearbox', 'Model', 'FuelType']"
      ]
     },
     "execution_count": 49,
     "metadata": {},
     "output_type": "execute_result"
    }
   ],
   "source": [
    "ohe_cols\n"
   ]
  },
  {
   "cell_type": "code",
   "execution_count": 50,
   "metadata": {},
   "outputs": [
    {
     "name": "stdout",
     "output_type": "stream",
     "text": [
      "Gearbox\n",
      "['manual' 'auto' 'no_info']\n",
      "3\n",
      "\n",
      "Model\n",
      "['polo' 'corsa' '3er' '5er' 'clk' 'scenic' 'boxster' 'cherokee' 'a4'\n",
      " 'other' 'vectra' 'spark' 'clio' 'escort' 'fiesta' 'twingo' 'passat'\n",
      " 'golf' 'megane' 'fortwo' 'octavia' 'punto' 'no_info' 'beetle' '6_reihe'\n",
      " 'astra' 'e_klasse' 'a6' 'corolla' 'swift' 'cr_reihe' 'a_klasse' 'focus'\n",
      " 'matiz' 'freelander' 'verso' 'tigra' '850' 'transporter' 'lupo' '2_reihe'\n",
      " 'combo' 'ibiza' 'c5' 'up' 'one' 'i_reihe' 'mx_reihe' '4_reihe' 'a3' '156'\n",
      " 'alhambra' 'mondeo' 'vito' 'c_klasse' 'touareg' 'touran' 'z_reihe'\n",
      " '3_reihe' 'mustang' 'micra' 'v70' 'm_klasse' 's_klasse' 'zafira' 'lybra'\n",
      " '500' 'ka' 'sorento' 'omega' 'aveo' 'cooper' 'fusion' 'superb' '1er'\n",
      " 'croma' 'seicento' 'meriva' 'a1' 'sportage' 'civic' 'slk' 'justy' 'grand'\n",
      " 'b_klasse' 'scirocco' '80' '1_reihe' 'signum' 'cuore' 'panda' 'picanto'\n",
      " 'fabia' 'caddy' 'nubira' 'leon' 'legacy' 'bravo' 'kaefer' 'fox'\n",
      " 'g_klasse' 'tt' 'laguna' 'c1' '159' 's60' 'ducato' 'jetta' 'roomster'\n",
      " 'almera' 'kangoo' 'outlander' '147' 'stilo' 'avensis' 'cordoba' 'sharan'\n",
      " 'tiguan' 'galant' 'agila' 'primera' 'berlingo' 'espace' 'doblo' 'kadett'\n",
      " 'carisma' 'sprinter' 'duster' 'yaris' 'c2' 's_max' 'colt' 'vivaro' 'c4'\n",
      " 'a2' 'voyager' 'galaxy' '601' 'x_type' 'transit' 'a5' 'arosa' 'aygo'\n",
      " 'x_reihe' 'note' 'captiva' 'bora' 'forfour' 'altea' 'v50' 'pajero' 'rio'\n",
      " 'c3' 'exeo' 'v40' 's_type' 'getz' 'yeti' 'accord' '5_reihe' 'wrangler'\n",
      " 'ceed' 'clubman' 'lancer' 'calibra' 'sl' 'modus' 'cc' 'ptcruiser' 'logan'\n",
      " 'carnival' 'niva' 'xc_reihe' 'insignia' '900' 'c_max' 'forester' 'santa'\n",
      " 'qashqai' '100' 'v_klasse' 'ypsilon' 'sandero' '911' 'juke' '9000' 'eos'\n",
      " 'jimny' 'roadster' 'x_trail' 'c_reihe' 'rav' 'impreza' 'antara' 'kuga'\n",
      " 'rx_reihe' 'auris' 'viano' '7er' 'kalos' 'cl' 'a8' 'toledo' 'mii'\n",
      " 'materia' 'jazz' 'sirion' 'glk' 'spider' 'defender' 'delta' 'b_max' 'v60'\n",
      " 'q3' '200' 'i3' 'q5' 'tucson' 'discovery' 'phaeton' 'cx_reihe' 'amarok'\n",
      " 'samara' 'range_rover_sport' 'navara' 'lanos' '145' 'lodgy' 'move' '90'\n",
      " 'citigo' 'cayenne' 'kalina' 'musa' 'r19' 'terios' 'kappa' 'range_rover'\n",
      " 'q7' '300c' '6er' 'charade' 'm_reihe' 'serie_3' 'rangerover' 'elefantino'\n",
      " 'serie_2' 'crossfire']\n",
      "247\n",
      "\n",
      "FuelType\n",
      "['petrol' 'no_info' 'gasoline' 'lpg' 'other' 'cng' 'electric' 'hybrid']\n",
      "8\n",
      "\n"
     ]
    }
   ],
   "source": [
    "for i in ohe_cols:\n",
    "    print(i)\n",
    "    print(X_train[i].unique())\n",
    "    print(len(X_test[i].unique()))\n",
    "    print()"
   ]
  },
  {
   "cell_type": "code",
   "execution_count": 51,
   "metadata": {
    "scrolled": true
   },
   "outputs": [
    {
     "name": "stdout",
     "output_type": "stream",
     "text": [
      "Gearbox\n",
      "['manual' 'auto' 'no_info']\n",
      "3\n",
      "\n",
      "Model\n",
      "['a_klasse' 'kangoo' 'sprinter' 'omega' 'c_klasse' 'golf' 'zafira'\n",
      " 'passat' 'polo' 'eos' 'astra' 'transporter' '5er' '2_reihe' 'mondeo'\n",
      " 'sharan' 'yeti' 'a4' 'one' 'fabia' 'v70' 'e_klasse' 'escort' 'no_info'\n",
      " 'other' '3_reihe' 'tigra' 'discovery' 'touran' 'kalos' 'fiesta' 'avensis'\n",
      " '3er' 'focus' '601' 'toledo' 'vectra' 'lupo' 'leon' 'punto' 'c3'\n",
      " '6_reihe' 'megane' '80' 'arosa' 'jazz' 'ka' 'fortwo' 'sportage' 'ibiza'\n",
      " 'accord' 'corsa' 'tt' 'insignia' 'micra' 'scirocco' '1er' '4_reihe'\n",
      " 'i_reihe' 'tiguan' 'berlingo' 'transit' '147' 'captiva' 'twingo' 'stilo'\n",
      " '159' 'pajero' 'mx_reihe' 'octavia' 'b_klasse' 'a3' 'scenic' '100'\n",
      " 'picanto' 'caddy' 'r19' 'sorento' 'note' 'qashqai' 'c1' 's_max' 'forfour'\n",
      " 'verso' 'beetle' 'c2' 'v40' 'clk' 'doblo' 'espace' 'colt' 'laguna'\n",
      " 'galant' 'primera' 'meriva' 'kaefer' 'vito' '1_reihe' 'almera' 'clio'\n",
      " 'santa' 'juke' 'a6' 'c_max' '500' 'corolla' 'rio' 'lanos' 'slk' 'superb'\n",
      " 'civic' 'cooper' 'ptcruiser' 'seicento' 'matiz' 'alhambra' 'cr_reihe'\n",
      " 'spider' 'panda' 'voyager' 'viano' 'charade' 'c5' 'z_reihe' 'x_reihe'\n",
      " 'delta' 'swift' '850' '6er' 'xc_reihe' 'bora' 'carisma' 'cordoba'\n",
      " 'outlander' 'navara' 'c4' 'a8' 'c_reihe' 'fox' 'agila' 'getz' 'cuore'\n",
      " 'signum' 'yaris' 'forester' 'carnival' 'citigo' 'kuga' 'bravo' 'impreza'\n",
      " 'aygo' 'rav' 'freelander' 'a1' 'jimny' 'combo' 'jetta' 'niva' 'modus'\n",
      " 'sl' 'vivaro' 'm_reihe' 'mustang' '156' 'galaxy' 'ducato' 'auris'\n",
      " 'tucson' 'kadett' 'altea' '5_reihe' 'lancer' 'duster' 'cc' 'v_klasse'\n",
      " 'rx_reihe' 'roadster' 'm_klasse' 'logan' '7er' 'v50' 'fusion' 'mii' 'cl'\n",
      " 's_klasse' 'up' 'x_trail' 'cx_reihe' 'a2' 'justy' 'ypsilon' 'touareg'\n",
      " 'sandero' 'x_type' 'terios' 'grand' 'a5' 'legacy' 'ceed' 'exeo' 'spark'\n",
      " 'g_klasse' 'range_rover' 'wrangler' '300c' 'lodgy' 's60' 'roomster'\n",
      " 'calibra' '145' 'sirion' 'clubman' 'serie_2' 'antara' 'musa' 'q5' 'glk'\n",
      " 'move' 'v60' 's_type' 'cherokee' 'defender' '900' '90' 'materia' 'aveo'\n",
      " 'cayenne' 'nubira' '9000' '911' 'lybra' 'range_rover_sport' 'i3' 'croma'\n",
      " 'boxster' 'b_max' 'serie_1' '200' 'crossfire' 'elefantino' 'samara'\n",
      " 'phaeton' 'amarok' 'rangerover' 'q3' 'serie_3' 'kappa']\n",
      "247\n",
      "\n",
      "FuelType\n",
      "['petrol' 'gasoline' 'lpg' 'no_info' 'cng' 'electric' 'hybrid' 'other']\n",
      "8\n",
      "\n"
     ]
    }
   ],
   "source": [
    "for i in ohe_cols:\n",
    "    print(i)\n",
    "    print(X_test[i].unique())\n",
    "    print(len(X_test[i].unique()))\n",
    "    print()"
   ]
  },
  {
   "cell_type": "code",
   "execution_count": 52,
   "metadata": {},
   "outputs": [],
   "source": [
    "test_data = pd.concat([X_test, y_test], axis=1)\n",
    "\n",
    "unique_models_train = set(X_train[\"Model\"])\n",
    "\n",
    "filtered_test_data = test_data[test_data[\"Model\"].isin(unique_models_train)]\n",
    "\n",
    "X_test = filtered_test_data.drop(columns=['Price'], axis = 1)\n",
    "y_test= filtered_test_data['Price']\n"
   ]
  },
  {
   "cell_type": "markdown",
   "metadata": {},
   "source": [
    "<font color='blue'><b>Комментарий ревьюера : </b></font> ✔️\\\n",
    "<font color='green'> 👍</font>"
   ]
  },
  {
   "cell_type": "code",
   "execution_count": 53,
   "metadata": {},
   "outputs": [],
   "source": [
    "X_train_ohe = ohe.fit_transform(X_train[ohe_cols])\n",
    "X_test_ohe = ohe.transform(X_test[ohe_cols])\n",
    "\n",
    "X_train_ord = ord.fit_transform(X_train[ord_cols])\n",
    "X_test_ord= ord.transform(X_test[ord_cols])\n",
    "\n",
    "\n",
    "X_train_sc = scaler.fit_transform(X_train[num_cols])\n",
    "X_test_sc = scaler.transform(X_test[num_cols])\n",
    "\n",
    "X_train_ohe_df = pd.DataFrame(X_train_ohe.toarray(), columns=ohe.get_feature_names(ohe_cols))\n",
    "X_test_ohe_df = pd.DataFrame(X_test_ohe.toarray(), columns=ohe.get_feature_names(ohe_cols))\n",
    "\n",
    "ohe_feature_names = ohe.get_feature_names(ohe_cols)\n",
    "\n",
    "X_train_ohe_df = pd.DataFrame(X_train_ohe.toarray(), columns = ohe_feature_names)\n",
    "X_train_ord_df = pd.DataFrame(X_train_ord, columns = ord_cols)\n",
    "X_test_ohe_df = pd.DataFrame(X_test_ohe.toarray(), columns = ohe_feature_names)\n",
    "X_test_ord_df = pd.DataFrame(X_test_ord, columns = ord_cols)\n",
    "X_train_sc_df = pd.DataFrame(X_train_sc, columns = num_cols)\n",
    "X_test_sc_df = pd.DataFrame(X_test_sc, columns = num_cols)\n",
    "\n",
    "\n",
    "X_train_transformed = pd.concat([X_train_ohe_df, pd.DataFrame(X_train_ord, columns=ord_cols), pd.DataFrame(X_train_sc, columns=num_cols)], axis=1)\n",
    "X_test_transformed = pd.concat([X_test_ohe_df, pd.DataFrame(X_test_ord, columns=ord_cols), pd.DataFrame(X_test_sc, columns=num_cols)], axis=1)"
   ]
  },
  {
   "cell_type": "code",
   "execution_count": 54,
   "metadata": {},
   "outputs": [
    {
     "data": {
      "text/html": [
       "<div>\n",
       "<style scoped>\n",
       "    .dataframe tbody tr th:only-of-type {\n",
       "        vertical-align: middle;\n",
       "    }\n",
       "\n",
       "    .dataframe tbody tr th {\n",
       "        vertical-align: top;\n",
       "    }\n",
       "\n",
       "    .dataframe thead th {\n",
       "        text-align: right;\n",
       "    }\n",
       "</style>\n",
       "<table border=\"1\" class=\"dataframe\">\n",
       "  <thead>\n",
       "    <tr style=\"text-align: right;\">\n",
       "      <th></th>\n",
       "      <th>Gearbox_manual</th>\n",
       "      <th>Gearbox_no_info</th>\n",
       "      <th>Model_145</th>\n",
       "      <th>Model_147</th>\n",
       "      <th>Model_156</th>\n",
       "      <th>Model_159</th>\n",
       "      <th>Model_1_reihe</th>\n",
       "      <th>Model_1er</th>\n",
       "      <th>Model_200</th>\n",
       "      <th>Model_2_reihe</th>\n",
       "      <th>...</th>\n",
       "      <th>FuelType_hybrid</th>\n",
       "      <th>FuelType_lpg</th>\n",
       "      <th>FuelType_no_info</th>\n",
       "      <th>FuelType_other</th>\n",
       "      <th>FuelType_petrol</th>\n",
       "      <th>Repaired</th>\n",
       "      <th>RegistrationYear</th>\n",
       "      <th>Power</th>\n",
       "      <th>Kilometer</th>\n",
       "      <th>RegistrationMonth</th>\n",
       "    </tr>\n",
       "  </thead>\n",
       "  <tbody>\n",
       "    <tr>\n",
       "      <th>0</th>\n",
       "      <td>1.0</td>\n",
       "      <td>0.0</td>\n",
       "      <td>0.0</td>\n",
       "      <td>0.0</td>\n",
       "      <td>0.0</td>\n",
       "      <td>0.0</td>\n",
       "      <td>0.0</td>\n",
       "      <td>0.0</td>\n",
       "      <td>0.0</td>\n",
       "      <td>0.0</td>\n",
       "      <td>...</td>\n",
       "      <td>0.0</td>\n",
       "      <td>0.0</td>\n",
       "      <td>0.0</td>\n",
       "      <td>0.0</td>\n",
       "      <td>1.0</td>\n",
       "      <td>0.0</td>\n",
       "      <td>-0.367930</td>\n",
       "      <td>-0.169960</td>\n",
       "      <td>-0.067638</td>\n",
       "      <td>-1.667897</td>\n",
       "    </tr>\n",
       "    <tr>\n",
       "      <th>1</th>\n",
       "      <td>0.0</td>\n",
       "      <td>0.0</td>\n",
       "      <td>0.0</td>\n",
       "      <td>0.0</td>\n",
       "      <td>0.0</td>\n",
       "      <td>0.0</td>\n",
       "      <td>0.0</td>\n",
       "      <td>0.0</td>\n",
       "      <td>0.0</td>\n",
       "      <td>0.0</td>\n",
       "      <td>...</td>\n",
       "      <td>0.0</td>\n",
       "      <td>0.0</td>\n",
       "      <td>0.0</td>\n",
       "      <td>0.0</td>\n",
       "      <td>1.0</td>\n",
       "      <td>0.0</td>\n",
       "      <td>0.204594</td>\n",
       "      <td>-0.435214</td>\n",
       "      <td>0.593726</td>\n",
       "      <td>-0.730113</td>\n",
       "    </tr>\n",
       "    <tr>\n",
       "      <th>2</th>\n",
       "      <td>1.0</td>\n",
       "      <td>0.0</td>\n",
       "      <td>0.0</td>\n",
       "      <td>0.0</td>\n",
       "      <td>0.0</td>\n",
       "      <td>0.0</td>\n",
       "      <td>0.0</td>\n",
       "      <td>0.0</td>\n",
       "      <td>0.0</td>\n",
       "      <td>0.0</td>\n",
       "      <td>...</td>\n",
       "      <td>0.0</td>\n",
       "      <td>0.0</td>\n",
       "      <td>0.0</td>\n",
       "      <td>0.0</td>\n",
       "      <td>0.0</td>\n",
       "      <td>0.0</td>\n",
       "      <td>-0.511061</td>\n",
       "      <td>0.280971</td>\n",
       "      <td>0.593726</td>\n",
       "      <td>0.207670</td>\n",
       "    </tr>\n",
       "    <tr>\n",
       "      <th>3</th>\n",
       "      <td>0.0</td>\n",
       "      <td>0.0</td>\n",
       "      <td>0.0</td>\n",
       "      <td>0.0</td>\n",
       "      <td>0.0</td>\n",
       "      <td>0.0</td>\n",
       "      <td>0.0</td>\n",
       "      <td>0.0</td>\n",
       "      <td>0.0</td>\n",
       "      <td>0.0</td>\n",
       "      <td>...</td>\n",
       "      <td>0.0</td>\n",
       "      <td>1.0</td>\n",
       "      <td>0.0</td>\n",
       "      <td>0.0</td>\n",
       "      <td>0.0</td>\n",
       "      <td>0.0</td>\n",
       "      <td>-0.654192</td>\n",
       "      <td>0.652327</td>\n",
       "      <td>0.593726</td>\n",
       "      <td>1.770642</td>\n",
       "    </tr>\n",
       "    <tr>\n",
       "      <th>4</th>\n",
       "      <td>1.0</td>\n",
       "      <td>0.0</td>\n",
       "      <td>0.0</td>\n",
       "      <td>0.0</td>\n",
       "      <td>0.0</td>\n",
       "      <td>0.0</td>\n",
       "      <td>0.0</td>\n",
       "      <td>0.0</td>\n",
       "      <td>0.0</td>\n",
       "      <td>0.0</td>\n",
       "      <td>...</td>\n",
       "      <td>0.0</td>\n",
       "      <td>0.0</td>\n",
       "      <td>0.0</td>\n",
       "      <td>0.0</td>\n",
       "      <td>0.0</td>\n",
       "      <td>0.0</td>\n",
       "      <td>-0.367930</td>\n",
       "      <td>-0.249536</td>\n",
       "      <td>-1.522640</td>\n",
       "      <td>-1.667897</td>\n",
       "    </tr>\n",
       "  </tbody>\n",
       "</table>\n",
       "<p>5 rows × 261 columns</p>\n",
       "</div>"
      ],
      "text/plain": [
       "   Gearbox_manual  Gearbox_no_info  Model_145  Model_147  Model_156  \\\n",
       "0             1.0              0.0        0.0        0.0        0.0   \n",
       "1             0.0              0.0        0.0        0.0        0.0   \n",
       "2             1.0              0.0        0.0        0.0        0.0   \n",
       "3             0.0              0.0        0.0        0.0        0.0   \n",
       "4             1.0              0.0        0.0        0.0        0.0   \n",
       "\n",
       "   Model_159  Model_1_reihe  Model_1er  Model_200  Model_2_reihe  ...  \\\n",
       "0        0.0            0.0        0.0        0.0            0.0  ...   \n",
       "1        0.0            0.0        0.0        0.0            0.0  ...   \n",
       "2        0.0            0.0        0.0        0.0            0.0  ...   \n",
       "3        0.0            0.0        0.0        0.0            0.0  ...   \n",
       "4        0.0            0.0        0.0        0.0            0.0  ...   \n",
       "\n",
       "   FuelType_hybrid  FuelType_lpg  FuelType_no_info  FuelType_other  \\\n",
       "0              0.0           0.0               0.0             0.0   \n",
       "1              0.0           0.0               0.0             0.0   \n",
       "2              0.0           0.0               0.0             0.0   \n",
       "3              0.0           1.0               0.0             0.0   \n",
       "4              0.0           0.0               0.0             0.0   \n",
       "\n",
       "   FuelType_petrol  Repaired  RegistrationYear     Power  Kilometer  \\\n",
       "0              1.0       0.0         -0.367930 -0.169960  -0.067638   \n",
       "1              1.0       0.0          0.204594 -0.435214   0.593726   \n",
       "2              0.0       0.0         -0.511061  0.280971   0.593726   \n",
       "3              0.0       0.0         -0.654192  0.652327   0.593726   \n",
       "4              0.0       0.0         -0.367930 -0.249536  -1.522640   \n",
       "\n",
       "   RegistrationMonth  \n",
       "0          -1.667897  \n",
       "1          -0.730113  \n",
       "2           0.207670  \n",
       "3           1.770642  \n",
       "4          -1.667897  \n",
       "\n",
       "[5 rows x 261 columns]"
      ]
     },
     "execution_count": 54,
     "metadata": {},
     "output_type": "execute_result"
    }
   ],
   "source": [
    "X_test_transformed.head()"
   ]
  },
  {
   "cell_type": "markdown",
   "metadata": {},
   "source": [
    "<font color='blue'><b>Комментарий ревьюера: </b></font> ⚠️\\\n",
    "<font color='darkorange'>Датафреймы лучше всегда ограничивать методами .head(), .tail(), sample(). Иначе в выводах ячейки записывается весь Датафрейм, хоть он и не выводится на экран полностью. Такие Аутпуты сильно перегружают тетрадку.</font>"
   ]
  },
  {
   "cell_type": "markdown",
   "metadata": {},
   "source": [
    "## Подбор гиперпараметров для моделей"
   ]
  },
  {
   "cell_type": "markdown",
   "metadata": {},
   "source": [
    "Обучим модель линейной регрессии"
   ]
  },
  {
   "cell_type": "code",
   "execution_count": 55,
   "metadata": {
    "scrolled": false
   },
   "outputs": [
    {
     "name": "stdout",
     "output_type": "stream",
     "text": [
      "CPU times: user 43 s, sys: 15.5 s, total: 58.5 s\n",
      "Wall time: 58.5 s\n",
      "CPU times: user 0 ns, sys: 147 µs, total: 147 µs\n",
      "Wall time: 25.7 µs\n",
      "RMSE на кросс-валидации: [2668.10955863 2669.01234615 2656.97000927 2661.74785574 2655.78867433]\n",
      "Среднее значение RMSE на кросс-валидации: 2662.3256888253823\n"
     ]
    }
   ],
   "source": [
    "model = LinearRegression()\n",
    "%time scores = cross_val_score(model, X_train_transformed, y_train, scoring='neg_mean_squared_error', cv=5)\n",
    "%time rmse_scores = np.sqrt(-scores)\n",
    "print(\"RMSE на кросс-валидации:\", rmse_scores)\n",
    "print(\"Среднее значение RMSE на кросс-валидации:\", rmse_scores.mean())"
   ]
  },
  {
   "cell_type": "markdown",
   "metadata": {},
   "source": [
    "<font color='blue'><b>Комментарий ревьюера: </b></font> ✔️\\\n",
    "<font color='green'> Кодирование признаков соответсвует модели!</font>"
   ]
  },
  {
   "cell_type": "markdown",
   "metadata": {},
   "source": [
    "<font color='blue'><b>Комментарий ревьюера 2: </b></font> ⚠️\\\n",
    "<font color='darkorange'> Парметры нужно подобрать для **каждой** модели.</font>"
   ]
  },
  {
   "cell_type": "markdown",
   "metadata": {},
   "source": [
    "<font color='blue'><b>Комментарий ревьюера: </b></font> ✔️\\\n",
    "<font color='green'>Отлично что время обучения и время работы моделей измерено отдельно.</font>"
   ]
  },
  {
   "cell_type": "markdown",
   "metadata": {},
   "source": [
    "<font color='blue'><b>Комментарий ревьюера: </b></font> ❌\\\n",
    "<font color='red'> ~~Тестовую выборку нужно оставить для финального тестирования Лучшей модели. Для выбора лучшей модели и подбора гиперпараметров нужна ещё одна выборка - валидационная. Именно по ней оцениваются предсказания на \"конкурс моделей\". Или можно использовать кроссвалидацию, там валидационная выборка генерится автоматически.~~</font>"
   ]
  },
  {
   "cell_type": "markdown",
   "metadata": {},
   "source": [
    "Модель линейной регрессии имеет среднее значение RMSE = 2662, что довольно много."
   ]
  },
  {
   "cell_type": "markdown",
   "metadata": {},
   "source": [
    "<font color='purple'><b>Комментарий студента: Убрал Лассо, так как уж больно долго считает</b></font>"
   ]
  },
  {
   "cell_type": "markdown",
   "metadata": {},
   "source": [
    "<font color='blue'><b>Комментарий ревьюера 2: </b></font> ✔️\\\n",
    "<font color='green'> 👍</font>"
   ]
  },
  {
   "cell_type": "code",
   "execution_count": 56,
   "metadata": {},
   "outputs": [
    {
     "data": {
      "text/plain": [
       "['Gearbox', 'Model', 'FuelType', 'Repaired']"
      ]
     },
     "execution_count": 56,
     "metadata": {},
     "output_type": "execute_result"
    }
   ],
   "source": [
    "categ_cols = ohe_cols + ord_cols\n",
    "categ_cols"
   ]
  },
  {
   "cell_type": "code",
   "execution_count": 57,
   "metadata": {},
   "outputs": [],
   "source": [
    "X_train_lgmb = X_train.copy()\n",
    "X_train_lgmb[categ_cols] = X_train[categ_cols].astype('category')\n",
    "\n",
    "X_test_lgmb = X_test.copy()\n",
    "X_test_lgmb[categ_cols] = X_test[categ_cols].astype('category')"
   ]
  },
  {
   "cell_type": "code",
   "execution_count": 58,
   "metadata": {},
   "outputs": [
    {
     "name": "stdout",
     "output_type": "stream",
     "text": [
      "Лучшие параметры:  {'max_depth': 6, 'learning_rate': 0.3}\n",
      "Среднее значение RMSE на кросс-валидации: 1624.7233860959336\n"
     ]
    }
   ],
   "source": [
    "lgbm_model = LGBMRegressor(objective='root_mean_squared_error', verbose=-1)\n",
    "param_grid = {\n",
    "    'learning_rate': [0.1, 0.3, 0.5],  \n",
    "    'max_depth': [1, 2, 6]\n",
    "}\n",
    "\n",
    "random_search_lgbm = RandomizedSearchCV(\n",
    "    estimator=lgbm_model, \n",
    "    param_distributions=param_grid, \n",
    "    scoring='neg_root_mean_squared_error', \n",
    "    cv=5,\n",
    "    n_iter=9\n",
    ")\n",
    "\n",
    "random_search_lgbm.fit(X_train_lgmb, y_train)\n",
    "\n",
    "best_lgbm_model = random_search_lgbm.best_estimator_\n",
    "\n",
    "best_params_lgbm_model = random_search_lgbm.best_params_\n",
    "print(\"Лучшие параметры: \", best_params_lgbm_model)\n",
    "best_score_lgbm_model = random_search_lgbm.best_score_\n",
    "print(\"Среднее значение RMSE на кросс-валидации:\", -best_score_lgbm_model)\n"
   ]
  },
  {
   "cell_type": "markdown",
   "metadata": {},
   "source": [
    "<font color='blue'><b>Комментарий ревьюера: </b></font> ⚠️\\\n",
    "<font color='darkorange'>LightGBM может сам кодировать категориальные признаки, если перевести категориальные данные в тип \"category\"</font>"
   ]
  },
  {
   "cell_type": "markdown",
   "metadata": {},
   "source": [
    "Лучшая LightGBM модель имеет метрику 1658 на кросс-валидации и лучшие параметры: {'max_depth': 6, 'learning_rate': 0.3}"
   ]
  },
  {
   "cell_type": "markdown",
   "metadata": {},
   "source": [
    "Отбросим ненужные наименования столбцов"
   ]
  },
  {
   "cell_type": "code",
   "execution_count": 59,
   "metadata": {},
   "outputs": [
    {
     "data": {
      "text/plain": [
       "['Gearbox', 'Model', 'FuelType', 'Repaired']"
      ]
     },
     "execution_count": 59,
     "metadata": {},
     "output_type": "execute_result"
    }
   ],
   "source": [
    "categ_cols"
   ]
  },
  {
   "cell_type": "code",
   "execution_count": 60,
   "metadata": {},
   "outputs": [
    {
     "name": "stderr",
     "output_type": "stream",
     "text": [
      "/opt/conda/lib/python3.9/site-packages/sklearn/model_selection/_search.py:285: UserWarning: The total space of parameters 2 is smaller than n_iter=4. Running 2 iterations. For exhaustive searches, use GridSearchCV.\n",
      "  warnings.warn(\n"
     ]
    },
    {
     "name": "stdout",
     "output_type": "stream",
     "text": [
      "0:\tlearn: 4023.2040344\ttotal: 130ms\tremaining: 2m 9s\n",
      "100:\tlearn: 1876.0036260\ttotal: 5.5s\tremaining: 49s\n",
      "200:\tlearn: 1806.1588590\ttotal: 10.8s\tremaining: 42.8s\n",
      "300:\tlearn: 1772.7184850\ttotal: 15.8s\tremaining: 36.7s\n",
      "400:\tlearn: 1749.9962755\ttotal: 21s\tremaining: 31.3s\n",
      "500:\tlearn: 1734.7025570\ttotal: 26.1s\tremaining: 26s\n",
      "600:\tlearn: 1721.6758422\ttotal: 30.9s\tremaining: 20.5s\n",
      "700:\tlearn: 1711.7836747\ttotal: 36s\tremaining: 15.3s\n",
      "800:\tlearn: 1699.9388806\ttotal: 41.1s\tremaining: 10.2s\n",
      "900:\tlearn: 1691.7963646\ttotal: 46.4s\tremaining: 5.1s\n",
      "999:\tlearn: 1684.6878521\ttotal: 51.8s\tremaining: 0us\n",
      "0:\tlearn: 4000.9234126\ttotal: 69.4ms\tremaining: 1m 9s\n",
      "100:\tlearn: 1855.0218402\ttotal: 5.56s\tremaining: 49.5s\n",
      "200:\tlearn: 1788.4514998\ttotal: 10.9s\tremaining: 43.4s\n",
      "300:\tlearn: 1751.9556032\ttotal: 16s\tremaining: 37s\n",
      "400:\tlearn: 1731.8043483\ttotal: 21.2s\tremaining: 31.7s\n",
      "500:\tlearn: 1713.6960049\ttotal: 26.5s\tremaining: 26.4s\n",
      "600:\tlearn: 1699.3570133\ttotal: 31.8s\tremaining: 21.1s\n",
      "700:\tlearn: 1687.2190482\ttotal: 37.4s\tremaining: 16s\n",
      "800:\tlearn: 1679.6418931\ttotal: 42.9s\tremaining: 10.7s\n",
      "900:\tlearn: 1670.5391704\ttotal: 48.3s\tremaining: 5.31s\n",
      "999:\tlearn: 1664.6042321\ttotal: 53.6s\tremaining: 0us\n",
      "0:\tlearn: 4017.2776318\ttotal: 70.3ms\tremaining: 1m 10s\n",
      "100:\tlearn: 1875.1185608\ttotal: 5.81s\tremaining: 51.7s\n",
      "200:\tlearn: 1800.8134745\ttotal: 11.1s\tremaining: 44.2s\n",
      "300:\tlearn: 1761.7313950\ttotal: 16.4s\tremaining: 38s\n",
      "400:\tlearn: 1740.8157172\ttotal: 21.5s\tremaining: 32.2s\n",
      "500:\tlearn: 1722.5084487\ttotal: 26.8s\tremaining: 26.7s\n",
      "600:\tlearn: 1710.0277094\ttotal: 32s\tremaining: 21.2s\n",
      "700:\tlearn: 1699.7824439\ttotal: 37.4s\tremaining: 15.9s\n",
      "800:\tlearn: 1690.5815493\ttotal: 42.5s\tremaining: 10.6s\n",
      "900:\tlearn: 1681.4620880\ttotal: 47.9s\tremaining: 5.27s\n",
      "999:\tlearn: 1673.2202723\ttotal: 53.1s\tremaining: 0us\n",
      "0:\tlearn: 3997.0943021\ttotal: 112ms\tremaining: 1m 51s\n",
      "100:\tlearn: 1806.6678355\ttotal: 8.09s\tremaining: 1m 12s\n",
      "200:\tlearn: 1738.0339835\ttotal: 16s\tremaining: 1m 3s\n",
      "300:\tlearn: 1702.6409155\ttotal: 23.5s\tremaining: 54.6s\n",
      "400:\tlearn: 1677.5111066\ttotal: 31.3s\tremaining: 46.7s\n",
      "500:\tlearn: 1656.5083534\ttotal: 39.4s\tremaining: 39.3s\n",
      "600:\tlearn: 1640.7446936\ttotal: 47.7s\tremaining: 31.7s\n",
      "700:\tlearn: 1627.0095430\ttotal: 56s\tremaining: 23.9s\n",
      "800:\tlearn: 1616.1075059\ttotal: 1m 4s\tremaining: 15.9s\n",
      "900:\tlearn: 1606.0757347\ttotal: 1m 12s\tremaining: 7.97s\n",
      "999:\tlearn: 1597.4150602\ttotal: 1m 20s\tremaining: 0us\n",
      "0:\tlearn: 3975.6413044\ttotal: 112ms\tremaining: 1m 52s\n",
      "100:\tlearn: 1783.5330168\ttotal: 8.38s\tremaining: 1m 14s\n",
      "200:\tlearn: 1718.0825304\ttotal: 16.3s\tremaining: 1m 4s\n",
      "300:\tlearn: 1683.4503267\ttotal: 24.3s\tremaining: 56.4s\n",
      "400:\tlearn: 1657.1132034\ttotal: 32.8s\tremaining: 49.1s\n",
      "500:\tlearn: 1637.4441922\ttotal: 41s\tremaining: 40.8s\n",
      "600:\tlearn: 1621.4574066\ttotal: 48.9s\tremaining: 32.4s\n",
      "700:\tlearn: 1607.5491097\ttotal: 57s\tremaining: 24.3s\n",
      "800:\tlearn: 1596.8267291\ttotal: 1m 5s\tremaining: 16.2s\n",
      "900:\tlearn: 1587.3013811\ttotal: 1m 13s\tremaining: 8.07s\n",
      "999:\tlearn: 1578.5911460\ttotal: 1m 21s\tremaining: 0us\n",
      "0:\tlearn: 3991.7496774\ttotal: 117ms\tremaining: 1m 56s\n",
      "100:\tlearn: 1800.0398465\ttotal: 8.42s\tremaining: 1m 14s\n",
      "200:\tlearn: 1724.0505663\ttotal: 16.2s\tremaining: 1m 4s\n",
      "300:\tlearn: 1688.4398335\ttotal: 24.4s\tremaining: 56.7s\n",
      "400:\tlearn: 1664.8001802\ttotal: 32.4s\tremaining: 48.3s\n",
      "500:\tlearn: 1646.1316603\ttotal: 40.3s\tremaining: 40.2s\n",
      "600:\tlearn: 1631.2844210\ttotal: 48.3s\tremaining: 32s\n",
      "700:\tlearn: 1615.4956078\ttotal: 56.3s\tremaining: 24s\n",
      "800:\tlearn: 1603.2974651\ttotal: 1m 4s\tremaining: 16s\n",
      "900:\tlearn: 1590.3117313\ttotal: 1m 12s\tremaining: 7.98s\n",
      "999:\tlearn: 1580.5750656\ttotal: 1m 20s\tremaining: 0us\n",
      "0:\tlearn: 3986.2226695\ttotal: 179ms\tremaining: 2m 58s\n",
      "100:\tlearn: 1797.7028283\ttotal: 12.8s\tremaining: 1m 53s\n",
      "200:\tlearn: 1728.8163269\ttotal: 24.6s\tremaining: 1m 37s\n",
      "300:\tlearn: 1691.6917116\ttotal: 36.6s\tremaining: 1m 24s\n",
      "400:\tlearn: 1665.9640926\ttotal: 48.6s\tremaining: 1m 12s\n",
      "500:\tlearn: 1649.0509260\ttotal: 1m\tremaining: 1m\n",
      "600:\tlearn: 1634.4428354\ttotal: 1m 12s\tremaining: 48.1s\n",
      "700:\tlearn: 1620.9855032\ttotal: 1m 25s\tremaining: 36.4s\n",
      "800:\tlearn: 1610.9277630\ttotal: 1m 37s\tremaining: 24.3s\n",
      "900:\tlearn: 1601.6140384\ttotal: 1m 50s\tremaining: 12.1s\n",
      "999:\tlearn: 1592.9688323\ttotal: 2m 2s\tremaining: 0us\n",
      "Лучшие параметры:  {'learning_rate': 0.1, 'depth': 6}\n",
      "Среднее значение RMSE на кросс-валидации: -1660.3198097763454\n"
     ]
    }
   ],
   "source": [
    "catboost_model = CatBoostRegressor(verbose=100, cat_features = categ_cols)\n",
    "param_grid = {\n",
    "    'depth': [4, 6],\n",
    "    'learning_rate': np.arange(0.1, 0.2)\n",
    "}\n",
    "\n",
    "random_search_catboost = RandomizedSearchCV(\n",
    "    estimator=catboost_model, \n",
    "    param_distributions=param_grid, \n",
    "    scoring='neg_root_mean_squared_error', \n",
    "    cv=3,\n",
    "    n_iter=4\n",
    ")\n",
    "\n",
    "random_search_catboost.fit(X_train, y_train)\n",
    "\n",
    "best_catboost_model = random_search_catboost.best_estimator_\n",
    "\n",
    "best_params_catboost_model = random_search_catboost.best_params_\n",
    "print(\"Лучшие параметры: \", best_params_catboost_model)\n",
    "best_score_catboost_model = random_search_catboost.best_score_\n",
    "print(\"Среднее значение RMSE на кросс-валидации:\", best_score_catboost_model)"
   ]
  },
  {
   "cell_type": "markdown",
   "metadata": {},
   "source": [
    "<font color='blue'><b>Комментарий ревьюера: </b></font> ✔️\\\n",
    "<font color='green'>Верно, CatBoost может сам кодировать категории из типа данных 'object' и 'category'.</font>"
   ]
  },
  {
   "cell_type": "markdown",
   "metadata": {},
   "source": [
    "Лучшая CatBoost модель имеет метрику 1691 на кросс-валидации, а также лучшие параметры: {'learning_rate': 0.1, 'depth': 6}"
   ]
  },
  {
   "cell_type": "markdown",
   "metadata": {},
   "source": [
    "<font color='blue'><b>Комментарий ревьюера: </b></font> ❌\\\n",
    "<font color='red'> ~~Нужно провести потбор гиперпараметров для моделей.~~</font>\n",
    "```\n",
    "Для каждой модели попробуйте разные гиперпараметры.\n",
    "```"
   ]
  },
  {
   "cell_type": "markdown",
   "metadata": {},
   "source": [
    "### Время обучения и предсказания каждой из моделей"
   ]
  },
  {
   "cell_type": "markdown",
   "metadata": {},
   "source": [
    "Линейная регрессия"
   ]
  },
  {
   "cell_type": "code",
   "execution_count": 61,
   "metadata": {},
   "outputs": [
    {
     "name": "stdout",
     "output_type": "stream",
     "text": [
      "CPU times: user 10.9 s, sys: 3.39 s, total: 14.3 s\n",
      "Wall time: 14.2 s\n",
      "CPU times: user 133 ms, sys: 106 ms, total: 239 ms\n",
      "Wall time: 292 ms\n",
      "rmse =  2675.4538578763318\n"
     ]
    }
   ],
   "source": [
    "%time model.fit(X_train_transformed, y_train)\n",
    "%time y_pred = model.predict(X_test_transformed)\n",
    "print(\"rmse = \", mean_squared_error(y_test, y_pred, squared = False))"
   ]
  },
  {
   "cell_type": "markdown",
   "metadata": {},
   "source": [
    "Модель обучилась за 11.5 секунд и сделала предсказание за 240 мс, но показатель rmse выше порогового значения в 2500, поэтому данную модель заказчику предлагать не стоит"
   ]
  },
  {
   "cell_type": "markdown",
   "metadata": {},
   "source": [
    "<font color='blue'><b>Комментарий ревьюера 2: </b></font> ⚠️\\\n",
    "<font color='darkorange'> Метрика RMSE на тесте нас интересует только у лучшей модели. Сравниваем модели мы по результатам кросс-валидации.</font>"
   ]
  },
  {
   "cell_type": "markdown",
   "metadata": {},
   "source": [
    "LightGBM"
   ]
  },
  {
   "cell_type": "code",
   "execution_count": 62,
   "metadata": {},
   "outputs": [
    {
     "name": "stdout",
     "output_type": "stream",
     "text": [
      "CPU times: user 7.71 s, sys: 103 ms, total: 7.81 s\n",
      "Wall time: 7.9 s\n",
      "CPU times: user 597 ms, sys: 2.34 ms, total: 600 ms\n",
      "Wall time: 605 ms\n",
      "rmse =  1628.0981483383516\n"
     ]
    }
   ],
   "source": [
    "%time best_lgbm_model.fit(X_train_lgmb, y_train)\n",
    "%time y_pred = best_lgbm_model.predict(X_test_lgmb)\n",
    "print(\"rmse = \", mean_squared_error(y_test, y_pred, squared = False))"
   ]
  },
  {
   "cell_type": "markdown",
   "metadata": {},
   "source": [
    "Модель обучилась за 4.19 секунд и сделала предсказание за 597 мс, показатель rmse = 1659, что значительно меньше 2500, установленных заказчиком. "
   ]
  },
  {
   "cell_type": "markdown",
   "metadata": {},
   "source": [
    "CatBoost"
   ]
  },
  {
   "cell_type": "code",
   "execution_count": 63,
   "metadata": {},
   "outputs": [
    {
     "name": "stdout",
     "output_type": "stream",
     "text": [
      "0:\tlearn: 3986.2226695\ttotal: 201ms\tremaining: 3m 20s\n",
      "100:\tlearn: 1797.7028283\ttotal: 12.5s\tremaining: 1m 51s\n",
      "200:\tlearn: 1728.8163269\ttotal: 24.3s\tremaining: 1m 36s\n",
      "300:\tlearn: 1691.6917116\ttotal: 36.3s\tremaining: 1m 24s\n",
      "400:\tlearn: 1665.9640926\ttotal: 48.3s\tremaining: 1m 12s\n",
      "500:\tlearn: 1649.0509260\ttotal: 1m\tremaining: 59.9s\n",
      "600:\tlearn: 1634.4428354\ttotal: 1m 11s\tremaining: 47.8s\n",
      "700:\tlearn: 1620.9855032\ttotal: 1m 24s\tremaining: 36.2s\n",
      "800:\tlearn: 1610.9277630\ttotal: 1m 37s\tremaining: 24.1s\n",
      "900:\tlearn: 1601.6140384\ttotal: 1m 49s\tremaining: 12s\n",
      "999:\tlearn: 1592.9688323\ttotal: 2m 1s\tremaining: 0us\n",
      "CPU times: user 2min 1s, sys: 490 ms, total: 2min 1s\n",
      "Wall time: 2min 2s\n",
      "CPU times: user 493 ms, sys: 143 µs, total: 494 ms\n",
      "Wall time: 495 ms\n",
      "rmse =  1659.3943599879613\n"
     ]
    }
   ],
   "source": [
    "%time best_catboost_model.fit(X_train, y_train)\n",
    "%time y_pred = best_catboost_model.predict(X_test)\n",
    "print(\"rmse = \", mean_squared_error(y_test, y_pred, squared = False))"
   ]
  },
  {
   "cell_type": "markdown",
   "metadata": {},
   "source": [
    "Модель CatBoost показала хорошее значение метрики(), однако для этого потребовалось слишком много итераций, такое медленное выполнение связано с подобранным шагом в 0.1"
   ]
  },
  {
   "cell_type": "markdown",
   "metadata": {},
   "source": [
    "## Анализ моделей"
   ]
  },
  {
   "cell_type": "markdown",
   "metadata": {},
   "source": [
    "Проведя обучения Линейной регрессии, LGBMRegressor, CatBoostRegressor. Можно смело сказать, что при данных параметрах, что удалось подобрать путем перебора, модель LightGBM выигрывает по всем показателям: \n",
    "- 4.19 секунд время обучения\n",
    "- 597 мс время предсказания\n",
    "- 1659 значение rmse\n",
    "\n",
    "Лучшие гиперпараметры этой модели:\n",
    "- {'max_depth': 6, 'learning_rate': 0.3}"
   ]
  },
  {
   "cell_type": "markdown",
   "metadata": {},
   "source": [
    "Поэтому заказчику я рекомендую модель LGBMRegressor с гиперпараметрами {'max_depth': 6, 'learning_rate': 0.3}, данная модель показала себя лучше всех в данном ограниченном эксперименте"
   ]
  },
  {
   "cell_type": "markdown",
   "metadata": {},
   "source": [
    "## Общий вывод\n",
    "В данном проекте я работал с данными из интернет-магазина с объявлениями о продаже машин, а именно я сделал:\n",
    "- Предобработку данных\n",
    "- Исследовательский анализ\n",
    "- Корреляционный анализ\n",
    "- Обучил модели и провел анализ для выбора лучшей\n",
    "\n",
    "### Вывод по предобработке данных\n",
    "Доля пропущенных значений внушительная, чтобы просто отбросить их, потому заполним значения следующим образом:\n",
    "- для `Repaired` - `no`\n",
    "- для остальных - `no_info`\n",
    "\n",
    "Дубликатов не обнаружено\n",
    "\n",
    "### Вывод по исследовательскому анализу\n",
    "Проанализировав численные столбцы, можно сказать следующее:\n",
    "\n",
    "`Price` - похоже на распределение Пуассона, так как дорогих машин явно меньше, чем машин подешевле, потому дорогие машины показываются как выбросы на диаграмме размаха. \\\n",
    "min - 0 euro, median - 2700 euro, max - 20000 eu. \\\n",
    "Машина за 0 евро вызывает подозрения, данное значение рассмотрим отдельно\n",
    "\n",
    "`RegistrationYear` - здесь отчетливо видно, что большинство машин были зарегестрированы в начале 2000-ых, выбросами являются очень старые машины старее 1985 года. \\\n",
    "min - 1910, median - 2003, max - 2016\n",
    "\n",
    "`Power` - наблюдаем распределение Пуассона с медианой в 105 л.c, min - 30, max - 210\n",
    "\n",
    "`Kilometer` - похоже на распределение Пуассона, вполне логично ожидать большое количество поддержаных машин с большим значением пробега, наблюдаются выбросы среди машин с пробегом меньше 90000 км(вполне логично, так как более прокатанных машин больше) \\\n",
    "min - 5000 km, median - 150000 km, max - 150000 km\n",
    "\n",
    "`RegistrationMonth` - по распределение видно, что больше всего машин регистрируют с марта по апрель, а еще чаще с сентября по декабрь. Заменил нулевой месяц на медиану для сохранения данных и уменьшения искажений\n",
    "\n",
    "`NumberOfPictures` - имеет всего одно значение, равное 0, то есть все объявления не содержат фотографий\n",
    "\n",
    "Взглянув на диаграммы категориальных признаков, можно сказать следующее:\n",
    "- `VehicleType` : больше всего машин с кузовом sedan, small и wagon, меньше всего suv\n",
    "- `Gearbox`: примерно 83% машин имеют ручную коробку передач, остальные машины - автомат\n",
    "- `FuelType`: 67% машин имеют тип топлива petrol, 31% - gasoline\n",
    "- `Brand`: среди всех марок машин явным лидеров является volkswagen, затем идет opel и bmw\n",
    "- `Repaired`: 88% машин не были в ремонте\n",
    "\n",
    "### Вывод по корреляционному анализу\n",
    "Наблюдаем мультикорреляцию между `Model` и `Brand`, что вполне логично. С target признаком больше всего коррелируют `Model`, `RegistrationYear`, `Power`, `Repaired`. Вполне логично было увидеть именно эти признаки как наиболее коррелирующие, так как год регистрации показывает, насколько машина старая, скорее всего старые машины все стоят дешевле(если они не антиквариаты какие-нибудь), аналогично думаю понятна связь с количеством лошадиных сил и наличие ремонта. `VehicleType` так же сильно коррелирует с `Model`\n",
    "### Обучение моделей и подбор гиперпараметров\n",
    "Результаты на кросс-валидации:\n",
    "- `Лин рег`: RMSE на кросс-валидации: [2694.494019   2717.29558403 2737.75883144 2677.39750023 2679.13369042]. Среднее значение RMSE на кросс-валидации: 2701.215925024618. Модель обучилась за 11.5 секунд и сделала предсказание за 240 мс, но показатель rmse выше порогового значения в 2500, поэтому данную модель заказчику предлагать не стоит\n",
    "- `LightGBM`: Лучшая LightGBM модель имеет метрику 1658 на кросс-валидации и лучшие параметры: {'max_depth': 6, 'learning_rate': 0.3}. Модель обучилась за 4.19 секунд и сделала предсказание за 597 мс, показатель rmse = 1659, что значительно меньше 2500, установленных заказчиком. \n",
    "- `CatBoost`: Лучшая CatBoost модель имеет метрику 1691 на кросс-валидации, а также лучшие параметры: {'learning_rate': 0.1, 'depth': 6}. Модель CatBoost показала хорошее значение метрики(), однако для этого потребовалось слишком много итераций, такое медленное выполнение связано с подобранным шагом в 0.1\n",
    "### Анализ моделей\n",
    "Проведя обучения Линейной регрессии, LGBMRegressor, CatBoostRegressor. Можно смело сказать, что при данных параметрах, что удалось подобрать путем перебора, модель LightGBM выигрывает по всем показателям:\n",
    "- 4.19 секунд время обучения\n",
    "- 597 мс время предсказания\n",
    "- 1659 значение rmse\n",
    "\n",
    "Лучшие гиперпараметры этой модели:\n",
    "-  {'max_depth': 6, 'learning_rate': 0.3}\n",
    "\n",
    "Поэтому заказчику я рекомендую модель LGBMRegressor с гиперпараметрами {'max_depth': 6, 'learning_rate': 0.3}, данная модель показала себя лучше всех в данном ограниченном эксперименте"
   ]
  },
  {
   "cell_type": "markdown",
   "metadata": {},
   "source": [
    "<font color='blue'><b>Комментарий ревьюера: </b></font> ✔️\\\n",
    "<font color='green'>Очень приятно видеть вывод в конце проекта!</font>"
   ]
  },
  {
   "cell_type": "markdown",
   "metadata": {},
   "source": [
    "<font color='blue'><b>Итоговый комментарий ревьюера</b></font>\\\n",
    "<font color='green'>Иван, хороший проект получился!\n",
    "Большое спасибо за проделанную работу. Видно, что приложено много усилий.\n",
    "Выводы и рассуждения получились содержательными, их было интересно читать.\n",
    "</font>\n",
    "\n",
    "<font color='steelblue'>Над проектом ещё стоит поработать - есть рекомендации по дополнению некоторых твоих шагов проекта. Такие рекомендации я отметил жёлтыми комментариями. Будет здорово, если ты учтёшь их - так проект станет структурно и содержательно более совершенным.\n",
    "\n",
    "Также в работе есть критические замечания. К этим замечаниям я оставил пояснительные комментарии красного цвета, в которых перечислил возможные варианты дальнейших действий. Уверен, ты быстро с этим управишься:)\n",
    "\n",
    "Если о том, что нужно сделать в рамках комментариев, будут возникать вопросы - оставь их, пожалуйста, в комментариях, и я отвечу на них во время следующего ревью.\n",
    "\n",
    "Также буду рад ответить на любые твои вопросы по проекту или на какие-либо другие, если они у тебя имеются - оставь их в комментариях, и я постараюсь ответить:)</font>\n",
    "\n",
    "<font color='blue'><b>Жду твой проект на повторном ревью. До встречи :) </b></font>"
   ]
  },
  {
   "cell_type": "markdown",
   "metadata": {},
   "source": [
    "<font color='blue'><b>Итоговый комментарий ревьюера 2</b></font>\\\n",
    "<font color='green'>Иван, большое спасибо за доработку.\n",
    "</font>\n",
    "\n",
    "<font color='blue'>Что нужно исправить:</font>\n",
    "<ul><font color='red'>Убери аномалии по 'RegistrationYear'.</font></ul>\n",
    "\n",
    "<font color='blue'>Что можно сделать лучше:</font>\n",
    "<font color='darkorange'>В работе я оставил несколько советов. Буду рад, если ты учтешь их.</font></ul>\n",
    "\n",
    "<font color='blue'><b>Жду новую версию проекта :)</b></font>"
   ]
  },
  {
   "cell_type": "markdown",
   "metadata": {},
   "source": [
    "<font color='blue'><b>Итоговый комментарий ревьюера 3</b></font>\\\n",
    "<font color='green'> Иван, проект принят! \\\n",
    "Все этапы пройдены. Все рекомендации учтены.\\\n",
    "Надеюсь, тебе понравился процесс выполнения и результат.</font> \\\n",
    "<font color='blue'><b>Спасибо, удачи в освоении профессии!</b></font>"
   ]
  },
  {
   "cell_type": "markdown",
   "metadata": {},
   "source": [
    "## Чек-лист проверки"
   ]
  },
  {
   "cell_type": "markdown",
   "metadata": {},
   "source": [
    "Поставьте 'x' в выполненных пунктах. Далее нажмите Shift+Enter."
   ]
  },
  {
   "cell_type": "markdown",
   "metadata": {},
   "source": [
    "- [x]  Jupyter Notebook открыт\n",
    "- [x]  Весь код выполняется без ошибок\n",
    "- [x]  Ячейки с кодом расположены в порядке исполнения\n",
    "- [x]  Выполнена загрузка и подготовка данных\n",
    "- [x]  Выполнено обучение моделей\n",
    "- [x]  Есть анализ скорости работы и качества моделей"
   ]
  }
 ],
 "metadata": {
  "ExecuteTimeLog": [
   {
    "duration": 5068,
    "start_time": "2024-04-24T22:03:09.864Z"
   },
   {
    "duration": 2947,
    "start_time": "2024-04-24T22:03:21.689Z"
   },
   {
    "duration": 27,
    "start_time": "2024-04-24T22:03:37.796Z"
   },
   {
    "duration": 13,
    "start_time": "2024-04-24T22:11:15.464Z"
   },
   {
    "duration": 165,
    "start_time": "2024-04-24T22:11:27.086Z"
   },
   {
    "duration": 161,
    "start_time": "2024-04-24T22:15:45.857Z"
   },
   {
    "duration": 166,
    "start_time": "2024-04-24T22:15:50.278Z"
   },
   {
    "duration": 20,
    "start_time": "2024-04-24T22:28:00.571Z"
   },
   {
    "duration": 97,
    "start_time": "2024-04-24T22:30:05.437Z"
   },
   {
    "duration": 45,
    "start_time": "2024-04-24T22:30:42.037Z"
   },
   {
    "duration": 81,
    "start_time": "2024-04-24T22:30:57.254Z"
   },
   {
    "duration": 294,
    "start_time": "2024-04-24T22:38:08.096Z"
   },
   {
    "duration": 111,
    "start_time": "2024-04-24T22:38:17.541Z"
   },
   {
    "duration": 8,
    "start_time": "2024-04-24T22:39:39.440Z"
   },
   {
    "duration": 5,
    "start_time": "2024-04-24T22:41:39.056Z"
   },
   {
    "duration": 12,
    "start_time": "2024-04-24T22:41:55.465Z"
   },
   {
    "duration": 8,
    "start_time": "2024-04-24T22:42:05.268Z"
   },
   {
    "duration": 45,
    "start_time": "2024-04-24T22:42:27.040Z"
   },
   {
    "duration": 6,
    "start_time": "2024-04-24T22:42:30.827Z"
   },
   {
    "duration": 7,
    "start_time": "2024-04-24T22:43:07.775Z"
   },
   {
    "duration": 6,
    "start_time": "2024-04-24T22:43:40.419Z"
   },
   {
    "duration": 2,
    "start_time": "2024-04-24T22:43:52.422Z"
   },
   {
    "duration": 7,
    "start_time": "2024-04-24T22:43:54.100Z"
   },
   {
    "duration": 6,
    "start_time": "2024-04-24T22:44:29.370Z"
   },
   {
    "duration": 5,
    "start_time": "2024-04-24T22:45:17.825Z"
   },
   {
    "duration": 6,
    "start_time": "2024-04-24T22:45:35.715Z"
   },
   {
    "duration": 8,
    "start_time": "2024-04-24T22:45:48.923Z"
   },
   {
    "duration": 6,
    "start_time": "2024-04-24T22:46:06.135Z"
   },
   {
    "duration": 6,
    "start_time": "2024-04-24T22:46:59.538Z"
   },
   {
    "duration": 81,
    "start_time": "2024-04-24T22:48:32.875Z"
   },
   {
    "duration": 6,
    "start_time": "2024-04-24T22:49:37.717Z"
   },
   {
    "duration": 5,
    "start_time": "2024-04-24T22:49:53.513Z"
   },
   {
    "duration": 6,
    "start_time": "2024-04-24T22:49:58.988Z"
   },
   {
    "duration": 6,
    "start_time": "2024-04-24T22:50:21.100Z"
   },
   {
    "duration": 81,
    "start_time": "2024-04-24T22:50:23.804Z"
   },
   {
    "duration": 309,
    "start_time": "2024-04-24T22:53:01.465Z"
   },
   {
    "duration": 351,
    "start_time": "2024-04-24T22:53:35.881Z"
   },
   {
    "duration": 326,
    "start_time": "2024-04-24T22:54:50.860Z"
   },
   {
    "duration": 312,
    "start_time": "2024-04-24T22:54:56.754Z"
   },
   {
    "duration": 132,
    "start_time": "2024-04-24T22:56:07.884Z"
   },
   {
    "duration": 24,
    "start_time": "2024-04-24T22:56:12.951Z"
   },
   {
    "duration": 125,
    "start_time": "2024-04-24T22:56:21.898Z"
   },
   {
    "duration": 52,
    "start_time": "2024-04-24T22:57:02.108Z"
   },
   {
    "duration": 7,
    "start_time": "2024-04-24T22:58:56.928Z"
   },
   {
    "duration": 12,
    "start_time": "2024-04-24T22:59:04.440Z"
   },
   {
    "duration": 192,
    "start_time": "2024-04-24T22:59:17.279Z"
   },
   {
    "duration": 2124,
    "start_time": "2024-04-24T22:59:22.573Z"
   },
   {
    "duration": 56,
    "start_time": "2024-04-24T23:16:13.209Z"
   },
   {
    "duration": 371,
    "start_time": "2024-04-24T23:16:27.991Z"
   },
   {
    "duration": 64,
    "start_time": "2024-04-24T23:16:48.122Z"
   },
   {
    "duration": 40,
    "start_time": "2024-04-24T23:17:00.540Z"
   },
   {
    "duration": 273,
    "start_time": "2024-04-24T23:17:17.719Z"
   },
   {
    "duration": 5,
    "start_time": "2024-04-24T23:17:30.607Z"
   },
   {
    "duration": 456,
    "start_time": "2024-04-24T23:17:33.278Z"
   },
   {
    "duration": 433,
    "start_time": "2024-04-24T23:17:55.241Z"
   },
   {
    "duration": 548,
    "start_time": "2024-04-24T23:18:03.934Z"
   },
   {
    "duration": 6,
    "start_time": "2024-04-24T23:27:26.655Z"
   },
   {
    "duration": 311,
    "start_time": "2024-04-24T23:28:23.274Z"
   },
   {
    "duration": 329,
    "start_time": "2024-04-24T23:28:24.791Z"
   },
   {
    "duration": 286,
    "start_time": "2024-04-24T23:28:25.958Z"
   },
   {
    "duration": 118,
    "start_time": "2024-04-24T23:28:27.221Z"
   },
   {
    "duration": 1904,
    "start_time": "2024-04-24T23:28:29.354Z"
   },
   {
    "duration": 145,
    "start_time": "2024-04-24T23:29:37.389Z"
   },
   {
    "duration": 51,
    "start_time": "2024-04-24T23:29:58.268Z"
   },
   {
    "duration": 170,
    "start_time": "2024-04-24T23:30:24.575Z"
   },
   {
    "duration": 30,
    "start_time": "2024-04-24T23:30:53.443Z"
   },
   {
    "duration": 16,
    "start_time": "2024-04-24T23:31:28.094Z"
   },
   {
    "duration": 11,
    "start_time": "2024-04-24T23:31:33.743Z"
   },
   {
    "duration": 10,
    "start_time": "2024-04-24T23:31:41.214Z"
   },
   {
    "duration": 11,
    "start_time": "2024-04-24T23:31:46.270Z"
   },
   {
    "duration": 10,
    "start_time": "2024-04-24T23:31:50.038Z"
   },
   {
    "duration": 10,
    "start_time": "2024-04-24T23:31:53.544Z"
   },
   {
    "duration": 10,
    "start_time": "2024-04-24T23:31:56.137Z"
   },
   {
    "duration": 10,
    "start_time": "2024-04-24T23:31:58.681Z"
   },
   {
    "duration": 28,
    "start_time": "2024-04-24T23:32:03.825Z"
   },
   {
    "duration": 11,
    "start_time": "2024-04-24T23:32:18.278Z"
   },
   {
    "duration": 26,
    "start_time": "2024-04-24T23:33:58.831Z"
   },
   {
    "duration": 185,
    "start_time": "2024-04-24T23:34:07.258Z"
   },
   {
    "duration": 18,
    "start_time": "2024-04-24T23:34:31.808Z"
   },
   {
    "duration": 7,
    "start_time": "2024-04-24T23:35:51.696Z"
   },
   {
    "duration": 28,
    "start_time": "2024-04-24T23:36:05.974Z"
   },
   {
    "duration": 47,
    "start_time": "2024-04-24T23:38:13.382Z"
   },
   {
    "duration": 10,
    "start_time": "2024-04-24T23:38:19.053Z"
   },
   {
    "duration": 13,
    "start_time": "2024-04-24T23:38:22.541Z"
   },
   {
    "duration": 28,
    "start_time": "2024-04-24T23:38:37.819Z"
   },
   {
    "duration": 133,
    "start_time": "2024-04-24T23:39:01.589Z"
   },
   {
    "duration": 16,
    "start_time": "2024-04-24T23:39:22.209Z"
   },
   {
    "duration": 120,
    "start_time": "2024-04-24T23:40:20.850Z"
   },
   {
    "duration": 4,
    "start_time": "2024-04-24T23:43:37.836Z"
   },
   {
    "duration": 3,
    "start_time": "2024-04-24T23:43:57.186Z"
   },
   {
    "duration": 4,
    "start_time": "2024-04-24T23:44:51.835Z"
   },
   {
    "duration": 165,
    "start_time": "2024-04-24T23:46:34.682Z"
   },
   {
    "duration": 34,
    "start_time": "2024-04-24T23:46:57.706Z"
   },
   {
    "duration": 23,
    "start_time": "2024-04-24T23:47:20.923Z"
   },
   {
    "duration": 40,
    "start_time": "2024-04-24T23:49:32.044Z"
   },
   {
    "duration": 10,
    "start_time": "2024-04-24T23:50:07.531Z"
   },
   {
    "duration": 0,
    "start_time": "2024-04-24T23:52:39.597Z"
   },
   {
    "duration": 5595,
    "start_time": "2024-04-24T23:52:42.063Z"
   },
   {
    "duration": 65,
    "start_time": "2024-04-24T23:53:02.362Z"
   },
   {
    "duration": 0,
    "start_time": "2024-04-24T23:53:39.948Z"
   },
   {
    "duration": 50690,
    "start_time": "2024-04-24T23:53:40.867Z"
   },
   {
    "duration": 0,
    "start_time": "2024-04-24T23:54:31.558Z"
   },
   {
    "duration": 17,
    "start_time": "2024-04-24T23:54:33.047Z"
   },
   {
    "duration": 12,
    "start_time": "2024-04-24T23:54:37.704Z"
   },
   {
    "duration": 12,
    "start_time": "2024-04-24T23:54:40.373Z"
   },
   {
    "duration": 11,
    "start_time": "2024-04-24T23:54:42.842Z"
   },
   {
    "duration": 11,
    "start_time": "2024-04-24T23:54:45.280Z"
   },
   {
    "duration": 13,
    "start_time": "2024-04-24T23:54:48.456Z"
   },
   {
    "duration": 12,
    "start_time": "2024-04-24T23:54:50.901Z"
   },
   {
    "duration": 12,
    "start_time": "2024-04-24T23:55:02.249Z"
   },
   {
    "duration": 29,
    "start_time": "2024-04-24T23:55:09.999Z"
   },
   {
    "duration": 29,
    "start_time": "2024-04-24T23:55:59.270Z"
   },
   {
    "duration": 12,
    "start_time": "2024-04-24T23:56:04.140Z"
   },
   {
    "duration": 11,
    "start_time": "2024-04-24T23:56:09.584Z"
   },
   {
    "duration": 11,
    "start_time": "2024-04-24T23:56:12.899Z"
   },
   {
    "duration": 12,
    "start_time": "2024-04-24T23:56:15.318Z"
   },
   {
    "duration": 11,
    "start_time": "2024-04-24T23:56:17.750Z"
   },
   {
    "duration": 13,
    "start_time": "2024-04-24T23:56:19.819Z"
   },
   {
    "duration": 28,
    "start_time": "2024-04-24T23:56:25.714Z"
   },
   {
    "duration": 57,
    "start_time": "2024-04-24T23:59:09.708Z"
   },
   {
    "duration": 48,
    "start_time": "2024-04-24T23:59:18.033Z"
   },
   {
    "duration": 47,
    "start_time": "2024-04-24T23:59:24.921Z"
   },
   {
    "duration": 47,
    "start_time": "2024-04-24T23:59:37.781Z"
   },
   {
    "duration": 50,
    "start_time": "2024-04-24T23:59:59.109Z"
   },
   {
    "duration": 94,
    "start_time": "2024-04-25T00:00:05.693Z"
   },
   {
    "duration": 228,
    "start_time": "2024-04-25T00:00:44.784Z"
   },
   {
    "duration": 30,
    "start_time": "2024-04-25T00:02:10.903Z"
   },
   {
    "duration": 10,
    "start_time": "2024-04-25T00:02:16.331Z"
   },
   {
    "duration": 132,
    "start_time": "2024-04-25T00:02:18.701Z"
   },
   {
    "duration": 9,
    "start_time": "2024-04-25T00:03:19.026Z"
   },
   {
    "duration": 8,
    "start_time": "2024-04-25T00:03:27.090Z"
   },
   {
    "duration": 8,
    "start_time": "2024-04-25T00:05:02.511Z"
   },
   {
    "duration": 941,
    "start_time": "2024-04-25T00:05:02.521Z"
   },
   {
    "duration": 19,
    "start_time": "2024-04-25T00:05:03.463Z"
   },
   {
    "duration": 160,
    "start_time": "2024-04-25T00:05:03.484Z"
   },
   {
    "duration": 147,
    "start_time": "2024-04-25T00:05:03.647Z"
   },
   {
    "duration": 192,
    "start_time": "2024-04-25T00:05:03.796Z"
   },
   {
    "duration": 248,
    "start_time": "2024-04-25T00:05:03.990Z"
   },
   {
    "duration": 124,
    "start_time": "2024-04-25T00:05:04.240Z"
   },
   {
    "duration": 18,
    "start_time": "2024-04-25T00:05:04.366Z"
   },
   {
    "duration": 306,
    "start_time": "2024-04-25T00:05:04.386Z"
   },
   {
    "duration": 338,
    "start_time": "2024-04-25T00:05:04.694Z"
   },
   {
    "duration": 297,
    "start_time": "2024-04-25T00:05:05.033Z"
   },
   {
    "duration": 138,
    "start_time": "2024-04-25T00:05:05.331Z"
   },
   {
    "duration": 1832,
    "start_time": "2024-04-25T00:05:05.481Z"
   },
   {
    "duration": 196,
    "start_time": "2024-04-25T00:05:07.315Z"
   },
   {
    "duration": 11,
    "start_time": "2024-04-25T00:05:07.512Z"
   },
   {
    "duration": 25,
    "start_time": "2024-04-25T00:05:07.524Z"
   },
   {
    "duration": 260,
    "start_time": "2024-04-25T00:05:07.551Z"
   },
   {
    "duration": 16,
    "start_time": "2024-04-25T00:05:07.812Z"
   },
   {
    "duration": 27,
    "start_time": "2024-04-25T00:05:07.830Z"
   },
   {
    "duration": 46,
    "start_time": "2024-04-25T00:05:07.859Z"
   },
   {
    "duration": 155,
    "start_time": "2024-04-25T00:05:07.907Z"
   },
   {
    "duration": 119,
    "start_time": "2024-04-25T00:05:08.063Z"
   },
   {
    "duration": 16,
    "start_time": "2024-04-25T00:05:08.183Z"
   },
   {
    "duration": 233,
    "start_time": "2024-04-25T00:05:08.200Z"
   },
   {
    "duration": 13,
    "start_time": "2024-04-25T00:05:31.677Z"
   },
   {
    "duration": 6,
    "start_time": "2024-04-25T00:05:40.892Z"
   },
   {
    "duration": 846,
    "start_time": "2024-04-25T00:05:40.900Z"
   },
   {
    "duration": 13,
    "start_time": "2024-04-25T00:05:41.747Z"
   },
   {
    "duration": 175,
    "start_time": "2024-04-25T00:05:41.762Z"
   },
   {
    "duration": 159,
    "start_time": "2024-04-25T00:05:41.939Z"
   },
   {
    "duration": 101,
    "start_time": "2024-04-25T00:05:42.100Z"
   },
   {
    "duration": 253,
    "start_time": "2024-04-25T00:05:42.203Z"
   },
   {
    "duration": 131,
    "start_time": "2024-04-25T00:05:42.458Z"
   },
   {
    "duration": 9,
    "start_time": "2024-04-25T00:05:42.596Z"
   },
   {
    "duration": 303,
    "start_time": "2024-04-25T00:05:42.607Z"
   },
   {
    "duration": 319,
    "start_time": "2024-04-25T00:05:42.911Z"
   },
   {
    "duration": 302,
    "start_time": "2024-04-25T00:05:43.232Z"
   },
   {
    "duration": 126,
    "start_time": "2024-04-25T00:05:43.536Z"
   },
   {
    "duration": 1897,
    "start_time": "2024-04-25T00:05:43.666Z"
   },
   {
    "duration": 172,
    "start_time": "2024-04-25T00:05:45.564Z"
   },
   {
    "duration": 10,
    "start_time": "2024-04-25T00:05:45.737Z"
   },
   {
    "duration": 43,
    "start_time": "2024-04-25T00:05:45.749Z"
   },
   {
    "duration": 164,
    "start_time": "2024-04-25T00:05:45.794Z"
   },
   {
    "duration": 27,
    "start_time": "2024-04-25T00:05:45.959Z"
   },
   {
    "duration": 28,
    "start_time": "2024-04-25T00:05:45.987Z"
   },
   {
    "duration": 26,
    "start_time": "2024-04-25T00:05:46.017Z"
   },
   {
    "duration": 154,
    "start_time": "2024-04-25T00:05:46.044Z"
   },
   {
    "duration": 121,
    "start_time": "2024-04-25T00:05:46.200Z"
   },
   {
    "duration": 16,
    "start_time": "2024-04-25T00:05:46.322Z"
   },
   {
    "duration": 242,
    "start_time": "2024-04-25T00:05:46.340Z"
   },
   {
    "duration": 29,
    "start_time": "2024-04-25T00:05:50.693Z"
   },
   {
    "duration": 12,
    "start_time": "2024-04-25T00:06:38.121Z"
   },
   {
    "duration": 12,
    "start_time": "2024-04-25T00:09:07.591Z"
   },
   {
    "duration": 3,
    "start_time": "2024-04-25T00:12:21.569Z"
   },
   {
    "duration": 231,
    "start_time": "2024-04-25T00:12:23.278Z"
   },
   {
    "duration": 222,
    "start_time": "2024-04-25T00:12:32.300Z"
   },
   {
    "duration": 198,
    "start_time": "2024-04-25T00:12:40.036Z"
   },
   {
    "duration": 381,
    "start_time": "2024-04-25T00:12:54.854Z"
   },
   {
    "duration": 3,
    "start_time": "2024-04-25T00:13:21.261Z"
   },
   {
    "duration": 133,
    "start_time": "2024-04-25T00:13:22.687Z"
   },
   {
    "duration": 241,
    "start_time": "2024-04-25T00:13:32.382Z"
   },
   {
    "duration": 30,
    "start_time": "2024-04-25T00:13:58.167Z"
   },
   {
    "duration": 3,
    "start_time": "2024-04-25T00:14:07.605Z"
   },
   {
    "duration": 15986,
    "start_time": "2024-04-25T00:14:08.886Z"
   },
   {
    "duration": 0,
    "start_time": "2024-04-25T00:14:24.874Z"
   },
   {
    "duration": 4,
    "start_time": "2024-04-25T00:14:34.963Z"
   },
   {
    "duration": 4652,
    "start_time": "2024-04-25T00:14:36.209Z"
   },
   {
    "duration": 4,
    "start_time": "2024-04-25T00:14:49.730Z"
   },
   {
    "duration": 0,
    "start_time": "2024-04-25T00:16:08.864Z"
   },
   {
    "duration": 18,
    "start_time": "2024-04-25T00:16:10.217Z"
   },
   {
    "duration": 31,
    "start_time": "2024-04-25T00:16:12.580Z"
   },
   {
    "duration": 31,
    "start_time": "2024-04-25T00:16:21.389Z"
   },
   {
    "duration": 18,
    "start_time": "2024-04-25T00:17:34.770Z"
   },
   {
    "duration": 30,
    "start_time": "2024-04-25T00:17:37.119Z"
   },
   {
    "duration": 13,
    "start_time": "2024-04-25T00:18:19.910Z"
   },
   {
    "duration": 40,
    "start_time": "2024-04-25T00:18:22.190Z"
   },
   {
    "duration": 104,
    "start_time": "2024-04-25T00:19:03.465Z"
   },
   {
    "duration": 33,
    "start_time": "2024-04-25T00:19:05.688Z"
   },
   {
    "duration": 97,
    "start_time": "2024-04-25T00:19:20.231Z"
   },
   {
    "duration": 30,
    "start_time": "2024-04-25T00:19:22.035Z"
   },
   {
    "duration": 119,
    "start_time": "2024-04-25T00:19:25.389Z"
   },
   {
    "duration": 0,
    "start_time": "2024-04-25T00:20:08.761Z"
   },
   {
    "duration": 8806,
    "start_time": "2024-04-25T00:20:24.754Z"
   },
   {
    "duration": 129178,
    "start_time": "2024-04-25T00:20:45.679Z"
   },
   {
    "duration": 11,
    "start_time": "2024-04-25T00:23:26.750Z"
   },
   {
    "duration": 150,
    "start_time": "2024-04-25T00:23:44.580Z"
   },
   {
    "duration": 144,
    "start_time": "2024-04-25T00:23:54.710Z"
   },
   {
    "duration": 10,
    "start_time": "2024-04-25T00:24:34.253Z"
   },
   {
    "duration": 45,
    "start_time": "2024-04-25T00:24:46.457Z"
   },
   {
    "duration": 102,
    "start_time": "2024-04-25T00:25:16.791Z"
   },
   {
    "duration": 6,
    "start_time": "2024-04-25T00:25:25.460Z"
   },
   {
    "duration": 974,
    "start_time": "2024-04-25T00:25:25.468Z"
   },
   {
    "duration": 13,
    "start_time": "2024-04-25T00:25:26.444Z"
   },
   {
    "duration": 160,
    "start_time": "2024-04-25T00:25:26.458Z"
   },
   {
    "duration": 140,
    "start_time": "2024-04-25T00:25:26.620Z"
   },
   {
    "duration": 92,
    "start_time": "2024-04-25T00:25:26.761Z"
   },
   {
    "duration": 232,
    "start_time": "2024-04-25T00:25:26.855Z"
   },
   {
    "duration": 109,
    "start_time": "2024-04-25T00:25:27.088Z"
   },
   {
    "duration": 6,
    "start_time": "2024-04-25T00:25:27.199Z"
   },
   {
    "duration": 284,
    "start_time": "2024-04-25T00:25:27.207Z"
   },
   {
    "duration": 307,
    "start_time": "2024-04-25T00:25:27.493Z"
   },
   {
    "duration": 301,
    "start_time": "2024-04-25T00:25:27.801Z"
   },
   {
    "duration": 129,
    "start_time": "2024-04-25T00:25:28.104Z"
   },
   {
    "duration": 1908,
    "start_time": "2024-04-25T00:25:28.236Z"
   },
   {
    "duration": 179,
    "start_time": "2024-04-25T00:25:30.146Z"
   },
   {
    "duration": 12,
    "start_time": "2024-04-25T00:25:30.327Z"
   },
   {
    "duration": 93,
    "start_time": "2024-04-25T00:25:30.341Z"
   },
   {
    "duration": 265,
    "start_time": "2024-04-25T00:25:30.436Z"
   },
   {
    "duration": 17,
    "start_time": "2024-04-25T00:25:30.703Z"
   },
   {
    "duration": 87,
    "start_time": "2024-04-25T00:25:30.722Z"
   },
   {
    "duration": 30,
    "start_time": "2024-04-25T00:25:30.810Z"
   },
   {
    "duration": 242,
    "start_time": "2024-04-25T00:25:30.842Z"
   },
   {
    "duration": 123,
    "start_time": "2024-04-25T00:25:31.086Z"
   },
   {
    "duration": 16,
    "start_time": "2024-04-25T00:25:31.211Z"
   },
   {
    "duration": 245,
    "start_time": "2024-04-25T00:25:31.228Z"
   },
   {
    "duration": 217390,
    "start_time": "2024-04-25T00:25:31.475Z"
   },
   {
    "duration": 172,
    "start_time": "2024-04-25T00:29:08.866Z"
   },
   {
    "duration": 133,
    "start_time": "2024-04-25T00:29:09.039Z"
   },
   {
    "duration": 22,
    "start_time": "2024-04-25T00:31:41.606Z"
   },
   {
    "duration": 10,
    "start_time": "2024-04-25T00:31:46.683Z"
   },
   {
    "duration": 6,
    "start_time": "2024-04-25T00:31:49.796Z"
   },
   {
    "duration": 13,
    "start_time": "2024-04-25T00:31:53.056Z"
   },
   {
    "duration": 8,
    "start_time": "2024-04-25T00:32:15.973Z"
   },
   {
    "duration": 8,
    "start_time": "2024-04-25T00:32:19.351Z"
   },
   {
    "duration": 9,
    "start_time": "2024-04-25T00:32:22.258Z"
   },
   {
    "duration": 9,
    "start_time": "2024-04-25T00:32:25.208Z"
   },
   {
    "duration": 9,
    "start_time": "2024-04-25T00:32:28.767Z"
   },
   {
    "duration": 10,
    "start_time": "2024-04-25T00:32:31.516Z"
   },
   {
    "duration": 24,
    "start_time": "2024-04-25T00:33:07.041Z"
   },
   {
    "duration": 134,
    "start_time": "2024-04-25T00:33:20.253Z"
   },
   {
    "duration": 21,
    "start_time": "2024-04-25T00:33:56.228Z"
   },
   {
    "duration": 95,
    "start_time": "2024-04-25T00:34:04.587Z"
   },
   {
    "duration": 253,
    "start_time": "2024-04-25T00:37:05.762Z"
   },
   {
    "duration": 6,
    "start_time": "2024-04-25T00:37:09.521Z"
   },
   {
    "duration": 26,
    "start_time": "2024-04-25T00:37:12.521Z"
   },
   {
    "duration": 230,
    "start_time": "2024-04-25T00:37:14.610Z"
   },
   {
    "duration": 20,
    "start_time": "2024-04-25T00:37:17.453Z"
   },
   {
    "duration": 7,
    "start_time": "2024-04-25T00:37:27.576Z"
   },
   {
    "duration": 843,
    "start_time": "2024-04-25T00:37:27.586Z"
   },
   {
    "duration": 13,
    "start_time": "2024-04-25T00:37:28.431Z"
   },
   {
    "duration": 163,
    "start_time": "2024-04-25T00:37:28.445Z"
   },
   {
    "duration": 144,
    "start_time": "2024-04-25T00:37:28.610Z"
   },
   {
    "duration": 92,
    "start_time": "2024-04-25T00:37:28.756Z"
   },
   {
    "duration": 232,
    "start_time": "2024-04-25T00:37:28.850Z"
   },
   {
    "duration": 120,
    "start_time": "2024-04-25T00:37:29.083Z"
   },
   {
    "duration": 7,
    "start_time": "2024-04-25T00:37:29.205Z"
   },
   {
    "duration": 283,
    "start_time": "2024-04-25T00:37:29.213Z"
   },
   {
    "duration": 284,
    "start_time": "2024-04-25T00:37:29.498Z"
   },
   {
    "duration": 268,
    "start_time": "2024-04-25T00:37:29.783Z"
   },
   {
    "duration": 130,
    "start_time": "2024-04-25T00:37:30.053Z"
   },
   {
    "duration": 1833,
    "start_time": "2024-04-25T00:37:30.186Z"
   },
   {
    "duration": 261,
    "start_time": "2024-04-25T00:37:32.021Z"
   },
   {
    "duration": 10,
    "start_time": "2024-04-25T00:37:32.283Z"
   },
   {
    "duration": 24,
    "start_time": "2024-04-25T00:37:32.295Z"
   },
   {
    "duration": 196,
    "start_time": "2024-04-25T00:37:32.321Z"
   },
   {
    "duration": 17,
    "start_time": "2024-04-25T00:37:32.519Z"
   },
   {
    "duration": 28,
    "start_time": "2024-04-25T00:37:32.538Z"
   },
   {
    "duration": 26,
    "start_time": "2024-04-25T00:37:32.582Z"
   },
   {
    "duration": 150,
    "start_time": "2024-04-25T00:37:32.610Z"
   },
   {
    "duration": 111,
    "start_time": "2024-04-25T00:37:32.762Z"
   },
   {
    "duration": 21,
    "start_time": "2024-04-25T00:37:32.874Z"
   },
   {
    "duration": 236,
    "start_time": "2024-04-25T00:37:32.896Z"
   },
   {
    "duration": 353,
    "start_time": "2024-04-25T00:37:33.133Z"
   },
   {
    "duration": 10,
    "start_time": "2024-04-25T00:37:33.488Z"
   },
   {
    "duration": 25,
    "start_time": "2024-04-25T00:37:33.499Z"
   },
   {
    "duration": 172,
    "start_time": "2024-04-25T00:37:33.525Z"
   },
   {
    "duration": 21,
    "start_time": "2024-04-25T00:37:33.699Z"
   },
   {
    "duration": 118,
    "start_time": "2024-04-25T00:37:33.721Z"
   },
   {
    "duration": 239,
    "start_time": "2024-04-25T00:38:05.519Z"
   },
   {
    "duration": 9,
    "start_time": "2024-04-25T00:39:39.520Z"
   },
   {
    "duration": 858,
    "start_time": "2024-04-25T00:39:39.531Z"
   },
   {
    "duration": 13,
    "start_time": "2024-04-25T00:39:40.391Z"
   },
   {
    "duration": 162,
    "start_time": "2024-04-25T00:39:40.405Z"
   },
   {
    "duration": 162,
    "start_time": "2024-04-25T00:39:40.569Z"
   },
   {
    "duration": 95,
    "start_time": "2024-04-25T00:39:40.733Z"
   },
   {
    "duration": 262,
    "start_time": "2024-04-25T00:39:40.829Z"
   },
   {
    "duration": 109,
    "start_time": "2024-04-25T00:39:41.093Z"
   },
   {
    "duration": 6,
    "start_time": "2024-04-25T00:39:41.203Z"
   },
   {
    "duration": 265,
    "start_time": "2024-04-25T00:39:41.211Z"
   },
   {
    "duration": 283,
    "start_time": "2024-04-25T00:39:41.478Z"
   },
   {
    "duration": 283,
    "start_time": "2024-04-25T00:39:41.762Z"
   },
   {
    "duration": 121,
    "start_time": "2024-04-25T00:39:42.047Z"
   },
   {
    "duration": 1937,
    "start_time": "2024-04-25T00:39:42.182Z"
   },
   {
    "duration": 194,
    "start_time": "2024-04-25T00:39:44.121Z"
   },
   {
    "duration": 11,
    "start_time": "2024-04-25T00:39:44.317Z"
   },
   {
    "duration": 25,
    "start_time": "2024-04-25T00:39:44.330Z"
   },
   {
    "duration": 188,
    "start_time": "2024-04-25T00:39:44.357Z"
   },
   {
    "duration": 17,
    "start_time": "2024-04-25T00:39:44.546Z"
   },
   {
    "duration": 42,
    "start_time": "2024-04-25T00:39:44.564Z"
   },
   {
    "duration": 25,
    "start_time": "2024-04-25T00:39:44.608Z"
   },
   {
    "duration": 151,
    "start_time": "2024-04-25T00:39:44.634Z"
   },
   {
    "duration": 116,
    "start_time": "2024-04-25T00:39:44.786Z"
   },
   {
    "duration": 16,
    "start_time": "2024-04-25T00:39:44.903Z"
   },
   {
    "duration": 239,
    "start_time": "2024-04-25T00:39:44.921Z"
   },
   {
    "duration": 162943,
    "start_time": "2024-04-25T00:39:45.162Z"
   },
   {
    "duration": 0,
    "start_time": "2024-04-25T00:42:28.106Z"
   },
   {
    "duration": 0,
    "start_time": "2024-04-25T00:42:28.107Z"
   },
   {
    "duration": 0,
    "start_time": "2024-04-25T00:42:28.109Z"
   },
   {
    "duration": 0,
    "start_time": "2024-04-25T00:42:28.110Z"
   },
   {
    "duration": 0,
    "start_time": "2024-04-25T00:42:28.110Z"
   },
   {
    "duration": 10,
    "start_time": "2024-04-25T00:42:35.915Z"
   },
   {
    "duration": 840,
    "start_time": "2024-04-25T00:42:35.927Z"
   },
   {
    "duration": 15,
    "start_time": "2024-04-25T00:42:36.769Z"
   },
   {
    "duration": 158,
    "start_time": "2024-04-25T00:42:36.786Z"
   },
   {
    "duration": 150,
    "start_time": "2024-04-25T00:42:36.947Z"
   },
   {
    "duration": 96,
    "start_time": "2024-04-25T00:42:37.099Z"
   },
   {
    "duration": 268,
    "start_time": "2024-04-25T00:42:37.197Z"
   },
   {
    "duration": 115,
    "start_time": "2024-04-25T00:42:37.467Z"
   },
   {
    "duration": 7,
    "start_time": "2024-04-25T00:42:37.584Z"
   },
   {
    "duration": 305,
    "start_time": "2024-04-25T00:42:37.593Z"
   },
   {
    "duration": 285,
    "start_time": "2024-04-25T00:42:37.900Z"
   },
   {
    "duration": 282,
    "start_time": "2024-04-25T00:42:38.187Z"
   },
   {
    "duration": 131,
    "start_time": "2024-04-25T00:42:38.471Z"
   },
   {
    "duration": 1790,
    "start_time": "2024-04-25T00:42:38.604Z"
   },
   {
    "duration": 197,
    "start_time": "2024-04-25T00:42:40.396Z"
   },
   {
    "duration": 11,
    "start_time": "2024-04-25T00:42:40.594Z"
   },
   {
    "duration": 30,
    "start_time": "2024-04-25T00:42:40.606Z"
   },
   {
    "duration": 283,
    "start_time": "2024-04-25T00:42:40.638Z"
   },
   {
    "duration": 16,
    "start_time": "2024-04-25T00:42:40.923Z"
   },
   {
    "duration": 43,
    "start_time": "2024-04-25T00:42:40.940Z"
   },
   {
    "duration": 26,
    "start_time": "2024-04-25T00:42:40.984Z"
   },
   {
    "duration": 150,
    "start_time": "2024-04-25T00:42:41.012Z"
   },
   {
    "duration": 119,
    "start_time": "2024-04-25T00:42:41.164Z"
   },
   {
    "duration": 15,
    "start_time": "2024-04-25T00:42:41.285Z"
   },
   {
    "duration": 228,
    "start_time": "2024-04-25T00:42:41.301Z"
   },
   {
    "duration": 347,
    "start_time": "2024-04-25T00:42:41.531Z"
   },
   {
    "duration": 10,
    "start_time": "2024-04-25T00:42:41.880Z"
   },
   {
    "duration": 24,
    "start_time": "2024-04-25T00:42:41.892Z"
   },
   {
    "duration": 170,
    "start_time": "2024-04-25T00:42:41.918Z"
   },
   {
    "duration": 23,
    "start_time": "2024-04-25T00:42:42.089Z"
   },
   {
    "duration": 129,
    "start_time": "2024-04-25T00:42:42.114Z"
   },
   {
    "duration": 97,
    "start_time": "2024-04-25T00:43:18.946Z"
   },
   {
    "duration": 1722,
    "start_time": "2024-04-25T00:43:26.635Z"
   },
   {
    "duration": 105,
    "start_time": "2024-04-25T00:44:33.825Z"
   },
   {
    "duration": 6,
    "start_time": "2024-04-25T00:44:36.473Z"
   },
   {
    "duration": 148,
    "start_time": "2024-04-25T00:44:40.313Z"
   },
   {
    "duration": 22,
    "start_time": "2024-04-25T00:44:43.069Z"
   },
   {
    "duration": 7,
    "start_time": "2024-04-25T00:45:34.925Z"
   },
   {
    "duration": 832,
    "start_time": "2024-04-25T00:45:34.934Z"
   },
   {
    "duration": 16,
    "start_time": "2024-04-25T00:45:35.767Z"
   },
   {
    "duration": 182,
    "start_time": "2024-04-25T00:45:35.784Z"
   },
   {
    "duration": 152,
    "start_time": "2024-04-25T00:45:35.968Z"
   },
   {
    "duration": 116,
    "start_time": "2024-04-25T00:45:36.121Z"
   },
   {
    "duration": 231,
    "start_time": "2024-04-25T00:45:36.238Z"
   },
   {
    "duration": 113,
    "start_time": "2024-04-25T00:45:36.470Z"
   },
   {
    "duration": 6,
    "start_time": "2024-04-25T00:45:36.585Z"
   },
   {
    "duration": 273,
    "start_time": "2024-04-25T00:45:36.593Z"
   },
   {
    "duration": 286,
    "start_time": "2024-04-25T00:45:36.868Z"
   },
   {
    "duration": 288,
    "start_time": "2024-04-25T00:45:37.156Z"
   },
   {
    "duration": 181,
    "start_time": "2024-04-25T00:45:37.446Z"
   },
   {
    "duration": 1951,
    "start_time": "2024-04-25T00:45:37.630Z"
   },
   {
    "duration": 170,
    "start_time": "2024-04-25T00:45:39.583Z"
   },
   {
    "duration": 10,
    "start_time": "2024-04-25T00:45:39.755Z"
   },
   {
    "duration": 35,
    "start_time": "2024-04-25T00:45:39.766Z"
   },
   {
    "duration": 180,
    "start_time": "2024-04-25T00:45:39.802Z"
   },
   {
    "duration": 16,
    "start_time": "2024-04-25T00:45:39.983Z"
   },
   {
    "duration": 26,
    "start_time": "2024-04-25T00:45:40.001Z"
   },
   {
    "duration": 25,
    "start_time": "2024-04-25T00:45:40.029Z"
   },
   {
    "duration": 154,
    "start_time": "2024-04-25T00:45:40.055Z"
   },
   {
    "duration": 117,
    "start_time": "2024-04-25T00:45:40.211Z"
   },
   {
    "duration": 15,
    "start_time": "2024-04-25T00:45:40.329Z"
   },
   {
    "duration": 250,
    "start_time": "2024-04-25T00:45:40.345Z"
   },
   {
    "duration": 374,
    "start_time": "2024-04-25T00:45:40.596Z"
   },
   {
    "duration": 18,
    "start_time": "2024-04-25T00:45:40.972Z"
   },
   {
    "duration": 25,
    "start_time": "2024-04-25T00:45:40.991Z"
   },
   {
    "duration": 165,
    "start_time": "2024-04-25T00:45:41.017Z"
   },
   {
    "duration": 20,
    "start_time": "2024-04-25T00:45:41.184Z"
   },
   {
    "duration": 217,
    "start_time": "2024-04-25T00:45:41.205Z"
   },
   {
    "duration": 9,
    "start_time": "2024-04-25T00:46:06.058Z"
   },
   {
    "duration": 878,
    "start_time": "2024-04-25T00:46:06.069Z"
   },
   {
    "duration": 14,
    "start_time": "2024-04-25T00:46:06.948Z"
   },
   {
    "duration": 165,
    "start_time": "2024-04-25T00:46:06.963Z"
   },
   {
    "duration": 153,
    "start_time": "2024-04-25T00:46:07.130Z"
   },
   {
    "duration": 84,
    "start_time": "2024-04-25T00:46:07.284Z"
   },
   {
    "duration": 231,
    "start_time": "2024-04-25T00:46:07.382Z"
   },
   {
    "duration": 109,
    "start_time": "2024-04-25T00:46:07.615Z"
   },
   {
    "duration": 7,
    "start_time": "2024-04-25T00:46:07.726Z"
   },
   {
    "duration": 274,
    "start_time": "2024-04-25T00:46:07.735Z"
   },
   {
    "duration": 293,
    "start_time": "2024-04-25T00:46:08.010Z"
   },
   {
    "duration": 256,
    "start_time": "2024-04-25T00:46:08.305Z"
   },
   {
    "duration": 128,
    "start_time": "2024-04-25T00:46:08.562Z"
   },
   {
    "duration": 1803,
    "start_time": "2024-04-25T00:46:08.693Z"
   },
   {
    "duration": 278,
    "start_time": "2024-04-25T00:46:10.498Z"
   },
   {
    "duration": 11,
    "start_time": "2024-04-25T00:46:10.778Z"
   },
   {
    "duration": 26,
    "start_time": "2024-04-25T00:46:10.791Z"
   },
   {
    "duration": 199,
    "start_time": "2024-04-25T00:46:10.818Z"
   },
   {
    "duration": 18,
    "start_time": "2024-04-25T00:46:11.019Z"
   },
   {
    "duration": 48,
    "start_time": "2024-04-25T00:46:11.039Z"
   },
   {
    "duration": 25,
    "start_time": "2024-04-25T00:46:11.089Z"
   },
   {
    "duration": 166,
    "start_time": "2024-04-25T00:46:11.116Z"
   },
   {
    "duration": 130,
    "start_time": "2024-04-25T00:46:11.285Z"
   },
   {
    "duration": 16,
    "start_time": "2024-04-25T00:46:11.416Z"
   },
   {
    "duration": 230,
    "start_time": "2024-04-25T00:46:11.433Z"
   },
   {
    "duration": 560,
    "start_time": "2024-04-25T00:46:11.664Z"
   },
   {
    "duration": 10,
    "start_time": "2024-04-25T00:46:12.226Z"
   },
   {
    "duration": 32,
    "start_time": "2024-04-25T00:46:12.237Z"
   },
   {
    "duration": 167,
    "start_time": "2024-04-25T00:46:12.271Z"
   },
   {
    "duration": 22,
    "start_time": "2024-04-25T00:46:12.440Z"
   },
   {
    "duration": 146,
    "start_time": "2024-04-25T00:46:12.464Z"
   },
   {
    "duration": 24,
    "start_time": "2024-04-25T00:46:39.777Z"
   },
   {
    "duration": 151,
    "start_time": "2024-04-25T00:46:41.719Z"
   },
   {
    "duration": 23,
    "start_time": "2024-04-25T00:46:45.904Z"
   },
   {
    "duration": 30,
    "start_time": "2024-04-25T00:46:58.975Z"
   },
   {
    "duration": 10,
    "start_time": "2024-04-25T00:47:41.821Z"
   },
   {
    "duration": 901,
    "start_time": "2024-04-25T00:47:41.834Z"
   },
   {
    "duration": 12,
    "start_time": "2024-04-25T00:47:42.737Z"
   },
   {
    "duration": 165,
    "start_time": "2024-04-25T00:47:42.751Z"
   },
   {
    "duration": 152,
    "start_time": "2024-04-25T00:47:42.919Z"
   },
   {
    "duration": 117,
    "start_time": "2024-04-25T00:47:43.083Z"
   },
   {
    "duration": 234,
    "start_time": "2024-04-25T00:47:43.202Z"
   },
   {
    "duration": 108,
    "start_time": "2024-04-25T00:47:43.438Z"
   },
   {
    "duration": 7,
    "start_time": "2024-04-25T00:47:43.548Z"
   },
   {
    "duration": 288,
    "start_time": "2024-04-25T00:47:43.556Z"
   },
   {
    "duration": 300,
    "start_time": "2024-04-25T00:47:43.846Z"
   },
   {
    "duration": 276,
    "start_time": "2024-04-25T00:47:44.148Z"
   },
   {
    "duration": 131,
    "start_time": "2024-04-25T00:47:44.426Z"
   },
   {
    "duration": 1923,
    "start_time": "2024-04-25T00:47:44.560Z"
   },
   {
    "duration": 192,
    "start_time": "2024-04-25T00:47:46.485Z"
   },
   {
    "duration": 12,
    "start_time": "2024-04-25T00:47:46.678Z"
   },
   {
    "duration": 27,
    "start_time": "2024-04-25T00:47:46.692Z"
   },
   {
    "duration": 187,
    "start_time": "2024-04-25T00:47:46.720Z"
   },
   {
    "duration": 16,
    "start_time": "2024-04-25T00:47:46.909Z"
   },
   {
    "duration": 27,
    "start_time": "2024-04-25T00:47:46.927Z"
   },
   {
    "duration": 47,
    "start_time": "2024-04-25T00:47:46.955Z"
   },
   {
    "duration": 144,
    "start_time": "2024-04-25T00:47:47.004Z"
   },
   {
    "duration": 123,
    "start_time": "2024-04-25T00:47:47.149Z"
   },
   {
    "duration": 17,
    "start_time": "2024-04-25T00:47:47.274Z"
   },
   {
    "duration": 235,
    "start_time": "2024-04-25T00:47:47.293Z"
   },
   {
    "duration": 234,
    "start_time": "2024-04-25T00:47:47.530Z"
   },
   {
    "duration": 17,
    "start_time": "2024-04-25T00:47:47.766Z"
   },
   {
    "duration": 24,
    "start_time": "2024-04-25T00:47:47.784Z"
   },
   {
    "duration": 261,
    "start_time": "2024-04-25T00:47:47.810Z"
   },
   {
    "duration": 31,
    "start_time": "2024-04-25T00:47:48.072Z"
   },
   {
    "duration": 18,
    "start_time": "2024-04-25T00:47:48.105Z"
   },
   {
    "duration": 124,
    "start_time": "2024-04-25T00:47:48.125Z"
   },
   {
    "duration": 176,
    "start_time": "2024-04-25T00:48:12.030Z"
   },
   {
    "duration": 7,
    "start_time": "2024-04-25T00:48:33.007Z"
   },
   {
    "duration": 872,
    "start_time": "2024-04-25T00:48:33.015Z"
   },
   {
    "duration": 12,
    "start_time": "2024-04-25T00:48:33.888Z"
   },
   {
    "duration": 156,
    "start_time": "2024-04-25T00:48:33.902Z"
   },
   {
    "duration": 146,
    "start_time": "2024-04-25T00:48:34.061Z"
   },
   {
    "duration": 105,
    "start_time": "2024-04-25T00:48:34.209Z"
   },
   {
    "duration": 223,
    "start_time": "2024-04-25T00:48:34.316Z"
   },
   {
    "duration": 111,
    "start_time": "2024-04-25T00:48:34.541Z"
   },
   {
    "duration": 6,
    "start_time": "2024-04-25T00:48:34.654Z"
   },
   {
    "duration": 279,
    "start_time": "2024-04-25T00:48:34.662Z"
   },
   {
    "duration": 292,
    "start_time": "2024-04-25T00:48:34.942Z"
   },
   {
    "duration": 289,
    "start_time": "2024-04-25T00:48:35.236Z"
   },
   {
    "duration": 126,
    "start_time": "2024-04-25T00:48:35.527Z"
   },
   {
    "duration": 1883,
    "start_time": "2024-04-25T00:48:35.656Z"
   },
   {
    "duration": 173,
    "start_time": "2024-04-25T00:48:37.540Z"
   },
   {
    "duration": 11,
    "start_time": "2024-04-25T00:48:37.715Z"
   },
   {
    "duration": 25,
    "start_time": "2024-04-25T00:48:37.728Z"
   },
   {
    "duration": 191,
    "start_time": "2024-04-25T00:48:37.755Z"
   },
   {
    "duration": 17,
    "start_time": "2024-04-25T00:48:37.948Z"
   },
   {
    "duration": 40,
    "start_time": "2024-04-25T00:48:37.967Z"
   },
   {
    "duration": 26,
    "start_time": "2024-04-25T00:48:38.009Z"
   },
   {
    "duration": 163,
    "start_time": "2024-04-25T00:48:38.036Z"
   },
   {
    "duration": 122,
    "start_time": "2024-04-25T00:48:38.201Z"
   },
   {
    "duration": 22,
    "start_time": "2024-04-25T00:48:38.325Z"
   },
   {
    "duration": 235,
    "start_time": "2024-04-25T00:48:38.349Z"
   },
   {
    "duration": 45669,
    "start_time": "2024-04-25T00:48:38.586Z"
   },
   {
    "duration": 29,
    "start_time": "2024-04-25T00:49:24.256Z"
   },
   {
    "duration": 33,
    "start_time": "2024-04-25T00:49:24.287Z"
   },
   {
    "duration": 172,
    "start_time": "2024-04-25T00:49:24.322Z"
   },
   {
    "duration": 9,
    "start_time": "2024-04-25T00:49:24.496Z"
   },
   {
    "duration": 24,
    "start_time": "2024-04-25T00:49:24.507Z"
   },
   {
    "duration": 137,
    "start_time": "2024-04-25T00:49:24.533Z"
   },
   {
    "duration": 195,
    "start_time": "2024-04-25T00:49:50.268Z"
   },
   {
    "duration": 122,
    "start_time": "2024-04-25T00:53:58.734Z"
   },
   {
    "duration": 0,
    "start_time": "2024-04-25T00:55:41.090Z"
   },
   {
    "duration": 32743,
    "start_time": "2024-04-25T00:55:42.272Z"
   },
   {
    "duration": 36535,
    "start_time": "2024-04-25T00:56:38.997Z"
   },
   {
    "duration": 4,
    "start_time": "2024-04-25T00:57:16.795Z"
   },
   {
    "duration": 2878,
    "start_time": "2024-04-25T00:58:01.068Z"
   },
   {
    "duration": 7,
    "start_time": "2024-04-25T00:58:06.404Z"
   },
   {
    "duration": 819,
    "start_time": "2024-04-25T00:58:06.412Z"
   },
   {
    "duration": 13,
    "start_time": "2024-04-25T00:58:07.232Z"
   },
   {
    "duration": 178,
    "start_time": "2024-04-25T00:58:07.246Z"
   },
   {
    "duration": 151,
    "start_time": "2024-04-25T00:58:07.426Z"
   },
   {
    "duration": 101,
    "start_time": "2024-04-25T00:58:07.581Z"
   },
   {
    "duration": 228,
    "start_time": "2024-04-25T00:58:07.684Z"
   },
   {
    "duration": 106,
    "start_time": "2024-04-25T00:58:07.913Z"
   },
   {
    "duration": 7,
    "start_time": "2024-04-25T00:58:08.021Z"
   },
   {
    "duration": 275,
    "start_time": "2024-04-25T00:58:08.029Z"
   },
   {
    "duration": 287,
    "start_time": "2024-04-25T00:58:08.306Z"
   },
   {
    "duration": 265,
    "start_time": "2024-04-25T00:58:08.594Z"
   },
   {
    "duration": 132,
    "start_time": "2024-04-25T00:58:08.860Z"
   },
   {
    "duration": 1837,
    "start_time": "2024-04-25T00:58:08.995Z"
   },
   {
    "duration": 173,
    "start_time": "2024-04-25T00:58:10.834Z"
   },
   {
    "duration": 10,
    "start_time": "2024-04-25T00:58:11.009Z"
   },
   {
    "duration": 26,
    "start_time": "2024-04-25T00:58:11.021Z"
   },
   {
    "duration": 187,
    "start_time": "2024-04-25T00:58:11.048Z"
   },
   {
    "duration": 15,
    "start_time": "2024-04-25T00:58:11.237Z"
   },
   {
    "duration": 37,
    "start_time": "2024-04-25T00:58:11.253Z"
   },
   {
    "duration": 24,
    "start_time": "2024-04-25T00:58:11.292Z"
   },
   {
    "duration": 151,
    "start_time": "2024-04-25T00:58:11.318Z"
   },
   {
    "duration": 118,
    "start_time": "2024-04-25T00:58:11.471Z"
   },
   {
    "duration": 15,
    "start_time": "2024-04-25T00:58:11.590Z"
   },
   {
    "duration": 243,
    "start_time": "2024-04-25T00:58:11.607Z"
   },
   {
    "duration": 44992,
    "start_time": "2024-04-25T00:58:11.852Z"
   },
   {
    "duration": 11,
    "start_time": "2024-04-25T00:58:56.846Z"
   },
   {
    "duration": 44,
    "start_time": "2024-04-25T00:58:56.858Z"
   },
   {
    "duration": 164,
    "start_time": "2024-04-25T00:58:56.903Z"
   },
   {
    "duration": 26,
    "start_time": "2024-04-25T00:58:57.069Z"
   },
   {
    "duration": 118,
    "start_time": "2024-04-25T00:58:57.097Z"
   },
   {
    "duration": 1517,
    "start_time": "2024-04-25T01:00:05.805Z"
   },
   {
    "duration": 3003,
    "start_time": "2024-04-25T01:00:07.325Z"
   },
   {
    "duration": 20,
    "start_time": "2024-04-25T01:00:10.330Z"
   },
   {
    "duration": 165,
    "start_time": "2024-04-25T01:00:10.352Z"
   },
   {
    "duration": 163,
    "start_time": "2024-04-25T01:00:10.520Z"
   },
   {
    "duration": 83,
    "start_time": "2024-04-25T01:00:10.685Z"
   },
   {
    "duration": 332,
    "start_time": "2024-04-25T01:00:10.781Z"
   },
   {
    "duration": 114,
    "start_time": "2024-04-25T01:00:11.115Z"
   },
   {
    "duration": 7,
    "start_time": "2024-04-25T01:00:11.230Z"
   },
   {
    "duration": 350,
    "start_time": "2024-04-25T01:00:11.240Z"
   },
   {
    "duration": 364,
    "start_time": "2024-04-25T01:00:11.591Z"
   },
   {
    "duration": 326,
    "start_time": "2024-04-25T01:00:11.957Z"
   },
   {
    "duration": 142,
    "start_time": "2024-04-25T01:00:12.284Z"
   },
   {
    "duration": 1986,
    "start_time": "2024-04-25T01:00:12.428Z"
   },
   {
    "duration": 200,
    "start_time": "2024-04-25T01:00:14.415Z"
   },
   {
    "duration": 12,
    "start_time": "2024-04-25T01:00:14.616Z"
   },
   {
    "duration": 36,
    "start_time": "2024-04-25T01:00:14.630Z"
   },
   {
    "duration": 184,
    "start_time": "2024-04-25T01:00:14.667Z"
   },
   {
    "duration": 17,
    "start_time": "2024-04-25T01:00:14.852Z"
   },
   {
    "duration": 39,
    "start_time": "2024-04-25T01:00:14.870Z"
   },
   {
    "duration": 26,
    "start_time": "2024-04-25T01:00:14.910Z"
   },
   {
    "duration": 164,
    "start_time": "2024-04-25T01:00:14.938Z"
   },
   {
    "duration": 127,
    "start_time": "2024-04-25T01:00:15.104Z"
   },
   {
    "duration": 16,
    "start_time": "2024-04-25T01:00:15.233Z"
   },
   {
    "duration": 340,
    "start_time": "2024-04-25T01:00:15.250Z"
   },
   {
    "duration": 45161,
    "start_time": "2024-04-25T01:00:15.592Z"
   },
   {
    "duration": 27,
    "start_time": "2024-04-25T01:01:00.755Z"
   },
   {
    "duration": 55,
    "start_time": "2024-04-25T01:01:00.784Z"
   },
   {
    "duration": 170,
    "start_time": "2024-04-25T01:01:00.841Z"
   },
   {
    "duration": 19,
    "start_time": "2024-04-25T01:01:01.013Z"
   },
   {
    "duration": 156,
    "start_time": "2024-04-25T01:01:01.034Z"
   },
   {
    "duration": 7148,
    "start_time": "2024-04-25T01:01:01.192Z"
   },
   {
    "duration": 121,
    "start_time": "2024-04-25T01:04:05.429Z"
   },
   {
    "duration": 12,
    "start_time": "2024-04-25T01:04:18.115Z"
   },
   {
    "duration": 12,
    "start_time": "2024-04-25T01:04:35.921Z"
   },
   {
    "duration": 4498,
    "start_time": "2024-04-25T01:04:47.426Z"
   },
   {
    "duration": 41,
    "start_time": "2024-04-25T01:05:09.995Z"
   },
   {
    "duration": 42,
    "start_time": "2024-04-25T01:05:28.644Z"
   },
   {
    "duration": 163,
    "start_time": "2024-04-25T01:06:00.554Z"
   },
   {
    "duration": 4538,
    "start_time": "2024-04-25T01:06:12.512Z"
   },
   {
    "duration": 4508,
    "start_time": "2024-04-25T01:07:06.779Z"
   },
   {
    "duration": 4509,
    "start_time": "2024-04-25T01:07:14.385Z"
   },
   {
    "duration": 1217,
    "start_time": "2024-04-25T01:07:30.566Z"
   },
   {
    "duration": 1227,
    "start_time": "2024-04-25T01:08:17.812Z"
   },
   {
    "duration": 1308,
    "start_time": "2024-04-25T01:08:45.349Z"
   },
   {
    "duration": 1208,
    "start_time": "2024-04-25T01:09:09.982Z"
   },
   {
    "duration": 1204,
    "start_time": "2024-04-25T01:09:39.492Z"
   },
   {
    "duration": 1285,
    "start_time": "2024-04-25T01:10:00.231Z"
   },
   {
    "duration": 5418,
    "start_time": "2024-04-25T22:03:46.043Z"
   },
   {
    "duration": 1217,
    "start_time": "2024-04-25T22:03:51.463Z"
   },
   {
    "duration": 16,
    "start_time": "2024-04-25T22:03:52.682Z"
   },
   {
    "duration": 154,
    "start_time": "2024-04-25T22:03:52.700Z"
   },
   {
    "duration": 140,
    "start_time": "2024-04-25T22:03:52.856Z"
   },
   {
    "duration": 78,
    "start_time": "2024-04-25T22:03:52.997Z"
   },
   {
    "duration": 284,
    "start_time": "2024-04-25T22:03:53.091Z"
   },
   {
    "duration": 108,
    "start_time": "2024-04-25T22:03:53.376Z"
   },
   {
    "duration": 6,
    "start_time": "2024-04-25T22:03:53.492Z"
   },
   {
    "duration": 329,
    "start_time": "2024-04-25T22:03:53.500Z"
   },
   {
    "duration": 356,
    "start_time": "2024-04-25T22:03:53.830Z"
   },
   {
    "duration": 297,
    "start_time": "2024-04-25T22:03:54.188Z"
   },
   {
    "duration": 119,
    "start_time": "2024-04-25T22:03:54.487Z"
   },
   {
    "duration": 1807,
    "start_time": "2024-04-25T22:03:54.609Z"
   },
   {
    "duration": 181,
    "start_time": "2024-04-25T22:03:56.418Z"
   },
   {
    "duration": 14,
    "start_time": "2024-04-25T22:03:56.600Z"
   },
   {
    "duration": 37,
    "start_time": "2024-04-25T22:03:56.616Z"
   },
   {
    "duration": 195,
    "start_time": "2024-04-25T22:03:56.654Z"
   },
   {
    "duration": 16,
    "start_time": "2024-04-25T22:03:56.851Z"
   },
   {
    "duration": 39,
    "start_time": "2024-04-25T22:03:56.868Z"
   },
   {
    "duration": 26,
    "start_time": "2024-04-25T22:03:56.909Z"
   },
   {
    "duration": 151,
    "start_time": "2024-04-25T22:03:56.936Z"
   },
   {
    "duration": 204,
    "start_time": "2024-04-25T22:03:57.091Z"
   },
   {
    "duration": 16,
    "start_time": "2024-04-25T22:03:57.297Z"
   },
   {
    "duration": 259,
    "start_time": "2024-04-25T22:03:57.315Z"
   },
   {
    "duration": 212,
    "start_time": "2024-04-25T22:03:57.575Z"
   },
   {
    "duration": 12,
    "start_time": "2024-04-25T22:03:57.788Z"
   },
   {
    "duration": 23,
    "start_time": "2024-04-25T22:03:57.801Z"
   },
   {
    "duration": 161,
    "start_time": "2024-04-25T22:03:57.825Z"
   },
   {
    "duration": 27,
    "start_time": "2024-04-25T22:03:57.988Z"
   },
   {
    "duration": 152,
    "start_time": "2024-04-25T22:03:58.017Z"
   },
   {
    "duration": 1203,
    "start_time": "2024-04-25T22:03:58.171Z"
   },
   {
    "duration": 6778,
    "start_time": "2024-04-25T22:03:59.376Z"
   },
   {
    "duration": 89,
    "start_time": "2024-04-25T22:04:06.155Z"
   },
   {
    "duration": 89,
    "start_time": "2024-04-25T22:04:18.471Z"
   },
   {
    "duration": 87,
    "start_time": "2024-04-25T22:04:24.822Z"
   },
   {
    "duration": 4,
    "start_time": "2024-04-25T22:07:22.388Z"
   },
   {
    "duration": 4,
    "start_time": "2024-04-25T22:08:13.096Z"
   },
   {
    "duration": 5,
    "start_time": "2024-04-25T22:08:53.177Z"
   },
   {
    "duration": 5,
    "start_time": "2024-04-25T22:19:54.861Z"
   },
   {
    "duration": 3,
    "start_time": "2024-04-25T22:19:56.345Z"
   },
   {
    "duration": 3,
    "start_time": "2024-04-25T22:19:57.845Z"
   },
   {
    "duration": 152,
    "start_time": "2024-04-25T22:19:59.713Z"
   },
   {
    "duration": 2,
    "start_time": "2024-04-25T22:20:33.490Z"
   },
   {
    "duration": 11,
    "start_time": "2024-04-25T22:20:43.916Z"
   },
   {
    "duration": 7,
    "start_time": "2024-04-25T22:21:19.848Z"
   },
   {
    "duration": 5,
    "start_time": "2024-04-25T22:21:46.244Z"
   },
   {
    "duration": 4,
    "start_time": "2024-04-25T22:25:30.513Z"
   },
   {
    "duration": 78,
    "start_time": "2024-04-25T22:27:18.686Z"
   },
   {
    "duration": 29,
    "start_time": "2024-04-25T22:27:23.221Z"
   },
   {
    "duration": 5,
    "start_time": "2024-04-25T22:27:27.219Z"
   },
   {
    "duration": 11,
    "start_time": "2024-04-25T22:28:00.737Z"
   },
   {
    "duration": 7,
    "start_time": "2024-04-25T22:29:23.491Z"
   },
   {
    "duration": 16,
    "start_time": "2024-04-25T22:29:32.901Z"
   },
   {
    "duration": 9098,
    "start_time": "2024-04-25T22:30:13.855Z"
   },
   {
    "duration": 10,
    "start_time": "2024-04-25T22:30:27.637Z"
   },
   {
    "duration": 2,
    "start_time": "2024-04-25T22:30:45.117Z"
   },
   {
    "duration": 4,
    "start_time": "2024-04-25T22:30:48.878Z"
   },
   {
    "duration": 3,
    "start_time": "2024-04-25T22:30:49.999Z"
   },
   {
    "duration": 3,
    "start_time": "2024-04-25T22:30:50.382Z"
   },
   {
    "duration": 4,
    "start_time": "2024-04-25T22:30:51.951Z"
   },
   {
    "duration": 7,
    "start_time": "2024-04-25T22:30:55.011Z"
   },
   {
    "duration": 76,
    "start_time": "2024-04-25T22:30:56.082Z"
   },
   {
    "duration": 2812,
    "start_time": "2024-04-25T22:30:58.385Z"
   },
   {
    "duration": 7,
    "start_time": "2024-04-25T22:35:18.261Z"
   },
   {
    "duration": 14,
    "start_time": "2024-04-25T22:35:18.269Z"
   },
   {
    "duration": 886,
    "start_time": "2024-04-25T22:35:18.285Z"
   },
   {
    "duration": 14,
    "start_time": "2024-04-25T22:35:19.172Z"
   },
   {
    "duration": 162,
    "start_time": "2024-04-25T22:35:19.188Z"
   },
   {
    "duration": 139,
    "start_time": "2024-04-25T22:35:19.352Z"
   },
   {
    "duration": 77,
    "start_time": "2024-04-25T22:35:19.493Z"
   },
   {
    "duration": 108,
    "start_time": "2024-04-25T22:35:19.571Z"
   },
   {
    "duration": 172,
    "start_time": "2024-04-25T22:35:19.681Z"
   },
   {
    "duration": 230,
    "start_time": "2024-04-25T22:35:19.855Z"
   },
   {
    "duration": 140,
    "start_time": "2024-04-25T22:35:20.091Z"
   },
   {
    "duration": 8,
    "start_time": "2024-04-25T22:35:20.233Z"
   },
   {
    "duration": 233,
    "start_time": "2024-04-25T22:35:20.243Z"
   },
   {
    "duration": 253,
    "start_time": "2024-04-25T22:35:20.480Z"
   },
   {
    "duration": 265,
    "start_time": "2024-04-25T22:35:20.734Z"
   },
   {
    "duration": 117,
    "start_time": "2024-04-25T22:35:21.001Z"
   },
   {
    "duration": 1851,
    "start_time": "2024-04-25T22:35:21.120Z"
   },
   {
    "duration": 186,
    "start_time": "2024-04-25T22:35:22.973Z"
   },
   {
    "duration": 11,
    "start_time": "2024-04-25T22:35:23.160Z"
   },
   {
    "duration": 39,
    "start_time": "2024-04-25T22:35:23.173Z"
   },
   {
    "duration": 164,
    "start_time": "2024-04-25T22:35:23.214Z"
   },
   {
    "duration": 21,
    "start_time": "2024-04-25T22:35:23.379Z"
   },
   {
    "duration": 27,
    "start_time": "2024-04-25T22:35:23.401Z"
   },
   {
    "duration": 26,
    "start_time": "2024-04-25T22:35:23.429Z"
   },
   {
    "duration": 155,
    "start_time": "2024-04-25T22:35:23.457Z"
   },
   {
    "duration": 220,
    "start_time": "2024-04-25T22:35:23.614Z"
   },
   {
    "duration": 16,
    "start_time": "2024-04-25T22:35:23.836Z"
   },
   {
    "duration": 235,
    "start_time": "2024-04-25T22:35:23.854Z"
   },
   {
    "duration": 200,
    "start_time": "2024-04-25T22:35:24.091Z"
   },
   {
    "duration": 11,
    "start_time": "2024-04-25T22:35:24.293Z"
   },
   {
    "duration": 28,
    "start_time": "2024-04-25T22:35:24.306Z"
   },
   {
    "duration": 167,
    "start_time": "2024-04-25T22:35:24.335Z"
   },
   {
    "duration": 20,
    "start_time": "2024-04-25T22:35:24.504Z"
   },
   {
    "duration": 121,
    "start_time": "2024-04-25T22:35:24.526Z"
   },
   {
    "duration": 1155,
    "start_time": "2024-04-25T22:35:24.648Z"
   },
   {
    "duration": 6455,
    "start_time": "2024-04-25T22:35:25.804Z"
   },
   {
    "duration": 93,
    "start_time": "2024-04-25T22:35:32.260Z"
   },
   {
    "duration": 3,
    "start_time": "2024-04-25T22:35:32.354Z"
   },
   {
    "duration": 16,
    "start_time": "2024-04-25T22:35:32.358Z"
   },
   {
    "duration": 23,
    "start_time": "2024-04-25T22:35:32.375Z"
   },
   {
    "duration": 27,
    "start_time": "2024-04-25T22:35:32.402Z"
   },
   {
    "duration": 19,
    "start_time": "2024-04-25T22:35:32.431Z"
   },
   {
    "duration": 13,
    "start_time": "2024-04-25T22:35:32.452Z"
   },
   {
    "duration": 104,
    "start_time": "2024-04-25T22:35:32.467Z"
   },
   {
    "duration": 2778,
    "start_time": "2024-04-25T22:35:32.573Z"
   },
   {
    "duration": 3,
    "start_time": "2024-04-25T22:35:56.573Z"
   },
   {
    "duration": 9,
    "start_time": "2024-04-25T22:35:58.686Z"
   },
   {
    "duration": 4,
    "start_time": "2024-04-25T22:36:00.267Z"
   },
   {
    "duration": 3,
    "start_time": "2024-04-25T22:36:01.924Z"
   },
   {
    "duration": 3,
    "start_time": "2024-04-25T22:36:03.144Z"
   },
   {
    "duration": 4,
    "start_time": "2024-04-25T22:36:04.312Z"
   },
   {
    "duration": 89,
    "start_time": "2024-04-25T22:36:05.849Z"
   },
   {
    "duration": 4,
    "start_time": "2024-04-25T22:36:20.047Z"
   },
   {
    "duration": 83,
    "start_time": "2024-04-25T22:36:32.325Z"
   },
   {
    "duration": 1096,
    "start_time": "2024-04-25T22:36:34.833Z"
   },
   {
    "duration": 6,
    "start_time": "2024-04-25T22:37:14.715Z"
   },
   {
    "duration": 4,
    "start_time": "2024-04-25T22:39:20.279Z"
   },
   {
    "duration": 1106,
    "start_time": "2024-04-25T22:39:22.678Z"
   },
   {
    "duration": 28,
    "start_time": "2024-04-25T22:40:10.698Z"
   },
   {
    "duration": 4,
    "start_time": "2024-04-25T22:41:23.812Z"
   },
   {
    "duration": 3,
    "start_time": "2024-04-25T22:41:25.634Z"
   },
   {
    "duration": 3,
    "start_time": "2024-04-25T22:41:27.109Z"
   },
   {
    "duration": 5,
    "start_time": "2024-04-25T22:41:30.451Z"
   },
   {
    "duration": 1115,
    "start_time": "2024-04-25T22:41:35.709Z"
   },
   {
    "duration": 4,
    "start_time": "2024-04-25T22:45:38.732Z"
   },
   {
    "duration": 1116,
    "start_time": "2024-04-25T22:45:41.543Z"
   },
   {
    "duration": 4,
    "start_time": "2024-04-25T22:46:35.457Z"
   },
   {
    "duration": 1118,
    "start_time": "2024-04-25T22:46:39.659Z"
   },
   {
    "duration": 4,
    "start_time": "2024-04-25T22:56:04.958Z"
   },
   {
    "duration": 22,
    "start_time": "2024-04-25T22:56:06.405Z"
   },
   {
    "duration": 4,
    "start_time": "2024-04-25T22:56:24.415Z"
   },
   {
    "duration": 472,
    "start_time": "2024-04-25T22:56:25.553Z"
   },
   {
    "duration": 1204,
    "start_time": "2024-04-25T22:57:12.251Z"
   },
   {
    "duration": 3281,
    "start_time": "2024-04-25T22:57:48.578Z"
   },
   {
    "duration": 84,
    "start_time": "2024-04-25T22:57:56.107Z"
   },
   {
    "duration": 7,
    "start_time": "2024-04-25T22:59:24.076Z"
   },
   {
    "duration": 127,
    "start_time": "2024-04-25T23:00:14.935Z"
   },
   {
    "duration": 4617,
    "start_time": "2024-04-25T23:00:25.058Z"
   },
   {
    "duration": 122,
    "start_time": "2024-04-25T23:00:31.369Z"
   },
   {
    "duration": 0,
    "start_time": "2024-04-25T23:03:52.511Z"
   },
   {
    "duration": 0,
    "start_time": "2024-04-25T23:03:52.512Z"
   },
   {
    "duration": 0,
    "start_time": "2024-04-25T23:03:52.513Z"
   },
   {
    "duration": 0,
    "start_time": "2024-04-25T23:03:52.514Z"
   },
   {
    "duration": 0,
    "start_time": "2024-04-25T23:03:52.515Z"
   },
   {
    "duration": 0,
    "start_time": "2024-04-25T23:03:52.516Z"
   },
   {
    "duration": 0,
    "start_time": "2024-04-25T23:03:52.517Z"
   },
   {
    "duration": 0,
    "start_time": "2024-04-25T23:03:52.518Z"
   },
   {
    "duration": 0,
    "start_time": "2024-04-25T23:03:52.519Z"
   },
   {
    "duration": 0,
    "start_time": "2024-04-25T23:03:52.520Z"
   },
   {
    "duration": 0,
    "start_time": "2024-04-25T23:03:52.521Z"
   },
   {
    "duration": 0,
    "start_time": "2024-04-25T23:03:52.523Z"
   },
   {
    "duration": 0,
    "start_time": "2024-04-25T23:03:52.591Z"
   },
   {
    "duration": 0,
    "start_time": "2024-04-25T23:03:52.592Z"
   },
   {
    "duration": 0,
    "start_time": "2024-04-25T23:03:52.594Z"
   },
   {
    "duration": 0,
    "start_time": "2024-04-25T23:03:52.594Z"
   },
   {
    "duration": 0,
    "start_time": "2024-04-25T23:03:52.596Z"
   },
   {
    "duration": 0,
    "start_time": "2024-04-25T23:03:52.596Z"
   },
   {
    "duration": 0,
    "start_time": "2024-04-25T23:03:52.597Z"
   },
   {
    "duration": 0,
    "start_time": "2024-04-25T23:03:52.598Z"
   },
   {
    "duration": 0,
    "start_time": "2024-04-25T23:03:52.599Z"
   },
   {
    "duration": 0,
    "start_time": "2024-04-25T23:03:52.600Z"
   },
   {
    "duration": 0,
    "start_time": "2024-04-25T23:03:52.601Z"
   },
   {
    "duration": 0,
    "start_time": "2024-04-25T23:03:52.602Z"
   },
   {
    "duration": 0,
    "start_time": "2024-04-25T23:03:52.603Z"
   },
   {
    "duration": 0,
    "start_time": "2024-04-25T23:03:52.604Z"
   },
   {
    "duration": 0,
    "start_time": "2024-04-25T23:03:52.605Z"
   },
   {
    "duration": 0,
    "start_time": "2024-04-25T23:03:52.606Z"
   },
   {
    "duration": 0,
    "start_time": "2024-04-25T23:03:52.607Z"
   },
   {
    "duration": 0,
    "start_time": "2024-04-25T23:03:52.608Z"
   },
   {
    "duration": 0,
    "start_time": "2024-04-25T23:03:52.609Z"
   },
   {
    "duration": 0,
    "start_time": "2024-04-25T23:03:52.609Z"
   },
   {
    "duration": 0,
    "start_time": "2024-04-25T23:03:52.610Z"
   },
   {
    "duration": 0,
    "start_time": "2024-04-25T23:03:52.611Z"
   },
   {
    "duration": 0,
    "start_time": "2024-04-25T23:03:52.612Z"
   },
   {
    "duration": 0,
    "start_time": "2024-04-25T23:03:52.613Z"
   },
   {
    "duration": 0,
    "start_time": "2024-04-25T23:03:52.614Z"
   },
   {
    "duration": 0,
    "start_time": "2024-04-25T23:03:52.615Z"
   },
   {
    "duration": 0,
    "start_time": "2024-04-25T23:03:52.616Z"
   },
   {
    "duration": 0,
    "start_time": "2024-04-25T23:03:52.616Z"
   },
   {
    "duration": 0,
    "start_time": "2024-04-25T23:03:52.617Z"
   },
   {
    "duration": 0,
    "start_time": "2024-04-25T23:03:52.618Z"
   },
   {
    "duration": 0,
    "start_time": "2024-04-25T23:03:52.619Z"
   },
   {
    "duration": 0,
    "start_time": "2024-04-25T23:03:52.620Z"
   },
   {
    "duration": 10,
    "start_time": "2024-04-25T23:04:13.928Z"
   },
   {
    "duration": 7,
    "start_time": "2024-04-25T23:04:13.940Z"
   },
   {
    "duration": 860,
    "start_time": "2024-04-25T23:04:13.948Z"
   },
   {
    "duration": 13,
    "start_time": "2024-04-25T23:04:14.810Z"
   },
   {
    "duration": 149,
    "start_time": "2024-04-25T23:04:14.825Z"
   },
   {
    "duration": 140,
    "start_time": "2024-04-25T23:04:14.975Z"
   },
   {
    "duration": 94,
    "start_time": "2024-04-25T23:04:15.117Z"
   },
   {
    "duration": 103,
    "start_time": "2024-04-25T23:04:15.213Z"
   },
   {
    "duration": 140,
    "start_time": "2024-04-25T23:04:15.318Z"
   },
   {
    "duration": 224,
    "start_time": "2024-04-25T23:04:15.460Z"
   },
   {
    "duration": 106,
    "start_time": "2024-04-25T23:04:15.686Z"
   },
   {
    "duration": 9,
    "start_time": "2024-04-25T23:04:15.794Z"
   },
   {
    "duration": 260,
    "start_time": "2024-04-25T23:04:15.804Z"
   },
   {
    "duration": 265,
    "start_time": "2024-04-25T23:04:16.067Z"
   },
   {
    "duration": 243,
    "start_time": "2024-04-25T23:04:16.334Z"
   },
   {
    "duration": 114,
    "start_time": "2024-04-25T23:04:16.578Z"
   },
   {
    "duration": 1771,
    "start_time": "2024-04-25T23:04:16.693Z"
   },
   {
    "duration": 180,
    "start_time": "2024-04-25T23:04:18.466Z"
   },
   {
    "duration": 13,
    "start_time": "2024-04-25T23:04:18.647Z"
   },
   {
    "duration": 38,
    "start_time": "2024-04-25T23:04:18.661Z"
   },
   {
    "duration": 267,
    "start_time": "2024-04-25T23:04:18.701Z"
   },
   {
    "duration": 24,
    "start_time": "2024-04-25T23:04:18.970Z"
   },
   {
    "duration": 26,
    "start_time": "2024-04-25T23:04:18.995Z"
   },
   {
    "duration": 25,
    "start_time": "2024-04-25T23:04:19.023Z"
   },
   {
    "duration": 149,
    "start_time": "2024-04-25T23:04:19.050Z"
   },
   {
    "duration": 113,
    "start_time": "2024-04-25T23:04:19.201Z"
   },
   {
    "duration": 16,
    "start_time": "2024-04-25T23:04:19.315Z"
   },
   {
    "duration": 232,
    "start_time": "2024-04-25T23:04:19.333Z"
   },
   {
    "duration": 194,
    "start_time": "2024-04-25T23:04:19.567Z"
   },
   {
    "duration": 11,
    "start_time": "2024-04-25T23:04:19.763Z"
   },
   {
    "duration": 44,
    "start_time": "2024-04-25T23:04:19.776Z"
   },
   {
    "duration": 168,
    "start_time": "2024-04-25T23:04:19.822Z"
   },
   {
    "duration": 22,
    "start_time": "2024-04-25T23:04:19.992Z"
   },
   {
    "duration": 145,
    "start_time": "2024-04-25T23:04:20.016Z"
   },
   {
    "duration": 1167,
    "start_time": "2024-04-25T23:04:20.163Z"
   },
   {
    "duration": 6335,
    "start_time": "2024-04-25T23:04:21.332Z"
   },
   {
    "duration": 2,
    "start_time": "2024-04-25T23:04:27.668Z"
   },
   {
    "duration": 9,
    "start_time": "2024-04-25T23:04:27.672Z"
   },
   {
    "duration": 11,
    "start_time": "2024-04-25T23:04:27.683Z"
   },
   {
    "duration": 10,
    "start_time": "2024-04-25T23:04:27.695Z"
   },
   {
    "duration": 82,
    "start_time": "2024-04-25T23:04:27.708Z"
   },
   {
    "duration": 3,
    "start_time": "2024-04-25T23:04:27.792Z"
   },
   {
    "duration": 1402,
    "start_time": "2024-04-25T23:04:44.141Z"
   },
   {
    "duration": 2,
    "start_time": "2024-04-25T23:04:45.545Z"
   },
   {
    "duration": 1248,
    "start_time": "2024-04-25T23:04:45.548Z"
   },
   {
    "duration": 17,
    "start_time": "2024-04-25T23:04:46.797Z"
   },
   {
    "duration": 166,
    "start_time": "2024-04-25T23:04:46.816Z"
   },
   {
    "duration": 142,
    "start_time": "2024-04-25T23:04:46.983Z"
   },
   {
    "duration": 84,
    "start_time": "2024-04-25T23:04:47.127Z"
   },
   {
    "duration": 120,
    "start_time": "2024-04-25T23:04:47.213Z"
   },
   {
    "duration": 138,
    "start_time": "2024-04-25T23:04:47.335Z"
   },
   {
    "duration": 301,
    "start_time": "2024-04-25T23:04:47.475Z"
   },
   {
    "duration": 108,
    "start_time": "2024-04-25T23:04:47.777Z"
   },
   {
    "duration": 6,
    "start_time": "2024-04-25T23:04:47.892Z"
   },
   {
    "duration": 327,
    "start_time": "2024-04-25T23:04:47.899Z"
   },
   {
    "duration": 305,
    "start_time": "2024-04-25T23:04:48.229Z"
   },
   {
    "duration": 268,
    "start_time": "2024-04-25T23:04:48.535Z"
   },
   {
    "duration": 121,
    "start_time": "2024-04-25T23:04:48.805Z"
   },
   {
    "duration": 1819,
    "start_time": "2024-04-25T23:04:48.928Z"
   },
   {
    "duration": 178,
    "start_time": "2024-04-25T23:04:50.748Z"
   },
   {
    "duration": 14,
    "start_time": "2024-04-25T23:04:50.928Z"
   },
   {
    "duration": 39,
    "start_time": "2024-04-25T23:04:50.943Z"
   },
   {
    "duration": 168,
    "start_time": "2024-04-25T23:04:50.984Z"
   },
   {
    "duration": 17,
    "start_time": "2024-04-25T23:04:51.153Z"
   },
   {
    "duration": 48,
    "start_time": "2024-04-25T23:04:51.171Z"
   },
   {
    "duration": 30,
    "start_time": "2024-04-25T23:04:51.221Z"
   },
   {
    "duration": 140,
    "start_time": "2024-04-25T23:04:51.253Z"
   },
   {
    "duration": 120,
    "start_time": "2024-04-25T23:04:51.395Z"
   },
   {
    "duration": 15,
    "start_time": "2024-04-25T23:04:51.517Z"
   },
   {
    "duration": 316,
    "start_time": "2024-04-25T23:04:51.533Z"
   },
   {
    "duration": 226,
    "start_time": "2024-04-25T23:04:51.851Z"
   },
   {
    "duration": 20,
    "start_time": "2024-04-25T23:04:52.079Z"
   },
   {
    "duration": 49,
    "start_time": "2024-04-25T23:04:52.100Z"
   },
   {
    "duration": 144,
    "start_time": "2024-04-25T23:04:52.150Z"
   },
   {
    "duration": 20,
    "start_time": "2024-04-25T23:04:52.295Z"
   },
   {
    "duration": 116,
    "start_time": "2024-04-25T23:04:52.316Z"
   },
   {
    "duration": 1190,
    "start_time": "2024-04-25T23:04:52.433Z"
   },
   {
    "duration": 6409,
    "start_time": "2024-04-25T23:04:53.625Z"
   },
   {
    "duration": 3,
    "start_time": "2024-04-25T23:05:00.036Z"
   },
   {
    "duration": 102,
    "start_time": "2024-04-25T23:05:00.041Z"
   },
   {
    "duration": 60,
    "start_time": "2024-04-25T23:05:00.145Z"
   },
   {
    "duration": 55,
    "start_time": "2024-04-25T23:05:00.207Z"
   },
   {
    "duration": 169,
    "start_time": "2024-04-25T23:05:00.265Z"
   },
   {
    "duration": 4,
    "start_time": "2024-04-25T23:05:00.436Z"
   },
   {
    "duration": 4953,
    "start_time": "2024-04-25T23:05:00.442Z"
   },
   {
    "duration": 19677,
    "start_time": "2024-04-25T23:05:05.397Z"
   },
   {
    "duration": 19774,
    "start_time": "2024-04-25T23:06:15.394Z"
   },
   {
    "duration": 103,
    "start_time": "2024-04-25T23:07:31.172Z"
   },
   {
    "duration": 128,
    "start_time": "2024-04-25T23:07:35.396Z"
   },
   {
    "duration": 129,
    "start_time": "2024-04-25T23:07:45.114Z"
   },
   {
    "duration": 145,
    "start_time": "2024-04-25T23:07:51.536Z"
   },
   {
    "duration": 49,
    "start_time": "2024-04-25T23:08:21.550Z"
   },
   {
    "duration": 4,
    "start_time": "2024-04-25T23:10:20.822Z"
   },
   {
    "duration": 218,
    "start_time": "2024-04-25T23:10:39.545Z"
   },
   {
    "duration": 75,
    "start_time": "2024-04-25T23:10:46.256Z"
   },
   {
    "duration": 2208,
    "start_time": "2024-04-25T23:12:38.376Z"
   },
   {
    "duration": 91,
    "start_time": "2024-04-25T23:13:23.287Z"
   },
   {
    "duration": 19,
    "start_time": "2024-04-25T23:13:52.461Z"
   },
   {
    "duration": 4156,
    "start_time": "2024-04-25T23:14:31.528Z"
   },
   {
    "duration": 45,
    "start_time": "2024-04-25T23:14:37.605Z"
   },
   {
    "duration": 19440,
    "start_time": "2024-04-25T23:14:44.556Z"
   },
   {
    "duration": 43,
    "start_time": "2024-04-25T23:15:57.716Z"
   },
   {
    "duration": 18519,
    "start_time": "2024-04-25T23:16:40.788Z"
   },
   {
    "duration": 19578,
    "start_time": "2024-04-25T23:17:44.533Z"
   },
   {
    "duration": 3337,
    "start_time": "2024-04-25T23:21:00.764Z"
   },
   {
    "duration": 3126,
    "start_time": "2024-04-25T23:21:13.873Z"
   },
   {
    "duration": 8,
    "start_time": "2024-04-25T23:22:32.345Z"
   },
   {
    "duration": 7,
    "start_time": "2024-04-25T23:22:32.355Z"
   },
   {
    "duration": 856,
    "start_time": "2024-04-25T23:22:32.364Z"
   },
   {
    "duration": 12,
    "start_time": "2024-04-25T23:22:33.222Z"
   },
   {
    "duration": 145,
    "start_time": "2024-04-25T23:22:33.237Z"
   },
   {
    "duration": 144,
    "start_time": "2024-04-25T23:22:33.384Z"
   },
   {
    "duration": 89,
    "start_time": "2024-04-25T23:22:33.530Z"
   },
   {
    "duration": 106,
    "start_time": "2024-04-25T23:22:33.621Z"
   },
   {
    "duration": 143,
    "start_time": "2024-04-25T23:22:33.728Z"
   },
   {
    "duration": 224,
    "start_time": "2024-04-25T23:22:33.872Z"
   },
   {
    "duration": 107,
    "start_time": "2024-04-25T23:22:34.098Z"
   },
   {
    "duration": 6,
    "start_time": "2024-04-25T23:22:34.207Z"
   },
   {
    "duration": 232,
    "start_time": "2024-04-25T23:22:34.214Z"
   },
   {
    "duration": 248,
    "start_time": "2024-04-25T23:22:34.449Z"
   },
   {
    "duration": 223,
    "start_time": "2024-04-25T23:22:34.699Z"
   },
   {
    "duration": 114,
    "start_time": "2024-04-25T23:22:34.924Z"
   },
   {
    "duration": 1894,
    "start_time": "2024-04-25T23:22:35.040Z"
   },
   {
    "duration": 170,
    "start_time": "2024-04-25T23:22:36.935Z"
   },
   {
    "duration": 10,
    "start_time": "2024-04-25T23:22:37.107Z"
   },
   {
    "duration": 30,
    "start_time": "2024-04-25T23:22:37.119Z"
   },
   {
    "duration": 166,
    "start_time": "2024-04-25T23:22:37.151Z"
   },
   {
    "duration": 14,
    "start_time": "2024-04-25T23:22:37.319Z"
   },
   {
    "duration": 25,
    "start_time": "2024-04-25T23:22:37.335Z"
   },
   {
    "duration": 41,
    "start_time": "2024-04-25T23:22:37.361Z"
   },
   {
    "duration": 129,
    "start_time": "2024-04-25T23:22:37.404Z"
   },
   {
    "duration": 119,
    "start_time": "2024-04-25T23:22:37.535Z"
   },
   {
    "duration": 14,
    "start_time": "2024-04-25T23:22:37.656Z"
   },
   {
    "duration": 213,
    "start_time": "2024-04-25T23:22:37.671Z"
   },
   {
    "duration": 197,
    "start_time": "2024-04-25T23:22:37.886Z"
   },
   {
    "duration": 15,
    "start_time": "2024-04-25T23:22:38.085Z"
   },
   {
    "duration": 23,
    "start_time": "2024-04-25T23:22:38.101Z"
   },
   {
    "duration": 167,
    "start_time": "2024-04-25T23:22:38.126Z"
   },
   {
    "duration": 20,
    "start_time": "2024-04-25T23:22:38.295Z"
   },
   {
    "duration": 124,
    "start_time": "2024-04-25T23:22:38.316Z"
   },
   {
    "duration": 1222,
    "start_time": "2024-04-25T23:22:38.442Z"
   },
   {
    "duration": 6356,
    "start_time": "2024-04-25T23:22:39.666Z"
   },
   {
    "duration": 3,
    "start_time": "2024-04-25T23:22:46.024Z"
   },
   {
    "duration": 17,
    "start_time": "2024-04-25T23:22:46.028Z"
   },
   {
    "duration": 94,
    "start_time": "2024-04-25T23:22:46.047Z"
   },
   {
    "duration": 3,
    "start_time": "2024-04-25T23:22:46.143Z"
   },
   {
    "duration": 3970,
    "start_time": "2024-04-25T23:22:46.149Z"
   },
   {
    "duration": 44,
    "start_time": "2024-04-25T23:22:50.121Z"
   },
   {
    "duration": 19032,
    "start_time": "2024-04-25T23:22:50.167Z"
   },
   {
    "duration": 99,
    "start_time": "2024-04-25T23:23:09.293Z"
   },
   {
    "duration": 2909,
    "start_time": "2024-04-25T23:23:09.393Z"
   },
   {
    "duration": 7,
    "start_time": "2024-04-25T23:24:52.808Z"
   },
   {
    "duration": 41,
    "start_time": "2024-04-25T23:24:52.817Z"
   },
   {
    "duration": 827,
    "start_time": "2024-04-25T23:24:52.859Z"
   },
   {
    "duration": 13,
    "start_time": "2024-04-25T23:24:53.688Z"
   },
   {
    "duration": 196,
    "start_time": "2024-04-25T23:24:53.703Z"
   },
   {
    "duration": 137,
    "start_time": "2024-04-25T23:24:53.901Z"
   },
   {
    "duration": 87,
    "start_time": "2024-04-25T23:24:54.040Z"
   },
   {
    "duration": 102,
    "start_time": "2024-04-25T23:24:54.129Z"
   },
   {
    "duration": 134,
    "start_time": "2024-04-25T23:24:54.232Z"
   },
   {
    "duration": 239,
    "start_time": "2024-04-25T23:24:54.368Z"
   },
   {
    "duration": 101,
    "start_time": "2024-04-25T23:24:54.609Z"
   },
   {
    "duration": 13,
    "start_time": "2024-04-25T23:24:54.711Z"
   },
   {
    "duration": 227,
    "start_time": "2024-04-25T23:24:54.725Z"
   },
   {
    "duration": 265,
    "start_time": "2024-04-25T23:24:54.955Z"
   },
   {
    "duration": 241,
    "start_time": "2024-04-25T23:24:55.222Z"
   },
   {
    "duration": 112,
    "start_time": "2024-04-25T23:24:55.465Z"
   },
   {
    "duration": 1785,
    "start_time": "2024-04-25T23:24:55.579Z"
   },
   {
    "duration": 168,
    "start_time": "2024-04-25T23:24:57.366Z"
   },
   {
    "duration": 10,
    "start_time": "2024-04-25T23:24:57.536Z"
   },
   {
    "duration": 24,
    "start_time": "2024-04-25T23:24:57.548Z"
   },
   {
    "duration": 179,
    "start_time": "2024-04-25T23:24:57.574Z"
   },
   {
    "duration": 15,
    "start_time": "2024-04-25T23:24:57.754Z"
   },
   {
    "duration": 37,
    "start_time": "2024-04-25T23:24:57.771Z"
   },
   {
    "duration": 25,
    "start_time": "2024-04-25T23:24:57.810Z"
   },
   {
    "duration": 143,
    "start_time": "2024-04-25T23:24:57.836Z"
   },
   {
    "duration": 144,
    "start_time": "2024-04-25T23:24:57.980Z"
   },
   {
    "duration": 15,
    "start_time": "2024-04-25T23:24:58.126Z"
   },
   {
    "duration": 224,
    "start_time": "2024-04-25T23:24:58.143Z"
   },
   {
    "duration": 199,
    "start_time": "2024-04-25T23:24:58.369Z"
   },
   {
    "duration": 11,
    "start_time": "2024-04-25T23:24:58.570Z"
   },
   {
    "duration": 33,
    "start_time": "2024-04-25T23:24:58.582Z"
   },
   {
    "duration": 150,
    "start_time": "2024-04-25T23:24:58.616Z"
   },
   {
    "duration": 24,
    "start_time": "2024-04-25T23:24:58.768Z"
   },
   {
    "duration": 114,
    "start_time": "2024-04-25T23:24:58.793Z"
   },
   {
    "duration": 1251,
    "start_time": "2024-04-25T23:24:58.909Z"
   },
   {
    "duration": 6491,
    "start_time": "2024-04-25T23:25:00.162Z"
   },
   {
    "duration": 2,
    "start_time": "2024-04-25T23:25:06.655Z"
   },
   {
    "duration": 30,
    "start_time": "2024-04-25T23:25:06.658Z"
   },
   {
    "duration": 84,
    "start_time": "2024-04-25T23:25:06.690Z"
   },
   {
    "duration": 3,
    "start_time": "2024-04-25T23:25:06.776Z"
   },
   {
    "duration": 378,
    "start_time": "2024-04-25T23:25:06.782Z"
   },
   {
    "duration": 0,
    "start_time": "2024-04-25T23:25:07.161Z"
   },
   {
    "duration": 0,
    "start_time": "2024-04-25T23:25:07.162Z"
   },
   {
    "duration": 0,
    "start_time": "2024-04-25T23:25:07.163Z"
   },
   {
    "duration": 0,
    "start_time": "2024-04-25T23:25:07.164Z"
   },
   {
    "duration": 9,
    "start_time": "2024-04-25T23:25:35.810Z"
   },
   {
    "duration": 7,
    "start_time": "2024-04-25T23:25:38.561Z"
   },
   {
    "duration": 8,
    "start_time": "2024-04-25T23:25:38.570Z"
   },
   {
    "duration": 790,
    "start_time": "2024-04-25T23:25:38.579Z"
   },
   {
    "duration": 12,
    "start_time": "2024-04-25T23:25:39.371Z"
   },
   {
    "duration": 147,
    "start_time": "2024-04-25T23:25:39.385Z"
   },
   {
    "duration": 150,
    "start_time": "2024-04-25T23:25:39.534Z"
   },
   {
    "duration": 83,
    "start_time": "2024-04-25T23:25:39.691Z"
   },
   {
    "duration": 126,
    "start_time": "2024-04-25T23:25:39.776Z"
   },
   {
    "duration": 136,
    "start_time": "2024-04-25T23:25:39.904Z"
   },
   {
    "duration": 220,
    "start_time": "2024-04-25T23:25:40.042Z"
   },
   {
    "duration": 102,
    "start_time": "2024-04-25T23:25:40.264Z"
   },
   {
    "duration": 6,
    "start_time": "2024-04-25T23:25:40.368Z"
   },
   {
    "duration": 224,
    "start_time": "2024-04-25T23:25:40.392Z"
   },
   {
    "duration": 249,
    "start_time": "2024-04-25T23:25:40.619Z"
   },
   {
    "duration": 236,
    "start_time": "2024-04-25T23:25:40.869Z"
   },
   {
    "duration": 152,
    "start_time": "2024-04-25T23:25:41.106Z"
   },
   {
    "duration": 1938,
    "start_time": "2024-04-25T23:25:41.260Z"
   },
   {
    "duration": 167,
    "start_time": "2024-04-25T23:25:43.200Z"
   },
   {
    "duration": 10,
    "start_time": "2024-04-25T23:25:43.369Z"
   },
   {
    "duration": 39,
    "start_time": "2024-04-25T23:25:43.380Z"
   },
   {
    "duration": 166,
    "start_time": "2024-04-25T23:25:43.420Z"
   },
   {
    "duration": 17,
    "start_time": "2024-04-25T23:25:43.587Z"
   },
   {
    "duration": 26,
    "start_time": "2024-04-25T23:25:43.606Z"
   },
   {
    "duration": 25,
    "start_time": "2024-04-25T23:25:43.634Z"
   },
   {
    "duration": 147,
    "start_time": "2024-04-25T23:25:43.661Z"
   },
   {
    "duration": 116,
    "start_time": "2024-04-25T23:25:43.810Z"
   },
   {
    "duration": 16,
    "start_time": "2024-04-25T23:25:43.928Z"
   },
   {
    "duration": 248,
    "start_time": "2024-04-25T23:25:43.945Z"
   },
   {
    "duration": 196,
    "start_time": "2024-04-25T23:25:44.195Z"
   },
   {
    "duration": 10,
    "start_time": "2024-04-25T23:25:44.393Z"
   },
   {
    "duration": 38,
    "start_time": "2024-04-25T23:25:44.405Z"
   },
   {
    "duration": 148,
    "start_time": "2024-04-25T23:25:44.445Z"
   },
   {
    "duration": 19,
    "start_time": "2024-04-25T23:25:44.595Z"
   },
   {
    "duration": 115,
    "start_time": "2024-04-25T23:25:44.615Z"
   },
   {
    "duration": 1245,
    "start_time": "2024-04-25T23:25:44.731Z"
   },
   {
    "duration": 6356,
    "start_time": "2024-04-25T23:25:45.977Z"
   },
   {
    "duration": 3,
    "start_time": "2024-04-25T23:25:52.334Z"
   },
   {
    "duration": 11,
    "start_time": "2024-04-25T23:25:52.338Z"
   },
   {
    "duration": 71,
    "start_time": "2024-04-25T23:25:52.351Z"
   },
   {
    "duration": 4,
    "start_time": "2024-04-25T23:25:52.423Z"
   },
   {
    "duration": 4090,
    "start_time": "2024-04-25T23:25:52.430Z"
   },
   {
    "duration": 45,
    "start_time": "2024-04-25T23:25:56.522Z"
   },
   {
    "duration": 18423,
    "start_time": "2024-04-25T23:25:56.569Z"
   },
   {
    "duration": 7,
    "start_time": "2024-04-25T23:26:14.995Z"
   },
   {
    "duration": 123699,
    "start_time": "2024-04-25T23:26:15.092Z"
   },
   {
    "duration": 25,
    "start_time": "2024-04-25T23:29:11.220Z"
   },
   {
    "duration": 23,
    "start_time": "2024-04-25T23:29:31.287Z"
   },
   {
    "duration": 15,
    "start_time": "2024-04-25T23:29:45.748Z"
   },
   {
    "duration": 10,
    "start_time": "2024-04-25T23:31:28.443Z"
   },
   {
    "duration": 22,
    "start_time": "2024-04-25T23:31:37.631Z"
   },
   {
    "duration": 9,
    "start_time": "2024-04-25T23:31:44.030Z"
   },
   {
    "duration": 21,
    "start_time": "2024-04-25T23:32:06.394Z"
   },
   {
    "duration": 9127,
    "start_time": "2024-04-25T23:32:49.872Z"
   },
   {
    "duration": 8805,
    "start_time": "2024-04-25T23:33:04.098Z"
   },
   {
    "duration": 11,
    "start_time": "2024-04-25T23:35:52.030Z"
   },
   {
    "duration": 27,
    "start_time": "2024-04-25T23:36:10.807Z"
   },
   {
    "duration": 112,
    "start_time": "2024-04-25T23:36:14.645Z"
   },
   {
    "duration": 3,
    "start_time": "2024-04-25T23:37:01.744Z"
   },
   {
    "duration": 91,
    "start_time": "2024-04-25T23:37:03.585Z"
   },
   {
    "duration": 9,
    "start_time": "2024-04-25T23:37:17.659Z"
   },
   {
    "duration": 8,
    "start_time": "2024-04-25T23:37:21.343Z"
   },
   {
    "duration": 45,
    "start_time": "2024-04-25T23:37:21.352Z"
   },
   {
    "duration": 1123,
    "start_time": "2024-04-25T23:37:21.398Z"
   },
   {
    "duration": 13,
    "start_time": "2024-04-25T23:37:22.523Z"
   },
   {
    "duration": 177,
    "start_time": "2024-04-25T23:37:22.538Z"
   },
   {
    "duration": 143,
    "start_time": "2024-04-25T23:37:22.717Z"
   },
   {
    "duration": 86,
    "start_time": "2024-04-25T23:37:22.861Z"
   },
   {
    "duration": 107,
    "start_time": "2024-04-25T23:37:22.949Z"
   },
   {
    "duration": 141,
    "start_time": "2024-04-25T23:37:23.057Z"
   },
   {
    "duration": 249,
    "start_time": "2024-04-25T23:37:23.200Z"
   },
   {
    "duration": 101,
    "start_time": "2024-04-25T23:37:23.451Z"
   },
   {
    "duration": 6,
    "start_time": "2024-04-25T23:37:23.554Z"
   },
   {
    "duration": 245,
    "start_time": "2024-04-25T23:37:23.562Z"
   },
   {
    "duration": 268,
    "start_time": "2024-04-25T23:37:23.810Z"
   },
   {
    "duration": 238,
    "start_time": "2024-04-25T23:37:24.080Z"
   },
   {
    "duration": 122,
    "start_time": "2024-04-25T23:37:24.319Z"
   },
   {
    "duration": 1807,
    "start_time": "2024-04-25T23:37:24.442Z"
   },
   {
    "duration": 165,
    "start_time": "2024-04-25T23:37:26.250Z"
   },
   {
    "duration": 10,
    "start_time": "2024-04-25T23:37:26.417Z"
   },
   {
    "duration": 58,
    "start_time": "2024-04-25T23:37:26.429Z"
   },
   {
    "duration": 151,
    "start_time": "2024-04-25T23:37:26.488Z"
   },
   {
    "duration": 17,
    "start_time": "2024-04-25T23:37:26.641Z"
   },
   {
    "duration": 43,
    "start_time": "2024-04-25T23:37:26.660Z"
   },
   {
    "duration": 25,
    "start_time": "2024-04-25T23:37:26.705Z"
   },
   {
    "duration": 146,
    "start_time": "2024-04-25T23:37:26.732Z"
   },
   {
    "duration": 127,
    "start_time": "2024-04-25T23:37:26.880Z"
   },
   {
    "duration": 15,
    "start_time": "2024-04-25T23:37:27.009Z"
   },
   {
    "duration": 221,
    "start_time": "2024-04-25T23:37:27.026Z"
   },
   {
    "duration": 193,
    "start_time": "2024-04-25T23:37:27.248Z"
   },
   {
    "duration": 10,
    "start_time": "2024-04-25T23:37:27.443Z"
   },
   {
    "duration": 36,
    "start_time": "2024-04-25T23:37:27.455Z"
   },
   {
    "duration": 148,
    "start_time": "2024-04-25T23:37:27.493Z"
   },
   {
    "duration": 21,
    "start_time": "2024-04-25T23:37:27.643Z"
   },
   {
    "duration": 119,
    "start_time": "2024-04-25T23:37:27.665Z"
   },
   {
    "duration": 1263,
    "start_time": "2024-04-25T23:37:27.791Z"
   },
   {
    "duration": 6388,
    "start_time": "2024-04-25T23:37:29.055Z"
   },
   {
    "duration": 2,
    "start_time": "2024-04-25T23:37:35.445Z"
   },
   {
    "duration": 10,
    "start_time": "2024-04-25T23:37:35.449Z"
   },
   {
    "duration": 72,
    "start_time": "2024-04-25T23:37:35.460Z"
   },
   {
    "duration": 4,
    "start_time": "2024-04-25T23:37:35.533Z"
   },
   {
    "duration": 4052,
    "start_time": "2024-04-25T23:37:35.540Z"
   },
   {
    "duration": 55,
    "start_time": "2024-04-25T23:37:39.594Z"
   },
   {
    "duration": 48,
    "start_time": "2024-04-25T23:38:13.513Z"
   },
   {
    "duration": 1450,
    "start_time": "2024-04-25T23:38:18.024Z"
   },
   {
    "duration": 2,
    "start_time": "2024-04-25T23:38:19.476Z"
   },
   {
    "duration": 1237,
    "start_time": "2024-04-25T23:38:19.480Z"
   },
   {
    "duration": 17,
    "start_time": "2024-04-25T23:38:20.719Z"
   },
   {
    "duration": 138,
    "start_time": "2024-04-25T23:38:20.738Z"
   },
   {
    "duration": 157,
    "start_time": "2024-04-25T23:38:20.877Z"
   },
   {
    "duration": 82,
    "start_time": "2024-04-25T23:38:21.035Z"
   },
   {
    "duration": 111,
    "start_time": "2024-04-25T23:38:21.119Z"
   },
   {
    "duration": 153,
    "start_time": "2024-04-25T23:38:21.232Z"
   },
   {
    "duration": 278,
    "start_time": "2024-04-25T23:38:21.387Z"
   },
   {
    "duration": 105,
    "start_time": "2024-04-25T23:38:21.666Z"
   },
   {
    "duration": 23,
    "start_time": "2024-04-25T23:38:21.773Z"
   },
   {
    "duration": 295,
    "start_time": "2024-04-25T23:38:21.798Z"
   },
   {
    "duration": 324,
    "start_time": "2024-04-25T23:38:22.097Z"
   },
   {
    "duration": 289,
    "start_time": "2024-04-25T23:38:22.423Z"
   },
   {
    "duration": 135,
    "start_time": "2024-04-25T23:38:22.714Z"
   },
   {
    "duration": 1816,
    "start_time": "2024-04-25T23:38:22.851Z"
   },
   {
    "duration": 171,
    "start_time": "2024-04-25T23:38:24.668Z"
   },
   {
    "duration": 11,
    "start_time": "2024-04-25T23:38:24.841Z"
   },
   {
    "duration": 37,
    "start_time": "2024-04-25T23:38:24.854Z"
   },
   {
    "duration": 155,
    "start_time": "2024-04-25T23:38:24.893Z"
   },
   {
    "duration": 16,
    "start_time": "2024-04-25T23:38:25.049Z"
   },
   {
    "duration": 38,
    "start_time": "2024-04-25T23:38:25.067Z"
   },
   {
    "duration": 26,
    "start_time": "2024-04-25T23:38:25.106Z"
   },
   {
    "duration": 152,
    "start_time": "2024-04-25T23:38:25.133Z"
   },
   {
    "duration": 216,
    "start_time": "2024-04-25T23:38:25.287Z"
   },
   {
    "duration": 16,
    "start_time": "2024-04-25T23:38:25.505Z"
   },
   {
    "duration": 241,
    "start_time": "2024-04-25T23:38:25.523Z"
   },
   {
    "duration": 202,
    "start_time": "2024-04-25T23:38:25.766Z"
   },
   {
    "duration": 24,
    "start_time": "2024-04-25T23:38:25.969Z"
   },
   {
    "duration": 26,
    "start_time": "2024-04-25T23:38:25.994Z"
   },
   {
    "duration": 158,
    "start_time": "2024-04-25T23:38:26.022Z"
   },
   {
    "duration": 27,
    "start_time": "2024-04-25T23:38:26.182Z"
   },
   {
    "duration": 118,
    "start_time": "2024-04-25T23:38:26.211Z"
   },
   {
    "duration": 1198,
    "start_time": "2024-04-25T23:38:26.331Z"
   },
   {
    "duration": 6540,
    "start_time": "2024-04-25T23:38:27.531Z"
   },
   {
    "duration": 3,
    "start_time": "2024-04-25T23:38:34.073Z"
   },
   {
    "duration": 16,
    "start_time": "2024-04-25T23:38:34.078Z"
   },
   {
    "duration": 68,
    "start_time": "2024-04-25T23:38:34.096Z"
   },
   {
    "duration": 3,
    "start_time": "2024-04-25T23:38:34.166Z"
   },
   {
    "duration": 4103,
    "start_time": "2024-04-25T23:38:34.173Z"
   },
   {
    "duration": 45,
    "start_time": "2024-04-25T23:38:38.278Z"
   },
   {
    "duration": 18373,
    "start_time": "2024-04-25T23:38:38.325Z"
   },
   {
    "duration": 101,
    "start_time": "2024-04-25T23:38:56.700Z"
   },
   {
    "duration": 0,
    "start_time": "2024-04-25T23:41:12.409Z"
   },
   {
    "duration": 0,
    "start_time": "2024-04-25T23:41:12.410Z"
   },
   {
    "duration": 0,
    "start_time": "2024-04-25T23:41:12.412Z"
   },
   {
    "duration": 0,
    "start_time": "2024-04-25T23:41:12.413Z"
   },
   {
    "duration": 0,
    "start_time": "2024-04-25T23:41:12.414Z"
   },
   {
    "duration": 0,
    "start_time": "2024-04-25T23:41:12.415Z"
   },
   {
    "duration": 0,
    "start_time": "2024-04-25T23:41:12.427Z"
   },
   {
    "duration": 0,
    "start_time": "2024-04-25T23:41:12.429Z"
   },
   {
    "duration": 0,
    "start_time": "2024-04-25T23:41:12.430Z"
   },
   {
    "duration": 0,
    "start_time": "2024-04-25T23:41:12.431Z"
   },
   {
    "duration": 0,
    "start_time": "2024-04-25T23:41:12.434Z"
   },
   {
    "duration": 0,
    "start_time": "2024-04-25T23:41:12.435Z"
   },
   {
    "duration": 0,
    "start_time": "2024-04-25T23:41:12.436Z"
   },
   {
    "duration": 0,
    "start_time": "2024-04-25T23:41:12.437Z"
   },
   {
    "duration": 0,
    "start_time": "2024-04-25T23:41:12.438Z"
   },
   {
    "duration": 0,
    "start_time": "2024-04-25T23:41:12.439Z"
   },
   {
    "duration": 0,
    "start_time": "2024-04-25T23:41:12.440Z"
   },
   {
    "duration": 0,
    "start_time": "2024-04-25T23:41:12.441Z"
   },
   {
    "duration": 0,
    "start_time": "2024-04-25T23:41:12.442Z"
   },
   {
    "duration": 0,
    "start_time": "2024-04-25T23:41:12.443Z"
   },
   {
    "duration": 0,
    "start_time": "2024-04-25T23:41:12.444Z"
   },
   {
    "duration": 0,
    "start_time": "2024-04-25T23:41:12.445Z"
   },
   {
    "duration": 0,
    "start_time": "2024-04-25T23:41:12.446Z"
   },
   {
    "duration": 0,
    "start_time": "2024-04-25T23:41:12.447Z"
   },
   {
    "duration": 0,
    "start_time": "2024-04-25T23:41:12.448Z"
   },
   {
    "duration": 0,
    "start_time": "2024-04-25T23:41:12.492Z"
   },
   {
    "duration": 0,
    "start_time": "2024-04-25T23:41:12.493Z"
   },
   {
    "duration": 1,
    "start_time": "2024-04-25T23:41:12.493Z"
   },
   {
    "duration": 0,
    "start_time": "2024-04-25T23:41:12.495Z"
   },
   {
    "duration": 0,
    "start_time": "2024-04-25T23:41:12.496Z"
   },
   {
    "duration": 0,
    "start_time": "2024-04-25T23:41:12.496Z"
   },
   {
    "duration": 0,
    "start_time": "2024-04-25T23:41:12.498Z"
   },
   {
    "duration": 0,
    "start_time": "2024-04-25T23:41:12.498Z"
   },
   {
    "duration": 0,
    "start_time": "2024-04-25T23:41:12.499Z"
   },
   {
    "duration": 0,
    "start_time": "2024-04-25T23:41:12.501Z"
   },
   {
    "duration": 0,
    "start_time": "2024-04-25T23:41:12.501Z"
   },
   {
    "duration": 0,
    "start_time": "2024-04-25T23:41:12.503Z"
   },
   {
    "duration": 0,
    "start_time": "2024-04-25T23:41:12.503Z"
   },
   {
    "duration": 0,
    "start_time": "2024-04-25T23:41:12.504Z"
   },
   {
    "duration": 0,
    "start_time": "2024-04-25T23:41:12.506Z"
   },
   {
    "duration": 0,
    "start_time": "2024-04-25T23:41:12.507Z"
   },
   {
    "duration": 0,
    "start_time": "2024-04-25T23:41:12.507Z"
   },
   {
    "duration": 0,
    "start_time": "2024-04-25T23:41:12.508Z"
   },
   {
    "duration": 0,
    "start_time": "2024-04-25T23:41:12.509Z"
   },
   {
    "duration": 0,
    "start_time": "2024-04-25T23:41:12.510Z"
   },
   {
    "duration": 0,
    "start_time": "2024-04-25T23:41:12.511Z"
   },
   {
    "duration": 0,
    "start_time": "2024-04-25T23:41:12.512Z"
   },
   {
    "duration": 8,
    "start_time": "2024-04-25T23:41:32.878Z"
   },
   {
    "duration": 67,
    "start_time": "2024-04-25T23:41:32.888Z"
   },
   {
    "duration": 826,
    "start_time": "2024-04-25T23:41:32.956Z"
   },
   {
    "duration": 13,
    "start_time": "2024-04-25T23:41:33.784Z"
   },
   {
    "duration": 162,
    "start_time": "2024-04-25T23:41:33.800Z"
   },
   {
    "duration": 153,
    "start_time": "2024-04-25T23:41:33.963Z"
   },
   {
    "duration": 103,
    "start_time": "2024-04-25T23:41:34.118Z"
   },
   {
    "duration": 104,
    "start_time": "2024-04-25T23:41:34.223Z"
   },
   {
    "duration": 133,
    "start_time": "2024-04-25T23:41:34.328Z"
   },
   {
    "duration": 208,
    "start_time": "2024-04-25T23:41:34.463Z"
   },
   {
    "duration": 99,
    "start_time": "2024-04-25T23:41:34.672Z"
   },
   {
    "duration": 18,
    "start_time": "2024-04-25T23:41:34.773Z"
   },
   {
    "duration": 216,
    "start_time": "2024-04-25T23:41:34.793Z"
   },
   {
    "duration": 248,
    "start_time": "2024-04-25T23:41:35.012Z"
   },
   {
    "duration": 254,
    "start_time": "2024-04-25T23:41:35.262Z"
   },
   {
    "duration": 128,
    "start_time": "2024-04-25T23:41:35.517Z"
   },
   {
    "duration": 1761,
    "start_time": "2024-04-25T23:41:35.646Z"
   },
   {
    "duration": 165,
    "start_time": "2024-04-25T23:41:37.409Z"
   },
   {
    "duration": 16,
    "start_time": "2024-04-25T23:41:37.576Z"
   },
   {
    "duration": 28,
    "start_time": "2024-04-25T23:41:37.595Z"
   },
   {
    "duration": 170,
    "start_time": "2024-04-25T23:41:37.624Z"
   },
   {
    "duration": 17,
    "start_time": "2024-04-25T23:41:37.796Z"
   },
   {
    "duration": 27,
    "start_time": "2024-04-25T23:41:37.815Z"
   },
   {
    "duration": 50,
    "start_time": "2024-04-25T23:41:37.844Z"
   },
   {
    "duration": 142,
    "start_time": "2024-04-25T23:41:37.896Z"
   },
   {
    "duration": 116,
    "start_time": "2024-04-25T23:41:38.040Z"
   },
   {
    "duration": 15,
    "start_time": "2024-04-25T23:41:38.157Z"
   },
   {
    "duration": 237,
    "start_time": "2024-04-25T23:41:38.174Z"
   },
   {
    "duration": 196,
    "start_time": "2024-04-25T23:41:38.413Z"
   },
   {
    "duration": 10,
    "start_time": "2024-04-25T23:41:38.611Z"
   },
   {
    "duration": 23,
    "start_time": "2024-04-25T23:41:38.622Z"
   },
   {
    "duration": 156,
    "start_time": "2024-04-25T23:41:38.647Z"
   },
   {
    "duration": 20,
    "start_time": "2024-04-25T23:41:38.804Z"
   },
   {
    "duration": 122,
    "start_time": "2024-04-25T23:41:38.826Z"
   },
   {
    "duration": 1275,
    "start_time": "2024-04-25T23:41:38.949Z"
   },
   {
    "duration": 6387,
    "start_time": "2024-04-25T23:41:40.226Z"
   },
   {
    "duration": 3,
    "start_time": "2024-04-25T23:41:46.614Z"
   },
   {
    "duration": 20,
    "start_time": "2024-04-25T23:41:46.619Z"
   },
   {
    "duration": 65,
    "start_time": "2024-04-25T23:41:46.641Z"
   },
   {
    "duration": 4,
    "start_time": "2024-04-25T23:41:46.707Z"
   },
   {
    "duration": 4158,
    "start_time": "2024-04-25T23:41:46.715Z"
   },
   {
    "duration": 48,
    "start_time": "2024-04-25T23:41:50.875Z"
   },
   {
    "duration": 18374,
    "start_time": "2024-04-25T23:41:50.925Z"
   },
   {
    "duration": 124905,
    "start_time": "2024-04-25T23:42:09.391Z"
   },
   {
    "duration": 7079,
    "start_time": "2024-04-25T23:44:14.300Z"
   },
   {
    "duration": 0,
    "start_time": "2024-04-25T23:44:21.381Z"
   },
   {
    "duration": 0,
    "start_time": "2024-04-25T23:44:21.383Z"
   },
   {
    "duration": 9,
    "start_time": "2024-04-25T23:44:26.287Z"
   },
   {
    "duration": 8796,
    "start_time": "2024-04-25T23:44:50.109Z"
   },
   {
    "duration": 9,
    "start_time": "2024-04-25T23:45:03.422Z"
   },
   {
    "duration": 4,
    "start_time": "2024-04-25T23:45:11.296Z"
   },
   {
    "duration": 3,
    "start_time": "2024-04-25T23:45:27.760Z"
   },
   {
    "duration": 3,
    "start_time": "2024-04-25T23:45:29.307Z"
   },
   {
    "duration": 7884,
    "start_time": "2024-04-25T23:45:31.080Z"
   },
   {
    "duration": 137851,
    "start_time": "2024-04-25T23:46:00.802Z"
   },
   {
    "duration": 10281,
    "start_time": "2024-04-25T23:50:22.311Z"
   },
   {
    "duration": 153396,
    "start_time": "2024-04-25T23:50:50.699Z"
   },
   {
    "duration": 9545,
    "start_time": "2024-04-25T23:59:25.858Z"
   },
   {
    "duration": 57669,
    "start_time": "2024-04-26T00:06:32.960Z"
   },
   {
    "duration": 0,
    "start_time": "2024-04-26T00:08:56.493Z"
   },
   {
    "duration": 0,
    "start_time": "2024-04-26T00:08:56.494Z"
   },
   {
    "duration": 0,
    "start_time": "2024-04-26T00:08:56.495Z"
   },
   {
    "duration": 0,
    "start_time": "2024-04-26T00:08:56.495Z"
   },
   {
    "duration": 0,
    "start_time": "2024-04-26T00:08:56.496Z"
   },
   {
    "duration": 0,
    "start_time": "2024-04-26T00:08:56.497Z"
   },
   {
    "duration": 0,
    "start_time": "2024-04-26T00:08:56.499Z"
   },
   {
    "duration": 0,
    "start_time": "2024-04-26T00:08:56.499Z"
   },
   {
    "duration": 0,
    "start_time": "2024-04-26T00:08:56.501Z"
   },
   {
    "duration": 0,
    "start_time": "2024-04-26T00:08:56.502Z"
   },
   {
    "duration": 0,
    "start_time": "2024-04-26T00:08:56.503Z"
   },
   {
    "duration": 0,
    "start_time": "2024-04-26T00:08:56.503Z"
   },
   {
    "duration": 0,
    "start_time": "2024-04-26T00:08:56.504Z"
   },
   {
    "duration": 0,
    "start_time": "2024-04-26T00:08:56.505Z"
   },
   {
    "duration": 0,
    "start_time": "2024-04-26T00:08:56.506Z"
   },
   {
    "duration": 0,
    "start_time": "2024-04-26T00:08:56.507Z"
   },
   {
    "duration": 0,
    "start_time": "2024-04-26T00:08:56.508Z"
   },
   {
    "duration": 0,
    "start_time": "2024-04-26T00:08:56.509Z"
   },
   {
    "duration": 0,
    "start_time": "2024-04-26T00:08:56.510Z"
   },
   {
    "duration": 0,
    "start_time": "2024-04-26T00:08:56.511Z"
   },
   {
    "duration": 0,
    "start_time": "2024-04-26T00:08:56.512Z"
   },
   {
    "duration": 0,
    "start_time": "2024-04-26T00:08:56.513Z"
   },
   {
    "duration": 0,
    "start_time": "2024-04-26T00:08:56.514Z"
   },
   {
    "duration": 0,
    "start_time": "2024-04-26T00:08:56.515Z"
   },
   {
    "duration": 0,
    "start_time": "2024-04-26T00:08:56.516Z"
   },
   {
    "duration": 0,
    "start_time": "2024-04-26T00:08:56.517Z"
   },
   {
    "duration": 0,
    "start_time": "2024-04-26T00:08:56.518Z"
   },
   {
    "duration": 0,
    "start_time": "2024-04-26T00:08:56.518Z"
   },
   {
    "duration": 0,
    "start_time": "2024-04-26T00:08:56.520Z"
   },
   {
    "duration": 0,
    "start_time": "2024-04-26T00:08:56.520Z"
   },
   {
    "duration": 0,
    "start_time": "2024-04-26T00:08:56.521Z"
   },
   {
    "duration": 0,
    "start_time": "2024-04-26T00:08:56.522Z"
   },
   {
    "duration": 0,
    "start_time": "2024-04-26T00:08:56.523Z"
   },
   {
    "duration": 0,
    "start_time": "2024-04-26T00:08:56.524Z"
   },
   {
    "duration": 0,
    "start_time": "2024-04-26T00:08:56.525Z"
   },
   {
    "duration": 0,
    "start_time": "2024-04-26T00:08:56.526Z"
   },
   {
    "duration": 0,
    "start_time": "2024-04-26T00:08:56.527Z"
   },
   {
    "duration": 0,
    "start_time": "2024-04-26T00:08:56.528Z"
   },
   {
    "duration": 0,
    "start_time": "2024-04-26T00:08:56.529Z"
   },
   {
    "duration": 0,
    "start_time": "2024-04-26T00:08:56.530Z"
   },
   {
    "duration": 0,
    "start_time": "2024-04-26T00:08:56.530Z"
   },
   {
    "duration": 0,
    "start_time": "2024-04-26T00:08:56.531Z"
   },
   {
    "duration": 0,
    "start_time": "2024-04-26T00:08:56.592Z"
   },
   {
    "duration": 0,
    "start_time": "2024-04-26T00:08:56.593Z"
   },
   {
    "duration": 0,
    "start_time": "2024-04-26T00:08:56.594Z"
   },
   {
    "duration": 1,
    "start_time": "2024-04-26T00:08:56.594Z"
   },
   {
    "duration": 0,
    "start_time": "2024-04-26T00:08:56.596Z"
   },
   {
    "duration": 0,
    "start_time": "2024-04-26T00:08:56.596Z"
   },
   {
    "duration": 7,
    "start_time": "2024-04-26T00:09:02.177Z"
   },
   {
    "duration": 301,
    "start_time": "2024-04-26T00:09:02.185Z"
   },
   {
    "duration": 1022,
    "start_time": "2024-04-26T00:09:02.487Z"
   },
   {
    "duration": 14,
    "start_time": "2024-04-26T00:09:03.511Z"
   },
   {
    "duration": 212,
    "start_time": "2024-04-26T00:09:03.528Z"
   },
   {
    "duration": 169,
    "start_time": "2024-04-26T00:09:03.742Z"
   },
   {
    "duration": 85,
    "start_time": "2024-04-26T00:09:03.912Z"
   },
   {
    "duration": 105,
    "start_time": "2024-04-26T00:09:03.999Z"
   },
   {
    "duration": 137,
    "start_time": "2024-04-26T00:09:04.106Z"
   },
   {
    "duration": 216,
    "start_time": "2024-04-26T00:09:04.245Z"
   },
   {
    "duration": 99,
    "start_time": "2024-04-26T00:09:04.463Z"
   },
   {
    "duration": 8,
    "start_time": "2024-04-26T00:09:04.564Z"
   },
   {
    "duration": 243,
    "start_time": "2024-04-26T00:09:04.573Z"
   },
   {
    "duration": 253,
    "start_time": "2024-04-26T00:09:04.820Z"
   },
   {
    "duration": 237,
    "start_time": "2024-04-26T00:09:05.075Z"
   },
   {
    "duration": 123,
    "start_time": "2024-04-26T00:09:05.314Z"
   },
   {
    "duration": 1810,
    "start_time": "2024-04-26T00:09:05.439Z"
   },
   {
    "duration": 175,
    "start_time": "2024-04-26T00:09:07.251Z"
   },
   {
    "duration": 11,
    "start_time": "2024-04-26T00:09:07.427Z"
   },
   {
    "duration": 32,
    "start_time": "2024-04-26T00:09:07.440Z"
   },
   {
    "duration": 159,
    "start_time": "2024-04-26T00:09:07.491Z"
   },
   {
    "duration": 16,
    "start_time": "2024-04-26T00:09:07.652Z"
   },
   {
    "duration": 40,
    "start_time": "2024-04-26T00:09:07.670Z"
   },
   {
    "duration": 26,
    "start_time": "2024-04-26T00:09:07.711Z"
   },
   {
    "duration": 152,
    "start_time": "2024-04-26T00:09:07.739Z"
   },
   {
    "duration": 122,
    "start_time": "2024-04-26T00:09:07.893Z"
   },
   {
    "duration": 17,
    "start_time": "2024-04-26T00:09:08.017Z"
   },
   {
    "duration": 239,
    "start_time": "2024-04-26T00:09:08.036Z"
   },
   {
    "duration": 189,
    "start_time": "2024-04-26T00:09:08.276Z"
   },
   {
    "duration": 11,
    "start_time": "2024-04-26T00:09:08.466Z"
   },
   {
    "duration": 35,
    "start_time": "2024-04-26T00:09:08.479Z"
   },
   {
    "duration": 154,
    "start_time": "2024-04-26T00:09:08.516Z"
   },
   {
    "duration": 24,
    "start_time": "2024-04-26T00:09:08.671Z"
   },
   {
    "duration": 219,
    "start_time": "2024-04-26T00:09:08.697Z"
   },
   {
    "duration": 1188,
    "start_time": "2024-04-26T00:09:08.918Z"
   },
   {
    "duration": 6317,
    "start_time": "2024-04-26T00:09:10.108Z"
   },
   {
    "duration": 3,
    "start_time": "2024-04-26T00:09:16.427Z"
   },
   {
    "duration": 15,
    "start_time": "2024-04-26T00:09:16.432Z"
   },
   {
    "duration": 71,
    "start_time": "2024-04-26T00:09:16.449Z"
   },
   {
    "duration": 3,
    "start_time": "2024-04-26T00:09:16.522Z"
   },
   {
    "duration": 4183,
    "start_time": "2024-04-26T00:09:16.529Z"
   },
   {
    "duration": 46,
    "start_time": "2024-04-26T00:09:20.713Z"
   },
   {
    "duration": 18934,
    "start_time": "2024-04-26T00:09:20.761Z"
   },
   {
    "duration": 162094,
    "start_time": "2024-04-26T00:09:39.698Z"
   },
   {
    "duration": 45593,
    "start_time": "2024-04-26T00:12:21.799Z"
   },
   {
    "duration": 3,
    "start_time": "2024-04-26T00:13:07.394Z"
   },
   {
    "duration": 11,
    "start_time": "2024-04-26T00:13:07.399Z"
   },
   {
    "duration": 137962,
    "start_time": "2024-04-26T00:13:07.411Z"
   },
   {
    "duration": 5039,
    "start_time": "2024-04-26T17:42:33.395Z"
   },
   {
    "duration": 3,
    "start_time": "2024-04-26T17:42:38.437Z"
   },
   {
    "duration": 1199,
    "start_time": "2024-04-26T17:42:38.442Z"
   },
   {
    "duration": 17,
    "start_time": "2024-04-26T17:42:39.642Z"
   },
   {
    "duration": 156,
    "start_time": "2024-04-26T17:42:39.661Z"
   },
   {
    "duration": 177,
    "start_time": "2024-04-26T17:42:39.819Z"
   },
   {
    "duration": 97,
    "start_time": "2024-04-26T17:42:39.998Z"
   },
   {
    "duration": 144,
    "start_time": "2024-04-26T17:42:40.096Z"
   },
   {
    "duration": 148,
    "start_time": "2024-04-26T17:42:40.242Z"
   },
   {
    "duration": 320,
    "start_time": "2024-04-26T17:42:40.392Z"
   },
   {
    "duration": 117,
    "start_time": "2024-04-26T17:42:40.713Z"
   },
   {
    "duration": 8,
    "start_time": "2024-04-26T17:42:40.831Z"
   },
   {
    "duration": 298,
    "start_time": "2024-04-26T17:42:40.841Z"
   },
   {
    "duration": 309,
    "start_time": "2024-04-26T17:42:41.142Z"
   },
   {
    "duration": 274,
    "start_time": "2024-04-26T17:42:41.453Z"
   },
   {
    "duration": 127,
    "start_time": "2024-04-26T17:42:41.729Z"
   },
   {
    "duration": 1854,
    "start_time": "2024-04-26T17:42:41.858Z"
   },
   {
    "duration": 30,
    "start_time": "2024-04-26T17:42:45.976Z"
   },
   {
    "duration": 11,
    "start_time": "2024-04-26T17:44:29.636Z"
   },
   {
    "duration": 4,
    "start_time": "2024-04-26T17:47:14.613Z"
   },
   {
    "duration": 402,
    "start_time": "2024-04-26T17:48:35.935Z"
   },
   {
    "duration": 3,
    "start_time": "2024-04-26T17:48:44.224Z"
   },
   {
    "duration": 326,
    "start_time": "2024-04-26T17:48:45.627Z"
   },
   {
    "duration": 2,
    "start_time": "2024-04-26T17:48:54.823Z"
   },
   {
    "duration": 215,
    "start_time": "2024-04-26T17:48:56.164Z"
   },
   {
    "duration": 21,
    "start_time": "2024-04-26T17:49:13.916Z"
   },
   {
    "duration": 175,
    "start_time": "2024-04-26T17:49:41.974Z"
   },
   {
    "duration": 7,
    "start_time": "2024-04-26T17:51:32.044Z"
   },
   {
    "duration": 101,
    "start_time": "2024-04-26T17:51:32.053Z"
   },
   {
    "duration": 862,
    "start_time": "2024-04-26T17:51:32.156Z"
   },
   {
    "duration": 20,
    "start_time": "2024-04-26T17:51:33.020Z"
   },
   {
    "duration": 159,
    "start_time": "2024-04-26T17:51:33.043Z"
   },
   {
    "duration": 144,
    "start_time": "2024-04-26T17:51:33.204Z"
   },
   {
    "duration": 90,
    "start_time": "2024-04-26T17:51:33.350Z"
   },
   {
    "duration": 105,
    "start_time": "2024-04-26T17:51:33.442Z"
   },
   {
    "duration": 142,
    "start_time": "2024-04-26T17:51:33.548Z"
   },
   {
    "duration": 215,
    "start_time": "2024-04-26T17:51:33.692Z"
   },
   {
    "duration": 100,
    "start_time": "2024-04-26T17:51:33.909Z"
   },
   {
    "duration": 6,
    "start_time": "2024-04-26T17:51:34.011Z"
   },
   {
    "duration": 255,
    "start_time": "2024-04-26T17:51:34.018Z"
   },
   {
    "duration": 258,
    "start_time": "2024-04-26T17:51:34.276Z"
   },
   {
    "duration": 239,
    "start_time": "2024-04-26T17:51:34.536Z"
   },
   {
    "duration": 130,
    "start_time": "2024-04-26T17:51:34.777Z"
   },
   {
    "duration": 1962,
    "start_time": "2024-04-26T17:51:34.909Z"
   },
   {
    "duration": 11,
    "start_time": "2024-04-26T17:51:36.873Z"
   },
   {
    "duration": 25,
    "start_time": "2024-04-26T17:51:36.886Z"
   },
   {
    "duration": 215,
    "start_time": "2024-04-26T17:51:36.913Z"
   },
   {
    "duration": 176,
    "start_time": "2024-04-26T17:51:37.130Z"
   },
   {
    "duration": 173,
    "start_time": "2024-04-26T17:51:37.307Z"
   },
   {
    "duration": 11,
    "start_time": "2024-04-26T17:51:37.481Z"
   },
   {
    "duration": 28,
    "start_time": "2024-04-26T17:51:37.493Z"
   },
   {
    "duration": 182,
    "start_time": "2024-04-26T17:51:37.523Z"
   },
   {
    "duration": 16,
    "start_time": "2024-04-26T17:51:37.707Z"
   },
   {
    "duration": 45,
    "start_time": "2024-04-26T17:51:37.725Z"
   },
   {
    "duration": 26,
    "start_time": "2024-04-26T17:51:37.772Z"
   },
   {
    "duration": 243,
    "start_time": "2024-04-26T17:51:37.799Z"
   },
   {
    "duration": 134,
    "start_time": "2024-04-26T17:51:38.043Z"
   },
   {
    "duration": 16,
    "start_time": "2024-04-26T17:51:38.178Z"
   },
   {
    "duration": 253,
    "start_time": "2024-04-26T17:51:38.196Z"
   },
   {
    "duration": 204,
    "start_time": "2024-04-26T17:51:38.450Z"
   },
   {
    "duration": 19,
    "start_time": "2024-04-26T17:51:38.656Z"
   },
   {
    "duration": 24,
    "start_time": "2024-04-26T17:51:38.677Z"
   },
   {
    "duration": 166,
    "start_time": "2024-04-26T17:51:38.703Z"
   },
   {
    "duration": 20,
    "start_time": "2024-04-26T17:51:38.871Z"
   },
   {
    "duration": 122,
    "start_time": "2024-04-26T17:51:38.892Z"
   },
   {
    "duration": 1236,
    "start_time": "2024-04-26T17:51:39.016Z"
   },
   {
    "duration": 6623,
    "start_time": "2024-04-26T17:51:40.254Z"
   },
   {
    "duration": 3,
    "start_time": "2024-04-26T17:51:46.881Z"
   },
   {
    "duration": 19,
    "start_time": "2024-04-26T17:51:46.885Z"
   },
   {
    "duration": 73,
    "start_time": "2024-04-26T17:51:46.906Z"
   },
   {
    "duration": 3,
    "start_time": "2024-04-26T17:51:46.981Z"
   },
   {
    "duration": 3439,
    "start_time": "2024-04-26T17:51:46.985Z"
   },
   {
    "duration": 61,
    "start_time": "2024-04-26T17:51:50.426Z"
   },
   {
    "duration": 0,
    "start_time": "2024-04-26T17:52:08.511Z"
   },
   {
    "duration": 0,
    "start_time": "2024-04-26T17:52:08.512Z"
   },
   {
    "duration": 0,
    "start_time": "2024-04-26T17:52:08.513Z"
   },
   {
    "duration": 0,
    "start_time": "2024-04-26T17:52:08.514Z"
   },
   {
    "duration": 0,
    "start_time": "2024-04-26T17:52:08.515Z"
   },
   {
    "duration": 0,
    "start_time": "2024-04-26T17:52:08.516Z"
   },
   {
    "duration": 0,
    "start_time": "2024-04-26T17:52:08.517Z"
   },
   {
    "duration": 0,
    "start_time": "2024-04-26T17:52:08.519Z"
   },
   {
    "duration": 0,
    "start_time": "2024-04-26T17:52:08.520Z"
   },
   {
    "duration": 0,
    "start_time": "2024-04-26T17:52:08.521Z"
   },
   {
    "duration": 0,
    "start_time": "2024-04-26T17:52:08.522Z"
   },
   {
    "duration": 0,
    "start_time": "2024-04-26T17:52:08.523Z"
   },
   {
    "duration": 0,
    "start_time": "2024-04-26T17:52:08.524Z"
   },
   {
    "duration": 0,
    "start_time": "2024-04-26T17:52:08.525Z"
   },
   {
    "duration": 0,
    "start_time": "2024-04-26T17:52:08.526Z"
   },
   {
    "duration": 0,
    "start_time": "2024-04-26T17:52:08.570Z"
   },
   {
    "duration": 0,
    "start_time": "2024-04-26T17:52:08.571Z"
   },
   {
    "duration": 0,
    "start_time": "2024-04-26T17:52:08.573Z"
   },
   {
    "duration": 0,
    "start_time": "2024-04-26T17:52:08.574Z"
   },
   {
    "duration": 0,
    "start_time": "2024-04-26T17:52:08.575Z"
   },
   {
    "duration": 0,
    "start_time": "2024-04-26T17:52:08.576Z"
   },
   {
    "duration": 0,
    "start_time": "2024-04-26T17:52:08.578Z"
   },
   {
    "duration": 0,
    "start_time": "2024-04-26T17:52:08.579Z"
   },
   {
    "duration": 0,
    "start_time": "2024-04-26T17:52:08.580Z"
   },
   {
    "duration": 0,
    "start_time": "2024-04-26T17:52:08.581Z"
   },
   {
    "duration": 0,
    "start_time": "2024-04-26T17:52:08.582Z"
   },
   {
    "duration": 0,
    "start_time": "2024-04-26T17:52:08.584Z"
   },
   {
    "duration": 0,
    "start_time": "2024-04-26T17:52:08.585Z"
   },
   {
    "duration": 0,
    "start_time": "2024-04-26T17:52:08.588Z"
   },
   {
    "duration": 0,
    "start_time": "2024-04-26T17:52:08.589Z"
   },
   {
    "duration": 0,
    "start_time": "2024-04-26T17:52:08.590Z"
   },
   {
    "duration": 0,
    "start_time": "2024-04-26T17:52:08.591Z"
   },
   {
    "duration": 0,
    "start_time": "2024-04-26T17:52:08.592Z"
   },
   {
    "duration": 0,
    "start_time": "2024-04-26T17:52:08.594Z"
   },
   {
    "duration": 0,
    "start_time": "2024-04-26T17:52:08.595Z"
   },
   {
    "duration": 0,
    "start_time": "2024-04-26T17:52:08.596Z"
   },
   {
    "duration": 0,
    "start_time": "2024-04-26T17:52:08.597Z"
   },
   {
    "duration": 0,
    "start_time": "2024-04-26T17:52:08.598Z"
   },
   {
    "duration": 0,
    "start_time": "2024-04-26T17:52:08.599Z"
   },
   {
    "duration": 0,
    "start_time": "2024-04-26T17:52:08.600Z"
   },
   {
    "duration": 0,
    "start_time": "2024-04-26T17:52:08.601Z"
   },
   {
    "duration": 0,
    "start_time": "2024-04-26T17:52:08.603Z"
   },
   {
    "duration": 0,
    "start_time": "2024-04-26T17:52:08.604Z"
   },
   {
    "duration": 0,
    "start_time": "2024-04-26T17:52:08.605Z"
   },
   {
    "duration": 0,
    "start_time": "2024-04-26T17:52:08.606Z"
   },
   {
    "duration": 0,
    "start_time": "2024-04-26T17:52:08.607Z"
   },
   {
    "duration": 0,
    "start_time": "2024-04-26T17:52:08.670Z"
   },
   {
    "duration": 0,
    "start_time": "2024-04-26T17:52:08.671Z"
   },
   {
    "duration": 0,
    "start_time": "2024-04-26T17:52:08.672Z"
   },
   {
    "duration": 0,
    "start_time": "2024-04-26T17:52:08.673Z"
   },
   {
    "duration": 0,
    "start_time": "2024-04-26T17:52:08.674Z"
   },
   {
    "duration": 0,
    "start_time": "2024-04-26T17:52:08.675Z"
   },
   {
    "duration": 7,
    "start_time": "2024-04-26T17:52:14.560Z"
   },
   {
    "duration": 24,
    "start_time": "2024-04-26T17:52:14.569Z"
   },
   {
    "duration": 862,
    "start_time": "2024-04-26T17:52:14.595Z"
   },
   {
    "duration": 13,
    "start_time": "2024-04-26T17:52:15.459Z"
   },
   {
    "duration": 172,
    "start_time": "2024-04-26T17:52:15.473Z"
   },
   {
    "duration": 174,
    "start_time": "2024-04-26T17:52:15.648Z"
   },
   {
    "duration": 92,
    "start_time": "2024-04-26T17:52:15.824Z"
   },
   {
    "duration": 110,
    "start_time": "2024-04-26T17:52:15.918Z"
   },
   {
    "duration": 145,
    "start_time": "2024-04-26T17:52:16.030Z"
   },
   {
    "duration": 226,
    "start_time": "2024-04-26T17:52:16.177Z"
   },
   {
    "duration": 104,
    "start_time": "2024-04-26T17:52:16.405Z"
   },
   {
    "duration": 7,
    "start_time": "2024-04-26T17:52:16.511Z"
   },
   {
    "duration": 246,
    "start_time": "2024-04-26T17:52:16.520Z"
   },
   {
    "duration": 276,
    "start_time": "2024-04-26T17:52:16.769Z"
   },
   {
    "duration": 238,
    "start_time": "2024-04-26T17:52:17.046Z"
   },
   {
    "duration": 124,
    "start_time": "2024-04-26T17:52:17.285Z"
   },
   {
    "duration": 1787,
    "start_time": "2024-04-26T17:52:17.411Z"
   },
   {
    "duration": 11,
    "start_time": "2024-04-26T17:52:19.200Z"
   },
   {
    "duration": 2,
    "start_time": "2024-04-26T17:52:19.213Z"
   },
   {
    "duration": 240,
    "start_time": "2024-04-26T17:52:19.217Z"
   },
   {
    "duration": 170,
    "start_time": "2024-04-26T17:52:19.458Z"
   },
   {
    "duration": 172,
    "start_time": "2024-04-26T17:52:19.629Z"
   },
   {
    "duration": 13,
    "start_time": "2024-04-26T17:52:19.803Z"
   },
   {
    "duration": 28,
    "start_time": "2024-04-26T17:52:19.818Z"
   },
   {
    "duration": 186,
    "start_time": "2024-04-26T17:52:19.847Z"
   },
   {
    "duration": 18,
    "start_time": "2024-04-26T17:52:20.035Z"
   },
   {
    "duration": 40,
    "start_time": "2024-04-26T17:52:20.054Z"
   },
   {
    "duration": 36,
    "start_time": "2024-04-26T17:52:20.095Z"
   },
   {
    "duration": 146,
    "start_time": "2024-04-26T17:52:20.133Z"
   },
   {
    "duration": 127,
    "start_time": "2024-04-26T17:52:20.280Z"
   },
   {
    "duration": 15,
    "start_time": "2024-04-26T17:52:20.410Z"
   },
   {
    "duration": 254,
    "start_time": "2024-04-26T17:52:20.427Z"
   },
   {
    "duration": 205,
    "start_time": "2024-04-26T17:52:20.682Z"
   },
   {
    "duration": 14,
    "start_time": "2024-04-26T17:52:20.889Z"
   },
   {
    "duration": 36,
    "start_time": "2024-04-26T17:52:20.905Z"
   },
   {
    "duration": 164,
    "start_time": "2024-04-26T17:52:20.943Z"
   },
   {
    "duration": 20,
    "start_time": "2024-04-26T17:52:21.108Z"
   },
   {
    "duration": 129,
    "start_time": "2024-04-26T17:52:21.130Z"
   },
   {
    "duration": 1291,
    "start_time": "2024-04-26T17:52:21.260Z"
   },
   {
    "duration": 6641,
    "start_time": "2024-04-26T17:52:22.553Z"
   },
   {
    "duration": 2,
    "start_time": "2024-04-26T17:52:29.198Z"
   },
   {
    "duration": 11,
    "start_time": "2024-04-26T17:52:29.202Z"
   },
   {
    "duration": 88,
    "start_time": "2024-04-26T17:52:29.215Z"
   },
   {
    "duration": 3,
    "start_time": "2024-04-26T17:52:29.305Z"
   },
   {
    "duration": 3473,
    "start_time": "2024-04-26T17:52:29.310Z"
   },
   {
    "duration": 45,
    "start_time": "2024-04-26T17:52:32.785Z"
   },
   {
    "duration": 16546,
    "start_time": "2024-04-26T17:52:32.832Z"
   },
   {
    "duration": 165289,
    "start_time": "2024-04-26T17:52:49.381Z"
   },
   {
    "duration": 47496,
    "start_time": "2024-04-26T17:55:34.676Z"
   },
   {
    "duration": 3,
    "start_time": "2024-04-26T17:56:22.174Z"
   },
   {
    "duration": 13,
    "start_time": "2024-04-26T17:56:22.179Z"
   },
   {
    "duration": 147852,
    "start_time": "2024-04-26T17:56:22.194Z"
   },
   {
    "duration": 141476,
    "start_time": "2024-04-26T18:00:09.071Z"
   },
   {
    "duration": 7,
    "start_time": "2024-04-26T18:12:42.945Z"
   },
   {
    "duration": 19,
    "start_time": "2024-04-26T18:12:42.954Z"
   },
   {
    "duration": 920,
    "start_time": "2024-04-26T18:12:42.975Z"
   },
   {
    "duration": 15,
    "start_time": "2024-04-26T18:12:43.897Z"
   },
   {
    "duration": 153,
    "start_time": "2024-04-26T18:12:43.914Z"
   },
   {
    "duration": 143,
    "start_time": "2024-04-26T18:12:44.069Z"
   },
   {
    "duration": 91,
    "start_time": "2024-04-26T18:12:44.213Z"
   },
   {
    "duration": 115,
    "start_time": "2024-04-26T18:12:44.306Z"
   },
   {
    "duration": 149,
    "start_time": "2024-04-26T18:12:44.422Z"
   },
   {
    "duration": 257,
    "start_time": "2024-04-26T18:12:44.574Z"
   },
   {
    "duration": 106,
    "start_time": "2024-04-26T18:12:44.833Z"
   },
   {
    "duration": 6,
    "start_time": "2024-04-26T18:12:44.941Z"
   },
   {
    "duration": 240,
    "start_time": "2024-04-26T18:12:44.950Z"
   },
   {
    "duration": 252,
    "start_time": "2024-04-26T18:12:45.192Z"
   },
   {
    "duration": 237,
    "start_time": "2024-04-26T18:12:45.446Z"
   },
   {
    "duration": 116,
    "start_time": "2024-04-26T18:12:45.685Z"
   },
   {
    "duration": 1856,
    "start_time": "2024-04-26T18:12:45.802Z"
   },
   {
    "duration": 13,
    "start_time": "2024-04-26T18:12:47.670Z"
   },
   {
    "duration": 4,
    "start_time": "2024-04-26T18:12:47.685Z"
   },
   {
    "duration": 234,
    "start_time": "2024-04-26T18:12:47.690Z"
   },
   {
    "duration": 169,
    "start_time": "2024-04-26T18:12:47.926Z"
   },
   {
    "duration": 173,
    "start_time": "2024-04-26T18:12:48.096Z"
   },
   {
    "duration": 10,
    "start_time": "2024-04-26T18:12:48.271Z"
   },
   {
    "duration": 29,
    "start_time": "2024-04-26T18:12:48.283Z"
   },
   {
    "duration": 185,
    "start_time": "2024-04-26T18:12:48.313Z"
   },
   {
    "duration": 16,
    "start_time": "2024-04-26T18:12:48.500Z"
   },
   {
    "duration": 25,
    "start_time": "2024-04-26T18:12:48.518Z"
   },
   {
    "duration": 46,
    "start_time": "2024-04-26T18:12:48.547Z"
   },
   {
    "duration": 137,
    "start_time": "2024-04-26T18:12:48.595Z"
   },
   {
    "duration": 119,
    "start_time": "2024-04-26T18:12:48.734Z"
   },
   {
    "duration": 21,
    "start_time": "2024-04-26T18:12:48.855Z"
   },
   {
    "duration": 235,
    "start_time": "2024-04-26T18:12:48.878Z"
   },
   {
    "duration": 205,
    "start_time": "2024-04-26T18:12:49.115Z"
   },
   {
    "duration": 14,
    "start_time": "2024-04-26T18:12:49.322Z"
   },
   {
    "duration": 44,
    "start_time": "2024-04-26T18:12:49.338Z"
   },
   {
    "duration": 175,
    "start_time": "2024-04-26T18:12:49.384Z"
   },
   {
    "duration": 23,
    "start_time": "2024-04-26T18:12:49.561Z"
   },
   {
    "duration": 246,
    "start_time": "2024-04-26T18:12:49.586Z"
   },
   {
    "duration": 1274,
    "start_time": "2024-04-26T18:12:49.834Z"
   },
   {
    "duration": 6531,
    "start_time": "2024-04-26T18:12:51.109Z"
   },
   {
    "duration": 2,
    "start_time": "2024-04-26T18:12:57.642Z"
   },
   {
    "duration": 11,
    "start_time": "2024-04-26T18:12:57.646Z"
   },
   {
    "duration": 60,
    "start_time": "2024-04-26T18:12:57.669Z"
   },
   {
    "duration": 4,
    "start_time": "2024-04-26T18:12:57.730Z"
   },
   {
    "duration": 3389,
    "start_time": "2024-04-26T18:12:57.736Z"
   },
   {
    "duration": 54,
    "start_time": "2024-04-26T18:13:01.127Z"
   },
   {
    "duration": 17187,
    "start_time": "2024-04-26T18:13:01.183Z"
   },
   {
    "duration": 155700,
    "start_time": "2024-04-26T18:13:18.372Z"
   },
   {
    "duration": 44825,
    "start_time": "2024-04-26T18:15:54.078Z"
   },
   {
    "duration": 3,
    "start_time": "2024-04-26T18:16:38.905Z"
   },
   {
    "duration": 9,
    "start_time": "2024-04-26T18:16:38.909Z"
   },
   {
    "duration": 140823,
    "start_time": "2024-04-26T18:16:38.919Z"
   },
   {
    "duration": 4632,
    "start_time": "2024-04-26T23:46:58.451Z"
   },
   {
    "duration": 2,
    "start_time": "2024-04-26T23:47:03.085Z"
   },
   {
    "duration": 2788,
    "start_time": "2024-04-26T23:47:03.088Z"
   },
   {
    "duration": 15,
    "start_time": "2024-04-26T23:47:05.877Z"
   },
   {
    "duration": 111,
    "start_time": "2024-04-26T23:47:05.894Z"
   },
   {
    "duration": 96,
    "start_time": "2024-04-26T23:47:06.007Z"
   },
   {
    "duration": 53,
    "start_time": "2024-04-26T23:47:06.104Z"
   },
   {
    "duration": 99,
    "start_time": "2024-04-26T23:47:06.159Z"
   },
   {
    "duration": 95,
    "start_time": "2024-04-26T23:47:06.260Z"
   },
   {
    "duration": 253,
    "start_time": "2024-04-26T23:47:06.356Z"
   },
   {
    "duration": 73,
    "start_time": "2024-04-26T23:47:06.610Z"
   },
   {
    "duration": 19,
    "start_time": "2024-04-26T23:47:06.684Z"
   },
   {
    "duration": 239,
    "start_time": "2024-04-26T23:47:06.704Z"
   },
   {
    "duration": 262,
    "start_time": "2024-04-26T23:47:06.945Z"
   },
   {
    "duration": 230,
    "start_time": "2024-04-26T23:47:07.208Z"
   },
   {
    "duration": 101,
    "start_time": "2024-04-26T23:47:07.439Z"
   },
   {
    "duration": 1503,
    "start_time": "2024-04-26T23:47:07.541Z"
   },
   {
    "duration": 11,
    "start_time": "2024-04-26T23:47:09.046Z"
   },
   {
    "duration": 2,
    "start_time": "2024-04-26T23:47:09.058Z"
   },
   {
    "duration": 195,
    "start_time": "2024-04-26T23:47:09.061Z"
   },
   {
    "duration": 132,
    "start_time": "2024-04-26T23:47:09.258Z"
   },
   {
    "duration": 136,
    "start_time": "2024-04-26T23:47:09.392Z"
   },
   {
    "duration": 9,
    "start_time": "2024-04-26T23:47:09.529Z"
   },
   {
    "duration": 25,
    "start_time": "2024-04-26T23:47:09.540Z"
   },
   {
    "duration": 141,
    "start_time": "2024-04-26T23:47:09.566Z"
   },
   {
    "duration": 14,
    "start_time": "2024-04-26T23:47:09.708Z"
   },
   {
    "duration": 22,
    "start_time": "2024-04-26T23:47:09.723Z"
   },
   {
    "duration": 23,
    "start_time": "2024-04-26T23:47:09.746Z"
   },
   {
    "duration": 190,
    "start_time": "2024-04-26T23:47:09.771Z"
   },
   {
    "duration": 94,
    "start_time": "2024-04-26T23:47:09.963Z"
   },
   {
    "duration": 13,
    "start_time": "2024-04-26T23:47:10.059Z"
   },
   {
    "duration": 195,
    "start_time": "2024-04-26T23:47:10.073Z"
   },
   {
    "duration": 195,
    "start_time": "2024-04-26T23:47:10.269Z"
   },
   {
    "duration": 10,
    "start_time": "2024-04-26T23:47:10.466Z"
   },
   {
    "duration": 37,
    "start_time": "2024-04-26T23:47:10.478Z"
   },
   {
    "duration": 116,
    "start_time": "2024-04-26T23:47:10.516Z"
   },
   {
    "duration": 18,
    "start_time": "2024-04-26T23:47:10.634Z"
   },
   {
    "duration": 104,
    "start_time": "2024-04-26T23:47:10.653Z"
   },
   {
    "duration": 948,
    "start_time": "2024-04-26T23:47:10.758Z"
   },
   {
    "duration": 5291,
    "start_time": "2024-04-26T23:47:11.707Z"
   },
   {
    "duration": 2,
    "start_time": "2024-04-26T23:47:17.001Z"
   },
   {
    "duration": 10,
    "start_time": "2024-04-26T23:47:17.004Z"
   },
   {
    "duration": 98,
    "start_time": "2024-04-26T23:47:19.735Z"
   },
   {
    "duration": 106,
    "start_time": "2024-04-26T23:47:25.561Z"
   },
   {
    "duration": 114,
    "start_time": "2024-04-26T23:47:39.526Z"
   },
   {
    "duration": 279,
    "start_time": "2024-04-26T23:49:47.760Z"
   },
   {
    "duration": 939,
    "start_time": "2024-04-26T23:49:53.661Z"
   },
   {
    "duration": 6,
    "start_time": "2024-04-26T23:50:59.578Z"
   },
   {
    "duration": 15,
    "start_time": "2024-04-26T23:50:59.586Z"
   },
   {
    "duration": 661,
    "start_time": "2024-04-26T23:50:59.602Z"
   },
   {
    "duration": 13,
    "start_time": "2024-04-26T23:51:00.264Z"
   },
   {
    "duration": 211,
    "start_time": "2024-04-26T23:51:00.278Z"
   },
   {
    "duration": 100,
    "start_time": "2024-04-26T23:51:00.491Z"
   },
   {
    "duration": 95,
    "start_time": "2024-04-26T23:51:00.593Z"
   },
   {
    "duration": 70,
    "start_time": "2024-04-26T23:51:00.690Z"
   },
   {
    "duration": 96,
    "start_time": "2024-04-26T23:51:00.762Z"
   },
   {
    "duration": 216,
    "start_time": "2024-04-26T23:51:00.860Z"
   },
   {
    "duration": 71,
    "start_time": "2024-04-26T23:51:01.077Z"
   },
   {
    "duration": 38,
    "start_time": "2024-04-26T23:51:01.149Z"
   },
   {
    "duration": 233,
    "start_time": "2024-04-26T23:51:01.188Z"
   },
   {
    "duration": 223,
    "start_time": "2024-04-26T23:51:01.424Z"
   },
   {
    "duration": 217,
    "start_time": "2024-04-26T23:51:01.648Z"
   },
   {
    "duration": 109,
    "start_time": "2024-04-26T23:51:01.866Z"
   },
   {
    "duration": 1531,
    "start_time": "2024-04-26T23:51:01.977Z"
   },
   {
    "duration": 12,
    "start_time": "2024-04-26T23:51:03.509Z"
   },
   {
    "duration": 14,
    "start_time": "2024-04-26T23:51:03.522Z"
   },
   {
    "duration": 192,
    "start_time": "2024-04-26T23:51:03.537Z"
   },
   {
    "duration": 131,
    "start_time": "2024-04-26T23:51:03.730Z"
   },
   {
    "duration": 133,
    "start_time": "2024-04-26T23:51:03.862Z"
   },
   {
    "duration": 10,
    "start_time": "2024-04-26T23:51:03.997Z"
   },
   {
    "duration": 24,
    "start_time": "2024-04-26T23:51:04.009Z"
   },
   {
    "duration": 139,
    "start_time": "2024-04-26T23:51:04.034Z"
   },
   {
    "duration": 15,
    "start_time": "2024-04-26T23:51:04.175Z"
   },
   {
    "duration": 41,
    "start_time": "2024-04-26T23:51:04.191Z"
   },
   {
    "duration": 25,
    "start_time": "2024-04-26T23:51:04.234Z"
   },
   {
    "duration": 112,
    "start_time": "2024-04-26T23:51:04.261Z"
   },
   {
    "duration": 95,
    "start_time": "2024-04-26T23:51:04.374Z"
   },
   {
    "duration": 14,
    "start_time": "2024-04-26T23:51:04.470Z"
   },
   {
    "duration": 201,
    "start_time": "2024-04-26T23:51:04.485Z"
   },
   {
    "duration": 176,
    "start_time": "2024-04-26T23:51:04.688Z"
   },
   {
    "duration": 11,
    "start_time": "2024-04-26T23:51:04.865Z"
   },
   {
    "duration": 31,
    "start_time": "2024-04-26T23:51:04.877Z"
   },
   {
    "duration": 127,
    "start_time": "2024-04-26T23:51:04.910Z"
   },
   {
    "duration": 18,
    "start_time": "2024-04-26T23:51:05.038Z"
   },
   {
    "duration": 103,
    "start_time": "2024-04-26T23:51:05.058Z"
   },
   {
    "duration": 1008,
    "start_time": "2024-04-26T23:51:05.162Z"
   },
   {
    "duration": 5226,
    "start_time": "2024-04-26T23:51:06.172Z"
   },
   {
    "duration": 2,
    "start_time": "2024-04-26T23:51:11.402Z"
   },
   {
    "duration": 23,
    "start_time": "2024-04-26T23:51:11.405Z"
   },
   {
    "duration": 314,
    "start_time": "2024-04-26T23:51:13.625Z"
   },
   {
    "duration": 15,
    "start_time": "2024-04-26T23:51:39.490Z"
   },
   {
    "duration": 26,
    "start_time": "2024-04-26T23:52:14.811Z"
   },
   {
    "duration": 4,
    "start_time": "2024-04-26T23:52:30.393Z"
   },
   {
    "duration": 25,
    "start_time": "2024-04-26T23:52:37.386Z"
   },
   {
    "duration": 26,
    "start_time": "2024-04-26T23:52:56.152Z"
   },
   {
    "duration": 9,
    "start_time": "2024-04-26T23:53:06.456Z"
   },
   {
    "duration": 35,
    "start_time": "2024-04-26T23:53:23.949Z"
   },
   {
    "duration": 2,
    "start_time": "2024-04-26T23:53:28.081Z"
   },
   {
    "duration": 213,
    "start_time": "2024-04-26T23:53:31.161Z"
   },
   {
    "duration": 6,
    "start_time": "2024-04-26T23:53:55.382Z"
   },
   {
    "duration": 12,
    "start_time": "2024-04-26T23:53:55.389Z"
   },
   {
    "duration": 669,
    "start_time": "2024-04-26T23:53:55.403Z"
   },
   {
    "duration": 10,
    "start_time": "2024-04-26T23:53:56.073Z"
   },
   {
    "duration": 113,
    "start_time": "2024-04-26T23:53:56.085Z"
   },
   {
    "duration": 91,
    "start_time": "2024-04-26T23:53:56.199Z"
   },
   {
    "duration": 61,
    "start_time": "2024-04-26T23:53:56.291Z"
   },
   {
    "duration": 72,
    "start_time": "2024-04-26T23:53:56.354Z"
   },
   {
    "duration": 95,
    "start_time": "2024-04-26T23:53:56.428Z"
   },
   {
    "duration": 185,
    "start_time": "2024-04-26T23:53:56.525Z"
   },
   {
    "duration": 67,
    "start_time": "2024-04-26T23:53:56.711Z"
   },
   {
    "duration": 6,
    "start_time": "2024-04-26T23:53:56.779Z"
   },
   {
    "duration": 244,
    "start_time": "2024-04-26T23:53:56.786Z"
   },
   {
    "duration": 248,
    "start_time": "2024-04-26T23:53:57.032Z"
   },
   {
    "duration": 207,
    "start_time": "2024-04-26T23:53:57.281Z"
   },
   {
    "duration": 101,
    "start_time": "2024-04-26T23:53:57.489Z"
   },
   {
    "duration": 1444,
    "start_time": "2024-04-26T23:53:57.591Z"
   },
   {
    "duration": 10,
    "start_time": "2024-04-26T23:53:59.036Z"
   },
   {
    "duration": 6,
    "start_time": "2024-04-26T23:53:59.047Z"
   },
   {
    "duration": 199,
    "start_time": "2024-04-26T23:53:59.054Z"
   },
   {
    "duration": 130,
    "start_time": "2024-04-26T23:53:59.254Z"
   },
   {
    "duration": 135,
    "start_time": "2024-04-26T23:53:59.385Z"
   },
   {
    "duration": 8,
    "start_time": "2024-04-26T23:53:59.521Z"
   },
   {
    "duration": 24,
    "start_time": "2024-04-26T23:53:59.530Z"
   },
   {
    "duration": 136,
    "start_time": "2024-04-26T23:53:59.555Z"
   },
   {
    "duration": 16,
    "start_time": "2024-04-26T23:53:59.692Z"
   },
   {
    "duration": 22,
    "start_time": "2024-04-26T23:53:59.709Z"
   },
   {
    "duration": 23,
    "start_time": "2024-04-26T23:53:59.732Z"
   },
   {
    "duration": 118,
    "start_time": "2024-04-26T23:53:59.756Z"
   },
   {
    "duration": 105,
    "start_time": "2024-04-26T23:53:59.876Z"
   },
   {
    "duration": 20,
    "start_time": "2024-04-26T23:53:59.982Z"
   },
   {
    "duration": 190,
    "start_time": "2024-04-26T23:54:00.004Z"
   },
   {
    "duration": 216,
    "start_time": "2024-04-26T23:54:00.201Z"
   },
   {
    "duration": 11,
    "start_time": "2024-04-26T23:54:00.418Z"
   },
   {
    "duration": 45,
    "start_time": "2024-04-26T23:54:00.430Z"
   },
   {
    "duration": 115,
    "start_time": "2024-04-26T23:54:00.477Z"
   },
   {
    "duration": 19,
    "start_time": "2024-04-26T23:54:00.594Z"
   },
   {
    "duration": 182,
    "start_time": "2024-04-26T23:54:00.614Z"
   },
   {
    "duration": 953,
    "start_time": "2024-04-26T23:54:00.797Z"
   },
   {
    "duration": 5123,
    "start_time": "2024-04-26T23:54:01.751Z"
   },
   {
    "duration": 2,
    "start_time": "2024-04-26T23:54:06.877Z"
   },
   {
    "duration": 17,
    "start_time": "2024-04-26T23:54:06.881Z"
   },
   {
    "duration": 291,
    "start_time": "2024-04-26T23:54:06.899Z"
   },
   {
    "duration": 14,
    "start_time": "2024-04-26T23:54:07.191Z"
   },
   {
    "duration": 33,
    "start_time": "2024-04-26T23:54:07.206Z"
   },
   {
    "duration": 3,
    "start_time": "2024-04-26T23:54:07.241Z"
   },
   {
    "duration": 206,
    "start_time": "2024-04-26T23:54:07.245Z"
   },
   {
    "duration": 0,
    "start_time": "2024-04-26T23:54:07.452Z"
   },
   {
    "duration": 0,
    "start_time": "2024-04-26T23:54:07.453Z"
   },
   {
    "duration": 0,
    "start_time": "2024-04-26T23:54:07.454Z"
   },
   {
    "duration": 0,
    "start_time": "2024-04-26T23:54:07.455Z"
   },
   {
    "duration": 0,
    "start_time": "2024-04-26T23:54:07.456Z"
   },
   {
    "duration": 0,
    "start_time": "2024-04-26T23:54:07.456Z"
   },
   {
    "duration": 0,
    "start_time": "2024-04-26T23:54:07.457Z"
   },
   {
    "duration": 14,
    "start_time": "2024-04-26T23:55:11.502Z"
   },
   {
    "duration": 14,
    "start_time": "2024-04-26T23:55:26.628Z"
   },
   {
    "duration": 3,
    "start_time": "2024-04-26T23:55:42.667Z"
   },
   {
    "duration": 14,
    "start_time": "2024-04-26T23:56:56.288Z"
   },
   {
    "duration": 38,
    "start_time": "2024-04-26T23:57:04.119Z"
   },
   {
    "duration": 35,
    "start_time": "2024-04-26T23:57:08.135Z"
   },
   {
    "duration": 3,
    "start_time": "2024-04-26T23:57:12.580Z"
   },
   {
    "duration": 7,
    "start_time": "2024-04-26T23:57:19.462Z"
   },
   {
    "duration": 3,
    "start_time": "2024-04-26T23:57:23.363Z"
   },
   {
    "duration": 3,
    "start_time": "2024-04-26T23:58:08.691Z"
   },
   {
    "duration": 3,
    "start_time": "2024-04-26T23:58:11.445Z"
   },
   {
    "duration": 14,
    "start_time": "2024-04-26T23:58:12.217Z"
   },
   {
    "duration": 15,
    "start_time": "2024-04-26T23:58:14.823Z"
   },
   {
    "duration": 3,
    "start_time": "2024-04-26T23:59:30.828Z"
   },
   {
    "duration": 195,
    "start_time": "2024-04-26T23:59:33.136Z"
   },
   {
    "duration": 35,
    "start_time": "2024-04-27T00:00:14.795Z"
   },
   {
    "duration": 15,
    "start_time": "2024-04-27T00:00:27.356Z"
   },
   {
    "duration": 46,
    "start_time": "2024-04-27T00:01:03.222Z"
   },
   {
    "duration": 26,
    "start_time": "2024-04-27T00:01:06.968Z"
   },
   {
    "duration": 21,
    "start_time": "2024-04-27T00:04:57.770Z"
   },
   {
    "duration": 2301,
    "start_time": "2024-04-27T00:04:59.379Z"
   },
   {
    "duration": 34,
    "start_time": "2024-04-27T00:05:25.661Z"
   },
   {
    "duration": 187,
    "start_time": "2024-04-27T00:06:42.549Z"
   },
   {
    "duration": 5,
    "start_time": "2024-04-27T00:07:09.500Z"
   },
   {
    "duration": 46710,
    "start_time": "2024-04-27T00:07:17.100Z"
   },
   {
    "duration": 0,
    "start_time": "2024-04-27T00:19:41.716Z"
   },
   {
    "duration": 0,
    "start_time": "2024-04-27T00:19:41.717Z"
   },
   {
    "duration": 0,
    "start_time": "2024-04-27T00:19:41.717Z"
   },
   {
    "duration": 0,
    "start_time": "2024-04-27T00:19:41.718Z"
   },
   {
    "duration": 0,
    "start_time": "2024-04-27T00:19:41.719Z"
   },
   {
    "duration": 0,
    "start_time": "2024-04-27T00:19:41.720Z"
   },
   {
    "duration": 0,
    "start_time": "2024-04-27T00:19:41.721Z"
   },
   {
    "duration": 0,
    "start_time": "2024-04-27T00:19:41.722Z"
   },
   {
    "duration": 0,
    "start_time": "2024-04-27T00:19:41.722Z"
   },
   {
    "duration": 0,
    "start_time": "2024-04-27T00:19:41.723Z"
   },
   {
    "duration": 0,
    "start_time": "2024-04-27T00:19:41.724Z"
   },
   {
    "duration": 1,
    "start_time": "2024-04-27T00:19:41.724Z"
   },
   {
    "duration": 0,
    "start_time": "2024-04-27T00:19:41.725Z"
   },
   {
    "duration": 0,
    "start_time": "2024-04-27T00:19:41.726Z"
   },
   {
    "duration": 0,
    "start_time": "2024-04-27T00:19:41.727Z"
   },
   {
    "duration": 0,
    "start_time": "2024-04-27T00:19:41.728Z"
   },
   {
    "duration": 0,
    "start_time": "2024-04-27T00:19:41.729Z"
   },
   {
    "duration": 0,
    "start_time": "2024-04-27T00:19:41.729Z"
   },
   {
    "duration": 0,
    "start_time": "2024-04-27T00:19:41.730Z"
   },
   {
    "duration": 0,
    "start_time": "2024-04-27T00:19:41.731Z"
   },
   {
    "duration": 0,
    "start_time": "2024-04-27T00:19:41.732Z"
   },
   {
    "duration": 0,
    "start_time": "2024-04-27T00:19:41.732Z"
   },
   {
    "duration": 0,
    "start_time": "2024-04-27T00:19:41.733Z"
   },
   {
    "duration": 0,
    "start_time": "2024-04-27T00:19:41.734Z"
   },
   {
    "duration": 0,
    "start_time": "2024-04-27T00:19:41.734Z"
   },
   {
    "duration": 0,
    "start_time": "2024-04-27T00:19:41.735Z"
   },
   {
    "duration": 0,
    "start_time": "2024-04-27T00:19:41.736Z"
   },
   {
    "duration": 0,
    "start_time": "2024-04-27T00:19:41.737Z"
   },
   {
    "duration": 0,
    "start_time": "2024-04-27T00:19:41.738Z"
   },
   {
    "duration": 0,
    "start_time": "2024-04-27T00:19:41.801Z"
   },
   {
    "duration": 0,
    "start_time": "2024-04-27T00:19:41.802Z"
   },
   {
    "duration": 0,
    "start_time": "2024-04-27T00:19:41.803Z"
   },
   {
    "duration": 0,
    "start_time": "2024-04-27T00:19:41.804Z"
   },
   {
    "duration": 0,
    "start_time": "2024-04-27T00:19:41.805Z"
   },
   {
    "duration": 0,
    "start_time": "2024-04-27T00:19:41.806Z"
   },
   {
    "duration": 0,
    "start_time": "2024-04-27T00:19:41.807Z"
   },
   {
    "duration": 0,
    "start_time": "2024-04-27T00:19:41.808Z"
   },
   {
    "duration": 0,
    "start_time": "2024-04-27T00:19:41.808Z"
   },
   {
    "duration": 0,
    "start_time": "2024-04-27T00:19:41.809Z"
   },
   {
    "duration": 0,
    "start_time": "2024-04-27T00:19:41.810Z"
   },
   {
    "duration": 0,
    "start_time": "2024-04-27T00:19:41.811Z"
   },
   {
    "duration": 0,
    "start_time": "2024-04-27T00:19:41.811Z"
   },
   {
    "duration": 0,
    "start_time": "2024-04-27T00:19:41.812Z"
   },
   {
    "duration": 0,
    "start_time": "2024-04-27T00:19:41.813Z"
   },
   {
    "duration": 0,
    "start_time": "2024-04-27T00:19:41.813Z"
   },
   {
    "duration": 0,
    "start_time": "2024-04-27T00:19:41.814Z"
   },
   {
    "duration": 0,
    "start_time": "2024-04-27T00:19:41.815Z"
   },
   {
    "duration": 0,
    "start_time": "2024-04-27T00:19:41.816Z"
   },
   {
    "duration": 0,
    "start_time": "2024-04-27T00:19:41.817Z"
   },
   {
    "duration": 0,
    "start_time": "2024-04-27T00:19:41.817Z"
   },
   {
    "duration": 0,
    "start_time": "2024-04-27T00:19:41.818Z"
   },
   {
    "duration": 0,
    "start_time": "2024-04-27T00:19:41.819Z"
   },
   {
    "duration": 0,
    "start_time": "2024-04-27T00:19:41.820Z"
   },
   {
    "duration": 0,
    "start_time": "2024-04-27T00:19:41.821Z"
   },
   {
    "duration": 0,
    "start_time": "2024-04-27T00:19:41.821Z"
   },
   {
    "duration": 0,
    "start_time": "2024-04-27T00:19:41.822Z"
   },
   {
    "duration": 7,
    "start_time": "2024-04-27T00:19:51.369Z"
   },
   {
    "duration": 51,
    "start_time": "2024-04-27T00:19:51.378Z"
   },
   {
    "duration": 674,
    "start_time": "2024-04-27T00:19:51.431Z"
   },
   {
    "duration": 10,
    "start_time": "2024-04-27T00:19:52.106Z"
   },
   {
    "duration": 141,
    "start_time": "2024-04-27T00:19:52.118Z"
   },
   {
    "duration": 92,
    "start_time": "2024-04-27T00:19:52.260Z"
   },
   {
    "duration": 61,
    "start_time": "2024-04-27T00:19:52.353Z"
   },
   {
    "duration": 77,
    "start_time": "2024-04-27T00:19:52.415Z"
   },
   {
    "duration": 93,
    "start_time": "2024-04-27T00:19:52.494Z"
   },
   {
    "duration": 194,
    "start_time": "2024-04-27T00:19:52.588Z"
   },
   {
    "duration": 74,
    "start_time": "2024-04-27T00:19:52.783Z"
   },
   {
    "duration": 10,
    "start_time": "2024-04-27T00:19:52.858Z"
   },
   {
    "duration": 227,
    "start_time": "2024-04-27T00:19:52.870Z"
   },
   {
    "duration": 237,
    "start_time": "2024-04-27T00:19:53.101Z"
   },
   {
    "duration": 208,
    "start_time": "2024-04-27T00:19:53.339Z"
   },
   {
    "duration": 102,
    "start_time": "2024-04-27T00:19:53.549Z"
   },
   {
    "duration": 1494,
    "start_time": "2024-04-27T00:19:53.653Z"
   },
   {
    "duration": 10,
    "start_time": "2024-04-27T00:19:55.149Z"
   },
   {
    "duration": 18,
    "start_time": "2024-04-27T00:19:55.160Z"
   },
   {
    "duration": 192,
    "start_time": "2024-04-27T00:19:55.180Z"
   },
   {
    "duration": 140,
    "start_time": "2024-04-27T00:19:55.373Z"
   },
   {
    "duration": 140,
    "start_time": "2024-04-27T00:19:55.514Z"
   },
   {
    "duration": 8,
    "start_time": "2024-04-27T00:19:55.656Z"
   },
   {
    "duration": 37,
    "start_time": "2024-04-27T00:19:55.665Z"
   },
   {
    "duration": 133,
    "start_time": "2024-04-27T00:19:55.704Z"
   },
   {
    "duration": 14,
    "start_time": "2024-04-27T00:19:55.839Z"
   },
   {
    "duration": 23,
    "start_time": "2024-04-27T00:19:55.854Z"
   },
   {
    "duration": 42,
    "start_time": "2024-04-27T00:19:55.878Z"
   },
   {
    "duration": 191,
    "start_time": "2024-04-27T00:19:55.922Z"
   },
   {
    "duration": 100,
    "start_time": "2024-04-27T00:19:56.114Z"
   },
   {
    "duration": 14,
    "start_time": "2024-04-27T00:19:56.215Z"
   },
   {
    "duration": 199,
    "start_time": "2024-04-27T00:19:56.230Z"
   },
   {
    "duration": 172,
    "start_time": "2024-04-27T00:19:56.430Z"
   },
   {
    "duration": 11,
    "start_time": "2024-04-27T00:19:56.603Z"
   },
   {
    "duration": 26,
    "start_time": "2024-04-27T00:19:56.615Z"
   },
   {
    "duration": 132,
    "start_time": "2024-04-27T00:19:56.642Z"
   },
   {
    "duration": 26,
    "start_time": "2024-04-27T00:19:56.776Z"
   },
   {
    "duration": 113,
    "start_time": "2024-04-27T00:19:56.803Z"
   },
   {
    "duration": 934,
    "start_time": "2024-04-27T00:19:56.918Z"
   },
   {
    "duration": 5334,
    "start_time": "2024-04-27T00:19:57.853Z"
   },
   {
    "duration": 2,
    "start_time": "2024-04-27T00:20:03.191Z"
   },
   {
    "duration": 44,
    "start_time": "2024-04-27T00:20:03.194Z"
   },
   {
    "duration": 306,
    "start_time": "2024-04-27T00:20:03.240Z"
   },
   {
    "duration": 9,
    "start_time": "2024-04-27T00:20:03.548Z"
   },
   {
    "duration": 35,
    "start_time": "2024-04-27T00:20:03.558Z"
   },
   {
    "duration": 3,
    "start_time": "2024-04-27T00:20:03.601Z"
   },
   {
    "duration": 23,
    "start_time": "2024-04-27T00:20:03.605Z"
   },
   {
    "duration": 25,
    "start_time": "2024-04-27T00:20:03.629Z"
   },
   {
    "duration": 3,
    "start_time": "2024-04-27T00:20:03.655Z"
   },
   {
    "duration": 51,
    "start_time": "2024-04-27T00:20:03.660Z"
   },
   {
    "duration": 24,
    "start_time": "2024-04-27T00:20:03.713Z"
   },
   {
    "duration": 22,
    "start_time": "2024-04-27T00:20:03.738Z"
   },
   {
    "duration": 2301,
    "start_time": "2024-04-27T00:20:03.761Z"
   },
   {
    "duration": 38,
    "start_time": "2024-04-27T00:20:06.064Z"
   },
   {
    "duration": 1280,
    "start_time": "2024-04-27T00:20:18.860Z"
   },
   {
    "duration": 2,
    "start_time": "2024-04-27T00:20:20.142Z"
   },
   {
    "duration": 2828,
    "start_time": "2024-04-27T00:20:20.145Z"
   },
   {
    "duration": 13,
    "start_time": "2024-04-27T00:20:22.974Z"
   },
   {
    "duration": 101,
    "start_time": "2024-04-27T00:20:22.989Z"
   },
   {
    "duration": 94,
    "start_time": "2024-04-27T00:20:23.092Z"
   },
   {
    "duration": 75,
    "start_time": "2024-04-27T00:20:23.187Z"
   },
   {
    "duration": 72,
    "start_time": "2024-04-27T00:20:23.264Z"
   },
   {
    "duration": 90,
    "start_time": "2024-04-27T00:20:23.338Z"
   },
   {
    "duration": 238,
    "start_time": "2024-04-27T00:20:23.430Z"
   },
   {
    "duration": 70,
    "start_time": "2024-04-27T00:20:23.670Z"
   },
   {
    "duration": 5,
    "start_time": "2024-04-27T00:20:23.741Z"
   },
   {
    "duration": 250,
    "start_time": "2024-04-27T00:20:23.747Z"
   },
   {
    "duration": 280,
    "start_time": "2024-04-27T00:20:24.001Z"
   },
   {
    "duration": 214,
    "start_time": "2024-04-27T00:20:24.282Z"
   },
   {
    "duration": 105,
    "start_time": "2024-04-27T00:20:24.498Z"
   },
   {
    "duration": 1500,
    "start_time": "2024-04-27T00:20:24.605Z"
   },
   {
    "duration": 11,
    "start_time": "2024-04-27T00:20:26.107Z"
   },
   {
    "duration": 2,
    "start_time": "2024-04-27T00:20:26.119Z"
   },
   {
    "duration": 191,
    "start_time": "2024-04-27T00:20:26.123Z"
   },
   {
    "duration": 135,
    "start_time": "2024-04-27T00:20:26.315Z"
   },
   {
    "duration": 136,
    "start_time": "2024-04-27T00:20:26.452Z"
   },
   {
    "duration": 15,
    "start_time": "2024-04-27T00:20:26.589Z"
   },
   {
    "duration": 24,
    "start_time": "2024-04-27T00:20:26.605Z"
   },
   {
    "duration": 129,
    "start_time": "2024-04-27T00:20:26.631Z"
   },
   {
    "duration": 14,
    "start_time": "2024-04-27T00:20:26.762Z"
   },
   {
    "duration": 39,
    "start_time": "2024-04-27T00:20:26.778Z"
   },
   {
    "duration": 23,
    "start_time": "2024-04-27T00:20:26.818Z"
   },
   {
    "duration": 175,
    "start_time": "2024-04-27T00:20:26.842Z"
   },
   {
    "duration": 94,
    "start_time": "2024-04-27T00:20:27.019Z"
   },
   {
    "duration": 13,
    "start_time": "2024-04-27T00:20:27.114Z"
   },
   {
    "duration": 196,
    "start_time": "2024-04-27T00:20:27.128Z"
   },
   {
    "duration": 180,
    "start_time": "2024-04-27T00:20:27.325Z"
   },
   {
    "duration": 11,
    "start_time": "2024-04-27T00:20:27.506Z"
   },
   {
    "duration": 22,
    "start_time": "2024-04-27T00:20:27.519Z"
   },
   {
    "duration": 133,
    "start_time": "2024-04-27T00:20:27.542Z"
   },
   {
    "duration": 25,
    "start_time": "2024-04-27T00:20:27.677Z"
   },
   {
    "duration": 88,
    "start_time": "2024-04-27T00:20:27.703Z"
   },
   {
    "duration": 957,
    "start_time": "2024-04-27T00:20:27.801Z"
   },
   {
    "duration": 5215,
    "start_time": "2024-04-27T00:20:28.760Z"
   },
   {
    "duration": 2,
    "start_time": "2024-04-27T00:20:33.978Z"
   },
   {
    "duration": 19,
    "start_time": "2024-04-27T00:20:33.981Z"
   },
   {
    "duration": 281,
    "start_time": "2024-04-27T00:20:34.001Z"
   },
   {
    "duration": 9,
    "start_time": "2024-04-27T00:20:34.283Z"
   },
   {
    "duration": 52,
    "start_time": "2024-04-27T00:20:34.293Z"
   },
   {
    "duration": 3,
    "start_time": "2024-04-27T00:20:34.346Z"
   },
   {
    "duration": 22,
    "start_time": "2024-04-27T00:20:34.350Z"
   },
   {
    "duration": 12,
    "start_time": "2024-04-27T00:20:34.374Z"
   },
   {
    "duration": 5,
    "start_time": "2024-04-27T00:20:34.387Z"
   },
   {
    "duration": 49,
    "start_time": "2024-04-27T00:20:34.393Z"
   },
   {
    "duration": 24,
    "start_time": "2024-04-27T00:20:34.443Z"
   },
   {
    "duration": 20,
    "start_time": "2024-04-27T00:20:34.468Z"
   },
   {
    "duration": 2295,
    "start_time": "2024-04-27T00:20:34.489Z"
   },
   {
    "duration": 41,
    "start_time": "2024-04-27T00:20:36.785Z"
   },
   {
    "duration": 46782,
    "start_time": "2024-04-27T00:20:36.827Z"
   },
   {
    "duration": 124238,
    "start_time": "2024-04-27T00:21:31.094Z"
   },
   {
    "duration": 21,
    "start_time": "2024-04-27T00:27:15.093Z"
   },
   {
    "duration": 67,
    "start_time": "2024-04-27T00:28:41.412Z"
   },
   {
    "duration": 102568,
    "start_time": "2024-04-27T00:32:38.265Z"
   },
   {
    "duration": 330725,
    "start_time": "2024-04-27T00:36:43.601Z"
   },
   {
    "duration": 0,
    "start_time": "2024-04-27T00:42:14.329Z"
   },
   {
    "duration": 0,
    "start_time": "2024-04-27T00:42:14.334Z"
   },
   {
    "duration": 0,
    "start_time": "2024-04-27T00:42:14.335Z"
   },
   {
    "duration": 0,
    "start_time": "2024-04-27T00:42:14.336Z"
   },
   {
    "duration": 0,
    "start_time": "2024-04-27T00:42:14.337Z"
   },
   {
    "duration": 0,
    "start_time": "2024-04-27T00:42:14.338Z"
   },
   {
    "duration": 0,
    "start_time": "2024-04-27T00:42:14.340Z"
   },
   {
    "duration": 0,
    "start_time": "2024-04-27T00:42:14.341Z"
   },
   {
    "duration": 0,
    "start_time": "2024-04-27T00:42:14.342Z"
   },
   {
    "duration": 0,
    "start_time": "2024-04-27T00:42:14.343Z"
   },
   {
    "duration": 0,
    "start_time": "2024-04-27T00:42:14.345Z"
   },
   {
    "duration": 0,
    "start_time": "2024-04-27T00:42:14.345Z"
   },
   {
    "duration": 0,
    "start_time": "2024-04-27T00:42:14.347Z"
   },
   {
    "duration": 0,
    "start_time": "2024-04-27T00:42:14.348Z"
   },
   {
    "duration": 0,
    "start_time": "2024-04-27T00:42:14.349Z"
   },
   {
    "duration": 0,
    "start_time": "2024-04-27T00:42:14.350Z"
   },
   {
    "duration": 0,
    "start_time": "2024-04-27T00:42:14.351Z"
   },
   {
    "duration": 0,
    "start_time": "2024-04-27T00:42:14.353Z"
   },
   {
    "duration": 0,
    "start_time": "2024-04-27T00:42:14.354Z"
   },
   {
    "duration": 0,
    "start_time": "2024-04-27T00:42:14.355Z"
   },
   {
    "duration": 0,
    "start_time": "2024-04-27T00:42:14.401Z"
   },
   {
    "duration": 0,
    "start_time": "2024-04-27T00:42:14.402Z"
   },
   {
    "duration": 0,
    "start_time": "2024-04-27T00:42:14.403Z"
   },
   {
    "duration": 0,
    "start_time": "2024-04-27T00:42:14.404Z"
   },
   {
    "duration": 0,
    "start_time": "2024-04-27T00:42:14.405Z"
   },
   {
    "duration": 0,
    "start_time": "2024-04-27T00:42:14.406Z"
   },
   {
    "duration": 0,
    "start_time": "2024-04-27T00:42:14.407Z"
   },
   {
    "duration": 0,
    "start_time": "2024-04-27T00:42:14.408Z"
   },
   {
    "duration": 0,
    "start_time": "2024-04-27T00:42:14.409Z"
   },
   {
    "duration": 0,
    "start_time": "2024-04-27T00:42:14.410Z"
   },
   {
    "duration": 0,
    "start_time": "2024-04-27T00:42:14.411Z"
   },
   {
    "duration": 0,
    "start_time": "2024-04-27T00:42:14.412Z"
   },
   {
    "duration": 0,
    "start_time": "2024-04-27T00:42:14.413Z"
   },
   {
    "duration": 0,
    "start_time": "2024-04-27T00:42:14.414Z"
   },
   {
    "duration": 0,
    "start_time": "2024-04-27T00:42:14.415Z"
   },
   {
    "duration": 0,
    "start_time": "2024-04-27T00:42:14.416Z"
   },
   {
    "duration": 0,
    "start_time": "2024-04-27T00:42:14.417Z"
   },
   {
    "duration": 0,
    "start_time": "2024-04-27T00:42:14.418Z"
   },
   {
    "duration": 0,
    "start_time": "2024-04-27T00:42:14.419Z"
   },
   {
    "duration": 0,
    "start_time": "2024-04-27T00:42:14.420Z"
   },
   {
    "duration": 0,
    "start_time": "2024-04-27T00:42:14.420Z"
   },
   {
    "duration": 0,
    "start_time": "2024-04-27T00:42:14.421Z"
   },
   {
    "duration": 0,
    "start_time": "2024-04-27T00:42:14.422Z"
   },
   {
    "duration": 0,
    "start_time": "2024-04-27T00:42:14.422Z"
   },
   {
    "duration": 0,
    "start_time": "2024-04-27T00:42:14.423Z"
   },
   {
    "duration": 0,
    "start_time": "2024-04-27T00:42:14.424Z"
   },
   {
    "duration": 0,
    "start_time": "2024-04-27T00:42:14.425Z"
   },
   {
    "duration": 0,
    "start_time": "2024-04-27T00:42:14.425Z"
   },
   {
    "duration": 0,
    "start_time": "2024-04-27T00:42:14.426Z"
   },
   {
    "duration": 0,
    "start_time": "2024-04-27T00:42:14.427Z"
   },
   {
    "duration": 0,
    "start_time": "2024-04-27T00:42:14.428Z"
   },
   {
    "duration": 0,
    "start_time": "2024-04-27T00:42:14.428Z"
   },
   {
    "duration": 0,
    "start_time": "2024-04-27T00:42:14.429Z"
   },
   {
    "duration": 0,
    "start_time": "2024-04-27T00:42:14.430Z"
   },
   {
    "duration": 0,
    "start_time": "2024-04-27T00:42:14.431Z"
   },
   {
    "duration": 0,
    "start_time": "2024-04-27T00:42:14.432Z"
   },
   {
    "duration": 6,
    "start_time": "2024-04-27T00:42:35.958Z"
   },
   {
    "duration": 20,
    "start_time": "2024-04-27T00:42:35.966Z"
   },
   {
    "duration": 706,
    "start_time": "2024-04-27T00:42:35.987Z"
   },
   {
    "duration": 10,
    "start_time": "2024-04-27T00:42:36.694Z"
   },
   {
    "duration": 100,
    "start_time": "2024-04-27T00:42:36.705Z"
   },
   {
    "duration": 96,
    "start_time": "2024-04-27T00:42:36.806Z"
   },
   {
    "duration": 51,
    "start_time": "2024-04-27T00:42:36.903Z"
   },
   {
    "duration": 81,
    "start_time": "2024-04-27T00:42:36.955Z"
   },
   {
    "duration": 89,
    "start_time": "2024-04-27T00:42:37.037Z"
   },
   {
    "duration": 222,
    "start_time": "2024-04-27T00:42:37.127Z"
   },
   {
    "duration": 68,
    "start_time": "2024-04-27T00:42:37.350Z"
   },
   {
    "duration": 5,
    "start_time": "2024-04-27T00:42:37.420Z"
   },
   {
    "duration": 229,
    "start_time": "2024-04-27T00:42:37.426Z"
   },
   {
    "duration": 234,
    "start_time": "2024-04-27T00:42:37.658Z"
   },
   {
    "duration": 213,
    "start_time": "2024-04-27T00:42:37.893Z"
   },
   {
    "duration": 104,
    "start_time": "2024-04-27T00:42:38.107Z"
   },
   {
    "duration": 1465,
    "start_time": "2024-04-27T00:42:38.213Z"
   },
   {
    "duration": 24,
    "start_time": "2024-04-27T00:42:39.679Z"
   },
   {
    "duration": 3,
    "start_time": "2024-04-27T00:42:39.705Z"
   },
   {
    "duration": 181,
    "start_time": "2024-04-27T00:42:39.709Z"
   },
   {
    "duration": 148,
    "start_time": "2024-04-27T00:42:39.891Z"
   },
   {
    "duration": 132,
    "start_time": "2024-04-27T00:42:40.040Z"
   },
   {
    "duration": 8,
    "start_time": "2024-04-27T00:42:40.174Z"
   },
   {
    "duration": 34,
    "start_time": "2024-04-27T00:42:40.183Z"
   },
   {
    "duration": 148,
    "start_time": "2024-04-27T00:42:40.218Z"
   },
   {
    "duration": 17,
    "start_time": "2024-04-27T00:42:40.368Z"
   },
   {
    "duration": 36,
    "start_time": "2024-04-27T00:42:40.386Z"
   },
   {
    "duration": 30,
    "start_time": "2024-04-27T00:42:40.423Z"
   },
   {
    "duration": 129,
    "start_time": "2024-04-27T00:42:40.454Z"
   },
   {
    "duration": 98,
    "start_time": "2024-04-27T00:42:40.584Z"
   },
   {
    "duration": 13,
    "start_time": "2024-04-27T00:42:40.683Z"
   },
   {
    "duration": 191,
    "start_time": "2024-04-27T00:42:40.701Z"
   },
   {
    "duration": 175,
    "start_time": "2024-04-27T00:42:40.893Z"
   },
   {
    "duration": 10,
    "start_time": "2024-04-27T00:42:41.069Z"
   },
   {
    "duration": 44,
    "start_time": "2024-04-27T00:42:41.080Z"
   },
   {
    "duration": 124,
    "start_time": "2024-04-27T00:42:41.125Z"
   },
   {
    "duration": 18,
    "start_time": "2024-04-27T00:42:41.250Z"
   },
   {
    "duration": 112,
    "start_time": "2024-04-27T00:42:41.270Z"
   },
   {
    "duration": 1003,
    "start_time": "2024-04-27T00:42:41.384Z"
   },
   {
    "duration": 5355,
    "start_time": "2024-04-27T00:42:42.389Z"
   },
   {
    "duration": 2,
    "start_time": "2024-04-27T00:42:47.747Z"
   },
   {
    "duration": 21,
    "start_time": "2024-04-27T00:42:47.750Z"
   },
   {
    "duration": 316,
    "start_time": "2024-04-27T00:42:47.772Z"
   },
   {
    "duration": 19,
    "start_time": "2024-04-27T00:42:48.089Z"
   },
   {
    "duration": 31,
    "start_time": "2024-04-27T00:42:48.109Z"
   },
   {
    "duration": 3,
    "start_time": "2024-04-27T00:42:48.141Z"
   },
   {
    "duration": 15,
    "start_time": "2024-04-27T00:42:48.146Z"
   },
   {
    "duration": 18,
    "start_time": "2024-04-27T00:42:48.162Z"
   },
   {
    "duration": 3,
    "start_time": "2024-04-27T00:42:48.201Z"
   },
   {
    "duration": 61,
    "start_time": "2024-04-27T00:42:48.205Z"
   },
   {
    "duration": 26,
    "start_time": "2024-04-27T00:42:48.267Z"
   },
   {
    "duration": 23,
    "start_time": "2024-04-27T00:42:48.294Z"
   },
   {
    "duration": 2283,
    "start_time": "2024-04-27T00:42:48.318Z"
   },
   {
    "duration": 37,
    "start_time": "2024-04-27T00:42:50.603Z"
   },
   {
    "duration": 46268,
    "start_time": "2024-04-27T00:42:50.641Z"
   },
   {
    "duration": 93,
    "start_time": "2024-04-27T00:43:36.910Z"
   },
   {
    "duration": 7,
    "start_time": "2024-04-27T00:44:53.787Z"
   },
   {
    "duration": 8,
    "start_time": "2024-04-27T00:45:00.251Z"
   },
   {
    "duration": 3,
    "start_time": "2024-04-27T00:45:23.781Z"
   },
   {
    "duration": 21114,
    "start_time": "2024-04-27T00:45:31.212Z"
   },
   {
    "duration": 25372,
    "start_time": "2024-04-27T00:45:55.937Z"
   },
   {
    "duration": 25315,
    "start_time": "2024-04-27T00:46:41.746Z"
   },
   {
    "duration": 931,
    "start_time": "2024-04-27T00:47:43.958Z"
   },
   {
    "duration": 36,
    "start_time": "2024-04-27T00:48:07.961Z"
   },
   {
    "duration": 27979,
    "start_time": "2024-04-27T00:48:27.917Z"
   },
   {
    "duration": 668,
    "start_time": "2024-04-27T00:49:00.218Z"
   },
   {
    "duration": 162673,
    "start_time": "2024-04-27T00:49:51.938Z"
   },
   {
    "duration": 62422,
    "start_time": "2024-04-27T00:53:05.883Z"
   },
   {
    "duration": 190276,
    "start_time": "2024-04-27T00:54:15.127Z"
   },
   {
    "duration": 8,
    "start_time": "2024-04-27T01:05:22.190Z"
   },
   {
    "duration": 80678,
    "start_time": "2024-04-27T01:05:30.443Z"
   },
   {
    "duration": 121100,
    "start_time": "2024-04-27T01:07:34.702Z"
   },
   {
    "duration": 2,
    "start_time": "2024-04-27T01:10:43.405Z"
   },
   {
    "duration": 4,
    "start_time": "2024-04-27T01:10:45.515Z"
   },
   {
    "duration": 81,
    "start_time": "2024-04-27T01:14:38.636Z"
   },
   {
    "duration": 8,
    "start_time": "2024-04-27T01:14:56.123Z"
   },
   {
    "duration": 8,
    "start_time": "2024-04-27T01:15:18.335Z"
   },
   {
    "duration": 6,
    "start_time": "2024-04-27T01:15:57.756Z"
   },
   {
    "duration": 620347,
    "start_time": "2024-04-27T01:16:02.650Z"
   },
   {
    "duration": 0,
    "start_time": "2024-04-27T01:26:23.000Z"
   },
   {
    "duration": 15943,
    "start_time": "2024-04-27T01:26:55.077Z"
   },
   {
    "duration": 41,
    "start_time": "2024-04-27T01:27:22.703Z"
   },
   {
    "duration": 1456,
    "start_time": "2024-04-27T01:27:25.964Z"
   },
   {
    "duration": 2,
    "start_time": "2024-04-27T01:27:27.422Z"
   },
   {
    "duration": 2859,
    "start_time": "2024-04-27T01:27:27.426Z"
   },
   {
    "duration": 15,
    "start_time": "2024-04-27T01:27:30.286Z"
   },
   {
    "duration": 233,
    "start_time": "2024-04-27T01:27:30.302Z"
   },
   {
    "duration": 105,
    "start_time": "2024-04-27T01:27:30.536Z"
   },
   {
    "duration": 52,
    "start_time": "2024-04-27T01:27:30.642Z"
   },
   {
    "duration": 96,
    "start_time": "2024-04-27T01:27:30.695Z"
   },
   {
    "duration": 97,
    "start_time": "2024-04-27T01:27:30.792Z"
   },
   {
    "duration": 296,
    "start_time": "2024-04-27T01:27:30.890Z"
   },
   {
    "duration": 82,
    "start_time": "2024-04-27T01:27:31.188Z"
   },
   {
    "duration": 24,
    "start_time": "2024-04-27T01:27:31.271Z"
   },
   {
    "duration": 258,
    "start_time": "2024-04-27T01:27:31.297Z"
   },
   {
    "duration": 260,
    "start_time": "2024-04-27T01:27:31.558Z"
   },
   {
    "duration": 221,
    "start_time": "2024-04-27T01:27:31.820Z"
   },
   {
    "duration": 105,
    "start_time": "2024-04-27T01:27:32.042Z"
   },
   {
    "duration": 1485,
    "start_time": "2024-04-27T01:27:32.149Z"
   },
   {
    "duration": 11,
    "start_time": "2024-04-27T01:27:33.635Z"
   },
   {
    "duration": 2,
    "start_time": "2024-04-27T01:27:33.647Z"
   },
   {
    "duration": 197,
    "start_time": "2024-04-27T01:27:33.651Z"
   },
   {
    "duration": 138,
    "start_time": "2024-04-27T01:27:33.850Z"
   },
   {
    "duration": 135,
    "start_time": "2024-04-27T01:27:33.989Z"
   },
   {
    "duration": 9,
    "start_time": "2024-04-27T01:27:34.125Z"
   },
   {
    "duration": 25,
    "start_time": "2024-04-27T01:27:34.136Z"
   },
   {
    "duration": 141,
    "start_time": "2024-04-27T01:27:34.162Z"
   },
   {
    "duration": 15,
    "start_time": "2024-04-27T01:27:34.304Z"
   },
   {
    "duration": 23,
    "start_time": "2024-04-27T01:27:34.320Z"
   },
   {
    "duration": 35,
    "start_time": "2024-04-27T01:27:34.344Z"
   },
   {
    "duration": 185,
    "start_time": "2024-04-27T01:27:34.380Z"
   },
   {
    "duration": 95,
    "start_time": "2024-04-27T01:27:34.566Z"
   },
   {
    "duration": 13,
    "start_time": "2024-04-27T01:27:34.663Z"
   },
   {
    "duration": 203,
    "start_time": "2024-04-27T01:27:34.678Z"
   },
   {
    "duration": 186,
    "start_time": "2024-04-27T01:27:34.883Z"
   },
   {
    "duration": 11,
    "start_time": "2024-04-27T01:27:35.070Z"
   },
   {
    "duration": 35,
    "start_time": "2024-04-27T01:27:35.083Z"
   },
   {
    "duration": 117,
    "start_time": "2024-04-27T01:27:35.132Z"
   },
   {
    "duration": 17,
    "start_time": "2024-04-27T01:27:35.251Z"
   },
   {
    "duration": 103,
    "start_time": "2024-04-27T01:27:35.269Z"
   },
   {
    "duration": 960,
    "start_time": "2024-04-27T01:27:35.373Z"
   },
   {
    "duration": 5202,
    "start_time": "2024-04-27T01:27:36.334Z"
   },
   {
    "duration": 2,
    "start_time": "2024-04-27T01:27:41.539Z"
   },
   {
    "duration": 5,
    "start_time": "2024-04-27T01:27:41.543Z"
   },
   {
    "duration": 292,
    "start_time": "2024-04-27T01:27:41.549Z"
   },
   {
    "duration": 10,
    "start_time": "2024-04-27T01:27:41.842Z"
   },
   {
    "duration": 29,
    "start_time": "2024-04-27T01:27:41.853Z"
   },
   {
    "duration": 5,
    "start_time": "2024-04-27T01:27:41.884Z"
   },
   {
    "duration": 14,
    "start_time": "2024-04-27T01:27:41.902Z"
   },
   {
    "duration": 13,
    "start_time": "2024-04-27T01:27:41.918Z"
   },
   {
    "duration": 3,
    "start_time": "2024-04-27T01:27:41.933Z"
   },
   {
    "duration": 82,
    "start_time": "2024-04-27T01:27:41.937Z"
   },
   {
    "duration": 25,
    "start_time": "2024-04-27T01:27:42.020Z"
   },
   {
    "duration": 20,
    "start_time": "2024-04-27T01:27:42.046Z"
   },
   {
    "duration": 2297,
    "start_time": "2024-04-27T01:27:42.068Z"
   },
   {
    "duration": 17,
    "start_time": "2024-04-27T01:27:44.367Z"
   },
   {
    "duration": 45919,
    "start_time": "2024-04-27T01:27:44.386Z"
   },
   {
    "duration": 4,
    "start_time": "2024-04-27T01:28:30.307Z"
   },
   {
    "duration": 186538,
    "start_time": "2024-04-27T01:28:38.769Z"
   },
   {
    "duration": 2,
    "start_time": "2024-04-27T01:32:42.706Z"
   },
   {
    "duration": 3,
    "start_time": "2024-04-27T01:32:44.138Z"
   },
   {
    "duration": 5816,
    "start_time": "2024-04-27T01:32:59.427Z"
   },
   {
    "duration": 3501,
    "start_time": "2024-04-27T01:33:28.098Z"
   },
   {
    "duration": 7510,
    "start_time": "2024-04-27T01:34:06.751Z"
   },
   {
    "duration": 144693,
    "start_time": "2024-04-27T01:34:35.237Z"
   },
   {
    "duration": 90,
    "start_time": "2024-04-27T01:42:22.060Z"
   },
   {
    "duration": 27,
    "start_time": "2024-04-27T01:42:27.777Z"
   },
   {
    "duration": 51,
    "start_time": "2024-04-27T01:42:37.088Z"
   },
   {
    "duration": 18,
    "start_time": "2024-04-27T01:42:40.346Z"
   },
   {
    "duration": 6,
    "start_time": "2024-04-27T01:47:21.818Z"
   },
   {
    "duration": 78,
    "start_time": "2024-04-27T01:47:21.826Z"
   },
   {
    "duration": 782,
    "start_time": "2024-04-27T01:47:21.905Z"
   },
   {
    "duration": 13,
    "start_time": "2024-04-27T01:47:22.689Z"
   },
   {
    "duration": 122,
    "start_time": "2024-04-27T01:47:22.703Z"
   },
   {
    "duration": 100,
    "start_time": "2024-04-27T01:47:22.826Z"
   },
   {
    "duration": 52,
    "start_time": "2024-04-27T01:47:22.927Z"
   },
   {
    "duration": 85,
    "start_time": "2024-04-27T01:47:22.981Z"
   },
   {
    "duration": 107,
    "start_time": "2024-04-27T01:47:23.067Z"
   },
   {
    "duration": 196,
    "start_time": "2024-04-27T01:47:23.176Z"
   },
   {
    "duration": 69,
    "start_time": "2024-04-27T01:47:23.373Z"
   },
   {
    "duration": 13,
    "start_time": "2024-04-27T01:47:23.444Z"
   },
   {
    "duration": 208,
    "start_time": "2024-04-27T01:47:23.458Z"
   },
   {
    "duration": 222,
    "start_time": "2024-04-27T01:47:23.667Z"
   },
   {
    "duration": 204,
    "start_time": "2024-04-27T01:47:23.890Z"
   },
   {
    "duration": 99,
    "start_time": "2024-04-27T01:47:24.095Z"
   },
   {
    "duration": 1484,
    "start_time": "2024-04-27T01:47:24.201Z"
   },
   {
    "duration": 20,
    "start_time": "2024-04-27T01:47:25.687Z"
   },
   {
    "duration": 2,
    "start_time": "2024-04-27T01:47:25.709Z"
   },
   {
    "duration": 203,
    "start_time": "2024-04-27T01:47:25.712Z"
   },
   {
    "duration": 132,
    "start_time": "2024-04-27T01:47:25.916Z"
   },
   {
    "duration": 138,
    "start_time": "2024-04-27T01:47:26.049Z"
   },
   {
    "duration": 18,
    "start_time": "2024-04-27T01:47:26.188Z"
   },
   {
    "duration": 34,
    "start_time": "2024-04-27T01:47:26.208Z"
   },
   {
    "duration": 143,
    "start_time": "2024-04-27T01:47:26.244Z"
   },
   {
    "duration": 21,
    "start_time": "2024-04-27T01:47:26.388Z"
   },
   {
    "duration": 24,
    "start_time": "2024-04-27T01:47:26.410Z"
   },
   {
    "duration": 24,
    "start_time": "2024-04-27T01:47:26.438Z"
   },
   {
    "duration": 119,
    "start_time": "2024-04-27T01:47:26.464Z"
   },
   {
    "duration": 94,
    "start_time": "2024-04-27T01:47:26.584Z"
   },
   {
    "duration": 22,
    "start_time": "2024-04-27T01:47:26.680Z"
   },
   {
    "duration": 199,
    "start_time": "2024-04-27T01:47:26.703Z"
   },
   {
    "duration": 172,
    "start_time": "2024-04-27T01:47:26.903Z"
   },
   {
    "duration": 10,
    "start_time": "2024-04-27T01:47:27.077Z"
   },
   {
    "duration": 52,
    "start_time": "2024-04-27T01:47:27.088Z"
   },
   {
    "duration": 152,
    "start_time": "2024-04-27T01:47:27.142Z"
   },
   {
    "duration": 17,
    "start_time": "2024-04-27T01:47:27.296Z"
   },
   {
    "duration": 93,
    "start_time": "2024-04-27T01:47:27.314Z"
   },
   {
    "duration": 1010,
    "start_time": "2024-04-27T01:47:27.409Z"
   },
   {
    "duration": 5224,
    "start_time": "2024-04-27T01:47:28.420Z"
   },
   {
    "duration": 2,
    "start_time": "2024-04-27T01:47:33.645Z"
   },
   {
    "duration": 5,
    "start_time": "2024-04-27T01:47:33.649Z"
   },
   {
    "duration": 301,
    "start_time": "2024-04-27T01:47:33.655Z"
   },
   {
    "duration": 11,
    "start_time": "2024-04-27T01:47:33.958Z"
   },
   {
    "duration": 41,
    "start_time": "2024-04-27T01:47:33.970Z"
   },
   {
    "duration": 2,
    "start_time": "2024-04-27T01:47:34.013Z"
   },
   {
    "duration": 17,
    "start_time": "2024-04-27T01:47:34.017Z"
   },
   {
    "duration": 21,
    "start_time": "2024-04-27T01:47:34.036Z"
   },
   {
    "duration": 20,
    "start_time": "2024-04-27T01:47:34.059Z"
   },
   {
    "duration": 61,
    "start_time": "2024-04-27T01:47:34.080Z"
   },
   {
    "duration": 24,
    "start_time": "2024-04-27T01:47:34.142Z"
   },
   {
    "duration": 94,
    "start_time": "2024-04-27T01:47:34.167Z"
   },
   {
    "duration": 0,
    "start_time": "2024-04-27T01:47:34.262Z"
   },
   {
    "duration": 0,
    "start_time": "2024-04-27T01:47:34.263Z"
   },
   {
    "duration": 0,
    "start_time": "2024-04-27T01:47:34.264Z"
   },
   {
    "duration": 0,
    "start_time": "2024-04-27T01:47:34.265Z"
   },
   {
    "duration": 0,
    "start_time": "2024-04-27T01:47:34.266Z"
   },
   {
    "duration": 0,
    "start_time": "2024-04-27T01:47:34.266Z"
   },
   {
    "duration": 0,
    "start_time": "2024-04-27T01:47:34.267Z"
   },
   {
    "duration": 6,
    "start_time": "2024-04-27T01:49:16.671Z"
   },
   {
    "duration": 14,
    "start_time": "2024-04-27T01:49:16.678Z"
   },
   {
    "duration": 639,
    "start_time": "2024-04-27T01:49:16.693Z"
   },
   {
    "duration": 9,
    "start_time": "2024-04-27T01:49:17.333Z"
   },
   {
    "duration": 109,
    "start_time": "2024-04-27T01:49:17.344Z"
   },
   {
    "duration": 113,
    "start_time": "2024-04-27T01:49:17.454Z"
   },
   {
    "duration": 85,
    "start_time": "2024-04-27T01:49:17.568Z"
   },
   {
    "duration": 71,
    "start_time": "2024-04-27T01:49:17.654Z"
   },
   {
    "duration": 93,
    "start_time": "2024-04-27T01:49:17.726Z"
   },
   {
    "duration": 182,
    "start_time": "2024-04-27T01:49:17.820Z"
   },
   {
    "duration": 66,
    "start_time": "2024-04-27T01:49:18.003Z"
   },
   {
    "duration": 6,
    "start_time": "2024-04-27T01:49:18.070Z"
   },
   {
    "duration": 204,
    "start_time": "2024-04-27T01:49:18.077Z"
   },
   {
    "duration": 226,
    "start_time": "2024-04-27T01:49:18.284Z"
   },
   {
    "duration": 213,
    "start_time": "2024-04-27T01:49:18.512Z"
   },
   {
    "duration": 104,
    "start_time": "2024-04-27T01:49:18.727Z"
   },
   {
    "duration": 1418,
    "start_time": "2024-04-27T01:49:18.832Z"
   },
   {
    "duration": 11,
    "start_time": "2024-04-27T01:49:20.251Z"
   },
   {
    "duration": 5,
    "start_time": "2024-04-27T01:49:20.263Z"
   },
   {
    "duration": 213,
    "start_time": "2024-04-27T01:49:20.269Z"
   },
   {
    "duration": 142,
    "start_time": "2024-04-27T01:49:20.484Z"
   },
   {
    "duration": 132,
    "start_time": "2024-04-27T01:49:20.628Z"
   },
   {
    "duration": 8,
    "start_time": "2024-04-27T01:49:20.761Z"
   },
   {
    "duration": 35,
    "start_time": "2024-04-27T01:49:20.770Z"
   },
   {
    "duration": 210,
    "start_time": "2024-04-27T01:49:20.806Z"
   },
   {
    "duration": 15,
    "start_time": "2024-04-27T01:49:21.017Z"
   },
   {
    "duration": 67,
    "start_time": "2024-04-27T01:49:21.033Z"
   },
   {
    "duration": 66,
    "start_time": "2024-04-27T01:49:21.102Z"
   },
   {
    "duration": 115,
    "start_time": "2024-04-27T01:49:21.169Z"
   },
   {
    "duration": 90,
    "start_time": "2024-04-27T01:49:21.286Z"
   },
   {
    "duration": 14,
    "start_time": "2024-04-27T01:49:21.377Z"
   },
   {
    "duration": 189,
    "start_time": "2024-04-27T01:49:21.401Z"
   },
   {
    "duration": 176,
    "start_time": "2024-04-27T01:49:21.591Z"
   },
   {
    "duration": 11,
    "start_time": "2024-04-27T01:49:21.768Z"
   },
   {
    "duration": 35,
    "start_time": "2024-04-27T01:49:21.780Z"
   },
   {
    "duration": 130,
    "start_time": "2024-04-27T01:49:21.816Z"
   },
   {
    "duration": 21,
    "start_time": "2024-04-27T01:49:21.948Z"
   },
   {
    "duration": 103,
    "start_time": "2024-04-27T01:49:21.971Z"
   },
   {
    "duration": 918,
    "start_time": "2024-04-27T01:49:22.075Z"
   },
   {
    "duration": 5163,
    "start_time": "2024-04-27T01:49:22.994Z"
   },
   {
    "duration": 3,
    "start_time": "2024-04-27T01:49:28.160Z"
   },
   {
    "duration": 15,
    "start_time": "2024-04-27T01:49:28.164Z"
   },
   {
    "duration": 289,
    "start_time": "2024-04-27T01:49:28.180Z"
   },
   {
    "duration": 12,
    "start_time": "2024-04-27T01:49:28.470Z"
   },
   {
    "duration": 36,
    "start_time": "2024-04-27T01:49:28.483Z"
   },
   {
    "duration": 3,
    "start_time": "2024-04-27T01:49:28.521Z"
   },
   {
    "duration": 14,
    "start_time": "2024-04-27T01:49:28.525Z"
   },
   {
    "duration": 13,
    "start_time": "2024-04-27T01:49:28.540Z"
   },
   {
    "duration": 7,
    "start_time": "2024-04-27T01:49:28.554Z"
   },
   {
    "duration": 64,
    "start_time": "2024-04-27T01:49:28.562Z"
   },
   {
    "duration": 25,
    "start_time": "2024-04-27T01:49:28.627Z"
   },
   {
    "duration": 49,
    "start_time": "2024-04-27T01:49:28.653Z"
   },
   {
    "duration": 0,
    "start_time": "2024-04-27T01:49:28.703Z"
   },
   {
    "duration": 0,
    "start_time": "2024-04-27T01:49:28.704Z"
   },
   {
    "duration": 0,
    "start_time": "2024-04-27T01:49:28.705Z"
   },
   {
    "duration": 0,
    "start_time": "2024-04-27T01:49:28.706Z"
   },
   {
    "duration": 0,
    "start_time": "2024-04-27T01:49:28.706Z"
   },
   {
    "duration": 0,
    "start_time": "2024-04-27T01:49:28.707Z"
   },
   {
    "duration": 0,
    "start_time": "2024-04-27T01:49:28.708Z"
   },
   {
    "duration": 39,
    "start_time": "2024-04-27T01:50:04.793Z"
   },
   {
    "duration": 55,
    "start_time": "2024-04-27T01:50:14.383Z"
   },
   {
    "duration": 2278,
    "start_time": "2024-04-27T01:50:16.957Z"
   },
   {
    "duration": 19,
    "start_time": "2024-04-27T01:50:21.459Z"
   },
   {
    "duration": 46256,
    "start_time": "2024-04-27T01:50:26.054Z"
   },
   {
    "duration": 4,
    "start_time": "2024-04-27T01:51:23.019Z"
   },
   {
    "duration": 85,
    "start_time": "2024-04-27T01:51:26.639Z"
   },
   {
    "duration": 229843,
    "start_time": "2024-04-27T01:51:29.060Z"
   },
   {
    "duration": 4637,
    "start_time": "2024-04-27T01:56:30.683Z"
   },
   {
    "duration": 4,
    "start_time": "2024-04-27T01:56:53.453Z"
   },
   {
    "duration": 39983,
    "start_time": "2024-04-27T01:57:42.969Z"
   },
   {
    "duration": 755100,
    "start_time": "2024-04-27T01:58:25.950Z"
   },
   {
    "duration": 0,
    "start_time": "2024-04-27T02:11:01.052Z"
   },
   {
    "duration": 4350,
    "start_time": "2024-04-27T02:11:09.785Z"
   },
   {
    "duration": 536739,
    "start_time": "2024-04-27T02:11:20.276Z"
   },
   {
    "duration": 11676,
    "start_time": "2024-04-27T02:29:06.069Z"
   },
   {
    "duration": 5925,
    "start_time": "2024-04-27T02:31:08.878Z"
   },
   {
    "duration": 10823,
    "start_time": "2024-04-27T02:31:43.979Z"
   },
   {
    "duration": 6002,
    "start_time": "2024-04-27T02:31:54.805Z"
   },
   {
    "duration": 4845,
    "start_time": "2024-04-27T02:32:36.159Z"
   },
   {
    "duration": 4800,
    "start_time": "2024-04-27T02:32:56.511Z"
   },
   {
    "duration": 118797,
    "start_time": "2024-04-27T02:34:42.749Z"
   },
   {
    "duration": 6,
    "start_time": "2024-04-27T02:48:32.377Z"
   },
   {
    "duration": 11,
    "start_time": "2024-04-27T02:48:32.385Z"
   },
   {
    "duration": 640,
    "start_time": "2024-04-27T02:48:32.397Z"
   },
   {
    "duration": 11,
    "start_time": "2024-04-27T02:48:33.039Z"
   },
   {
    "duration": 108,
    "start_time": "2024-04-27T02:48:33.051Z"
   },
   {
    "duration": 108,
    "start_time": "2024-04-27T02:48:33.160Z"
   },
   {
    "duration": 61,
    "start_time": "2024-04-27T02:48:33.270Z"
   },
   {
    "duration": 77,
    "start_time": "2024-04-27T02:48:33.332Z"
   },
   {
    "duration": 98,
    "start_time": "2024-04-27T02:48:33.410Z"
   },
   {
    "duration": 190,
    "start_time": "2024-04-27T02:48:33.511Z"
   },
   {
    "duration": 66,
    "start_time": "2024-04-27T02:48:33.703Z"
   },
   {
    "duration": 5,
    "start_time": "2024-04-27T02:48:33.771Z"
   },
   {
    "duration": 210,
    "start_time": "2024-04-27T02:48:33.777Z"
   },
   {
    "duration": 218,
    "start_time": "2024-04-27T02:48:33.988Z"
   },
   {
    "duration": 205,
    "start_time": "2024-04-27T02:48:34.208Z"
   },
   {
    "duration": 109,
    "start_time": "2024-04-27T02:48:34.414Z"
   },
   {
    "duration": 1401,
    "start_time": "2024-04-27T02:48:34.524Z"
   },
   {
    "duration": 10,
    "start_time": "2024-04-27T02:48:35.926Z"
   },
   {
    "duration": 3,
    "start_time": "2024-04-27T02:48:35.937Z"
   },
   {
    "duration": 191,
    "start_time": "2024-04-27T02:48:35.941Z"
   },
   {
    "duration": 142,
    "start_time": "2024-04-27T02:48:36.133Z"
   },
   {
    "duration": 137,
    "start_time": "2024-04-27T02:48:36.277Z"
   },
   {
    "duration": 7,
    "start_time": "2024-04-27T02:48:36.415Z"
   },
   {
    "duration": 24,
    "start_time": "2024-04-27T02:48:36.423Z"
   },
   {
    "duration": 212,
    "start_time": "2024-04-27T02:48:36.448Z"
   },
   {
    "duration": 15,
    "start_time": "2024-04-27T02:48:36.662Z"
   },
   {
    "duration": 34,
    "start_time": "2024-04-27T02:48:36.678Z"
   },
   {
    "duration": 25,
    "start_time": "2024-04-27T02:48:36.716Z"
   },
   {
    "duration": 120,
    "start_time": "2024-04-27T02:48:36.742Z"
   },
   {
    "duration": 96,
    "start_time": "2024-04-27T02:48:36.864Z"
   },
   {
    "duration": 14,
    "start_time": "2024-04-27T02:48:36.962Z"
   },
   {
    "duration": 234,
    "start_time": "2024-04-27T02:48:36.978Z"
   },
   {
    "duration": 187,
    "start_time": "2024-04-27T02:48:37.214Z"
   },
   {
    "duration": 11,
    "start_time": "2024-04-27T02:48:37.403Z"
   },
   {
    "duration": 34,
    "start_time": "2024-04-27T02:48:37.416Z"
   },
   {
    "duration": 127,
    "start_time": "2024-04-27T02:48:37.451Z"
   },
   {
    "duration": 37,
    "start_time": "2024-04-27T02:48:37.579Z"
   },
   {
    "duration": 98,
    "start_time": "2024-04-27T02:48:37.618Z"
   },
   {
    "duration": 923,
    "start_time": "2024-04-27T02:48:37.717Z"
   },
   {
    "duration": 5142,
    "start_time": "2024-04-27T02:48:38.642Z"
   },
   {
    "duration": 2,
    "start_time": "2024-04-27T02:48:43.786Z"
   },
   {
    "duration": 13,
    "start_time": "2024-04-27T02:48:43.789Z"
   },
   {
    "duration": 291,
    "start_time": "2024-04-27T02:48:43.803Z"
   },
   {
    "duration": 17,
    "start_time": "2024-04-27T02:48:44.095Z"
   },
   {
    "duration": 34,
    "start_time": "2024-04-27T02:48:44.113Z"
   },
   {
    "duration": 3,
    "start_time": "2024-04-27T02:48:44.148Z"
   },
   {
    "duration": 14,
    "start_time": "2024-04-27T02:48:44.152Z"
   },
   {
    "duration": 40,
    "start_time": "2024-04-27T02:48:44.168Z"
   },
   {
    "duration": 10,
    "start_time": "2024-04-27T02:48:44.209Z"
   },
   {
    "duration": 58,
    "start_time": "2024-04-27T02:48:44.221Z"
   },
   {
    "duration": 24,
    "start_time": "2024-04-27T02:48:44.281Z"
   },
   {
    "duration": 34,
    "start_time": "2024-04-27T02:48:44.306Z"
   },
   {
    "duration": 5260,
    "start_time": "2024-04-27T19:51:28.824Z"
   },
   {
    "duration": 3,
    "start_time": "2024-04-27T19:51:34.086Z"
   },
   {
    "duration": 2983,
    "start_time": "2024-04-27T19:51:34.090Z"
   },
   {
    "duration": 19,
    "start_time": "2024-04-27T19:51:37.075Z"
   },
   {
    "duration": 159,
    "start_time": "2024-04-27T19:51:37.096Z"
   },
   {
    "duration": 139,
    "start_time": "2024-04-27T19:51:37.256Z"
   },
   {
    "duration": 91,
    "start_time": "2024-04-27T19:51:37.397Z"
   },
   {
    "duration": 122,
    "start_time": "2024-04-27T19:51:37.489Z"
   },
   {
    "duration": 145,
    "start_time": "2024-04-27T19:51:37.613Z"
   },
   {
    "duration": 313,
    "start_time": "2024-04-27T19:51:37.760Z"
   },
   {
    "duration": 107,
    "start_time": "2024-04-27T19:51:38.074Z"
   },
   {
    "duration": 6,
    "start_time": "2024-04-27T19:51:38.183Z"
   },
   {
    "duration": 322,
    "start_time": "2024-04-27T19:51:38.191Z"
   },
   {
    "duration": 329,
    "start_time": "2024-04-27T19:51:38.516Z"
   },
   {
    "duration": 257,
    "start_time": "2024-04-27T19:51:38.847Z"
   },
   {
    "duration": 117,
    "start_time": "2024-04-27T19:51:39.106Z"
   },
   {
    "duration": 1871,
    "start_time": "2024-04-27T19:51:39.229Z"
   },
   {
    "duration": 15,
    "start_time": "2024-04-27T19:51:41.101Z"
   },
   {
    "duration": 3,
    "start_time": "2024-04-27T19:51:41.129Z"
   },
   {
    "duration": 216,
    "start_time": "2024-04-27T19:51:41.134Z"
   },
   {
    "duration": 178,
    "start_time": "2024-04-27T19:51:41.352Z"
   },
   {
    "duration": 175,
    "start_time": "2024-04-27T19:51:41.531Z"
   },
   {
    "duration": 22,
    "start_time": "2024-04-27T19:51:41.708Z"
   },
   {
    "duration": 26,
    "start_time": "2024-04-27T19:51:41.732Z"
   },
   {
    "duration": 175,
    "start_time": "2024-04-27T19:51:41.759Z"
   },
   {
    "duration": 17,
    "start_time": "2024-04-27T19:51:41.935Z"
   },
   {
    "duration": 30,
    "start_time": "2024-04-27T19:51:41.953Z"
   },
   {
    "duration": 25,
    "start_time": "2024-04-27T19:51:41.985Z"
   },
   {
    "duration": 273,
    "start_time": "2024-04-27T19:51:42.012Z"
   },
   {
    "duration": 116,
    "start_time": "2024-04-27T19:51:42.286Z"
   },
   {
    "duration": 26,
    "start_time": "2024-04-27T19:51:42.403Z"
   },
   {
    "duration": 233,
    "start_time": "2024-04-27T19:51:42.430Z"
   },
   {
    "duration": 189,
    "start_time": "2024-04-27T19:51:42.665Z"
   },
   {
    "duration": 12,
    "start_time": "2024-04-27T19:51:42.856Z"
   },
   {
    "duration": 23,
    "start_time": "2024-04-27T19:51:42.869Z"
   },
   {
    "duration": 153,
    "start_time": "2024-04-27T19:51:42.893Z"
   },
   {
    "duration": 18,
    "start_time": "2024-04-27T19:51:43.048Z"
   },
   {
    "duration": 117,
    "start_time": "2024-04-27T19:51:43.067Z"
   },
   {
    "duration": 1200,
    "start_time": "2024-04-27T19:51:43.185Z"
   },
   {
    "duration": 6487,
    "start_time": "2024-04-27T19:51:44.387Z"
   },
   {
    "duration": 3,
    "start_time": "2024-04-27T19:51:50.878Z"
   },
   {
    "duration": 55,
    "start_time": "2024-04-27T19:51:50.882Z"
   },
   {
    "duration": 341,
    "start_time": "2024-04-27T19:51:50.939Z"
   },
   {
    "duration": 11,
    "start_time": "2024-04-27T19:51:51.282Z"
   },
   {
    "duration": 59,
    "start_time": "2024-04-27T19:51:51.295Z"
   },
   {
    "duration": 4,
    "start_time": "2024-04-27T19:51:51.356Z"
   },
   {
    "duration": 30,
    "start_time": "2024-04-27T19:51:51.362Z"
   },
   {
    "duration": 33,
    "start_time": "2024-04-27T19:51:51.394Z"
   },
   {
    "duration": 19,
    "start_time": "2024-04-27T19:51:51.428Z"
   },
   {
    "duration": 69,
    "start_time": "2024-04-27T19:51:51.449Z"
   },
   {
    "duration": 35,
    "start_time": "2024-04-27T19:51:51.520Z"
   },
   {
    "duration": 50,
    "start_time": "2024-04-27T19:51:51.557Z"
   },
   {
    "duration": 4039,
    "start_time": "2024-04-27T19:51:51.608Z"
   },
   {
    "duration": 25,
    "start_time": "2024-04-27T19:51:55.648Z"
   },
   {
    "duration": 58555,
    "start_time": "2024-04-27T19:51:55.675Z"
   },
   {
    "duration": 5,
    "start_time": "2024-04-27T19:52:54.233Z"
   },
   {
    "duration": 112,
    "start_time": "2024-04-27T19:52:54.330Z"
   },
   {
    "duration": 188790,
    "start_time": "2024-04-27T19:52:54.443Z"
   },
   {
    "duration": 5,
    "start_time": "2024-04-27T19:56:03.235Z"
   },
   {
    "duration": 537793,
    "start_time": "2024-04-27T19:56:03.242Z"
   },
   {
    "duration": 14500,
    "start_time": "2024-04-27T20:05:01.036Z"
   },
   {
    "duration": 8510,
    "start_time": "2024-04-27T20:05:15.538Z"
   },
   {
    "duration": 123373,
    "start_time": "2024-04-27T20:05:24.129Z"
   }
  ],
  "kernelspec": {
   "display_name": "Python 3 (ipykernel)",
   "language": "python",
   "name": "python3"
  },
  "language_info": {
   "codemirror_mode": {
    "name": "ipython",
    "version": 3
   },
   "file_extension": ".py",
   "mimetype": "text/x-python",
   "name": "python",
   "nbconvert_exporter": "python",
   "pygments_lexer": "ipython3",
   "version": "3.9.5"
  },
  "toc": {
   "base_numbering": 1,
   "nav_menu": {},
   "number_sections": true,
   "sideBar": true,
   "skip_h1_title": true,
   "title_cell": "Table of Contents",
   "title_sidebar": "Contents",
   "toc_cell": false,
   "toc_position": {
    "height": "calc(100% - 180px)",
    "left": "10px",
    "top": "150px",
    "width": "200.6px"
   },
   "toc_section_display": true,
   "toc_window_display": true
  }
 },
 "nbformat": 4,
 "nbformat_minor": 2
}
