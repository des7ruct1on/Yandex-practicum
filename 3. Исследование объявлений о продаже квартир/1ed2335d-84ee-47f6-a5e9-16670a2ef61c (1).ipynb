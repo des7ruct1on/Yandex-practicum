{
 "cells": [
  {
   "cell_type": "markdown",
   "metadata": {},
   "source": [
    "## **Комментарий ревьюера**\n",
    "\n",
    "Привет 👋\n",
    "\n",
    "Меня зовут Валентин, и я буду проверять твой проект. Предлагаю сразу договориться общаться на «ты», если для тебя это не уместно, то дай, пожалуйста, знать, будем общаться на «вы».\n",
    "\n",
    "### **Краткое резюме по ревью**\n",
    "\n",
    "<div style=\"border-radius: 15px; box-shadow: 2px 2px 4px; border: 1px solid; background:Gainsboro; padding: 20px\">\n",
    "\n",
    "Видны твои старания при работе над данным проектом. Большинство основных этапов в работе сделано хорошо:\n",
    "- есть много сильных и интересных алгоритмов 🤩\n",
    "- детально изучены многие тонкости данных\n",
    "- здорово сделана предобработка данных\n",
    "- построено много интересных графиков\n",
    "- сделано много верных промежуточных выводов, основанных на полученных данных\n",
    "\n",
    "Твоего внимания требует:\n",
    "- небольшое исправление графиков\n",
    "- пересмотр выводов\n",
    "- исправление ошибки в коде\n",
    "\n",
    "Я описал замечания в комментариях, которые помечены цветом(красным, желтым), после их доработки я смогу принять работу.\n",
    "    \n",
    "Спасибо тебе за твой труд! Я на все 100% уверен, что у тебя все получится, и с нетерпением буду ждать твою работу на повторное ревью 😉\n",
    "\n",
    "</div>\n",
    "\n",
    "### **PS:**\n",
    "\n",
    "Хочу поделиться дополнительным материалом, он бесплатный, но объемный(может уйти несколько месяцев):\n",
    "- У Тимофея Хирьянова есть [Плей-лист по алгоритмам на python](https://www.youtube.com/playlist?list=PLRDzFCPr95fK7tr47883DFUbm4GeOjjc0), это вроде просто видео-лекции, но в описании есть ссылка на лекции и практику, не стесняйся смотреть, преподаватель очень наглядно объясняет материал. На первых уроках задания могут показаться сложными, так как требует знания геометрии, не стесняйся проходить далее, будет проще)\n",
    "\n",
    "И вот доп ссылки на статьи по корреляции:\n",
    "- [Корреляционный анализ](https://mylektsii.su/12-8768.html), тут есть табличка по тому, как интерпретировать корреляцию\n",
    "- [Линейный коэффициент корреляции Пирсона](https://statanaliz.info/statistica/korrelyaciya-i-regressiya/linejnyj-koefficient-korrelyacii-pirsona/)\n",
    "- [Корреляция и регрессия](https://stepik.org/lesson/8086/step/1?unit=1365), это небольшой курс на степике, в котором можно пройти только нужные тебе блоки\n",
    "- [Корреляция и каузальность](https://pikabu.ru/story/korrelyatsiya_i_kauzalnost_5956601)\n",
    "\n",
    "### **Правила оформления:**\n",
    "\n",
    "По ходу тетрадки ты найдешь комментарии к проекту, они будут в отдельных ячейках Markdown с заголовком «Комментарий ревьюера». Постарайся учесть эти комментарии для дальнейших проектов. Я использую заголовки в комментариях, они изменят твое оглавление. Но тебе будет удобно перемещаться от комментария к комментарию. А перед перемещением проекта в портфолио просто уберешь данные комментарии.\n",
    "\n",
    "Пожалуйста, **не перемещай, не изменяй и не удаляй мои комментарии**. Всё это поможет выполнить повторную проверку твоего проекта быстрее.\n",
    "\n",
    "Я буду красить комментарии цветом:\n",
    "\n",
    "<div class=\"alert alert-danger\"; style=\"border-left: 7px solid FireBrick\">\n",
    "<h4> ❌ <font color=\"FireBrick\">Комментарий ревьюера (красный)</font></h4>\n",
    "\n",
    "Такой комментарий нужно исправить обязательно, он критически влияет на удачное выполнение проекта.\n",
    "\n",
    "Также жду от тебя комментарии, где вкратце опишешь изменения, которые были внесены.\n",
    "</div>\n",
    "\n",
    "<div class=\"alert alert-warning\"; style=\"border-left: 7px solid Gold\">\n",
    "<h4> ⚠️ <font color=\"DarkGoldenRod\">Комментарий ревьюера (желтый)</font></h4>\n",
    "\n",
    "Такой комментарий является рекомендацией или советом. Можешь использовать их на своё усмотрение.\n",
    "    \n",
    "В случае изменений кода, опиши, пожалуйста, вкратце то, что изменилось. Если изменений не было, то просто опиши свои мысли на эту тему.\n",
    "</div>\n",
    "\n",
    "<div class=\"alert alert-success\"; style=\"border-left: 7px solid green\">\n",
    "<h4> ✔️ <font color=\"green\">Комментарий ревьюера (зеленый)</font></h4>\n",
    "\n",
    "Такой комментарий говорит о том, что было сделано что-то качественное и правильное 😃\n",
    "    \n",
    "Я не буду ждать твоего комментария, но буду ему очень рад 🤗\n",
    "</div>\n",
    "\n",
    "Чтобы мы были на одной волне, рекомендую общаться в том же стиле 😊 Твои ответы на мои комментарии будут подкрашиваться в синий цвет.\n",
    "\n",
    "Ниже я оформил образец для твоего удобства, тебе остается только добавить после моего комментария ячейку с типом **Markdown**, скопировать туда код(чтобы увидеть код дважды, кликни на ячейку) из образца и написать свои мысли по поводу комментария."
   ]
  },
  {
   "cell_type": "markdown",
   "metadata": {},
   "source": [
    "<div class=\"alert alert-info\"; style=\"border-left: 7px solid SteelBlue\">\n",
    "<h5>🎓 <font color=\"SteelBlue\">Комментарий от студента (синий)</font></h5>    \n",
    "\n",
    "Напиши здесь свои мысли и идеи по поводу комментария ревьюера.\n",
    "\n",
    "</div>"
   ]
  },
  {
   "cell_type": "markdown",
   "metadata": {},
   "source": [
    "## **Комментарий ревьюера v2**\n",
    "\n",
    "### **Краткое резюме по ревью**\n",
    "<div style=\"border-radius: 15px; box-shadow: 2px 2px 4px; border: 1px solid; background:Gainsboro; padding: 20px\">\n",
    "\n",
    "Молодец, исправлено:\n",
    "- небольшое исправление графиков\n",
    "- пересмотр выводов\n",
    "- исправление ошибки в коде\n",
    "\n",
    "Спасибо тебе за твой труд! Я готов принять работу. Успехов в дальнейшем обучении!\n",
    "\n",
    "</div>"
   ]
  },
  {
   "cell_type": "markdown",
   "metadata": {},
   "source": [
    "# Исследование объявлений о продаже квартир\n",
    "\n",
    "В вашем распоряжении данные сервиса Яндекс.Недвижимость — архив объявлений о продаже квартир в Санкт-Петербурге и соседних населённых пунктов за несколько лет. Нужно научиться определять рыночную стоимость объектов недвижимости. Ваша задача — установить параметры. Это позволит построить автоматизированную систему: она отследит аномалии и мошенническую деятельность. \n",
    "\n",
    "По каждой квартире на продажу доступны два вида данных. Первые вписаны пользователем, вторые — получены автоматически на основе картографических данных. Например, расстояние до центра, аэропорта, ближайшего парка и водоёма. "
   ]
  },
  {
   "cell_type": "markdown",
   "metadata": {},
   "source": [
    "<div class=\"alert alert-warning\"; style=\"border-left: 7px solid Gold\">\n",
    "<h5> ⚠️ <font color=\"DarkGoldenRod\">Комментарий ревьюера (желтый)</font></h5>\n",
    "\n",
    "Спасибо, что есть оглавление в плагине toc. Теперь по проекту удобно перемещаться.\n",
    "    \n",
    "Здорово, что во вступлении к твоему проекту есть\n",
    "\n",
    "- заголовок,\n",
    "\n",
    "- краткое описание проекта,\n",
    "\n",
    "- цель проекта\n",
    "\n",
    "Вступление станет лучше, если ты добавишь в него:\n",
    "\n",
    "- описание данных,\n",
    "\n",
    "- план работы\n",
    "\n",
    "Тогда получатель отчета сможет быстрей его понять.\n",
    "\n",
    "</div>"
   ]
  },
  {
   "cell_type": "markdown",
   "metadata": {},
   "source": [
    "### Откройте файл с данными и изучите общую информацию. "
   ]
  },
  {
   "cell_type": "markdown",
   "metadata": {},
   "source": [
    "<div class=\"alert alert-warning\"; style=\"border-left: 7px solid Gold\">\n",
    "<h5> ⚠️ <font color=\"DarkGoldenRod\">Комментарий ревьюера (желтый)</font></h5>\n",
    "\n",
    "Я вижу, что ячейки в твоей тетрадке начинаются не с 1. Перед отправкой проекта стоит проверять работоспособность кода — это можно сделать, нажав на панели Jupiter Hub ``Kernel`` и ``Restart & Run All`` (см скриншот ниже).\n",
    "\n",
    "![](https://i.postimg.cc/yd19rYf6/Screenshot-428.png)\n",
    "\n",
    "</div>"
   ]
  },
  {
   "cell_type": "code",
   "execution_count": 1,
   "metadata": {},
   "outputs": [],
   "source": [
    "import pandas as pd\n",
    "import matplotlib.pyplot as plt"
   ]
  },
  {
   "cell_type": "markdown",
   "metadata": {},
   "source": [
    "<div class=\"alert alert-success\"; style=\"border-left: 7px solid green\">\n",
    "<h5> ✔️ <font color=\"green\">Комментарий ревьюера (зеленый)</font></h5>\n",
    "\n",
    "Молодец, что загружаешь все библиотеки в начале проекта. Так сложней случайно удалить ячейку с загрузкой нужной библиотеки и сделать код не работающим. А получатель отчета сразу поймет, какие библиотеки ты используешь и какие ему нужно установить для запуска проекта.\n",
    "\n",
    "</div>"
   ]
  },
  {
   "cell_type": "code",
   "execution_count": 2,
   "metadata": {},
   "outputs": [
    {
     "data": {
      "text/html": [
       "<div>\n",
       "<style scoped>\n",
       "    .dataframe tbody tr th:only-of-type {\n",
       "        vertical-align: middle;\n",
       "    }\n",
       "\n",
       "    .dataframe tbody tr th {\n",
       "        vertical-align: top;\n",
       "    }\n",
       "\n",
       "    .dataframe thead th {\n",
       "        text-align: right;\n",
       "    }\n",
       "</style>\n",
       "<table border=\"1\" class=\"dataframe\">\n",
       "  <thead>\n",
       "    <tr style=\"text-align: right;\">\n",
       "      <th></th>\n",
       "      <th>total_images</th>\n",
       "      <th>last_price</th>\n",
       "      <th>total_area</th>\n",
       "      <th>first_day_exposition</th>\n",
       "      <th>rooms</th>\n",
       "      <th>ceiling_height</th>\n",
       "      <th>floors_total</th>\n",
       "      <th>living_area</th>\n",
       "      <th>floor</th>\n",
       "      <th>is_apartment</th>\n",
       "      <th>...</th>\n",
       "      <th>kitchen_area</th>\n",
       "      <th>balcony</th>\n",
       "      <th>locality_name</th>\n",
       "      <th>airports_nearest</th>\n",
       "      <th>cityCenters_nearest</th>\n",
       "      <th>parks_around3000</th>\n",
       "      <th>parks_nearest</th>\n",
       "      <th>ponds_around3000</th>\n",
       "      <th>ponds_nearest</th>\n",
       "      <th>days_exposition</th>\n",
       "    </tr>\n",
       "  </thead>\n",
       "  <tbody>\n",
       "    <tr>\n",
       "      <th>0</th>\n",
       "      <td>20</td>\n",
       "      <td>13000000.0</td>\n",
       "      <td>108.0</td>\n",
       "      <td>2019-03-07T00:00:00</td>\n",
       "      <td>3</td>\n",
       "      <td>2.70</td>\n",
       "      <td>16.0</td>\n",
       "      <td>51.0</td>\n",
       "      <td>8</td>\n",
       "      <td>NaN</td>\n",
       "      <td>...</td>\n",
       "      <td>25.0</td>\n",
       "      <td>NaN</td>\n",
       "      <td>Санкт-Петербург</td>\n",
       "      <td>18863.0</td>\n",
       "      <td>16028.0</td>\n",
       "      <td>1.0</td>\n",
       "      <td>482.0</td>\n",
       "      <td>2.0</td>\n",
       "      <td>755.0</td>\n",
       "      <td>NaN</td>\n",
       "    </tr>\n",
       "    <tr>\n",
       "      <th>1</th>\n",
       "      <td>7</td>\n",
       "      <td>3350000.0</td>\n",
       "      <td>40.4</td>\n",
       "      <td>2018-12-04T00:00:00</td>\n",
       "      <td>1</td>\n",
       "      <td>NaN</td>\n",
       "      <td>11.0</td>\n",
       "      <td>18.6</td>\n",
       "      <td>1</td>\n",
       "      <td>NaN</td>\n",
       "      <td>...</td>\n",
       "      <td>11.0</td>\n",
       "      <td>2.0</td>\n",
       "      <td>посёлок Шушары</td>\n",
       "      <td>12817.0</td>\n",
       "      <td>18603.0</td>\n",
       "      <td>0.0</td>\n",
       "      <td>NaN</td>\n",
       "      <td>0.0</td>\n",
       "      <td>NaN</td>\n",
       "      <td>81.0</td>\n",
       "    </tr>\n",
       "    <tr>\n",
       "      <th>2</th>\n",
       "      <td>10</td>\n",
       "      <td>5196000.0</td>\n",
       "      <td>56.0</td>\n",
       "      <td>2015-08-20T00:00:00</td>\n",
       "      <td>2</td>\n",
       "      <td>NaN</td>\n",
       "      <td>5.0</td>\n",
       "      <td>34.3</td>\n",
       "      <td>4</td>\n",
       "      <td>NaN</td>\n",
       "      <td>...</td>\n",
       "      <td>8.3</td>\n",
       "      <td>0.0</td>\n",
       "      <td>Санкт-Петербург</td>\n",
       "      <td>21741.0</td>\n",
       "      <td>13933.0</td>\n",
       "      <td>1.0</td>\n",
       "      <td>90.0</td>\n",
       "      <td>2.0</td>\n",
       "      <td>574.0</td>\n",
       "      <td>558.0</td>\n",
       "    </tr>\n",
       "    <tr>\n",
       "      <th>3</th>\n",
       "      <td>0</td>\n",
       "      <td>64900000.0</td>\n",
       "      <td>159.0</td>\n",
       "      <td>2015-07-24T00:00:00</td>\n",
       "      <td>3</td>\n",
       "      <td>NaN</td>\n",
       "      <td>14.0</td>\n",
       "      <td>NaN</td>\n",
       "      <td>9</td>\n",
       "      <td>NaN</td>\n",
       "      <td>...</td>\n",
       "      <td>NaN</td>\n",
       "      <td>0.0</td>\n",
       "      <td>Санкт-Петербург</td>\n",
       "      <td>28098.0</td>\n",
       "      <td>6800.0</td>\n",
       "      <td>2.0</td>\n",
       "      <td>84.0</td>\n",
       "      <td>3.0</td>\n",
       "      <td>234.0</td>\n",
       "      <td>424.0</td>\n",
       "    </tr>\n",
       "    <tr>\n",
       "      <th>4</th>\n",
       "      <td>2</td>\n",
       "      <td>10000000.0</td>\n",
       "      <td>100.0</td>\n",
       "      <td>2018-06-19T00:00:00</td>\n",
       "      <td>2</td>\n",
       "      <td>3.03</td>\n",
       "      <td>14.0</td>\n",
       "      <td>32.0</td>\n",
       "      <td>13</td>\n",
       "      <td>NaN</td>\n",
       "      <td>...</td>\n",
       "      <td>41.0</td>\n",
       "      <td>NaN</td>\n",
       "      <td>Санкт-Петербург</td>\n",
       "      <td>31856.0</td>\n",
       "      <td>8098.0</td>\n",
       "      <td>2.0</td>\n",
       "      <td>112.0</td>\n",
       "      <td>1.0</td>\n",
       "      <td>48.0</td>\n",
       "      <td>121.0</td>\n",
       "    </tr>\n",
       "  </tbody>\n",
       "</table>\n",
       "<p>5 rows × 22 columns</p>\n",
       "</div>"
      ],
      "text/plain": [
       "   total_images  last_price  total_area first_day_exposition  rooms  \\\n",
       "0            20  13000000.0       108.0  2019-03-07T00:00:00      3   \n",
       "1             7   3350000.0        40.4  2018-12-04T00:00:00      1   \n",
       "2            10   5196000.0        56.0  2015-08-20T00:00:00      2   \n",
       "3             0  64900000.0       159.0  2015-07-24T00:00:00      3   \n",
       "4             2  10000000.0       100.0  2018-06-19T00:00:00      2   \n",
       "\n",
       "   ceiling_height  floors_total  living_area  floor is_apartment  ...  \\\n",
       "0            2.70          16.0         51.0      8          NaN  ...   \n",
       "1             NaN          11.0         18.6      1          NaN  ...   \n",
       "2             NaN           5.0         34.3      4          NaN  ...   \n",
       "3             NaN          14.0          NaN      9          NaN  ...   \n",
       "4            3.03          14.0         32.0     13          NaN  ...   \n",
       "\n",
       "   kitchen_area  balcony    locality_name  airports_nearest  \\\n",
       "0          25.0      NaN  Санкт-Петербург           18863.0   \n",
       "1          11.0      2.0   посёлок Шушары           12817.0   \n",
       "2           8.3      0.0  Санкт-Петербург           21741.0   \n",
       "3           NaN      0.0  Санкт-Петербург           28098.0   \n",
       "4          41.0      NaN  Санкт-Петербург           31856.0   \n",
       "\n",
       "  cityCenters_nearest  parks_around3000  parks_nearest  ponds_around3000  \\\n",
       "0             16028.0               1.0          482.0               2.0   \n",
       "1             18603.0               0.0            NaN               0.0   \n",
       "2             13933.0               1.0           90.0               2.0   \n",
       "3              6800.0               2.0           84.0               3.0   \n",
       "4              8098.0               2.0          112.0               1.0   \n",
       "\n",
       "   ponds_nearest  days_exposition  \n",
       "0          755.0              NaN  \n",
       "1            NaN             81.0  \n",
       "2          574.0            558.0  \n",
       "3          234.0            424.0  \n",
       "4           48.0            121.0  \n",
       "\n",
       "[5 rows x 22 columns]"
      ]
     },
     "execution_count": 2,
     "metadata": {},
     "output_type": "execute_result"
    }
   ],
   "source": [
    "try: \n",
    "    data = pd.read_csv(\"real_estate_data.csv\", sep='\\t')\n",
    "except:\n",
    "    data = pd.read_csv(\"/datasets/real_estate_data.csv\", sep='\\t')\n",
    "data.head(5)"
   ]
  },
  {
   "cell_type": "markdown",
   "metadata": {},
   "source": [
    "<div class=\"alert alert-success\"; style=\"border-left: 7px solid green\">\n",
    "<h5> ✔️ <font color=\"green\">v2 Комментарий ревьюера (зеленый)</font></h5>\n",
    "\n",
    "✅ Супер, код стал универсальнее 👍\n",
    " \n",
    "</div>"
   ]
  },
  {
   "cell_type": "markdown",
   "metadata": {},
   "source": [
    "<div class=\"alert alert-success\"; style=\"border-left: 7px solid green\">\n",
    "<h5> ✔️ <font color=\"green\">Комментарий ревьюера (зеленый)</font></h5>\n",
    "\n",
    "Все хорошо, хочу дать рекомендацию. При выводе df.head() можно увидеть, что часть столбцов заменилась на «...»\n",
    "    \n",
    "Чтобы это поправить можно поправить настройки pandas:\n",
    "    \n",
    "```python\n",
    "pd.set_option('display.max_columns', 50) \n",
    "```\n",
    "\n",
    "</div>"
   ]
  },
  {
   "cell_type": "markdown",
   "metadata": {},
   "source": [
    "Выведем основную информацию о датафрейме"
   ]
  },
  {
   "cell_type": "code",
   "execution_count": 3,
   "metadata": {},
   "outputs": [
    {
     "name": "stdout",
     "output_type": "stream",
     "text": [
      "<class 'pandas.core.frame.DataFrame'>\n",
      "RangeIndex: 23699 entries, 0 to 23698\n",
      "Data columns (total 22 columns):\n",
      " #   Column                Non-Null Count  Dtype  \n",
      "---  ------                --------------  -----  \n",
      " 0   total_images          23699 non-null  int64  \n",
      " 1   last_price            23699 non-null  float64\n",
      " 2   total_area            23699 non-null  float64\n",
      " 3   first_day_exposition  23699 non-null  object \n",
      " 4   rooms                 23699 non-null  int64  \n",
      " 5   ceiling_height        14504 non-null  float64\n",
      " 6   floors_total          23613 non-null  float64\n",
      " 7   living_area           21796 non-null  float64\n",
      " 8   floor                 23699 non-null  int64  \n",
      " 9   is_apartment          2775 non-null   object \n",
      " 10  studio                23699 non-null  bool   \n",
      " 11  open_plan             23699 non-null  bool   \n",
      " 12  kitchen_area          21421 non-null  float64\n",
      " 13  balcony               12180 non-null  float64\n",
      " 14  locality_name         23650 non-null  object \n",
      " 15  airports_nearest      18157 non-null  float64\n",
      " 16  cityCenters_nearest   18180 non-null  float64\n",
      " 17  parks_around3000      18181 non-null  float64\n",
      " 18  parks_nearest         8079 non-null   float64\n",
      " 19  ponds_around3000      18181 non-null  float64\n",
      " 20  ponds_nearest         9110 non-null   float64\n",
      " 21  days_exposition       20518 non-null  float64\n",
      "dtypes: bool(2), float64(14), int64(3), object(3)\n",
      "memory usage: 3.7+ MB\n"
     ]
    }
   ],
   "source": [
    "data.info()"
   ]
  },
  {
   "cell_type": "markdown",
   "metadata": {},
   "source": [
    "Построим гистограмму всех числовых столбцов таблицы на одном графике"
   ]
  },
  {
   "cell_type": "code",
   "execution_count": 4,
   "metadata": {},
   "outputs": [
    {
     "data": {
      "image/png": "[encoded data removed]",
      "text/plain": [
       "<Figure size 1080x1440 with 20 Axes>"
      ]
     },
     "metadata": {
      "needs_background": "light"
     },
     "output_type": "display_data"
    }
   ],
   "source": [
    "data.hist(figsize=(15, 20))\n",
    "None"
   ]
  },
  {
   "cell_type": "markdown",
   "metadata": {},
   "source": [
    "<div class=\"alert alert-success\"; style=\"border-left: 7px solid green\">\n",
    "<h5> ✔️ <font color=\"green\">Комментарий ревьюера (зеленый)</font></h5>\n",
    "\n",
    "Отлично, построены гистограммы по всем столбцам!\n",
    "\n",
    "Вывод перед графиком немного мешает. Он выводится так как jupyter notebook выводит на экран информацию об объекте в последней строке, чтобы этого не было, можно в конец добавить None, эти непонятные строки выводиться не будут. Показал в примере ниже.\n",
    "\n",
    "</div>"
   ]
  },
  {
   "cell_type": "code",
   "execution_count": 5,
   "metadata": {},
   "outputs": [
    {
     "data": {
      "image/png": "[encoded data removed]",
      "text/plain": [
       "<Figure size 1080x1440 with 20 Axes>"
      ]
     },
     "metadata": {
      "needs_background": "light"
     },
     "output_type": "display_data"
    }
   ],
   "source": [
    "# Код ревьюера\n",
    "\n",
    "data.hist(figsize=(15, 20))\n",
    "None"
   ]
  },
  {
   "cell_type": "markdown",
   "metadata": {},
   "source": [
    "### Предобработка данных"
   ]
  },
  {
   "cell_type": "markdown",
   "metadata": {},
   "source": [
    "Для начала выясним количество пропуском в каждом из столбцов"
   ]
  },
  {
   "cell_type": "code",
   "execution_count": 6,
   "metadata": {},
   "outputs": [
    {
     "data": {
      "text/plain": [
       "total_images                0\n",
       "last_price                  0\n",
       "total_area                  0\n",
       "first_day_exposition        0\n",
       "rooms                       0\n",
       "ceiling_height           9195\n",
       "floors_total               86\n",
       "living_area              1903\n",
       "floor                       0\n",
       "is_apartment            20924\n",
       "studio                      0\n",
       "open_plan                   0\n",
       "kitchen_area             2278\n",
       "balcony                 11519\n",
       "locality_name              49\n",
       "airports_nearest         5542\n",
       "cityCenters_nearest      5519\n",
       "parks_around3000         5518\n",
       "parks_nearest           15620\n",
       "ponds_around3000         5518\n",
       "ponds_nearest           14589\n",
       "days_exposition          3181\n",
       "dtype: int64"
      ]
     },
     "execution_count": 6,
     "metadata": {},
     "output_type": "execute_result"
    }
   ],
   "source": [
    "data.isna().sum()"
   ]
  },
  {
   "cell_type": "markdown",
   "metadata": {},
   "source": [
    "<div class=\"alert alert-warning\"; style=\"border-left: 7px solid Gold\">\n",
    "<h5> ⚠️ <font color=\"DarkGoldenRod\">Комментарий ревьюера (желтый)</font></h5>\n",
    "\n",
    "Были оценены потери, это очень важно сделать перед тем, как избавляться от данных.\n",
    "    \n",
    "Можно еще посчитать процент пропущенных данных по каждому столбцу.\n",
    "\n",
    "</div>"
   ]
  },
  {
   "cell_type": "markdown",
   "metadata": {},
   "source": [
    "- Как видно из вывода, пропущенные значения содержатся в `ceiling_height`, `floors_total`, `living_area`, `is_apartament`, `kitchen_area`, `balcony`, `locality_name`, `airports_nearest`, `cityCenters_nearest`, `parks_around3000`, `parks_nearest`, `ponds_around3000`, `ponds_nearest`, `days_exposition`\n",
    "- Не все причины появления пропущенных значений очевидны, но, наверное, можно выделить то, что вполне можно объяснить:\n",
    ">- `ceiling_height` корее всего не все квартиры указали свою высоту потолков, так как это не очень обязательная информация\n",
    ">- `floors_total` здесь тяжело сказать сразу причину пропусков, возможно так же многие владельцы посчитали информацию не обязательной\n",
    ">- `living_area` здесь скорее всего владельцы посчитали информацию не обязательной\n",
    ">- `is_apartament` скорее всего эти квартиры не апартаменты, потому владельцы не указали\n",
    ">- `kitchen_area` возможно квартира является квартирой студией, где непонятно, как посчитать площадь кухни\n",
    ">- `balcony` вероятно в данных квартирах просто нет балкона\n",
    ">- `locality_name` с ходу не понятна причина пропусков\n",
    ">- `airports_nearest` я думаю просто нет аэропортов поблизости\n",
    ">- `cityCenters_nearest` возможно квартиры находятся в населенных пунктах, где не понятно расположение центра\n",
    ">- `parks_around3000` я думаю просто нет парков поблизости\n",
    ">- `parks_nearest` я думаю причина схожа с предыдущей\n",
    ">- `ponds_around3000` я думаю причина схожа с парками\n",
    ">- `ponds_nearest` я думаю причина схожа с парками\n",
    ">- `days_exposition` вероятно причина в том, что объявления до сих пор активны"
   ]
  },
  {
   "cell_type": "markdown",
   "metadata": {},
   "source": [
    "<div class=\"alert alert-success\"; style=\"border-left: 7px solid green\">\n",
    "<h5> ✔️ <font color=\"green\">Комментарий ревьюера (зеленый)</font></h5>\n",
    "\n",
    "Хороший, красиво оформленный, промежуточный вывод, сразу понятно, что будет далее в предобработке.\n",
    "\n",
    "</div>"
   ]
  },
  {
   "cell_type": "markdown",
   "metadata": {},
   "source": [
    "Нужно переименовать столбец `cityCenters_nearest` так как здесь перемешанны camelCase и snake_case, что неверно"
   ]
  },
  {
   "cell_type": "code",
   "execution_count": 7,
   "metadata": {},
   "outputs": [
    {
     "data": {
      "text/plain": [
       "Index(['total_images', 'last_price', 'total_area', 'first_day_exposition',\n",
       "       'rooms', 'ceiling_height', 'floors_total', 'living_area', 'floor',\n",
       "       'is_apartment', 'studio', 'open_plan', 'kitchen_area', 'balcony',\n",
       "       'locality_name', 'airports_nearest', 'city_centers_nearest',\n",
       "       'parks_around3000', 'parks_nearest', 'ponds_around3000',\n",
       "       'ponds_nearest', 'days_exposition'],\n",
       "      dtype='object')"
      ]
     },
     "execution_count": 7,
     "metadata": {},
     "output_type": "execute_result"
    }
   ],
   "source": [
    "data = data.rename(columns = {\"cityCenters_nearest\" : \"city_centers_nearest\"})\n",
    "data.columns"
   ]
  },
  {
   "cell_type": "markdown",
   "metadata": {},
   "source": [
    "Заполним пропущенные значения, там, где это возможно"
   ]
  },
  {
   "cell_type": "code",
   "execution_count": 8,
   "metadata": {},
   "outputs": [],
   "source": [
    "data['is_apartment'] = data['is_apartment'].fillna(False)\n",
    "data['balcony'] = data['balcony'].fillna(0)"
   ]
  },
  {
   "cell_type": "markdown",
   "metadata": {},
   "source": [
    "Пропуски по паркам и водоемам проверим следующим образов, выведем несколько таких строк, если окажется, что расстояние до ближайшего парка / водоема > 3000 метров, то очевидно, почему данное значение пропущено"
   ]
  },
  {
   "cell_type": "code",
   "execution_count": 9,
   "metadata": {},
   "outputs": [
    {
     "data": {
      "text/html": [
       "<div>\n",
       "<style scoped>\n",
       "    .dataframe tbody tr th:only-of-type {\n",
       "        vertical-align: middle;\n",
       "    }\n",
       "\n",
       "    .dataframe tbody tr th {\n",
       "        vertical-align: top;\n",
       "    }\n",
       "\n",
       "    .dataframe thead th {\n",
       "        text-align: right;\n",
       "    }\n",
       "</style>\n",
       "<table border=\"1\" class=\"dataframe\">\n",
       "  <thead>\n",
       "    <tr style=\"text-align: right;\">\n",
       "      <th></th>\n",
       "      <th>total_images</th>\n",
       "      <th>last_price</th>\n",
       "      <th>total_area</th>\n",
       "      <th>first_day_exposition</th>\n",
       "      <th>rooms</th>\n",
       "      <th>ceiling_height</th>\n",
       "      <th>floors_total</th>\n",
       "      <th>living_area</th>\n",
       "      <th>floor</th>\n",
       "      <th>is_apartment</th>\n",
       "      <th>...</th>\n",
       "      <th>kitchen_area</th>\n",
       "      <th>balcony</th>\n",
       "      <th>locality_name</th>\n",
       "      <th>airports_nearest</th>\n",
       "      <th>city_centers_nearest</th>\n",
       "      <th>parks_around3000</th>\n",
       "      <th>parks_nearest</th>\n",
       "      <th>ponds_around3000</th>\n",
       "      <th>ponds_nearest</th>\n",
       "      <th>days_exposition</th>\n",
       "    </tr>\n",
       "  </thead>\n",
       "  <tbody>\n",
       "    <tr>\n",
       "      <th>1</th>\n",
       "      <td>7</td>\n",
       "      <td>3350000.0</td>\n",
       "      <td>40.4</td>\n",
       "      <td>2018-12-04T00:00:00</td>\n",
       "      <td>1</td>\n",
       "      <td>NaN</td>\n",
       "      <td>11.0</td>\n",
       "      <td>18.6</td>\n",
       "      <td>1</td>\n",
       "      <td>False</td>\n",
       "      <td>...</td>\n",
       "      <td>11.0</td>\n",
       "      <td>2.0</td>\n",
       "      <td>посёлок Шушары</td>\n",
       "      <td>12817.0</td>\n",
       "      <td>18603.0</td>\n",
       "      <td>0.0</td>\n",
       "      <td>NaN</td>\n",
       "      <td>0.0</td>\n",
       "      <td>NaN</td>\n",
       "      <td>81.0</td>\n",
       "    </tr>\n",
       "    <tr>\n",
       "      <th>6</th>\n",
       "      <td>6</td>\n",
       "      <td>3700000.0</td>\n",
       "      <td>37.3</td>\n",
       "      <td>2017-11-02T00:00:00</td>\n",
       "      <td>1</td>\n",
       "      <td>NaN</td>\n",
       "      <td>26.0</td>\n",
       "      <td>10.6</td>\n",
       "      <td>6</td>\n",
       "      <td>False</td>\n",
       "      <td>...</td>\n",
       "      <td>14.4</td>\n",
       "      <td>1.0</td>\n",
       "      <td>посёлок Парголово</td>\n",
       "      <td>52996.0</td>\n",
       "      <td>19143.0</td>\n",
       "      <td>0.0</td>\n",
       "      <td>NaN</td>\n",
       "      <td>0.0</td>\n",
       "      <td>NaN</td>\n",
       "      <td>155.0</td>\n",
       "    </tr>\n",
       "    <tr>\n",
       "      <th>7</th>\n",
       "      <td>5</td>\n",
       "      <td>7915000.0</td>\n",
       "      <td>71.6</td>\n",
       "      <td>2019-04-18T00:00:00</td>\n",
       "      <td>2</td>\n",
       "      <td>NaN</td>\n",
       "      <td>24.0</td>\n",
       "      <td>NaN</td>\n",
       "      <td>22</td>\n",
       "      <td>False</td>\n",
       "      <td>...</td>\n",
       "      <td>18.9</td>\n",
       "      <td>2.0</td>\n",
       "      <td>Санкт-Петербург</td>\n",
       "      <td>23982.0</td>\n",
       "      <td>11634.0</td>\n",
       "      <td>0.0</td>\n",
       "      <td>NaN</td>\n",
       "      <td>0.0</td>\n",
       "      <td>NaN</td>\n",
       "      <td>NaN</td>\n",
       "    </tr>\n",
       "  </tbody>\n",
       "</table>\n",
       "<p>3 rows × 22 columns</p>\n",
       "</div>"
      ],
      "text/plain": [
       "   total_images  last_price  total_area first_day_exposition  rooms  \\\n",
       "1             7   3350000.0        40.4  2018-12-04T00:00:00      1   \n",
       "6             6   3700000.0        37.3  2017-11-02T00:00:00      1   \n",
       "7             5   7915000.0        71.6  2019-04-18T00:00:00      2   \n",
       "\n",
       "   ceiling_height  floors_total  living_area  floor  is_apartment  ...  \\\n",
       "1             NaN          11.0         18.6      1         False  ...   \n",
       "6             NaN          26.0         10.6      6         False  ...   \n",
       "7             NaN          24.0          NaN     22         False  ...   \n",
       "\n",
       "   kitchen_area  balcony      locality_name  airports_nearest  \\\n",
       "1          11.0      2.0     посёлок Шушары           12817.0   \n",
       "6          14.4      1.0  посёлок Парголово           52996.0   \n",
       "7          18.9      2.0    Санкт-Петербург           23982.0   \n",
       "\n",
       "  city_centers_nearest  parks_around3000  parks_nearest  ponds_around3000  \\\n",
       "1              18603.0               0.0            NaN               0.0   \n",
       "6              19143.0               0.0            NaN               0.0   \n",
       "7              11634.0               0.0            NaN               0.0   \n",
       "\n",
       "   ponds_nearest  days_exposition  \n",
       "1            NaN             81.0  \n",
       "6            NaN            155.0  \n",
       "7            NaN              NaN  \n",
       "\n",
       "[3 rows x 22 columns]"
      ]
     },
     "execution_count": 9,
     "metadata": {},
     "output_type": "execute_result"
    }
   ],
   "source": [
    "data[(~data['parks_around3000'].isna()) & (data['parks_nearest'].isna())].head(3)"
   ]
  },
  {
   "cell_type": "markdown",
   "metadata": {},
   "source": [
    "Этот вывод очевиден, но стоит проверить наличие строк, где число парков в радиусе 3км - ненулевое количество, аналогично проделаем с водоемами. Если выведет 0 строк, то все в порядке"
   ]
  },
  {
   "cell_type": "code",
   "execution_count": 10,
   "metadata": {},
   "outputs": [
    {
     "data": {
      "text/plain": [
       "(0, 22)"
      ]
     },
     "execution_count": 10,
     "metadata": {},
     "output_type": "execute_result"
    }
   ],
   "source": [
    "data[(data['parks_around3000'].isna()) & (~data['parks_nearest'].isna())].shape"
   ]
  },
  {
   "cell_type": "code",
   "execution_count": 11,
   "metadata": {},
   "outputs": [
    {
     "data": {
      "text/plain": [
       "(0, 22)"
      ]
     },
     "execution_count": 11,
     "metadata": {},
     "output_type": "execute_result"
    }
   ],
   "source": [
    "data[(data['ponds_around3000'].isna()) & (~data['ponds_nearest'].isna())].shape"
   ]
  },
  {
   "cell_type": "markdown",
   "metadata": {},
   "source": [
    "Как и предполагалось, значения расстояния до ближайшего парка является пропущенным значением из-за того, что нет парков ближе 3км, оставим пропуски на своем месте, так как нельзя установить случайное значение(0 например или > 3000). Аналогично с водоемами"
   ]
  },
  {
   "cell_type": "markdown",
   "metadata": {},
   "source": [
    "Можно проверить гипотезу на то, что если в квартире не указана площадь кухни, то это квартира студия"
   ]
  },
  {
   "cell_type": "code",
   "execution_count": 12,
   "metadata": {},
   "outputs": [
    {
     "data": {
      "text/plain": [
       "0"
      ]
     },
     "execution_count": 12,
     "metadata": {},
     "output_type": "execute_result"
    }
   ],
   "source": [
    "data[data['studio'] & (~data['kitchen_area'].isna())].shape[0]"
   ]
  },
  {
   "cell_type": "markdown",
   "metadata": {},
   "source": [
    "Еще одно подтверждение гипотезы, не существует квартир-студий, где указана площадь кухни. Для удобства заполним пропущенные значения нулевым значением"
   ]
  },
  {
   "cell_type": "code",
   "execution_count": 13,
   "metadata": {},
   "outputs": [],
   "source": [
    "data['kitchen_area'] = data['kitchen_area'].fillna(0)"
   ]
  },
  {
   "cell_type": "markdown",
   "metadata": {},
   "source": [
    "<div class=\"alert alert-success\"; style=\"border-left: 7px solid green\">\n",
    "<h5> ✔️ <font color=\"green\">Комментарий ревьюера (зеленый)</font></h5>\n",
    "\n",
    "Пропуски заполнены корректно 😃\n",
    "\n",
    "</div>"
   ]
  },
  {
   "cell_type": "markdown",
   "metadata": {},
   "source": [
    "Приступим к поиску явных и неявных дубликатов"
   ]
  },
  {
   "cell_type": "code",
   "execution_count": 14,
   "metadata": {},
   "outputs": [
    {
     "name": "stdout",
     "output_type": "stream",
     "text": [
      "23699\n"
     ]
    },
    {
     "data": {
      "text/plain": [
       "23699"
      ]
     },
     "execution_count": 14,
     "metadata": {},
     "output_type": "execute_result"
    }
   ],
   "source": [
    "print(data.shape[0])\n",
    "data = data.drop_duplicates()\n",
    "data.shape[0]"
   ]
  },
  {
   "cell_type": "markdown",
   "metadata": {},
   "source": [
    "Как видно, явных дубликатов нет"
   ]
  },
  {
   "cell_type": "code",
   "execution_count": 15,
   "metadata": {},
   "outputs": [
    {
     "name": "stdout",
     "output_type": "stream",
     "text": [
      "<class 'pandas.core.frame.DataFrame'>\n",
      "Int64Index: 23699 entries, 0 to 23698\n",
      "Data columns (total 22 columns):\n",
      " #   Column                Non-Null Count  Dtype  \n",
      "---  ------                --------------  -----  \n",
      " 0   total_images          23699 non-null  int64  \n",
      " 1   last_price            23699 non-null  float64\n",
      " 2   total_area            23699 non-null  float64\n",
      " 3   first_day_exposition  23699 non-null  object \n",
      " 4   rooms                 23699 non-null  int64  \n",
      " 5   ceiling_height        14504 non-null  float64\n",
      " 6   floors_total          23613 non-null  float64\n",
      " 7   living_area           21796 non-null  float64\n",
      " 8   floor                 23699 non-null  int64  \n",
      " 9   is_apartment          23699 non-null  bool   \n",
      " 10  studio                23699 non-null  bool   \n",
      " 11  open_plan             23699 non-null  bool   \n",
      " 12  kitchen_area          23699 non-null  float64\n",
      " 13  balcony               23699 non-null  float64\n",
      " 14  locality_name         23650 non-null  object \n",
      " 15  airports_nearest      18157 non-null  float64\n",
      " 16  city_centers_nearest  18180 non-null  float64\n",
      " 17  parks_around3000      18181 non-null  float64\n",
      " 18  parks_nearest         8079 non-null   float64\n",
      " 19  ponds_around3000      18181 non-null  float64\n",
      " 20  ponds_nearest         9110 non-null   float64\n",
      " 21  days_exposition       20518 non-null  float64\n",
      "dtypes: bool(3), float64(14), int64(3), object(2)\n",
      "memory usage: 3.7+ MB\n"
     ]
    }
   ],
   "source": [
    "data.info()"
   ]
  },
  {
   "cell_type": "markdown",
   "metadata": {},
   "source": [
    "Приведем к нужному типу некоторые данные, например колонку `first_day_exposition` приведем к дате, `is_apartment` приведем к Boolean"
   ]
  },
  {
   "cell_type": "code",
   "execution_count": 16,
   "metadata": {},
   "outputs": [],
   "source": [
    "data['is_apartment'] = data['is_apartment'].astype('bool')"
   ]
  },
  {
   "cell_type": "code",
   "execution_count": 17,
   "metadata": {},
   "outputs": [],
   "source": [
    "data['first_day_exposition'] = pd.to_datetime(data['first_day_exposition'], format = '%Y-%m-%dT%H:%M:%S')"
   ]
  },
  {
   "cell_type": "markdown",
   "metadata": {},
   "source": [
    "<div class=\"alert alert-success\"; style=\"border-left: 7px solid green\">\n",
    "<h5> ✔️ <font color=\"green\">Комментарий ревьюера (зеленый)</font></h5>\n",
    "\n",
    "Хорошо, что преобразования типов все в одном месте.\n",
    "\n",
    "</div>"
   ]
  },
  {
   "cell_type": "markdown",
   "metadata": {},
   "source": [
    "Теперь выведем таблицу с принятыми измененими"
   ]
  },
  {
   "cell_type": "code",
   "execution_count": 18,
   "metadata": {},
   "outputs": [
    {
     "data": {
      "text/html": [
       "<div>\n",
       "<style scoped>\n",
       "    .dataframe tbody tr th:only-of-type {\n",
       "        vertical-align: middle;\n",
       "    }\n",
       "\n",
       "    .dataframe tbody tr th {\n",
       "        vertical-align: top;\n",
       "    }\n",
       "\n",
       "    .dataframe thead th {\n",
       "        text-align: right;\n",
       "    }\n",
       "</style>\n",
       "<table border=\"1\" class=\"dataframe\">\n",
       "  <thead>\n",
       "    <tr style=\"text-align: right;\">\n",
       "      <th></th>\n",
       "      <th>total_images</th>\n",
       "      <th>last_price</th>\n",
       "      <th>total_area</th>\n",
       "      <th>first_day_exposition</th>\n",
       "      <th>rooms</th>\n",
       "      <th>ceiling_height</th>\n",
       "      <th>floors_total</th>\n",
       "      <th>living_area</th>\n",
       "      <th>floor</th>\n",
       "      <th>is_apartment</th>\n",
       "      <th>...</th>\n",
       "      <th>kitchen_area</th>\n",
       "      <th>balcony</th>\n",
       "      <th>locality_name</th>\n",
       "      <th>airports_nearest</th>\n",
       "      <th>city_centers_nearest</th>\n",
       "      <th>parks_around3000</th>\n",
       "      <th>parks_nearest</th>\n",
       "      <th>ponds_around3000</th>\n",
       "      <th>ponds_nearest</th>\n",
       "      <th>days_exposition</th>\n",
       "    </tr>\n",
       "  </thead>\n",
       "  <tbody>\n",
       "    <tr>\n",
       "      <th>0</th>\n",
       "      <td>20</td>\n",
       "      <td>13000000.0</td>\n",
       "      <td>108.0</td>\n",
       "      <td>2019-03-07</td>\n",
       "      <td>3</td>\n",
       "      <td>2.70</td>\n",
       "      <td>16.0</td>\n",
       "      <td>51.0</td>\n",
       "      <td>8</td>\n",
       "      <td>False</td>\n",
       "      <td>...</td>\n",
       "      <td>25.0</td>\n",
       "      <td>0.0</td>\n",
       "      <td>Санкт-Петербург</td>\n",
       "      <td>18863.0</td>\n",
       "      <td>16028.0</td>\n",
       "      <td>1.0</td>\n",
       "      <td>482.0</td>\n",
       "      <td>2.0</td>\n",
       "      <td>755.0</td>\n",
       "      <td>NaN</td>\n",
       "    </tr>\n",
       "    <tr>\n",
       "      <th>1</th>\n",
       "      <td>7</td>\n",
       "      <td>3350000.0</td>\n",
       "      <td>40.4</td>\n",
       "      <td>2018-12-04</td>\n",
       "      <td>1</td>\n",
       "      <td>NaN</td>\n",
       "      <td>11.0</td>\n",
       "      <td>18.6</td>\n",
       "      <td>1</td>\n",
       "      <td>False</td>\n",
       "      <td>...</td>\n",
       "      <td>11.0</td>\n",
       "      <td>2.0</td>\n",
       "      <td>посёлок Шушары</td>\n",
       "      <td>12817.0</td>\n",
       "      <td>18603.0</td>\n",
       "      <td>0.0</td>\n",
       "      <td>NaN</td>\n",
       "      <td>0.0</td>\n",
       "      <td>NaN</td>\n",
       "      <td>81.0</td>\n",
       "    </tr>\n",
       "    <tr>\n",
       "      <th>2</th>\n",
       "      <td>10</td>\n",
       "      <td>5196000.0</td>\n",
       "      <td>56.0</td>\n",
       "      <td>2015-08-20</td>\n",
       "      <td>2</td>\n",
       "      <td>NaN</td>\n",
       "      <td>5.0</td>\n",
       "      <td>34.3</td>\n",
       "      <td>4</td>\n",
       "      <td>False</td>\n",
       "      <td>...</td>\n",
       "      <td>8.3</td>\n",
       "      <td>0.0</td>\n",
       "      <td>Санкт-Петербург</td>\n",
       "      <td>21741.0</td>\n",
       "      <td>13933.0</td>\n",
       "      <td>1.0</td>\n",
       "      <td>90.0</td>\n",
       "      <td>2.0</td>\n",
       "      <td>574.0</td>\n",
       "      <td>558.0</td>\n",
       "    </tr>\n",
       "    <tr>\n",
       "      <th>3</th>\n",
       "      <td>0</td>\n",
       "      <td>64900000.0</td>\n",
       "      <td>159.0</td>\n",
       "      <td>2015-07-24</td>\n",
       "      <td>3</td>\n",
       "      <td>NaN</td>\n",
       "      <td>14.0</td>\n",
       "      <td>NaN</td>\n",
       "      <td>9</td>\n",
       "      <td>False</td>\n",
       "      <td>...</td>\n",
       "      <td>0.0</td>\n",
       "      <td>0.0</td>\n",
       "      <td>Санкт-Петербург</td>\n",
       "      <td>28098.0</td>\n",
       "      <td>6800.0</td>\n",
       "      <td>2.0</td>\n",
       "      <td>84.0</td>\n",
       "      <td>3.0</td>\n",
       "      <td>234.0</td>\n",
       "      <td>424.0</td>\n",
       "    </tr>\n",
       "    <tr>\n",
       "      <th>4</th>\n",
       "      <td>2</td>\n",
       "      <td>10000000.0</td>\n",
       "      <td>100.0</td>\n",
       "      <td>2018-06-19</td>\n",
       "      <td>2</td>\n",
       "      <td>3.03</td>\n",
       "      <td>14.0</td>\n",
       "      <td>32.0</td>\n",
       "      <td>13</td>\n",
       "      <td>False</td>\n",
       "      <td>...</td>\n",
       "      <td>41.0</td>\n",
       "      <td>0.0</td>\n",
       "      <td>Санкт-Петербург</td>\n",
       "      <td>31856.0</td>\n",
       "      <td>8098.0</td>\n",
       "      <td>2.0</td>\n",
       "      <td>112.0</td>\n",
       "      <td>1.0</td>\n",
       "      <td>48.0</td>\n",
       "      <td>121.0</td>\n",
       "    </tr>\n",
       "  </tbody>\n",
       "</table>\n",
       "<p>5 rows × 22 columns</p>\n",
       "</div>"
      ],
      "text/plain": [
       "   total_images  last_price  total_area first_day_exposition  rooms  \\\n",
       "0            20  13000000.0       108.0           2019-03-07      3   \n",
       "1             7   3350000.0        40.4           2018-12-04      1   \n",
       "2            10   5196000.0        56.0           2015-08-20      2   \n",
       "3             0  64900000.0       159.0           2015-07-24      3   \n",
       "4             2  10000000.0       100.0           2018-06-19      2   \n",
       "\n",
       "   ceiling_height  floors_total  living_area  floor  is_apartment  ...  \\\n",
       "0            2.70          16.0         51.0      8         False  ...   \n",
       "1             NaN          11.0         18.6      1         False  ...   \n",
       "2             NaN           5.0         34.3      4         False  ...   \n",
       "3             NaN          14.0          NaN      9         False  ...   \n",
       "4            3.03          14.0         32.0     13         False  ...   \n",
       "\n",
       "   kitchen_area  balcony    locality_name  airports_nearest  \\\n",
       "0          25.0      0.0  Санкт-Петербург           18863.0   \n",
       "1          11.0      2.0   посёлок Шушары           12817.0   \n",
       "2           8.3      0.0  Санкт-Петербург           21741.0   \n",
       "3           0.0      0.0  Санкт-Петербург           28098.0   \n",
       "4          41.0      0.0  Санкт-Петербург           31856.0   \n",
       "\n",
       "  city_centers_nearest  parks_around3000  parks_nearest  ponds_around3000  \\\n",
       "0              16028.0               1.0          482.0               2.0   \n",
       "1              18603.0               0.0            NaN               0.0   \n",
       "2              13933.0               1.0           90.0               2.0   \n",
       "3               6800.0               2.0           84.0               3.0   \n",
       "4               8098.0               2.0          112.0               1.0   \n",
       "\n",
       "   ponds_nearest  days_exposition  \n",
       "0          755.0              NaN  \n",
       "1            NaN             81.0  \n",
       "2          574.0            558.0  \n",
       "3          234.0            424.0  \n",
       "4           48.0            121.0  \n",
       "\n",
       "[5 rows x 22 columns]"
      ]
     },
     "execution_count": 18,
     "metadata": {},
     "output_type": "execute_result"
    }
   ],
   "source": [
    "data.head(5)"
   ]
  },
  {
   "cell_type": "code",
   "execution_count": 19,
   "metadata": {},
   "outputs": [
    {
     "name": "stdout",
     "output_type": "stream",
     "text": [
      "<class 'pandas.core.frame.DataFrame'>\n",
      "Int64Index: 23699 entries, 0 to 23698\n",
      "Data columns (total 22 columns):\n",
      " #   Column                Non-Null Count  Dtype         \n",
      "---  ------                --------------  -----         \n",
      " 0   total_images          23699 non-null  int64         \n",
      " 1   last_price            23699 non-null  float64       \n",
      " 2   total_area            23699 non-null  float64       \n",
      " 3   first_day_exposition  23699 non-null  datetime64[ns]\n",
      " 4   rooms                 23699 non-null  int64         \n",
      " 5   ceiling_height        14504 non-null  float64       \n",
      " 6   floors_total          23613 non-null  float64       \n",
      " 7   living_area           21796 non-null  float64       \n",
      " 8   floor                 23699 non-null  int64         \n",
      " 9   is_apartment          23699 non-null  bool          \n",
      " 10  studio                23699 non-null  bool          \n",
      " 11  open_plan             23699 non-null  bool          \n",
      " 12  kitchen_area          23699 non-null  float64       \n",
      " 13  balcony               23699 non-null  float64       \n",
      " 14  locality_name         23650 non-null  object        \n",
      " 15  airports_nearest      18157 non-null  float64       \n",
      " 16  city_centers_nearest  18180 non-null  float64       \n",
      " 17  parks_around3000      18181 non-null  float64       \n",
      " 18  parks_nearest         8079 non-null   float64       \n",
      " 19  ponds_around3000      18181 non-null  float64       \n",
      " 20  ponds_nearest         9110 non-null   float64       \n",
      " 21  days_exposition       20518 non-null  float64       \n",
      "dtypes: bool(3), datetime64[ns](1), float64(14), int64(3), object(1)\n",
      "memory usage: 3.7+ MB\n"
     ]
    }
   ],
   "source": [
    "data.info()"
   ]
  },
  {
   "cell_type": "markdown",
   "metadata": {},
   "source": [
    "Далее необходимо проверить неявные дубликаты в `locality_name` скорее всего они там могут быть. Но для начала стоит привести столбец к строкову представлению, так как название населенного пункта не может быть не числом и тп. Приведем `посёлок` к `поселок`"
   ]
  },
  {
   "cell_type": "code",
   "execution_count": 20,
   "metadata": {},
   "outputs": [
    {
     "name": "stderr",
     "output_type": "stream",
     "text": [
      "/tmp/ipykernel_305/112513766.py:9: SettingWithCopyWarning: \n",
      "A value is trying to be set on a copy of a slice from a DataFrame\n",
      "\n",
      "See the caveats in the documentation: https://pandas.pydata.org/pandas-docs/stable/user_guide/indexing.html#returning-a-view-versus-a-copy\n",
      "  data['locality_name'][i] = new_name\n"
     ]
    }
   ],
   "source": [
    "data['locality_name'] = data['locality_name'].astype('str')\n",
    "for i in range(len(data['locality_name'])):\n",
    "    if ('посёлок' in data['locality_name'][i]):\n",
    "        tmp_name = data['locality_name'][i].split(\" \")\n",
    "        for j in range(len(tmp_name)):\n",
    "            if (tmp_name[j] == 'посёлок'):\n",
    "                tmp_name[j] = 'поселок'\n",
    "        new_name = ' '.join(tmp_name)\n",
    "        data['locality_name'][i] = new_name"
   ]
  },
  {
   "cell_type": "markdown",
   "metadata": {},
   "source": [
    "<div class=\"alert alert-success\"; style=\"border-left: 7px solid green\">\n",
    "<h5> ✔️ <font color=\"green\">Комментарий ревьюера (зеленый)</font></h5>\n",
    "\n",
    "Хорошо, что тобою было замечено разное написание слова «посёлок» и было принято решение это исправить 😃\n",
    "\n",
    "</div>"
   ]
  },
  {
   "cell_type": "markdown",
   "metadata": {},
   "source": [
    "На всякий случай применим метод `abs()` для устранения возможных отрицательных значений там, где значения должны быть строго положительными, например цена, количество фото, расстояния"
   ]
  },
  {
   "cell_type": "code",
   "execution_count": 21,
   "metadata": {},
   "outputs": [],
   "source": [
    "names = list(data.columns)\n",
    "for i in names:\n",
    "    if (data[i].dtype == \"int64\" or data[i].dtype == \"float64\"):\n",
    "        data[i] = data[i].abs()"
   ]
  },
  {
   "cell_type": "code",
   "execution_count": 22,
   "metadata": {},
   "outputs": [
    {
     "data": {
      "text/html": [
       "<div>\n",
       "<style scoped>\n",
       "    .dataframe tbody tr th:only-of-type {\n",
       "        vertical-align: middle;\n",
       "    }\n",
       "\n",
       "    .dataframe tbody tr th {\n",
       "        vertical-align: top;\n",
       "    }\n",
       "\n",
       "    .dataframe thead th {\n",
       "        text-align: right;\n",
       "    }\n",
       "</style>\n",
       "<table border=\"1\" class=\"dataframe\">\n",
       "  <thead>\n",
       "    <tr style=\"text-align: right;\">\n",
       "      <th></th>\n",
       "      <th>total_images</th>\n",
       "      <th>last_price</th>\n",
       "      <th>total_area</th>\n",
       "      <th>first_day_exposition</th>\n",
       "      <th>rooms</th>\n",
       "      <th>ceiling_height</th>\n",
       "      <th>floors_total</th>\n",
       "      <th>living_area</th>\n",
       "      <th>floor</th>\n",
       "      <th>is_apartment</th>\n",
       "      <th>...</th>\n",
       "      <th>kitchen_area</th>\n",
       "      <th>balcony</th>\n",
       "      <th>locality_name</th>\n",
       "      <th>airports_nearest</th>\n",
       "      <th>city_centers_nearest</th>\n",
       "      <th>parks_around3000</th>\n",
       "      <th>parks_nearest</th>\n",
       "      <th>ponds_around3000</th>\n",
       "      <th>ponds_nearest</th>\n",
       "      <th>days_exposition</th>\n",
       "    </tr>\n",
       "  </thead>\n",
       "  <tbody>\n",
       "  </tbody>\n",
       "</table>\n",
       "<p>0 rows × 22 columns</p>\n",
       "</div>"
      ],
      "text/plain": [
       "Empty DataFrame\n",
       "Columns: [total_images, last_price, total_area, first_day_exposition, rooms, ceiling_height, floors_total, living_area, floor, is_apartment, studio, open_plan, kitchen_area, balcony, locality_name, airports_nearest, city_centers_nearest, parks_around3000, parks_nearest, ponds_around3000, ponds_nearest, days_exposition]\n",
       "Index: []\n",
       "\n",
       "[0 rows x 22 columns]"
      ]
     },
     "execution_count": 22,
     "metadata": {},
     "output_type": "execute_result"
    }
   ],
   "source": [
    "data[data['locality_name'].isna()]"
   ]
  },
  {
   "cell_type": "code",
   "execution_count": 23,
   "metadata": {
    "scrolled": true
   },
   "outputs": [
    {
     "name": "stdout",
     "output_type": "stream",
     "text": [
      "<class 'pandas.core.frame.DataFrame'>\n",
      "Int64Index: 23699 entries, 0 to 23698\n",
      "Data columns (total 22 columns):\n",
      " #   Column                Non-Null Count  Dtype         \n",
      "---  ------                --------------  -----         \n",
      " 0   total_images          23699 non-null  int64         \n",
      " 1   last_price            23699 non-null  float64       \n",
      " 2   total_area            23699 non-null  float64       \n",
      " 3   first_day_exposition  23699 non-null  datetime64[ns]\n",
      " 4   rooms                 23699 non-null  int64         \n",
      " 5   ceiling_height        14504 non-null  float64       \n",
      " 6   floors_total          23613 non-null  float64       \n",
      " 7   living_area           21796 non-null  float64       \n",
      " 8   floor                 23699 non-null  int64         \n",
      " 9   is_apartment          23699 non-null  bool          \n",
      " 10  studio                23699 non-null  bool          \n",
      " 11  open_plan             23699 non-null  bool          \n",
      " 12  kitchen_area          23699 non-null  float64       \n",
      " 13  balcony               23699 non-null  float64       \n",
      " 14  locality_name         23699 non-null  object        \n",
      " 15  airports_nearest      18157 non-null  float64       \n",
      " 16  city_centers_nearest  18180 non-null  float64       \n",
      " 17  parks_around3000      18181 non-null  float64       \n",
      " 18  parks_nearest         8079 non-null   float64       \n",
      " 19  ponds_around3000      18181 non-null  float64       \n",
      " 20  ponds_nearest         9110 non-null   float64       \n",
      " 21  days_exposition       20518 non-null  float64       \n",
      "dtypes: bool(3), datetime64[ns](1), float64(14), int64(3), object(1)\n",
      "memory usage: 4.2+ MB\n"
     ]
    }
   ],
   "source": [
    "data.info()"
   ]
  },
  {
   "cell_type": "markdown",
   "metadata": {},
   "source": [
    "В данных были обнаружены пропуски по разным причинам, мне удалось избавиться от них, где это возможно. Также получилось удалить неявные дубликаты, а именно изменить \"посёлок\" на \"поселок\".\n",
    "Вот что я заметил при заполнеии пропусков:\n",
    "- Значения расстояния до ближайшего парка является пропущенным значением из-за того, что нет парков ближе 3км\n",
    "- В квартирах-студиях не указана площадь кухни, потому и появились пропуски\n",
    "- Не все квартиры имеют балконы, потому были получены пропуски\n",
    "\n",
    "Также для удобства и избежания аномальных значений, я взял некоторые столбцы по модулю, так как в данных колонках не может быть отрицательных значений, помимо этого я привел колонку `is_apartament` к типу Boolean, так как данный столбец имеет только 2 значения: да или нет"
   ]
  },
  {
   "cell_type": "markdown",
   "metadata": {},
   "source": [
    "<div class=\"alert alert-success\"; style=\"border-left: 7px solid green\">\n",
    "<h5> ✔️ <font color=\"green\">v2 Комментарий ревьюера (зеленый)</font></h5>\n",
    "\n",
    "✅ Молодец, проведено мини исследование, пропуски заполнены с минимальными потерями в информации 👍\n",
    " \n",
    "</div>"
   ]
  },
  {
   "cell_type": "markdown",
   "metadata": {},
   "source": [
    "### Посчитайте и добавьте в таблицу новые столбцы"
   ]
  },
  {
   "cell_type": "markdown",
   "metadata": {},
   "source": [
    "Добавим столбец со стоимостью за один квадратный метр, а также создадим столбец с днем недели публикации"
   ]
  },
  {
   "cell_type": "code",
   "execution_count": 24,
   "metadata": {},
   "outputs": [],
   "source": [
    "data['price_metr'] = round(data['last_price'] / data['total_area'], 2)\n",
    "data['week_day'] = pd.DatetimeIndex(data['first_day_exposition']).day % 7 + 1"
   ]
  },
  {
   "cell_type": "markdown",
   "metadata": {},
   "source": [
    "Аналогично создадим столбцы с годом и месяцем публикации"
   ]
  },
  {
   "cell_type": "code",
   "execution_count": 25,
   "metadata": {},
   "outputs": [],
   "source": [
    "data['year'] = pd.DatetimeIndex(data['first_day_exposition']).year\n",
    "data['month'] = pd.DatetimeIndex(data['first_day_exposition']).month"
   ]
  },
  {
   "cell_type": "markdown",
   "metadata": {},
   "source": [
    "Теперь создадим столбец с информацией о значении этажа, точнее разделим на три группы:\n",
    ">- Первый\n",
    ">- Последний\n",
    ">- Другой\n",
    "\n",
    "Пусть квартиры с одним этажом будут относится к категории `Другой`"
   ]
  },
  {
   "cell_type": "code",
   "execution_count": 26,
   "metadata": {},
   "outputs": [],
   "source": [
    "def determine_floor_type(row):\n",
    "    if row['floors_total'] == 1:\n",
    "        return 'Другой'\n",
    "    elif row['floors_total'] == row['floor']:\n",
    "        return 'Последний'\n",
    "    elif row['floor'] == 1:\n",
    "        return 'Первый'\n",
    "    else:\n",
    "        return 'Другой'\n",
    "\n",
    "data['floor_type'] = data.apply(determine_floor_type, axis=1)"
   ]
  },
  {
   "cell_type": "markdown",
   "metadata": {},
   "source": [
    "Затем создадим столбец с расстоянием до центра города в километрах"
   ]
  },
  {
   "cell_type": "code",
   "execution_count": 27,
   "metadata": {},
   "outputs": [
    {
     "data": {
      "text/html": [
       "<div>\n",
       "<style scoped>\n",
       "    .dataframe tbody tr th:only-of-type {\n",
       "        vertical-align: middle;\n",
       "    }\n",
       "\n",
       "    .dataframe tbody tr th {\n",
       "        vertical-align: top;\n",
       "    }\n",
       "\n",
       "    .dataframe thead th {\n",
       "        text-align: right;\n",
       "    }\n",
       "</style>\n",
       "<table border=\"1\" class=\"dataframe\">\n",
       "  <thead>\n",
       "    <tr style=\"text-align: right;\">\n",
       "      <th></th>\n",
       "      <th>total_images</th>\n",
       "      <th>last_price</th>\n",
       "      <th>total_area</th>\n",
       "      <th>first_day_exposition</th>\n",
       "      <th>rooms</th>\n",
       "      <th>ceiling_height</th>\n",
       "      <th>floors_total</th>\n",
       "      <th>living_area</th>\n",
       "      <th>floor</th>\n",
       "      <th>is_apartment</th>\n",
       "      <th>...</th>\n",
       "      <th>parks_nearest</th>\n",
       "      <th>ponds_around3000</th>\n",
       "      <th>ponds_nearest</th>\n",
       "      <th>days_exposition</th>\n",
       "      <th>price_metr</th>\n",
       "      <th>week_day</th>\n",
       "      <th>year</th>\n",
       "      <th>month</th>\n",
       "      <th>floor_type</th>\n",
       "      <th>city_centers_km</th>\n",
       "    </tr>\n",
       "  </thead>\n",
       "  <tbody>\n",
       "    <tr>\n",
       "      <th>0</th>\n",
       "      <td>20</td>\n",
       "      <td>13000000.0</td>\n",
       "      <td>108.00</td>\n",
       "      <td>2019-03-07</td>\n",
       "      <td>3</td>\n",
       "      <td>2.70</td>\n",
       "      <td>16.0</td>\n",
       "      <td>51.0</td>\n",
       "      <td>8</td>\n",
       "      <td>False</td>\n",
       "      <td>...</td>\n",
       "      <td>482.0</td>\n",
       "      <td>2.0</td>\n",
       "      <td>755.0</td>\n",
       "      <td>NaN</td>\n",
       "      <td>120370.37</td>\n",
       "      <td>1</td>\n",
       "      <td>2019</td>\n",
       "      <td>3</td>\n",
       "      <td>Другой</td>\n",
       "      <td>16.0</td>\n",
       "    </tr>\n",
       "    <tr>\n",
       "      <th>1</th>\n",
       "      <td>7</td>\n",
       "      <td>3350000.0</td>\n",
       "      <td>40.40</td>\n",
       "      <td>2018-12-04</td>\n",
       "      <td>1</td>\n",
       "      <td>NaN</td>\n",
       "      <td>11.0</td>\n",
       "      <td>18.6</td>\n",
       "      <td>1</td>\n",
       "      <td>False</td>\n",
       "      <td>...</td>\n",
       "      <td>NaN</td>\n",
       "      <td>0.0</td>\n",
       "      <td>NaN</td>\n",
       "      <td>81.0</td>\n",
       "      <td>82920.79</td>\n",
       "      <td>5</td>\n",
       "      <td>2018</td>\n",
       "      <td>12</td>\n",
       "      <td>Первый</td>\n",
       "      <td>19.0</td>\n",
       "    </tr>\n",
       "    <tr>\n",
       "      <th>2</th>\n",
       "      <td>10</td>\n",
       "      <td>5196000.0</td>\n",
       "      <td>56.00</td>\n",
       "      <td>2015-08-20</td>\n",
       "      <td>2</td>\n",
       "      <td>NaN</td>\n",
       "      <td>5.0</td>\n",
       "      <td>34.3</td>\n",
       "      <td>4</td>\n",
       "      <td>False</td>\n",
       "      <td>...</td>\n",
       "      <td>90.0</td>\n",
       "      <td>2.0</td>\n",
       "      <td>574.0</td>\n",
       "      <td>558.0</td>\n",
       "      <td>92785.71</td>\n",
       "      <td>7</td>\n",
       "      <td>2015</td>\n",
       "      <td>8</td>\n",
       "      <td>Другой</td>\n",
       "      <td>14.0</td>\n",
       "    </tr>\n",
       "    <tr>\n",
       "      <th>3</th>\n",
       "      <td>0</td>\n",
       "      <td>64900000.0</td>\n",
       "      <td>159.00</td>\n",
       "      <td>2015-07-24</td>\n",
       "      <td>3</td>\n",
       "      <td>NaN</td>\n",
       "      <td>14.0</td>\n",
       "      <td>NaN</td>\n",
       "      <td>9</td>\n",
       "      <td>False</td>\n",
       "      <td>...</td>\n",
       "      <td>84.0</td>\n",
       "      <td>3.0</td>\n",
       "      <td>234.0</td>\n",
       "      <td>424.0</td>\n",
       "      <td>408176.10</td>\n",
       "      <td>4</td>\n",
       "      <td>2015</td>\n",
       "      <td>7</td>\n",
       "      <td>Другой</td>\n",
       "      <td>7.0</td>\n",
       "    </tr>\n",
       "    <tr>\n",
       "      <th>4</th>\n",
       "      <td>2</td>\n",
       "      <td>10000000.0</td>\n",
       "      <td>100.00</td>\n",
       "      <td>2018-06-19</td>\n",
       "      <td>2</td>\n",
       "      <td>3.03</td>\n",
       "      <td>14.0</td>\n",
       "      <td>32.0</td>\n",
       "      <td>13</td>\n",
       "      <td>False</td>\n",
       "      <td>...</td>\n",
       "      <td>112.0</td>\n",
       "      <td>1.0</td>\n",
       "      <td>48.0</td>\n",
       "      <td>121.0</td>\n",
       "      <td>100000.00</td>\n",
       "      <td>6</td>\n",
       "      <td>2018</td>\n",
       "      <td>6</td>\n",
       "      <td>Другой</td>\n",
       "      <td>8.0</td>\n",
       "    </tr>\n",
       "    <tr>\n",
       "      <th>...</th>\n",
       "      <td>...</td>\n",
       "      <td>...</td>\n",
       "      <td>...</td>\n",
       "      <td>...</td>\n",
       "      <td>...</td>\n",
       "      <td>...</td>\n",
       "      <td>...</td>\n",
       "      <td>...</td>\n",
       "      <td>...</td>\n",
       "      <td>...</td>\n",
       "      <td>...</td>\n",
       "      <td>...</td>\n",
       "      <td>...</td>\n",
       "      <td>...</td>\n",
       "      <td>...</td>\n",
       "      <td>...</td>\n",
       "      <td>...</td>\n",
       "      <td>...</td>\n",
       "      <td>...</td>\n",
       "      <td>...</td>\n",
       "      <td>...</td>\n",
       "    </tr>\n",
       "    <tr>\n",
       "      <th>23694</th>\n",
       "      <td>9</td>\n",
       "      <td>9700000.0</td>\n",
       "      <td>133.81</td>\n",
       "      <td>2017-03-21</td>\n",
       "      <td>3</td>\n",
       "      <td>3.70</td>\n",
       "      <td>5.0</td>\n",
       "      <td>73.3</td>\n",
       "      <td>3</td>\n",
       "      <td>False</td>\n",
       "      <td>...</td>\n",
       "      <td>796.0</td>\n",
       "      <td>3.0</td>\n",
       "      <td>381.0</td>\n",
       "      <td>NaN</td>\n",
       "      <td>72490.85</td>\n",
       "      <td>1</td>\n",
       "      <td>2017</td>\n",
       "      <td>3</td>\n",
       "      <td>Другой</td>\n",
       "      <td>4.0</td>\n",
       "    </tr>\n",
       "    <tr>\n",
       "      <th>23695</th>\n",
       "      <td>14</td>\n",
       "      <td>3100000.0</td>\n",
       "      <td>59.00</td>\n",
       "      <td>2018-01-15</td>\n",
       "      <td>3</td>\n",
       "      <td>NaN</td>\n",
       "      <td>5.0</td>\n",
       "      <td>38.0</td>\n",
       "      <td>4</td>\n",
       "      <td>False</td>\n",
       "      <td>...</td>\n",
       "      <td>NaN</td>\n",
       "      <td>NaN</td>\n",
       "      <td>NaN</td>\n",
       "      <td>45.0</td>\n",
       "      <td>52542.37</td>\n",
       "      <td>2</td>\n",
       "      <td>2018</td>\n",
       "      <td>1</td>\n",
       "      <td>Другой</td>\n",
       "      <td>NaN</td>\n",
       "    </tr>\n",
       "    <tr>\n",
       "      <th>23696</th>\n",
       "      <td>18</td>\n",
       "      <td>2500000.0</td>\n",
       "      <td>56.70</td>\n",
       "      <td>2018-02-11</td>\n",
       "      <td>2</td>\n",
       "      <td>NaN</td>\n",
       "      <td>3.0</td>\n",
       "      <td>29.7</td>\n",
       "      <td>1</td>\n",
       "      <td>False</td>\n",
       "      <td>...</td>\n",
       "      <td>NaN</td>\n",
       "      <td>NaN</td>\n",
       "      <td>NaN</td>\n",
       "      <td>NaN</td>\n",
       "      <td>44091.71</td>\n",
       "      <td>5</td>\n",
       "      <td>2018</td>\n",
       "      <td>2</td>\n",
       "      <td>Первый</td>\n",
       "      <td>NaN</td>\n",
       "    </tr>\n",
       "    <tr>\n",
       "      <th>23697</th>\n",
       "      <td>13</td>\n",
       "      <td>11475000.0</td>\n",
       "      <td>76.75</td>\n",
       "      <td>2017-03-28</td>\n",
       "      <td>2</td>\n",
       "      <td>3.00</td>\n",
       "      <td>17.0</td>\n",
       "      <td>NaN</td>\n",
       "      <td>12</td>\n",
       "      <td>False</td>\n",
       "      <td>...</td>\n",
       "      <td>173.0</td>\n",
       "      <td>3.0</td>\n",
       "      <td>196.0</td>\n",
       "      <td>602.0</td>\n",
       "      <td>149511.40</td>\n",
       "      <td>1</td>\n",
       "      <td>2017</td>\n",
       "      <td>3</td>\n",
       "      <td>Другой</td>\n",
       "      <td>10.0</td>\n",
       "    </tr>\n",
       "    <tr>\n",
       "      <th>23698</th>\n",
       "      <td>4</td>\n",
       "      <td>1350000.0</td>\n",
       "      <td>32.30</td>\n",
       "      <td>2017-07-21</td>\n",
       "      <td>1</td>\n",
       "      <td>2.50</td>\n",
       "      <td>5.0</td>\n",
       "      <td>12.3</td>\n",
       "      <td>1</td>\n",
       "      <td>False</td>\n",
       "      <td>...</td>\n",
       "      <td>NaN</td>\n",
       "      <td>NaN</td>\n",
       "      <td>NaN</td>\n",
       "      <td>NaN</td>\n",
       "      <td>41795.67</td>\n",
       "      <td>1</td>\n",
       "      <td>2017</td>\n",
       "      <td>7</td>\n",
       "      <td>Первый</td>\n",
       "      <td>NaN</td>\n",
       "    </tr>\n",
       "  </tbody>\n",
       "</table>\n",
       "<p>23699 rows × 28 columns</p>\n",
       "</div>"
      ],
      "text/plain": [
       "       total_images  last_price  total_area first_day_exposition  rooms  \\\n",
       "0                20  13000000.0      108.00           2019-03-07      3   \n",
       "1                 7   3350000.0       40.40           2018-12-04      1   \n",
       "2                10   5196000.0       56.00           2015-08-20      2   \n",
       "3                 0  64900000.0      159.00           2015-07-24      3   \n",
       "4                 2  10000000.0      100.00           2018-06-19      2   \n",
       "...             ...         ...         ...                  ...    ...   \n",
       "23694             9   9700000.0      133.81           2017-03-21      3   \n",
       "23695            14   3100000.0       59.00           2018-01-15      3   \n",
       "23696            18   2500000.0       56.70           2018-02-11      2   \n",
       "23697            13  11475000.0       76.75           2017-03-28      2   \n",
       "23698             4   1350000.0       32.30           2017-07-21      1   \n",
       "\n",
       "       ceiling_height  floors_total  living_area  floor  is_apartment  ...  \\\n",
       "0                2.70          16.0         51.0      8         False  ...   \n",
       "1                 NaN          11.0         18.6      1         False  ...   \n",
       "2                 NaN           5.0         34.3      4         False  ...   \n",
       "3                 NaN          14.0          NaN      9         False  ...   \n",
       "4                3.03          14.0         32.0     13         False  ...   \n",
       "...               ...           ...          ...    ...           ...  ...   \n",
       "23694            3.70           5.0         73.3      3         False  ...   \n",
       "23695             NaN           5.0         38.0      4         False  ...   \n",
       "23696             NaN           3.0         29.7      1         False  ...   \n",
       "23697            3.00          17.0          NaN     12         False  ...   \n",
       "23698            2.50           5.0         12.3      1         False  ...   \n",
       "\n",
       "       parks_nearest  ponds_around3000  ponds_nearest  days_exposition  \\\n",
       "0              482.0               2.0          755.0              NaN   \n",
       "1                NaN               0.0            NaN             81.0   \n",
       "2               90.0               2.0          574.0            558.0   \n",
       "3               84.0               3.0          234.0            424.0   \n",
       "4              112.0               1.0           48.0            121.0   \n",
       "...              ...               ...            ...              ...   \n",
       "23694          796.0               3.0          381.0              NaN   \n",
       "23695            NaN               NaN            NaN             45.0   \n",
       "23696            NaN               NaN            NaN              NaN   \n",
       "23697          173.0               3.0          196.0            602.0   \n",
       "23698            NaN               NaN            NaN              NaN   \n",
       "\n",
       "      price_metr  week_day  year  month  floor_type  city_centers_km  \n",
       "0      120370.37         1  2019      3      Другой             16.0  \n",
       "1       82920.79         5  2018     12      Первый             19.0  \n",
       "2       92785.71         7  2015      8      Другой             14.0  \n",
       "3      408176.10         4  2015      7      Другой              7.0  \n",
       "4      100000.00         6  2018      6      Другой              8.0  \n",
       "...          ...       ...   ...    ...         ...              ...  \n",
       "23694   72490.85         1  2017      3      Другой              4.0  \n",
       "23695   52542.37         2  2018      1      Другой              NaN  \n",
       "23696   44091.71         5  2018      2      Первый              NaN  \n",
       "23697  149511.40         1  2017      3      Другой             10.0  \n",
       "23698   41795.67         1  2017      7      Первый              NaN  \n",
       "\n",
       "[23699 rows x 28 columns]"
      ]
     },
     "execution_count": 27,
     "metadata": {},
     "output_type": "execute_result"
    }
   ],
   "source": [
    "data['city_centers_km'] = round(data['city_centers_nearest'] / 1000)\n",
    "data"
   ]
  },
  {
   "cell_type": "markdown",
   "metadata": {},
   "source": [
    "<div class=\"alert alert-success\"; style=\"border-left: 7px solid green\">\n",
    "<h5> ✔️ <font color=\"green\">v2 Комментарий ревьюера (зеленый)</font></h5>\n",
    "\n",
    "✅ Верное исправление 👍\n",
    " \n",
    "</div>"
   ]
  },
  {
   "cell_type": "markdown",
   "metadata": {},
   "source": [
    "### Проведите исследовательский анализ данных"
   ]
  },
  {
   "cell_type": "markdown",
   "metadata": {},
   "source": [
    "Теперь проведем анализ данных в столбцах при помощи графиков, рассмотри следующее:\n",
    ">- общая площадь\n",
    ">- жилая площадь\n",
    ">- площадь кухни\n",
    ">- цена объекта\n",
    ">- количество комнат\n",
    ">- высота потолков\n",
    ">- тип этажа квартиры\n",
    ">- общее количество этажей в доме\n",
    ">- расстояние до центра города в метрах\n",
    ">- расстояние до ближайшего парка"
   ]
  },
  {
   "cell_type": "markdown",
   "metadata": {},
   "source": [
    "Начнем с построения гистограмм параметров, связанных с площадью"
   ]
  },
  {
   "cell_type": "code",
   "execution_count": 28,
   "metadata": {},
   "outputs": [
    {
     "name": "stdout",
     "output_type": "stream",
     "text": [
      "count    23699.000000\n",
      "mean        60.348651\n",
      "std         35.654083\n",
      "min         12.000000\n",
      "25%         40.000000\n",
      "50%         52.000000\n",
      "75%         69.900000\n",
      "max        900.000000\n",
      "Name: total_area, dtype: float64\n"
     ]
    },
    {
     "data": {
      "image/png": "[encoded data removed]",
      "text/plain": [
       "<Figure size 432x288 with 1 Axes>"
      ]
     },
     "metadata": {
      "needs_background": "light"
     },
     "output_type": "display_data"
    }
   ],
   "source": [
    "data['total_area'].hist(bins = 150, range = (0, 1000))\n",
    "print(data['total_area'].describe())"
   ]
  },
  {
   "cell_type": "markdown",
   "metadata": {},
   "source": [
    "<div class=\"alert alert-success\"; style=\"border-left: 7px solid green\">\n",
    "<h5> ✔️ <font color=\"green\">Комментарий ревьюера (зеленый)</font></h5>\n",
    "\n",
    "Здорово, что ты используешь range, так нагляднее.\n",
    "\n",
    "</div>"
   ]
  },
  {
   "cell_type": "markdown",
   "metadata": {},
   "source": [
    "Гистограмма выглядит вполне нормальной, так как сильных выбросов нет, видно, что медианное значение площади составляет 60 квадратных метров, а максимальная площадь - 900 квадратных метров, можно вывести квартиры с площадью больше 500 квадратных метров, затем посмотреть, нормальные ли эти данные"
   ]
  },
  {
   "cell_type": "code",
   "execution_count": 29,
   "metadata": {},
   "outputs": [
    {
     "data": {
      "text/html": [
       "<div>\n",
       "<style scoped>\n",
       "    .dataframe tbody tr th:only-of-type {\n",
       "        vertical-align: middle;\n",
       "    }\n",
       "\n",
       "    .dataframe tbody tr th {\n",
       "        vertical-align: top;\n",
       "    }\n",
       "\n",
       "    .dataframe thead th {\n",
       "        text-align: right;\n",
       "    }\n",
       "</style>\n",
       "<table border=\"1\" class=\"dataframe\">\n",
       "  <thead>\n",
       "    <tr style=\"text-align: right;\">\n",
       "      <th></th>\n",
       "      <th>total_images</th>\n",
       "      <th>last_price</th>\n",
       "      <th>total_area</th>\n",
       "      <th>first_day_exposition</th>\n",
       "      <th>rooms</th>\n",
       "      <th>ceiling_height</th>\n",
       "      <th>floors_total</th>\n",
       "      <th>living_area</th>\n",
       "      <th>floor</th>\n",
       "      <th>is_apartment</th>\n",
       "      <th>...</th>\n",
       "      <th>parks_nearest</th>\n",
       "      <th>ponds_around3000</th>\n",
       "      <th>ponds_nearest</th>\n",
       "      <th>days_exposition</th>\n",
       "      <th>price_metr</th>\n",
       "      <th>week_day</th>\n",
       "      <th>year</th>\n",
       "      <th>month</th>\n",
       "      <th>floor_type</th>\n",
       "      <th>city_centers_km</th>\n",
       "    </tr>\n",
       "  </thead>\n",
       "  <tbody>\n",
       "    <tr>\n",
       "      <th>3117</th>\n",
       "      <td>19</td>\n",
       "      <td>140000000.0</td>\n",
       "      <td>631.0</td>\n",
       "      <td>2019-03-30</td>\n",
       "      <td>7</td>\n",
       "      <td>NaN</td>\n",
       "      <td>5.0</td>\n",
       "      <td>NaN</td>\n",
       "      <td>5</td>\n",
       "      <td>False</td>\n",
       "      <td>...</td>\n",
       "      <td>NaN</td>\n",
       "      <td>2.0</td>\n",
       "      <td>210.0</td>\n",
       "      <td>NaN</td>\n",
       "      <td>221870.05</td>\n",
       "      <td>3</td>\n",
       "      <td>2019</td>\n",
       "      <td>3</td>\n",
       "      <td>Последний</td>\n",
       "      <td>5.0</td>\n",
       "    </tr>\n",
       "    <tr>\n",
       "      <th>4237</th>\n",
       "      <td>1</td>\n",
       "      <td>50000000.0</td>\n",
       "      <td>517.0</td>\n",
       "      <td>2017-10-14</td>\n",
       "      <td>7</td>\n",
       "      <td>NaN</td>\n",
       "      <td>4.0</td>\n",
       "      <td>332.0</td>\n",
       "      <td>3</td>\n",
       "      <td>False</td>\n",
       "      <td>...</td>\n",
       "      <td>477.0</td>\n",
       "      <td>2.0</td>\n",
       "      <td>540.0</td>\n",
       "      <td>NaN</td>\n",
       "      <td>96711.80</td>\n",
       "      <td>1</td>\n",
       "      <td>2017</td>\n",
       "      <td>10</td>\n",
       "      <td>Другой</td>\n",
       "      <td>2.0</td>\n",
       "    </tr>\n",
       "    <tr>\n",
       "      <th>5358</th>\n",
       "      <td>20</td>\n",
       "      <td>65000000.0</td>\n",
       "      <td>590.0</td>\n",
       "      <td>2019-02-14</td>\n",
       "      <td>15</td>\n",
       "      <td>3.50</td>\n",
       "      <td>6.0</td>\n",
       "      <td>409.0</td>\n",
       "      <td>3</td>\n",
       "      <td>False</td>\n",
       "      <td>...</td>\n",
       "      <td>767.0</td>\n",
       "      <td>0.0</td>\n",
       "      <td>NaN</td>\n",
       "      <td>14.0</td>\n",
       "      <td>110169.49</td>\n",
       "      <td>1</td>\n",
       "      <td>2019</td>\n",
       "      <td>2</td>\n",
       "      <td>Другой</td>\n",
       "      <td>5.0</td>\n",
       "    </tr>\n",
       "    <tr>\n",
       "      <th>8018</th>\n",
       "      <td>20</td>\n",
       "      <td>84000000.0</td>\n",
       "      <td>507.0</td>\n",
       "      <td>2015-12-17</td>\n",
       "      <td>5</td>\n",
       "      <td>4.45</td>\n",
       "      <td>7.0</td>\n",
       "      <td>301.5</td>\n",
       "      <td>7</td>\n",
       "      <td>True</td>\n",
       "      <td>...</td>\n",
       "      <td>110.0</td>\n",
       "      <td>0.0</td>\n",
       "      <td>NaN</td>\n",
       "      <td>1078.0</td>\n",
       "      <td>165680.47</td>\n",
       "      <td>4</td>\n",
       "      <td>2015</td>\n",
       "      <td>12</td>\n",
       "      <td>Последний</td>\n",
       "      <td>6.0</td>\n",
       "    </tr>\n",
       "    <tr>\n",
       "      <th>12859</th>\n",
       "      <td>20</td>\n",
       "      <td>140000000.0</td>\n",
       "      <td>631.2</td>\n",
       "      <td>2019-04-09</td>\n",
       "      <td>7</td>\n",
       "      <td>3.90</td>\n",
       "      <td>4.0</td>\n",
       "      <td>322.3</td>\n",
       "      <td>4</td>\n",
       "      <td>False</td>\n",
       "      <td>...</td>\n",
       "      <td>NaN</td>\n",
       "      <td>2.0</td>\n",
       "      <td>210.0</td>\n",
       "      <td>NaN</td>\n",
       "      <td>221799.75</td>\n",
       "      <td>3</td>\n",
       "      <td>2019</td>\n",
       "      <td>4</td>\n",
       "      <td>Последний</td>\n",
       "      <td>5.0</td>\n",
       "    </tr>\n",
       "    <tr>\n",
       "      <th>15651</th>\n",
       "      <td>20</td>\n",
       "      <td>300000000.0</td>\n",
       "      <td>618.0</td>\n",
       "      <td>2017-12-18</td>\n",
       "      <td>7</td>\n",
       "      <td>3.40</td>\n",
       "      <td>7.0</td>\n",
       "      <td>258.0</td>\n",
       "      <td>5</td>\n",
       "      <td>False</td>\n",
       "      <td>...</td>\n",
       "      <td>NaN</td>\n",
       "      <td>2.0</td>\n",
       "      <td>198.0</td>\n",
       "      <td>111.0</td>\n",
       "      <td>485436.89</td>\n",
       "      <td>5</td>\n",
       "      <td>2017</td>\n",
       "      <td>12</td>\n",
       "      <td>Другой</td>\n",
       "      <td>5.0</td>\n",
       "    </tr>\n",
       "    <tr>\n",
       "      <th>19540</th>\n",
       "      <td>8</td>\n",
       "      <td>420000000.0</td>\n",
       "      <td>900.0</td>\n",
       "      <td>2017-12-06</td>\n",
       "      <td>12</td>\n",
       "      <td>2.80</td>\n",
       "      <td>25.0</td>\n",
       "      <td>409.7</td>\n",
       "      <td>25</td>\n",
       "      <td>False</td>\n",
       "      <td>...</td>\n",
       "      <td>NaN</td>\n",
       "      <td>2.0</td>\n",
       "      <td>318.0</td>\n",
       "      <td>106.0</td>\n",
       "      <td>466666.67</td>\n",
       "      <td>7</td>\n",
       "      <td>2017</td>\n",
       "      <td>12</td>\n",
       "      <td>Последний</td>\n",
       "      <td>8.0</td>\n",
       "    </tr>\n",
       "  </tbody>\n",
       "</table>\n",
       "<p>7 rows × 28 columns</p>\n",
       "</div>"
      ],
      "text/plain": [
       "       total_images   last_price  total_area first_day_exposition  rooms  \\\n",
       "3117             19  140000000.0       631.0           2019-03-30      7   \n",
       "4237              1   50000000.0       517.0           2017-10-14      7   \n",
       "5358             20   65000000.0       590.0           2019-02-14     15   \n",
       "8018             20   84000000.0       507.0           2015-12-17      5   \n",
       "12859            20  140000000.0       631.2           2019-04-09      7   \n",
       "15651            20  300000000.0       618.0           2017-12-18      7   \n",
       "19540             8  420000000.0       900.0           2017-12-06     12   \n",
       "\n",
       "       ceiling_height  floors_total  living_area  floor  is_apartment  ...  \\\n",
       "3117              NaN           5.0          NaN      5         False  ...   \n",
       "4237              NaN           4.0        332.0      3         False  ...   \n",
       "5358             3.50           6.0        409.0      3         False  ...   \n",
       "8018             4.45           7.0        301.5      7          True  ...   \n",
       "12859            3.90           4.0        322.3      4         False  ...   \n",
       "15651            3.40           7.0        258.0      5         False  ...   \n",
       "19540            2.80          25.0        409.7     25         False  ...   \n",
       "\n",
       "       parks_nearest  ponds_around3000  ponds_nearest  days_exposition  \\\n",
       "3117             NaN               2.0          210.0              NaN   \n",
       "4237           477.0               2.0          540.0              NaN   \n",
       "5358           767.0               0.0            NaN             14.0   \n",
       "8018           110.0               0.0            NaN           1078.0   \n",
       "12859            NaN               2.0          210.0              NaN   \n",
       "15651            NaN               2.0          198.0            111.0   \n",
       "19540            NaN               2.0          318.0            106.0   \n",
       "\n",
       "      price_metr  week_day  year  month  floor_type  city_centers_km  \n",
       "3117   221870.05         3  2019      3   Последний              5.0  \n",
       "4237    96711.80         1  2017     10      Другой              2.0  \n",
       "5358   110169.49         1  2019      2      Другой              5.0  \n",
       "8018   165680.47         4  2015     12   Последний              6.0  \n",
       "12859  221799.75         3  2019      4   Последний              5.0  \n",
       "15651  485436.89         5  2017     12      Другой              5.0  \n",
       "19540  466666.67         7  2017     12   Последний              8.0  \n",
       "\n",
       "[7 rows x 28 columns]"
      ]
     },
     "execution_count": 29,
     "metadata": {},
     "output_type": "execute_result"
    }
   ],
   "source": [
    "data[data['total_area'] > 500]"
   ]
  },
  {
   "cell_type": "markdown",
   "metadata": {},
   "source": [
    "Исходя из стоимости за квадратный метр, можно заявить, что хоть этих квартир немного, но цена соответствует значению площади(позже построим зависимость этих двух величин)"
   ]
  },
  {
   "cell_type": "code",
   "execution_count": 30,
   "metadata": {},
   "outputs": [
    {
     "name": "stdout",
     "output_type": "stream",
     "text": [
      "count    21796.000000\n",
      "mean        34.457852\n",
      "std         22.030445\n",
      "min          2.000000\n",
      "25%         18.600000\n",
      "50%         30.000000\n",
      "75%         42.300000\n",
      "max        409.700000\n",
      "Name: living_area, dtype: float64\n"
     ]
    },
    {
     "data": {
      "image/png": "[encoded data removed]",
      "text/plain": [
       "<Figure size 432x288 with 1 Axes>"
      ]
     },
     "metadata": {
      "needs_background": "light"
     },
     "output_type": "display_data"
    }
   ],
   "source": [
    "data['living_area'].hist(bins = 100, range = (0, 60))\n",
    "print(data['living_area'].describe())"
   ]
  },
  {
   "cell_type": "markdown",
   "metadata": {},
   "source": [
    "Как видно из гистограммы, распределение не похоже ни на распределение Пуасонна, ни на нормальное. Стоит посмотреть, почему в промежутке от 20 до 30 квадратных метров так мало объявлений. Создадим вспомогательную таблицу, в которой будем хранить данный срез, затем добавим столбец соотношения жилой площади к общей"
   ]
  },
  {
   "cell_type": "code",
   "execution_count": 31,
   "metadata": {},
   "outputs": [
    {
     "name": "stderr",
     "output_type": "stream",
     "text": [
      "/tmp/ipykernel_305/587780885.py:2: SettingWithCopyWarning: \n",
      "A value is trying to be set on a copy of a slice from a DataFrame.\n",
      "Try using .loc[row_indexer,col_indexer] = value instead\n",
      "\n",
      "See the caveats in the documentation: https://pandas.pydata.org/pandas-docs/stable/user_guide/indexing.html#returning-a-view-versus-a-copy\n",
      "  tmp_data['living_per_total'] = tmp_data['living_area'] / tmp_data['total_area']\n"
     ]
    },
    {
     "data": {
      "image/png": "[encoded data removed]",
      "text/plain": [
       "<Figure size 432x288 with 1 Axes>"
      ]
     },
     "metadata": {
      "needs_background": "light"
     },
     "output_type": "display_data"
    },
    {
     "name": "stdout",
     "output_type": "stream",
     "text": [
      "count    4477.000000\n",
      "mean        0.559399\n",
      "std         0.090102\n",
      "min         0.201194\n",
      "25%         0.500000\n",
      "50%         0.565909\n",
      "75%         0.623656\n",
      "max         1.000000\n",
      "Name: living_per_total, dtype: float64\n"
     ]
    }
   ],
   "source": [
    "tmp_data = data.query('living_area > 19 & living_area < 30')\n",
    "tmp_data['living_per_total'] = tmp_data['living_area'] / tmp_data['total_area'] \n",
    "tmp_data['living_per_total'].hist(bins = 50)\n",
    "plt.show()\n",
    "print(tmp_data['living_per_total'].describe())"
   ]
  },
  {
   "cell_type": "markdown",
   "metadata": {},
   "source": [
    "Распределение является нормальным, но все же настораживает то, что распределение по столбцу `living_area` не является нормальным или распределением Пуасона. Рассмотрим гистограмму площади кухни"
   ]
  },
  {
   "cell_type": "code",
   "execution_count": 32,
   "metadata": {},
   "outputs": [
    {
     "data": {
      "image/png": "[encoded data removed]",
      "text/plain": [
       "<Figure size 432x288 with 1 Axes>"
      ]
     },
     "metadata": {
      "needs_background": "light"
     },
     "output_type": "display_data"
    },
    {
     "name": "stdout",
     "output_type": "stream",
     "text": [
      "count    23699.000000\n",
      "mean         9.553814\n",
      "std          6.420973\n",
      "min          0.000000\n",
      "25%          6.300000\n",
      "50%          9.000000\n",
      "75%         11.440000\n",
      "max        112.000000\n",
      "Name: kitchen_area, dtype: float64\n"
     ]
    },
    {
     "data": {
      "image/png": "[encoded data removed]",
      "text/plain": [
       "<Figure size 432x288 with 1 Axes>"
      ]
     },
     "metadata": {
      "needs_background": "light"
     },
     "output_type": "display_data"
    },
    {
     "data": {
      "text/plain": [
       "kitchen_area            1.000000\n",
       "total_area              0.514270\n",
       "living_area             0.409323\n",
       "last_price              0.386444\n",
       "price_metr              0.312879\n",
       "rooms                   0.256087\n",
       "total_images            0.135886\n",
       "ponds_around3000        0.124221\n",
       "floors_total            0.115545\n",
       "days_exposition         0.115383\n",
       "floor                   0.101389\n",
       "balcony                 0.090004\n",
       "parks_around3000        0.073126\n",
       "ceiling_height          0.068318\n",
       "is_apartment            0.020448\n",
       "parks_nearest           0.015195\n",
       "month                   0.009253\n",
       "airports_nearest        0.008395\n",
       "week_day                0.001953\n",
       "year                   -0.056683\n",
       "open_plan              -0.079227\n",
       "ponds_nearest          -0.087873\n",
       "studio                 -0.118354\n",
       "city_centers_nearest   -0.158681\n",
       "city_centers_km        -0.159029\n",
       "Name: kitchen_area, dtype: float64"
      ]
     },
     "execution_count": 32,
     "metadata": {},
     "output_type": "execute_result"
    }
   ],
   "source": [
    "data['kitchen_area'].hist(bins = 50, range = (0, 200))\n",
    "plt.show()\n",
    "print(data['kitchen_area'].describe())\n",
    "data.boxplot('kitchen_area')\n",
    "plt.show()\n",
    "data.corr()['kitchen_area'].sort_values(ascending = False)"
   ]
  },
  {
   "cell_type": "markdown",
   "metadata": {},
   "source": [
    "Как видно, есть выбросы, где площадь кухни выше 80 квадратных метров, предполагаю, что это вызвано тем, что данные выбросы соответствуют квартирам с большой общей площадью, а таких квартир немного. Стоит проверить эту гипотезу, а также при помощи коэффицента корреляции можно выделить то, что общая площадь, жилая площадь, стоимость и цена за метр - имею наибольшие по модулю коэффиценты, тем самым эти величины больше остальных связаны в значение площади кухни"
   ]
  },
  {
   "cell_type": "code",
   "execution_count": 33,
   "metadata": {},
   "outputs": [
    {
     "data": {
      "text/plain": [
       "<AxesSubplot:xlabel='kitchen_area'>"
      ]
     },
     "execution_count": 33,
     "metadata": {},
     "output_type": "execute_result"
    },
    {
     "data": {
      "image/png": "[encoded data removed]",
      "text/plain": [
       "<Figure size 432x288 with 1 Axes>"
      ]
     },
     "metadata": {
      "needs_background": "light"
     },
     "output_type": "display_data"
    }
   ],
   "source": [
    "tmp_data = data.query('kitchen_area > 80')\n",
    "tmp_data.plot(x = 'kitchen_area', y = 'total_area', sharex = False, kind = 'bar')"
   ]
  },
  {
   "cell_type": "markdown",
   "metadata": {},
   "source": [
    "Гипотеза подтвердилась, действительно все эти квартиры имеют весьма большую площадь"
   ]
  },
  {
   "cell_type": "markdown",
   "metadata": {},
   "source": [
    "Построим гистограмму для просмотра распределения относительно стоимости"
   ]
  },
  {
   "cell_type": "code",
   "execution_count": 34,
   "metadata": {},
   "outputs": [
    {
     "name": "stdout",
     "output_type": "stream",
     "text": [
      "count    2.369900e+04\n",
      "mean     6.541549e+06\n",
      "std      1.088701e+07\n",
      "min      1.219000e+04\n",
      "25%      3.400000e+06\n",
      "50%      4.650000e+06\n",
      "75%      6.800000e+06\n",
      "max      7.630000e+08\n",
      "Name: last_price, dtype: float64\n"
     ]
    },
    {
     "data": {
      "image/png": "[encoded data removed]",
      "text/plain": [
       "<Figure size 432x288 with 1 Axes>"
      ]
     },
     "metadata": {
      "needs_background": "light"
     },
     "output_type": "display_data"
    },
    {
     "data": {
      "image/png": "[encoded data removed]",
      "text/plain": [
       "<Figure size 432x288 with 1 Axes>"
      ]
     },
     "metadata": {
      "needs_background": "light"
     },
     "output_type": "display_data"
    }
   ],
   "source": [
    "print(data['last_price'].describe())\n",
    "data.boxplot('last_price')\n",
    "plt.show()\n",
    "# Строим график без выброса\n",
    "data.boxplot('last_price')\n",
    "plt.ylim(0, 5 * 1e8)\n",
    "plt.show()"
   ]
  },
  {
   "cell_type": "markdown",
   "metadata": {},
   "source": [
    "<div class=\"alert alert-warning\"; style=\"border-left: 7px solid Gold\">\n",
    "<h5> ⚠️ <font color=\"DarkGoldenRod\">v2 Комментарий ревьюера (желтый)</font></h5>\n",
    "\n",
    "Супер, вижу, что лимит добавлен, но верхнюю границу лучше сделать меньше, чтобы было проще разглядеть границы ящика с усами.\n",
    "\n",
    "</div>"
   ]
  },
  {
   "cell_type": "markdown",
   "metadata": {},
   "source": [
    "Замечен выброс, где стоимость квартиры превысила 7 * 10^8 рублей, это нормальное наблюдение, так как мы уже раньше замечали квартиры с большой стоимостью. Но это всего лишь одна квартира, возьмем срез без нее чтобы посчитать медианное значение для полученных данных"
   ]
  },
  {
   "cell_type": "code",
   "execution_count": 35,
   "metadata": {},
   "outputs": [
    {
     "name": "stdout",
     "output_type": "stream",
     "text": [
      "count    2.369800e+04\n",
      "mean     6.509628e+06\n",
      "std      9.715106e+06\n",
      "min      1.219000e+04\n",
      "25%      3.400000e+06\n",
      "50%      4.650000e+06\n",
      "75%      6.799750e+06\n",
      "max      4.200000e+08\n",
      "Name: last_price, dtype: float64\n"
     ]
    },
    {
     "data": {
      "text/plain": [
       "last_price              1.000000\n",
       "price_metr              0.727362\n",
       "total_area              0.702586\n",
       "living_area             0.608300\n",
       "kitchen_area            0.437978\n",
       "rooms                   0.392334\n",
       "ponds_around3000        0.171210\n",
       "parks_around3000        0.168410\n",
       "total_images            0.111798\n",
       "days_exposition         0.095486\n",
       "ceiling_height          0.085430\n",
       "is_apartment            0.030361\n",
       "floor                   0.027020\n",
       "week_day                0.012541\n",
       "balcony                 0.004766\n",
       "month                   0.000668\n",
       "floors_total           -0.007491\n",
       "open_plan              -0.009689\n",
       "parks_nearest          -0.020398\n",
       "studio                 -0.028160\n",
       "airports_nearest       -0.028470\n",
       "year                   -0.047128\n",
       "ponds_nearest          -0.102284\n",
       "city_centers_nearest   -0.228474\n",
       "city_centers_km        -0.228780\n",
       "Name: last_price, dtype: float64"
      ]
     },
     "execution_count": 35,
     "metadata": {},
     "output_type": "execute_result"
    }
   ],
   "source": [
    "max_value = data['last_price'].max()\n",
    "tmp_data = data.query('last_price < @max_value')\n",
    "print(tmp_data['last_price'].describe())\n",
    "tmp_data.corr()['last_price'].sort_values(ascending = False)"
   ]
  },
  {
   "cell_type": "markdown",
   "metadata": {},
   "source": [
    "По свойству медианного значения, очевидно, что она не особо изменилась. Также я вычислил коэффиценты корреляции для данного столбца.\n",
    "Как видно, сразу несколько значений оказывают максимальное влияние на изменение данной велчины, а именно `price_metr`, `total_area`, `living_area`, `rooms` - эти зависимости вполне очевидны, но интересным можно выделить то, что наличие водоемов и парком помогает в увеличении стоимости квартиры"
   ]
  },
  {
   "cell_type": "markdown",
   "metadata": {},
   "source": [
    "Построим гистограмму для количества комнат и высоты потолков"
   ]
  },
  {
   "cell_type": "code",
   "execution_count": 36,
   "metadata": {},
   "outputs": [
    {
     "name": "stdout",
     "output_type": "stream",
     "text": [
      "count    23699.000000\n",
      "mean         2.070636\n",
      "std          1.078405\n",
      "min          0.000000\n",
      "25%          1.000000\n",
      "50%          2.000000\n",
      "75%          3.000000\n",
      "max         19.000000\n",
      "Name: rooms, dtype: float64\n"
     ]
    },
    {
     "data": {
      "text/plain": [
       "<AxesSubplot:>"
      ]
     },
     "execution_count": 36,
     "metadata": {},
     "output_type": "execute_result"
    },
    {
     "data": {
      "image/png": "[encoded data removed]",
      "text/plain": [
       "<Figure size 432x288 with 1 Axes>"
      ]
     },
     "metadata": {
      "needs_background": "light"
     },
     "output_type": "display_data"
    }
   ],
   "source": [
    "print(data['rooms'].describe())\n",
    "data['rooms'].hist(bins = 20, range = (0 , 10))"
   ]
  },
  {
   "cell_type": "markdown",
   "metadata": {},
   "source": [
    "Мы получили максимальное и минимальное значение, но стоит обратить внимание на квартиры с нулевым количеством комнат, в любом случае распределение является распределением Пуасонна, потому полученные значения являются вполне адекватными"
   ]
  },
  {
   "cell_type": "code",
   "execution_count": 37,
   "metadata": {},
   "outputs": [
    {
     "data": {
      "text/plain": [
       "rooms                   1.000000\n",
       "living_area             0.845977\n",
       "total_area              0.758344\n",
       "last_price              0.363343\n",
       "kitchen_area            0.256087\n",
       "parks_around3000        0.137257\n",
       "days_exposition         0.126961\n",
       "total_images            0.099288\n",
       "ponds_around3000        0.092693\n",
       "price_metr              0.055420\n",
       "ceiling_height          0.054457\n",
       "week_day                0.009182\n",
       "is_apartment            0.000399\n",
       "month                  -0.004469\n",
       "balcony                -0.015519\n",
       "parks_nearest          -0.054549\n",
       "year                   -0.055418\n",
       "ponds_nearest          -0.057689\n",
       "airports_nearest       -0.061199\n",
       "open_plan              -0.087500\n",
       "studio                 -0.147286\n",
       "floor                  -0.150862\n",
       "city_centers_km        -0.184374\n",
       "city_centers_nearest   -0.184864\n",
       "floors_total           -0.228215\n",
       "Name: rooms, dtype: float64"
      ]
     },
     "execution_count": 37,
     "metadata": {},
     "output_type": "execute_result"
    }
   ],
   "source": [
    "tmp_data = data.query('rooms != -1')\n",
    "tmp_data['studio'] = tmp_data['studio'].astype('int')\n",
    "tmp_data.corr()['rooms'].sort_values(ascending = False)"
   ]
  },
  {
   "cell_type": "code",
   "execution_count": 38,
   "metadata": {},
   "outputs": [
    {
     "name": "stdout",
     "output_type": "stream",
     "text": [
      "count    14504.000000\n",
      "mean         2.771499\n",
      "std          1.261056\n",
      "min          1.000000\n",
      "25%          2.520000\n",
      "50%          2.650000\n",
      "75%          2.800000\n",
      "max        100.000000\n",
      "Name: ceiling_height, dtype: float64\n"
     ]
    },
    {
     "data": {
      "image/png": "[encoded data removed]",
      "text/plain": [
       "<Figure size 432x288 with 1 Axes>"
      ]
     },
     "metadata": {
      "needs_background": "light"
     },
     "output_type": "display_data"
    },
    {
     "data": {
      "text/plain": [
       "ceiling_height          1.000000\n",
       "is_apartment            0.154959\n",
       "price_metr              0.122859\n",
       "total_area              0.095490\n",
       "living_area             0.090650\n",
       "last_price              0.085430\n",
       "ponds_around3000        0.078209\n",
       "kitchen_area            0.068318\n",
       "parks_around3000        0.065915\n",
       "rooms                   0.054457\n",
       "open_plan               0.042777\n",
       "balcony                 0.031216\n",
       "days_exposition         0.019091\n",
       "week_day                0.018473\n",
       "studio                  0.001674\n",
       "month                  -0.001399\n",
       "total_images           -0.001987\n",
       "floor                  -0.011798\n",
       "year                   -0.013567\n",
       "parks_nearest          -0.019167\n",
       "airports_nearest       -0.023947\n",
       "floors_total           -0.028732\n",
       "ponds_nearest          -0.059090\n",
       "city_centers_nearest   -0.091689\n",
       "city_centers_km        -0.091722\n",
       "Name: ceiling_height, dtype: float64"
      ]
     },
     "execution_count": 38,
     "metadata": {},
     "output_type": "execute_result"
    }
   ],
   "source": [
    "print(data['ceiling_height'].describe())\n",
    "data.boxplot('ceiling_height')\n",
    "#plt.ylim(0, 37)\n",
    "plt.show()\n",
    "data.corr()['ceiling_height'].sort_values(ascending = False)"
   ]
  },
  {
   "cell_type": "markdown",
   "metadata": {},
   "source": [
    "Здесь заметны 2 характерны выброса:\n",
    "- Значение 100м\n",
    "- Промежуток значений от от 10 до 40м\n",
    "\n",
    "Вероятно была допущена ошибка, где человек случайно ошибся на порядок, так как весьма странно видеть в квартирах потолки по 20+ метров. Потому я предлагаю в качестве решения - поделить значения из выбросов на 10. Но случай с 100 метрами стоит разобрать отдельно, так как если данная квартира не обладает огромной площадью, то странно будет видеть и 10 метровый потолок. Исходя из данных коэффицентов корреляции можно сказать о малой взаимосвязи между значением площади и значением высоты потолка, после устранения аномалий проведем вычисления еще раз"
   ]
  },
  {
   "cell_type": "code",
   "execution_count": 39,
   "metadata": {},
   "outputs": [
    {
     "data": {
      "text/plain": [
       "<AxesSubplot:xlabel='total_area'>"
      ]
     },
     "execution_count": 39,
     "metadata": {},
     "output_type": "execute_result"
    },
    {
     "data": {
      "image/png": "[encoded data removed]",
      "text/plain": [
       "<Figure size 432x288 with 1 Axes>"
      ]
     },
     "metadata": {
      "needs_background": "light"
     },
     "output_type": "display_data"
    }
   ],
   "source": [
    "data.plot(y = 'ceiling_height', x = 'total_area', grid = True, style = 'o')"
   ]
  },
  {
   "cell_type": "markdown",
   "metadata": {},
   "source": [
    "Построив данный график, получилось лучше заметить выбросы. Решено, делим большие значения на 10"
   ]
  },
  {
   "cell_type": "code",
   "execution_count": 40,
   "metadata": {},
   "outputs": [
    {
     "data": {
      "image/png": "[encoded data removed]",
      "text/plain": [
       "<Figure size 432x288 with 1 Axes>"
      ]
     },
     "metadata": {
      "needs_background": "light"
     },
     "output_type": "display_data"
    }
   ],
   "source": [
    "def determine_ceiling_height(row):\n",
    "    if row['ceiling_height'] >= 20:\n",
    "        return row['ceiling_height'] / 10\n",
    "    else:\n",
    "        return row['ceiling_height']\n",
    "\n",
    "data['ceiling_height'] = data.apply(determine_ceiling_height, axis=1)\n",
    "data.plot(y = 'ceiling_height', x = 'total_area', grid = True, style = 'o')\n",
    "plt.show()"
   ]
  },
  {
   "cell_type": "markdown",
   "metadata": {},
   "source": [
    "Но все равно настораживают оставшиеся большие потолки, сделаем так:\n",
    "- Если потолок = [6 : 8] -> делим на 3\n",
    "- Если потолок > 8 -> делим на 5\n"
   ]
  },
  {
   "cell_type": "code",
   "execution_count": 41,
   "metadata": {},
   "outputs": [
    {
     "data": {
      "image/png": "[encoded data removed]",
      "text/plain": [
       "<Figure size 432x288 with 1 Axes>"
      ]
     },
     "metadata": {
      "needs_background": "light"
     },
     "output_type": "display_data"
    },
    {
     "name": "stdout",
     "output_type": "stream",
     "text": [
      "count    14504.000000\n",
      "mean         2.725879\n",
      "std          0.278383\n",
      "min          1.000000\n",
      "25%          2.510000\n",
      "50%          2.650000\n",
      "75%          2.800000\n",
      "max          5.800000\n",
      "Name: ceiling_height, dtype: float64\n"
     ]
    }
   ],
   "source": [
    "def determine_ceiling_height(row):\n",
    "    if row['ceiling_height'] >= 20:\n",
    "        return row['ceiling_height'] / 10\n",
    "    elif (row['ceiling_height'] >= 6 and row['ceiling_height'] <= 8):\n",
    "        return row['ceiling_height'] / 3\n",
    "    elif (row['ceiling_height'] > 8 and row['ceiling_height'] < 20):\n",
    "        return row['ceiling_height'] / 5\n",
    "    else:\n",
    "        return row['ceiling_height']\n",
    "\n",
    "data['ceiling_height'] = data.apply(determine_ceiling_height, axis=1)\n",
    "data.plot(y = 'ceiling_height', x = 'total_area', grid = True, style = 'o')\n",
    "plt.show()\n",
    "print(data['ceiling_height'].describe())"
   ]
  },
  {
   "cell_type": "markdown",
   "metadata": {},
   "source": [
    "Теперь мы значительно улучшили ситуацию, больше нет таких аномальных значений.\n",
    "Далее рассмотрим гистограмму от типа этажа квартиры"
   ]
  },
  {
   "cell_type": "code",
   "execution_count": 42,
   "metadata": {},
   "outputs": [
    {
     "data": {
      "image/png": "[encoded data removed]",
      "text/plain": [
       "<Figure size 432x288 with 1 Axes>"
      ]
     },
     "metadata": {
      "needs_background": "light"
     },
     "output_type": "display_data"
    }
   ],
   "source": [
    "data['floor_type'].hist()\n",
    "plt.show()"
   ]
  },
  {
   "cell_type": "markdown",
   "metadata": {},
   "source": [
    "Мы видим вполне очевидную гистограмму, любому понятно, что этажей другого типа будет больше"
   ]
  },
  {
   "cell_type": "markdown",
   "metadata": {},
   "source": [
    "Рассмотрим общее количество этажей"
   ]
  },
  {
   "cell_type": "code",
   "execution_count": 43,
   "metadata": {},
   "outputs": [
    {
     "data": {
      "image/png": "[encoded data removed]",
      "text/plain": [
       "<Figure size 432x288 with 1 Axes>"
      ]
     },
     "metadata": {
      "needs_background": "light"
     },
     "output_type": "display_data"
    },
    {
     "name": "stdout",
     "output_type": "stream",
     "text": [
      "count    23613.000000\n",
      "mean        10.673824\n",
      "std          6.597173\n",
      "min          1.000000\n",
      "25%          5.000000\n",
      "50%          9.000000\n",
      "75%         16.000000\n",
      "max         60.000000\n",
      "Name: floors_total, dtype: float64\n"
     ]
    },
    {
     "data": {
      "text/plain": [
       "floors_total            1.000000\n",
       "floor                   0.678059\n",
       "balcony                 0.172812\n",
       "price_metr              0.148098\n",
       "kitchen_area            0.115545\n",
       "airports_nearest        0.108288\n",
       "parks_nearest           0.097527\n",
       "studio                  0.070151\n",
       "open_plan               0.050791\n",
       "ponds_nearest           0.038864\n",
       "city_centers_nearest    0.019774\n",
       "city_centers_km         0.019059\n",
       "month                   0.016651\n",
       "total_images            0.010427\n",
       "year                    0.007845\n",
       "week_day                0.000496\n",
       "last_price             -0.006984\n",
       "is_apartment           -0.026351\n",
       "days_exposition        -0.052234\n",
       "total_area             -0.075774\n",
       "ceiling_height         -0.095128\n",
       "ponds_around3000       -0.122735\n",
       "living_area            -0.169311\n",
       "rooms                  -0.228215\n",
       "parks_around3000       -0.252833\n",
       "Name: floors_total, dtype: float64"
      ]
     },
     "execution_count": 43,
     "metadata": {},
     "output_type": "execute_result"
    }
   ],
   "source": [
    "data['floors_total'].hist()\n",
    "plt.show()\n",
    "print(data['floors_total'].describe())\n",
    "data.corr()['floors_total'].sort_values(ascending = False)"
   ]
  },
  {
   "cell_type": "markdown",
   "metadata": {},
   "source": [
    "После построения графиков и нахождения коэффицентов корреляции можно сказать следующее:\n",
    "- Распределение является распределением Пуасонна, никаких странных данных не обнаружено\n",
    "- Встречаются квартиры из высоток, но их немного\n",
    "- Больше всего оказывают влияние на значение количества этаже, как не странно, значение этажа, наличие балкона и стоимость за квадратный метр, а также количество парков в радиусе 3км"
   ]
  },
  {
   "cell_type": "markdown",
   "metadata": {},
   "source": [
    "Теперь рассмотрим расстояние от центра города в метрах и расстояние до ближайшего парка"
   ]
  },
  {
   "cell_type": "code",
   "execution_count": 44,
   "metadata": {},
   "outputs": [
    {
     "data": {
      "image/png": "[encoded data removed]",
      "text/plain": [
       "<Figure size 432x288 with 1 Axes>"
      ]
     },
     "metadata": {
      "needs_background": "light"
     },
     "output_type": "display_data"
    },
    {
     "name": "stdout",
     "output_type": "stream",
     "text": [
      "count    18180.000000\n",
      "mean     14191.277833\n",
      "std       8608.386210\n",
      "min        181.000000\n",
      "25%       9238.000000\n",
      "50%      13098.500000\n",
      "75%      16293.000000\n",
      "max      65968.000000\n",
      "Name: city_centers_nearest, dtype: float64\n"
     ]
    },
    {
     "data": {
      "text/plain": [
       "city_centers_nearest    1.000000\n",
       "city_centers_km         0.999452\n",
       "airports_nearest        0.272184\n",
       "balcony                 0.065050\n",
       "year                    0.032333\n",
       "ponds_nearest           0.028903\n",
       "floors_total            0.019774\n",
       "floor                   0.009084\n",
       "is_apartment            0.003732\n",
       "open_plan              -0.004204\n",
       "studio                 -0.007029\n",
       "week_day               -0.007750\n",
       "month                  -0.008978\n",
       "parks_nearest          -0.040650\n",
       "total_images           -0.047666\n",
       "days_exposition        -0.060714\n",
       "ponds_around3000       -0.074577\n",
       "kitchen_area           -0.158681\n",
       "parks_around3000       -0.161738\n",
       "rooms                  -0.184864\n",
       "last_price             -0.206747\n",
       "living_area            -0.231368\n",
       "total_area             -0.231446\n",
       "price_metr             -0.317951\n",
       "ceiling_height         -0.365339\n",
       "Name: city_centers_nearest, dtype: float64"
      ]
     },
     "execution_count": 44,
     "metadata": {},
     "output_type": "execute_result"
    }
   ],
   "source": [
    "data['city_centers_nearest'].hist(bins = 50)\n",
    "plt.show()\n",
    "print(data['city_centers_nearest'].describe())\n",
    "data.corr()['city_centers_nearest'].sort_values(ascending = False)"
   ]
  },
  {
   "cell_type": "markdown",
   "metadata": {},
   "source": [
    "Не встречено никаких аномальных значений. Проводя анализ графика и коэффицентов корреляции, можно сказать следующее:\n",
    "- Самая далекая квартира находится в 65км от центра города\n",
    "- Расположение ближайшего аэропорта влияет на значение данной величины, оно вполне логично\n",
    "- А также следующие величины оказывают большое влияние: `ceiling_height`, `price_metr`, `total_area`, `living_area`, `living_area`, `last_price`\n"
   ]
  },
  {
   "cell_type": "code",
   "execution_count": 45,
   "metadata": {},
   "outputs": [
    {
     "data": {
      "image/png": "[encoded data removed]",
      "text/plain": [
       "<Figure size 432x288 with 1 Axes>"
      ]
     },
     "metadata": {
      "needs_background": "light"
     },
     "output_type": "display_data"
    },
    {
     "name": "stdout",
     "output_type": "stream",
     "text": [
      "count    8079.000000\n",
      "mean      490.804555\n",
      "std       342.317995\n",
      "min         1.000000\n",
      "25%       288.000000\n",
      "50%       455.000000\n",
      "75%       612.000000\n",
      "max      3190.000000\n",
      "Name: parks_nearest, dtype: float64\n"
     ]
    },
    {
     "data": {
      "text/plain": [
       "parks_nearest           1.000000\n",
       "floors_total            0.097527\n",
       "ponds_around3000        0.077280\n",
       "floor                   0.073045\n",
       "balcony                 0.033256\n",
       "days_exposition         0.023254\n",
       "month                   0.018966\n",
       "kitchen_area            0.015195\n",
       "open_plan               0.010612\n",
       "studio                  0.009134\n",
       "price_metr              0.006933\n",
       "ponds_nearest           0.000692\n",
       "total_images           -0.008347\n",
       "last_price             -0.016414\n",
       "week_day               -0.019496\n",
       "year                   -0.020196\n",
       "total_area             -0.021497\n",
       "is_apartment           -0.033410\n",
       "city_centers_km        -0.040241\n",
       "city_centers_nearest   -0.040650\n",
       "living_area            -0.050167\n",
       "rooms                  -0.054549\n",
       "ceiling_height         -0.058895\n",
       "airports_nearest       -0.070058\n",
       "parks_around3000       -0.259514\n",
       "Name: parks_nearest, dtype: float64"
      ]
     },
     "execution_count": 45,
     "metadata": {},
     "output_type": "execute_result"
    }
   ],
   "source": [
    "data['parks_nearest'].hist(bins = 50)\n",
    "plt.show()\n",
    "print(data['parks_nearest'].describe())\n",
    "data.corr()['parks_nearest'].sort_values(ascending = False)"
   ]
  },
  {
   "cell_type": "markdown",
   "metadata": {},
   "source": [
    "Никаких аномальных значений не обнаружено, все величины оказывают малое влияние на значение данного показателя, кроме `parks_around3000`, но это очевидно"
   ]
  },
  {
   "cell_type": "markdown",
   "metadata": {},
   "source": [
    "<div class=\"alert alert-success\"; style=\"border-left: 7px solid green\">\n",
    "<h5> ✔️ <font color=\"green\">Комментарий ревьюера (зеленый)</font></h5>\n",
    "\n",
    "Очень красиво изучены выбросы 😃\n",
    "\n",
    "</div>"
   ]
  },
  {
   "cell_type": "markdown",
   "metadata": {},
   "source": [
    "Теперь исследуем, как быстро продавались квартиры, для этого исследуем гистограмму столбца `days_exposition`, затем посмотрим, от каких величин сильнее всего зависит этот показатель"
   ]
  },
  {
   "cell_type": "code",
   "execution_count": 46,
   "metadata": {},
   "outputs": [
    {
     "data": {
      "image/png": "[encoded data removed]",
      "text/plain": [
       "<Figure size 432x288 with 1 Axes>"
      ]
     },
     "metadata": {
      "needs_background": "light"
     },
     "output_type": "display_data"
    },
    {
     "name": "stdout",
     "output_type": "stream",
     "text": [
      "count    20518.000000\n",
      "mean       180.888634\n",
      "std        219.727988\n",
      "min          1.000000\n",
      "25%         45.000000\n",
      "50%         95.000000\n",
      "75%        232.000000\n",
      "max       1580.000000\n",
      "Name: days_exposition, dtype: float64\n"
     ]
    },
    {
     "data": {
      "text/plain": [
       "days_exposition         1.000000\n",
       "total_area              0.149675\n",
       "living_area             0.142454\n",
       "ceiling_height          0.131716\n",
       "rooms                   0.126961\n",
       "kitchen_area            0.115383\n",
       "last_price              0.081146\n",
       "ponds_around3000        0.073162\n",
       "parks_around3000        0.060491\n",
       "price_metr              0.048120\n",
       "parks_nearest           0.023254\n",
       "is_apartment            0.015262\n",
       "week_day                0.002759\n",
       "airports_nearest       -0.018271\n",
       "studio                 -0.022476\n",
       "open_plan              -0.024112\n",
       "total_images           -0.026657\n",
       "balcony                -0.027834\n",
       "month                  -0.030049\n",
       "floor                  -0.039463\n",
       "floors_total           -0.052234\n",
       "city_centers_km        -0.060686\n",
       "city_centers_nearest   -0.060714\n",
       "ponds_nearest          -0.077879\n",
       "year                   -0.611308\n",
       "Name: days_exposition, dtype: float64"
      ]
     },
     "execution_count": 46,
     "metadata": {},
     "output_type": "execute_result"
    }
   ],
   "source": [
    "data['days_exposition'].hist(bins = 50)\n",
    "plt.show()\n",
    "print(data['days_exposition'].describe())\n",
    "data.corr()['days_exposition'].sort_values(ascending = False)"
   ]
  },
  {
   "cell_type": "markdown",
   "metadata": {},
   "source": [
    "<div class=\"alert alert-success\"; style=\"border-left: 7px solid green\">\n",
    "<h5> ✔️ <font color=\"green\">Комментарий ревьюера (зеленый)</font></h5>\n",
    "\n",
    "Молодец, верно интерпретированы данные из графика и .describe() 😃\n",
    "\n",
    "</div>"
   ]
  },
  {
   "cell_type": "markdown",
   "metadata": {},
   "source": [
    "Аномальных данных не обнаружено, но есть величины, оказывающее наибольшее влияние на показатель продажи:\n",
    "- Год размещения объявления\n",
    "- Общая площадь\n",
    "- Жилая плоащдь\n",
    "- Высота потолков\n",
    "- Количество комнат\n",
    "- Площадь кухни\n",
    "\n",
    "Медианное значение: 95 дней, среднее значение: 180 дней. \\\n",
    "Есть гипотеза, что квартиры с бОльшей площадью продаются дольше, можно это проверить на графике"
   ]
  },
  {
   "cell_type": "code",
   "execution_count": 47,
   "metadata": {},
   "outputs": [
    {
     "data": {
      "text/plain": [
       "0.14967517208715722"
      ]
     },
     "execution_count": 47,
     "metadata": {},
     "output_type": "execute_result"
    },
    {
     "data": {
      "image/png": "[encoded data removed]",
      "text/plain": [
       "<Figure size 432x288 with 1 Axes>"
      ]
     },
     "metadata": {
      "needs_background": "light"
     },
     "output_type": "display_data"
    }
   ],
   "source": [
    "data.plot(x = 'days_exposition', y = 'total_area', style = 'o')\n",
    "data['days_exposition'].corr(data['total_area'])"
   ]
  },
  {
   "cell_type": "markdown",
   "metadata": {},
   "source": [
    "График мало напоминает линейную зависимость, есть квартиры и с меньшей площадью, продающиеся весьма плохо. Построим. график зависимости от года размещения объявления"
   ]
  },
  {
   "cell_type": "code",
   "execution_count": 48,
   "metadata": {},
   "outputs": [
    {
     "data": {
      "text/plain": [
       "-0.6113075962510577"
      ]
     },
     "execution_count": 48,
     "metadata": {},
     "output_type": "execute_result"
    },
    {
     "data": {
      "image/png": "[encoded data removed]",
      "text/plain": [
       "<Figure size 432x288 with 1 Axes>"
      ]
     },
     "metadata": {
      "needs_background": "light"
     },
     "output_type": "display_data"
    }
   ],
   "source": [
    "data.plot(x = 'year', y = 'days_exposition', style = 'o')\n",
    "data['year'].corr(data['days_exposition'])"
   ]
  },
  {
   "cell_type": "markdown",
   "metadata": {},
   "source": [
    "Здесь очень заметно, что новостройки продаются куда лучше, чем старые квартиры. Рассмотри гистограмму еще раз и решим, какие квартиры можно считать быстрыми в продаже, а какие долгими"
   ]
  },
  {
   "cell_type": "code",
   "execution_count": 49,
   "metadata": {},
   "outputs": [
    {
     "data": {
      "text/plain": [
       "<AxesSubplot:>"
      ]
     },
     "execution_count": 49,
     "metadata": {},
     "output_type": "execute_result"
    },
    {
     "data": {
      "image/png": "[encoded data removed]",
      "text/plain": [
       "<Figure size 432x288 with 1 Axes>"
      ]
     },
     "metadata": {
      "needs_background": "light"
     },
     "output_type": "display_data"
    }
   ],
   "source": [
    "data['days_exposition'].hist(bins = 100)"
   ]
  },
  {
   "cell_type": "markdown",
   "metadata": {},
   "source": [
    "Из графика видно, что большинство квартир получилось продать менее чем за 200 дней, причем количество проданных за 100 дней тоже велико, будем счиать проданные < 100 дней квартиры быстрыми в продаже. С 200 до 500 дней средними, остальные - долгими"
   ]
  },
  {
   "cell_type": "markdown",
   "metadata": {},
   "source": [
    "Теперь выясним, какие факторы больше всего влияют на общую (полную) стоимость объекта, для этого построим графики зависимости от:\n",
    "- общей площади\n",
    "- жилой площади\n",
    "- площади кухни\n",
    "- количество комнат\n",
    "- типа этажа, на котором расположена квартира (первый, последний, другой)\n",
    "- даты размещения (день недели, месяц, год)\n"
   ]
  },
  {
   "cell_type": "markdown",
   "metadata": {},
   "source": [
    "Создадим колонки `total_area_group`, `living_area_group` чтоб распределить квартиры по группам, затем сгруппировать "
   ]
  },
  {
   "cell_type": "code",
   "execution_count": 50,
   "metadata": {},
   "outputs": [],
   "source": [
    "def determine_group_total_area(row, median_value, type):\n",
    "    lower_bound = median_value * 0.75\n",
    "    upper_bound = median_value * 1.25\n",
    "    if row[type] >= upper_bound:\n",
    "        return 'Большая'\n",
    "    elif row[type] < lower_bound:\n",
    "        return 'Небольшая'\n",
    "    else:\n",
    "        return 'Средняя'\n",
    "\n",
    "median_value = data['total_area'].median()\n",
    "data['total_area_group'] = data.apply(lambda row: determine_group_total_area(row, median_value, 'total_area'), axis=1)\n",
    "median_value = data['living_area'].median()\n",
    "data['living_area_group'] = data.apply(lambda row: determine_group_total_area(row, median_value, 'living_area'), axis=1)"
   ]
  },
  {
   "cell_type": "markdown",
   "metadata": {},
   "source": [
    "Теперь строим графики по полученным графикам"
   ]
  },
  {
   "cell_type": "code",
   "execution_count": 51,
   "metadata": {},
   "outputs": [
    {
     "name": "stdout",
     "output_type": "stream",
     "text": [
      "0.5664915336952651\n"
     ]
    },
    {
     "data": {
      "image/png": "[encoded data removed]",
      "text/plain": [
       "<Figure size 432x288 with 1 Axes>"
      ]
     },
     "metadata": {
      "needs_background": "light"
     },
     "output_type": "display_data"
    },
    {
     "data": {
      "image/png": "[encoded data removed]",
      "text/plain": [
       "<Figure size 432x288 with 1 Axes>"
      ]
     },
     "metadata": {
      "needs_background": "light"
     },
     "output_type": "display_data"
    }
   ],
   "source": [
    "data.groupby('living_area_group').median().sort_values('last_price').plot(x = 'living_area', y = 'last_price', grid = True, style = 'o-')\n",
    "print(data['living_area'].corr(data['last_price']))\n",
    "None\n",
    "data.plot(x = 'living_area', y = 'last_price', kind = 'scatter', alpha = 0.5)\n",
    "plt.show()"
   ]
  },
  {
   "cell_type": "markdown",
   "metadata": {},
   "source": [
    "<div class=\"alert alert-success\"; style=\"border-left: 7px solid green\">\n",
    "<h5> ✔️ <font color=\"green\">v2 Комментарий ревьюера (зеленый)</font></h5>\n",
    "\n",
    "✅ График построен верно, спасибо, что добавлена прозрачность, так нагляднее. 👍\n",
    " \n",
    "</div>"
   ]
  },
  {
   "cell_type": "markdown",
   "metadata": {},
   "source": [
    "<div class=\"alert alert-success\"; style=\"border-left: 7px solid green\">\n",
    "<h5> ✔️ <font color=\"green\">Комментарий ревьюера (зеленый)</font></h5>\n",
    "\n",
    "Полный вывод, правильно посчитана и интерпретирована корреляция.\n",
    "\n",
    "</div>"
   ]
  },
  {
   "cell_type": "markdown",
   "metadata": {},
   "source": [
    "Из графика видно, что при увеличении жилой площади, увеличивается и стоимость квартиры"
   ]
  },
  {
   "cell_type": "code",
   "execution_count": 52,
   "metadata": {},
   "outputs": [
    {
     "name": "stdout",
     "output_type": "stream",
     "text": [
      "0.6536750579657242\n"
     ]
    },
    {
     "data": {
      "image/png": "[encoded data removed]",
      "text/plain": [
       "<Figure size 432x288 with 1 Axes>"
      ]
     },
     "metadata": {
      "needs_background": "light"
     },
     "output_type": "display_data"
    },
    {
     "data": {
      "image/png": "[encoded data removed]",
      "text/plain": [
       "<Figure size 432x288 with 1 Axes>"
      ]
     },
     "metadata": {
      "needs_background": "light"
     },
     "output_type": "display_data"
    }
   ],
   "source": [
    "data.groupby('total_area_group').median().sort_values('last_price').plot(x = 'total_area', y = 'last_price', grid = True, style = 'o-')\n",
    "print(data['total_area'].corr(data['last_price']))\n",
    "None\n",
    "data.plot(x = 'total_area', y = 'last_price', kind = 'scatter', alpha = 0.5)\n",
    "plt.show()"
   ]
  },
  {
   "cell_type": "markdown",
   "metadata": {},
   "source": [
    "Ситуация аналогичная. Проделаем то же самое с площадью кухни"
   ]
  },
  {
   "cell_type": "code",
   "execution_count": 53,
   "metadata": {},
   "outputs": [
    {
     "name": "stdout",
     "output_type": "stream",
     "text": [
      "0.3864437841938422\n"
     ]
    },
    {
     "data": {
      "image/png": "[encoded data removed]",
      "text/plain": [
       "<Figure size 432x288 with 1 Axes>"
      ]
     },
     "metadata": {
      "needs_background": "light"
     },
     "output_type": "display_data"
    },
    {
     "data": {
      "image/png": "[encoded data removed]",
      "text/plain": [
       "<Figure size 432x288 with 1 Axes>"
      ]
     },
     "metadata": {
      "needs_background": "light"
     },
     "output_type": "display_data"
    }
   ],
   "source": [
    "median_value = data['kitchen_area'].median()\n",
    "data['kitchen_area_group'] = data.apply(lambda row: determine_group_total_area(row, median_value, 'kitchen_area'), axis=1)\n",
    "data.groupby('kitchen_area_group').median().sort_values('last_price').plot(x = 'kitchen_area', y = 'last_price', grid = True, style = 'o-')\n",
    "print(data['kitchen_area'].corr(data['last_price']))\n",
    "None\n",
    "data.plot(x = 'kitchen_area', y = 'last_price', kind = 'scatter', alpha = 0.5)\n",
    "plt.show()"
   ]
  },
  {
   "cell_type": "markdown",
   "metadata": {},
   "source": [
    "Здесь мы видим идентичную ситуацию, вполне логичную, так как все эти величины зависят от площади квартиры, график зависимости от которой мы уже построили. \n",
    "Теперь сгруппируем данные по количеству комнат и исследуем зависимость от цены"
   ]
  },
  {
   "cell_type": "code",
   "execution_count": 54,
   "metadata": {},
   "outputs": [
    {
     "data": {
      "image/png": "[encoded data removed]",
      "text/plain": [
       "<Figure size 432x288 with 1 Axes>"
      ]
     },
     "metadata": {
      "needs_background": "light"
     },
     "output_type": "display_data"
    },
    {
     "name": "stdout",
     "output_type": "stream",
     "text": [
      "0.3633428499648948\n"
     ]
    },
    {
     "data": {
      "image/png": "[encoded data removed]",
      "text/plain": [
       "<Figure size 432x288 with 1 Axes>"
      ]
     },
     "metadata": {
      "needs_background": "light"
     },
     "output_type": "display_data"
    }
   ],
   "source": [
    "tmp_data = data.groupby('rooms').median().sort_values('rooms')\n",
    "tmp_data.plot(y = 'last_price', grid = True, style = 'o-')\n",
    "plt.show()\n",
    "print(data['rooms'].corr(data['last_price']))\n",
    "None\n",
    "data.plot(x = 'rooms', y = 'last_price', kind = 'scatter', alpha = 0.5)\n",
    "plt.show()"
   ]
  },
  {
   "cell_type": "markdown",
   "metadata": {},
   "source": [
    "Можно заметить некоторую зависимость стоимости квартиры от количества комнат в ней, а именно заметно, что с увеличением количества комнат, растет и общая стоимость квартиры. Также видно, что квартиры с 12 комнатами имеют наибольшее значение медианы, скорее всего это связано с тем, что таких квартир крайне мало, потому медиана совпадает с значением ее стоимости"
   ]
  },
  {
   "cell_type": "markdown",
   "metadata": {},
   "source": [
    "Теперь сгруппируем данные по типу этажа"
   ]
  },
  {
   "cell_type": "code",
   "execution_count": 55,
   "metadata": {},
   "outputs": [
    {
     "data": {
      "text/plain": [
       "<AxesSubplot:xlabel='floor_type'>"
      ]
     },
     "execution_count": 55,
     "metadata": {},
     "output_type": "execute_result"
    },
    {
     "data": {
      "image/png": "[encoded data removed]",
      "text/plain": [
       "<Figure size 432x288 with 1 Axes>"
      ]
     },
     "metadata": {
      "needs_background": "light"
     },
     "output_type": "display_data"
    }
   ],
   "source": [
    "data.groupby('floor_type').median().sort_values('last_price').plot(y = 'last_price', grid = True, style = \"o-\")"
   ]
  },
  {
   "cell_type": "markdown",
   "metadata": {},
   "source": [
    "Зависимость также есть и очень похожа на линейную. Можно заметить, что квартиры на 1 этаже стоят дешевле остальных"
   ]
  },
  {
   "cell_type": "markdown",
   "metadata": {},
   "source": [
    "Теперь построим три графика зависимостей по дню, месяцу и году размещения объявления"
   ]
  },
  {
   "cell_type": "code",
   "execution_count": 56,
   "metadata": {},
   "outputs": [
    {
     "data": {
      "image/png": "[encoded data removed]",
      "text/plain": [
       "<Figure size 432x288 with 1 Axes>"
      ]
     },
     "metadata": {
      "needs_background": "light"
     },
     "output_type": "display_data"
    },
    {
     "data": {
      "image/png": "[encoded data removed]",
      "text/plain": [
       "<Figure size 432x288 with 1 Axes>"
      ]
     },
     "metadata": {
      "needs_background": "light"
     },
     "output_type": "display_data"
    },
    {
     "data": {
      "image/png": "[encoded data removed]",
      "text/plain": [
       "<Figure size 432x288 with 1 Axes>"
      ]
     },
     "metadata": {
      "needs_background": "light"
     },
     "output_type": "display_data"
    }
   ],
   "source": [
    "data_day = data.groupby('week_day').median().sort_values('week_day')\n",
    "data_month = data.groupby('month').median().sort_values('month')\n",
    "data_year = data.groupby('year').median().sort_values('year')\n",
    "data_day.plot(y = 'last_price', grid = True, style = \"o-\")\n",
    "plt.show()\n",
    "data_month.plot(y = 'last_price', grid = True, style = \"o-\")\n",
    "plt.show()\n",
    "data_year.plot(y = 'last_price', grid = True, style = \"o-\")\n",
    "plt.show()"
   ]
  },
  {
   "cell_type": "markdown",
   "metadata": {},
   "source": [
    "<div class=\"alert alert-warning\"; style=\"border-left: 7px solid Gold\">\n",
    "<h5> ⚠️ <font color=\"DarkGoldenRod\">Комментарий ревьюера (желтый)</font></h5>\n",
    "\n",
    "Да, выводы верные, исходя из данного графика. Рекомендую дополнительно рассмотреть динамику цены м2 по годам. И сделать дополнительные выводы.\n",
    "\n",
    "</div>"
   ]
  },
  {
   "cell_type": "markdown",
   "metadata": {},
   "source": [
    "Видно, что зависимость не существенная, но есть, конечно, некоторые факты:\n",
    "- Стоимость квартиры в понедельник самая малая, в остальные дни стоимость выше\n",
    "- Летом квартиры продавались с наименьшей стоимостью, в Апреле ситуация была с точностью наоборот\n",
    "- В 2014 году квартиры были самыми дорогими, затем был спад, после которого снова произошел рост"
   ]
  },
  {
   "cell_type": "markdown",
   "metadata": {},
   "source": [
    "#### Подытог:\n",
    "Общая площадь, жилая площадь, площадь кухни и количество комнат очень влияют на значени стоимости квартиры, также можно заметить что в 2014 году квартиры продавались с наибольшей стоимостью, я думаю это связано с кризисом или какими-либо политическими событиями в тот момент"
   ]
  },
  {
   "cell_type": "markdown",
   "metadata": {},
   "source": [
    "Посчитаем населенные пункты с наибольшим количеством объявлений"
   ]
  },
  {
   "cell_type": "code",
   "execution_count": 57,
   "metadata": {},
   "outputs": [
    {
     "data": {
      "text/plain": [
       "['Санкт-Петербург',\n",
       " 'поселок Мурино',\n",
       " 'поселок Шушары',\n",
       " 'Всеволожск',\n",
       " 'Пушкин',\n",
       " 'Колпино',\n",
       " 'поселок Парголово',\n",
       " 'Гатчина',\n",
       " 'деревня Кудрово',\n",
       " 'Выборг']"
      ]
     },
     "execution_count": 57,
     "metadata": {},
     "output_type": "execute_result"
    }
   ],
   "source": [
    "data_name_max = data.pivot_table(index='locality_name', values='total_area', aggfunc='count')\n",
    "most_common_names = list(data_name_max.sort_values('total_area' , ascending = False).head(10).index)\n",
    "most_common_names\n"
   ]
  },
  {
   "cell_type": "code",
   "execution_count": 58,
   "metadata": {},
   "outputs": [
    {
     "data": {
      "image/png": "[encoded data removed]",
      "text/plain": [
       "<Figure size 432x288 with 1 Axes>"
      ]
     },
     "metadata": {
      "needs_background": "light"
     },
     "output_type": "display_data"
    },
    {
     "data": {
      "text/html": [
       "<div>\n",
       "<style scoped>\n",
       "    .dataframe tbody tr th:only-of-type {\n",
       "        vertical-align: middle;\n",
       "    }\n",
       "\n",
       "    .dataframe tbody tr th {\n",
       "        vertical-align: top;\n",
       "    }\n",
       "\n",
       "    .dataframe thead th {\n",
       "        text-align: right;\n",
       "    }\n",
       "</style>\n",
       "<table border=\"1\" class=\"dataframe\">\n",
       "  <thead>\n",
       "    <tr style=\"text-align: right;\">\n",
       "      <th></th>\n",
       "      <th>price_metr</th>\n",
       "    </tr>\n",
       "    <tr>\n",
       "      <th>locality_name</th>\n",
       "      <th></th>\n",
       "    </tr>\n",
       "  </thead>\n",
       "  <tbody>\n",
       "    <tr>\n",
       "      <th>Санкт-Петербург</th>\n",
       "      <td>114849.008793</td>\n",
       "    </tr>\n",
       "    <tr>\n",
       "      <th>Пушкин</th>\n",
       "      <td>103125.819377</td>\n",
       "    </tr>\n",
       "    <tr>\n",
       "      <th>деревня Кудрово</th>\n",
       "      <td>92473.547559</td>\n",
       "    </tr>\n",
       "    <tr>\n",
       "      <th>поселок Парголово</th>\n",
       "      <td>90175.913089</td>\n",
       "    </tr>\n",
       "    <tr>\n",
       "      <th>поселок Мурино</th>\n",
       "      <td>85681.762572</td>\n",
       "    </tr>\n",
       "    <tr>\n",
       "      <th>поселок Шушары</th>\n",
       "      <td>78677.364318</td>\n",
       "    </tr>\n",
       "    <tr>\n",
       "      <th>Колпино</th>\n",
       "      <td>75424.579112</td>\n",
       "    </tr>\n",
       "    <tr>\n",
       "      <th>Гатчина</th>\n",
       "      <td>68746.146515</td>\n",
       "    </tr>\n",
       "    <tr>\n",
       "      <th>Всеволожск</th>\n",
       "      <td>68654.473970</td>\n",
       "    </tr>\n",
       "    <tr>\n",
       "      <th>Выборг</th>\n",
       "      <td>58141.909325</td>\n",
       "    </tr>\n",
       "  </tbody>\n",
       "</table>\n",
       "</div>"
      ],
      "text/plain": [
       "                      price_metr\n",
       "locality_name                   \n",
       "Санкт-Петербург    114849.008793\n",
       "Пушкин             103125.819377\n",
       "деревня Кудрово     92473.547559\n",
       "поселок Парголово   90175.913089\n",
       "поселок Мурино      85681.762572\n",
       "поселок Шушары      78677.364318\n",
       "Колпино             75424.579112\n",
       "Гатчина             68746.146515\n",
       "Всеволожск          68654.473970\n",
       "Выборг              58141.909325"
      ]
     },
     "execution_count": 58,
     "metadata": {},
     "output_type": "execute_result"
    }
   ],
   "source": [
    "data_common_names = data.query('locality_name in @most_common_names')\n",
    "data_common_names.pivot_table(index = 'locality_name', values = 'price_metr', aggfunc = 'mean').sort_values('price_metr', ascending = False).plot(kind = 'bar', grid = True)\n",
    "plt.show()\n",
    "data_common_names.pivot_table(index = 'locality_name', values = 'price_metr', aggfunc = 'mean').sort_values('price_metr', ascending = False)"
   ]
  },
  {
   "cell_type": "markdown",
   "metadata": {},
   "source": [
    "<div class=\"alert alert-success\"; style=\"border-left: 7px solid green\">\n",
    "<h5> ✔️ <font color=\"green\">v2 Комментарий ревьюера (зеленый)</font></h5>\n",
    "\n",
    "✅ Спасибо за интересные наблюдения 😃\n",
    " \n",
    "</div>"
   ]
  },
  {
   "cell_type": "markdown",
   "metadata": {},
   "source": [
    "Как видно, в Санкт-Петербурге средняя стоимость за квадратный метр составлякт почти 115000 рублей, в то время как в Выборге почти вдвое меньше "
   ]
  },
  {
   "cell_type": "markdown",
   "metadata": {},
   "source": [
    "Теперь рассчитаем стоимость за каждый километр."
   ]
  },
  {
   "cell_type": "code",
   "execution_count": 59,
   "metadata": {},
   "outputs": [
    {
     "data": {
      "text/html": [
       "<div>\n",
       "<style scoped>\n",
       "    .dataframe tbody tr th:only-of-type {\n",
       "        vertical-align: middle;\n",
       "    }\n",
       "\n",
       "    .dataframe tbody tr th {\n",
       "        vertical-align: top;\n",
       "    }\n",
       "\n",
       "    .dataframe thead th {\n",
       "        text-align: right;\n",
       "    }\n",
       "</style>\n",
       "<table border=\"1\" class=\"dataframe\">\n",
       "  <thead>\n",
       "    <tr style=\"text-align: right;\">\n",
       "      <th></th>\n",
       "      <th>price_metr</th>\n",
       "    </tr>\n",
       "    <tr>\n",
       "      <th>mean_price_km</th>\n",
       "      <th></th>\n",
       "    </tr>\n",
       "  </thead>\n",
       "  <tbody>\n",
       "    <tr>\n",
       "      <th>0</th>\n",
       "      <td>245833.530370</td>\n",
       "    </tr>\n",
       "    <tr>\n",
       "      <th>1</th>\n",
       "      <td>177005.407604</td>\n",
       "    </tr>\n",
       "    <tr>\n",
       "      <th>2</th>\n",
       "      <td>157849.007290</td>\n",
       "    </tr>\n",
       "    <tr>\n",
       "      <th>3</th>\n",
       "      <td>121387.453743</td>\n",
       "    </tr>\n",
       "    <tr>\n",
       "      <th>4</th>\n",
       "      <td>133282.874738</td>\n",
       "    </tr>\n",
       "    <tr>\n",
       "      <th>5</th>\n",
       "      <td>140509.789022</td>\n",
       "    </tr>\n",
       "    <tr>\n",
       "      <th>6</th>\n",
       "      <td>151012.193673</td>\n",
       "    </tr>\n",
       "    <tr>\n",
       "      <th>7</th>\n",
       "      <td>156176.879524</td>\n",
       "    </tr>\n",
       "    <tr>\n",
       "      <th>8</th>\n",
       "      <td>125671.442864</td>\n",
       "    </tr>\n",
       "    <tr>\n",
       "      <th>9</th>\n",
       "      <td>113131.041939</td>\n",
       "    </tr>\n",
       "    <tr>\n",
       "      <th>10</th>\n",
       "      <td>112727.516968</td>\n",
       "    </tr>\n",
       "    <tr>\n",
       "      <th>11</th>\n",
       "      <td>108630.835357</td>\n",
       "    </tr>\n",
       "    <tr>\n",
       "      <th>12</th>\n",
       "      <td>107488.734106</td>\n",
       "    </tr>\n",
       "    <tr>\n",
       "      <th>13</th>\n",
       "      <td>108148.127893</td>\n",
       "    </tr>\n",
       "    <tr>\n",
       "      <th>14</th>\n",
       "      <td>104252.384949</td>\n",
       "    </tr>\n",
       "    <tr>\n",
       "      <th>15</th>\n",
       "      <td>104231.976231</td>\n",
       "    </tr>\n",
       "    <tr>\n",
       "      <th>16</th>\n",
       "      <td>100542.613929</td>\n",
       "    </tr>\n",
       "    <tr>\n",
       "      <th>17</th>\n",
       "      <td>96597.652288</td>\n",
       "    </tr>\n",
       "    <tr>\n",
       "      <th>18</th>\n",
       "      <td>96362.263870</td>\n",
       "    </tr>\n",
       "    <tr>\n",
       "      <th>19</th>\n",
       "      <td>98652.735732</td>\n",
       "    </tr>\n",
       "    <tr>\n",
       "      <th>20</th>\n",
       "      <td>103045.181837</td>\n",
       "    </tr>\n",
       "    <tr>\n",
       "      <th>21</th>\n",
       "      <td>94469.584444</td>\n",
       "    </tr>\n",
       "    <tr>\n",
       "      <th>22</th>\n",
       "      <td>91330.425099</td>\n",
       "    </tr>\n",
       "    <tr>\n",
       "      <th>23</th>\n",
       "      <td>91828.517765</td>\n",
       "    </tr>\n",
       "    <tr>\n",
       "      <th>24</th>\n",
       "      <td>85736.904615</td>\n",
       "    </tr>\n",
       "    <tr>\n",
       "      <th>25</th>\n",
       "      <td>91531.371154</td>\n",
       "    </tr>\n",
       "    <tr>\n",
       "      <th>26</th>\n",
       "      <td>89285.877170</td>\n",
       "    </tr>\n",
       "    <tr>\n",
       "      <th>27</th>\n",
       "      <td>132115.710000</td>\n",
       "    </tr>\n",
       "    <tr>\n",
       "      <th>28</th>\n",
       "      <td>81161.914286</td>\n",
       "    </tr>\n",
       "    <tr>\n",
       "      <th>29</th>\n",
       "      <td>72953.365000</td>\n",
       "    </tr>\n",
       "  </tbody>\n",
       "</table>\n",
       "</div>"
      ],
      "text/plain": [
       "                  price_metr\n",
       "mean_price_km               \n",
       "0              245833.530370\n",
       "1              177005.407604\n",
       "2              157849.007290\n",
       "3              121387.453743\n",
       "4              133282.874738\n",
       "5              140509.789022\n",
       "6              151012.193673\n",
       "7              156176.879524\n",
       "8              125671.442864\n",
       "9              113131.041939\n",
       "10             112727.516968\n",
       "11             108630.835357\n",
       "12             107488.734106\n",
       "13             108148.127893\n",
       "14             104252.384949\n",
       "15             104231.976231\n",
       "16             100542.613929\n",
       "17              96597.652288\n",
       "18              96362.263870\n",
       "19              98652.735732\n",
       "20             103045.181837\n",
       "21              94469.584444\n",
       "22              91330.425099\n",
       "23              91828.517765\n",
       "24              85736.904615\n",
       "25              91531.371154\n",
       "26              89285.877170\n",
       "27             132115.710000\n",
       "28              81161.914286\n",
       "29              72953.365000"
      ]
     },
     "execution_count": 59,
     "metadata": {},
     "output_type": "execute_result"
    },
    {
     "data": {
      "image/png": "[encoded data removed]",
      "text/plain": [
       "<Figure size 432x288 with 1 Axes>"
      ]
     },
     "metadata": {
      "needs_background": "light"
     },
     "output_type": "display_data"
    }
   ],
   "source": [
    "spb_data = data.query('locality_name == \"Санкт-Петербург\"')\n",
    "spb_data = spb_data[spb_data['city_centers_km'].notna()]\n",
    "spb_data['mean_price_km'] = spb_data['city_centers_km'] / 1000\n",
    "spb_data['mean_price_km'] = spb_data['city_centers_km'].fillna(-1)\n",
    "spb_data['mean_price_km'] = spb_data['mean_price_km'].astype('int')\n",
    "pivot_spb_data = spb_data.pivot_table(index = 'mean_price_km', values = 'price_metr', aggfunc = 'mean')\n",
    "pivot_spb_data.plot()\n",
    "pivot_spb_data"
   ]
  },
  {
   "cell_type": "markdown",
   "metadata": {},
   "source": [
    "<div class=\"alert alert-success\"; style=\"border-left: 7px solid green\">\n",
    "<h5> ✔️ <font color=\"green\">Комментарий ревьюера (зеленый)</font></h5>\n",
    "\n",
    "Супер, корректно выделены квартиры в Санкт-Петербурге с помощью столбца `locality_name` и вычислена средняя цена каждого километра.\n",
    "\n",
    "</div>"
   ]
  },
  {
   "cell_type": "markdown",
   "metadata": {},
   "source": [
    "По графику видно, что при отдалении от центра, стоимость уменьшается, но встречаются объявления, которые стоят немало и на окраине Питера."
   ]
  },
  {
   "cell_type": "markdown",
   "metadata": {},
   "source": [
    "Рассмотрим изменение стоимости за квадратный метр в Питере с каждым годом, есть гипотеза, что значение будет увеличиваться"
   ]
  },
  {
   "cell_type": "code",
   "execution_count": 60,
   "metadata": {},
   "outputs": [
    {
     "data": {
      "text/plain": [
       "<AxesSubplot:xlabel='year'>"
      ]
     },
     "execution_count": 60,
     "metadata": {},
     "output_type": "execute_result"
    },
    {
     "data": {
      "image/png": "[encoded data removed]",
      "text/plain": [
       "<Figure size 432x288 with 1 Axes>"
      ]
     },
     "metadata": {
      "needs_background": "light"
     },
     "output_type": "display_data"
    }
   ],
   "source": [
    "data[data['locality_name'] == 'Санкт-Петербург'].pivot_table(index = 'year', values = 'price_metr', aggfunc = 'median').plot()"
   ]
  },
  {
   "cell_type": "markdown",
   "metadata": {},
   "source": [
    "По графику видно, что как и в случае с зависимостью `last_price` от `year` мы наблюдаем резкий спад, затем рост. Как я и говорил раннее, это может быть связано с возможным кризисом, а также с инфляцией"
   ]
  },
  {
   "cell_type": "markdown",
   "metadata": {},
   "source": [
    "### Общий вывод"
   ]
  },
  {
   "cell_type": "markdown",
   "metadata": {},
   "source": [
    "В данном проекте я исследовал данные об объявлениях о продаже квартир в Санкт-Петербурге и близлежащих населенных пунктах. Предварительно провел обработку данных, а именно: \n",
    "- Определил и устранил пропущенные значения там, где это возможно\n",
    "- Изменил тип данных там, где это было необходимо\n",
    "- Исследовал данные на аномалии, затем их устранил\n",
    "- Добавил несколько новых столбцов для более удобной работы с данными\n",
    "\n",
    "В данных были обнаружены пропуски по разным причинам, мне удалось избавиться от них, где это возможно. Также получилось удалить неявные дубликаты, а именно изменить \"посёлок\" на \"поселок\".\n",
    "Вот что я заметил при заполнеии пропусков:\n",
    "- Значения расстояния до ближайшего парка является пропущенным значением из-за того, что нет парков ближе 3км\n",
    "- В квартирах-студиях не указана площадь кухни, потому и появились пропуски\n",
    "- Не все квартиры имеют балконы, потому были получены пропуски\n",
    "- В столбце с высотой потолков были обнаружены аномальные значения, а именно слишком большие потолки, пришлось разделить на 10 потолки выше 20 метров, потолки от 8 до 20 - на 5, потолки от 6 до 8 - на 3\n",
    "\n",
    "Также для удобства и избежания аномальных значений, я взял некоторые столбцы по модулю, так как в данных колонках не может быть отрицательных значений, помимо этого я привел колонку `is_apartament` к типу Boolean, так как данный столбец имеет только 2 значения: да или нет\n",
    "Во время исследования я строил графики к величинам для выявления искомых зависимостей, затем подтверждал эту зависимость, либо опровергал. Я установил, что общая площадь квартиры тесно связана с общей стоимостью, а именно пропорциональна с некоторым коэффицентом - коэффицентом Пирсона. Также удалось выявить, что старые квартиры продаются куда дольше чем новостройки и в целом можно выделить следующие факты:\n",
    "- Квартиры на первом этаже имеют наименьшую стоимость по сравнению с другими этажами\n",
    "- С ростом количества комнат растет стоимость квартиры, но коэффицент незначительный, думаю это связано с тем, что есть квартиры, в которых может быть и 3 комнаты, но их общая площадь будет равна площади 2-ух комнатной квартиры\n",
    "- В 2014-ом году квартиры продавались по самой большой цене, скорее всего это связано с возможным кризисом или другими обстоятельствами, которые сходу тут не скажешь\n",
    "- С отдалением от центра Питера уменьшается стоимость за квадратный метр, это вполне очевидно\n",
    "- Среди всех населенных пунктов Питер имеет наибольшую стоимость за квадратный метр\n",
    "- Большинство квартир получилось продать менее чем за 200 дней, причем количество проданных за 100 дней тоже велико, будем счиать проданные < 100 дней квартиры быстрыми в продаже. С 200 до 500 дней средними, остальные - долгими\n",
    "- В случае с зависимостью `price_metr` от `year` мы наблюдаем резкий спад, затем рост. Как я и говорил раннее, это может быть связано с возможным кризисом, а также с инфляцией\n",
    "\n",
    "Самым выгодным временем для покупки квартиры был период с 2015 по 2018 год, тогда общая стоимость была наименьшей и цена за квадртаный метр. Также в ходе исследования цены за квадратный метр во всех населенных пунктах было замечено, что цена в городе Пушкин была почти такой же как в Питере. Скорее всего это связано с тем, что данный город является наиболее развитым среди всех других населенных пунктов, кроме Питера, либо в нем расположено что-то еще, что влияет на итогову стоимость, например множество парков и тп. Но если речь идет об инвестициях, то из-за небольшой разницы в стоимости между Питером, то я бы порекомендовал покупать квартиру в Питере "
   ]
  },
  {
   "cell_type": "markdown",
   "metadata": {},
   "source": [
    "<div class=\"alert alert-warning\"; style=\"border-left: 7px solid Gold\">\n",
    "<h5> ⚠️ <font color=\"DarkGoldenRod\">Комментарий ревьюера (желтый)</font></h5>\n",
    "\n",
    "Спасибо, очень хороший и подробный общий вывод, которые содержит все промежуточные результаты, добавлю несколько общих рекомендаций)\n",
    "    \n",
    "В общем выводе хочется тезисно видеть все промежуточные выводы с цифрами. Это очень важно, поскольку топ-менеджеры, в большинстве своем, смотрят сразу сюда и только сюда...\n",
    "\n",
    "Тут важно обратиться к целям, которые были озвучены в самом начале и ответить на все вопросы. Важно оформить все тезисно и с цифрами. Еще важно описать все промежуточные выводы, которых не прописано в целях.\n",
    "Вкратце структура такая:\n",
    "- как были предобработаны данные(тут важно написать про изменения, если заполнялись пропуски или преобразовывались строки)\n",
    "- пройдись по целям и ответь на вопросы\n",
    "- добавь промежуточные выводы, которые считаешь нужным отметить\n",
    "\n",
    "Еще очень важно помнить, для кого ты делаешь проект, в зависимости от этого нужно сделать определенные акценты. В данном случае проект учебный, поэтому нужно ориентироваться по описанию.\n",
    "\n",
    "Для красивого оформления можешь воспользоваться [Кратким руководством по Маркдауну](https://paulradzkov.com/2014/markdown_cheatsheet/).\n",
    "\n",
    "</div>"
   ]
  },
  {
   "cell_type": "markdown",
   "metadata": {},
   "source": [
    "**Чек-лист готовности проекта**\n",
    "\n",
    "Поставьте 'x' в выполненных пунктах. Далее нажмите Shift+Enter."
   ]
  },
  {
   "cell_type": "markdown",
   "metadata": {},
   "source": [
    "- [x]  открыт файл\n",
    "- [x]  файлы изучены (выведены первые строки, метод `info()`, гистограммы и т.д.)\n",
    "- [x]  определены пропущенные значения\n",
    "- [x]  заполнены пропущенные значения там, где это возможно\n",
    "- [x]  есть пояснение, какие пропущенные значения обнаружены\n",
    "- [x]  изменены типы данных\n",
    "- [x]  есть пояснение, в каких столбцах изменены типы и почему\n",
    "- [x]  устранены неявные дубликаты в названиях населённых пунктов\n",
    "- [x]  устранены редкие и выбивающиеся значения (аномалии) во всех столбцах\n",
    "- [x]  посчитано и добавлено в таблицу: цена одного квадратного метра\n",
    "- [x]  посчитано и добавлено в таблицу: день публикации объявления (0 - понедельник, 1 - вторник и т.д.)\n",
    "- [x]  посчитано и добавлено в таблицу: месяц публикации объявления\n",
    "- [x]  посчитано и добавлено в таблицу: год публикации объявления\n",
    "- [x]  посчитано и добавлено в таблицу: тип этажа квартиры (значения — «первый», «последний», «другой»)\n",
    "- [x]  посчитано и добавлено в таблицу: расстояние в км до центра города\n",
    "- [x]  изучены и описаны следующие параметры:\n",
    "        - общая площадь;\n",
    "        - жилая площадь;\n",
    "        - площадь кухни;\n",
    "        - цена объекта;\n",
    "        - количество комнат;\n",
    "        - высота потолков;\n",
    "        - этаж квартиры;\n",
    "        - тип этажа квартиры («первый», «последний», «другой»);\n",
    "        - общее количество этажей в доме;\n",
    "        - расстояние до центра города в метрах;\n",
    "        - расстояние до ближайшего аэропорта;\n",
    "        - расстояние до ближайшего парка;\n",
    "        - день и месяц публикации объявления\n",
    "- [x]  построены гистограммы для каждого параметра\n",
    "- [x]  выполнено задание: \"Изучите, как быстро продавались квартиры (столбец days_exposition). Этот параметр показывает, сколько дней «висело» каждое объявление.\n",
    "    - Постройте гистограмму.\n",
    "    - Посчитайте среднее и медиану.\n",
    "    - В ячейке типа markdown опишите, сколько обычно занимает продажа. Какие продажи можно считать быстрыми, а какие — необычно долгими?\"\n",
    "- [x]  выполнено задание: \"Какие факторы больше всего влияют на общую (полную) стоимость объекта? Постройте графики, которые покажут зависимость цены от указанных ниже параметров. Для подготовки данных перед визуализацией вы можете использовать сводные таблицы.\"\n",
    "        - общей площади;\n",
    "        - жилой площади;\n",
    "        - площади кухни;\n",
    "        - количество комнат;\n",
    "        - типа этажа, на котором расположена квартира (первый, последний, другой);\n",
    "        - даты размещения (день недели, месяц, год);\n",
    "- [x]  выполнено задание: \"Посчитайте среднюю цену одного квадратного метра в 10 населённых пунктах с наибольшим числом объявлений. Выделите населённые пункты с самой высокой и низкой стоимостью квадратного метра. Эти данные можно найти по имени в столбце `locality_name`.\"\n",
    "- [x]  выполнено задание: \"Ранее вы посчитали расстояние до центра в километрах. Теперь выделите квартиры в Санкт-Петербурге с помощью столбца `locality_name` и вычислите среднюю цену каждого километра. Опишите, как стоимость объектов зависит от расстояния до центра города.\"\n",
    "- [x]  в каждом этапе есть промежуточные выводы\n",
    "- [x]  есть общий вывод"
   ]
  },
  {
   "cell_type": "markdown",
   "metadata": {},
   "source": [
    "<div class=\"alert alert-success\"; style=\"border-left: 7px solid green\">\n",
    "<h5> ✔️ <font color=\"green\">Комментарий ревьюера (зеленый)</font></h5>\n",
    "\n",
    "Хорошо, что ты ведешь чек-лист, он помогает ничего не забыть!\n",
    "\n",
    "</div>"
   ]
  }
 ],
 "metadata": {
  "ExecuteTimeLog": [
   {
    "duration": 705,
    "start_time": "2023-11-02T10:48:51.736Z"
   },
   {
    "duration": 117,
    "start_time": "2023-11-02T10:48:52.443Z"
   },
   {
    "duration": 0,
    "start_time": "2023-11-02T10:48:52.563Z"
   },
   {
    "duration": 0,
    "start_time": "2023-11-02T10:48:52.564Z"
   },
   {
    "duration": 1,
    "start_time": "2023-11-02T10:48:52.565Z"
   },
   {
    "duration": 0,
    "start_time": "2023-11-02T10:48:52.567Z"
   },
   {
    "duration": 0,
    "start_time": "2023-11-02T10:48:52.568Z"
   },
   {
    "duration": 0,
    "start_time": "2023-11-02T10:48:52.568Z"
   },
   {
    "duration": 0,
    "start_time": "2023-11-02T10:48:52.569Z"
   },
   {
    "duration": 0,
    "start_time": "2023-11-02T10:48:52.570Z"
   },
   {
    "duration": 0,
    "start_time": "2023-11-02T10:48:52.571Z"
   },
   {
    "duration": 0,
    "start_time": "2023-11-02T10:48:52.572Z"
   },
   {
    "duration": 0,
    "start_time": "2023-11-02T10:48:52.573Z"
   },
   {
    "duration": 0,
    "start_time": "2023-11-02T10:48:52.574Z"
   },
   {
    "duration": 0,
    "start_time": "2023-11-02T10:48:52.575Z"
   },
   {
    "duration": 0,
    "start_time": "2023-11-02T10:48:52.576Z"
   },
   {
    "duration": 0,
    "start_time": "2023-11-02T10:48:52.577Z"
   },
   {
    "duration": 0,
    "start_time": "2023-11-02T10:48:52.578Z"
   },
   {
    "duration": 0,
    "start_time": "2023-11-02T10:48:52.579Z"
   },
   {
    "duration": 0,
    "start_time": "2023-11-02T10:48:52.580Z"
   },
   {
    "duration": 0,
    "start_time": "2023-11-02T10:48:52.581Z"
   },
   {
    "duration": 0,
    "start_time": "2023-11-02T10:48:52.582Z"
   },
   {
    "duration": 0,
    "start_time": "2023-11-02T10:48:52.583Z"
   },
   {
    "duration": 0,
    "start_time": "2023-11-02T10:48:52.584Z"
   },
   {
    "duration": 0,
    "start_time": "2023-11-02T10:48:52.585Z"
   },
   {
    "duration": 0,
    "start_time": "2023-11-02T10:48:52.586Z"
   },
   {
    "duration": 0,
    "start_time": "2023-11-02T10:48:52.587Z"
   },
   {
    "duration": 0,
    "start_time": "2023-11-02T10:48:52.588Z"
   },
   {
    "duration": 0,
    "start_time": "2023-11-02T10:48:52.589Z"
   },
   {
    "duration": 0,
    "start_time": "2023-11-02T10:48:52.590Z"
   },
   {
    "duration": 0,
    "start_time": "2023-11-02T10:48:52.591Z"
   },
   {
    "duration": 0,
    "start_time": "2023-11-02T10:48:52.593Z"
   },
   {
    "duration": 0,
    "start_time": "2023-11-02T10:48:52.594Z"
   },
   {
    "duration": 0,
    "start_time": "2023-11-02T10:48:52.647Z"
   },
   {
    "duration": 0,
    "start_time": "2023-11-02T10:48:52.648Z"
   },
   {
    "duration": 0,
    "start_time": "2023-11-02T10:48:52.649Z"
   },
   {
    "duration": 0,
    "start_time": "2023-11-02T10:48:52.650Z"
   },
   {
    "duration": 0,
    "start_time": "2023-11-02T10:48:52.651Z"
   },
   {
    "duration": 0,
    "start_time": "2023-11-02T10:48:52.653Z"
   },
   {
    "duration": 0,
    "start_time": "2023-11-02T10:48:52.654Z"
   },
   {
    "duration": 0,
    "start_time": "2023-11-02T10:48:52.654Z"
   },
   {
    "duration": 0,
    "start_time": "2023-11-02T10:48:52.655Z"
   },
   {
    "duration": 0,
    "start_time": "2023-11-02T10:48:52.656Z"
   },
   {
    "duration": 0,
    "start_time": "2023-11-02T10:48:52.657Z"
   },
   {
    "duration": 0,
    "start_time": "2023-11-02T10:48:52.658Z"
   },
   {
    "duration": 0,
    "start_time": "2023-11-02T10:48:52.659Z"
   },
   {
    "duration": 0,
    "start_time": "2023-11-02T10:48:52.660Z"
   },
   {
    "duration": 0,
    "start_time": "2023-11-02T10:48:52.661Z"
   },
   {
    "duration": 0,
    "start_time": "2023-11-02T10:48:52.662Z"
   },
   {
    "duration": 0,
    "start_time": "2023-11-02T10:48:52.663Z"
   },
   {
    "duration": 0,
    "start_time": "2023-11-02T10:48:52.664Z"
   },
   {
    "duration": 0,
    "start_time": "2023-11-02T10:48:52.665Z"
   },
   {
    "duration": 0,
    "start_time": "2023-11-02T10:48:52.666Z"
   },
   {
    "duration": 0,
    "start_time": "2023-11-02T10:48:52.667Z"
   },
   {
    "duration": 0,
    "start_time": "2023-11-02T10:48:52.668Z"
   },
   {
    "duration": 0,
    "start_time": "2023-11-02T10:48:52.670Z"
   },
   {
    "duration": 0,
    "start_time": "2023-11-02T10:48:52.671Z"
   },
   {
    "duration": 0,
    "start_time": "2023-11-02T10:48:52.672Z"
   },
   {
    "duration": 1,
    "start_time": "2023-11-02T10:48:52.672Z"
   },
   {
    "duration": 0,
    "start_time": "2023-11-02T10:48:52.673Z"
   },
   {
    "duration": 657,
    "start_time": "2023-11-02T10:50:21.275Z"
   },
   {
    "duration": 119,
    "start_time": "2023-11-02T10:50:21.934Z"
   },
   {
    "duration": 0,
    "start_time": "2023-11-02T10:50:22.056Z"
   },
   {
    "duration": 0,
    "start_time": "2023-11-02T10:50:22.057Z"
   },
   {
    "duration": 0,
    "start_time": "2023-11-02T10:50:22.058Z"
   },
   {
    "duration": 0,
    "start_time": "2023-11-02T10:50:22.059Z"
   },
   {
    "duration": 0,
    "start_time": "2023-11-02T10:50:22.060Z"
   },
   {
    "duration": 0,
    "start_time": "2023-11-02T10:50:22.061Z"
   },
   {
    "duration": 0,
    "start_time": "2023-11-02T10:50:22.062Z"
   },
   {
    "duration": 0,
    "start_time": "2023-11-02T10:50:22.064Z"
   },
   {
    "duration": 0,
    "start_time": "2023-11-02T10:50:22.065Z"
   },
   {
    "duration": 0,
    "start_time": "2023-11-02T10:50:22.066Z"
   },
   {
    "duration": 0,
    "start_time": "2023-11-02T10:50:22.067Z"
   },
   {
    "duration": 0,
    "start_time": "2023-11-02T10:50:22.068Z"
   },
   {
    "duration": 0,
    "start_time": "2023-11-02T10:50:22.069Z"
   },
   {
    "duration": 0,
    "start_time": "2023-11-02T10:50:22.070Z"
   },
   {
    "duration": 0,
    "start_time": "2023-11-02T10:50:22.071Z"
   },
   {
    "duration": 0,
    "start_time": "2023-11-02T10:50:22.072Z"
   },
   {
    "duration": 0,
    "start_time": "2023-11-02T10:50:22.073Z"
   },
   {
    "duration": 0,
    "start_time": "2023-11-02T10:50:22.074Z"
   },
   {
    "duration": 0,
    "start_time": "2023-11-02T10:50:22.075Z"
   },
   {
    "duration": 0,
    "start_time": "2023-11-02T10:50:22.076Z"
   },
   {
    "duration": 0,
    "start_time": "2023-11-02T10:50:22.078Z"
   },
   {
    "duration": 0,
    "start_time": "2023-11-02T10:50:22.079Z"
   },
   {
    "duration": 0,
    "start_time": "2023-11-02T10:50:22.080Z"
   },
   {
    "duration": 0,
    "start_time": "2023-11-02T10:50:22.081Z"
   },
   {
    "duration": 0,
    "start_time": "2023-11-02T10:50:22.082Z"
   },
   {
    "duration": 0,
    "start_time": "2023-11-02T10:50:22.083Z"
   },
   {
    "duration": 0,
    "start_time": "2023-11-02T10:50:22.084Z"
   },
   {
    "duration": 0,
    "start_time": "2023-11-02T10:50:22.085Z"
   },
   {
    "duration": 0,
    "start_time": "2023-11-02T10:50:22.086Z"
   },
   {
    "duration": 0,
    "start_time": "2023-11-02T10:50:22.087Z"
   },
   {
    "duration": 0,
    "start_time": "2023-11-02T10:50:22.088Z"
   },
   {
    "duration": 0,
    "start_time": "2023-11-02T10:50:22.089Z"
   },
   {
    "duration": 0,
    "start_time": "2023-11-02T10:50:22.090Z"
   },
   {
    "duration": 0,
    "start_time": "2023-11-02T10:50:22.091Z"
   },
   {
    "duration": 0,
    "start_time": "2023-11-02T10:50:22.092Z"
   },
   {
    "duration": 0,
    "start_time": "2023-11-02T10:50:22.147Z"
   },
   {
    "duration": 0,
    "start_time": "2023-11-02T10:50:22.148Z"
   },
   {
    "duration": 0,
    "start_time": "2023-11-02T10:50:22.149Z"
   },
   {
    "duration": 0,
    "start_time": "2023-11-02T10:50:22.150Z"
   },
   {
    "duration": 0,
    "start_time": "2023-11-02T10:50:22.151Z"
   },
   {
    "duration": 0,
    "start_time": "2023-11-02T10:50:22.152Z"
   },
   {
    "duration": 0,
    "start_time": "2023-11-02T10:50:22.153Z"
   },
   {
    "duration": 0,
    "start_time": "2023-11-02T10:50:22.154Z"
   },
   {
    "duration": 0,
    "start_time": "2023-11-02T10:50:22.156Z"
   },
   {
    "duration": 0,
    "start_time": "2023-11-02T10:50:22.157Z"
   },
   {
    "duration": 0,
    "start_time": "2023-11-02T10:50:22.158Z"
   },
   {
    "duration": 0,
    "start_time": "2023-11-02T10:50:22.159Z"
   },
   {
    "duration": 0,
    "start_time": "2023-11-02T10:50:22.160Z"
   },
   {
    "duration": 0,
    "start_time": "2023-11-02T10:50:22.161Z"
   },
   {
    "duration": 0,
    "start_time": "2023-11-02T10:50:22.162Z"
   },
   {
    "duration": 0,
    "start_time": "2023-11-02T10:50:22.163Z"
   },
   {
    "duration": 0,
    "start_time": "2023-11-02T10:50:22.164Z"
   },
   {
    "duration": 0,
    "start_time": "2023-11-02T10:50:22.165Z"
   },
   {
    "duration": 0,
    "start_time": "2023-11-02T10:50:22.167Z"
   },
   {
    "duration": 0,
    "start_time": "2023-11-02T10:50:22.167Z"
   },
   {
    "duration": 0,
    "start_time": "2023-11-02T10:50:22.168Z"
   },
   {
    "duration": 0,
    "start_time": "2023-11-02T10:50:22.170Z"
   },
   {
    "duration": 0,
    "start_time": "2023-11-02T10:50:22.171Z"
   },
   {
    "duration": 608,
    "start_time": "2023-11-02T22:59:54.289Z"
   },
   {
    "duration": 165,
    "start_time": "2023-11-02T22:59:54.899Z"
   },
   {
    "duration": 13,
    "start_time": "2023-11-02T22:59:55.066Z"
   },
   {
    "duration": 1832,
    "start_time": "2023-11-02T22:59:55.081Z"
   },
   {
    "duration": 1785,
    "start_time": "2023-11-02T22:59:56.915Z"
   },
   {
    "duration": 7,
    "start_time": "2023-11-02T22:59:58.702Z"
   },
   {
    "duration": 5,
    "start_time": "2023-11-02T22:59:58.710Z"
   },
   {
    "duration": 9,
    "start_time": "2023-11-02T22:59:58.715Z"
   },
   {
    "duration": 29,
    "start_time": "2023-11-02T22:59:58.748Z"
   },
   {
    "duration": 4,
    "start_time": "2023-11-02T22:59:58.779Z"
   },
   {
    "duration": 7,
    "start_time": "2023-11-02T22:59:58.785Z"
   },
   {
    "duration": 6,
    "start_time": "2023-11-02T22:59:58.794Z"
   },
   {
    "duration": 11,
    "start_time": "2023-11-02T22:59:58.801Z"
   },
   {
    "duration": 24,
    "start_time": "2023-11-02T22:59:58.814Z"
   },
   {
    "duration": 16,
    "start_time": "2023-11-02T22:59:58.848Z"
   },
   {
    "duration": 3,
    "start_time": "2023-11-02T22:59:58.868Z"
   },
   {
    "duration": 9,
    "start_time": "2023-11-02T22:59:58.872Z"
   },
   {
    "duration": 32,
    "start_time": "2023-11-02T22:59:58.882Z"
   },
   {
    "duration": 11,
    "start_time": "2023-11-02T22:59:58.915Z"
   },
   {
    "duration": 1021,
    "start_time": "2023-11-02T22:59:58.927Z"
   },
   {
    "duration": 19,
    "start_time": "2023-11-02T22:59:59.949Z"
   },
   {
    "duration": 13,
    "start_time": "2023-11-02T22:59:59.969Z"
   },
   {
    "duration": 12,
    "start_time": "2023-11-02T22:59:59.983Z"
   },
   {
    "duration": 32,
    "start_time": "2023-11-02T22:59:59.996Z"
   },
   {
    "duration": 32,
    "start_time": "2023-11-02T23:00:00.029Z"
   },
   {
    "duration": 453,
    "start_time": "2023-11-02T23:00:00.062Z"
   },
   {
    "duration": 52,
    "start_time": "2023-11-02T23:00:00.517Z"
   },
   {
    "duration": 281,
    "start_time": "2023-11-02T23:00:00.571Z"
   },
   {
    "duration": 28,
    "start_time": "2023-11-02T23:00:00.853Z"
   },
   {
    "duration": 240,
    "start_time": "2023-11-02T23:00:00.883Z"
   },
   {
    "duration": 280,
    "start_time": "2023-11-02T23:00:01.125Z"
   },
   {
    "duration": 360,
    "start_time": "2023-11-02T23:00:01.406Z"
   },
   {
    "duration": 142,
    "start_time": "2023-11-02T23:00:01.767Z"
   },
   {
    "duration": 251,
    "start_time": "2023-11-02T23:00:01.910Z"
   },
   {
    "duration": 64,
    "start_time": "2023-11-02T23:00:02.162Z"
   },
   {
    "duration": 160,
    "start_time": "2023-11-02T23:00:02.227Z"
   },
   {
    "duration": 81,
    "start_time": "2023-11-02T23:00:02.389Z"
   },
   {
    "duration": 197,
    "start_time": "2023-11-02T23:00:02.472Z"
   },
   {
    "duration": 154,
    "start_time": "2023-11-02T23:00:02.670Z"
   },
   {
    "duration": 516,
    "start_time": "2023-11-02T23:00:02.825Z"
   },
   {
    "duration": 585,
    "start_time": "2023-11-02T23:00:03.345Z"
   },
   {
    "duration": 135,
    "start_time": "2023-11-02T23:00:03.932Z"
   },
   {
    "duration": 192,
    "start_time": "2023-11-02T23:00:04.068Z"
   },
   {
    "duration": 235,
    "start_time": "2023-11-02T23:00:04.262Z"
   },
   {
    "duration": 279,
    "start_time": "2023-11-02T23:00:04.498Z"
   },
   {
    "duration": 266,
    "start_time": "2023-11-02T23:00:04.779Z"
   },
   {
    "duration": 204,
    "start_time": "2023-11-02T23:00:05.057Z"
   },
   {
    "duration": 198,
    "start_time": "2023-11-02T23:00:05.262Z"
   },
   {
    "duration": 224,
    "start_time": "2023-11-02T23:00:05.465Z"
   },
   {
    "duration": 659,
    "start_time": "2023-11-02T23:00:05.690Z"
   },
   {
    "duration": 345,
    "start_time": "2023-11-02T23:00:06.351Z"
   },
   {
    "duration": 318,
    "start_time": "2023-11-02T23:00:06.697Z"
   },
   {
    "duration": 644,
    "start_time": "2023-11-02T23:00:07.017Z"
   },
   {
    "duration": 323,
    "start_time": "2023-11-02T23:00:07.665Z"
   },
   {
    "duration": 174,
    "start_time": "2023-11-02T23:00:07.989Z"
   },
   {
    "duration": 520,
    "start_time": "2023-11-02T23:00:08.164Z"
   },
   {
    "duration": 13,
    "start_time": "2023-11-02T23:00:08.686Z"
   },
   {
    "duration": 199,
    "start_time": "2023-11-02T23:00:08.701Z"
   },
   {
    "duration": 172,
    "start_time": "2023-11-02T23:00:08.902Z"
   },
   {
    "duration": 141,
    "start_time": "2023-11-02T23:00:09.076Z"
   }
  ],
  "kernelspec": {
   "display_name": "Python 3 (ipykernel)",
   "language": "python",
   "name": "python3"
  },
  "language_info": {
   "codemirror_mode": {
    "name": "ipython",
    "version": 3
   },
   "file_extension": ".py",
   "mimetype": "text/x-python",
   "name": "python",
   "nbconvert_exporter": "python",
   "pygments_lexer": "ipython3",
   "version": "3.9.5"
  },
  "toc": {
   "base_numbering": 1,
   "nav_menu": {},
   "number_sections": true,
   "sideBar": true,
   "skip_h1_title": true,
   "title_cell": "Table of Contents",
   "title_sidebar": "Contents",
   "toc_cell": false,
   "toc_position": {},
   "toc_section_display": true,
   "toc_window_display": true
  }
 },
 "nbformat": 4,
 "nbformat_minor": 4
}
